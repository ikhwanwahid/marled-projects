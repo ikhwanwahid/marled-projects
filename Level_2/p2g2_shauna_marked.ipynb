{
 "cells": [
  {
   "cell_type": "code",
   "execution_count": 2,
   "metadata": {},
   "outputs": [],
   "source": [
    "import numpy as np\n",
    "import pandas as pd\n",
    "import matplotlib.pyplot as plt\n",
    "import seaborn as sns\n",
    "\n",
    "from sklearn.linear_model import LinearRegression\n",
    "from sklearn.model_selection import train_test_split, cross_val_score\n",
    "import statsmodels.api as sm\n",
    "from sklearn.metrics import r2_score\n",
    "from sklearn.preprocessing import StandardScaler\n",
    "\n",
    "%config InlineBackend.figure_format = 'retina'\n",
    "%matplotlib inline"
   ]
  },
  {
   "cell_type": "markdown",
   "metadata": {},
   "source": [
    "### Data Import and Cleansing"
   ]
  },
  {
   "cell_type": "code",
   "execution_count": 3,
   "metadata": {},
   "outputs": [],
   "source": [
    "train = pd.read_csv('train.csv') ### It's in the same directory as the notebook file so ./datasets/train.csv isn't needed\n",
    "test = pd.read_csv('test.csv')   ### This too. "
   ]
  },
  {
   "cell_type": "code",
   "execution_count": 4,
   "metadata": {},
   "outputs": [
    {
     "name": "stdout",
     "output_type": "stream",
     "text": [
      "<class 'pandas.core.frame.DataFrame'>\n",
      "RangeIndex: 2051 entries, 0 to 2050\n",
      "Data columns (total 81 columns):\n",
      "Id                 2051 non-null int64\n",
      "PID                2051 non-null int64\n",
      "MS SubClass        2051 non-null int64\n",
      "MS Zoning          2051 non-null object\n",
      "Lot Frontage       1721 non-null float64\n",
      "Lot Area           2051 non-null int64\n",
      "Street             2051 non-null object\n",
      "Alley              140 non-null object\n",
      "Lot Shape          2051 non-null object\n",
      "Land Contour       2051 non-null object\n",
      "Utilities          2051 non-null object\n",
      "Lot Config         2051 non-null object\n",
      "Land Slope         2051 non-null object\n",
      "Neighborhood       2051 non-null object\n",
      "Condition 1        2051 non-null object\n",
      "Condition 2        2051 non-null object\n",
      "Bldg Type          2051 non-null object\n",
      "House Style        2051 non-null object\n",
      "Overall Qual       2051 non-null int64\n",
      "Overall Cond       2051 non-null int64\n",
      "Year Built         2051 non-null int64\n",
      "Year Remod/Add     2051 non-null int64\n",
      "Roof Style         2051 non-null object\n",
      "Roof Matl          2051 non-null object\n",
      "Exterior 1st       2051 non-null object\n",
      "Exterior 2nd       2051 non-null object\n",
      "Mas Vnr Type       2029 non-null object\n",
      "Mas Vnr Area       2029 non-null float64\n",
      "Exter Qual         2051 non-null object\n",
      "Exter Cond         2051 non-null object\n",
      "Foundation         2051 non-null object\n",
      "Bsmt Qual          1996 non-null object\n",
      "Bsmt Cond          1996 non-null object\n",
      "Bsmt Exposure      1993 non-null object\n",
      "BsmtFin Type 1     1996 non-null object\n",
      "BsmtFin SF 1       2050 non-null float64\n",
      "BsmtFin Type 2     1995 non-null object\n",
      "BsmtFin SF 2       2050 non-null float64\n",
      "Bsmt Unf SF        2050 non-null float64\n",
      "Total Bsmt SF      2050 non-null float64\n",
      "Heating            2051 non-null object\n",
      "Heating QC         2051 non-null object\n",
      "Central Air        2051 non-null object\n",
      "Electrical         2051 non-null object\n",
      "1st Flr SF         2051 non-null int64\n",
      "2nd Flr SF         2051 non-null int64\n",
      "Low Qual Fin SF    2051 non-null int64\n",
      "Gr Liv Area        2051 non-null int64\n",
      "Bsmt Full Bath     2049 non-null float64\n",
      "Bsmt Half Bath     2049 non-null float64\n",
      "Full Bath          2051 non-null int64\n",
      "Half Bath          2051 non-null int64\n",
      "Bedroom AbvGr      2051 non-null int64\n",
      "Kitchen AbvGr      2051 non-null int64\n",
      "Kitchen Qual       2051 non-null object\n",
      "TotRms AbvGrd      2051 non-null int64\n",
      "Functional         2051 non-null object\n",
      "Fireplaces         2051 non-null int64\n",
      "Fireplace Qu       1051 non-null object\n",
      "Garage Type        1938 non-null object\n",
      "Garage Yr Blt      1937 non-null float64\n",
      "Garage Finish      1937 non-null object\n",
      "Garage Cars        2050 non-null float64\n",
      "Garage Area        2050 non-null float64\n",
      "Garage Qual        1937 non-null object\n",
      "Garage Cond        1937 non-null object\n",
      "Paved Drive        2051 non-null object\n",
      "Wood Deck SF       2051 non-null int64\n",
      "Open Porch SF      2051 non-null int64\n",
      "Enclosed Porch     2051 non-null int64\n",
      "3Ssn Porch         2051 non-null int64\n",
      "Screen Porch       2051 non-null int64\n",
      "Pool Area          2051 non-null int64\n",
      "Pool QC            9 non-null object\n",
      "Fence              400 non-null object\n",
      "Misc Feature       65 non-null object\n",
      "Misc Val           2051 non-null int64\n",
      "Mo Sold            2051 non-null int64\n",
      "Yr Sold            2051 non-null int64\n",
      "Sale Type          2051 non-null object\n",
      "SalePrice          2051 non-null int64\n",
      "dtypes: float64(11), int64(28), object(42)\n",
      "memory usage: 1.3+ MB\n"
     ]
    }
   ],
   "source": [
    "train.info()"
   ]
  },
  {
   "cell_type": "code",
   "execution_count": 5,
   "metadata": {},
   "outputs": [
    {
     "data": {
      "text/plain": [
       "Id                0\n",
       "PID               0\n",
       "MS SubClass       0\n",
       "MS Zoning         0\n",
       "Lot Frontage    330\n",
       "               ... \n",
       "Misc Val          0\n",
       "Mo Sold           0\n",
       "Yr Sold           0\n",
       "Sale Type         0\n",
       "SalePrice         0\n",
       "Length: 81, dtype: int64"
      ]
     },
     "execution_count": 5,
     "metadata": {},
     "output_type": "execute_result"
    }
   ],
   "source": [
    "train.isnull().sum()"
   ]
  },
  {
   "cell_type": "code",
   "execution_count": 6,
   "metadata": {
    "scrolled": true
   },
   "outputs": [
    {
     "data": {
      "text/html": [
       "<div>\n",
       "<style scoped>\n",
       "    .dataframe tbody tr th:only-of-type {\n",
       "        vertical-align: middle;\n",
       "    }\n",
       "\n",
       "    .dataframe tbody tr th {\n",
       "        vertical-align: top;\n",
       "    }\n",
       "\n",
       "    .dataframe thead th {\n",
       "        text-align: right;\n",
       "    }\n",
       "</style>\n",
       "<table border=\"1\" class=\"dataframe\">\n",
       "  <thead>\n",
       "    <tr style=\"text-align: right;\">\n",
       "      <th></th>\n",
       "      <th>Id</th>\n",
       "      <th>PID</th>\n",
       "      <th>MS SubClass</th>\n",
       "      <th>MS Zoning</th>\n",
       "      <th>Lot Frontage</th>\n",
       "      <th>Lot Area</th>\n",
       "      <th>Street</th>\n",
       "      <th>Alley</th>\n",
       "      <th>Lot Shape</th>\n",
       "      <th>Land Contour</th>\n",
       "      <th>...</th>\n",
       "      <th>Screen Porch</th>\n",
       "      <th>Pool Area</th>\n",
       "      <th>Pool QC</th>\n",
       "      <th>Fence</th>\n",
       "      <th>Misc Feature</th>\n",
       "      <th>Misc Val</th>\n",
       "      <th>Mo Sold</th>\n",
       "      <th>Yr Sold</th>\n",
       "      <th>Sale Type</th>\n",
       "      <th>SalePrice</th>\n",
       "    </tr>\n",
       "  </thead>\n",
       "  <tbody>\n",
       "    <tr>\n",
       "      <th>0</th>\n",
       "      <td>109</td>\n",
       "      <td>533352170</td>\n",
       "      <td>60</td>\n",
       "      <td>RL</td>\n",
       "      <td>NaN</td>\n",
       "      <td>13517</td>\n",
       "      <td>Pave</td>\n",
       "      <td>NaN</td>\n",
       "      <td>IR1</td>\n",
       "      <td>Lvl</td>\n",
       "      <td>...</td>\n",
       "      <td>0</td>\n",
       "      <td>0</td>\n",
       "      <td>NaN</td>\n",
       "      <td>NaN</td>\n",
       "      <td>NaN</td>\n",
       "      <td>0</td>\n",
       "      <td>3</td>\n",
       "      <td>2010</td>\n",
       "      <td>WD</td>\n",
       "      <td>130500</td>\n",
       "    </tr>\n",
       "    <tr>\n",
       "      <th>1</th>\n",
       "      <td>544</td>\n",
       "      <td>531379050</td>\n",
       "      <td>60</td>\n",
       "      <td>RL</td>\n",
       "      <td>43.0</td>\n",
       "      <td>11492</td>\n",
       "      <td>Pave</td>\n",
       "      <td>NaN</td>\n",
       "      <td>IR1</td>\n",
       "      <td>Lvl</td>\n",
       "      <td>...</td>\n",
       "      <td>0</td>\n",
       "      <td>0</td>\n",
       "      <td>NaN</td>\n",
       "      <td>NaN</td>\n",
       "      <td>NaN</td>\n",
       "      <td>0</td>\n",
       "      <td>4</td>\n",
       "      <td>2009</td>\n",
       "      <td>WD</td>\n",
       "      <td>220000</td>\n",
       "    </tr>\n",
       "    <tr>\n",
       "      <th>2</th>\n",
       "      <td>153</td>\n",
       "      <td>535304180</td>\n",
       "      <td>20</td>\n",
       "      <td>RL</td>\n",
       "      <td>68.0</td>\n",
       "      <td>7922</td>\n",
       "      <td>Pave</td>\n",
       "      <td>NaN</td>\n",
       "      <td>Reg</td>\n",
       "      <td>Lvl</td>\n",
       "      <td>...</td>\n",
       "      <td>0</td>\n",
       "      <td>0</td>\n",
       "      <td>NaN</td>\n",
       "      <td>NaN</td>\n",
       "      <td>NaN</td>\n",
       "      <td>0</td>\n",
       "      <td>1</td>\n",
       "      <td>2010</td>\n",
       "      <td>WD</td>\n",
       "      <td>109000</td>\n",
       "    </tr>\n",
       "    <tr>\n",
       "      <th>3</th>\n",
       "      <td>318</td>\n",
       "      <td>916386060</td>\n",
       "      <td>60</td>\n",
       "      <td>RL</td>\n",
       "      <td>73.0</td>\n",
       "      <td>9802</td>\n",
       "      <td>Pave</td>\n",
       "      <td>NaN</td>\n",
       "      <td>Reg</td>\n",
       "      <td>Lvl</td>\n",
       "      <td>...</td>\n",
       "      <td>0</td>\n",
       "      <td>0</td>\n",
       "      <td>NaN</td>\n",
       "      <td>NaN</td>\n",
       "      <td>NaN</td>\n",
       "      <td>0</td>\n",
       "      <td>4</td>\n",
       "      <td>2010</td>\n",
       "      <td>WD</td>\n",
       "      <td>174000</td>\n",
       "    </tr>\n",
       "    <tr>\n",
       "      <th>4</th>\n",
       "      <td>255</td>\n",
       "      <td>906425045</td>\n",
       "      <td>50</td>\n",
       "      <td>RL</td>\n",
       "      <td>82.0</td>\n",
       "      <td>14235</td>\n",
       "      <td>Pave</td>\n",
       "      <td>NaN</td>\n",
       "      <td>IR1</td>\n",
       "      <td>Lvl</td>\n",
       "      <td>...</td>\n",
       "      <td>0</td>\n",
       "      <td>0</td>\n",
       "      <td>NaN</td>\n",
       "      <td>NaN</td>\n",
       "      <td>NaN</td>\n",
       "      <td>0</td>\n",
       "      <td>3</td>\n",
       "      <td>2010</td>\n",
       "      <td>WD</td>\n",
       "      <td>138500</td>\n",
       "    </tr>\n",
       "  </tbody>\n",
       "</table>\n",
       "<p>5 rows × 81 columns</p>\n",
       "</div>"
      ],
      "text/plain": [
       "    Id        PID  MS SubClass MS Zoning  Lot Frontage  Lot Area Street Alley  \\\n",
       "0  109  533352170           60        RL           NaN     13517   Pave   NaN   \n",
       "1  544  531379050           60        RL          43.0     11492   Pave   NaN   \n",
       "2  153  535304180           20        RL          68.0      7922   Pave   NaN   \n",
       "3  318  916386060           60        RL          73.0      9802   Pave   NaN   \n",
       "4  255  906425045           50        RL          82.0     14235   Pave   NaN   \n",
       "\n",
       "  Lot Shape Land Contour  ... Screen Porch Pool Area Pool QC Fence  \\\n",
       "0       IR1          Lvl  ...            0         0     NaN   NaN   \n",
       "1       IR1          Lvl  ...            0         0     NaN   NaN   \n",
       "2       Reg          Lvl  ...            0         0     NaN   NaN   \n",
       "3       Reg          Lvl  ...            0         0     NaN   NaN   \n",
       "4       IR1          Lvl  ...            0         0     NaN   NaN   \n",
       "\n",
       "  Misc Feature Misc Val Mo Sold Yr Sold  Sale Type  SalePrice  \n",
       "0          NaN        0       3    2010        WD      130500  \n",
       "1          NaN        0       4    2009        WD      220000  \n",
       "2          NaN        0       1    2010        WD      109000  \n",
       "3          NaN        0       4    2010        WD      174000  \n",
       "4          NaN        0       3    2010        WD      138500  \n",
       "\n",
       "[5 rows x 81 columns]"
      ]
     },
     "execution_count": 6,
     "metadata": {},
     "output_type": "execute_result"
    }
   ],
   "source": [
    "train.head(5)"
   ]
  },
  {
   "cell_type": "code",
   "execution_count": 7,
   "metadata": {},
   "outputs": [
    {
     "name": "stdout",
     "output_type": "stream",
     "text": [
      "<class 'pandas.core.frame.DataFrame'>\n",
      "RangeIndex: 879 entries, 0 to 878\n",
      "Data columns (total 80 columns):\n",
      "Id                 879 non-null int64\n",
      "PID                879 non-null int64\n",
      "MS SubClass        879 non-null int64\n",
      "MS Zoning          879 non-null object\n",
      "Lot Frontage       719 non-null float64\n",
      "Lot Area           879 non-null int64\n",
      "Street             879 non-null object\n",
      "Alley              58 non-null object\n",
      "Lot Shape          879 non-null object\n",
      "Land Contour       879 non-null object\n",
      "Utilities          879 non-null object\n",
      "Lot Config         879 non-null object\n",
      "Land Slope         879 non-null object\n",
      "Neighborhood       879 non-null object\n",
      "Condition 1        879 non-null object\n",
      "Condition 2        879 non-null object\n",
      "Bldg Type          879 non-null object\n",
      "House Style        879 non-null object\n",
      "Overall Qual       879 non-null int64\n",
      "Overall Cond       879 non-null int64\n",
      "Year Built         879 non-null int64\n",
      "Year Remod/Add     879 non-null int64\n",
      "Roof Style         879 non-null object\n",
      "Roof Matl          879 non-null object\n",
      "Exterior 1st       879 non-null object\n",
      "Exterior 2nd       879 non-null object\n",
      "Mas Vnr Type       878 non-null object\n",
      "Mas Vnr Area       878 non-null float64\n",
      "Exter Qual         879 non-null object\n",
      "Exter Cond         879 non-null object\n",
      "Foundation         879 non-null object\n",
      "Bsmt Qual          854 non-null object\n",
      "Bsmt Cond          854 non-null object\n",
      "Bsmt Exposure      854 non-null object\n",
      "BsmtFin Type 1     854 non-null object\n",
      "BsmtFin SF 1       879 non-null int64\n",
      "BsmtFin Type 2     854 non-null object\n",
      "BsmtFin SF 2       879 non-null int64\n",
      "Bsmt Unf SF        879 non-null int64\n",
      "Total Bsmt SF      879 non-null int64\n",
      "Heating            879 non-null object\n",
      "Heating QC         879 non-null object\n",
      "Central Air        879 non-null object\n",
      "Electrical         878 non-null object\n",
      "1st Flr SF         879 non-null int64\n",
      "2nd Flr SF         879 non-null int64\n",
      "Low Qual Fin SF    879 non-null int64\n",
      "Gr Liv Area        879 non-null int64\n",
      "Bsmt Full Bath     879 non-null int64\n",
      "Bsmt Half Bath     879 non-null int64\n",
      "Full Bath          879 non-null int64\n",
      "Half Bath          879 non-null int64\n",
      "Bedroom AbvGr      879 non-null int64\n",
      "Kitchen AbvGr      879 non-null int64\n",
      "Kitchen Qual       879 non-null object\n",
      "TotRms AbvGrd      879 non-null int64\n",
      "Functional         879 non-null object\n",
      "Fireplaces         879 non-null int64\n",
      "Fireplace Qu       457 non-null object\n",
      "Garage Type        835 non-null object\n",
      "Garage Yr Blt      834 non-null float64\n",
      "Garage Finish      834 non-null object\n",
      "Garage Cars        879 non-null int64\n",
      "Garage Area        879 non-null int64\n",
      "Garage Qual        834 non-null object\n",
      "Garage Cond        834 non-null object\n",
      "Paved Drive        879 non-null object\n",
      "Wood Deck SF       879 non-null int64\n",
      "Open Porch SF      879 non-null int64\n",
      "Enclosed Porch     879 non-null int64\n",
      "3Ssn Porch         879 non-null int64\n",
      "Screen Porch       879 non-null int64\n",
      "Pool Area          879 non-null int64\n",
      "Pool QC            4 non-null object\n",
      "Fence              172 non-null object\n",
      "Misc Feature       41 non-null object\n",
      "Misc Val           879 non-null int64\n",
      "Mo Sold            879 non-null int64\n",
      "Yr Sold            879 non-null int64\n",
      "Sale Type          879 non-null object\n",
      "dtypes: float64(3), int64(35), object(42)\n",
      "memory usage: 549.5+ KB\n"
     ]
    }
   ],
   "source": [
    "test.info()"
   ]
  },
  {
   "cell_type": "code",
   "execution_count": 8,
   "metadata": {},
   "outputs": [
    {
     "data": {
      "text/plain": [
       "Id                0\n",
       "PID               0\n",
       "MS SubClass       0\n",
       "MS Zoning         0\n",
       "Lot Frontage    160\n",
       "               ... \n",
       "Misc Feature    838\n",
       "Misc Val          0\n",
       "Mo Sold           0\n",
       "Yr Sold           0\n",
       "Sale Type         0\n",
       "Length: 80, dtype: int64"
      ]
     },
     "execution_count": 8,
     "metadata": {},
     "output_type": "execute_result"
    }
   ],
   "source": [
    "test.isnull().sum()"
   ]
  },
  {
   "cell_type": "code",
   "execution_count": 9,
   "metadata": {},
   "outputs": [
    {
     "data": {
      "text/html": [
       "<div>\n",
       "<style scoped>\n",
       "    .dataframe tbody tr th:only-of-type {\n",
       "        vertical-align: middle;\n",
       "    }\n",
       "\n",
       "    .dataframe tbody tr th {\n",
       "        vertical-align: top;\n",
       "    }\n",
       "\n",
       "    .dataframe thead th {\n",
       "        text-align: right;\n",
       "    }\n",
       "</style>\n",
       "<table border=\"1\" class=\"dataframe\">\n",
       "  <thead>\n",
       "    <tr style=\"text-align: right;\">\n",
       "      <th></th>\n",
       "      <th>Id</th>\n",
       "      <th>PID</th>\n",
       "      <th>MS SubClass</th>\n",
       "      <th>MS Zoning</th>\n",
       "      <th>Lot Frontage</th>\n",
       "      <th>Lot Area</th>\n",
       "      <th>Street</th>\n",
       "      <th>Alley</th>\n",
       "      <th>Lot Shape</th>\n",
       "      <th>Land Contour</th>\n",
       "      <th>...</th>\n",
       "      <th>3Ssn Porch</th>\n",
       "      <th>Screen Porch</th>\n",
       "      <th>Pool Area</th>\n",
       "      <th>Pool QC</th>\n",
       "      <th>Fence</th>\n",
       "      <th>Misc Feature</th>\n",
       "      <th>Misc Val</th>\n",
       "      <th>Mo Sold</th>\n",
       "      <th>Yr Sold</th>\n",
       "      <th>Sale Type</th>\n",
       "    </tr>\n",
       "  </thead>\n",
       "  <tbody>\n",
       "    <tr>\n",
       "      <th>0</th>\n",
       "      <td>2658</td>\n",
       "      <td>902301120</td>\n",
       "      <td>190</td>\n",
       "      <td>RM</td>\n",
       "      <td>69.0</td>\n",
       "      <td>9142</td>\n",
       "      <td>Pave</td>\n",
       "      <td>Grvl</td>\n",
       "      <td>Reg</td>\n",
       "      <td>Lvl</td>\n",
       "      <td>...</td>\n",
       "      <td>0</td>\n",
       "      <td>0</td>\n",
       "      <td>0</td>\n",
       "      <td>NaN</td>\n",
       "      <td>NaN</td>\n",
       "      <td>NaN</td>\n",
       "      <td>0</td>\n",
       "      <td>4</td>\n",
       "      <td>2006</td>\n",
       "      <td>WD</td>\n",
       "    </tr>\n",
       "    <tr>\n",
       "      <th>1</th>\n",
       "      <td>2718</td>\n",
       "      <td>905108090</td>\n",
       "      <td>90</td>\n",
       "      <td>RL</td>\n",
       "      <td>NaN</td>\n",
       "      <td>9662</td>\n",
       "      <td>Pave</td>\n",
       "      <td>NaN</td>\n",
       "      <td>IR1</td>\n",
       "      <td>Lvl</td>\n",
       "      <td>...</td>\n",
       "      <td>0</td>\n",
       "      <td>0</td>\n",
       "      <td>0</td>\n",
       "      <td>NaN</td>\n",
       "      <td>NaN</td>\n",
       "      <td>NaN</td>\n",
       "      <td>0</td>\n",
       "      <td>8</td>\n",
       "      <td>2006</td>\n",
       "      <td>WD</td>\n",
       "    </tr>\n",
       "    <tr>\n",
       "      <th>2</th>\n",
       "      <td>2414</td>\n",
       "      <td>528218130</td>\n",
       "      <td>60</td>\n",
       "      <td>RL</td>\n",
       "      <td>58.0</td>\n",
       "      <td>17104</td>\n",
       "      <td>Pave</td>\n",
       "      <td>NaN</td>\n",
       "      <td>IR1</td>\n",
       "      <td>Lvl</td>\n",
       "      <td>...</td>\n",
       "      <td>0</td>\n",
       "      <td>0</td>\n",
       "      <td>0</td>\n",
       "      <td>NaN</td>\n",
       "      <td>NaN</td>\n",
       "      <td>NaN</td>\n",
       "      <td>0</td>\n",
       "      <td>9</td>\n",
       "      <td>2006</td>\n",
       "      <td>New</td>\n",
       "    </tr>\n",
       "    <tr>\n",
       "      <th>3</th>\n",
       "      <td>1989</td>\n",
       "      <td>902207150</td>\n",
       "      <td>30</td>\n",
       "      <td>RM</td>\n",
       "      <td>60.0</td>\n",
       "      <td>8520</td>\n",
       "      <td>Pave</td>\n",
       "      <td>NaN</td>\n",
       "      <td>Reg</td>\n",
       "      <td>Lvl</td>\n",
       "      <td>...</td>\n",
       "      <td>0</td>\n",
       "      <td>0</td>\n",
       "      <td>0</td>\n",
       "      <td>NaN</td>\n",
       "      <td>NaN</td>\n",
       "      <td>NaN</td>\n",
       "      <td>0</td>\n",
       "      <td>7</td>\n",
       "      <td>2007</td>\n",
       "      <td>WD</td>\n",
       "    </tr>\n",
       "    <tr>\n",
       "      <th>4</th>\n",
       "      <td>625</td>\n",
       "      <td>535105100</td>\n",
       "      <td>20</td>\n",
       "      <td>RL</td>\n",
       "      <td>NaN</td>\n",
       "      <td>9500</td>\n",
       "      <td>Pave</td>\n",
       "      <td>NaN</td>\n",
       "      <td>IR1</td>\n",
       "      <td>Lvl</td>\n",
       "      <td>...</td>\n",
       "      <td>0</td>\n",
       "      <td>185</td>\n",
       "      <td>0</td>\n",
       "      <td>NaN</td>\n",
       "      <td>NaN</td>\n",
       "      <td>NaN</td>\n",
       "      <td>0</td>\n",
       "      <td>7</td>\n",
       "      <td>2009</td>\n",
       "      <td>WD</td>\n",
       "    </tr>\n",
       "  </tbody>\n",
       "</table>\n",
       "<p>5 rows × 80 columns</p>\n",
       "</div>"
      ],
      "text/plain": [
       "     Id        PID  MS SubClass MS Zoning  Lot Frontage  Lot Area Street  \\\n",
       "0  2658  902301120          190        RM          69.0      9142   Pave   \n",
       "1  2718  905108090           90        RL           NaN      9662   Pave   \n",
       "2  2414  528218130           60        RL          58.0     17104   Pave   \n",
       "3  1989  902207150           30        RM          60.0      8520   Pave   \n",
       "4   625  535105100           20        RL           NaN      9500   Pave   \n",
       "\n",
       "  Alley Lot Shape Land Contour  ... 3Ssn Porch Screen Porch Pool Area Pool QC  \\\n",
       "0  Grvl       Reg          Lvl  ...          0            0         0     NaN   \n",
       "1   NaN       IR1          Lvl  ...          0            0         0     NaN   \n",
       "2   NaN       IR1          Lvl  ...          0            0         0     NaN   \n",
       "3   NaN       Reg          Lvl  ...          0            0         0     NaN   \n",
       "4   NaN       IR1          Lvl  ...          0          185         0     NaN   \n",
       "\n",
       "  Fence Misc Feature Misc Val Mo Sold  Yr Sold  Sale Type  \n",
       "0   NaN          NaN        0       4     2006        WD   \n",
       "1   NaN          NaN        0       8     2006        WD   \n",
       "2   NaN          NaN        0       9     2006        New  \n",
       "3   NaN          NaN        0       7     2007        WD   \n",
       "4   NaN          NaN        0       7     2009        WD   \n",
       "\n",
       "[5 rows x 80 columns]"
      ]
     },
     "execution_count": 9,
     "metadata": {},
     "output_type": "execute_result"
    }
   ],
   "source": [
    "test.head(5)"
   ]
  },
  {
   "cell_type": "code",
   "execution_count": 10,
   "metadata": {},
   "outputs": [],
   "source": [
    "#Since ID, PID are not features, to be removed.\n",
    "#SalePrice is present in train dataset. Since it is a target variable, to be removed.\n",
    "\n",
    "pd_train = train.drop(['Id', 'PID'], axis = 1)\n",
    "pd_test = test.drop (['Id', 'PID'], axis = 1)"
   ]
  },
  {
   "cell_type": "code",
   "execution_count": 11,
   "metadata": {},
   "outputs": [
    {
     "data": {
      "text/plain": [
       "True"
      ]
     },
     "execution_count": 11,
     "metadata": {},
     "output_type": "execute_result"
    }
   ],
   "source": [
    "#Check is columns in pd_train are the same as pd_test\n",
    "list(pd_test.columns) == list(pd_train.drop('SalePrice', axis=1).columns)    ### Good"
   ]
  },
  {
   "cell_type": "code",
   "execution_count": 12,
   "metadata": {},
   "outputs": [
    {
     "data": {
      "text/plain": [
       "Pool QC         0.995612\n",
       "Misc Feature    0.968308\n",
       "Alley           0.931741\n",
       "Fence           0.804973\n",
       "Fireplace Qu    0.487567\n",
       "                  ...   \n",
       "1st Flr SF      0.000000\n",
       "Electrical      0.000000\n",
       "Central Air     0.000000\n",
       "Sale Type       0.000000\n",
       "MS SubClass     0.000000\n",
       "Length: 79, dtype: float64"
      ]
     },
     "execution_count": 12,
     "metadata": {},
     "output_type": "execute_result"
    }
   ],
   "source": [
    "# check percentage of null values in train dataset by column\n",
    "\n",
    "pd_train.isnull().mean().sort_values(ascending=False)"
   ]
  },
  {
   "cell_type": "code",
   "execution_count": 13,
   "metadata": {},
   "outputs": [],
   "source": [
    "#Remove features with excessively high number of NaN.\n",
    "pd_train.drop(['Pool QC', 'Misc Feature', 'Alley', 'Fence', 'Fireplace Qu'], axis = 1, inplace = True)"
   ]
  },
  {
   "cell_type": "code",
   "execution_count": 14,
   "metadata": {
    "scrolled": true
   },
   "outputs": [
    {
     "data": {
      "text/html": [
       "<div>\n",
       "<style scoped>\n",
       "    .dataframe tbody tr th:only-of-type {\n",
       "        vertical-align: middle;\n",
       "    }\n",
       "\n",
       "    .dataframe tbody tr th {\n",
       "        vertical-align: top;\n",
       "    }\n",
       "\n",
       "    .dataframe thead th {\n",
       "        text-align: right;\n",
       "    }\n",
       "</style>\n",
       "<table border=\"1\" class=\"dataframe\">\n",
       "  <thead>\n",
       "    <tr style=\"text-align: right;\">\n",
       "      <th></th>\n",
       "      <th>MS SubClass</th>\n",
       "      <th>MS Zoning</th>\n",
       "      <th>Lot Frontage</th>\n",
       "      <th>Lot Area</th>\n",
       "      <th>Street</th>\n",
       "      <th>Lot Shape</th>\n",
       "      <th>Land Contour</th>\n",
       "      <th>Utilities</th>\n",
       "      <th>Lot Config</th>\n",
       "      <th>Land Slope</th>\n",
       "      <th>...</th>\n",
       "      <th>Open Porch SF</th>\n",
       "      <th>Enclosed Porch</th>\n",
       "      <th>3Ssn Porch</th>\n",
       "      <th>Screen Porch</th>\n",
       "      <th>Pool Area</th>\n",
       "      <th>Misc Val</th>\n",
       "      <th>Mo Sold</th>\n",
       "      <th>Yr Sold</th>\n",
       "      <th>Sale Type</th>\n",
       "      <th>SalePrice</th>\n",
       "    </tr>\n",
       "  </thead>\n",
       "  <tbody>\n",
       "    <tr>\n",
       "      <th>0</th>\n",
       "      <td>60</td>\n",
       "      <td>RL</td>\n",
       "      <td>NaN</td>\n",
       "      <td>13517</td>\n",
       "      <td>Pave</td>\n",
       "      <td>IR1</td>\n",
       "      <td>Lvl</td>\n",
       "      <td>AllPub</td>\n",
       "      <td>CulDSac</td>\n",
       "      <td>Gtl</td>\n",
       "      <td>...</td>\n",
       "      <td>44</td>\n",
       "      <td>0</td>\n",
       "      <td>0</td>\n",
       "      <td>0</td>\n",
       "      <td>0</td>\n",
       "      <td>0</td>\n",
       "      <td>3</td>\n",
       "      <td>2010</td>\n",
       "      <td>WD</td>\n",
       "      <td>130500</td>\n",
       "    </tr>\n",
       "    <tr>\n",
       "      <th>1</th>\n",
       "      <td>60</td>\n",
       "      <td>RL</td>\n",
       "      <td>43.0</td>\n",
       "      <td>11492</td>\n",
       "      <td>Pave</td>\n",
       "      <td>IR1</td>\n",
       "      <td>Lvl</td>\n",
       "      <td>AllPub</td>\n",
       "      <td>CulDSac</td>\n",
       "      <td>Gtl</td>\n",
       "      <td>...</td>\n",
       "      <td>74</td>\n",
       "      <td>0</td>\n",
       "      <td>0</td>\n",
       "      <td>0</td>\n",
       "      <td>0</td>\n",
       "      <td>0</td>\n",
       "      <td>4</td>\n",
       "      <td>2009</td>\n",
       "      <td>WD</td>\n",
       "      <td>220000</td>\n",
       "    </tr>\n",
       "    <tr>\n",
       "      <th>2</th>\n",
       "      <td>20</td>\n",
       "      <td>RL</td>\n",
       "      <td>68.0</td>\n",
       "      <td>7922</td>\n",
       "      <td>Pave</td>\n",
       "      <td>Reg</td>\n",
       "      <td>Lvl</td>\n",
       "      <td>AllPub</td>\n",
       "      <td>Inside</td>\n",
       "      <td>Gtl</td>\n",
       "      <td>...</td>\n",
       "      <td>52</td>\n",
       "      <td>0</td>\n",
       "      <td>0</td>\n",
       "      <td>0</td>\n",
       "      <td>0</td>\n",
       "      <td>0</td>\n",
       "      <td>1</td>\n",
       "      <td>2010</td>\n",
       "      <td>WD</td>\n",
       "      <td>109000</td>\n",
       "    </tr>\n",
       "    <tr>\n",
       "      <th>3</th>\n",
       "      <td>60</td>\n",
       "      <td>RL</td>\n",
       "      <td>73.0</td>\n",
       "      <td>9802</td>\n",
       "      <td>Pave</td>\n",
       "      <td>Reg</td>\n",
       "      <td>Lvl</td>\n",
       "      <td>AllPub</td>\n",
       "      <td>Inside</td>\n",
       "      <td>Gtl</td>\n",
       "      <td>...</td>\n",
       "      <td>0</td>\n",
       "      <td>0</td>\n",
       "      <td>0</td>\n",
       "      <td>0</td>\n",
       "      <td>0</td>\n",
       "      <td>0</td>\n",
       "      <td>4</td>\n",
       "      <td>2010</td>\n",
       "      <td>WD</td>\n",
       "      <td>174000</td>\n",
       "    </tr>\n",
       "    <tr>\n",
       "      <th>4</th>\n",
       "      <td>50</td>\n",
       "      <td>RL</td>\n",
       "      <td>82.0</td>\n",
       "      <td>14235</td>\n",
       "      <td>Pave</td>\n",
       "      <td>IR1</td>\n",
       "      <td>Lvl</td>\n",
       "      <td>AllPub</td>\n",
       "      <td>Inside</td>\n",
       "      <td>Gtl</td>\n",
       "      <td>...</td>\n",
       "      <td>59</td>\n",
       "      <td>0</td>\n",
       "      <td>0</td>\n",
       "      <td>0</td>\n",
       "      <td>0</td>\n",
       "      <td>0</td>\n",
       "      <td>3</td>\n",
       "      <td>2010</td>\n",
       "      <td>WD</td>\n",
       "      <td>138500</td>\n",
       "    </tr>\n",
       "  </tbody>\n",
       "</table>\n",
       "<p>5 rows × 74 columns</p>\n",
       "</div>"
      ],
      "text/plain": [
       "   MS SubClass MS Zoning  Lot Frontage  Lot Area Street Lot Shape  \\\n",
       "0           60        RL           NaN     13517   Pave       IR1   \n",
       "1           60        RL          43.0     11492   Pave       IR1   \n",
       "2           20        RL          68.0      7922   Pave       Reg   \n",
       "3           60        RL          73.0      9802   Pave       Reg   \n",
       "4           50        RL          82.0     14235   Pave       IR1   \n",
       "\n",
       "  Land Contour Utilities Lot Config Land Slope  ... Open Porch SF  \\\n",
       "0          Lvl    AllPub    CulDSac        Gtl  ...            44   \n",
       "1          Lvl    AllPub    CulDSac        Gtl  ...            74   \n",
       "2          Lvl    AllPub     Inside        Gtl  ...            52   \n",
       "3          Lvl    AllPub     Inside        Gtl  ...             0   \n",
       "4          Lvl    AllPub     Inside        Gtl  ...            59   \n",
       "\n",
       "  Enclosed Porch 3Ssn Porch Screen Porch Pool Area  Misc Val  Mo Sold  \\\n",
       "0              0          0            0         0         0        3   \n",
       "1              0          0            0         0         0        4   \n",
       "2              0          0            0         0         0        1   \n",
       "3              0          0            0         0         0        4   \n",
       "4              0          0            0         0         0        3   \n",
       "\n",
       "   Yr Sold  Sale Type SalePrice  \n",
       "0     2010        WD     130500  \n",
       "1     2009        WD     220000  \n",
       "2     2010        WD     109000  \n",
       "3     2010        WD     174000  \n",
       "4     2010        WD     138500  \n",
       "\n",
       "[5 rows x 74 columns]"
      ]
     },
     "execution_count": 14,
     "metadata": {},
     "output_type": "execute_result"
    }
   ],
   "source": [
    "pd_train.head(5)"
   ]
  },
  {
   "cell_type": "code",
   "execution_count": 15,
   "metadata": {},
   "outputs": [
    {
     "data": {
      "text/plain": [
       "Pool QC          0.995449\n",
       "Misc Feature     0.953356\n",
       "Alley            0.934016\n",
       "Fence            0.804323\n",
       "Fireplace Qu     0.480091\n",
       "                   ...   \n",
       "Heating QC       0.000000\n",
       "Yr Sold          0.000000\n",
       "Total Bsmt SF    0.000000\n",
       "Bsmt Unf SF      0.000000\n",
       "MS SubClass      0.000000\n",
       "Length: 78, dtype: float64"
      ]
     },
     "execution_count": 15,
     "metadata": {},
     "output_type": "execute_result"
    }
   ],
   "source": [
    "# check percentage of null values in test dataset by column\n",
    "\n",
    "pd_test.isnull().mean().sort_values(ascending=False)"
   ]
  },
  {
   "cell_type": "code",
   "execution_count": 16,
   "metadata": {},
   "outputs": [],
   "source": [
    "#Remove features with excessively high number of NaN.\n",
    "pd_test.drop(['Pool QC', 'Misc Feature', 'Alley', 'Fence', 'Fireplace Qu'], axis = 1, inplace = True)"
   ]
  },
  {
   "cell_type": "code",
   "execution_count": 17,
   "metadata": {},
   "outputs": [
    {
     "data": {
      "text/html": [
       "<div>\n",
       "<style scoped>\n",
       "    .dataframe tbody tr th:only-of-type {\n",
       "        vertical-align: middle;\n",
       "    }\n",
       "\n",
       "    .dataframe tbody tr th {\n",
       "        vertical-align: top;\n",
       "    }\n",
       "\n",
       "    .dataframe thead th {\n",
       "        text-align: right;\n",
       "    }\n",
       "</style>\n",
       "<table border=\"1\" class=\"dataframe\">\n",
       "  <thead>\n",
       "    <tr style=\"text-align: right;\">\n",
       "      <th></th>\n",
       "      <th>MS SubClass</th>\n",
       "      <th>MS Zoning</th>\n",
       "      <th>Lot Frontage</th>\n",
       "      <th>Lot Area</th>\n",
       "      <th>Street</th>\n",
       "      <th>Lot Shape</th>\n",
       "      <th>Land Contour</th>\n",
       "      <th>Utilities</th>\n",
       "      <th>Lot Config</th>\n",
       "      <th>Land Slope</th>\n",
       "      <th>...</th>\n",
       "      <th>Wood Deck SF</th>\n",
       "      <th>Open Porch SF</th>\n",
       "      <th>Enclosed Porch</th>\n",
       "      <th>3Ssn Porch</th>\n",
       "      <th>Screen Porch</th>\n",
       "      <th>Pool Area</th>\n",
       "      <th>Misc Val</th>\n",
       "      <th>Mo Sold</th>\n",
       "      <th>Yr Sold</th>\n",
       "      <th>Sale Type</th>\n",
       "    </tr>\n",
       "  </thead>\n",
       "  <tbody>\n",
       "    <tr>\n",
       "      <th>0</th>\n",
       "      <td>190</td>\n",
       "      <td>RM</td>\n",
       "      <td>69.0</td>\n",
       "      <td>9142</td>\n",
       "      <td>Pave</td>\n",
       "      <td>Reg</td>\n",
       "      <td>Lvl</td>\n",
       "      <td>AllPub</td>\n",
       "      <td>Inside</td>\n",
       "      <td>Gtl</td>\n",
       "      <td>...</td>\n",
       "      <td>0</td>\n",
       "      <td>60</td>\n",
       "      <td>112</td>\n",
       "      <td>0</td>\n",
       "      <td>0</td>\n",
       "      <td>0</td>\n",
       "      <td>0</td>\n",
       "      <td>4</td>\n",
       "      <td>2006</td>\n",
       "      <td>WD</td>\n",
       "    </tr>\n",
       "    <tr>\n",
       "      <th>1</th>\n",
       "      <td>90</td>\n",
       "      <td>RL</td>\n",
       "      <td>NaN</td>\n",
       "      <td>9662</td>\n",
       "      <td>Pave</td>\n",
       "      <td>IR1</td>\n",
       "      <td>Lvl</td>\n",
       "      <td>AllPub</td>\n",
       "      <td>Inside</td>\n",
       "      <td>Gtl</td>\n",
       "      <td>...</td>\n",
       "      <td>170</td>\n",
       "      <td>0</td>\n",
       "      <td>0</td>\n",
       "      <td>0</td>\n",
       "      <td>0</td>\n",
       "      <td>0</td>\n",
       "      <td>0</td>\n",
       "      <td>8</td>\n",
       "      <td>2006</td>\n",
       "      <td>WD</td>\n",
       "    </tr>\n",
       "    <tr>\n",
       "      <th>2</th>\n",
       "      <td>60</td>\n",
       "      <td>RL</td>\n",
       "      <td>58.0</td>\n",
       "      <td>17104</td>\n",
       "      <td>Pave</td>\n",
       "      <td>IR1</td>\n",
       "      <td>Lvl</td>\n",
       "      <td>AllPub</td>\n",
       "      <td>Inside</td>\n",
       "      <td>Gtl</td>\n",
       "      <td>...</td>\n",
       "      <td>100</td>\n",
       "      <td>24</td>\n",
       "      <td>0</td>\n",
       "      <td>0</td>\n",
       "      <td>0</td>\n",
       "      <td>0</td>\n",
       "      <td>0</td>\n",
       "      <td>9</td>\n",
       "      <td>2006</td>\n",
       "      <td>New</td>\n",
       "    </tr>\n",
       "    <tr>\n",
       "      <th>3</th>\n",
       "      <td>30</td>\n",
       "      <td>RM</td>\n",
       "      <td>60.0</td>\n",
       "      <td>8520</td>\n",
       "      <td>Pave</td>\n",
       "      <td>Reg</td>\n",
       "      <td>Lvl</td>\n",
       "      <td>AllPub</td>\n",
       "      <td>Inside</td>\n",
       "      <td>Gtl</td>\n",
       "      <td>...</td>\n",
       "      <td>0</td>\n",
       "      <td>0</td>\n",
       "      <td>184</td>\n",
       "      <td>0</td>\n",
       "      <td>0</td>\n",
       "      <td>0</td>\n",
       "      <td>0</td>\n",
       "      <td>7</td>\n",
       "      <td>2007</td>\n",
       "      <td>WD</td>\n",
       "    </tr>\n",
       "    <tr>\n",
       "      <th>4</th>\n",
       "      <td>20</td>\n",
       "      <td>RL</td>\n",
       "      <td>NaN</td>\n",
       "      <td>9500</td>\n",
       "      <td>Pave</td>\n",
       "      <td>IR1</td>\n",
       "      <td>Lvl</td>\n",
       "      <td>AllPub</td>\n",
       "      <td>Inside</td>\n",
       "      <td>Gtl</td>\n",
       "      <td>...</td>\n",
       "      <td>0</td>\n",
       "      <td>76</td>\n",
       "      <td>0</td>\n",
       "      <td>0</td>\n",
       "      <td>185</td>\n",
       "      <td>0</td>\n",
       "      <td>0</td>\n",
       "      <td>7</td>\n",
       "      <td>2009</td>\n",
       "      <td>WD</td>\n",
       "    </tr>\n",
       "  </tbody>\n",
       "</table>\n",
       "<p>5 rows × 73 columns</p>\n",
       "</div>"
      ],
      "text/plain": [
       "   MS SubClass MS Zoning  Lot Frontage  Lot Area Street Lot Shape  \\\n",
       "0          190        RM          69.0      9142   Pave       Reg   \n",
       "1           90        RL           NaN      9662   Pave       IR1   \n",
       "2           60        RL          58.0     17104   Pave       IR1   \n",
       "3           30        RM          60.0      8520   Pave       Reg   \n",
       "4           20        RL           NaN      9500   Pave       IR1   \n",
       "\n",
       "  Land Contour Utilities Lot Config Land Slope  ... Wood Deck SF  \\\n",
       "0          Lvl    AllPub     Inside        Gtl  ...            0   \n",
       "1          Lvl    AllPub     Inside        Gtl  ...          170   \n",
       "2          Lvl    AllPub     Inside        Gtl  ...          100   \n",
       "3          Lvl    AllPub     Inside        Gtl  ...            0   \n",
       "4          Lvl    AllPub     Inside        Gtl  ...            0   \n",
       "\n",
       "  Open Porch SF Enclosed Porch 3Ssn Porch Screen Porch  Pool Area  Misc Val  \\\n",
       "0            60            112          0            0          0         0   \n",
       "1             0              0          0            0          0         0   \n",
       "2            24              0          0            0          0         0   \n",
       "3             0            184          0            0          0         0   \n",
       "4            76              0          0          185          0         0   \n",
       "\n",
       "   Mo Sold  Yr Sold Sale Type  \n",
       "0        4     2006       WD   \n",
       "1        8     2006       WD   \n",
       "2        9     2006       New  \n",
       "3        7     2007       WD   \n",
       "4        7     2009       WD   \n",
       "\n",
       "[5 rows x 73 columns]"
      ]
     },
     "execution_count": 17,
     "metadata": {},
     "output_type": "execute_result"
    }
   ],
   "source": [
    "pd_test.head()"
   ]
  },
  {
   "cell_type": "code",
   "execution_count": 18,
   "metadata": {},
   "outputs": [
    {
     "name": "stdout",
     "output_type": "stream",
     "text": [
      "MS SubClass \n",
      " False    2051\n",
      "Name: MS SubClass, dtype: int64 \n",
      "\n",
      "MS Zoning \n",
      " False    2051\n",
      "Name: MS Zoning, dtype: int64 \n",
      "\n",
      "Lot Frontage \n",
      " False    2051\n",
      "Name: Lot Frontage, dtype: int64 \n",
      "\n",
      "Lot Area \n",
      " False    2051\n",
      "Name: Lot Area, dtype: int64 \n",
      "\n",
      "Street \n",
      " False    2051\n",
      "Name: Street, dtype: int64 \n",
      "\n",
      "Lot Shape \n",
      " False    2051\n",
      "Name: Lot Shape, dtype: int64 \n",
      "\n",
      "Land Contour \n",
      " False    2051\n",
      "Name: Land Contour, dtype: int64 \n",
      "\n",
      "Utilities \n",
      " False    2051\n",
      "Name: Utilities, dtype: int64 \n",
      "\n",
      "Lot Config \n",
      " False    2051\n",
      "Name: Lot Config, dtype: int64 \n",
      "\n",
      "Land Slope \n",
      " False    2051\n",
      "Name: Land Slope, dtype: int64 \n",
      "\n",
      "Neighborhood \n",
      " False    2051\n",
      "Name: Neighborhood, dtype: int64 \n",
      "\n",
      "Condition 1 \n",
      " False    2051\n",
      "Name: Condition 1, dtype: int64 \n",
      "\n",
      "Condition 2 \n",
      " False    2051\n",
      "Name: Condition 2, dtype: int64 \n",
      "\n",
      "Bldg Type \n",
      " False    2051\n",
      "Name: Bldg Type, dtype: int64 \n",
      "\n",
      "House Style \n",
      " False    2051\n",
      "Name: House Style, dtype: int64 \n",
      "\n",
      "Overall Qual \n",
      " False    2051\n",
      "Name: Overall Qual, dtype: int64 \n",
      "\n",
      "Overall Cond \n",
      " False    2051\n",
      "Name: Overall Cond, dtype: int64 \n",
      "\n",
      "Year Built \n",
      " False    2051\n",
      "Name: Year Built, dtype: int64 \n",
      "\n",
      "Year Remod/Add \n",
      " False    2051\n",
      "Name: Year Remod/Add, dtype: int64 \n",
      "\n",
      "Roof Style \n",
      " False    2051\n",
      "Name: Roof Style, dtype: int64 \n",
      "\n",
      "Roof Matl \n",
      " False    2051\n",
      "Name: Roof Matl, dtype: int64 \n",
      "\n",
      "Exterior 1st \n",
      " False    2051\n",
      "Name: Exterior 1st, dtype: int64 \n",
      "\n",
      "Exterior 2nd \n",
      " False    2051\n",
      "Name: Exterior 2nd, dtype: int64 \n",
      "\n",
      "Mas Vnr Type \n",
      " False    2051\n",
      "Name: Mas Vnr Type, dtype: int64 \n",
      "\n",
      "Mas Vnr Area \n",
      " True     1216\n",
      "False     835\n",
      "Name: Mas Vnr Area, dtype: int64 \n",
      "\n",
      "Exter Qual \n",
      " False    2051\n",
      "Name: Exter Qual, dtype: int64 \n",
      "\n",
      "Exter Cond \n",
      " False    2051\n",
      "Name: Exter Cond, dtype: int64 \n",
      "\n",
      "Foundation \n",
      " False    2051\n",
      "Name: Foundation, dtype: int64 \n",
      "\n",
      "Bsmt Qual \n",
      " False    2051\n",
      "Name: Bsmt Qual, dtype: int64 \n",
      "\n",
      "Bsmt Cond \n",
      " False    2051\n",
      "Name: Bsmt Cond, dtype: int64 \n",
      "\n",
      "Bsmt Exposure \n",
      " False    2051\n",
      "Name: Bsmt Exposure, dtype: int64 \n",
      "\n",
      "BsmtFin Type 1 \n",
      " False    2051\n",
      "Name: BsmtFin Type 1, dtype: int64 \n",
      "\n",
      "BsmtFin SF 1 \n",
      " False    1394\n",
      "True      657\n",
      "Name: BsmtFin SF 1, dtype: int64 \n",
      "\n",
      "BsmtFin Type 2 \n",
      " False    2051\n",
      "Name: BsmtFin Type 2, dtype: int64 \n",
      "\n",
      "BsmtFin SF 2 \n",
      " True     1803\n",
      "False     248\n",
      "Name: BsmtFin SF 2, dtype: int64 \n",
      "\n",
      "Bsmt Unf SF \n",
      " False    1886\n",
      "True      165\n",
      "Name: Bsmt Unf SF, dtype: int64 \n",
      "\n",
      "Total Bsmt SF \n",
      " False    1997\n",
      "True       54\n",
      "Name: Total Bsmt SF, dtype: int64 \n",
      "\n",
      "Heating \n",
      " False    2051\n",
      "Name: Heating, dtype: int64 \n",
      "\n",
      "Heating QC \n",
      " False    2051\n",
      "Name: Heating QC, dtype: int64 \n",
      "\n",
      "Central Air \n",
      " False    2051\n",
      "Name: Central Air, dtype: int64 \n",
      "\n",
      "Electrical \n",
      " False    2051\n",
      "Name: Electrical, dtype: int64 \n",
      "\n",
      "1st Flr SF \n",
      " False    2051\n",
      "Name: 1st Flr SF, dtype: int64 \n",
      "\n",
      "2nd Flr SF \n",
      " True     1191\n",
      "False     860\n",
      "Name: 2nd Flr SF, dtype: int64 \n",
      "\n",
      "Low Qual Fin SF \n",
      " True     2018\n",
      "False      33\n",
      "Name: Low Qual Fin SF, dtype: int64 \n",
      "\n",
      "Gr Liv Area \n",
      " False    2051\n",
      "Name: Gr Liv Area, dtype: int64 \n",
      "\n",
      "Bsmt Full Bath \n",
      " True     1200\n",
      "False     851\n",
      "Name: Bsmt Full Bath, dtype: int64 \n",
      "\n",
      "Bsmt Half Bath \n",
      " True     1923\n",
      "False     128\n",
      "Name: Bsmt Half Bath, dtype: int64 \n",
      "\n",
      "Full Bath \n",
      " False    2043\n",
      "True        8\n",
      "Name: Full Bath, dtype: int64 \n",
      "\n",
      "Half Bath \n",
      " True     1308\n",
      "False     743\n",
      "Name: Half Bath, dtype: int64 \n",
      "\n",
      "Bedroom AbvGr \n",
      " False    2046\n",
      "True        5\n",
      "Name: Bedroom AbvGr, dtype: int64 \n",
      "\n",
      "Kitchen AbvGr \n",
      " False    2049\n",
      "True        2\n",
      "Name: Kitchen AbvGr, dtype: int64 \n",
      "\n",
      "Kitchen Qual \n",
      " False    2051\n",
      "Name: Kitchen Qual, dtype: int64 \n",
      "\n",
      "TotRms AbvGrd \n",
      " False    2051\n",
      "Name: TotRms AbvGrd, dtype: int64 \n",
      "\n",
      "Functional \n",
      " False    2051\n",
      "Name: Functional, dtype: int64 \n",
      "\n",
      "Fireplaces \n",
      " False    1051\n",
      "True     1000\n",
      "Name: Fireplaces, dtype: int64 \n",
      "\n",
      "Garage Type \n",
      " False    2051\n",
      "Name: Garage Type, dtype: int64 \n",
      "\n",
      "Garage Yr Blt \n",
      " False    2051\n",
      "Name: Garage Yr Blt, dtype: int64 \n",
      "\n",
      "Garage Finish \n",
      " False    2051\n",
      "Name: Garage Finish, dtype: int64 \n",
      "\n",
      "Garage Cars \n",
      " False    1938\n",
      "True      113\n",
      "Name: Garage Cars, dtype: int64 \n",
      "\n",
      "Garage Area \n",
      " False    1938\n",
      "True      113\n",
      "Name: Garage Area, dtype: int64 \n",
      "\n",
      "Garage Qual \n",
      " False    2051\n",
      "Name: Garage Qual, dtype: int64 \n",
      "\n",
      "Garage Cond \n",
      " False    2051\n",
      "Name: Garage Cond, dtype: int64 \n",
      "\n",
      "Paved Drive \n",
      " False    2051\n",
      "Name: Paved Drive, dtype: int64 \n",
      "\n",
      "Wood Deck SF \n",
      " True     1075\n",
      "False     976\n",
      "Name: Wood Deck SF, dtype: int64 \n",
      "\n",
      "Open Porch SF \n",
      " False    1139\n",
      "True      912\n",
      "Name: Open Porch SF, dtype: int64 \n",
      "\n",
      "Enclosed Porch \n",
      " True     1724\n",
      "False     327\n",
      "Name: Enclosed Porch, dtype: int64 \n",
      "\n",
      "3Ssn Porch \n",
      " True     2025\n",
      "False      26\n",
      "Name: 3Ssn Porch, dtype: int64 \n",
      "\n",
      "Screen Porch \n",
      " True     1870\n",
      "False     181\n",
      "Name: Screen Porch, dtype: int64 \n",
      "\n",
      "Pool Area \n",
      " True     2042\n",
      "False       9\n",
      "Name: Pool Area, dtype: int64 \n",
      "\n",
      "Misc Val \n",
      " True     1986\n",
      "False      65\n",
      "Name: Misc Val, dtype: int64 \n",
      "\n",
      "Mo Sold \n",
      " False    2051\n",
      "Name: Mo Sold, dtype: int64 \n",
      "\n",
      "Yr Sold \n",
      " False    2051\n",
      "Name: Yr Sold, dtype: int64 \n",
      "\n",
      "Sale Type \n",
      " False    2051\n",
      "Name: Sale Type, dtype: int64 \n",
      "\n",
      "SalePrice \n",
      " False    2051\n",
      "Name: SalePrice, dtype: int64 \n",
      "\n"
     ]
    }
   ],
   "source": [
    "#Remove features with excessively high number of zero values i.e. >1900 zero values\n",
    "for col in pd_train.columns:\n",
    "    count_zero = (pd_train[col]==0).value_counts()\n",
    "    print(col, \"\\n\", count_zero, \"\\n\")"
   ]
  },
  {
   "cell_type": "code",
   "execution_count": 19,
   "metadata": {},
   "outputs": [],
   "source": [
    "pd_train.drop(['Pool Area', 'Misc Val'], axis = 1, inplace = True)"
   ]
  },
  {
   "cell_type": "code",
   "execution_count": 20,
   "metadata": {},
   "outputs": [],
   "source": [
    "pd_test.drop(['Pool Area', 'Misc Val'], axis = 1, inplace = True)"
   ]
  },
  {
   "cell_type": "code",
   "execution_count": 21,
   "metadata": {},
   "outputs": [
    {
     "data": {
      "text/plain": [
       "(2051, 72)"
      ]
     },
     "execution_count": 21,
     "metadata": {},
     "output_type": "execute_result"
    }
   ],
   "source": [
    "pd_train.shape"
   ]
  },
  {
   "cell_type": "code",
   "execution_count": 22,
   "metadata": {},
   "outputs": [
    {
     "data": {
      "text/plain": [
       "(879, 71)"
      ]
     },
     "execution_count": 22,
     "metadata": {},
     "output_type": "execute_result"
    }
   ],
   "source": [
    "pd_test.shape"
   ]
  },
  {
   "cell_type": "code",
   "execution_count": 23,
   "metadata": {
    "scrolled": true
   },
   "outputs": [],
   "source": [
    "#unable to drop all null/Nan value rows/columns because that would mean having no more data. \n",
    "#Hence, only dropped columns with excessive amount of Nan values, \n",
    "#Convert numeric columns into strings because some features are meant to be categorial."
   ]
  },
  {
   "cell_type": "code",
   "execution_count": 24,
   "metadata": {
    "scrolled": true
   },
   "outputs": [
    {
     "data": {
      "text/plain": [
       "Index(['MS SubClass', 'MS Zoning', 'Lot Frontage', 'Lot Area', 'Street',\n",
       "       'Lot Shape', 'Land Contour', 'Utilities', 'Lot Config', 'Land Slope',\n",
       "       'Neighborhood', 'Condition 1', 'Condition 2', 'Bldg Type',\n",
       "       'House Style', 'Overall Qual', 'Overall Cond', 'Year Built',\n",
       "       'Year Remod/Add', 'Roof Style', 'Roof Matl', 'Exterior 1st',\n",
       "       'Exterior 2nd', 'Mas Vnr Type', 'Mas Vnr Area', 'Exter Qual',\n",
       "       'Exter Cond', 'Foundation', 'Bsmt Qual', 'Bsmt Cond', 'Bsmt Exposure',\n",
       "       'BsmtFin Type 1', 'BsmtFin SF 1', 'BsmtFin Type 2', 'BsmtFin SF 2',\n",
       "       'Bsmt Unf SF', 'Total Bsmt SF', 'Heating', 'Heating QC', 'Central Air',\n",
       "       'Electrical', '1st Flr SF', '2nd Flr SF', 'Low Qual Fin SF',\n",
       "       'Gr Liv Area', 'Bsmt Full Bath', 'Bsmt Half Bath', 'Full Bath',\n",
       "       'Half Bath', 'Bedroom AbvGr', 'Kitchen AbvGr', 'Kitchen Qual',\n",
       "       'TotRms AbvGrd', 'Functional', 'Fireplaces', 'Garage Type',\n",
       "       'Garage Yr Blt', 'Garage Finish', 'Garage Cars', 'Garage Area',\n",
       "       'Garage Qual', 'Garage Cond', 'Paved Drive', 'Wood Deck SF',\n",
       "       'Open Porch SF', 'Enclosed Porch', '3Ssn Porch', 'Screen Porch',\n",
       "       'Mo Sold', 'Yr Sold', 'Sale Type', 'SalePrice'],\n",
       "      dtype='object')"
      ]
     },
     "execution_count": 24,
     "metadata": {},
     "output_type": "execute_result"
    }
   ],
   "source": [
    "pd_train.columns"
   ]
  },
  {
   "cell_type": "code",
   "execution_count": 25,
   "metadata": {
    "scrolled": true
   },
   "outputs": [
    {
     "data": {
      "text/plain": [
       "MS SubClass       int64\n",
       "MS Zoning        object\n",
       "Lot Frontage    float64\n",
       "Lot Area          int64\n",
       "Street           object\n",
       "                 ...   \n",
       "Screen Porch      int64\n",
       "Mo Sold           int64\n",
       "Yr Sold           int64\n",
       "Sale Type        object\n",
       "SalePrice         int64\n",
       "Length: 72, dtype: object"
      ]
     },
     "execution_count": 25,
     "metadata": {},
     "output_type": "execute_result"
    }
   ],
   "source": [
    "pd_train.dtypes"
   ]
  },
  {
   "cell_type": "code",
   "execution_count": 26,
   "metadata": {},
   "outputs": [
    {
     "data": {
      "text/plain": [
       "MS SubClass       int64\n",
       "MS Zoning        object\n",
       "Lot Frontage    float64\n",
       "Lot Area          int64\n",
       "Street           object\n",
       "                 ...   \n",
       "3Ssn Porch        int64\n",
       "Screen Porch      int64\n",
       "Mo Sold           int64\n",
       "Yr Sold           int64\n",
       "Sale Type        object\n",
       "Length: 71, dtype: object"
      ]
     },
     "execution_count": 26,
     "metadata": {},
     "output_type": "execute_result"
    }
   ],
   "source": [
    "pd_test.dtypes"
   ]
  },
  {
   "cell_type": "code",
   "execution_count": 27,
   "metadata": {},
   "outputs": [],
   "source": [
    "#Making categorical variables: converting numeric to string type.\n",
    "pd_train['MS SubClass'] = pd_train['MS SubClass'].astype(str) #type of dwelling\n",
    "pd_train['Mo Sold'] = pd_train['Mo Sold'].astype(str) #month sold\n",
    "pd_train['Yr Sold'] = pd_train['Yr Sold'].astype(str) #year sold\n",
    "\n",
    "pd_test['MS SubClass'] = pd_test['MS SubClass'].astype(str)\n",
    "pd_test['Mo Sold'] = pd_test['Mo Sold'].astype(str)\n",
    "pd_test['Yr Sold'] = pd_test['Yr Sold'].astype(str)"
   ]
  },
  {
   "cell_type": "code",
   "execution_count": 28,
   "metadata": {},
   "outputs": [],
   "source": [
    "#standardize column headers by concatenating names with underscore and making them all lowercase\n",
    "pd_train.columns = [x.lower().replace(' ','_') for x in pd_train.columns]"
   ]
  },
  {
   "cell_type": "code",
   "execution_count": 29,
   "metadata": {},
   "outputs": [],
   "source": [
    "pd_test.columns = [x.lower().replace(' ','_') for x in pd_test.columns]"
   ]
  },
  {
   "cell_type": "code",
   "execution_count": 30,
   "metadata": {},
   "outputs": [
    {
     "data": {
      "text/html": [
       "<div>\n",
       "<style scoped>\n",
       "    .dataframe tbody tr th:only-of-type {\n",
       "        vertical-align: middle;\n",
       "    }\n",
       "\n",
       "    .dataframe tbody tr th {\n",
       "        vertical-align: top;\n",
       "    }\n",
       "\n",
       "    .dataframe thead th {\n",
       "        text-align: right;\n",
       "    }\n",
       "</style>\n",
       "<table border=\"1\" class=\"dataframe\">\n",
       "  <thead>\n",
       "    <tr style=\"text-align: right;\">\n",
       "      <th></th>\n",
       "      <th>ms_subclass</th>\n",
       "      <th>ms_zoning</th>\n",
       "      <th>lot_frontage</th>\n",
       "      <th>lot_area</th>\n",
       "      <th>street</th>\n",
       "      <th>lot_shape</th>\n",
       "      <th>land_contour</th>\n",
       "      <th>utilities</th>\n",
       "      <th>lot_config</th>\n",
       "      <th>land_slope</th>\n",
       "      <th>...</th>\n",
       "      <th>paved_drive</th>\n",
       "      <th>wood_deck_sf</th>\n",
       "      <th>open_porch_sf</th>\n",
       "      <th>enclosed_porch</th>\n",
       "      <th>3ssn_porch</th>\n",
       "      <th>screen_porch</th>\n",
       "      <th>mo_sold</th>\n",
       "      <th>yr_sold</th>\n",
       "      <th>sale_type</th>\n",
       "      <th>saleprice</th>\n",
       "    </tr>\n",
       "  </thead>\n",
       "  <tbody>\n",
       "    <tr>\n",
       "      <th>0</th>\n",
       "      <td>60</td>\n",
       "      <td>RL</td>\n",
       "      <td>NaN</td>\n",
       "      <td>13517</td>\n",
       "      <td>Pave</td>\n",
       "      <td>IR1</td>\n",
       "      <td>Lvl</td>\n",
       "      <td>AllPub</td>\n",
       "      <td>CulDSac</td>\n",
       "      <td>Gtl</td>\n",
       "      <td>...</td>\n",
       "      <td>Y</td>\n",
       "      <td>0</td>\n",
       "      <td>44</td>\n",
       "      <td>0</td>\n",
       "      <td>0</td>\n",
       "      <td>0</td>\n",
       "      <td>3</td>\n",
       "      <td>2010</td>\n",
       "      <td>WD</td>\n",
       "      <td>130500</td>\n",
       "    </tr>\n",
       "    <tr>\n",
       "      <th>1</th>\n",
       "      <td>60</td>\n",
       "      <td>RL</td>\n",
       "      <td>43.0</td>\n",
       "      <td>11492</td>\n",
       "      <td>Pave</td>\n",
       "      <td>IR1</td>\n",
       "      <td>Lvl</td>\n",
       "      <td>AllPub</td>\n",
       "      <td>CulDSac</td>\n",
       "      <td>Gtl</td>\n",
       "      <td>...</td>\n",
       "      <td>Y</td>\n",
       "      <td>0</td>\n",
       "      <td>74</td>\n",
       "      <td>0</td>\n",
       "      <td>0</td>\n",
       "      <td>0</td>\n",
       "      <td>4</td>\n",
       "      <td>2009</td>\n",
       "      <td>WD</td>\n",
       "      <td>220000</td>\n",
       "    </tr>\n",
       "    <tr>\n",
       "      <th>2</th>\n",
       "      <td>20</td>\n",
       "      <td>RL</td>\n",
       "      <td>68.0</td>\n",
       "      <td>7922</td>\n",
       "      <td>Pave</td>\n",
       "      <td>Reg</td>\n",
       "      <td>Lvl</td>\n",
       "      <td>AllPub</td>\n",
       "      <td>Inside</td>\n",
       "      <td>Gtl</td>\n",
       "      <td>...</td>\n",
       "      <td>Y</td>\n",
       "      <td>0</td>\n",
       "      <td>52</td>\n",
       "      <td>0</td>\n",
       "      <td>0</td>\n",
       "      <td>0</td>\n",
       "      <td>1</td>\n",
       "      <td>2010</td>\n",
       "      <td>WD</td>\n",
       "      <td>109000</td>\n",
       "    </tr>\n",
       "    <tr>\n",
       "      <th>3</th>\n",
       "      <td>60</td>\n",
       "      <td>RL</td>\n",
       "      <td>73.0</td>\n",
       "      <td>9802</td>\n",
       "      <td>Pave</td>\n",
       "      <td>Reg</td>\n",
       "      <td>Lvl</td>\n",
       "      <td>AllPub</td>\n",
       "      <td>Inside</td>\n",
       "      <td>Gtl</td>\n",
       "      <td>...</td>\n",
       "      <td>Y</td>\n",
       "      <td>100</td>\n",
       "      <td>0</td>\n",
       "      <td>0</td>\n",
       "      <td>0</td>\n",
       "      <td>0</td>\n",
       "      <td>4</td>\n",
       "      <td>2010</td>\n",
       "      <td>WD</td>\n",
       "      <td>174000</td>\n",
       "    </tr>\n",
       "    <tr>\n",
       "      <th>4</th>\n",
       "      <td>50</td>\n",
       "      <td>RL</td>\n",
       "      <td>82.0</td>\n",
       "      <td>14235</td>\n",
       "      <td>Pave</td>\n",
       "      <td>IR1</td>\n",
       "      <td>Lvl</td>\n",
       "      <td>AllPub</td>\n",
       "      <td>Inside</td>\n",
       "      <td>Gtl</td>\n",
       "      <td>...</td>\n",
       "      <td>N</td>\n",
       "      <td>0</td>\n",
       "      <td>59</td>\n",
       "      <td>0</td>\n",
       "      <td>0</td>\n",
       "      <td>0</td>\n",
       "      <td>3</td>\n",
       "      <td>2010</td>\n",
       "      <td>WD</td>\n",
       "      <td>138500</td>\n",
       "    </tr>\n",
       "  </tbody>\n",
       "</table>\n",
       "<p>5 rows × 72 columns</p>\n",
       "</div>"
      ],
      "text/plain": [
       "  ms_subclass ms_zoning  lot_frontage  lot_area street lot_shape land_contour  \\\n",
       "0          60        RL           NaN     13517   Pave       IR1          Lvl   \n",
       "1          60        RL          43.0     11492   Pave       IR1          Lvl   \n",
       "2          20        RL          68.0      7922   Pave       Reg          Lvl   \n",
       "3          60        RL          73.0      9802   Pave       Reg          Lvl   \n",
       "4          50        RL          82.0     14235   Pave       IR1          Lvl   \n",
       "\n",
       "  utilities lot_config land_slope  ... paved_drive wood_deck_sf open_porch_sf  \\\n",
       "0    AllPub    CulDSac        Gtl  ...           Y            0            44   \n",
       "1    AllPub    CulDSac        Gtl  ...           Y            0            74   \n",
       "2    AllPub     Inside        Gtl  ...           Y            0            52   \n",
       "3    AllPub     Inside        Gtl  ...           Y          100             0   \n",
       "4    AllPub     Inside        Gtl  ...           N            0            59   \n",
       "\n",
       "  enclosed_porch 3ssn_porch  screen_porch  mo_sold  yr_sold  sale_type  \\\n",
       "0              0          0             0        3     2010        WD    \n",
       "1              0          0             0        4     2009        WD    \n",
       "2              0          0             0        1     2010        WD    \n",
       "3              0          0             0        4     2010        WD    \n",
       "4              0          0             0        3     2010        WD    \n",
       "\n",
       "  saleprice  \n",
       "0    130500  \n",
       "1    220000  \n",
       "2    109000  \n",
       "3    174000  \n",
       "4    138500  \n",
       "\n",
       "[5 rows x 72 columns]"
      ]
     },
     "execution_count": 30,
     "metadata": {},
     "output_type": "execute_result"
    }
   ],
   "source": [
    "pd_train.head(5)"
   ]
  },
  {
   "cell_type": "code",
   "execution_count": 31,
   "metadata": {
    "scrolled": true
   },
   "outputs": [
    {
     "data": {
      "text/html": [
       "<div>\n",
       "<style scoped>\n",
       "    .dataframe tbody tr th:only-of-type {\n",
       "        vertical-align: middle;\n",
       "    }\n",
       "\n",
       "    .dataframe tbody tr th {\n",
       "        vertical-align: top;\n",
       "    }\n",
       "\n",
       "    .dataframe thead th {\n",
       "        text-align: right;\n",
       "    }\n",
       "</style>\n",
       "<table border=\"1\" class=\"dataframe\">\n",
       "  <thead>\n",
       "    <tr style=\"text-align: right;\">\n",
       "      <th></th>\n",
       "      <th>ms_subclass</th>\n",
       "      <th>ms_zoning</th>\n",
       "      <th>lot_frontage</th>\n",
       "      <th>lot_area</th>\n",
       "      <th>street</th>\n",
       "      <th>lot_shape</th>\n",
       "      <th>land_contour</th>\n",
       "      <th>utilities</th>\n",
       "      <th>lot_config</th>\n",
       "      <th>land_slope</th>\n",
       "      <th>...</th>\n",
       "      <th>garage_cond</th>\n",
       "      <th>paved_drive</th>\n",
       "      <th>wood_deck_sf</th>\n",
       "      <th>open_porch_sf</th>\n",
       "      <th>enclosed_porch</th>\n",
       "      <th>3ssn_porch</th>\n",
       "      <th>screen_porch</th>\n",
       "      <th>mo_sold</th>\n",
       "      <th>yr_sold</th>\n",
       "      <th>sale_type</th>\n",
       "    </tr>\n",
       "  </thead>\n",
       "  <tbody>\n",
       "    <tr>\n",
       "      <th>0</th>\n",
       "      <td>190</td>\n",
       "      <td>RM</td>\n",
       "      <td>69.0</td>\n",
       "      <td>9142</td>\n",
       "      <td>Pave</td>\n",
       "      <td>Reg</td>\n",
       "      <td>Lvl</td>\n",
       "      <td>AllPub</td>\n",
       "      <td>Inside</td>\n",
       "      <td>Gtl</td>\n",
       "      <td>...</td>\n",
       "      <td>Po</td>\n",
       "      <td>Y</td>\n",
       "      <td>0</td>\n",
       "      <td>60</td>\n",
       "      <td>112</td>\n",
       "      <td>0</td>\n",
       "      <td>0</td>\n",
       "      <td>4</td>\n",
       "      <td>2006</td>\n",
       "      <td>WD</td>\n",
       "    </tr>\n",
       "    <tr>\n",
       "      <th>1</th>\n",
       "      <td>90</td>\n",
       "      <td>RL</td>\n",
       "      <td>NaN</td>\n",
       "      <td>9662</td>\n",
       "      <td>Pave</td>\n",
       "      <td>IR1</td>\n",
       "      <td>Lvl</td>\n",
       "      <td>AllPub</td>\n",
       "      <td>Inside</td>\n",
       "      <td>Gtl</td>\n",
       "      <td>...</td>\n",
       "      <td>TA</td>\n",
       "      <td>Y</td>\n",
       "      <td>170</td>\n",
       "      <td>0</td>\n",
       "      <td>0</td>\n",
       "      <td>0</td>\n",
       "      <td>0</td>\n",
       "      <td>8</td>\n",
       "      <td>2006</td>\n",
       "      <td>WD</td>\n",
       "    </tr>\n",
       "    <tr>\n",
       "      <th>2</th>\n",
       "      <td>60</td>\n",
       "      <td>RL</td>\n",
       "      <td>58.0</td>\n",
       "      <td>17104</td>\n",
       "      <td>Pave</td>\n",
       "      <td>IR1</td>\n",
       "      <td>Lvl</td>\n",
       "      <td>AllPub</td>\n",
       "      <td>Inside</td>\n",
       "      <td>Gtl</td>\n",
       "      <td>...</td>\n",
       "      <td>TA</td>\n",
       "      <td>Y</td>\n",
       "      <td>100</td>\n",
       "      <td>24</td>\n",
       "      <td>0</td>\n",
       "      <td>0</td>\n",
       "      <td>0</td>\n",
       "      <td>9</td>\n",
       "      <td>2006</td>\n",
       "      <td>New</td>\n",
       "    </tr>\n",
       "    <tr>\n",
       "      <th>3</th>\n",
       "      <td>30</td>\n",
       "      <td>RM</td>\n",
       "      <td>60.0</td>\n",
       "      <td>8520</td>\n",
       "      <td>Pave</td>\n",
       "      <td>Reg</td>\n",
       "      <td>Lvl</td>\n",
       "      <td>AllPub</td>\n",
       "      <td>Inside</td>\n",
       "      <td>Gtl</td>\n",
       "      <td>...</td>\n",
       "      <td>TA</td>\n",
       "      <td>N</td>\n",
       "      <td>0</td>\n",
       "      <td>0</td>\n",
       "      <td>184</td>\n",
       "      <td>0</td>\n",
       "      <td>0</td>\n",
       "      <td>7</td>\n",
       "      <td>2007</td>\n",
       "      <td>WD</td>\n",
       "    </tr>\n",
       "    <tr>\n",
       "      <th>4</th>\n",
       "      <td>20</td>\n",
       "      <td>RL</td>\n",
       "      <td>NaN</td>\n",
       "      <td>9500</td>\n",
       "      <td>Pave</td>\n",
       "      <td>IR1</td>\n",
       "      <td>Lvl</td>\n",
       "      <td>AllPub</td>\n",
       "      <td>Inside</td>\n",
       "      <td>Gtl</td>\n",
       "      <td>...</td>\n",
       "      <td>TA</td>\n",
       "      <td>Y</td>\n",
       "      <td>0</td>\n",
       "      <td>76</td>\n",
       "      <td>0</td>\n",
       "      <td>0</td>\n",
       "      <td>185</td>\n",
       "      <td>7</td>\n",
       "      <td>2009</td>\n",
       "      <td>WD</td>\n",
       "    </tr>\n",
       "  </tbody>\n",
       "</table>\n",
       "<p>5 rows × 71 columns</p>\n",
       "</div>"
      ],
      "text/plain": [
       "  ms_subclass ms_zoning  lot_frontage  lot_area street lot_shape land_contour  \\\n",
       "0         190        RM          69.0      9142   Pave       Reg          Lvl   \n",
       "1          90        RL           NaN      9662   Pave       IR1          Lvl   \n",
       "2          60        RL          58.0     17104   Pave       IR1          Lvl   \n",
       "3          30        RM          60.0      8520   Pave       Reg          Lvl   \n",
       "4          20        RL           NaN      9500   Pave       IR1          Lvl   \n",
       "\n",
       "  utilities lot_config land_slope  ... garage_cond paved_drive wood_deck_sf  \\\n",
       "0    AllPub     Inside        Gtl  ...          Po           Y            0   \n",
       "1    AllPub     Inside        Gtl  ...          TA           Y          170   \n",
       "2    AllPub     Inside        Gtl  ...          TA           Y          100   \n",
       "3    AllPub     Inside        Gtl  ...          TA           N            0   \n",
       "4    AllPub     Inside        Gtl  ...          TA           Y            0   \n",
       "\n",
       "  open_porch_sf enclosed_porch  3ssn_porch  screen_porch  mo_sold  yr_sold  \\\n",
       "0            60            112           0             0        4     2006   \n",
       "1             0              0           0             0        8     2006   \n",
       "2            24              0           0             0        9     2006   \n",
       "3             0            184           0             0        7     2007   \n",
       "4            76              0           0           185        7     2009   \n",
       "\n",
       "  sale_type  \n",
       "0       WD   \n",
       "1       WD   \n",
       "2       New  \n",
       "3       WD   \n",
       "4       WD   \n",
       "\n",
       "[5 rows x 71 columns]"
      ]
     },
     "execution_count": 31,
     "metadata": {},
     "output_type": "execute_result"
    }
   ],
   "source": [
    "pd_test.head(5)"
   ]
  },
  {
   "cell_type": "code",
   "execution_count": 32,
   "metadata": {},
   "outputs": [
    {
     "data": {
      "text/plain": [
       "(879, 71)"
      ]
     },
     "execution_count": 32,
     "metadata": {},
     "output_type": "execute_result"
    }
   ],
   "source": [
    "pd_test.shape"
   ]
  },
  {
   "cell_type": "code",
   "execution_count": 33,
   "metadata": {},
   "outputs": [],
   "source": [
    "#Identify numeric columns for train dataset and fill null values\n",
    "features_numeric_train = list(pd_train._get_numeric_data())      ### Assumption here being that the numeric data has been\n",
    "                                                                 ### correctly typed as numeric data "
   ]
  },
  {
   "cell_type": "code",
   "execution_count": 34,
   "metadata": {},
   "outputs": [],
   "source": [
    "pd_train[features_numeric_train] = pd_train[features_numeric_train].fillna(0)"
   ]
  },
  {
   "cell_type": "code",
   "execution_count": 35,
   "metadata": {},
   "outputs": [],
   "source": [
    "#Identify categorical columns for train dataset and fill null values\n",
    "\n",
    "features_categorical_train = [x for x in pd_train.columns if (x not in features_numeric_train) and (x != 'SalePrice')]"
   ]
  },
  {
   "cell_type": "code",
   "execution_count": 36,
   "metadata": {},
   "outputs": [],
   "source": [
    "pd_train[features_categorical_train] = pd_train[features_categorical_train].fillna('null')"
   ]
  },
  {
   "cell_type": "code",
   "execution_count": 37,
   "metadata": {
    "scrolled": true
   },
   "outputs": [
    {
     "data": {
      "text/plain": [
       "ms_subclass     0\n",
       "ms_zoning       0\n",
       "lot_frontage    0\n",
       "lot_area        0\n",
       "street          0\n",
       "               ..\n",
       "screen_porch    0\n",
       "mo_sold         0\n",
       "yr_sold         0\n",
       "sale_type       0\n",
       "saleprice       0\n",
       "Length: 72, dtype: int64"
      ]
     },
     "execution_count": 37,
     "metadata": {},
     "output_type": "execute_result"
    }
   ],
   "source": [
    "pd_train.isnull().sum()"
   ]
  },
  {
   "cell_type": "code",
   "execution_count": 38,
   "metadata": {},
   "outputs": [],
   "source": [
    "#Identify numeric columns for test dataset and fill null values\n",
    "features_numeric_test = list(pd_test._get_numeric_data())"
   ]
  },
  {
   "cell_type": "code",
   "execution_count": 39,
   "metadata": {},
   "outputs": [],
   "source": [
    "pd_test[features_numeric_test] = pd_test[features_numeric_test].fillna(0)\n",
    "\n",
    "### might want to choose a better way to fillna than this\n",
    "### for example, you might want to fill with the mean or the median of the feature column.\n",
    "### or even better, make some assumptions about the nature of houses in a given neighbourhood, perform a groupby\n",
    "### and fill the missing data using the median of other houses in the neighbourhood."
   ]
  },
  {
   "cell_type": "code",
   "execution_count": 40,
   "metadata": {},
   "outputs": [],
   "source": [
    "#Identify categorical columns for test dataset and fill null values\n",
    "\n",
    "features_categorical_test = [x for x in pd_test.columns if (x not in features_numeric_test)]"
   ]
  },
  {
   "cell_type": "code",
   "execution_count": 41,
   "metadata": {},
   "outputs": [],
   "source": [
    "pd_test[features_categorical_test] = pd_test[features_categorical_test].fillna('null')"
   ]
  },
  {
   "cell_type": "code",
   "execution_count": 42,
   "metadata": {
    "scrolled": true
   },
   "outputs": [
    {
     "data": {
      "text/plain": [
       "ms_subclass     0\n",
       "ms_zoning       0\n",
       "lot_frontage    0\n",
       "lot_area        0\n",
       "street          0\n",
       "               ..\n",
       "3ssn_porch      0\n",
       "screen_porch    0\n",
       "mo_sold         0\n",
       "yr_sold         0\n",
       "sale_type       0\n",
       "Length: 71, dtype: int64"
      ]
     },
     "execution_count": 42,
     "metadata": {},
     "output_type": "execute_result"
    }
   ],
   "source": [
    "pd_test.isnull().sum()"
   ]
  },
  {
   "cell_type": "markdown",
   "metadata": {},
   "source": [
    "### Exploratory Data Analysis (EDA) and Data Visualisation"
   ]
  },
  {
   "cell_type": "code",
   "execution_count": 43,
   "metadata": {
    "scrolled": true
   },
   "outputs": [
    {
     "data": {
      "text/plain": [
       "Text(0.5, 1, 'Ames Housing Heatmap')"
      ]
     },
     "execution_count": 43,
     "metadata": {},
     "output_type": "execute_result"
    },
    {
     "data": {
      "image/png": "[encoded data removed]",
      "text/plain": [
       "<Figure size 432x288 with 2 Axes>"
      ]
     },
     "metadata": {
      "image/png": {
       "height": 263,
       "width": 428
      },
      "needs_background": "light"
     },
     "output_type": "display_data"
    }
   ],
   "source": [
    "#plot heatmap to visualize the correlation between variables\n",
    "\n",
    "top_corr = np.abs(pd_train.corr()[['saleprice']]).sort_values('saleprice', ascending=False)\n",
    "ax = sns.heatmap(top_corr.head(10), cmap='Blues')\n",
    "ax.set_title('Ames Housing Heatmap')"
   ]
  },
  {
   "cell_type": "code",
   "execution_count": 44,
   "metadata": {},
   "outputs": [
    {
     "data": {
      "image/png": "[encoded data removed]",
      "text/plain": [
       "<Figure size 1440x1440 with 2 Axes>"
      ]
     },
     "metadata": {
      "image/png": {
       "height": 1228,
       "width": 1176
      },
      "needs_background": "light"
     },
     "output_type": "display_data"
    }
   ],
   "source": [
    "fix, ax = plt.subplots(figsize=(20,20))\n",
    "train_corr = pd_train.corr()\n",
    "\n",
    "# Generate a mask for the upper triangle \n",
    "mask = np.zeros_like(train_corr, dtype=np.bool)\n",
    "mask[np.triu_indices_from(mask)] = True\n",
    "\n",
    "# Plot the heatmap with seaborn.\n",
    "# Assign the matplotlib axis the function returns. This will let us resize the labels.\n",
    "ax = sns.heatmap(train_corr, mask=mask, ax=ax)\n",
    "\n",
    "# Resize the labels.\n",
    "ax.set_xticklabels(ax.xaxis.get_ticklabels(), fontsize=14)\n",
    "ax.set_yticklabels(ax.yaxis.get_ticklabels(), fontsize=14)\n",
    "\n",
    "plt.show()  ### Good"
   ]
  },
  {
   "cell_type": "code",
   "execution_count": 45,
   "metadata": {
    "scrolled": true
   },
   "outputs": [
    {
     "data": {
      "text/plain": [
       "<seaborn.axisgrid.PairGrid at 0x22d881eb888>"
      ]
     },
     "execution_count": 45,
     "metadata": {},
     "output_type": "execute_result"
    },
    {
     "data": {
      "image/png": "[encoded data removed]",
      "text/plain": [
       "<Figure size 720x180 with 4 Axes>"
      ]
     },
     "metadata": {
      "image/png": {
       "height": 167,
       "width": 723
      },
      "needs_background": "light"
     },
     "output_type": "display_data"
    }
   ],
   "source": [
    "#pairplot\n",
    "sns.pairplot(pd_train, y_vars = 'saleprice', x_vars = ['1st_flr_sf', 'overall_qual', 'total_bsmt_sf', 'garage_area'])"
   ]
  },
  {
   "cell_type": "code",
   "execution_count": 46,
   "metadata": {},
   "outputs": [
    {
     "data": {
      "text/plain": [
       "['ms_subclass',\n",
       " 'ms_zoning',\n",
       " 'street',\n",
       " 'lot_shape',\n",
       " 'land_contour',\n",
       " 'utilities',\n",
       " 'lot_config',\n",
       " 'land_slope',\n",
       " 'neighborhood',\n",
       " 'condition_1',\n",
       " 'condition_2',\n",
       " 'bldg_type',\n",
       " 'house_style',\n",
       " 'roof_style',\n",
       " 'roof_matl',\n",
       " 'exterior_1st',\n",
       " 'exterior_2nd',\n",
       " 'mas_vnr_type',\n",
       " 'exter_qual',\n",
       " 'exter_cond',\n",
       " 'foundation',\n",
       " 'bsmt_qual',\n",
       " 'bsmt_cond',\n",
       " 'bsmt_exposure',\n",
       " 'bsmtfin_type_1',\n",
       " 'bsmtfin_type_2',\n",
       " 'heating',\n",
       " 'heating_qc',\n",
       " 'central_air',\n",
       " 'electrical',\n",
       " 'kitchen_qual',\n",
       " 'functional',\n",
       " 'garage_type',\n",
       " 'garage_finish',\n",
       " 'garage_qual',\n",
       " 'garage_cond',\n",
       " 'paved_drive',\n",
       " 'mo_sold',\n",
       " 'yr_sold',\n",
       " 'sale_type']"
      ]
     },
     "execution_count": 46,
     "metadata": {},
     "output_type": "execute_result"
    }
   ],
   "source": [
    "features_categorical_train"
   ]
  },
  {
   "cell_type": "code",
   "execution_count": 47,
   "metadata": {
    "scrolled": false
   },
   "outputs": [
    {
     "data": {
      "text/plain": [
       "<matplotlib.axes._subplots.AxesSubplot at 0x22d88358d08>"
      ]
     },
     "execution_count": 47,
     "metadata": {},
     "output_type": "execute_result"
    },
    {
     "data": {
      "image/png": "[encoded data removed]",
      "text/plain": [
       "<Figure size 432x288 with 1 Axes>"
      ]
     },
     "metadata": {
      "image/png": {
       "height": 262,
       "width": 408
      },
      "needs_background": "light"
     },
     "output_type": "display_data"
    }
   ],
   "source": [
    "#Finding out interesting categorical variables with boxplot.\n",
    "#Identifies the building type involved in the sale and the corresponding sale price\n",
    "#Townhouse End Unit has the highest mean sales price.\n",
    "sns.boxplot(x='bldg_type', y=\"saleprice\", data=pd_train)"
   ]
  },
  {
   "cell_type": "code",
   "execution_count": 48,
   "metadata": {
    "scrolled": false
   },
   "outputs": [
    {
     "data": {
      "text/plain": [
       "<matplotlib.axes._subplots.AxesSubplot at 0x22d88754dc8>"
      ]
     },
     "execution_count": 48,
     "metadata": {},
     "output_type": "execute_result"
    },
    {
     "data": {
      "image/png": "[encoded data removed]",
      "text/plain": [
       "<Figure size 432x288 with 1 Axes>"
      ]
     },
     "metadata": {
      "image/png": {
       "height": 262,
       "width": 408
      },
      "needs_background": "light"
     },
     "output_type": "display_data"
    }
   ],
   "source": [
    "#Identifies the type of dwelling involved in the sale and the corresponding sale price\n",
    "#1-STORY PUD has the highest mean sales price.\n",
    "sns.boxplot(x='ms_subclass', y=\"saleprice\", data=pd_train)"
   ]
  },
  {
   "cell_type": "code",
   "execution_count": 49,
   "metadata": {},
   "outputs": [
    {
     "data": {
      "text/plain": [
       "<matplotlib.axes._subplots.AxesSubplot at 0x22d88b40f08>"
      ]
     },
     "execution_count": 49,
     "metadata": {},
     "output_type": "execute_result"
    },
    {
     "data": {
      "image/png": "[encoded data removed]",
      "text/plain": [
       "<Figure size 432x288 with 1 Axes>"
      ]
     },
     "metadata": {
      "image/png": {
       "height": 262,
       "width": 408
      },
      "needs_background": "light"
     },
     "output_type": "display_data"
    }
   ],
   "source": [
    "#Identifies the general zoning classification of the sale and the corresponding sale price\n",
    "sns.boxplot(x='ms_zoning', y=\"saleprice\", data=pd_train)"
   ]
  },
  {
   "cell_type": "code",
   "execution_count": 50,
   "metadata": {
    "scrolled": true
   },
   "outputs": [
    {
     "data": {
      "text/plain": [
       "<matplotlib.axes._subplots.AxesSubplot at 0x22d88c3c708>"
      ]
     },
     "execution_count": 50,
     "metadata": {},
     "output_type": "execute_result"
    },
    {
     "data": {
      "image/png": "[encoded data removed]",
      "text/plain": [
       "<Figure size 432x288 with 1 Axes>"
      ]
     },
     "metadata": {
      "image/png": {
       "height": 262,
       "width": 408
      },
      "needs_background": "light"
     },
     "output_type": "display_data"
    }
   ],
   "source": [
    "#Identifies the sale type and the corresponding sale price\n",
    "#Residential Low Density has the highest mean sales price.\n",
    "sns.boxplot(x='sale_type', y=\"saleprice\", data=pd_train)   ### No treatment of anomalies?"
   ]
  },
  {
   "cell_type": "markdown",
   "metadata": {},
   "source": [
    "### Feature Engineering: Interaction terms "
   ]
  },
  {
   "cell_type": "code",
   "execution_count": 51,
   "metadata": {},
   "outputs": [],
   "source": [
    "#I observed that the house is broken down into total basement sq ft, 1st flr ft and 2nd flr ft, \n",
    "#which are correlated and can be combined into a single column\n",
    "\n",
    "pd_train['total_sf'] = pd_train['total_bsmt_sf'] * pd_train['1st_flr_sf'] * pd_train['2nd_flr_sf'] \n",
    "pd_test['total_sf'] = pd_test['total_bsmt_sf'] * pd_test['1st_flr_sf'] * pd_test['2nd_flr_sf']     \n",
    "\n",
    "### This is wrong. If I had no second floor '2nd_flr_sf' == 0, then my 'total_sf' would be zero.\n",
    "### You can probably just sum the right hand side.\n",
    "### I think I mentioned that this might result in numeric instability in the linear algebra routines since they're \n",
    "### linearly dependent columns, but this should be fine so long as you don't use the vanilla linear regression."
   ]
  },
  {
   "cell_type": "code",
   "execution_count": 52,
   "metadata": {},
   "outputs": [],
   "source": [
    "#I observed that half bath and full bath could essentially be combined into a single column\n",
    "pd_train['total_bath'] = pd_train['bsmt_full_bath'] * pd_train['bsmt_half_bath'] * pd_train['full_bath'] * pd_train['half_bath']   \n",
    "pd_test['total_bath'] = pd_test['bsmt_full_bath'] * pd_test['bsmt_half_bath'] * pd_test['full_bath'] * pd_test['half_bath']  "
   ]
  },
  {
   "cell_type": "code",
   "execution_count": 53,
   "metadata": {},
   "outputs": [],
   "source": [
    "#I observed that there are many features speaking of garage, which could be combined into an interaction term.\n",
    "pd_train['garage_info'] = pd_train['garage_yr_blt'] * pd_train['garage_cars'] * pd_train['garage_area']\n",
    "pd_test['garage_info'] = pd_test['garage_yr_blt'] * pd_test['garage_cars'] * pd_test['garage_area']"
   ]
  },
  {
   "cell_type": "code",
   "execution_count": 54,
   "metadata": {
    "scrolled": true
   },
   "outputs": [
    {
     "data": {
      "text/plain": [
       "<matplotlib.axes._subplots.AxesSubplot at 0x22d88f16848>"
      ]
     },
     "execution_count": 54,
     "metadata": {},
     "output_type": "execute_result"
    },
    {
     "data": {
      "image/png": "[encoded data removed]",
      "text/plain": [
       "<Figure size 432x288 with 2 Axes>"
      ]
     },
     "metadata": {
      "image/png": {
       "height": 252,
       "width": 428
      },
      "needs_background": "light"
     },
     "output_type": "display_data"
    }
   ],
   "source": [
    "#from heatmap, we can tell that overall_qual has highest correlation with sale price.\n",
    "top_corr = np.abs(pd_train.corr()[['saleprice']]).sort_values('saleprice', ascending=False)\n",
    "sns.heatmap(top_corr.head(10), cmap='Blues')"
   ]
  },
  {
   "cell_type": "markdown",
   "metadata": {},
   "source": [
    "### Feature Selection: Chi-Square Test (Categorical Variables)"
   ]
  },
  {
   "cell_type": "code",
   "execution_count": 55,
   "metadata": {},
   "outputs": [],
   "source": [
    "import scipy.stats as stats\n",
    "from scipy.stats import chi2_contingency"
   ]
  },
  {
   "cell_type": "code",
   "execution_count": 56,
   "metadata": {},
   "outputs": [],
   "source": [
    "#I want to discard categorical variables which exhibit dependency. Only keep those which are independent \n",
    "#Null hypothesis is the categorical variables are independent of each other. Hence if p>alpha, we accept the null hypothesis."
   ]
  },
  {
   "cell_type": "code",
   "execution_count": 57,
   "metadata": {},
   "outputs": [
    {
     "name": "stdout",
     "output_type": "stream",
     "text": [
      "ms_subclass is NOT IMPORTANT for Prediction. (Discard ms_subclass from model)\n",
      "ms_zoning is NOT IMPORTANT for Prediction. (Discard ms_zoning from model)\n",
      "street is NOT IMPORTANT for Prediction. (Discard street from model)\n",
      "lot_shape is IMPORTANT for Prediction\n",
      "land_contour is NOT IMPORTANT for Prediction. (Discard land_contour from model)\n",
      "utilities is NOT IMPORTANT for Prediction. (Discard utilities from model)\n",
      "lot_config is IMPORTANT for Prediction\n",
      "land_slope is IMPORTANT for Prediction\n",
      "neighborhood is NOT IMPORTANT for Prediction. (Discard neighborhood from model)\n",
      "condition_1 is NOT IMPORTANT for Prediction. (Discard condition_1 from model)\n",
      "condition_2 is IMPORTANT for Prediction\n",
      "bldg_type is NOT IMPORTANT for Prediction. (Discard bldg_type from model)\n",
      "house_style is NOT IMPORTANT for Prediction. (Discard house_style from model)\n",
      "roof_style is IMPORTANT for Prediction\n",
      "roof_matl is IMPORTANT for Prediction\n",
      "exterior_1st is NOT IMPORTANT for Prediction. (Discard exterior_1st from model)\n",
      "exterior_2nd is NOT IMPORTANT for Prediction. (Discard exterior_2nd from model)\n",
      "mas_vnr_type is NOT IMPORTANT for Prediction. (Discard mas_vnr_type from model)\n",
      "exter_qual is NOT IMPORTANT for Prediction. (Discard exter_qual from model)\n",
      "exter_cond is NOT IMPORTANT for Prediction. (Discard exter_cond from model)\n",
      "foundation is NOT IMPORTANT for Prediction. (Discard foundation from model)\n",
      "bsmt_qual is NOT IMPORTANT for Prediction. (Discard bsmt_qual from model)\n",
      "bsmt_cond is NOT IMPORTANT for Prediction. (Discard bsmt_cond from model)\n",
      "bsmt_exposure is NOT IMPORTANT for Prediction. (Discard bsmt_exposure from model)\n",
      "bsmtfin_type_1 is NOT IMPORTANT for Prediction. (Discard bsmtfin_type_1 from model)\n",
      "bsmtfin_type_2 is NOT IMPORTANT for Prediction. (Discard bsmtfin_type_2 from model)\n",
      "heating is IMPORTANT for Prediction\n",
      "heating_qc is NOT IMPORTANT for Prediction. (Discard heating_qc from model)\n",
      "central_air is NOT IMPORTANT for Prediction. (Discard central_air from model)\n",
      "electrical is IMPORTANT for Prediction\n",
      "kitchen_qual is NOT IMPORTANT for Prediction. (Discard kitchen_qual from model)\n",
      "functional is IMPORTANT for Prediction\n",
      "garage_type is NOT IMPORTANT for Prediction. (Discard garage_type from model)\n",
      "garage_finish is NOT IMPORTANT for Prediction. (Discard garage_finish from model)\n",
      "garage_qual is IMPORTANT for Prediction\n",
      "garage_cond is NOT IMPORTANT for Prediction. (Discard garage_cond from model)\n",
      "paved_drive is NOT IMPORTANT for Prediction. (Discard paved_drive from model)\n",
      "mo_sold is NOT IMPORTANT for Prediction. (Discard mo_sold from model)\n",
      "yr_sold is NOT IMPORTANT for Prediction. (Discard yr_sold from model)\n",
      "sale_type is NOT IMPORTANT for Prediction. (Discard sale_type from model)\n"
     ]
    }
   ],
   "source": [
    "class ChiSquare:                          \n",
    "    def __init__(self, dataframe):\n",
    "        self.df = dataframe\n",
    "        self.p = None #P-Value\n",
    "        self.chi2 = None #Chi Test Statistic\n",
    "        self.dof = None\n",
    "        \n",
    "        self.dfObserved = None\n",
    "        self.dfExpected = None\n",
    "        \n",
    "    def _print_chisquare_result(self, colX, alpha):\n",
    "        result = \"\"\n",
    "        if self.p>alpha:\n",
    "            result=\"{0} is IMPORTANT for Prediction\".format(colX)\n",
    "        else:\n",
    "            result=\"{0} is NOT IMPORTANT for Prediction. (Discard {0} from model)\".format(colX)\n",
    "        print(result)\n",
    "        \n",
    "    def TestIndependence(self,colX,colY, alpha=0.05):\n",
    "        X = self.df[colX].astype(str)\n",
    "        Y = self.df[colY].astype(str)\n",
    "        \n",
    "        self.dfObserved = pd.crosstab(Y,X) \n",
    "        chi2, p, dof, expected = stats.chi2_contingency(self.dfObserved.values)\n",
    "        self.p = p\n",
    "        self.chi2 = chi2\n",
    "        self.dof = dof \n",
    "        \n",
    "        self.dfExpected = pd.DataFrame(expected, columns=self.dfObserved.columns, index = self.dfObserved.index)\n",
    "        \n",
    "\n",
    "\n",
    "#Initialize ChiSquare Class\n",
    "cT = ChiSquare(pd_train)\n",
    "\n",
    "#Feature Selection\n",
    "testColumns = features_categorical_train\n",
    "for i in range(len(testColumns)):\n",
    "        for j in range(i+1, len(testColumns)):\n",
    "            cT.TestIndependence(testColumns[i],testColumns[j])\n",
    "        cT._print_chisquare_result(testColumns[i],alpha=0.05)"
   ]
  },
  {
   "cell_type": "code",
   "execution_count": 58,
   "metadata": {},
   "outputs": [
    {
     "data": {
      "text/plain": [
       "(2051, 75)"
      ]
     },
     "execution_count": 58,
     "metadata": {},
     "output_type": "execute_result"
    }
   ],
   "source": [
    "pd_train.shape"
   ]
  },
  {
   "cell_type": "code",
   "execution_count": 59,
   "metadata": {},
   "outputs": [
    {
     "data": {
      "text/plain": [
       "(879, 74)"
      ]
     },
     "execution_count": 59,
     "metadata": {},
     "output_type": "execute_result"
    }
   ],
   "source": [
    "pd_test.shape"
   ]
  },
  {
   "cell_type": "code",
   "execution_count": 60,
   "metadata": {},
   "outputs": [],
   "source": [
    "selected_categorical_train = ['lot_shape', 'lot_config', 'land_slope', 'condition_2', 'roof_style',\n",
    "                                         'roof_matl', 'heating', 'electrical',\n",
    "                                        'functional', 'garage_qual']"
   ]
  },
  {
   "cell_type": "code",
   "execution_count": 61,
   "metadata": {},
   "outputs": [],
   "source": [
    "selected_categorical_test = ['lot_shape', 'lot_config', 'land_slope', 'condition_2', 'roof_style',\n",
    "                                         'roof_matl', 'heating', 'electrical',\n",
    "                                        'functional', 'garage_qual']"
   ]
  },
  {
   "cell_type": "code",
   "execution_count": 62,
   "metadata": {},
   "outputs": [],
   "source": [
    "pd_train = pd_train.drop(columns = ['ms_subclass', 'ms_zoning', 'street', 'land_contour', 'utilities', 'neighborhood', 'condition_1', \n",
    "                         'bldg_type', 'house_style', 'exterior_1st', 'exterior_2nd', 'mas_vnr_type', 'exter_qual','exter_cond',\n",
    "                         'foundation', 'bsmt_qual', 'bsmt_cond','bsmt_exposure','bsmtfin_type_1','bsmtfin_type_2',\n",
    "                         'heating_qc', 'central_air','kitchen_qual','garage_type','garage_finish','garage_cond','paved_drive',\n",
    "                         'mo_sold', 'yr_sold', 'sale_type'], axis = 1)"
   ]
  },
  {
   "cell_type": "code",
   "execution_count": 63,
   "metadata": {
    "scrolled": true
   },
   "outputs": [],
   "source": [
    "pd_test = pd_test.drop(columns = ['ms_subclass', 'ms_zoning', 'street', 'land_contour', 'utilities', 'neighborhood', 'condition_1', \n",
    "                         'bldg_type', 'house_style', 'exterior_1st', 'exterior_2nd', 'mas_vnr_type', 'exter_qual','exter_cond',\n",
    "                         'foundation', 'bsmt_qual', 'bsmt_cond','bsmt_exposure','bsmtfin_type_1','bsmtfin_type_2',\n",
    "                         'heating_qc', 'central_air','kitchen_qual','garage_type','garage_finish','garage_cond','paved_drive',\n",
    "                         'mo_sold', 'yr_sold', 'sale_type'], axis = 1)"
   ]
  },
  {
   "cell_type": "markdown",
   "metadata": {},
   "source": [
    "### Feature Selection: Heatmap (Numerical Variables)"
   ]
  },
  {
   "cell_type": "code",
   "execution_count": 64,
   "metadata": {},
   "outputs": [
    {
     "data": {
      "text/plain": [
       "<matplotlib.axes._subplots.AxesSubplot at 0x22d86e4d948>"
      ]
     },
     "execution_count": 64,
     "metadata": {},
     "output_type": "execute_result"
    },
    {
     "data": {
      "image/png": "[encoded data removed]",
      "text/plain": [
       "<Figure size 432x288 with 2 Axes>"
      ]
     },
     "metadata": {
      "image/png": {
       "height": 252,
       "width": 428
      },
      "needs_background": "light"
     },
     "output_type": "display_data"
    }
   ],
   "source": [
    "high_corr = np.abs(pd_train.corr()[['saleprice']]).sort_values('saleprice', ascending=False)\n",
    "sns.heatmap(high_corr.head(10), cmap='Blues')"
   ]
  },
  {
   "cell_type": "code",
   "execution_count": 65,
   "metadata": {
    "scrolled": true
   },
   "outputs": [
    {
     "data": {
      "text/html": [
       "<div>\n",
       "<style scoped>\n",
       "    .dataframe tbody tr th:only-of-type {\n",
       "        vertical-align: middle;\n",
       "    }\n",
       "\n",
       "    .dataframe tbody tr th {\n",
       "        vertical-align: top;\n",
       "    }\n",
       "\n",
       "    .dataframe thead th {\n",
       "        text-align: right;\n",
       "    }\n",
       "</style>\n",
       "<table border=\"1\" class=\"dataframe\">\n",
       "  <thead>\n",
       "    <tr style=\"text-align: right;\">\n",
       "      <th></th>\n",
       "      <th>saleprice</th>\n",
       "    </tr>\n",
       "  </thead>\n",
       "  <tbody>\n",
       "    <tr>\n",
       "      <th>saleprice</th>\n",
       "      <td>1.000000</td>\n",
       "    </tr>\n",
       "    <tr>\n",
       "      <th>overall_qual</th>\n",
       "      <td>0.800207</td>\n",
       "    </tr>\n",
       "    <tr>\n",
       "      <th>gr_liv_area</th>\n",
       "      <td>0.697038</td>\n",
       "    </tr>\n",
       "    <tr>\n",
       "      <th>garage_info</th>\n",
       "      <td>0.694782</td>\n",
       "    </tr>\n",
       "    <tr>\n",
       "      <th>garage_area</th>\n",
       "      <td>0.649897</td>\n",
       "    </tr>\n",
       "    <tr>\n",
       "      <th>garage_cars</th>\n",
       "      <td>0.647781</td>\n",
       "    </tr>\n",
       "    <tr>\n",
       "      <th>total_bsmt_sf</th>\n",
       "      <td>0.629303</td>\n",
       "    </tr>\n",
       "    <tr>\n",
       "      <th>1st_flr_sf</th>\n",
       "      <td>0.618486</td>\n",
       "    </tr>\n",
       "    <tr>\n",
       "      <th>year_built</th>\n",
       "      <td>0.571849</td>\n",
       "    </tr>\n",
       "    <tr>\n",
       "      <th>year_remod/add</th>\n",
       "      <td>0.550370</td>\n",
       "    </tr>\n",
       "  </tbody>\n",
       "</table>\n",
       "</div>"
      ],
      "text/plain": [
       "                saleprice\n",
       "saleprice        1.000000\n",
       "overall_qual     0.800207\n",
       "gr_liv_area      0.697038\n",
       "garage_info      0.694782\n",
       "garage_area      0.649897\n",
       "garage_cars      0.647781\n",
       "total_bsmt_sf    0.629303\n",
       "1st_flr_sf       0.618486\n",
       "year_built       0.571849\n",
       "year_remod/add   0.550370"
      ]
     },
     "execution_count": 65,
     "metadata": {},
     "output_type": "execute_result"
    }
   ],
   "source": [
    "high_corr.head(10)"
   ]
  },
  {
   "cell_type": "code",
   "execution_count": 66,
   "metadata": {
    "scrolled": true
   },
   "outputs": [],
   "source": [
    "selected_numeric_train = pd_train[['overall_qual', 'gr_liv_area', 'garage_info','garage_area', \n",
    "                                   'garage_cars', 'total_bsmt_sf', '1st_flr_sf', \n",
    "                                   'year_built', 'year_remod/add']]"
   ]
  },
  {
   "cell_type": "code",
   "execution_count": 67,
   "metadata": {},
   "outputs": [
    {
     "data": {
      "text/plain": [
       "pandas.core.frame.DataFrame"
      ]
     },
     "execution_count": 67,
     "metadata": {},
     "output_type": "execute_result"
    }
   ],
   "source": [
    "type(selected_numeric_train)"
   ]
  },
  {
   "cell_type": "code",
   "execution_count": 68,
   "metadata": {},
   "outputs": [],
   "source": [
    "selected_numeric_test = pd_test[['overall_qual', 'gr_liv_area', 'garage_info','garage_area', \n",
    "                                   'garage_cars', 'total_bsmt_sf', '1st_flr_sf', \n",
    "                                   'year_built', 'year_remod/add']]"
   ]
  },
  {
   "cell_type": "code",
   "execution_count": 69,
   "metadata": {},
   "outputs": [
    {
     "data": {
      "text/plain": [
       "pandas.core.frame.DataFrame"
      ]
     },
     "execution_count": 69,
     "metadata": {},
     "output_type": "execute_result"
    }
   ],
   "source": [
    "type(selected_numeric_test)"
   ]
  },
  {
   "cell_type": "code",
   "execution_count": 70,
   "metadata": {},
   "outputs": [],
   "source": [
    "num_feature = list(pd_train._get_numeric_data())"
   ]
  },
  {
   "cell_type": "code",
   "execution_count": 71,
   "metadata": {
    "scrolled": true
   },
   "outputs": [
    {
     "data": {
      "text/plain": [
       "['lot_frontage',\n",
       " 'lot_area',\n",
       " 'overall_qual',\n",
       " 'overall_cond',\n",
       " 'year_built',\n",
       " 'year_remod/add',\n",
       " 'mas_vnr_area',\n",
       " 'bsmtfin_sf_1',\n",
       " 'bsmtfin_sf_2',\n",
       " 'bsmt_unf_sf',\n",
       " 'total_bsmt_sf',\n",
       " '1st_flr_sf',\n",
       " '2nd_flr_sf',\n",
       " 'low_qual_fin_sf',\n",
       " 'gr_liv_area',\n",
       " 'bsmt_full_bath',\n",
       " 'bsmt_half_bath',\n",
       " 'full_bath',\n",
       " 'half_bath',\n",
       " 'bedroom_abvgr',\n",
       " 'kitchen_abvgr',\n",
       " 'totrms_abvgrd',\n",
       " 'fireplaces',\n",
       " 'garage_yr_blt',\n",
       " 'garage_cars',\n",
       " 'garage_area',\n",
       " 'wood_deck_sf',\n",
       " 'open_porch_sf',\n",
       " 'enclosed_porch',\n",
       " '3ssn_porch',\n",
       " 'screen_porch',\n",
       " 'saleprice',\n",
       " 'total_sf',\n",
       " 'total_bath',\n",
       " 'garage_info']"
      ]
     },
     "execution_count": 71,
     "metadata": {},
     "output_type": "execute_result"
    }
   ],
   "source": [
    "num_feature"
   ]
  },
  {
   "cell_type": "code",
   "execution_count": 72,
   "metadata": {},
   "outputs": [],
   "source": [
    "pd_train = pd_train.drop(columns = ['lot_frontage',\n",
    " 'lot_area',\n",
    " 'overall_cond',\n",
    " 'mas_vnr_area',\n",
    " 'bsmtfin_sf_1',\n",
    " 'bsmtfin_sf_2',\n",
    " 'bsmt_unf_sf',\n",
    " '2nd_flr_sf',\n",
    " 'low_qual_fin_sf',\n",
    " 'bsmt_full_bath',\n",
    " 'bsmt_half_bath',\n",
    " 'half_bath',\n",
    " 'bedroom_abvgr',\n",
    " 'kitchen_abvgr',\n",
    " 'totrms_abvgrd',\n",
    " 'fireplaces',\n",
    " 'garage_yr_blt',\n",
    " 'wood_deck_sf',\n",
    " 'open_porch_sf',\n",
    " 'enclosed_porch',\n",
    " '3ssn_porch',\n",
    " 'screen_porch',\n",
    " 'total_sf',\n",
    " 'total_bath','full_bath'], axis =1)\n"
   ]
  },
  {
   "cell_type": "code",
   "execution_count": 73,
   "metadata": {},
   "outputs": [],
   "source": [
    "pd_test = pd_test.drop(columns = ['lot_frontage',\n",
    " 'lot_area',\n",
    " 'overall_cond',\n",
    " 'mas_vnr_area',\n",
    " 'bsmtfin_sf_1',\n",
    " 'bsmtfin_sf_2',\n",
    " 'bsmt_unf_sf',\n",
    " '2nd_flr_sf',\n",
    " 'low_qual_fin_sf',\n",
    " 'bsmt_full_bath',\n",
    " 'bsmt_half_bath',\n",
    " 'half_bath',\n",
    " 'bedroom_abvgr',\n",
    " 'kitchen_abvgr',\n",
    " 'totrms_abvgrd',\n",
    " 'fireplaces',\n",
    " 'garage_yr_blt',\n",
    " 'wood_deck_sf',\n",
    " 'open_porch_sf',\n",
    " 'enclosed_porch',\n",
    " '3ssn_porch',\n",
    " 'screen_porch',\n",
    " 'total_sf',\n",
    " 'total_bath','full_bath'], axis =1)\n"
   ]
  },
  {
   "cell_type": "markdown",
   "metadata": {},
   "source": [
    "### Dummy Variables"
   ]
  },
  {
   "cell_type": "code",
   "execution_count": null,
   "metadata": {},
   "outputs": [],
   "source": [
    "### You could have just concaternated the two datasets to each other, performed the \n",
    "### pd.get_dummies operation then split them up once you're done.\n",
    "### since you're forcing drop_first, this is doubly important.\n",
    "###\n",
    "### (all categories)  init_col  |                         is_b  | is_c |\n",
    "###                      a      |                          0    |  0   |\n",
    "###                      b      |     -- get_dummies-->    1    |  0   |\n",
    "###                      c      |                          0    |  1   |\n",
    "###                      a      |                          0    |  0   |\n",
    "###\n",
    "### (missing one)     init_col  |                         is_c  |                           is_b  | is_c |\n",
    "###                      b      |                          0    |                            0    |  0   |\n",
    "###                      b      |     -- get_dummies-->    0    |    ---adding missing -->   0    |  0   |  which is wrong\n",
    "###                      c      |                          1    |                            0    |  1   |\n",
    "###                      c      |                          1    |                            0    |  1   |\n",
    "###\n",
    "### eg if your columns are (a, b ,c) for categories in train, you'd get is_b and is_c for columns in the get_dummies\n",
    "### if you force drop_fist. But if you only have (b ,c) for categories in test, you'd get is_c for the column in the \n",
    "### dummied set, then adding back is_b would be wrong as it would suggest that there are no bs."
   ]
  },
  {
   "cell_type": "code",
   "execution_count": 74,
   "metadata": {},
   "outputs": [],
   "source": [
    "pd_train = pd.get_dummies(pd_train, columns=[x for x in selected_categorical_train], drop_first=True)"
   ]
  },
  {
   "cell_type": "code",
   "execution_count": 75,
   "metadata": {},
   "outputs": [],
   "source": [
    "pd_test = pd.get_dummies(pd_test, columns=[x for x in selected_categorical_test], drop_first=True)"
   ]
  },
  {
   "cell_type": "code",
   "execution_count": 76,
   "metadata": {},
   "outputs": [],
   "source": [
    "features_train = [x for x in pd_train.columns if x != 'saleprice']\n",
    "\n",
    "# Find missing columns in test\n",
    "missing_cols = set(pd_train.columns) - set(pd_test.columns)\n",
    "# Add a missing column in test with default value equal to 0\n",
    "for i in missing_cols:\n",
    "    pd_test[i] = 0\n",
    "# Ensure the order of columns in test is the same as in train\n",
    "pd_test = pd_test[features_train]"
   ]
  },
  {
   "cell_type": "code",
   "execution_count": 77,
   "metadata": {
    "scrolled": true
   },
   "outputs": [
    {
     "data": {
      "text/plain": [
       "(2051, 56)"
      ]
     },
     "execution_count": 77,
     "metadata": {},
     "output_type": "execute_result"
    }
   ],
   "source": [
    "pd_train.shape #additional one column for saleprice"
   ]
  },
  {
   "cell_type": "code",
   "execution_count": 78,
   "metadata": {},
   "outputs": [
    {
     "data": {
      "text/plain": [
       "(879, 55)"
      ]
     },
     "execution_count": 78,
     "metadata": {},
     "output_type": "execute_result"
    }
   ],
   "source": [
    "pd_test.shape"
   ]
  },
  {
   "cell_type": "markdown",
   "metadata": {},
   "source": [
    "### Create our features matrix (X) and target vector (y)"
   ]
  },
  {
   "cell_type": "code",
   "execution_count": 79,
   "metadata": {},
   "outputs": [],
   "source": [
    "#X includes the top numeric features obtained from heatmap, suitable categorical features from chi-sq and the dummy variables.\n",
    "\n",
    "X = pd_train[[x for x in pd_train.columns if x != 'saleprice']]"
   ]
  },
  {
   "cell_type": "code",
   "execution_count": 80,
   "metadata": {},
   "outputs": [
    {
     "data": {
      "text/plain": [
       "pandas.core.frame.DataFrame"
      ]
     },
     "execution_count": 80,
     "metadata": {},
     "output_type": "execute_result"
    }
   ],
   "source": [
    "type(X)"
   ]
  },
  {
   "cell_type": "code",
   "execution_count": 81,
   "metadata": {},
   "outputs": [],
   "source": [
    "y = pd_train.saleprice.values"
   ]
  },
  {
   "cell_type": "code",
   "execution_count": 82,
   "metadata": {},
   "outputs": [],
   "source": [
    "X_t = pd_test"
   ]
  },
  {
   "cell_type": "markdown",
   "metadata": {},
   "source": [
    "### Build a linear regression model and conduct Cross Validation"
   ]
  },
  {
   "cell_type": "code",
   "execution_count": 83,
   "metadata": {},
   "outputs": [],
   "source": [
    "X_train, X_test, y_train, y_test = train_test_split(X, y, random_state= 42, test_size = 0.2)"
   ]
  },
  {
   "cell_type": "code",
   "execution_count": 84,
   "metadata": {},
   "outputs": [],
   "source": [
    "#Baseline linear Regression Model with the selected features\n",
    "lm = LinearRegression()\n",
    "model = lm.fit(X_train,y_train)"
   ]
  },
  {
   "cell_type": "code",
   "execution_count": 85,
   "metadata": {},
   "outputs": [],
   "source": [
    "predictions  =  model.predict(X_test)\n",
    "score        =  model.score(X_test, y_test)"
   ]
  },
  {
   "cell_type": "code",
   "execution_count": 86,
   "metadata": {},
   "outputs": [
    {
     "data": {
      "text/plain": [
       "0.847"
      ]
     },
     "execution_count": 86,
     "metadata": {},
     "output_type": "execute_result"
    }
   ],
   "source": [
    "score.round(3)"
   ]
  },
  {
   "cell_type": "code",
   "execution_count": 87,
   "metadata": {},
   "outputs": [],
   "source": [
    "#Cross Validation\n",
    "lm = LinearRegression()\n",
    "scores = cross_val_score(lm, X, y, cv=10) "
   ]
  },
  {
   "cell_type": "code",
   "execution_count": 88,
   "metadata": {
    "scrolled": true
   },
   "outputs": [
    {
     "name": "stdout",
     "output_type": "stream",
     "text": [
      "Cross validation scores:  [0.82116158 0.8508863  0.8486146  0.8646872  0.63228149 0.85166525\n",
      " 0.86576373 0.84611709 0.8386329  0.63120433]\n",
      "\n",
      "\n",
      "Mean score:  0.805\n"
     ]
    }
   ],
   "source": [
    "print(\"Cross validation scores: \",scores)\n",
    "print(\"\\n\")\n",
    "print(\"Mean score: \",scores.mean().round(3))"
   ]
  },
  {
   "cell_type": "markdown",
   "metadata": {},
   "source": [
    "### Scaling"
   ]
  },
  {
   "cell_type": "code",
   "execution_count": 89,
   "metadata": {},
   "outputs": [
    {
     "data": {
      "text/html": [
       "<div>\n",
       "<style scoped>\n",
       "    .dataframe tbody tr th:only-of-type {\n",
       "        vertical-align: middle;\n",
       "    }\n",
       "\n",
       "    .dataframe tbody tr th {\n",
       "        vertical-align: top;\n",
       "    }\n",
       "\n",
       "    .dataframe thead th {\n",
       "        text-align: right;\n",
       "    }\n",
       "</style>\n",
       "<table border=\"1\" class=\"dataframe\">\n",
       "  <thead>\n",
       "    <tr style=\"text-align: right;\">\n",
       "      <th></th>\n",
       "      <th>0</th>\n",
       "      <th>1</th>\n",
       "      <th>2</th>\n",
       "      <th>3</th>\n",
       "      <th>4</th>\n",
       "      <th>5</th>\n",
       "      <th>6</th>\n",
       "      <th>7</th>\n",
       "      <th>8</th>\n",
       "      <th>9</th>\n",
       "      <th>...</th>\n",
       "      <th>45</th>\n",
       "      <th>46</th>\n",
       "      <th>47</th>\n",
       "      <th>48</th>\n",
       "      <th>49</th>\n",
       "      <th>50</th>\n",
       "      <th>51</th>\n",
       "      <th>52</th>\n",
       "      <th>53</th>\n",
       "      <th>54</th>\n",
       "    </tr>\n",
       "  </thead>\n",
       "  <tbody>\n",
       "    <tr>\n",
       "      <th>0</th>\n",
       "      <td>-0.081747</td>\n",
       "      <td>1.097701</td>\n",
       "      <td>0.990598</td>\n",
       "      <td>0.656487</td>\n",
       "      <td>0.478981</td>\n",
       "      <td>-0.279707</td>\n",
       "      <td>0.298359</td>\n",
       "      <td>0.048810</td>\n",
       "      <td>-0.016783</td>\n",
       "      <td>-0.158114</td>\n",
       "      <td>...</td>\n",
       "      <td>-0.145501</td>\n",
       "      <td>-0.124418</td>\n",
       "      <td>-0.034943</td>\n",
       "      <td>-0.024701</td>\n",
       "      <td>0.264193</td>\n",
       "      <td>-0.207983</td>\n",
       "      <td>-0.099258</td>\n",
       "      <td>-0.034943</td>\n",
       "      <td>0.353311</td>\n",
       "      <td>-0.245186</td>\n",
       "    </tr>\n",
       "    <tr>\n",
       "      <th>1</th>\n",
       "      <td>1.322072</td>\n",
       "      <td>1.130806</td>\n",
       "      <td>1.038255</td>\n",
       "      <td>1.929778</td>\n",
       "      <td>2.000532</td>\n",
       "      <td>0.936761</td>\n",
       "      <td>1.603182</td>\n",
       "      <td>1.925248</td>\n",
       "      <td>2.296601</td>\n",
       "      <td>-0.158114</td>\n",
       "      <td>...</td>\n",
       "      <td>-0.145501</td>\n",
       "      <td>-0.124418</td>\n",
       "      <td>-0.034943</td>\n",
       "      <td>-0.024701</td>\n",
       "      <td>0.264193</td>\n",
       "      <td>-0.207983</td>\n",
       "      <td>-0.099258</td>\n",
       "      <td>-0.034943</td>\n",
       "      <td>0.353311</td>\n",
       "      <td>-0.245186</td>\n",
       "    </tr>\n",
       "    <tr>\n",
       "      <th>2</th>\n",
       "      <td>-0.081747</td>\n",
       "      <td>0.170771</td>\n",
       "      <td>-0.343799</td>\n",
       "      <td>0.404919</td>\n",
       "      <td>0.474033</td>\n",
       "      <td>-0.283663</td>\n",
       "      <td>0.298359</td>\n",
       "      <td>0.249693</td>\n",
       "      <td>0.081836</td>\n",
       "      <td>-0.158114</td>\n",
       "      <td>...</td>\n",
       "      <td>-0.145501</td>\n",
       "      <td>-0.124418</td>\n",
       "      <td>-0.034943</td>\n",
       "      <td>-0.024701</td>\n",
       "      <td>0.264193</td>\n",
       "      <td>-0.207983</td>\n",
       "      <td>-0.099258</td>\n",
       "      <td>-0.034943</td>\n",
       "      <td>0.353311</td>\n",
       "      <td>-0.245186</td>\n",
       "    </tr>\n",
       "    <tr>\n",
       "      <th>3</th>\n",
       "      <td>1.322072</td>\n",
       "      <td>0.865969</td>\n",
       "      <td>0.656999</td>\n",
       "      <td>0.177624</td>\n",
       "      <td>0.001486</td>\n",
       "      <td>1.510380</td>\n",
       "      <td>0.298359</td>\n",
       "      <td>-0.243385</td>\n",
       "      <td>-0.193057</td>\n",
       "      <td>-0.158114</td>\n",
       "      <td>...</td>\n",
       "      <td>-0.145501</td>\n",
       "      <td>-0.124418</td>\n",
       "      <td>-0.034943</td>\n",
       "      <td>-0.024701</td>\n",
       "      <td>0.264193</td>\n",
       "      <td>-0.207983</td>\n",
       "      <td>-0.099258</td>\n",
       "      <td>-0.034943</td>\n",
       "      <td>0.353311</td>\n",
       "      <td>-0.245186</td>\n",
       "    </tr>\n",
       "  </tbody>\n",
       "</table>\n",
       "<p>4 rows × 55 columns</p>\n",
       "</div>"
      ],
      "text/plain": [
       "         0         1         2         3         4         5         6   \\\n",
       "0 -0.081747  1.097701  0.990598  0.656487  0.478981 -0.279707  0.298359   \n",
       "1  1.322072  1.130806  1.038255  1.929778  2.000532  0.936761  1.603182   \n",
       "2 -0.081747  0.170771 -0.343799  0.404919  0.474033 -0.283663  0.298359   \n",
       "3  1.322072  0.865969  0.656999  0.177624  0.001486  1.510380  0.298359   \n",
       "\n",
       "         7         8         9   ...        45        46        47        48  \\\n",
       "0  0.048810 -0.016783 -0.158114  ... -0.145501 -0.124418 -0.034943 -0.024701   \n",
       "1  1.925248  2.296601 -0.158114  ... -0.145501 -0.124418 -0.034943 -0.024701   \n",
       "2  0.249693  0.081836 -0.158114  ... -0.145501 -0.124418 -0.034943 -0.024701   \n",
       "3 -0.243385 -0.193057 -0.158114  ... -0.145501 -0.124418 -0.034943 -0.024701   \n",
       "\n",
       "         49        50        51        52        53        54  \n",
       "0  0.264193 -0.207983 -0.099258 -0.034943  0.353311 -0.245186  \n",
       "1  0.264193 -0.207983 -0.099258 -0.034943  0.353311 -0.245186  \n",
       "2  0.264193 -0.207983 -0.099258 -0.034943  0.353311 -0.245186  \n",
       "3  0.264193 -0.207983 -0.099258 -0.034943  0.353311 -0.245186  \n",
       "\n",
       "[4 rows x 55 columns]"
      ]
     },
     "execution_count": 89,
     "metadata": {},
     "output_type": "execute_result"
    }
   ],
   "source": [
    "scaler = StandardScaler()\n",
    "scaler.fit(X_train) \n",
    "X_train_scaled = scaler.transform(X_train) \n",
    "\n",
    "X_train_scaled = pd.DataFrame(X_train_scaled)\n",
    "X_train_scaled[:4] #this outputs the first 4 scaled rows across all columns\n"
   ]
  },
  {
   "cell_type": "code",
   "execution_count": 90,
   "metadata": {},
   "outputs": [
    {
     "data": {
      "text/html": [
       "<div>\n",
       "<style scoped>\n",
       "    .dataframe tbody tr th:only-of-type {\n",
       "        vertical-align: middle;\n",
       "    }\n",
       "\n",
       "    .dataframe tbody tr th {\n",
       "        vertical-align: top;\n",
       "    }\n",
       "\n",
       "    .dataframe thead th {\n",
       "        text-align: right;\n",
       "    }\n",
       "</style>\n",
       "<table border=\"1\" class=\"dataframe\">\n",
       "  <thead>\n",
       "    <tr style=\"text-align: right;\">\n",
       "      <th></th>\n",
       "      <th>0</th>\n",
       "      <th>1</th>\n",
       "      <th>2</th>\n",
       "      <th>3</th>\n",
       "      <th>4</th>\n",
       "      <th>5</th>\n",
       "      <th>6</th>\n",
       "      <th>7</th>\n",
       "      <th>8</th>\n",
       "      <th>9</th>\n",
       "      <th>...</th>\n",
       "      <th>45</th>\n",
       "      <th>46</th>\n",
       "      <th>47</th>\n",
       "      <th>48</th>\n",
       "      <th>49</th>\n",
       "      <th>50</th>\n",
       "      <th>51</th>\n",
       "      <th>52</th>\n",
       "      <th>53</th>\n",
       "      <th>54</th>\n",
       "    </tr>\n",
       "  </thead>\n",
       "  <tbody>\n",
       "    <tr>\n",
       "      <th>0</th>\n",
       "      <td>-0.783656</td>\n",
       "      <td>0.137667</td>\n",
       "      <td>-0.391456</td>\n",
       "      <td>-0.329927</td>\n",
       "      <td>-0.520542</td>\n",
       "      <td>-1.078817</td>\n",
       "      <td>0.298359</td>\n",
       "      <td>0.468839</td>\n",
       "      <td>0.208502</td>\n",
       "      <td>-0.158114</td>\n",
       "      <td>...</td>\n",
       "      <td>-0.145501</td>\n",
       "      <td>-0.124418</td>\n",
       "      <td>-0.034943</td>\n",
       "      <td>-0.024701</td>\n",
       "      <td>0.264193</td>\n",
       "      <td>-0.207983</td>\n",
       "      <td>-0.099258</td>\n",
       "      <td>-0.034943</td>\n",
       "      <td>0.353311</td>\n",
       "      <td>-0.245186</td>\n",
       "    </tr>\n",
       "    <tr>\n",
       "      <th>1</th>\n",
       "      <td>0.620163</td>\n",
       "      <td>-0.193379</td>\n",
       "      <td>-0.868026</td>\n",
       "      <td>-0.301239</td>\n",
       "      <td>0.127663</td>\n",
       "      <td>1.300712</td>\n",
       "      <td>0.298359</td>\n",
       "      <td>0.062506</td>\n",
       "      <td>-0.034212</td>\n",
       "      <td>-0.158114</td>\n",
       "      <td>...</td>\n",
       "      <td>-0.145501</td>\n",
       "      <td>-0.124418</td>\n",
       "      <td>-0.034943</td>\n",
       "      <td>-0.024701</td>\n",
       "      <td>0.264193</td>\n",
       "      <td>-0.207983</td>\n",
       "      <td>-0.099258</td>\n",
       "      <td>-0.034943</td>\n",
       "      <td>0.353311</td>\n",
       "      <td>-0.245186</td>\n",
       "    </tr>\n",
       "    <tr>\n",
       "      <th>2</th>\n",
       "      <td>1.322072</td>\n",
       "      <td>1.163910</td>\n",
       "      <td>1.085912</td>\n",
       "      <td>-0.248277</td>\n",
       "      <td>-0.535387</td>\n",
       "      <td>1.164231</td>\n",
       "      <td>1.603182</td>\n",
       "      <td>0.834083</td>\n",
       "      <td>1.332151</td>\n",
       "      <td>-0.158114</td>\n",
       "      <td>...</td>\n",
       "      <td>-0.145501</td>\n",
       "      <td>-0.124418</td>\n",
       "      <td>-0.034943</td>\n",
       "      <td>-0.024701</td>\n",
       "      <td>0.264193</td>\n",
       "      <td>-0.207983</td>\n",
       "      <td>-0.099258</td>\n",
       "      <td>-0.034943</td>\n",
       "      <td>0.353311</td>\n",
       "      <td>-0.245186</td>\n",
       "    </tr>\n",
       "    <tr>\n",
       "      <th>3</th>\n",
       "      <td>-0.081747</td>\n",
       "      <td>-1.881715</td>\n",
       "      <td>-1.630538</td>\n",
       "      <td>-0.561635</td>\n",
       "      <td>-0.800112</td>\n",
       "      <td>0.291934</td>\n",
       "      <td>-1.006464</td>\n",
       "      <td>-1.174756</td>\n",
       "      <td>-1.041522</td>\n",
       "      <td>-0.158114</td>\n",
       "      <td>...</td>\n",
       "      <td>-0.145501</td>\n",
       "      <td>-0.124418</td>\n",
       "      <td>-0.034943</td>\n",
       "      <td>-0.024701</td>\n",
       "      <td>0.264193</td>\n",
       "      <td>-0.207983</td>\n",
       "      <td>-0.099258</td>\n",
       "      <td>-0.034943</td>\n",
       "      <td>0.353311</td>\n",
       "      <td>-0.245186</td>\n",
       "    </tr>\n",
       "  </tbody>\n",
       "</table>\n",
       "<p>4 rows × 55 columns</p>\n",
       "</div>"
      ],
      "text/plain": [
       "         0         1         2         3         4         5         6   \\\n",
       "0 -0.783656  0.137667 -0.391456 -0.329927 -0.520542 -1.078817  0.298359   \n",
       "1  0.620163 -0.193379 -0.868026 -0.301239  0.127663  1.300712  0.298359   \n",
       "2  1.322072  1.163910  1.085912 -0.248277 -0.535387  1.164231  1.603182   \n",
       "3 -0.081747 -1.881715 -1.630538 -0.561635 -0.800112  0.291934 -1.006464   \n",
       "\n",
       "         7         8         9   ...        45        46        47        48  \\\n",
       "0  0.468839  0.208502 -0.158114  ... -0.145501 -0.124418 -0.034943 -0.024701   \n",
       "1  0.062506 -0.034212 -0.158114  ... -0.145501 -0.124418 -0.034943 -0.024701   \n",
       "2  0.834083  1.332151 -0.158114  ... -0.145501 -0.124418 -0.034943 -0.024701   \n",
       "3 -1.174756 -1.041522 -0.158114  ... -0.145501 -0.124418 -0.034943 -0.024701   \n",
       "\n",
       "         49        50        51        52        53        54  \n",
       "0  0.264193 -0.207983 -0.099258 -0.034943  0.353311 -0.245186  \n",
       "1  0.264193 -0.207983 -0.099258 -0.034943  0.353311 -0.245186  \n",
       "2  0.264193 -0.207983 -0.099258 -0.034943  0.353311 -0.245186  \n",
       "3  0.264193 -0.207983 -0.099258 -0.034943  0.353311 -0.245186  \n",
       "\n",
       "[4 rows x 55 columns]"
      ]
     },
     "execution_count": 90,
     "metadata": {},
     "output_type": "execute_result"
    }
   ],
   "source": [
    "X_test_scaled = scaler.transform(X_test) \n",
    "X_test_scaled = pd.DataFrame(X_test_scaled)\n",
    "X_test_scaled[:4] #this outputs the first 4 scaled rows across all columns"
   ]
  },
  {
   "cell_type": "code",
   "execution_count": 91,
   "metadata": {},
   "outputs": [],
   "source": [
    "#naming the columns for train data\n",
    "\n",
    "X_train_scaled.columns = X.columns"
   ]
  },
  {
   "cell_type": "code",
   "execution_count": 92,
   "metadata": {},
   "outputs": [
    {
     "data": {
      "text/html": [
       "<div>\n",
       "<style scoped>\n",
       "    .dataframe tbody tr th:only-of-type {\n",
       "        vertical-align: middle;\n",
       "    }\n",
       "\n",
       "    .dataframe tbody tr th {\n",
       "        vertical-align: top;\n",
       "    }\n",
       "\n",
       "    .dataframe thead th {\n",
       "        text-align: right;\n",
       "    }\n",
       "</style>\n",
       "<table border=\"1\" class=\"dataframe\">\n",
       "  <thead>\n",
       "    <tr style=\"text-align: right;\">\n",
       "      <th></th>\n",
       "      <th>overall_qual</th>\n",
       "      <th>year_built</th>\n",
       "      <th>year_remod/add</th>\n",
       "      <th>total_bsmt_sf</th>\n",
       "      <th>1st_flr_sf</th>\n",
       "      <th>gr_liv_area</th>\n",
       "      <th>garage_cars</th>\n",
       "      <th>garage_area</th>\n",
       "      <th>garage_info</th>\n",
       "      <th>lot_shape_IR2</th>\n",
       "      <th>...</th>\n",
       "      <th>functional_Min2</th>\n",
       "      <th>functional_Mod</th>\n",
       "      <th>functional_Sal</th>\n",
       "      <th>functional_Sev</th>\n",
       "      <th>functional_Typ</th>\n",
       "      <th>garage_qual_Fa</th>\n",
       "      <th>garage_qual_Gd</th>\n",
       "      <th>garage_qual_Po</th>\n",
       "      <th>garage_qual_TA</th>\n",
       "      <th>garage_qual_null</th>\n",
       "    </tr>\n",
       "  </thead>\n",
       "  <tbody>\n",
       "    <tr>\n",
       "      <th>0</th>\n",
       "      <td>-0.081747</td>\n",
       "      <td>1.097701</td>\n",
       "      <td>0.990598</td>\n",
       "      <td>0.656487</td>\n",
       "      <td>0.478981</td>\n",
       "      <td>-0.279707</td>\n",
       "      <td>0.298359</td>\n",
       "      <td>0.048810</td>\n",
       "      <td>-0.016783</td>\n",
       "      <td>-0.158114</td>\n",
       "      <td>...</td>\n",
       "      <td>-0.145501</td>\n",
       "      <td>-0.124418</td>\n",
       "      <td>-0.034943</td>\n",
       "      <td>-0.024701</td>\n",
       "      <td>0.264193</td>\n",
       "      <td>-0.207983</td>\n",
       "      <td>-0.099258</td>\n",
       "      <td>-0.034943</td>\n",
       "      <td>0.353311</td>\n",
       "      <td>-0.245186</td>\n",
       "    </tr>\n",
       "    <tr>\n",
       "      <th>1</th>\n",
       "      <td>1.322072</td>\n",
       "      <td>1.130806</td>\n",
       "      <td>1.038255</td>\n",
       "      <td>1.929778</td>\n",
       "      <td>2.000532</td>\n",
       "      <td>0.936761</td>\n",
       "      <td>1.603182</td>\n",
       "      <td>1.925248</td>\n",
       "      <td>2.296601</td>\n",
       "      <td>-0.158114</td>\n",
       "      <td>...</td>\n",
       "      <td>-0.145501</td>\n",
       "      <td>-0.124418</td>\n",
       "      <td>-0.034943</td>\n",
       "      <td>-0.024701</td>\n",
       "      <td>0.264193</td>\n",
       "      <td>-0.207983</td>\n",
       "      <td>-0.099258</td>\n",
       "      <td>-0.034943</td>\n",
       "      <td>0.353311</td>\n",
       "      <td>-0.245186</td>\n",
       "    </tr>\n",
       "    <tr>\n",
       "      <th>2</th>\n",
       "      <td>-0.081747</td>\n",
       "      <td>0.170771</td>\n",
       "      <td>-0.343799</td>\n",
       "      <td>0.404919</td>\n",
       "      <td>0.474033</td>\n",
       "      <td>-0.283663</td>\n",
       "      <td>0.298359</td>\n",
       "      <td>0.249693</td>\n",
       "      <td>0.081836</td>\n",
       "      <td>-0.158114</td>\n",
       "      <td>...</td>\n",
       "      <td>-0.145501</td>\n",
       "      <td>-0.124418</td>\n",
       "      <td>-0.034943</td>\n",
       "      <td>-0.024701</td>\n",
       "      <td>0.264193</td>\n",
       "      <td>-0.207983</td>\n",
       "      <td>-0.099258</td>\n",
       "      <td>-0.034943</td>\n",
       "      <td>0.353311</td>\n",
       "      <td>-0.245186</td>\n",
       "    </tr>\n",
       "    <tr>\n",
       "      <th>3</th>\n",
       "      <td>1.322072</td>\n",
       "      <td>0.865969</td>\n",
       "      <td>0.656999</td>\n",
       "      <td>0.177624</td>\n",
       "      <td>0.001486</td>\n",
       "      <td>1.510380</td>\n",
       "      <td>0.298359</td>\n",
       "      <td>-0.243385</td>\n",
       "      <td>-0.193057</td>\n",
       "      <td>-0.158114</td>\n",
       "      <td>...</td>\n",
       "      <td>-0.145501</td>\n",
       "      <td>-0.124418</td>\n",
       "      <td>-0.034943</td>\n",
       "      <td>-0.024701</td>\n",
       "      <td>0.264193</td>\n",
       "      <td>-0.207983</td>\n",
       "      <td>-0.099258</td>\n",
       "      <td>-0.034943</td>\n",
       "      <td>0.353311</td>\n",
       "      <td>-0.245186</td>\n",
       "    </tr>\n",
       "    <tr>\n",
       "      <th>4</th>\n",
       "      <td>-0.081747</td>\n",
       "      <td>0.137667</td>\n",
       "      <td>0.466370</td>\n",
       "      <td>-1.175110</td>\n",
       "      <td>-0.174173</td>\n",
       "      <td>0.703357</td>\n",
       "      <td>0.298359</td>\n",
       "      <td>0.176645</td>\n",
       "      <td>0.038669</td>\n",
       "      <td>-0.158114</td>\n",
       "      <td>...</td>\n",
       "      <td>-0.145501</td>\n",
       "      <td>-0.124418</td>\n",
       "      <td>-0.034943</td>\n",
       "      <td>-0.024701</td>\n",
       "      <td>0.264193</td>\n",
       "      <td>-0.207983</td>\n",
       "      <td>-0.099258</td>\n",
       "      <td>-0.034943</td>\n",
       "      <td>0.353311</td>\n",
       "      <td>-0.245186</td>\n",
       "    </tr>\n",
       "  </tbody>\n",
       "</table>\n",
       "<p>5 rows × 55 columns</p>\n",
       "</div>"
      ],
      "text/plain": [
       "   overall_qual  year_built  year_remod/add  total_bsmt_sf  1st_flr_sf  \\\n",
       "0     -0.081747    1.097701        0.990598       0.656487    0.478981   \n",
       "1      1.322072    1.130806        1.038255       1.929778    2.000532   \n",
       "2     -0.081747    0.170771       -0.343799       0.404919    0.474033   \n",
       "3      1.322072    0.865969        0.656999       0.177624    0.001486   \n",
       "4     -0.081747    0.137667        0.466370      -1.175110   -0.174173   \n",
       "\n",
       "   gr_liv_area  garage_cars  garage_area  garage_info  lot_shape_IR2  ...  \\\n",
       "0    -0.279707     0.298359     0.048810    -0.016783      -0.158114  ...   \n",
       "1     0.936761     1.603182     1.925248     2.296601      -0.158114  ...   \n",
       "2    -0.283663     0.298359     0.249693     0.081836      -0.158114  ...   \n",
       "3     1.510380     0.298359    -0.243385    -0.193057      -0.158114  ...   \n",
       "4     0.703357     0.298359     0.176645     0.038669      -0.158114  ...   \n",
       "\n",
       "   functional_Min2  functional_Mod  functional_Sal  functional_Sev  \\\n",
       "0        -0.145501       -0.124418       -0.034943       -0.024701   \n",
       "1        -0.145501       -0.124418       -0.034943       -0.024701   \n",
       "2        -0.145501       -0.124418       -0.034943       -0.024701   \n",
       "3        -0.145501       -0.124418       -0.034943       -0.024701   \n",
       "4        -0.145501       -0.124418       -0.034943       -0.024701   \n",
       "\n",
       "   functional_Typ  garage_qual_Fa  garage_qual_Gd  garage_qual_Po  \\\n",
       "0        0.264193       -0.207983       -0.099258       -0.034943   \n",
       "1        0.264193       -0.207983       -0.099258       -0.034943   \n",
       "2        0.264193       -0.207983       -0.099258       -0.034943   \n",
       "3        0.264193       -0.207983       -0.099258       -0.034943   \n",
       "4        0.264193       -0.207983       -0.099258       -0.034943   \n",
       "\n",
       "   garage_qual_TA  garage_qual_null  \n",
       "0        0.353311         -0.245186  \n",
       "1        0.353311         -0.245186  \n",
       "2        0.353311         -0.245186  \n",
       "3        0.353311         -0.245186  \n",
       "4        0.353311         -0.245186  \n",
       "\n",
       "[5 rows x 55 columns]"
      ]
     },
     "execution_count": 92,
     "metadata": {},
     "output_type": "execute_result"
    }
   ],
   "source": [
    "X_train_scaled.head(5)"
   ]
  },
  {
   "cell_type": "code",
   "execution_count": 93,
   "metadata": {},
   "outputs": [],
   "source": [
    "#naming the columns for test data\n",
    "\n",
    "X_test_scaled.columns = X.columns"
   ]
  },
  {
   "cell_type": "code",
   "execution_count": 94,
   "metadata": {
    "scrolled": true
   },
   "outputs": [
    {
     "data": {
      "text/html": [
       "<div>\n",
       "<style scoped>\n",
       "    .dataframe tbody tr th:only-of-type {\n",
       "        vertical-align: middle;\n",
       "    }\n",
       "\n",
       "    .dataframe tbody tr th {\n",
       "        vertical-align: top;\n",
       "    }\n",
       "\n",
       "    .dataframe thead th {\n",
       "        text-align: right;\n",
       "    }\n",
       "</style>\n",
       "<table border=\"1\" class=\"dataframe\">\n",
       "  <thead>\n",
       "    <tr style=\"text-align: right;\">\n",
       "      <th></th>\n",
       "      <th>overall_qual</th>\n",
       "      <th>year_built</th>\n",
       "      <th>year_remod/add</th>\n",
       "      <th>total_bsmt_sf</th>\n",
       "      <th>1st_flr_sf</th>\n",
       "      <th>gr_liv_area</th>\n",
       "      <th>garage_cars</th>\n",
       "      <th>garage_area</th>\n",
       "      <th>garage_info</th>\n",
       "      <th>lot_shape_IR2</th>\n",
       "      <th>...</th>\n",
       "      <th>functional_Min2</th>\n",
       "      <th>functional_Mod</th>\n",
       "      <th>functional_Sal</th>\n",
       "      <th>functional_Sev</th>\n",
       "      <th>functional_Typ</th>\n",
       "      <th>garage_qual_Fa</th>\n",
       "      <th>garage_qual_Gd</th>\n",
       "      <th>garage_qual_Po</th>\n",
       "      <th>garage_qual_TA</th>\n",
       "      <th>garage_qual_null</th>\n",
       "    </tr>\n",
       "  </thead>\n",
       "  <tbody>\n",
       "    <tr>\n",
       "      <th>0</th>\n",
       "      <td>-0.783656</td>\n",
       "      <td>0.137667</td>\n",
       "      <td>-0.391456</td>\n",
       "      <td>-0.329927</td>\n",
       "      <td>-0.520542</td>\n",
       "      <td>-1.078817</td>\n",
       "      <td>0.298359</td>\n",
       "      <td>0.468839</td>\n",
       "      <td>0.208502</td>\n",
       "      <td>-0.158114</td>\n",
       "      <td>...</td>\n",
       "      <td>-0.145501</td>\n",
       "      <td>-0.124418</td>\n",
       "      <td>-0.034943</td>\n",
       "      <td>-0.024701</td>\n",
       "      <td>0.264193</td>\n",
       "      <td>-0.207983</td>\n",
       "      <td>-0.099258</td>\n",
       "      <td>-0.034943</td>\n",
       "      <td>0.353311</td>\n",
       "      <td>-0.245186</td>\n",
       "    </tr>\n",
       "    <tr>\n",
       "      <th>1</th>\n",
       "      <td>0.620163</td>\n",
       "      <td>-0.193379</td>\n",
       "      <td>-0.868026</td>\n",
       "      <td>-0.301239</td>\n",
       "      <td>0.127663</td>\n",
       "      <td>1.300712</td>\n",
       "      <td>0.298359</td>\n",
       "      <td>0.062506</td>\n",
       "      <td>-0.034212</td>\n",
       "      <td>-0.158114</td>\n",
       "      <td>...</td>\n",
       "      <td>-0.145501</td>\n",
       "      <td>-0.124418</td>\n",
       "      <td>-0.034943</td>\n",
       "      <td>-0.024701</td>\n",
       "      <td>0.264193</td>\n",
       "      <td>-0.207983</td>\n",
       "      <td>-0.099258</td>\n",
       "      <td>-0.034943</td>\n",
       "      <td>0.353311</td>\n",
       "      <td>-0.245186</td>\n",
       "    </tr>\n",
       "    <tr>\n",
       "      <th>2</th>\n",
       "      <td>1.322072</td>\n",
       "      <td>1.163910</td>\n",
       "      <td>1.085912</td>\n",
       "      <td>-0.248277</td>\n",
       "      <td>-0.535387</td>\n",
       "      <td>1.164231</td>\n",
       "      <td>1.603182</td>\n",
       "      <td>0.834083</td>\n",
       "      <td>1.332151</td>\n",
       "      <td>-0.158114</td>\n",
       "      <td>...</td>\n",
       "      <td>-0.145501</td>\n",
       "      <td>-0.124418</td>\n",
       "      <td>-0.034943</td>\n",
       "      <td>-0.024701</td>\n",
       "      <td>0.264193</td>\n",
       "      <td>-0.207983</td>\n",
       "      <td>-0.099258</td>\n",
       "      <td>-0.034943</td>\n",
       "      <td>0.353311</td>\n",
       "      <td>-0.245186</td>\n",
       "    </tr>\n",
       "    <tr>\n",
       "      <th>3</th>\n",
       "      <td>-0.081747</td>\n",
       "      <td>-1.881715</td>\n",
       "      <td>-1.630538</td>\n",
       "      <td>-0.561635</td>\n",
       "      <td>-0.800112</td>\n",
       "      <td>0.291934</td>\n",
       "      <td>-1.006464</td>\n",
       "      <td>-1.174756</td>\n",
       "      <td>-1.041522</td>\n",
       "      <td>-0.158114</td>\n",
       "      <td>...</td>\n",
       "      <td>-0.145501</td>\n",
       "      <td>-0.124418</td>\n",
       "      <td>-0.034943</td>\n",
       "      <td>-0.024701</td>\n",
       "      <td>0.264193</td>\n",
       "      <td>-0.207983</td>\n",
       "      <td>-0.099258</td>\n",
       "      <td>-0.034943</td>\n",
       "      <td>0.353311</td>\n",
       "      <td>-0.245186</td>\n",
       "    </tr>\n",
       "    <tr>\n",
       "      <th>4</th>\n",
       "      <td>0.620163</td>\n",
       "      <td>1.130806</td>\n",
       "      <td>1.038255</td>\n",
       "      <td>-0.462332</td>\n",
       "      <td>-0.775371</td>\n",
       "      <td>0.469954</td>\n",
       "      <td>0.298359</td>\n",
       "      <td>0.477971</td>\n",
       "      <td>0.237096</td>\n",
       "      <td>-0.158114</td>\n",
       "      <td>...</td>\n",
       "      <td>-0.145501</td>\n",
       "      <td>-0.124418</td>\n",
       "      <td>-0.034943</td>\n",
       "      <td>-0.024701</td>\n",
       "      <td>0.264193</td>\n",
       "      <td>-0.207983</td>\n",
       "      <td>-0.099258</td>\n",
       "      <td>-0.034943</td>\n",
       "      <td>0.353311</td>\n",
       "      <td>-0.245186</td>\n",
       "    </tr>\n",
       "  </tbody>\n",
       "</table>\n",
       "<p>5 rows × 55 columns</p>\n",
       "</div>"
      ],
      "text/plain": [
       "   overall_qual  year_built  year_remod/add  total_bsmt_sf  1st_flr_sf  \\\n",
       "0     -0.783656    0.137667       -0.391456      -0.329927   -0.520542   \n",
       "1      0.620163   -0.193379       -0.868026      -0.301239    0.127663   \n",
       "2      1.322072    1.163910        1.085912      -0.248277   -0.535387   \n",
       "3     -0.081747   -1.881715       -1.630538      -0.561635   -0.800112   \n",
       "4      0.620163    1.130806        1.038255      -0.462332   -0.775371   \n",
       "\n",
       "   gr_liv_area  garage_cars  garage_area  garage_info  lot_shape_IR2  ...  \\\n",
       "0    -1.078817     0.298359     0.468839     0.208502      -0.158114  ...   \n",
       "1     1.300712     0.298359     0.062506    -0.034212      -0.158114  ...   \n",
       "2     1.164231     1.603182     0.834083     1.332151      -0.158114  ...   \n",
       "3     0.291934    -1.006464    -1.174756    -1.041522      -0.158114  ...   \n",
       "4     0.469954     0.298359     0.477971     0.237096      -0.158114  ...   \n",
       "\n",
       "   functional_Min2  functional_Mod  functional_Sal  functional_Sev  \\\n",
       "0        -0.145501       -0.124418       -0.034943       -0.024701   \n",
       "1        -0.145501       -0.124418       -0.034943       -0.024701   \n",
       "2        -0.145501       -0.124418       -0.034943       -0.024701   \n",
       "3        -0.145501       -0.124418       -0.034943       -0.024701   \n",
       "4        -0.145501       -0.124418       -0.034943       -0.024701   \n",
       "\n",
       "   functional_Typ  garage_qual_Fa  garage_qual_Gd  garage_qual_Po  \\\n",
       "0        0.264193       -0.207983       -0.099258       -0.034943   \n",
       "1        0.264193       -0.207983       -0.099258       -0.034943   \n",
       "2        0.264193       -0.207983       -0.099258       -0.034943   \n",
       "3        0.264193       -0.207983       -0.099258       -0.034943   \n",
       "4        0.264193       -0.207983       -0.099258       -0.034943   \n",
       "\n",
       "   garage_qual_TA  garage_qual_null  \n",
       "0        0.353311         -0.245186  \n",
       "1        0.353311         -0.245186  \n",
       "2        0.353311         -0.245186  \n",
       "3        0.353311         -0.245186  \n",
       "4        0.353311         -0.245186  \n",
       "\n",
       "[5 rows x 55 columns]"
      ]
     },
     "execution_count": 94,
     "metadata": {},
     "output_type": "execute_result"
    }
   ],
   "source": [
    "X_test_scaled.head(5)"
   ]
  },
  {
   "cell_type": "code",
   "execution_count": 95,
   "metadata": {},
   "outputs": [],
   "source": [
    "#Scaling original test dataset\n",
    "test_sc = scaler.transform(X_t) "
   ]
  },
  {
   "cell_type": "markdown",
   "metadata": {},
   "source": [
    "### Regularization: Lasso Model"
   ]
  },
  {
   "cell_type": "code",
   "execution_count": 96,
   "metadata": {},
   "outputs": [],
   "source": [
    "from sklearn.linear_model import Lasso, LassoCV"
   ]
  },
  {
   "cell_type": "code",
   "execution_count": 97,
   "metadata": {},
   "outputs": [
    {
     "name": "stdout",
     "output_type": "stream",
     "text": [
      "Optimal alpha =  1366.8729864873567\n"
     ]
    }
   ],
   "source": [
    "#find optimal alpha value\n",
    "lasso_model = LassoCV(n_alphas=100, cv=10).fit(X_train_scaled,y_train)\n",
    "\n",
    "lasso_alpha_optimal = lasso_model.alpha_\n",
    "print('Optimal alpha = ',lasso_alpha_optimal)"
   ]
  },
  {
   "cell_type": "code",
   "execution_count": 98,
   "metadata": {},
   "outputs": [
    {
     "name": "stdout",
     "output_type": "stream",
     "text": [
      "0.783\n",
      "0.815\n"
     ]
    }
   ],
   "source": [
    "#cross validate with optimal alpha\n",
    "lasso_model = Lasso(alpha=lasso_alpha_optimal)\n",
    "\n",
    "cv_score_lasso = cross_val_score(lasso_model, X_train_scaled, y_train, cv=10, scoring='r2').mean()\n",
    "print(cv_score_lasso.round(3))\n",
    "\n",
    "cv_score_lasso_test = cross_val_score(lasso_model, X_test_scaled, y_test, cv=10, scoring='r2').mean()\n",
    "print(cv_score_lasso_test.round(3))"
   ]
  },
  {
   "cell_type": "code",
   "execution_count": null,
   "metadata": {},
   "outputs": [],
   "source": [
    "### Would be good to see a y_pred vs y_test plot here, and maybe another plot to check for residuals.\n",
    "### Explanations for the data manipulations should be a lot more verbose. "
   ]
  },
  {
   "cell_type": "markdown",
   "metadata": {},
   "source": [
    "### Regularization: Ridge Model"
   ]
  },
  {
   "cell_type": "code",
   "execution_count": 99,
   "metadata": {},
   "outputs": [],
   "source": [
    "from sklearn.linear_model import Ridge, RidgeCV"
   ]
  },
  {
   "cell_type": "code",
   "execution_count": 100,
   "metadata": {},
   "outputs": [],
   "source": [
    "#find optimal alpha value\n",
    "r_alphas = np.logspace(0, 5, 200)\n",
    "ridge_model = RidgeCV(alphas=r_alphas, store_cv_values=True)\n",
    "ridge_model = ridge_model.fit(X_train_scaled, y_train)"
   ]
  },
  {
   "cell_type": "code",
   "execution_count": 101,
   "metadata": {},
   "outputs": [
    {
     "data": {
      "text/plain": [
       "86.035"
      ]
     },
     "execution_count": 101,
     "metadata": {},
     "output_type": "execute_result"
    }
   ],
   "source": [
    "ridge_optimal_alpha = ridge_model.alpha_\n",
    "ridge_optimal_alpha.round(3)"
   ]
  },
  {
   "cell_type": "code",
   "execution_count": 102,
   "metadata": {},
   "outputs": [
    {
     "name": "stdout",
     "output_type": "stream",
     "text": [
      "0.782\n",
      "0.811\n"
     ]
    }
   ],
   "source": [
    "ridge_opt = Ridge(alpha=ridge_optimal_alpha)\n",
    "cv_score = cross_val_score(ridge_opt, X_train_scaled, y_train, cv=10, scoring='r2').mean()\n",
    "print(cv_score.round(3))\n",
    "\n",
    "cv_score_test = cross_val_score(ridge_opt, X_test_scaled, y_test, cv=10, scoring='r2').mean()\n",
    "print(cv_score_test.round(3))\n"
   ]
  },
  {
   "cell_type": "markdown",
   "metadata": {},
   "source": [
    "Conclusion: Use Lasso Regression Model as it improves the cross-validated score."
   ]
  },
  {
   "cell_type": "markdown",
   "metadata": {},
   "source": [
    "### Prediction of target variable"
   ]
  },
  {
   "cell_type": "code",
   "execution_count": 103,
   "metadata": {},
   "outputs": [],
   "source": [
    "from sklearn import metrics\n"
   ]
  },
  {
   "cell_type": "code",
   "execution_count": 104,
   "metadata": {},
   "outputs": [],
   "source": [
    "#New dataframe with columns ID and saleprice"
   ]
  },
  {
   "cell_type": "code",
   "execution_count": 105,
   "metadata": {},
   "outputs": [
    {
     "data": {
      "text/plain": [
       "(2051, 56)"
      ]
     },
     "execution_count": 105,
     "metadata": {},
     "output_type": "execute_result"
    }
   ],
   "source": [
    "pd_train.shape"
   ]
  },
  {
   "cell_type": "code",
   "execution_count": 106,
   "metadata": {
    "scrolled": true
   },
   "outputs": [
    {
     "data": {
      "text/plain": [
       "(2051, 81)"
      ]
     },
     "execution_count": 106,
     "metadata": {},
     "output_type": "execute_result"
    }
   ],
   "source": [
    "train.shape"
   ]
  },
  {
   "cell_type": "code",
   "execution_count": 107,
   "metadata": {},
   "outputs": [
    {
     "data": {
      "text/plain": [
       "(879, 80)"
      ]
     },
     "execution_count": 107,
     "metadata": {},
     "output_type": "execute_result"
    }
   ],
   "source": [
    "test.shape"
   ]
  },
  {
   "cell_type": "code",
   "execution_count": 108,
   "metadata": {},
   "outputs": [
    {
     "data": {
      "text/plain": [
       "(879, 55)"
      ]
     },
     "execution_count": 108,
     "metadata": {},
     "output_type": "execute_result"
    }
   ],
   "source": [
    "test_sc.shape"
   ]
  },
  {
   "cell_type": "code",
   "execution_count": 109,
   "metadata": {},
   "outputs": [
    {
     "data": {
      "text/plain": [
       "(1640, 55)"
      ]
     },
     "execution_count": 109,
     "metadata": {},
     "output_type": "execute_result"
    }
   ],
   "source": [
    "X_train_scaled.shape"
   ]
  },
  {
   "cell_type": "code",
   "execution_count": 110,
   "metadata": {},
   "outputs": [],
   "source": [
    "lasso_model = lasso_model.fit(X_train_scaled, y_train)\n",
    "y_predict  =  lasso_model.predict(test_sc)"
   ]
  },
  {
   "cell_type": "code",
   "execution_count": 111,
   "metadata": {},
   "outputs": [
    {
     "data": {
      "text/plain": [
       "(879,)"
      ]
     },
     "execution_count": 111,
     "metadata": {},
     "output_type": "execute_result"
    }
   ],
   "source": [
    "y_predict.shape"
   ]
  },
  {
   "cell_type": "code",
   "execution_count": 112,
   "metadata": {
    "scrolled": true
   },
   "outputs": [],
   "source": [
    "submission = pd.DataFrame(y_predict, columns=['SalePrice'])\n",
    "submission['Id'] = test['Id']\n",
    "submission = submission[['Id', 'SalePrice']]"
   ]
  },
  {
   "cell_type": "code",
   "execution_count": 113,
   "metadata": {},
   "outputs": [
    {
     "data": {
      "text/plain": [
       "879"
      ]
     },
     "execution_count": 113,
     "metadata": {},
     "output_type": "execute_result"
    }
   ],
   "source": [
    "len(test['Id'])"
   ]
  },
  {
   "cell_type": "code",
   "execution_count": 114,
   "metadata": {
    "scrolled": true
   },
   "outputs": [
    {
     "data": {
      "text/plain": [
       "879"
      ]
     },
     "execution_count": 114,
     "metadata": {},
     "output_type": "execute_result"
    }
   ],
   "source": [
    "len(submission['Id'])"
   ]
  },
  {
   "cell_type": "code",
   "execution_count": 115,
   "metadata": {},
   "outputs": [
    {
     "data": {
      "text/plain": [
       "array([127628.2252034 , 207051.22444854, 278808.09324537, 144729.96053868,\n",
       "       218405.41607735, 330857.76201203, 170850.7039532 , 265887.75416938,\n",
       "       162061.87431365, 123409.61142345, 146027.31586229, 219935.02685029,\n",
       "       181918.88372979, 112689.10172345, 125757.54224793,  99968.62811202,\n",
       "       120839.76881681, 212389.18802215, 333172.66416213, 220819.41161936,\n",
       "       213773.46431752, 210391.96581336, 184029.79570868, 110299.51981833,\n",
       "       149288.42731159, 283255.66954823, 166303.44688674, 124962.00633061,\n",
       "       259730.06856991, 104524.73270483, 298594.84763255, 112587.09838162,\n",
       "       125096.48578287, 188847.00702658, 216750.72081635,  88708.67280137,\n",
       "       162591.88885507, 221180.13399521, 320917.93871716, 120999.28392428,\n",
       "       218584.22892143, 220743.58468654, 323847.9230937 , 177867.3263329 ,\n",
       "        96409.01594688, 164969.73141695, 116103.96656884, 109860.16202827,\n",
       "       305839.74069741, 162974.35144758, 341514.66725578,  54860.24284919,\n",
       "       150441.71636066, 173384.17384725, 138858.74453231, 102387.31911106,\n",
       "       227103.67792996, 208180.42305325, 134537.03378267, 175938.53259869,\n",
       "       285640.09610455,  88882.05465717, 171678.60647458, 247929.66819995,\n",
       "       204502.5846808 ,  74207.3283657 , 308607.28828272, 224871.97208706,\n",
       "       309136.91208606, 147217.60584141, 200740.47336456, 320806.41358962,\n",
       "       322678.74733583, 173872.1545283 , 113428.35340604, 189449.25937042,\n",
       "       184781.56227999, 152756.19062013, 157211.56063665, 299917.90231566,\n",
       "       118214.11988776, 116577.30696212, 304385.76042327, 164599.2221568 ,\n",
       "       114780.73865927, 121514.23613192, 115918.97921463, 231168.96611515,\n",
       "        67977.39411366, 144088.73533014, 192375.98109269, 163061.41249828,\n",
       "       128070.84651959, 200687.9926621 , 133778.96472075, 218634.22513516,\n",
       "       121043.53824803, 110874.53908279, 199270.66340662, 136148.23364958,\n",
       "       142129.17148773, 300607.08598497,  74856.81626439, 208289.89340326,\n",
       "       178118.42793451, 127002.29085866, 129907.4924113 , 148129.78115509,\n",
       "       160567.06662853, 190559.58503635,  48802.17697248, 174782.35618368,\n",
       "       128468.97348939, 329283.9072797 ,  81838.73293661, 294634.85361748,\n",
       "       196978.98566665, 139091.39053295, 125735.85875604, 158555.45096124,\n",
       "       211269.49489102, 125887.99014325, 266930.68074674, 162277.55167413,\n",
       "       216904.26305594, 231669.95954432, 173334.05954478, 249900.37367252,\n",
       "       225214.57150712, 121995.43655726, 175826.76437769, 129999.74229806,\n",
       "       149015.81600868, 340525.1018736 , 153756.16723626, 204089.59089584,\n",
       "        94923.6764022 , 191774.20699314, 181988.67991406, 155925.15948016,\n",
       "        86263.05781483,  11624.86481244, 128112.88760984,  91479.00827703,\n",
       "       244031.91679529, 213836.01610419, 360256.64382297, 182555.01251158,\n",
       "       124010.69902635, 177871.99643644,  78046.41313901, 124740.39921523,\n",
       "       112559.7577431 , 248249.22512386, 110214.88077157, 181602.82383877,\n",
       "       229758.24581634, 170604.51962655, 139049.67107467, 197045.08931217,\n",
       "       125171.55863451, 273353.17428174, 128423.6617222 , 179106.24549006,\n",
       "        94665.64953619, 204623.072457  , 130887.01564682, 188609.42431392,\n",
       "       141445.44621964, 290403.75196708, 215809.23791607, 141635.65753292,\n",
       "       120344.81335836, 195221.93234999, 171262.05145847, 152482.84532458,\n",
       "       284437.39176948, 140500.20924473, 120072.76087173, 122824.5835516 ,\n",
       "       215351.35443247, 141213.6477364 , 176827.57327139, 178518.84304764,\n",
       "       104520.08315487, 185422.32097784, 190067.23548118, 143802.45589847,\n",
       "       152964.65527503, 149480.50265178, 243011.83803262, 122135.89971121,\n",
       "       127463.97702323,  10099.99429407, 197237.72005493, 168660.92675624,\n",
       "        94399.12752086, 321881.83887922, 173977.05497879, 261920.04933732,\n",
       "       196128.13884048, 106819.28492837, 180310.36008378, 146063.30456821,\n",
       "       118822.11603089, 116340.1243035 , 168119.50226449, 140462.47381192,\n",
       "       127326.56304061, 246111.46418729, 127958.87269164, 357698.01901216,\n",
       "       151812.29945028, 164286.37412856, 383000.47112755, 200227.0135377 ,\n",
       "       289483.57894904, 148391.82550488, 271949.86798249, 129349.25676384,\n",
       "       105440.96816689, 176916.02193735, 172095.6881178 , 204160.38343344,\n",
       "       105406.88829829, 253201.36097689, 195202.07969231, 109788.85795377,\n",
       "        94645.45902406, 187942.16186146, 120970.62602897,  94182.68253191,\n",
       "       173393.12205258, 151375.00526037, 156456.00678581,  81757.41244532,\n",
       "       194479.11506866,  61886.30074374, 138585.49881368, 196478.16115761,\n",
       "       232167.65861222, 148827.79749115, 131418.85656642, 148631.57104312,\n",
       "       139283.41975755, 210222.2455615 , 316299.51502776, 186324.98819085,\n",
       "       144827.14224078, 224034.88117433, 230553.90765588, 309702.15476591,\n",
       "       236294.35403422, 237916.7878304 , 246656.78785708, 169129.00164575,\n",
       "       107965.61157406,  99937.0845795 , 360905.08967011, 255441.36391005,\n",
       "       232307.91329507,  80226.63102166, 185686.1918043 , 175147.78016938,\n",
       "       291933.80156518, 115175.39107618, 180003.24914209, 274165.5234158 ,\n",
       "       133623.30100422, 271304.85090789, 138201.98019836, 153455.40555227,\n",
       "        83844.17601398, 241336.58924926, 174232.55916671, 322583.26940767,\n",
       "       338651.32564899, 208791.47733364, 188074.41439144, 182256.71513701,\n",
       "        92611.19226967, 190354.17594844, 172576.21782491, 181084.82676703,\n",
       "        16693.92070216, 257249.37377496,  85803.70427116, 104561.5948629 ,\n",
       "        96286.76032203, 164653.04638806, 196478.16115761, 167655.94578695,\n",
       "       130825.68631645, 187681.57044639, 167282.91765467, 183404.65061001,\n",
       "        90392.5840135 ,  98017.85608062, 189589.02771044, 228547.00912444,\n",
       "       122110.91779291, 284444.21397929, 287249.96998879, 178361.13040519,\n",
       "       195869.50207537, 238332.88467624, 159127.49687784, 180564.64236716,\n",
       "       180891.38392449, 183643.55567448, 107885.04500248, 102842.02150599,\n",
       "       167189.98171164,  74205.47271856, 146932.80482012, 198842.51705338,\n",
       "       157266.30166203,  97464.26094835, 211037.80534261, 190847.33121792,\n",
       "       229303.48572724, 106790.57401997, 165148.67477852, 158117.42392729,\n",
       "       174775.49899488,  81521.55468294, 154142.06292455, 221268.36103514,\n",
       "       271316.64401436, 103900.09170188, 141928.89332401, 169900.94877888,\n",
       "       222007.87542962, 390246.28128868, 144132.55089138, 122135.89971121,\n",
       "       369824.47587893, 174932.95095639, 322130.93173521, 193618.59450275,\n",
       "       208044.70490224, 153748.45442515, 177178.5830655 , 257716.31225951,\n",
       "       238186.20056934, 167189.98171164, 132408.41744212, 315973.53277759,\n",
       "        37670.61916298, 116453.39621961,  90288.87320047, 107316.4191122 ,\n",
       "       108583.12650753, 333153.69646933, 274400.76603833, 164761.89740786,\n",
       "       268583.67197804, 249294.1459172 ,   2638.96690943, 171626.9318906 ,\n",
       "       191250.54730261, 315459.91696677, 146277.90185295, 141705.99251099,\n",
       "       224527.32993028, 215604.002297  , 229622.3783188 , 192718.8808559 ,\n",
       "       250483.83298617, 283958.60275669, 112485.48381418, 131675.667216  ,\n",
       "       232950.00748722, 228790.39014378, 123946.22826135, 324663.2345668 ,\n",
       "       142212.08873723, 191188.1423547 , 210172.33469013, 164720.85168472,\n",
       "        80596.55893427, 211362.23497696, 274426.97629819, 211934.70285177,\n",
       "       241497.20906853,  95002.20964456, 151217.24585544, 222332.26157408,\n",
       "       127174.13427319, 136916.15448499, 107776.39773767, 311871.68684429,\n",
       "       199555.27637738, 143592.14992433, 283966.50844838, 192119.39988827,\n",
       "       184029.79570868, 309976.16642625, 227748.79001375, 116065.13427598,\n",
       "       123114.58933747, 166377.33735076, 189308.87439575, 189338.73694919,\n",
       "       167313.84011114, 196242.64868092, 214871.3018407 ,  34598.50274249,\n",
       "       296050.41116294, 267686.14120307, 283268.81496031])"
      ]
     },
     "execution_count": 115,
     "metadata": {},
     "output_type": "execute_result"
    }
   ],
   "source": [
    "predictions"
   ]
  },
  {
   "cell_type": "code",
   "execution_count": 116,
   "metadata": {
    "scrolled": false
   },
   "outputs": [
    {
     "data": {
      "text/html": [
       "<div>\n",
       "<style scoped>\n",
       "    .dataframe tbody tr th:only-of-type {\n",
       "        vertical-align: middle;\n",
       "    }\n",
       "\n",
       "    .dataframe tbody tr th {\n",
       "        vertical-align: top;\n",
       "    }\n",
       "\n",
       "    .dataframe thead th {\n",
       "        text-align: right;\n",
       "    }\n",
       "</style>\n",
       "<table border=\"1\" class=\"dataframe\">\n",
       "  <thead>\n",
       "    <tr style=\"text-align: right;\">\n",
       "      <th></th>\n",
       "      <th>Id</th>\n",
       "      <th>SalePrice</th>\n",
       "    </tr>\n",
       "  </thead>\n",
       "  <tbody>\n",
       "    <tr>\n",
       "      <th>0</th>\n",
       "      <td>2658</td>\n",
       "      <td>148006.978722</td>\n",
       "    </tr>\n",
       "    <tr>\n",
       "      <th>1</th>\n",
       "      <td>2718</td>\n",
       "      <td>194634.183135</td>\n",
       "    </tr>\n",
       "    <tr>\n",
       "      <th>2</th>\n",
       "      <td>2414</td>\n",
       "      <td>190938.058257</td>\n",
       "    </tr>\n",
       "    <tr>\n",
       "      <th>3</th>\n",
       "      <td>1989</td>\n",
       "      <td>117556.390906</td>\n",
       "    </tr>\n",
       "    <tr>\n",
       "      <th>4</th>\n",
       "      <td>625</td>\n",
       "      <td>166341.667217</td>\n",
       "    </tr>\n",
       "  </tbody>\n",
       "</table>\n",
       "</div>"
      ],
      "text/plain": [
       "     Id      SalePrice\n",
       "0  2658  148006.978722\n",
       "1  2718  194634.183135\n",
       "2  2414  190938.058257\n",
       "3  1989  117556.390906\n",
       "4   625  166341.667217"
      ]
     },
     "execution_count": 116,
     "metadata": {},
     "output_type": "execute_result"
    }
   ],
   "source": [
    "submission.head()"
   ]
  },
  {
   "cell_type": "code",
   "execution_count": 117,
   "metadata": {},
   "outputs": [],
   "source": [
    "RMSE = np.sqrt(metrics.mean_squared_error(y_test, predictions)) #root mean squared error"
   ]
  },
  {
   "cell_type": "code",
   "execution_count": 118,
   "metadata": {},
   "outputs": [
    {
     "data": {
      "text/plain": [
       "30131.626539489196"
      ]
     },
     "execution_count": 118,
     "metadata": {},
     "output_type": "execute_result"
    }
   ],
   "source": [
    "RMSE"
   ]
  },
  {
   "cell_type": "code",
   "execution_count": 119,
   "metadata": {},
   "outputs": [],
   "source": [
    "submission.to_csv('submission_21Nov_final', index=False)"
   ]
  },
  {
   "cell_type": "code",
   "execution_count": 120,
   "metadata": {},
   "outputs": [
    {
     "data": {
      "text/plain": [
       "Id                   int64\n",
       "PID                  int64\n",
       "MS SubClass          int64\n",
       "MS Zoning           object\n",
       "Lot Frontage       float64\n",
       "Lot Area             int64\n",
       "Street              object\n",
       "Alley               object\n",
       "Lot Shape           object\n",
       "Land Contour        object\n",
       "Utilities           object\n",
       "Lot Config          object\n",
       "Land Slope          object\n",
       "Neighborhood        object\n",
       "Condition 1         object\n",
       "Condition 2         object\n",
       "Bldg Type           object\n",
       "House Style         object\n",
       "Overall Qual         int64\n",
       "Overall Cond         int64\n",
       "Year Built           int64\n",
       "Year Remod/Add       int64\n",
       "Roof Style          object\n",
       "Roof Matl           object\n",
       "Exterior 1st        object\n",
       "Exterior 2nd        object\n",
       "Mas Vnr Type        object\n",
       "Mas Vnr Area       float64\n",
       "Exter Qual          object\n",
       "Exter Cond          object\n",
       "Foundation          object\n",
       "Bsmt Qual           object\n",
       "Bsmt Cond           object\n",
       "Bsmt Exposure       object\n",
       "BsmtFin Type 1      object\n",
       "BsmtFin SF 1       float64\n",
       "BsmtFin Type 2      object\n",
       "BsmtFin SF 2       float64\n",
       "Bsmt Unf SF        float64\n",
       "Total Bsmt SF      float64\n",
       "Heating             object\n",
       "Heating QC          object\n",
       "Central Air         object\n",
       "Electrical          object\n",
       "1st Flr SF           int64\n",
       "2nd Flr SF           int64\n",
       "Low Qual Fin SF      int64\n",
       "Gr Liv Area          int64\n",
       "Bsmt Full Bath     float64\n",
       "Bsmt Half Bath     float64\n",
       "Full Bath            int64\n",
       "Half Bath            int64\n",
       "Bedroom AbvGr        int64\n",
       "Kitchen AbvGr        int64\n",
       "Kitchen Qual        object\n",
       "TotRms AbvGrd        int64\n",
       "Functional          object\n",
       "Fireplaces           int64\n",
       "Fireplace Qu        object\n",
       "Garage Type         object\n",
       "Garage Yr Blt      float64\n",
       "Garage Finish       object\n",
       "Garage Cars        float64\n",
       "Garage Area        float64\n",
       "Garage Qual         object\n",
       "Garage Cond         object\n",
       "Paved Drive         object\n",
       "Wood Deck SF         int64\n",
       "Open Porch SF        int64\n",
       "Enclosed Porch       int64\n",
       "3Ssn Porch           int64\n",
       "Screen Porch         int64\n",
       "Pool Area            int64\n",
       "Pool QC             object\n",
       "Fence               object\n",
       "Misc Feature        object\n",
       "Misc Val             int64\n",
       "Mo Sold              int64\n",
       "Yr Sold              int64\n",
       "Sale Type           object\n",
       "SalePrice            int64\n",
       "dtype: object"
      ]
     },
     "execution_count": 120,
     "metadata": {},
     "output_type": "execute_result"
    }
   ],
   "source": [
    "#Data Dictionary for README\n",
    "pd.options.display.max_rows = 200\n",
    "train.dtypes"
   ]
  },
  {
   "cell_type": "code",
   "execution_count": null,
   "metadata": {},
   "outputs": [],
   "source": []
  }
 ],
 "metadata": {
  "kernelspec": {
   "display_name": "Python 3",
   "language": "python",
   "name": "python3"
  },
  "language_info": {
   "codemirror_mode": {
    "name": "ipython",
    "version": 3
   },
   "file_extension": ".py",
   "mimetype": "text/x-python",
   "name": "python",
   "nbconvert_exporter": "python",
   "pygments_lexer": "ipython3",
   "version": "3.7.5"
  }
 },
 "nbformat": 4,
 "nbformat_minor": 2
}

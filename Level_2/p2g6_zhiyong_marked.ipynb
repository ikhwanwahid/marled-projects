{
 "cells": [
  {
   "cell_type": "markdown",
   "metadata": {},
   "source": [
    "<div style=\"border: 1px solid thistle; padding: 5px 20px 10px 20px;\">\n",
    "    <h2><font color = \"77658f\" style=\";\">Feedback</font></h2><br>\n",
    "    <font color = \"77658f\"> No need to name a variable adv_pth when you\n",
    "        • Problem Statement: <b>Meet Minimum Requirement</b> <br>\n",
    "        • Data Cleaning and EDA: <b>Meet Minimum Requirement</b><br>\n",
    "        • Preprocessing and Modelling: <b>Meet Minimum Requirement</b><br>\n",
    "        • Evaluation and Conceptual Understanding: <b>Meet Minimum Requirement</b><br>\n",
    "        • Conclusion and Recommendation: <b>Meet Minimum Requirement</b><br>\n",
    "        • Project Organisation: <b>Meet Minimum Requirement</b><br>\n",
    "        • Visualisations: <b>Meet Minimum Requirement</b><br>\n",
    "        • Python Syntax and Control Flow: <b>Meet Mininum Requirement</b><br>\n",
    "    </font>\n",
    "</div>"
   ]
  },
  {
   "cell_type": "markdown",
   "metadata": {},
   "source": [
    "# Project 2: Ames Housing Data & Kaggle Challenge"
   ]
  },
  {
   "cell_type": "markdown",
   "metadata": {},
   "source": [
    "## Problem Statement"
   ]
  },
  {
   "cell_type": "markdown",
   "metadata": {},
   "source": [
    "A competition is being held on Kaggle to give participants the opportunity to practise the following skills:\n",
    "\n",
    "- Refining models over time\n",
    "- Use of train-test split, cross-validation, and data with unknown values for the target to simulate the modeling process\n",
    "- The use of Kaggle as a place to practice data science"
   ]
  },
  {
   "cell_type": "markdown",
   "metadata": {},
   "source": [
    "## Executive Summary"
   ]
  },
  {
   "cell_type": "markdown",
   "metadata": {},
   "source": [
    "This project aims to create a regression model based on the Ames Housing Dataset and predict the price of a house at sale. The final set of predictions will be uploaded to [Kaggle](https://www.kaggle.com/c/dsi-us-6-project-2-regression-challenge/overview).\n",
    "\n",
    "### Contents:\n",
    "- [Importing Libraries](#Importing-Libraries)\n",
    "- [Loading & Cleaning The Data](#Loading-&-Cleaning-The-Data)\n",
    "- [Feature Engineering & Selection](#Feature-Engineering-&-Selection)\n",
    "- [Modelling](#Modelling)\n",
    "- [Conclusion & Recommendations](#Conclusion-&-Recommendations)"
   ]
  },
  {
   "cell_type": "markdown",
   "metadata": {},
   "source": [
    "## Importing Libraries"
   ]
  },
  {
   "cell_type": "code",
   "execution_count": 1,
   "metadata": {},
   "outputs": [],
   "source": [
    "import pandas as pd\n",
    "import numpy as np\n",
    "import seaborn as sns\n",
    "import matplotlib.pyplot as plt\n",
    "from sklearn.model_selection import train_test_split, cross_val_score \n",
    "from sklearn.linear_model import LinearRegression\n",
    "from sklearn.preprocessing import StandardScaler\n",
    "from sklearn import metrics\n",
    "from sklearn.metrics import r2_score\n",
    "\n",
    "%matplotlib inline"
   ]
  },
  {
   "cell_type": "markdown",
   "metadata": {},
   "source": [
    "## Loading & Cleaning The Data"
   ]
  },
  {
   "cell_type": "markdown",
   "metadata": {},
   "source": [
    "### Importing Data"
   ]
  },
  {
   "cell_type": "code",
   "execution_count": 2,
   "metadata": {},
   "outputs": [],
   "source": [
    "# Importing Training Dataset\n",
    "\n",
    "adv_pth = 'datasets/train.csv'\n",
    "pd1 = pd.read_csv(adv_pth)\n",
    "\n",
    "\n",
    "# Importing Test Dataset\n",
    "\n",
    "adv_pth = 'datasets/test.csv'\n",
    "pd2 = pd.read_csv(adv_pth)\n"
   ]
  },
  {
   "cell_type": "markdown",
   "metadata": {},
   "source": [
    "> <font size = 3 color = red>No need to initiate the adv_pth variable when you are going to replace the value of adv_pth (the path string) after reading the csv. Just input the path string will do. </font>"
   ]
  },
  {
   "cell_type": "code",
   "execution_count": 3,
   "metadata": {},
   "outputs": [],
   "source": [
    "# Cleaning column names to make them easier to work with\n",
    "\n",
    "def column_rename(dataframe):\n",
    "    dataframe.columns = [x.lower().replace(' ','_') for x in dataframe.columns]"
   ]
  },
  {
   "cell_type": "code",
   "execution_count": 4,
   "metadata": {},
   "outputs": [],
   "source": [
    "column_rename(pd1)\n",
    "column_rename(pd2)"
   ]
  },
  {
   "cell_type": "code",
   "execution_count": 5,
   "metadata": {},
   "outputs": [],
   "source": [
    "# Adding source of data that will help in identifying its origin\n",
    "\n",
    "pd1['source'] = 'pd1'"
   ]
  },
  {
   "cell_type": "code",
   "execution_count": 6,
   "metadata": {},
   "outputs": [
    {
     "data": {
      "text/plain": [
       "(2051, 82)"
      ]
     },
     "execution_count": 6,
     "metadata": {},
     "output_type": "execute_result"
    }
   ],
   "source": [
    "pd1.shape"
   ]
  },
  {
   "cell_type": "code",
   "execution_count": 7,
   "metadata": {},
   "outputs": [],
   "source": [
    "# Adding source of data that will help in identifying its origin\n",
    "\n",
    "pd2['source'] = 'pd2'"
   ]
  },
  {
   "cell_type": "code",
   "execution_count": 8,
   "metadata": {},
   "outputs": [
    {
     "data": {
      "text/plain": [
       "(879, 81)"
      ]
     },
     "execution_count": 8,
     "metadata": {},
     "output_type": "execute_result"
    }
   ],
   "source": [
    "pd2.shape"
   ]
  },
  {
   "cell_type": "code",
   "execution_count": 9,
   "metadata": {},
   "outputs": [
    {
     "name": "stderr",
     "output_type": "stream",
     "text": [
      "/Users/zhiyong/anaconda3/lib/python3.7/site-packages/ipykernel_launcher.py:3: FutureWarning: Sorting because non-concatenation axis is not aligned. A future version\n",
      "of pandas will change to not sort by default.\n",
      "\n",
      "To accept the future behavior, pass 'sort=False'.\n",
      "\n",
      "To retain the current behavior and silence the warning, pass 'sort=True'.\n",
      "\n",
      "  This is separate from the ipykernel package so we can avoid doing imports until\n"
     ]
    },
    {
     "data": {
      "text/plain": [
       "(2930, 82)"
      ]
     },
     "execution_count": 9,
     "metadata": {},
     "output_type": "execute_result"
    }
   ],
   "source": [
    "# Concatenate both training and test datasets into one consolidated dataframe\n",
    "\n",
    "df = pd.concat([pd1, pd2])\n",
    "df.shape"
   ]
  },
  {
   "cell_type": "markdown",
   "metadata": {},
   "source": [
    "### Exploratory Data Analysis"
   ]
  },
  {
   "cell_type": "markdown",
   "metadata": {},
   "source": [
    "#### Finding Out Missing and Zero Values"
   ]
  },
  {
   "cell_type": "code",
   "execution_count": 10,
   "metadata": {
    "scrolled": true
   },
   "outputs": [
    {
     "data": {
      "text/plain": [
       "pool_qc            0.995563\n",
       "misc_feature       0.963823\n",
       "alley              0.932423\n",
       "fence              0.804778\n",
       "fireplace_qu       0.485324\n",
       "saleprice          0.300000\n",
       "lot_frontage       0.167235\n",
       "garage_yr_blt      0.054266\n",
       "garage_qual        0.054266\n",
       "garage_cond        0.054266\n",
       "garage_finish      0.054266\n",
       "garage_type        0.053584\n",
       "bsmt_exposure      0.028328\n",
       "bsmtfin_type_2     0.027645\n",
       "bsmt_cond          0.027304\n",
       "bsmt_qual          0.027304\n",
       "bsmtfin_type_1     0.027304\n",
       "mas_vnr_area       0.007850\n",
       "mas_vnr_type       0.007850\n",
       "bsmt_full_bath     0.000683\n",
       "bsmt_half_bath     0.000683\n",
       "electrical         0.000341\n",
       "garage_area        0.000341\n",
       "bsmtfin_sf_2       0.000341\n",
       "bsmt_unf_sf        0.000341\n",
       "total_bsmt_sf      0.000341\n",
       "garage_cars        0.000341\n",
       "bsmtfin_sf_1       0.000341\n",
       "functional         0.000000\n",
       "full_bath          0.000000\n",
       "                     ...   \n",
       "pool_area          0.000000\n",
       "roof_matl          0.000000\n",
       "roof_style         0.000000\n",
       "sale_type          0.000000\n",
       "screen_porch       0.000000\n",
       "source             0.000000\n",
       "street             0.000000\n",
       "totrms_abvgrd      0.000000\n",
       "utilities          0.000000\n",
       "wood_deck_sf       0.000000\n",
       "year_built         0.000000\n",
       "open_porch_sf      0.000000\n",
       "neighborhood       0.000000\n",
       "ms_zoning          0.000000\n",
       "land_contour       0.000000\n",
       "year_remod/add     0.000000\n",
       "heating_qc         0.000000\n",
       "house_style        0.000000\n",
       "id                 0.000000\n",
       "kitchen_abvgr      0.000000\n",
       "kitchen_qual       0.000000\n",
       "land_slope         0.000000\n",
       "ms_subclass        0.000000\n",
       "lot_area           0.000000\n",
       "lot_config         0.000000\n",
       "lot_shape          0.000000\n",
       "low_qual_fin_sf    0.000000\n",
       "misc_val           0.000000\n",
       "mo_sold            0.000000\n",
       "1st_flr_sf         0.000000\n",
       "Length: 82, dtype: float64"
      ]
     },
     "execution_count": 10,
     "metadata": {},
     "output_type": "execute_result"
    }
   ],
   "source": [
    "# To find out percentage of missing values\n",
    "\n",
    "df.isnull().mean().sort_values(ascending=False)"
   ]
  },
  {
   "cell_type": "code",
   "execution_count": 11,
   "metadata": {},
   "outputs": [
    {
     "data": {
      "text/plain": [
       "2nd_flr_sf         0.57\n",
       "3ssn_porch         0.99\n",
       "bedroom_abvgr      0.00\n",
       "bsmt_full_bath     0.58\n",
       "bsmt_half_bath     0.94\n",
       "bsmt_unf_sf        0.08\n",
       "bsmtfin_sf_1       0.32\n",
       "bsmtfin_sf_2       0.88\n",
       "enclosed_porch     0.84\n",
       "fireplaces         0.49\n",
       "full_bath          0.00\n",
       "garage_area        0.05\n",
       "garage_cars        0.05\n",
       "half_bath          0.63\n",
       "kitchen_abvgr      0.00\n",
       "low_qual_fin_sf    0.99\n",
       "mas_vnr_area       0.60\n",
       "misc_val           0.96\n",
       "open_porch_sf      0.44\n",
       "pool_area          1.00\n",
       "screen_porch       0.91\n",
       "total_bsmt_sf      0.03\n",
       "wood_deck_sf       0.52\n",
       "dtype: float64"
      ]
     },
     "execution_count": 11,
     "metadata": {},
     "output_type": "execute_result"
    }
   ],
   "source": [
    "# To find out percentage of zero values\n",
    "zero_df = df.columns[(df == 0).any()]\n",
    "num = (df[zero_df] == 0).sum()\n",
    "round(num/2930, 2) "
   ]
  },
  {
   "cell_type": "code",
   "execution_count": 12,
   "metadata": {},
   "outputs": [],
   "source": [
    "# Drop Variables With High Percentages of Null Values (>90%) and Zero Values (>90%)\n",
    "# Variables like bsmt_half_bath, 33ssn_porch and screen_porch will not be dropped first as they will be dealt with later in feature engineering\n",
    "\n",
    "df.drop([\"pool_qc\", \"misc_feature\", \"alley\", \"low_qual_fin_sf\", 'misc_val', 'pool_area'], axis = 1, inplace = True)"
   ]
  },
  {
   "cell_type": "markdown",
   "metadata": {},
   "source": [
    "#### Cleaning Up Basement Variables"
   ]
  },
  {
   "cell_type": "code",
   "execution_count": 13,
   "metadata": {},
   "outputs": [
    {
     "name": "stdout",
     "output_type": "stream",
     "text": [
      "Null values of bsmt_cond is: 0\n",
      "Null values of bsmt_exposure is: 0\n",
      "Null values of bsmtfin_type_1 is: 0\n",
      "Null values of bsmtfin_type_2 is: 0\n",
      "Null values of bsmt_qual is: 0\n"
     ]
    }
   ],
   "source": [
    "col = ['bsmt_cond','bsmt_exposure','bsmtfin_type_1', 'bsmtfin_type_2', 'bsmt_qual']\n",
    "for i in col:\n",
    "    Nan_rows = df[i].isnull()\n",
    "    df.loc[Nan_rows, i] = 'None'\n",
    "    print ('Null values of {} is: {:d}' .format(i, df[i].isnull().sum()))"
   ]
  },
  {
   "cell_type": "code",
   "execution_count": 14,
   "metadata": {},
   "outputs": [
    {
     "name": "stdout",
     "output_type": "stream",
     "text": [
      "Valuecount of BsmtFinType1:  None    931\n",
      "GLQ     859\n",
      "ALQ     429\n",
      "Rec     288\n",
      "BLQ     269\n",
      "LwQ     154\n",
      "Name: bsmtfin_type_1, dtype: int64\n",
      "Valuecount of BsmtFinType2:  None    2580\n",
      "Rec      106\n",
      "LwQ       89\n",
      "BLQ       68\n",
      "ALQ       53\n",
      "GLQ       34\n",
      "Name: bsmtfin_type_2, dtype: int64\n"
     ]
    }
   ],
   "source": [
    "Unf_rows = (df['bsmtfin_type_1'] == 'Unf')\n",
    "df.loc[Unf_rows,'bsmtfin_type_1'] = 'None'\n",
    "print('Valuecount of BsmtFinType1: ', df['bsmtfin_type_1'].value_counts())\n",
    "\n",
    "Unf_rows = (df['bsmtfin_type_2'] == 'Unf')\n",
    "df.loc[Unf_rows,'bsmtfin_type_2'] = 'None'\n",
    "print('Valuecount of BsmtFinType2: ', df['bsmtfin_type_2'].value_counts())"
   ]
  },
  {
   "cell_type": "code",
   "execution_count": 15,
   "metadata": {},
   "outputs": [
    {
     "name": "stdout",
     "output_type": "stream",
     "text": [
      "Zero Values for BsmtUnfSF Before:  244\n",
      "Zero Values for BsmtUnfSF After:  165\n"
     ]
    }
   ],
   "source": [
    "zero_df = (df['bsmt_unf_sf'] == 0)\n",
    "df.loc[zero_df, ].groupby('bsmt_cond').bsmt_unf_sf.count()\n",
    "print('Zero Values for BsmtUnfSF Before: ', df.loc[zero_df,'bsmt_unf_sf'].count())\n",
    "\n",
    "zero_df = ((df['bsmt_unf_sf'] == 0) & (df['bsmt_cond'] != 'None'))\n",
    "df.loc[zero_df,'bsmt_unf_sf'] = df['bsmt_unf_sf'].median()\n",
    "print('Zero Values for BsmtUnfSF After: ', df.loc[zero_df,'bsmt_unf_sf'].count())"
   ]
  },
  {
   "cell_type": "markdown",
   "metadata": {},
   "source": [
    "#### Cleaning Up Garage Variables"
   ]
  },
  {
   "cell_type": "code",
   "execution_count": 16,
   "metadata": {},
   "outputs": [],
   "source": [
    "null_g = df['garage_cond'].isnull()\n",
    "df.loc[null_g, ['garage_cond','garage_finish','garage_qual','garage_type']] = 'None'\n",
    "df.loc[null_g, ['garage_area','garage_cars','garage_yr_blt']] = 0"
   ]
  },
  {
   "cell_type": "markdown",
   "metadata": {},
   "source": [
    "#### Cleaning Up Fireplace Variable"
   ]
  },
  {
   "cell_type": "code",
   "execution_count": 17,
   "metadata": {},
   "outputs": [],
   "source": [
    "null_f = df['fireplace_qu'].isnull()\n",
    "df.loc[null_f, 'fireplace_qu'] = 'None'"
   ]
  },
  {
   "cell_type": "markdown",
   "metadata": {},
   "source": [
    "#### Cleaning Up Fence Variable"
   ]
  },
  {
   "cell_type": "code",
   "execution_count": 18,
   "metadata": {},
   "outputs": [
    {
     "name": "stdout",
     "output_type": "stream",
     "text": [
      "Null values of Fence:  0\n"
     ]
    }
   ],
   "source": [
    "df['fence'].fillna('None', inplace=True)\n",
    "print ('Null values of Fence: ', df['fence'].isnull().sum())\n"
   ]
  },
  {
   "cell_type": "markdown",
   "metadata": {},
   "source": [
    "#### Cleaning Up LotFrontage Variable"
   ]
  },
  {
   "cell_type": "code",
   "execution_count": 19,
   "metadata": {},
   "outputs": [
    {
     "name": "stdout",
     "output_type": "stream",
     "text": [
      "Null values of LotFrontage:  0\n"
     ]
    }
   ],
   "source": [
    "df['lot_frontage'].fillna(df['lot_frontage'].median(), inplace=True)\n",
    "print ('Null values of LotFrontage: ', df['lot_frontage'].isnull().sum())"
   ]
  },
  {
   "cell_type": "markdown",
   "metadata": {},
   "source": [
    "#### Cleaning Up Masonry Veneer Variables"
   ]
  },
  {
   "cell_type": "code",
   "execution_count": 20,
   "metadata": {},
   "outputs": [],
   "source": [
    "null_m = df['mas_vnr_type'].isnull()\n",
    "df.loc[null_m, 'mas_vnr_area'] = 0\n",
    "df.loc[null_m, 'mas_vnr_type'] = 'None'\n",
    "\n",
    "null_m = (df['mas_vnr_area'] == 0)\n",
    "df.loc[null_m, 'mas_vnr_type'] = 'None'\n",
    "\n",
    "null_m = (df['mas_vnr_type'] == 'None')\n",
    "df.loc[null_m, 'mas_vnr_area'] = 0"
   ]
  },
  {
   "cell_type": "markdown",
   "metadata": {},
   "source": [
    "## Feature Engineering & Selection"
   ]
  },
  {
   "cell_type": "markdown",
   "metadata": {},
   "source": [
    "### Consolidating Related Variables"
   ]
  },
  {
   "cell_type": "markdown",
   "metadata": {},
   "source": [
    "#### Cleaning Up Porch Variables"
   ]
  },
  {
   "cell_type": "code",
   "execution_count": 21,
   "metadata": {},
   "outputs": [
    {
     "data": {
      "text/plain": [
       "1    2055\n",
       "0     875\n",
       "Name: porch, dtype: int64"
      ]
     },
     "execution_count": 21,
     "metadata": {},
     "output_type": "execute_result"
    }
   ],
   "source": [
    "df['porch'] = df['open_porch_sf'] + df['enclosed_porch'] + df ['3ssn_porch'] + df ['screen_porch']\n",
    "df['porch'] = df['porch'].astype(bool).astype(int)\n",
    "\n",
    "df['porch'].value_counts()"
   ]
  },
  {
   "cell_type": "markdown",
   "metadata": {},
   "source": [
    "#### Cleaning Up Bath Variables"
   ]
  },
  {
   "cell_type": "code",
   "execution_count": 22,
   "metadata": {},
   "outputs": [],
   "source": [
    "df['full_bath'] = df['full_bath'] + df['bsmt_full_bath']\n",
    "df['half_bath'] = df['half_bath'] + df['bsmt_half_bath']"
   ]
  },
  {
   "cell_type": "code",
   "execution_count": 23,
   "metadata": {},
   "outputs": [
    {
     "data": {
      "text/plain": [
       "(2930, 71)"
      ]
     },
     "execution_count": 23,
     "metadata": {},
     "output_type": "execute_result"
    }
   ],
   "source": [
    "drop_col = ['bsmt_full_bath','bsmt_half_bath', '3ssn_porch', 'enclosed_porch', 'open_porch_sf','screen_porch']\n",
    "df.drop(drop_col, axis=1, inplace=True)\n",
    "df.shape"
   ]
  },
  {
   "cell_type": "markdown",
   "metadata": {},
   "source": [
    "#### Check for Remaining Null Values"
   ]
  },
  {
   "cell_type": "code",
   "execution_count": 24,
   "metadata": {},
   "outputs": [
    {
     "data": {
      "text/plain": [
       "bsmt_unf_sf        1\n",
       "bsmtfin_sf_1       1\n",
       "bsmtfin_sf_2       1\n",
       "electrical         1\n",
       "full_bath          2\n",
       "half_bath          2\n",
       "saleprice        879\n",
       "total_bsmt_sf      1\n",
       "dtype: int64"
      ]
     },
     "execution_count": 24,
     "metadata": {},
     "output_type": "execute_result"
    }
   ],
   "source": [
    "# Check for null values\n",
    "\n",
    "null_df = df.columns[df.isnull().any()]\n",
    "num = df[null_df].isnull().sum()\n",
    "num"
   ]
  },
  {
   "cell_type": "markdown",
   "metadata": {},
   "source": [
    "#### Data-Cleaning of Null Values"
   ]
  },
  {
   "cell_type": "code",
   "execution_count": 25,
   "metadata": {},
   "outputs": [
    {
     "name": "stdout",
     "output_type": "stream",
     "text": [
      "Null values left for bsmtfin_sf_1 is: 0\n",
      "Null values left for bsmtfin_sf_2 is: 0\n",
      "Null values left for bsmt_unf_sf is: 0\n",
      "Null values left for total_bsmt_sf is: 0\n",
      "Null values left for electrical is: 0\n",
      "Null values left for full_bath is: 0\n",
      "Null values left for half_bath is: 0\n"
     ]
    }
   ],
   "source": [
    "# Filling Up median and mode values for numeric and non-numeric variables\n",
    "\n",
    "cont_col = ['bsmtfin_sf_1', 'bsmtfin_sf_2', 'bsmt_unf_sf','total_bsmt_sf']\n",
    "cat_col = ['electrical', 'full_bath','half_bath']\n",
    "for i in cont_col:\n",
    "    df[i].fillna(df[i].median(), inplace=True)\n",
    "    print('Null values left for {} is: {:d}'.format(i, df[i].isnull().sum()))\n",
    "    \n",
    "for j in cat_col:\n",
    "    df[j].fillna(df[j].mode()[0], inplace=True)\n",
    "    print('Null values left for {} is: {:d}'.format(j, df[j].isnull().sum()))"
   ]
  },
  {
   "cell_type": "code",
   "execution_count": 26,
   "metadata": {},
   "outputs": [
    {
     "data": {
      "text/plain": [
       "<matplotlib.axes._subplots.AxesSubplot at 0x1a1d3bc0b8>"
      ]
     },
     "execution_count": 26,
     "metadata": {},
     "output_type": "execute_result"
    },
    {
     "data": {
      "text/plain": [
       "<Figure size 432x288 with 0 Axes>"
      ]
     },
     "metadata": {},
     "output_type": "display_data"
    },
    {
     "data": {
      "image/png": "[encoded data removed]",
      "text/plain": [
       "<Figure size 720x360 with 1 Axes>"
      ]
     },
     "metadata": {
      "needs_background": "light"
     },
     "output_type": "display_data"
    }
   ],
   "source": [
    "# Boxplot of related floor square feet variables\n",
    "\n",
    "plt.figure(1)\n",
    "plt.figure(figsize=(10,5))\n",
    "df[['1st_flr_sf', '2nd_flr_sf', 'total_bsmt_sf']].boxplot()"
   ]
  },
  {
   "cell_type": "code",
   "execution_count": 27,
   "metadata": {},
   "outputs": [
    {
     "data": {
      "text/plain": [
       "<matplotlib.axes._subplots.AxesSubplot at 0x1a1d9d3b00>"
      ]
     },
     "execution_count": 27,
     "metadata": {},
     "output_type": "execute_result"
    },
    {
     "data": {
      "text/plain": [
       "<Figure size 432x288 with 0 Axes>"
      ]
     },
     "metadata": {},
     "output_type": "display_data"
    },
    {
     "data": {
      "image/png": "[encoded data removed]",
      "text/plain": [
       "<Figure size 720x360 with 1 Axes>"
      ]
     },
     "metadata": {
      "needs_background": "light"
     },
     "output_type": "display_data"
    }
   ],
   "source": [
    "# Creating a new 'total_sf' variable - boxplot\n",
    "\n",
    "df['total_sf'] = df['1st_flr_sf'] + df['2nd_flr_sf'] + df['total_bsmt_sf']\n",
    "plt.figure(1)\n",
    "plt.figure(figsize=(10,5))\n",
    "df[['total_sf']].boxplot()"
   ]
  },
  {
   "cell_type": "code",
   "execution_count": 28,
   "metadata": {},
   "outputs": [],
   "source": [
    "# Creating a new 'total_rooms' variables\n",
    "\n",
    "df['total_rooms'] = df['bedroom_abvgr'] + df['totrms_abvgrd']"
   ]
  },
  {
   "cell_type": "code",
   "execution_count": 29,
   "metadata": {},
   "outputs": [
    {
     "data": {
      "text/plain": [
       "(2930, 75)"
      ]
     },
     "execution_count": 29,
     "metadata": {},
     "output_type": "execute_result"
    }
   ],
   "source": [
    "# Creating two new variables that account for difference in years for remodelling and its construction from the time it is sold\n",
    "\n",
    "df['year_blt_age'] = df['yr_sold'] - df['year_built']\n",
    "df['remod_age'] = df['yr_sold'] - df['year_remod/add']\n",
    "df.shape"
   ]
  },
  {
   "cell_type": "markdown",
   "metadata": {},
   "source": [
    "#### Dropping Feature-Engineered Columns"
   ]
  },
  {
   "cell_type": "code",
   "execution_count": 30,
   "metadata": {},
   "outputs": [
    {
     "name": "stdout",
     "output_type": "stream",
     "text": [
      "Total Features after removing engineered features:  (2930, 67)\n"
     ]
    }
   ],
   "source": [
    "# Drop feature-engineered columns\n",
    "\n",
    "col_fe = ['1st_flr_sf','2nd_flr_sf','bsmtfin_sf_1', 'bsmtfin_sf_2', 'bsmt_unf_sf','total_bsmt_sf','bedroom_abvgr','totrms_abvgrd']\n",
    "df.drop(col_fe, axis=1, inplace=True)\n",
    "print('Total Features after removing engineered features: ', (df.shape))"
   ]
  },
  {
   "cell_type": "code",
   "execution_count": 31,
   "metadata": {},
   "outputs": [],
   "source": [
    "# Drop feature-engineered columns\n",
    "\n",
    "df.drop(['year_built','year_remod/add'], axis=1, inplace=True)"
   ]
  },
  {
   "cell_type": "markdown",
   "metadata": {},
   "source": [
    "#### Identifying Significant Numerical and Categorical Features"
   ]
  },
  {
   "cell_type": "code",
   "execution_count": 32,
   "metadata": {
    "scrolled": true
   },
   "outputs": [
    {
     "name": "stdout",
     "output_type": "stream",
     "text": [
      "Total of numeric features:  25\n",
      "Total of categorical features:  40\n"
     ]
    }
   ],
   "source": [
    "# Identifying numerical and categorical features\n",
    "\n",
    "num_feat = df.dtypes[df.dtypes != 'object'].index\n",
    "print('Total of numeric features: ', len(num_feat))\n",
    "cat_feat = df.dtypes[df.dtypes == 'object'].index\n",
    "print('Total of categorical features: ', len(cat_feat))"
   ]
  },
  {
   "cell_type": "markdown",
   "metadata": {},
   "source": [
    "#### A More In-Depth Look at Numeric Variables"
   ]
  },
  {
   "cell_type": "code",
   "execution_count": 33,
   "metadata": {},
   "outputs": [
    {
     "name": "stdout",
     "output_type": "stream",
     "text": [
      "saleprice        1.000000\n",
      "overall_qual     0.800207\n",
      "total_sf         0.783006\n",
      "gr_liv_area      0.697038\n",
      "garage_area      0.649897\n",
      "garage_cars      0.647781\n",
      "full_bath        0.587228\n",
      "year_blt_age     0.571881\n",
      "remod_age        0.551716\n",
      "mas_vnr_area     0.503529\n",
      "fireplaces       0.471093\n",
      "total_rooms      0.410292\n",
      "wood_deck_sf     0.326490\n",
      "lot_frontage     0.325129\n",
      "porch            0.312311\n",
      "lot_area         0.296566\n",
      "garage_yr_blt    0.258645\n",
      "pid              0.255052\n",
      "half_bath        0.235999\n",
      "kitchen_abvgr    0.125444\n",
      "overall_cond     0.097019\n",
      "ms_subclass      0.087335\n",
      "id               0.051398\n",
      "mo_sold          0.032735\n",
      "yr_sold          0.015203\n",
      "Name: saleprice, dtype: float64\n"
     ]
    }
   ],
   "source": [
    "#Find correlation for numeric variables\n",
    "\n",
    "target = 'saleprice'\n",
    "\n",
    "corr = df.corr()\n",
    "corr_abs = corr.abs()\n",
    "\n",
    "nr_num_cols = len(num_feat)\n",
    "\n",
    "ser_corr = corr_abs.nlargest(nr_num_cols, target)[target]\n",
    "print(ser_corr)"
   ]
  },
  {
   "cell_type": "code",
   "execution_count": 34,
   "metadata": {},
   "outputs": [
    {
     "name": "stdout",
     "output_type": "stream",
     "text": [
      "Total features:  (2930, 53)\n"
     ]
    }
   ],
   "source": [
    "# Drop columns based on corr < 40% \n",
    "\n",
    "col_drop_corr = ['garage_yr_blt','lot_frontage','wood_deck_sf','porch','lot_area',\n",
    "                 'half_bath','kitchen_abvgr','ms_subclass',\n",
    "                 'overall_cond', 'mo_sold', 'yr_sold', 'pid']\n",
    "df.drop(col_drop_corr, axis=1, inplace=True)\n",
    "print('Total features: ', df.shape)"
   ]
  },
  {
   "cell_type": "markdown",
   "metadata": {},
   "source": [
    "#### A More In-Depth Look at Categorical Variables"
   ]
  },
  {
   "cell_type": "code",
   "execution_count": 35,
   "metadata": {},
   "outputs": [
    {
     "name": "stdout",
     "output_type": "stream",
     "text": [
      "Highest value Percentage of bldg_type: 0.827645\n",
      "Highest value Percentage of bsmt_cond: 0.892833\n",
      "Highest value Percentage of bsmt_exposure: 0.650512\n",
      "Highest value Percentage of bsmt_qual: 0.437884\n",
      "Highest value Percentage of bsmtfin_type_1: 0.317747\n",
      "Highest value Percentage of bsmtfin_type_2: 0.880546\n",
      "Highest value Percentage of central_air: 0.933106\n",
      "Highest value Percentage of condition_1: 0.860751\n",
      "Highest value Percentage of condition_2: 0.989761\n",
      "Highest value Percentage of electrical: 0.915700\n",
      "Highest value Percentage of exter_cond: 0.869966\n",
      "Highest value Percentage of exter_qual: 0.613993\n",
      "Highest value Percentage of exterior_1st: 0.350171\n",
      "Highest value Percentage of exterior_2nd: 0.346416\n",
      "Highest value Percentage of fence: 0.804778\n",
      "Highest value Percentage of fireplace_qu: 0.485324\n",
      "Highest value Percentage of foundation: 0.447099\n",
      "Highest value Percentage of functional: 0.931058\n",
      "Highest value Percentage of garage_cond: 0.909556\n",
      "Highest value Percentage of garage_finish: 0.420137\n",
      "Highest value Percentage of garage_qual: 0.892491\n",
      "Highest value Percentage of garage_type: 0.590785\n",
      "Highest value Percentage of heating: 0.984642\n",
      "Highest value Percentage of heating_qc: 0.510239\n",
      "Highest value Percentage of house_style: 0.505461\n",
      "Highest value Percentage of kitchen_qual: 0.509898\n",
      "Highest value Percentage of land_contour: 0.898635\n",
      "Highest value Percentage of land_slope: 0.951877\n",
      "Highest value Percentage of lot_config: 0.730375\n",
      "Highest value Percentage of lot_shape: 0.634471\n",
      "Highest value Percentage of mas_vnr_type: 0.606826\n",
      "Highest value Percentage of ms_zoning: 0.775768\n",
      "Highest value Percentage of neighborhood: 0.151195\n",
      "Highest value Percentage of paved_drive: 0.905119\n",
      "Highest value Percentage of roof_matl: 0.985324\n",
      "Highest value Percentage of roof_style: 0.792150\n",
      "Highest value Percentage of sale_type: 0.865529\n",
      "Highest value Percentage of source: 0.700000\n",
      "Highest value Percentage of street: 0.995904\n",
      "Highest value Percentage of utilities: 0.998976\n"
     ]
    }
   ],
   "source": [
    "# Highest value Frequency percentage in categorical variables \n",
    "for i in list(cat_feat):\n",
    "    pct = df[i].value_counts()[0] / 2930\n",
    "    print('Highest value Percentage of {}: {:3f}'.format(i, pct))"
   ]
  },
  {
   "cell_type": "code",
   "execution_count": 36,
   "metadata": {},
   "outputs": [
    {
     "name": "stdout",
     "output_type": "stream",
     "text": [
      "Total features after dropping categorical features:  (2930, 33)\n"
     ]
    }
   ],
   "source": [
    "# Drop columns which have frequency of value more than 80% of all values \n",
    "\n",
    "col_drop = ['bldg_type','bsmt_cond','bsmtfin_type_2','central_air','condition_1','condition_2','electrical','exter_cond',\n",
    "           'fence', 'functional','garage_cond','garage_qual','heating','land_contour','land_slope','paved_drive','roof_matl',\n",
    "           'sale_type','street','utilities']\n",
    "df.drop(col_drop, axis=1, inplace=True)\n",
    "print('Total features after dropping categorical features: ', df.shape)"
   ]
  },
  {
   "cell_type": "code",
   "execution_count": 37,
   "metadata": {},
   "outputs": [
    {
     "data": {
      "text/plain": [
       "Index(['bsmt_exposure', 'bsmt_qual', 'bsmtfin_type_1', 'exter_qual',\n",
       "       'exterior_1st', 'exterior_2nd', 'fireplace_qu', 'foundation',\n",
       "       'garage_finish', 'garage_type', 'heating_qc', 'house_style',\n",
       "       'kitchen_qual', 'lot_config', 'lot_shape', 'mas_vnr_type', 'ms_zoning',\n",
       "       'neighborhood', 'roof_style', 'source'],\n",
       "      dtype='object')"
      ]
     },
     "execution_count": 37,
     "metadata": {},
     "output_type": "execute_result"
    }
   ],
   "source": [
    "cat_cols = df.dtypes[df.dtypes == 'object'].index\n",
    "cat_cols"
   ]
  },
  {
   "cell_type": "code",
   "execution_count": 38,
   "metadata": {},
   "outputs": [
    {
     "data": {
      "text/plain": [
       "(2930, 33)"
      ]
     },
     "execution_count": 38,
     "metadata": {},
     "output_type": "execute_result"
    }
   ],
   "source": [
    "# Integer Conversions (Label Encoder)\n",
    "\n",
    "from sklearn.preprocessing import LabelEncoder\n",
    "lc = LabelEncoder()\n",
    "\n",
    "cat_cols = ['bsmt_exposure', 'bsmt_qual', 'bsmtfin_type_1', 'exter_qual',\n",
    "       'exterior_1st', 'exterior_2nd', 'fireplace_qu', 'foundation',\n",
    "       'garage_finish', 'garage_type', 'heating_qc', 'house_style',\n",
    "       'kitchen_qual', 'lot_config', 'lot_shape', 'mas_vnr_type', 'ms_zoning',\n",
    "       'neighborhood', 'roof_style'] \n",
    "for i in cat_cols:\n",
    "     df[i] = lc.fit_transform(df[i])\n",
    "    \n",
    "df.shape"
   ]
  },
  {
   "cell_type": "code",
   "execution_count": 39,
   "metadata": {},
   "outputs": [
    {
     "data": {
      "text/plain": [
       "(2930, 164)"
      ]
     },
     "execution_count": 39,
     "metadata": {},
     "output_type": "execute_result"
    }
   ],
   "source": [
    "# One-hot Encoding\n",
    "\n",
    "col_encod = ['bsmt_exposure', 'bsmt_qual', 'bsmtfin_type_1', 'exter_qual',\n",
    "       'exterior_1st', 'exterior_2nd', 'fireplace_qu', 'foundation',\n",
    "       'garage_finish', 'garage_type', 'heating_qc', 'house_style',\n",
    "       'kitchen_qual', 'lot_config', 'lot_shape', 'mas_vnr_type', 'ms_zoning',\n",
    "       'neighborhood', 'roof_style']\n",
    "df = pd.get_dummies(df, columns=col_encod)\n",
    "\n",
    "df.shape"
   ]
  },
  {
   "cell_type": "markdown",
   "metadata": {},
   "source": [
    "## Modelling"
   ]
  },
  {
   "cell_type": "markdown",
   "metadata": {},
   "source": [
    "### Preparing Datasets for Modelling"
   ]
  },
  {
   "cell_type": "code",
   "execution_count": 40,
   "metadata": {},
   "outputs": [
    {
     "name": "stdout",
     "output_type": "stream",
     "text": [
      "(2051, 164) (879, 164)\n"
     ]
    }
   ],
   "source": [
    "# Splitting up datasets back into training and test datasets\n",
    "\n",
    "pd1 = df.loc[df['source'] == 'pd1']\n",
    "pd2 = df.loc[df['source'] == 'pd2']\n",
    "print(pd1.shape, pd2.shape)"
   ]
  },
  {
   "cell_type": "code",
   "execution_count": 41,
   "metadata": {},
   "outputs": [
    {
     "name": "stdout",
     "output_type": "stream",
     "text": [
      "(2051, 163) (879, 163)\n"
     ]
    },
    {
     "name": "stderr",
     "output_type": "stream",
     "text": [
      "/Users/zhiyong/anaconda3/lib/python3.7/site-packages/pandas/core/frame.py:3940: SettingWithCopyWarning: \n",
      "A value is trying to be set on a copy of a slice from a DataFrame\n",
      "\n",
      "See the caveats in the documentation: http://pandas.pydata.org/pandas-docs/stable/indexing.html#indexing-view-versus-copy\n",
      "  errors=errors)\n"
     ]
    },
    {
     "data": {
      "text/plain": [
       "Index(['fireplaces', 'full_bath', 'garage_area', 'garage_cars', 'gr_liv_area',\n",
       "       'id', 'mas_vnr_area', 'overall_qual', 'saleprice', 'total_sf',\n",
       "       ...\n",
       "       'neighborhood_24', 'neighborhood_25', 'neighborhood_26',\n",
       "       'neighborhood_27', 'roof_style_0', 'roof_style_1', 'roof_style_2',\n",
       "       'roof_style_3', 'roof_style_4', 'roof_style_5'],\n",
       "      dtype='object', length=163)"
      ]
     },
     "execution_count": 41,
     "metadata": {},
     "output_type": "execute_result"
    }
   ],
   "source": [
    "# Removing 'source' column that helped in identifying data origin\n",
    "\n",
    "pd1.drop(['source'], axis = 1, inplace=True)\n",
    "pd2.drop(['source'], axis = 1, inplace=True)\n",
    "print(pd1.shape, pd2.shape)\n",
    "pd2.columns"
   ]
  },
  {
   "cell_type": "code",
   "execution_count": 42,
   "metadata": {},
   "outputs": [
    {
     "data": {
      "text/plain": [
       "((1538, 161), (513, 161), (1538,), (513,))"
      ]
     },
     "execution_count": 42,
     "metadata": {},
     "output_type": "execute_result"
    }
   ],
   "source": [
    "# Train-Test-Split of Training Dataset\n",
    "\n",
    "pred_col = [x for x in pd1.columns if x not in ['saleprice', 'id']]\n",
    "X = pd1[pred_col]\n",
    "y = pd1['saleprice']\n",
    "\n",
    "scaler = StandardScaler()\n",
    "scaler.fit_transform(X)\n",
    "\n",
    "X_train,X_test,y_train,y_test = train_test_split(X,y,random_state= 42)\n",
    "X_train.shape,X_test.shape,y_train.shape,y_test.shape"
   ]
  },
  {
   "cell_type": "markdown",
   "metadata": {},
   "source": [
    "### Model Fitting & Scoring"
   ]
  },
  {
   "cell_type": "markdown",
   "metadata": {},
   "source": [
    "#### Model 1"
   ]
  },
  {
   "cell_type": "code",
   "execution_count": 43,
   "metadata": {},
   "outputs": [
    {
     "name": "stdout",
     "output_type": "stream",
     "text": [
      "[0.89873191 0.86794846 0.79596058 0.86565331 0.83059115 0.88218737\n",
      " 0.91159649 0.78888945 0.64647816 0.86058927]\n",
      "0.8348626149466174\n"
     ]
    }
   ],
   "source": [
    "# Cross-Val Score of Model\n",
    "\n",
    "lr = LinearRegression()\n",
    "print(cross_val_score(lr, X_train, y_train, cv=10))\n",
    "print(cross_val_score(lr, X_train, y_train, cv=10).mean())\n"
   ]
  },
  {
   "cell_type": "code",
   "execution_count": 44,
   "metadata": {},
   "outputs": [
    {
     "name": "stdout",
     "output_type": "stream",
     "text": [
      "Model Score: 0.876942\n"
     ]
    }
   ],
   "source": [
    "# Model Fit & Score\n",
    "\n",
    "lr.fit(X_train, y_train)\n",
    "\n",
    "score = lr.score(X_test,y_test)\n",
    "print ('Model Score: {:4f}'.format(score))"
   ]
  },
  {
   "cell_type": "code",
   "execution_count": 45,
   "metadata": {},
   "outputs": [],
   "source": [
    "# Predicting Test-Values\n",
    "\n",
    "pred_col = [x for x in pd2.columns if x not in ['saleprice', 'id']]\n",
    "X = pd2[pred_col]\n",
    "predictions = lr.predict(X)"
   ]
  },
  {
   "cell_type": "code",
   "execution_count": 46,
   "metadata": {},
   "outputs": [
    {
     "name": "stderr",
     "output_type": "stream",
     "text": [
      "/Users/zhiyong/anaconda3/lib/python3.7/site-packages/numpy/core/fromnumeric.py:2389: FutureWarning: Method .ptp is deprecated and will be removed in a future version. Use numpy.ptp instead.\n",
      "  return ptp(axis=axis, out=out, **kwargs)\n"
     ]
    }
   ],
   "source": [
    "### OLS on Training Set\n",
    "\n",
    "import statsmodels.api as sm\n",
    "\n",
    "x_train = sm.add_constant(X_train)\n",
    "model = sm.OLS(y_train, x_train)\n",
    "results = model.fit()"
   ]
  },
  {
   "cell_type": "code",
   "execution_count": 47,
   "metadata": {},
   "outputs": [
    {
     "data": {
      "text/html": [
       "<table class=\"simpletable\">\n",
       "<caption>OLS Regression Results</caption>\n",
       "<tr>\n",
       "  <th>Dep. Variable:</th>        <td>saleprice</td>    <th>  R-squared:         </th> <td>   0.884</td> \n",
       "</tr>\n",
       "<tr>\n",
       "  <th>Model:</th>                   <td>OLS</td>       <th>  Adj. R-squared:    </th> <td>   0.873</td> \n",
       "</tr>\n",
       "<tr>\n",
       "  <th>Method:</th>             <td>Least Squares</td>  <th>  F-statistic:       </th> <td>   79.18</td> \n",
       "</tr>\n",
       "<tr>\n",
       "  <th>Date:</th>             <td>Sun, 24 Nov 2019</td> <th>  Prob (F-statistic):</th>  <td>  0.00</td>  \n",
       "</tr>\n",
       "<tr>\n",
       "  <th>Time:</th>                 <td>23:21:19</td>     <th>  Log-Likelihood:    </th> <td> -17880.</td> \n",
       "</tr>\n",
       "<tr>\n",
       "  <th>No. Observations:</th>      <td>  1538</td>      <th>  AIC:               </th> <td>3.603e+04</td>\n",
       "</tr>\n",
       "<tr>\n",
       "  <th>Df Residuals:</th>          <td>  1402</td>      <th>  BIC:               </th> <td>3.676e+04</td>\n",
       "</tr>\n",
       "<tr>\n",
       "  <th>Df Model:</th>              <td>   135</td>      <th>                     </th>     <td> </td>    \n",
       "</tr>\n",
       "<tr>\n",
       "  <th>Covariance Type:</th>      <td>nonrobust</td>    <th>                     </th>     <td> </td>    \n",
       "</tr>\n",
       "</table>\n",
       "<table class=\"simpletable\">\n",
       "<tr>\n",
       "          <td></td>            <th>coef</th>     <th>std err</th>      <th>t</th>      <th>P>|t|</th>  <th>[0.025</th>    <th>0.975]</th>  \n",
       "</tr>\n",
       "<tr>\n",
       "  <th>const</th>            <td> 3448.8851</td> <td> 3810.487</td> <td>    0.905</td> <td> 0.366</td> <td>-4025.985</td> <td> 1.09e+04</td>\n",
       "</tr>\n",
       "<tr>\n",
       "  <th>fireplaces</th>       <td> 7579.0887</td> <td> 3044.642</td> <td>    2.489</td> <td> 0.013</td> <td> 1606.543</td> <td> 1.36e+04</td>\n",
       "</tr>\n",
       "<tr>\n",
       "  <th>full_bath</th>        <td> 5886.4185</td> <td> 1466.120</td> <td>    4.015</td> <td> 0.000</td> <td> 3010.393</td> <td> 8762.444</td>\n",
       "</tr>\n",
       "<tr>\n",
       "  <th>garage_area</th>      <td>   25.9736</td> <td>    9.021</td> <td>    2.879</td> <td> 0.004</td> <td>    8.277</td> <td>   43.670</td>\n",
       "</tr>\n",
       "<tr>\n",
       "  <th>garage_cars</th>      <td> 5284.4247</td> <td> 2719.502</td> <td>    1.943</td> <td> 0.052</td> <td>  -50.307</td> <td> 1.06e+04</td>\n",
       "</tr>\n",
       "<tr>\n",
       "  <th>gr_liv_area</th>      <td>   32.6044</td> <td>    6.908</td> <td>    4.720</td> <td> 0.000</td> <td>   19.054</td> <td>   46.155</td>\n",
       "</tr>\n",
       "<tr>\n",
       "  <th>mas_vnr_area</th>     <td>   19.4529</td> <td>    7.083</td> <td>    2.747</td> <td> 0.006</td> <td>    5.559</td> <td>   33.346</td>\n",
       "</tr>\n",
       "<tr>\n",
       "  <th>overall_qual</th>     <td> 8190.0010</td> <td> 1120.745</td> <td>    7.308</td> <td> 0.000</td> <td> 5991.482</td> <td> 1.04e+04</td>\n",
       "</tr>\n",
       "<tr>\n",
       "  <th>total_sf</th>         <td>   -1.2577</td> <td>    3.712</td> <td>   -0.339</td> <td> 0.735</td> <td>   -8.540</td> <td>    6.025</td>\n",
       "</tr>\n",
       "<tr>\n",
       "  <th>total_rooms</th>      <td> 1656.9228</td> <td>  656.375</td> <td>    2.524</td> <td> 0.012</td> <td>  369.341</td> <td> 2944.505</td>\n",
       "</tr>\n",
       "<tr>\n",
       "  <th>year_blt_age</th>     <td>  -70.2001</td> <td>   72.668</td> <td>   -0.966</td> <td> 0.334</td> <td> -212.750</td> <td>   72.350</td>\n",
       "</tr>\n",
       "<tr>\n",
       "  <th>remod_age</th>        <td> -117.1723</td> <td>   59.174</td> <td>   -1.980</td> <td> 0.048</td> <td> -233.252</td> <td>   -1.093</td>\n",
       "</tr>\n",
       "<tr>\n",
       "  <th>bsmt_exposure_0</th>  <td> 1144.3028</td> <td> 3868.945</td> <td>    0.296</td> <td> 0.767</td> <td>-6445.241</td> <td> 8733.847</td>\n",
       "</tr>\n",
       "<tr>\n",
       "  <th>bsmt_exposure_1</th>  <td> 2.093e+04</td> <td> 4262.855</td> <td>    4.911</td> <td> 0.000</td> <td> 1.26e+04</td> <td> 2.93e+04</td>\n",
       "</tr>\n",
       "<tr>\n",
       "  <th>bsmt_exposure_2</th>  <td>-7217.2303</td> <td> 4130.555</td> <td>   -1.747</td> <td> 0.081</td> <td>-1.53e+04</td> <td>  885.505</td>\n",
       "</tr>\n",
       "<tr>\n",
       "  <th>bsmt_exposure_3</th>  <td>-6439.1915</td> <td> 3653.877</td> <td>   -1.762</td> <td> 0.078</td> <td>-1.36e+04</td> <td>  728.465</td>\n",
       "</tr>\n",
       "<tr>\n",
       "  <th>bsmt_exposure_4</th>  <td>-4972.3341</td> <td> 1.35e+04</td> <td>   -0.369</td> <td> 0.712</td> <td>-3.14e+04</td> <td> 2.14e+04</td>\n",
       "</tr>\n",
       "<tr>\n",
       "  <th>bsmt_qual_0</th>      <td> 1.687e+04</td> <td> 7326.014</td> <td>    2.302</td> <td> 0.021</td> <td> 2494.134</td> <td> 3.12e+04</td>\n",
       "</tr>\n",
       "<tr>\n",
       "  <th>bsmt_qual_1</th>      <td>-1234.5288</td> <td> 7501.503</td> <td>   -0.165</td> <td> 0.869</td> <td>-1.59e+04</td> <td> 1.35e+04</td>\n",
       "</tr>\n",
       "<tr>\n",
       "  <th>bsmt_qual_2</th>      <td>-1265.7994</td> <td> 6553.315</td> <td>   -0.193</td> <td> 0.847</td> <td>-1.41e+04</td> <td> 1.16e+04</td>\n",
       "</tr>\n",
       "<tr>\n",
       "  <th>bsmt_qual_3</th>      <td>-7726.1676</td> <td> 1.65e+04</td> <td>   -0.468</td> <td> 0.640</td> <td>-4.01e+04</td> <td> 2.47e+04</td>\n",
       "</tr>\n",
       "<tr>\n",
       "  <th>bsmt_qual_4</th>      <td>-2662.2130</td> <td>  2.8e+04</td> <td>   -0.095</td> <td> 0.924</td> <td>-5.76e+04</td> <td> 5.23e+04</td>\n",
       "</tr>\n",
       "<tr>\n",
       "  <th>bsmt_qual_5</th>      <td> -527.6693</td> <td> 6417.860</td> <td>   -0.082</td> <td> 0.934</td> <td>-1.31e+04</td> <td> 1.21e+04</td>\n",
       "</tr>\n",
       "<tr>\n",
       "  <th>bsmtfin_type_1_0</th> <td> 3865.4938</td> <td> 2118.853</td> <td>    1.824</td> <td> 0.068</td> <td> -290.969</td> <td> 8021.957</td>\n",
       "</tr>\n",
       "<tr>\n",
       "  <th>bsmtfin_type_1_1</th> <td> 2717.1023</td> <td> 2363.984</td> <td>    1.149</td> <td> 0.251</td> <td>-1920.225</td> <td> 7354.429</td>\n",
       "</tr>\n",
       "<tr>\n",
       "  <th>bsmtfin_type_1_2</th> <td> 3193.5064</td> <td> 2053.571</td> <td>    1.555</td> <td> 0.120</td> <td> -834.897</td> <td> 7221.910</td>\n",
       "</tr>\n",
       "<tr>\n",
       "  <th>bsmtfin_type_1_3</th> <td>-1536.9306</td> <td> 3056.209</td> <td>   -0.503</td> <td> 0.615</td> <td>-7532.165</td> <td> 4458.304</td>\n",
       "</tr>\n",
       "<tr>\n",
       "  <th>bsmtfin_type_1_4</th> <td>-7180.2968</td> <td> 1804.348</td> <td>   -3.979</td> <td> 0.000</td> <td>-1.07e+04</td> <td>-3640.785</td>\n",
       "</tr>\n",
       "<tr>\n",
       "  <th>bsmtfin_type_1_5</th> <td> 2390.0100</td> <td> 2457.484</td> <td>    0.973</td> <td> 0.331</td> <td>-2430.731</td> <td> 7210.751</td>\n",
       "</tr>\n",
       "<tr>\n",
       "  <th>exter_qual_0</th>     <td> 3.092e+04</td> <td> 5121.418</td> <td>    6.037</td> <td> 0.000</td> <td> 2.09e+04</td> <td>  4.1e+04</td>\n",
       "</tr>\n",
       "<tr>\n",
       "  <th>exter_qual_1</th>     <td>-2.053e+04</td> <td> 6380.011</td> <td>   -3.218</td> <td> 0.001</td> <td> -3.3e+04</td> <td>-8015.257</td>\n",
       "</tr>\n",
       "<tr>\n",
       "  <th>exter_qual_2</th>     <td> -824.5283</td> <td> 2989.240</td> <td>   -0.276</td> <td> 0.783</td> <td>-6688.393</td> <td> 5039.337</td>\n",
       "</tr>\n",
       "<tr>\n",
       "  <th>exter_qual_3</th>     <td>-6112.0119</td> <td> 2990.141</td> <td>   -2.044</td> <td> 0.041</td> <td> -1.2e+04</td> <td> -246.379</td>\n",
       "</tr>\n",
       "<tr>\n",
       "  <th>exterior_1st_0</th>   <td> -897.6127</td> <td> 1.33e+04</td> <td>   -0.068</td> <td> 0.946</td> <td>-2.69e+04</td> <td> 2.51e+04</td>\n",
       "</tr>\n",
       "<tr>\n",
       "  <th>exterior_1st_1</th>   <td>-1.717e+04</td> <td> 4.25e+04</td> <td>   -0.404</td> <td> 0.686</td> <td>   -1e+05</td> <td> 6.62e+04</td>\n",
       "</tr>\n",
       "<tr>\n",
       "  <th>exterior_1st_2</th>   <td>-1.845e+04</td> <td> 2.66e+04</td> <td>   -0.693</td> <td> 0.488</td> <td>-7.06e+04</td> <td> 3.38e+04</td>\n",
       "</tr>\n",
       "<tr>\n",
       "  <th>exterior_1st_3</th>   <td> 1.321e+04</td> <td> 8422.947</td> <td>    1.568</td> <td> 0.117</td> <td>-3312.950</td> <td> 2.97e+04</td>\n",
       "</tr>\n",
       "<tr>\n",
       "  <th>exterior_1st_4</th>   <td> 4173.8344</td> <td>  3.1e+04</td> <td>    0.135</td> <td> 0.893</td> <td>-5.65e+04</td> <td> 6.49e+04</td>\n",
       "</tr>\n",
       "<tr>\n",
       "  <th>exterior_1st_5</th>   <td> 2.931e+04</td> <td> 2.16e+04</td> <td>    1.359</td> <td> 0.174</td> <td> -1.3e+04</td> <td> 7.16e+04</td>\n",
       "</tr>\n",
       "<tr>\n",
       "  <th>exterior_1st_6</th>   <td>-2510.5573</td> <td> 7256.599</td> <td>   -0.346</td> <td> 0.729</td> <td>-1.67e+04</td> <td> 1.17e+04</td>\n",
       "</tr>\n",
       "<tr>\n",
       "  <th>exterior_1st_7</th>   <td> 8870.9012</td> <td> 2.96e+04</td> <td>    0.300</td> <td> 0.765</td> <td>-4.92e+04</td> <td>  6.7e+04</td>\n",
       "</tr>\n",
       "<tr>\n",
       "  <th>exterior_1st_8</th>   <td>-4884.6767</td> <td> 1.13e+04</td> <td>   -0.430</td> <td> 0.667</td> <td>-2.71e+04</td> <td> 1.74e+04</td>\n",
       "</tr>\n",
       "<tr>\n",
       "  <th>exterior_1st_9</th>   <td>-1712.5304</td> <td> 7314.107</td> <td>   -0.234</td> <td> 0.815</td> <td>-1.61e+04</td> <td> 1.26e+04</td>\n",
       "</tr>\n",
       "<tr>\n",
       "  <th>exterior_1st_10</th>  <td> 2.035e-11</td> <td> 9.23e-11</td> <td>    0.220</td> <td> 0.826</td> <td>-1.61e-10</td> <td> 2.01e-10</td>\n",
       "</tr>\n",
       "<tr>\n",
       "  <th>exterior_1st_11</th>  <td> 1.021e+04</td> <td> 2.23e+04</td> <td>    0.458</td> <td> 0.647</td> <td>-3.35e+04</td> <td>  5.4e+04</td>\n",
       "</tr>\n",
       "<tr>\n",
       "  <th>exterior_1st_12</th>  <td>-8352.5713</td> <td> 1.03e+04</td> <td>   -0.812</td> <td> 0.417</td> <td>-2.85e+04</td> <td> 1.18e+04</td>\n",
       "</tr>\n",
       "<tr>\n",
       "  <th>exterior_1st_13</th>  <td>-3505.2453</td> <td> 9736.253</td> <td>   -0.360</td> <td> 0.719</td> <td>-2.26e+04</td> <td> 1.56e+04</td>\n",
       "</tr>\n",
       "<tr>\n",
       "  <th>exterior_1st_14</th>  <td>-5012.7601</td> <td> 6960.919</td> <td>   -0.720</td> <td> 0.472</td> <td>-1.87e+04</td> <td> 8642.179</td>\n",
       "</tr>\n",
       "<tr>\n",
       "  <th>exterior_1st_15</th>  <td>  162.9475</td> <td> 8484.830</td> <td>    0.019</td> <td> 0.985</td> <td>-1.65e+04</td> <td> 1.68e+04</td>\n",
       "</tr>\n",
       "<tr>\n",
       "  <th>exterior_2nd_0</th>   <td> -568.7061</td> <td> 1.46e+04</td> <td>   -0.039</td> <td> 0.969</td> <td>-2.92e+04</td> <td> 2.81e+04</td>\n",
       "</tr>\n",
       "<tr>\n",
       "  <th>exterior_2nd_1</th>   <td> 2.452e+04</td> <td> 3.12e+04</td> <td>    0.787</td> <td> 0.432</td> <td>-3.66e+04</td> <td> 8.57e+04</td>\n",
       "</tr>\n",
       "<tr>\n",
       "  <th>exterior_2nd_2</th>   <td> 3687.1807</td> <td> 1.85e+04</td> <td>    0.200</td> <td> 0.842</td> <td>-3.25e+04</td> <td> 3.99e+04</td>\n",
       "</tr>\n",
       "<tr>\n",
       "  <th>exterior_2nd_3</th>   <td> 1496.4404</td> <td> 9331.213</td> <td>    0.160</td> <td> 0.873</td> <td>-1.68e+04</td> <td> 1.98e+04</td>\n",
       "</tr>\n",
       "<tr>\n",
       "  <th>exterior_2nd_4</th>   <td> 3425.0275</td> <td> 2.84e+04</td> <td>    0.121</td> <td> 0.904</td> <td>-5.23e+04</td> <td> 5.92e+04</td>\n",
       "</tr>\n",
       "<tr>\n",
       "  <th>exterior_2nd_5</th>   <td>-2.458e+04</td> <td> 2.12e+04</td> <td>   -1.160</td> <td> 0.246</td> <td>-6.61e+04</td> <td>  1.7e+04</td>\n",
       "</tr>\n",
       "<tr>\n",
       "  <th>exterior_2nd_6</th>   <td> 3707.2189</td> <td> 6625.398</td> <td>    0.560</td> <td> 0.576</td> <td>-9289.542</td> <td> 1.67e+04</td>\n",
       "</tr>\n",
       "<tr>\n",
       "  <th>exterior_2nd_7</th>   <td>-9152.1433</td> <td> 1.11e+04</td> <td>   -0.825</td> <td> 0.410</td> <td>-3.09e+04</td> <td> 1.26e+04</td>\n",
       "</tr>\n",
       "<tr>\n",
       "  <th>exterior_2nd_8</th>   <td> 8283.1987</td> <td> 1.06e+04</td> <td>    0.779</td> <td> 0.436</td> <td>-1.26e+04</td> <td> 2.91e+04</td>\n",
       "</tr>\n",
       "<tr>\n",
       "  <th>exterior_2nd_9</th>   <td>-2.598e-11</td> <td>  9.2e-11</td> <td>   -0.282</td> <td> 0.778</td> <td>-2.06e-10</td> <td> 1.54e-10</td>\n",
       "</tr>\n",
       "<tr>\n",
       "  <th>exterior_2nd_10</th>  <td> 3602.2929</td> <td> 6172.876</td> <td>    0.584</td> <td> 0.560</td> <td>-8506.775</td> <td> 1.57e+04</td>\n",
       "</tr>\n",
       "<tr>\n",
       "  <th>exterior_2nd_11</th>  <td>-7.335e-11</td> <td> 7.04e-11</td> <td>   -1.041</td> <td> 0.298</td> <td>-2.12e-10</td> <td> 6.48e-11</td>\n",
       "</tr>\n",
       "<tr>\n",
       "  <th>exterior_2nd_12</th>  <td>-2.448e+04</td> <td> 1.84e+04</td> <td>   -1.330</td> <td> 0.184</td> <td>-6.06e+04</td> <td> 1.16e+04</td>\n",
       "</tr>\n",
       "<tr>\n",
       "  <th>exterior_2nd_13</th>  <td>-7741.2271</td> <td> 9109.803</td> <td>   -0.850</td> <td> 0.396</td> <td>-2.56e+04</td> <td> 1.01e+04</td>\n",
       "</tr>\n",
       "<tr>\n",
       "  <th>exterior_2nd_14</th>  <td> 1.092e+04</td> <td> 9119.456</td> <td>    1.197</td> <td> 0.232</td> <td>-6973.684</td> <td> 2.88e+04</td>\n",
       "</tr>\n",
       "<tr>\n",
       "  <th>exterior_2nd_15</th>  <td> 7895.6182</td> <td> 6185.533</td> <td>    1.276</td> <td> 0.202</td> <td>-4238.279</td> <td>    2e+04</td>\n",
       "</tr>\n",
       "<tr>\n",
       "  <th>exterior_2nd_16</th>  <td> 2434.3850</td> <td> 6978.047</td> <td>    0.349</td> <td> 0.727</td> <td>-1.13e+04</td> <td> 1.61e+04</td>\n",
       "</tr>\n",
       "<tr>\n",
       "  <th>fireplace_qu_0</th>   <td> 3867.7887</td> <td> 5864.097</td> <td>    0.660</td> <td> 0.510</td> <td>-7635.561</td> <td> 1.54e+04</td>\n",
       "</tr>\n",
       "<tr>\n",
       "  <th>fireplace_qu_1</th>   <td>-3752.2120</td> <td> 4218.377</td> <td>   -0.889</td> <td> 0.374</td> <td> -1.2e+04</td> <td> 4522.798</td>\n",
       "</tr>\n",
       "<tr>\n",
       "  <th>fireplace_qu_2</th>   <td> 3410.4913</td> <td> 2522.997</td> <td>    1.352</td> <td> 0.177</td> <td>-1538.765</td> <td> 8359.747</td>\n",
       "</tr>\n",
       "<tr>\n",
       "  <th>fireplace_qu_3</th>   <td> 1118.8473</td> <td> 3412.344</td> <td>    0.328</td> <td> 0.743</td> <td>-5575.002</td> <td> 7812.697</td>\n",
       "</tr>\n",
       "<tr>\n",
       "  <th>fireplace_qu_4</th>   <td>-4689.1798</td> <td> 6086.385</td> <td>   -0.770</td> <td> 0.441</td> <td>-1.66e+04</td> <td> 7250.223</td>\n",
       "</tr>\n",
       "<tr>\n",
       "  <th>fireplace_qu_5</th>   <td> 3493.1496</td> <td> 2650.599</td> <td>    1.318</td> <td> 0.188</td> <td>-1706.417</td> <td> 8692.716</td>\n",
       "</tr>\n",
       "<tr>\n",
       "  <th>foundation_0</th>     <td> 1137.2957</td> <td> 6132.266</td> <td>    0.185</td> <td> 0.853</td> <td>-1.09e+04</td> <td> 1.32e+04</td>\n",
       "</tr>\n",
       "<tr>\n",
       "  <th>foundation_1</th>     <td> 1149.8078</td> <td> 5708.896</td> <td>    0.201</td> <td> 0.840</td> <td>   -1e+04</td> <td> 1.23e+04</td>\n",
       "</tr>\n",
       "<tr>\n",
       "  <th>foundation_2</th>     <td> 2158.5270</td> <td> 5809.901</td> <td>    0.372</td> <td> 0.710</td> <td>-9238.508</td> <td> 1.36e+04</td>\n",
       "</tr>\n",
       "<tr>\n",
       "  <th>foundation_3</th>     <td>-5998.1292</td> <td> 9964.287</td> <td>   -0.602</td> <td> 0.547</td> <td>-2.55e+04</td> <td> 1.35e+04</td>\n",
       "</tr>\n",
       "<tr>\n",
       "  <th>foundation_4</th>     <td> 3748.0676</td> <td> 1.38e+04</td> <td>    0.271</td> <td> 0.787</td> <td>-2.34e+04</td> <td> 3.09e+04</td>\n",
       "</tr>\n",
       "<tr>\n",
       "  <th>foundation_5</th>     <td> 1253.3163</td> <td> 2.47e+04</td> <td>    0.051</td> <td> 0.960</td> <td>-4.72e+04</td> <td> 4.97e+04</td>\n",
       "</tr>\n",
       "<tr>\n",
       "  <th>garage_finish_0</th>  <td>  988.4684</td> <td> 2050.575</td> <td>    0.482</td> <td> 0.630</td> <td>-3034.057</td> <td> 5010.994</td>\n",
       "</tr>\n",
       "<tr>\n",
       "  <th>garage_finish_1</th>  <td> 6341.3131</td> <td> 2262.097</td> <td>    2.803</td> <td> 0.005</td> <td> 1903.854</td> <td> 1.08e+04</td>\n",
       "</tr>\n",
       "<tr>\n",
       "  <th>garage_finish_2</th>  <td>-4414.5262</td> <td> 1905.552</td> <td>   -2.317</td> <td> 0.021</td> <td>-8152.566</td> <td> -676.487</td>\n",
       "</tr>\n",
       "<tr>\n",
       "  <th>garage_finish_3</th>  <td>  533.6298</td> <td> 1908.918</td> <td>    0.280</td> <td> 0.780</td> <td>-3211.014</td> <td> 4278.273</td>\n",
       "</tr>\n",
       "<tr>\n",
       "  <th>garage_type_0</th>    <td>-1.503e+04</td> <td> 7393.983</td> <td>   -2.032</td> <td> 0.042</td> <td>-2.95e+04</td> <td> -520.664</td>\n",
       "</tr>\n",
       "<tr>\n",
       "  <th>garage_type_1</th>    <td> 1.028e+04</td> <td> 2800.690</td> <td>    3.670</td> <td> 0.000</td> <td> 4785.343</td> <td> 1.58e+04</td>\n",
       "</tr>\n",
       "<tr>\n",
       "  <th>garage_type_2</th>    <td>-4832.7422</td> <td> 6527.779</td> <td>   -0.740</td> <td> 0.459</td> <td>-1.76e+04</td> <td> 7972.524</td>\n",
       "</tr>\n",
       "<tr>\n",
       "  <th>garage_type_3</th>    <td> 1.415e+04</td> <td> 4015.944</td> <td>    3.524</td> <td> 0.000</td> <td> 6275.337</td> <td>  2.2e+04</td>\n",
       "</tr>\n",
       "<tr>\n",
       "  <th>garage_type_4</th>    <td>-1.052e+04</td> <td> 9695.329</td> <td>   -1.085</td> <td> 0.278</td> <td>-2.95e+04</td> <td> 8495.905</td>\n",
       "</tr>\n",
       "<tr>\n",
       "  <th>garage_type_5</th>    <td> 3055.8680</td> <td> 3023.538</td> <td>    1.011</td> <td> 0.312</td> <td>-2875.277</td> <td> 8987.013</td>\n",
       "</tr>\n",
       "<tr>\n",
       "  <th>garage_type_6</th>    <td> 6341.3131</td> <td> 2262.097</td> <td>    2.803</td> <td> 0.005</td> <td> 1903.854</td> <td> 1.08e+04</td>\n",
       "</tr>\n",
       "<tr>\n",
       "  <th>heating_qc_0</th>     <td> 8504.6630</td> <td> 4458.941</td> <td>    1.907</td> <td> 0.057</td> <td> -242.253</td> <td> 1.73e+04</td>\n",
       "</tr>\n",
       "<tr>\n",
       "  <th>heating_qc_1</th>     <td>-1138.8365</td> <td> 5267.844</td> <td>   -0.216</td> <td> 0.829</td> <td>-1.15e+04</td> <td> 9194.868</td>\n",
       "</tr>\n",
       "<tr>\n",
       "  <th>heating_qc_2</th>     <td> 5644.4500</td> <td> 4514.423</td> <td>    1.250</td> <td> 0.211</td> <td>-3211.301</td> <td> 1.45e+04</td>\n",
       "</tr>\n",
       "<tr>\n",
       "  <th>heating_qc_3</th>     <td>-1.157e+04</td> <td> 1.68e+04</td> <td>   -0.690</td> <td> 0.490</td> <td>-4.45e+04</td> <td> 2.13e+04</td>\n",
       "</tr>\n",
       "<tr>\n",
       "  <th>heating_qc_4</th>     <td> 2013.1399</td> <td> 4438.544</td> <td>    0.454</td> <td> 0.650</td> <td>-6693.763</td> <td> 1.07e+04</td>\n",
       "</tr>\n",
       "<tr>\n",
       "  <th>house_style_0</th>    <td> -1.02e+04</td> <td> 3670.605</td> <td>   -2.780</td> <td> 0.006</td> <td>-1.74e+04</td> <td>-3004.397</td>\n",
       "</tr>\n",
       "<tr>\n",
       "  <th>house_style_1</th>    <td> 2951.3466</td> <td> 9973.516</td> <td>    0.296</td> <td> 0.767</td> <td>-1.66e+04</td> <td> 2.25e+04</td>\n",
       "</tr>\n",
       "<tr>\n",
       "  <th>house_style_2</th>    <td>-5773.6066</td> <td> 3747.638</td> <td>   -1.541</td> <td> 0.124</td> <td>-1.31e+04</td> <td> 1577.975</td>\n",
       "</tr>\n",
       "<tr>\n",
       "  <th>house_style_3</th>    <td> 5.635e+04</td> <td> 1.67e+04</td> <td>    3.368</td> <td> 0.001</td> <td> 2.35e+04</td> <td> 8.92e+04</td>\n",
       "</tr>\n",
       "<tr>\n",
       "  <th>house_style_4</th>    <td>  317.3700</td> <td> 8992.265</td> <td>    0.035</td> <td> 0.972</td> <td>-1.73e+04</td> <td>  1.8e+04</td>\n",
       "</tr>\n",
       "<tr>\n",
       "  <th>house_style_5</th>    <td>-1.176e+04</td> <td> 3374.605</td> <td>   -3.485</td> <td> 0.001</td> <td>-1.84e+04</td> <td>-5140.156</td>\n",
       "</tr>\n",
       "<tr>\n",
       "  <th>house_style_6</th>    <td>-1.226e+04</td> <td> 5956.458</td> <td>   -2.059</td> <td> 0.040</td> <td>-2.39e+04</td> <td> -579.058</td>\n",
       "</tr>\n",
       "<tr>\n",
       "  <th>house_style_7</th>    <td>-1.616e+04</td> <td> 4801.869</td> <td>   -3.366</td> <td> 0.001</td> <td>-2.56e+04</td> <td>-6744.177</td>\n",
       "</tr>\n",
       "<tr>\n",
       "  <th>kitchen_qual_0</th>   <td> 2.345e+04</td> <td> 3737.075</td> <td>    6.276</td> <td> 0.000</td> <td> 1.61e+04</td> <td> 3.08e+04</td>\n",
       "</tr>\n",
       "<tr>\n",
       "  <th>kitchen_qual_1</th>   <td>-1.125e+04</td> <td> 4392.913</td> <td>   -2.560</td> <td> 0.011</td> <td>-1.99e+04</td> <td>-2630.628</td>\n",
       "</tr>\n",
       "<tr>\n",
       "  <th>kitchen_qual_2</th>   <td>-2492.5722</td> <td> 2313.841</td> <td>   -1.077</td> <td> 0.282</td> <td>-7031.536</td> <td> 2046.392</td>\n",
       "</tr>\n",
       "<tr>\n",
       "  <th>kitchen_qual_3</th>   <td>-4.381e-12</td> <td> 1.92e-11</td> <td>   -0.228</td> <td> 0.820</td> <td>-4.21e-11</td> <td> 3.33e-11</td>\n",
       "</tr>\n",
       "<tr>\n",
       "  <th>kitchen_qual_4</th>   <td>-6263.2617</td> <td> 2265.920</td> <td>   -2.764</td> <td> 0.006</td> <td>-1.07e+04</td> <td>-1818.303</td>\n",
       "</tr>\n",
       "<tr>\n",
       "  <th>lot_config_0</th>     <td> 1985.9446</td> <td> 3723.269</td> <td>    0.533</td> <td> 0.594</td> <td>-5317.834</td> <td> 9289.723</td>\n",
       "</tr>\n",
       "<tr>\n",
       "  <th>lot_config_1</th>     <td> 9894.3359</td> <td> 4297.804</td> <td>    2.302</td> <td> 0.021</td> <td> 1463.516</td> <td> 1.83e+04</td>\n",
       "</tr>\n",
       "<tr>\n",
       "  <th>lot_config_2</th>     <td>-1.097e+04</td> <td> 4980.794</td> <td>   -2.203</td> <td> 0.028</td> <td>-2.07e+04</td> <td>-1202.731</td>\n",
       "</tr>\n",
       "<tr>\n",
       "  <th>lot_config_3</th>     <td> 1160.8060</td> <td> 1.33e+04</td> <td>    0.087</td> <td> 0.930</td> <td>-2.49e+04</td> <td> 2.73e+04</td>\n",
       "</tr>\n",
       "<tr>\n",
       "  <th>lot_config_4</th>     <td> 1381.1407</td> <td> 3511.294</td> <td>    0.393</td> <td> 0.694</td> <td>-5506.815</td> <td> 8269.097</td>\n",
       "</tr>\n",
       "<tr>\n",
       "  <th>lot_shape_0</th>      <td> 1.214e+04</td> <td> 3258.675</td> <td>    3.726</td> <td> 0.000</td> <td> 5750.702</td> <td> 1.85e+04</td>\n",
       "</tr>\n",
       "<tr>\n",
       "  <th>lot_shape_1</th>      <td>  2.27e+04</td> <td> 4806.607</td> <td>    4.724</td> <td> 0.000</td> <td> 1.33e+04</td> <td> 3.21e+04</td>\n",
       "</tr>\n",
       "<tr>\n",
       "  <th>lot_shape_2</th>      <td>-4.302e+04</td> <td> 8729.704</td> <td>   -4.928</td> <td> 0.000</td> <td>-6.01e+04</td> <td>-2.59e+04</td>\n",
       "</tr>\n",
       "<tr>\n",
       "  <th>lot_shape_3</th>      <td> 1.162e+04</td> <td> 3288.870</td> <td>    3.533</td> <td> 0.000</td> <td> 5166.995</td> <td> 1.81e+04</td>\n",
       "</tr>\n",
       "<tr>\n",
       "  <th>mas_vnr_type_0</th>   <td>-1.227e+04</td> <td> 6907.063</td> <td>   -1.777</td> <td> 0.076</td> <td>-2.58e+04</td> <td> 1278.119</td>\n",
       "</tr>\n",
       "<tr>\n",
       "  <th>mas_vnr_type_1</th>   <td> 3365.5960</td> <td> 2795.574</td> <td>    1.204</td> <td> 0.229</td> <td>-2118.362</td> <td> 8849.554</td>\n",
       "</tr>\n",
       "<tr>\n",
       "  <th>mas_vnr_type_2</th>   <td> 1.597e-11</td> <td> 9.77e-12</td> <td>    1.634</td> <td> 0.102</td> <td> -3.2e-12</td> <td> 3.51e-11</td>\n",
       "</tr>\n",
       "<tr>\n",
       "  <th>mas_vnr_type_3</th>   <td> 8174.9881</td> <td> 2757.509</td> <td>    2.965</td> <td> 0.003</td> <td> 2765.699</td> <td> 1.36e+04</td>\n",
       "</tr>\n",
       "<tr>\n",
       "  <th>mas_vnr_type_4</th>   <td> 4179.4749</td> <td> 3363.146</td> <td>    1.243</td> <td> 0.214</td> <td>-2417.866</td> <td> 1.08e+04</td>\n",
       "</tr>\n",
       "<tr>\n",
       "  <th>ms_zoning_0</th>      <td>-1.352e+04</td> <td> 2.81e+04</td> <td>   -0.482</td> <td> 0.630</td> <td>-6.86e+04</td> <td> 4.16e+04</td>\n",
       "</tr>\n",
       "<tr>\n",
       "  <th>ms_zoning_1</th>      <td>-1684.9190</td> <td> 1.02e+04</td> <td>   -0.165</td> <td> 0.869</td> <td>-2.18e+04</td> <td> 1.84e+04</td>\n",
       "</tr>\n",
       "<tr>\n",
       "  <th>ms_zoning_2</th>      <td> 4433.9292</td> <td> 8537.944</td> <td>    0.519</td> <td> 0.604</td> <td>-1.23e+04</td> <td> 2.12e+04</td>\n",
       "</tr>\n",
       "<tr>\n",
       "  <th>ms_zoning_3</th>      <td>-1.912e-13</td> <td> 1.39e-11</td> <td>   -0.014</td> <td> 0.989</td> <td>-2.75e-11</td> <td> 2.71e-11</td>\n",
       "</tr>\n",
       "<tr>\n",
       "  <th>ms_zoning_4</th>      <td> 3990.7018</td> <td> 1.02e+04</td> <td>    0.392</td> <td> 0.695</td> <td> -1.6e+04</td> <td>  2.4e+04</td>\n",
       "</tr>\n",
       "<tr>\n",
       "  <th>ms_zoning_5</th>      <td> 1.062e+04</td> <td> 6231.371</td> <td>    1.704</td> <td> 0.089</td> <td>-1603.787</td> <td> 2.28e+04</td>\n",
       "</tr>\n",
       "<tr>\n",
       "  <th>ms_zoning_6</th>      <td> -387.6298</td> <td> 6686.472</td> <td>   -0.058</td> <td> 0.954</td> <td>-1.35e+04</td> <td> 1.27e+04</td>\n",
       "</tr>\n",
       "<tr>\n",
       "  <th>neighborhood_0</th>   <td>-2.055e+04</td> <td> 7579.016</td> <td>   -2.711</td> <td> 0.007</td> <td>-3.54e+04</td> <td>-5680.373</td>\n",
       "</tr>\n",
       "<tr>\n",
       "  <th>neighborhood_1</th>   <td>-2.092e+04</td> <td> 1.34e+04</td> <td>   -1.564</td> <td> 0.118</td> <td>-4.72e+04</td> <td> 5316.160</td>\n",
       "</tr>\n",
       "<tr>\n",
       "  <th>neighborhood_2</th>   <td>-1.295e+04</td> <td> 9235.876</td> <td>   -1.403</td> <td> 0.161</td> <td>-3.11e+04</td> <td> 5163.292</td>\n",
       "</tr>\n",
       "<tr>\n",
       "  <th>neighborhood_3</th>   <td> -180.9635</td> <td> 5252.091</td> <td>   -0.034</td> <td> 0.973</td> <td>-1.05e+04</td> <td> 1.01e+04</td>\n",
       "</tr>\n",
       "<tr>\n",
       "  <th>neighborhood_4</th>   <td> -468.1111</td> <td> 7126.595</td> <td>   -0.066</td> <td> 0.948</td> <td>-1.44e+04</td> <td> 1.35e+04</td>\n",
       "</tr>\n",
       "<tr>\n",
       "  <th>neighborhood_5</th>   <td>-4655.8430</td> <td> 3705.245</td> <td>   -1.257</td> <td> 0.209</td> <td>-1.19e+04</td> <td> 2612.579</td>\n",
       "</tr>\n",
       "<tr>\n",
       "  <th>neighborhood_6</th>   <td> 1.789e+04</td> <td> 5015.846</td> <td>    3.567</td> <td> 0.000</td> <td> 8054.072</td> <td> 2.77e+04</td>\n",
       "</tr>\n",
       "<tr>\n",
       "  <th>neighborhood_7</th>   <td>-2.337e+04</td> <td> 3896.273</td> <td>   -5.999</td> <td> 0.000</td> <td> -3.1e+04</td> <td>-1.57e+04</td>\n",
       "</tr>\n",
       "<tr>\n",
       "  <th>neighborhood_8</th>   <td>-9735.0055</td> <td> 4384.354</td> <td>   -2.220</td> <td> 0.027</td> <td>-1.83e+04</td> <td>-1134.405</td>\n",
       "</tr>\n",
       "<tr>\n",
       "  <th>neighborhood_9</th>   <td>-3.424e+04</td> <td> 2.04e+04</td> <td>   -1.677</td> <td> 0.094</td> <td>-7.43e+04</td> <td> 5800.958</td>\n",
       "</tr>\n",
       "<tr>\n",
       "  <th>neighborhood_10</th>  <td> 1.066e+05</td> <td> 2.06e+04</td> <td>    5.173</td> <td> 0.000</td> <td> 6.62e+04</td> <td> 1.47e+05</td>\n",
       "</tr>\n",
       "<tr>\n",
       "  <th>neighborhood_11</th>  <td>-5213.9798</td> <td> 6714.303</td> <td>   -0.777</td> <td> 0.438</td> <td>-1.84e+04</td> <td> 7957.183</td>\n",
       "</tr>\n",
       "<tr>\n",
       "  <th>neighborhood_12</th>  <td>-2.338e+04</td> <td> 2.92e+04</td> <td>   -0.800</td> <td> 0.424</td> <td>-8.07e+04</td> <td>  3.4e+04</td>\n",
       "</tr>\n",
       "<tr>\n",
       "  <th>neighborhood_13</th>  <td>-1.855e+04</td> <td> 9093.133</td> <td>   -2.040</td> <td> 0.042</td> <td>-3.64e+04</td> <td> -709.294</td>\n",
       "</tr>\n",
       "<tr>\n",
       "  <th>neighborhood_14</th>  <td>-5415.7450</td> <td> 4541.209</td> <td>   -1.193</td> <td> 0.233</td> <td>-1.43e+04</td> <td> 3492.552</td>\n",
       "</tr>\n",
       "<tr>\n",
       "  <th>neighborhood_15</th>  <td>-9816.6704</td> <td> 3400.503</td> <td>   -2.887</td> <td> 0.004</td> <td>-1.65e+04</td> <td>-3146.049</td>\n",
       "</tr>\n",
       "<tr>\n",
       "  <th>neighborhood_16</th>  <td>-1.756e+04</td> <td> 1.68e+04</td> <td>   -1.046</td> <td> 0.296</td> <td>-5.05e+04</td> <td> 1.54e+04</td>\n",
       "</tr>\n",
       "<tr>\n",
       "  <th>neighborhood_17</th>  <td>-2051.1536</td> <td> 4306.838</td> <td>   -0.476</td> <td> 0.634</td> <td>-1.05e+04</td> <td> 6397.387</td>\n",
       "</tr>\n",
       "<tr>\n",
       "  <th>neighborhood_18</th>  <td> 4.112e+04</td> <td> 5883.190</td> <td>    6.989</td> <td> 0.000</td> <td> 2.96e+04</td> <td> 5.27e+04</td>\n",
       "</tr>\n",
       "<tr>\n",
       "  <th>neighborhood_19</th>  <td> 2.496e+04</td> <td> 4897.680</td> <td>    5.096</td> <td> 0.000</td> <td> 1.54e+04</td> <td> 3.46e+04</td>\n",
       "</tr>\n",
       "<tr>\n",
       "  <th>neighborhood_20</th>  <td>-9539.1458</td> <td> 5319.710</td> <td>   -1.793</td> <td> 0.073</td> <td>   -2e+04</td> <td>  896.302</td>\n",
       "</tr>\n",
       "<tr>\n",
       "  <th>neighborhood_21</th>  <td>-1.501e+04</td> <td> 7423.918</td> <td>   -2.021</td> <td> 0.043</td> <td>-2.96e+04</td> <td> -444.251</td>\n",
       "</tr>\n",
       "<tr>\n",
       "  <th>neighborhood_22</th>  <td> -1.04e+04</td> <td> 4070.438</td> <td>   -2.556</td> <td> 0.011</td> <td>-1.84e+04</td> <td>-2418.165</td>\n",
       "</tr>\n",
       "<tr>\n",
       "  <th>neighborhood_23</th>  <td>-8689.0874</td> <td> 4263.265</td> <td>   -2.038</td> <td> 0.042</td> <td>-1.71e+04</td> <td> -326.022</td>\n",
       "</tr>\n",
       "<tr>\n",
       "  <th>neighborhood_24</th>  <td> 9450.1205</td> <td> 6940.892</td> <td>    1.362</td> <td> 0.174</td> <td>-4165.532</td> <td> 2.31e+04</td>\n",
       "</tr>\n",
       "<tr>\n",
       "  <th>neighborhood_25</th>  <td> 4.584e+04</td> <td> 6334.431</td> <td>    7.237</td> <td> 0.000</td> <td> 3.34e+04</td> <td> 5.83e+04</td>\n",
       "</tr>\n",
       "<tr>\n",
       "  <th>neighborhood_26</th>  <td> -677.5375</td> <td> 5697.880</td> <td>   -0.119</td> <td> 0.905</td> <td>-1.19e+04</td> <td> 1.05e+04</td>\n",
       "</tr>\n",
       "<tr>\n",
       "  <th>neighborhood_27</th>  <td> 1.098e+04</td> <td> 9703.788</td> <td>    1.132</td> <td> 0.258</td> <td>-8051.507</td> <td>    3e+04</td>\n",
       "</tr>\n",
       "<tr>\n",
       "  <th>roof_style_0</th>     <td>-5578.2733</td> <td> 9370.090</td> <td>   -0.595</td> <td> 0.552</td> <td> -2.4e+04</td> <td> 1.28e+04</td>\n",
       "</tr>\n",
       "<tr>\n",
       "  <th>roof_style_1</th>     <td> 1535.3919</td> <td> 4913.129</td> <td>    0.313</td> <td> 0.755</td> <td>-8102.484</td> <td> 1.12e+04</td>\n",
       "</tr>\n",
       "<tr>\n",
       "  <th>roof_style_2</th>     <td>  1.02e+04</td> <td> 1.03e+04</td> <td>    0.990</td> <td> 0.322</td> <td>   -1e+04</td> <td> 3.04e+04</td>\n",
       "</tr>\n",
       "<tr>\n",
       "  <th>roof_style_3</th>     <td> 8487.9842</td> <td> 5135.708</td> <td>    1.653</td> <td> 0.099</td> <td>-1586.517</td> <td> 1.86e+04</td>\n",
       "</tr>\n",
       "<tr>\n",
       "  <th>roof_style_4</th>     <td>-3.663e+04</td> <td> 1.36e+04</td> <td>   -2.694</td> <td> 0.007</td> <td>-6.33e+04</td> <td>-9951.570</td>\n",
       "</tr>\n",
       "<tr>\n",
       "  <th>roof_style_5</th>     <td> 2.543e+04</td> <td> 1.82e+04</td> <td>    1.396</td> <td> 0.163</td> <td>-1.03e+04</td> <td> 6.11e+04</td>\n",
       "</tr>\n",
       "</table>\n",
       "<table class=\"simpletable\">\n",
       "<tr>\n",
       "  <th>Omnibus:</th>       <td>577.269</td> <th>  Durbin-Watson:     </th> <td>   1.948</td> \n",
       "</tr>\n",
       "<tr>\n",
       "  <th>Prob(Omnibus):</th> <td> 0.000</td>  <th>  Jarque-Bera (JB):  </th> <td>38618.906</td>\n",
       "</tr>\n",
       "<tr>\n",
       "  <th>Skew:</th>          <td>-0.888</td>  <th>  Prob(JB):          </th> <td>    0.00</td> \n",
       "</tr>\n",
       "<tr>\n",
       "  <th>Kurtosis:</th>      <td>27.484</td>  <th>  Cond. No.          </th> <td>7.22e+17</td> \n",
       "</tr>\n",
       "</table><br/><br/>Warnings:<br/>[1] Standard Errors assume that the covariance matrix of the errors is correctly specified.<br/>[2] The smallest eigenvalue is 2.92e-26. This might indicate that there are<br/>strong multicollinearity problems or that the design matrix is singular."
      ],
      "text/plain": [
       "<class 'statsmodels.iolib.summary.Summary'>\n",
       "\"\"\"\n",
       "                            OLS Regression Results                            \n",
       "==============================================================================\n",
       "Dep. Variable:              saleprice   R-squared:                       0.884\n",
       "Model:                            OLS   Adj. R-squared:                  0.873\n",
       "Method:                 Least Squares   F-statistic:                     79.18\n",
       "Date:                Sun, 24 Nov 2019   Prob (F-statistic):               0.00\n",
       "Time:                        23:21:19   Log-Likelihood:                -17880.\n",
       "No. Observations:                1538   AIC:                         3.603e+04\n",
       "Df Residuals:                    1402   BIC:                         3.676e+04\n",
       "Df Model:                         135                                         \n",
       "Covariance Type:            nonrobust                                         \n",
       "====================================================================================\n",
       "                       coef    std err          t      P>|t|      [0.025      0.975]\n",
       "------------------------------------------------------------------------------------\n",
       "const             3448.8851   3810.487      0.905      0.366   -4025.985    1.09e+04\n",
       "fireplaces        7579.0887   3044.642      2.489      0.013    1606.543    1.36e+04\n",
       "full_bath         5886.4185   1466.120      4.015      0.000    3010.393    8762.444\n",
       "garage_area         25.9736      9.021      2.879      0.004       8.277      43.670\n",
       "garage_cars       5284.4247   2719.502      1.943      0.052     -50.307    1.06e+04\n",
       "gr_liv_area         32.6044      6.908      4.720      0.000      19.054      46.155\n",
       "mas_vnr_area        19.4529      7.083      2.747      0.006       5.559      33.346\n",
       "overall_qual      8190.0010   1120.745      7.308      0.000    5991.482    1.04e+04\n",
       "total_sf            -1.2577      3.712     -0.339      0.735      -8.540       6.025\n",
       "total_rooms       1656.9228    656.375      2.524      0.012     369.341    2944.505\n",
       "year_blt_age       -70.2001     72.668     -0.966      0.334    -212.750      72.350\n",
       "remod_age         -117.1723     59.174     -1.980      0.048    -233.252      -1.093\n",
       "bsmt_exposure_0   1144.3028   3868.945      0.296      0.767   -6445.241    8733.847\n",
       "bsmt_exposure_1   2.093e+04   4262.855      4.911      0.000    1.26e+04    2.93e+04\n",
       "bsmt_exposure_2  -7217.2303   4130.555     -1.747      0.081   -1.53e+04     885.505\n",
       "bsmt_exposure_3  -6439.1915   3653.877     -1.762      0.078   -1.36e+04     728.465\n",
       "bsmt_exposure_4  -4972.3341   1.35e+04     -0.369      0.712   -3.14e+04    2.14e+04\n",
       "bsmt_qual_0       1.687e+04   7326.014      2.302      0.021    2494.134    3.12e+04\n",
       "bsmt_qual_1      -1234.5288   7501.503     -0.165      0.869   -1.59e+04    1.35e+04\n",
       "bsmt_qual_2      -1265.7994   6553.315     -0.193      0.847   -1.41e+04    1.16e+04\n",
       "bsmt_qual_3      -7726.1676   1.65e+04     -0.468      0.640   -4.01e+04    2.47e+04\n",
       "bsmt_qual_4      -2662.2130    2.8e+04     -0.095      0.924   -5.76e+04    5.23e+04\n",
       "bsmt_qual_5       -527.6693   6417.860     -0.082      0.934   -1.31e+04    1.21e+04\n",
       "bsmtfin_type_1_0  3865.4938   2118.853      1.824      0.068    -290.969    8021.957\n",
       "bsmtfin_type_1_1  2717.1023   2363.984      1.149      0.251   -1920.225    7354.429\n",
       "bsmtfin_type_1_2  3193.5064   2053.571      1.555      0.120    -834.897    7221.910\n",
       "bsmtfin_type_1_3 -1536.9306   3056.209     -0.503      0.615   -7532.165    4458.304\n",
       "bsmtfin_type_1_4 -7180.2968   1804.348     -3.979      0.000   -1.07e+04   -3640.785\n",
       "bsmtfin_type_1_5  2390.0100   2457.484      0.973      0.331   -2430.731    7210.751\n",
       "exter_qual_0      3.092e+04   5121.418      6.037      0.000    2.09e+04     4.1e+04\n",
       "exter_qual_1     -2.053e+04   6380.011     -3.218      0.001    -3.3e+04   -8015.257\n",
       "exter_qual_2      -824.5283   2989.240     -0.276      0.783   -6688.393    5039.337\n",
       "exter_qual_3     -6112.0119   2990.141     -2.044      0.041    -1.2e+04    -246.379\n",
       "exterior_1st_0    -897.6127   1.33e+04     -0.068      0.946   -2.69e+04    2.51e+04\n",
       "exterior_1st_1   -1.717e+04   4.25e+04     -0.404      0.686      -1e+05    6.62e+04\n",
       "exterior_1st_2   -1.845e+04   2.66e+04     -0.693      0.488   -7.06e+04    3.38e+04\n",
       "exterior_1st_3    1.321e+04   8422.947      1.568      0.117   -3312.950    2.97e+04\n",
       "exterior_1st_4    4173.8344    3.1e+04      0.135      0.893   -5.65e+04    6.49e+04\n",
       "exterior_1st_5    2.931e+04   2.16e+04      1.359      0.174    -1.3e+04    7.16e+04\n",
       "exterior_1st_6   -2510.5573   7256.599     -0.346      0.729   -1.67e+04    1.17e+04\n",
       "exterior_1st_7    8870.9012   2.96e+04      0.300      0.765   -4.92e+04     6.7e+04\n",
       "exterior_1st_8   -4884.6767   1.13e+04     -0.430      0.667   -2.71e+04    1.74e+04\n",
       "exterior_1st_9   -1712.5304   7314.107     -0.234      0.815   -1.61e+04    1.26e+04\n",
       "exterior_1st_10   2.035e-11   9.23e-11      0.220      0.826   -1.61e-10    2.01e-10\n",
       "exterior_1st_11   1.021e+04   2.23e+04      0.458      0.647   -3.35e+04     5.4e+04\n",
       "exterior_1st_12  -8352.5713   1.03e+04     -0.812      0.417   -2.85e+04    1.18e+04\n",
       "exterior_1st_13  -3505.2453   9736.253     -0.360      0.719   -2.26e+04    1.56e+04\n",
       "exterior_1st_14  -5012.7601   6960.919     -0.720      0.472   -1.87e+04    8642.179\n",
       "exterior_1st_15    162.9475   8484.830      0.019      0.985   -1.65e+04    1.68e+04\n",
       "exterior_2nd_0    -568.7061   1.46e+04     -0.039      0.969   -2.92e+04    2.81e+04\n",
       "exterior_2nd_1    2.452e+04   3.12e+04      0.787      0.432   -3.66e+04    8.57e+04\n",
       "exterior_2nd_2    3687.1807   1.85e+04      0.200      0.842   -3.25e+04    3.99e+04\n",
       "exterior_2nd_3    1496.4404   9331.213      0.160      0.873   -1.68e+04    1.98e+04\n",
       "exterior_2nd_4    3425.0275   2.84e+04      0.121      0.904   -5.23e+04    5.92e+04\n",
       "exterior_2nd_5   -2.458e+04   2.12e+04     -1.160      0.246   -6.61e+04     1.7e+04\n",
       "exterior_2nd_6    3707.2189   6625.398      0.560      0.576   -9289.542    1.67e+04\n",
       "exterior_2nd_7   -9152.1433   1.11e+04     -0.825      0.410   -3.09e+04    1.26e+04\n",
       "exterior_2nd_8    8283.1987   1.06e+04      0.779      0.436   -1.26e+04    2.91e+04\n",
       "exterior_2nd_9   -2.598e-11    9.2e-11     -0.282      0.778   -2.06e-10    1.54e-10\n",
       "exterior_2nd_10   3602.2929   6172.876      0.584      0.560   -8506.775    1.57e+04\n",
       "exterior_2nd_11  -7.335e-11   7.04e-11     -1.041      0.298   -2.12e-10    6.48e-11\n",
       "exterior_2nd_12  -2.448e+04   1.84e+04     -1.330      0.184   -6.06e+04    1.16e+04\n",
       "exterior_2nd_13  -7741.2271   9109.803     -0.850      0.396   -2.56e+04    1.01e+04\n",
       "exterior_2nd_14   1.092e+04   9119.456      1.197      0.232   -6973.684    2.88e+04\n",
       "exterior_2nd_15   7895.6182   6185.533      1.276      0.202   -4238.279       2e+04\n",
       "exterior_2nd_16   2434.3850   6978.047      0.349      0.727   -1.13e+04    1.61e+04\n",
       "fireplace_qu_0    3867.7887   5864.097      0.660      0.510   -7635.561    1.54e+04\n",
       "fireplace_qu_1   -3752.2120   4218.377     -0.889      0.374    -1.2e+04    4522.798\n",
       "fireplace_qu_2    3410.4913   2522.997      1.352      0.177   -1538.765    8359.747\n",
       "fireplace_qu_3    1118.8473   3412.344      0.328      0.743   -5575.002    7812.697\n",
       "fireplace_qu_4   -4689.1798   6086.385     -0.770      0.441   -1.66e+04    7250.223\n",
       "fireplace_qu_5    3493.1496   2650.599      1.318      0.188   -1706.417    8692.716\n",
       "foundation_0      1137.2957   6132.266      0.185      0.853   -1.09e+04    1.32e+04\n",
       "foundation_1      1149.8078   5708.896      0.201      0.840      -1e+04    1.23e+04\n",
       "foundation_2      2158.5270   5809.901      0.372      0.710   -9238.508    1.36e+04\n",
       "foundation_3     -5998.1292   9964.287     -0.602      0.547   -2.55e+04    1.35e+04\n",
       "foundation_4      3748.0676   1.38e+04      0.271      0.787   -2.34e+04    3.09e+04\n",
       "foundation_5      1253.3163   2.47e+04      0.051      0.960   -4.72e+04    4.97e+04\n",
       "garage_finish_0    988.4684   2050.575      0.482      0.630   -3034.057    5010.994\n",
       "garage_finish_1   6341.3131   2262.097      2.803      0.005    1903.854    1.08e+04\n",
       "garage_finish_2  -4414.5262   1905.552     -2.317      0.021   -8152.566    -676.487\n",
       "garage_finish_3    533.6298   1908.918      0.280      0.780   -3211.014    4278.273\n",
       "garage_type_0    -1.503e+04   7393.983     -2.032      0.042   -2.95e+04    -520.664\n",
       "garage_type_1     1.028e+04   2800.690      3.670      0.000    4785.343    1.58e+04\n",
       "garage_type_2    -4832.7422   6527.779     -0.740      0.459   -1.76e+04    7972.524\n",
       "garage_type_3     1.415e+04   4015.944      3.524      0.000    6275.337     2.2e+04\n",
       "garage_type_4    -1.052e+04   9695.329     -1.085      0.278   -2.95e+04    8495.905\n",
       "garage_type_5     3055.8680   3023.538      1.011      0.312   -2875.277    8987.013\n",
       "garage_type_6     6341.3131   2262.097      2.803      0.005    1903.854    1.08e+04\n",
       "heating_qc_0      8504.6630   4458.941      1.907      0.057    -242.253    1.73e+04\n",
       "heating_qc_1     -1138.8365   5267.844     -0.216      0.829   -1.15e+04    9194.868\n",
       "heating_qc_2      5644.4500   4514.423      1.250      0.211   -3211.301    1.45e+04\n",
       "heating_qc_3     -1.157e+04   1.68e+04     -0.690      0.490   -4.45e+04    2.13e+04\n",
       "heating_qc_4      2013.1399   4438.544      0.454      0.650   -6693.763    1.07e+04\n",
       "house_style_0     -1.02e+04   3670.605     -2.780      0.006   -1.74e+04   -3004.397\n",
       "house_style_1     2951.3466   9973.516      0.296      0.767   -1.66e+04    2.25e+04\n",
       "house_style_2    -5773.6066   3747.638     -1.541      0.124   -1.31e+04    1577.975\n",
       "house_style_3     5.635e+04   1.67e+04      3.368      0.001    2.35e+04    8.92e+04\n",
       "house_style_4      317.3700   8992.265      0.035      0.972   -1.73e+04     1.8e+04\n",
       "house_style_5    -1.176e+04   3374.605     -3.485      0.001   -1.84e+04   -5140.156\n",
       "house_style_6    -1.226e+04   5956.458     -2.059      0.040   -2.39e+04    -579.058\n",
       "house_style_7    -1.616e+04   4801.869     -3.366      0.001   -2.56e+04   -6744.177\n",
       "kitchen_qual_0    2.345e+04   3737.075      6.276      0.000    1.61e+04    3.08e+04\n",
       "kitchen_qual_1   -1.125e+04   4392.913     -2.560      0.011   -1.99e+04   -2630.628\n",
       "kitchen_qual_2   -2492.5722   2313.841     -1.077      0.282   -7031.536    2046.392\n",
       "kitchen_qual_3   -4.381e-12   1.92e-11     -0.228      0.820   -4.21e-11    3.33e-11\n",
       "kitchen_qual_4   -6263.2617   2265.920     -2.764      0.006   -1.07e+04   -1818.303\n",
       "lot_config_0      1985.9446   3723.269      0.533      0.594   -5317.834    9289.723\n",
       "lot_config_1      9894.3359   4297.804      2.302      0.021    1463.516    1.83e+04\n",
       "lot_config_2     -1.097e+04   4980.794     -2.203      0.028   -2.07e+04   -1202.731\n",
       "lot_config_3      1160.8060   1.33e+04      0.087      0.930   -2.49e+04    2.73e+04\n",
       "lot_config_4      1381.1407   3511.294      0.393      0.694   -5506.815    8269.097\n",
       "lot_shape_0       1.214e+04   3258.675      3.726      0.000    5750.702    1.85e+04\n",
       "lot_shape_1        2.27e+04   4806.607      4.724      0.000    1.33e+04    3.21e+04\n",
       "lot_shape_2      -4.302e+04   8729.704     -4.928      0.000   -6.01e+04   -2.59e+04\n",
       "lot_shape_3       1.162e+04   3288.870      3.533      0.000    5166.995    1.81e+04\n",
       "mas_vnr_type_0   -1.227e+04   6907.063     -1.777      0.076   -2.58e+04    1278.119\n",
       "mas_vnr_type_1    3365.5960   2795.574      1.204      0.229   -2118.362    8849.554\n",
       "mas_vnr_type_2    1.597e-11   9.77e-12      1.634      0.102    -3.2e-12    3.51e-11\n",
       "mas_vnr_type_3    8174.9881   2757.509      2.965      0.003    2765.699    1.36e+04\n",
       "mas_vnr_type_4    4179.4749   3363.146      1.243      0.214   -2417.866    1.08e+04\n",
       "ms_zoning_0      -1.352e+04   2.81e+04     -0.482      0.630   -6.86e+04    4.16e+04\n",
       "ms_zoning_1      -1684.9190   1.02e+04     -0.165      0.869   -2.18e+04    1.84e+04\n",
       "ms_zoning_2       4433.9292   8537.944      0.519      0.604   -1.23e+04    2.12e+04\n",
       "ms_zoning_3      -1.912e-13   1.39e-11     -0.014      0.989   -2.75e-11    2.71e-11\n",
       "ms_zoning_4       3990.7018   1.02e+04      0.392      0.695    -1.6e+04     2.4e+04\n",
       "ms_zoning_5       1.062e+04   6231.371      1.704      0.089   -1603.787    2.28e+04\n",
       "ms_zoning_6       -387.6298   6686.472     -0.058      0.954   -1.35e+04    1.27e+04\n",
       "neighborhood_0   -2.055e+04   7579.016     -2.711      0.007   -3.54e+04   -5680.373\n",
       "neighborhood_1   -2.092e+04   1.34e+04     -1.564      0.118   -4.72e+04    5316.160\n",
       "neighborhood_2   -1.295e+04   9235.876     -1.403      0.161   -3.11e+04    5163.292\n",
       "neighborhood_3    -180.9635   5252.091     -0.034      0.973   -1.05e+04    1.01e+04\n",
       "neighborhood_4    -468.1111   7126.595     -0.066      0.948   -1.44e+04    1.35e+04\n",
       "neighborhood_5   -4655.8430   3705.245     -1.257      0.209   -1.19e+04    2612.579\n",
       "neighborhood_6    1.789e+04   5015.846      3.567      0.000    8054.072    2.77e+04\n",
       "neighborhood_7   -2.337e+04   3896.273     -5.999      0.000    -3.1e+04   -1.57e+04\n",
       "neighborhood_8   -9735.0055   4384.354     -2.220      0.027   -1.83e+04   -1134.405\n",
       "neighborhood_9   -3.424e+04   2.04e+04     -1.677      0.094   -7.43e+04    5800.958\n",
       "neighborhood_10   1.066e+05   2.06e+04      5.173      0.000    6.62e+04    1.47e+05\n",
       "neighborhood_11  -5213.9798   6714.303     -0.777      0.438   -1.84e+04    7957.183\n",
       "neighborhood_12  -2.338e+04   2.92e+04     -0.800      0.424   -8.07e+04     3.4e+04\n",
       "neighborhood_13  -1.855e+04   9093.133     -2.040      0.042   -3.64e+04    -709.294\n",
       "neighborhood_14  -5415.7450   4541.209     -1.193      0.233   -1.43e+04    3492.552\n",
       "neighborhood_15  -9816.6704   3400.503     -2.887      0.004   -1.65e+04   -3146.049\n",
       "neighborhood_16  -1.756e+04   1.68e+04     -1.046      0.296   -5.05e+04    1.54e+04\n",
       "neighborhood_17  -2051.1536   4306.838     -0.476      0.634   -1.05e+04    6397.387\n",
       "neighborhood_18   4.112e+04   5883.190      6.989      0.000    2.96e+04    5.27e+04\n",
       "neighborhood_19   2.496e+04   4897.680      5.096      0.000    1.54e+04    3.46e+04\n",
       "neighborhood_20  -9539.1458   5319.710     -1.793      0.073      -2e+04     896.302\n",
       "neighborhood_21  -1.501e+04   7423.918     -2.021      0.043   -2.96e+04    -444.251\n",
       "neighborhood_22   -1.04e+04   4070.438     -2.556      0.011   -1.84e+04   -2418.165\n",
       "neighborhood_23  -8689.0874   4263.265     -2.038      0.042   -1.71e+04    -326.022\n",
       "neighborhood_24   9450.1205   6940.892      1.362      0.174   -4165.532    2.31e+04\n",
       "neighborhood_25   4.584e+04   6334.431      7.237      0.000    3.34e+04    5.83e+04\n",
       "neighborhood_26   -677.5375   5697.880     -0.119      0.905   -1.19e+04    1.05e+04\n",
       "neighborhood_27   1.098e+04   9703.788      1.132      0.258   -8051.507       3e+04\n",
       "roof_style_0     -5578.2733   9370.090     -0.595      0.552    -2.4e+04    1.28e+04\n",
       "roof_style_1      1535.3919   4913.129      0.313      0.755   -8102.484    1.12e+04\n",
       "roof_style_2       1.02e+04   1.03e+04      0.990      0.322      -1e+04    3.04e+04\n",
       "roof_style_3      8487.9842   5135.708      1.653      0.099   -1586.517    1.86e+04\n",
       "roof_style_4     -3.663e+04   1.36e+04     -2.694      0.007   -6.33e+04   -9951.570\n",
       "roof_style_5      2.543e+04   1.82e+04      1.396      0.163   -1.03e+04    6.11e+04\n",
       "==============================================================================\n",
       "Omnibus:                      577.269   Durbin-Watson:                   1.948\n",
       "Prob(Omnibus):                  0.000   Jarque-Bera (JB):            38618.906\n",
       "Skew:                          -0.888   Prob(JB):                         0.00\n",
       "Kurtosis:                      27.484   Cond. No.                     7.22e+17\n",
       "==============================================================================\n",
       "\n",
       "Warnings:\n",
       "[1] Standard Errors assume that the covariance matrix of the errors is correctly specified.\n",
       "[2] The smallest eigenvalue is 2.92e-26. This might indicate that there are\n",
       "strong multicollinearity problems or that the design matrix is singular.\n",
       "\"\"\""
      ]
     },
     "execution_count": 47,
     "metadata": {},
     "output_type": "execute_result"
    }
   ],
   "source": [
    "results.summary()"
   ]
  },
  {
   "cell_type": "markdown",
   "metadata": {},
   "source": [
    "#### Model 2"
   ]
  },
  {
   "cell_type": "code",
   "execution_count": 48,
   "metadata": {},
   "outputs": [
    {
     "data": {
      "text/plain": [
       "((1538, 49), (513, 49), (1538,), (513,))"
      ]
     },
     "execution_count": 48,
     "metadata": {},
     "output_type": "execute_result"
    }
   ],
   "source": [
    "# Create new list of predictors based on OLS summary above (those with prob > 0.05 are excluded)\n",
    "\n",
    "pred_col_1 = [\"fireplaces\", \"full_bath\",\"garage_area\", \"gr_liv_area\", \"mas_vnr_area\",\"overall_qual\", \"total_rooms\",\n",
    "            \"remod_age\", \"bsmt_exposure_1\", \"bsmt_qual_0\", \"bsmtfin_type_1_4\", \"exter_qual_0\", \"exter_qual_1\",\n",
    "              \"exter_qual_3\", \"garage_finish_1\", \"garage_finish_2\", \"garage_type_0\", \"garage_type_1\",\n",
    "              \"garage_type_3\", \"garage_type_6\", \"house_style_0\", \"house_style_3\",\"house_style_5\",\n",
    "              \"house_style_6\", \"house_style_7\", \"kitchen_qual_0\", \"kitchen_qual_1\", \n",
    "              \"kitchen_qual_4\", \"lot_config_1\", \"lot_config_2\", \"lot_shape_0\",\n",
    "              \"lot_shape_1\", \"lot_shape_2\", \"lot_shape_3\", \"mas_vnr_type_3\", \"neighborhood_0\",\n",
    "              \"neighborhood_6\", \"neighborhood_7\", \"neighborhood_8\", \"neighborhood_10\" ,\"neighborhood_13\",\n",
    "            \"neighborhood_15\", \"neighborhood_18\", \"neighborhood_19\", \"neighborhood_21\", \"neighborhood_22\",\n",
    "              \"neighborhood_23\",\"neighborhood_25\", \"roof_style_4\"]\n",
    "\n",
    "X1 = pd1[pred_col_1]\n",
    "y1 = pd1['saleprice']\n",
    "\n",
    "scaler = StandardScaler()\n",
    "scaler.fit_transform(X1)\n",
    "\n",
    "X1_train,X1_test,y1_train,y1_test = train_test_split(X1,y1,random_state= 42)\n",
    "X1_train.shape,X1_test.shape,y1_train.shape,y1_test.shape\n"
   ]
  },
  {
   "cell_type": "code",
   "execution_count": 49,
   "metadata": {},
   "outputs": [
    {
     "name": "stdout",
     "output_type": "stream",
     "text": [
      "[0.90494574 0.87179221 0.81518366 0.85804842 0.85430104 0.88940172\n",
      " 0.90619123 0.79399661 0.67881584 0.87205069]\n",
      "0.8444727160368346\n"
     ]
    }
   ],
   "source": [
    "# Cross-Val Score of Model\n",
    "\n",
    "lr_1 = LinearRegression()\n",
    "print(cross_val_score(lr_1, X1_train, y1_train, cv=10))\n",
    "print(cross_val_score(lr_1, X1_train, y1_train, cv=10).mean())\n"
   ]
  },
  {
   "cell_type": "code",
   "execution_count": 50,
   "metadata": {},
   "outputs": [
    {
     "name": "stdout",
     "output_type": "stream",
     "text": [
      "Model Score: 0.868150\n"
     ]
    }
   ],
   "source": [
    "# Model Fit & Score\n",
    "\n",
    "lr_1.fit(X1_train, y1_train)\n",
    "\n",
    "score = lr_1.score(X1_test,y1_test)\n",
    "print ('Model Score: {:4f}'.format(score))"
   ]
  },
  {
   "cell_type": "code",
   "execution_count": 51,
   "metadata": {},
   "outputs": [],
   "source": [
    "# Predicting Test-Values\n",
    "\n",
    "X = pd2[pred_col_1]\n",
    "predictions = lr_1.predict(X)"
   ]
  },
  {
   "cell_type": "code",
   "execution_count": 52,
   "metadata": {},
   "outputs": [
    {
     "name": "stderr",
     "output_type": "stream",
     "text": [
      "/Users/zhiyong/anaconda3/lib/python3.7/site-packages/numpy/core/fromnumeric.py:2389: FutureWarning: Method .ptp is deprecated and will be removed in a future version. Use numpy.ptp instead.\n",
      "  return ptp(axis=axis, out=out, **kwargs)\n"
     ]
    }
   ],
   "source": [
    "# OLS on Training Set\n",
    "\n",
    "x1_train = sm.add_constant(X1_train)\n",
    "new_model = sm.OLS(y1_train, x1_train)\n",
    "results_1 = new_model.fit()"
   ]
  },
  {
   "cell_type": "code",
   "execution_count": 53,
   "metadata": {},
   "outputs": [
    {
     "data": {
      "text/html": [
       "<table class=\"simpletable\">\n",
       "<caption>OLS Regression Results</caption>\n",
       "<tr>\n",
       "  <th>Dep. Variable:</th>        <td>saleprice</td>    <th>  R-squared:         </th> <td>   0.870</td> \n",
       "</tr>\n",
       "<tr>\n",
       "  <th>Model:</th>                   <td>OLS</td>       <th>  Adj. R-squared:    </th> <td>   0.866</td> \n",
       "</tr>\n",
       "<tr>\n",
       "  <th>Method:</th>             <td>Least Squares</td>  <th>  F-statistic:       </th> <td>   211.7</td> \n",
       "</tr>\n",
       "<tr>\n",
       "  <th>Date:</th>             <td>Sun, 24 Nov 2019</td> <th>  Prob (F-statistic):</th>  <td>  0.00</td>  \n",
       "</tr>\n",
       "<tr>\n",
       "  <th>Time:</th>                 <td>23:21:20</td>     <th>  Log-Likelihood:    </th> <td> -17969.</td> \n",
       "</tr>\n",
       "<tr>\n",
       "  <th>No. Observations:</th>      <td>  1538</td>      <th>  AIC:               </th> <td>3.603e+04</td>\n",
       "</tr>\n",
       "<tr>\n",
       "  <th>Df Residuals:</th>          <td>  1490</td>      <th>  BIC:               </th> <td>3.629e+04</td>\n",
       "</tr>\n",
       "<tr>\n",
       "  <th>Df Model:</th>              <td>    47</td>      <th>                     </th>     <td> </td>    \n",
       "</tr>\n",
       "<tr>\n",
       "  <th>Covariance Type:</th>      <td>nonrobust</td>    <th>                     </th>     <td> </td>    \n",
       "</tr>\n",
       "</table>\n",
       "<table class=\"simpletable\">\n",
       "<tr>\n",
       "          <td></td>            <th>coef</th>     <th>std err</th>      <th>t</th>      <th>P>|t|</th>  <th>[0.025</th>    <th>0.975]</th>  \n",
       "</tr>\n",
       "<tr>\n",
       "  <th>const</th>            <td> 6877.8814</td> <td> 6829.969</td> <td>    1.007</td> <td> 0.314</td> <td>-6519.495</td> <td> 2.03e+04</td>\n",
       "</tr>\n",
       "<tr>\n",
       "  <th>fireplaces</th>       <td> 9348.6776</td> <td> 1493.312</td> <td>    6.260</td> <td> 0.000</td> <td> 6419.460</td> <td> 1.23e+04</td>\n",
       "</tr>\n",
       "<tr>\n",
       "  <th>full_bath</th>        <td> 6763.2934</td> <td> 1388.620</td> <td>    4.871</td> <td> 0.000</td> <td> 4039.436</td> <td> 9487.151</td>\n",
       "</tr>\n",
       "<tr>\n",
       "  <th>garage_area</th>      <td>   48.9995</td> <td>    5.844</td> <td>    8.384</td> <td> 0.000</td> <td>   37.535</td> <td>   60.464</td>\n",
       "</tr>\n",
       "<tr>\n",
       "  <th>gr_liv_area</th>      <td>   26.6254</td> <td>    3.644</td> <td>    7.308</td> <td> 0.000</td> <td>   19.478</td> <td>   33.772</td>\n",
       "</tr>\n",
       "<tr>\n",
       "  <th>mas_vnr_area</th>     <td>   22.4736</td> <td>    6.929</td> <td>    3.243</td> <td> 0.001</td> <td>    8.881</td> <td>   36.066</td>\n",
       "</tr>\n",
       "<tr>\n",
       "  <th>overall_qual</th>     <td> 9477.9716</td> <td> 1002.865</td> <td>    9.451</td> <td> 0.000</td> <td> 7510.795</td> <td> 1.14e+04</td>\n",
       "</tr>\n",
       "<tr>\n",
       "  <th>total_rooms</th>      <td> 2428.5668</td> <td>  623.808</td> <td>    3.893</td> <td> 0.000</td> <td> 1204.931</td> <td> 3652.202</td>\n",
       "</tr>\n",
       "<tr>\n",
       "  <th>remod_age</th>        <td> -273.8034</td> <td>   54.491</td> <td>   -5.025</td> <td> 0.000</td> <td> -380.692</td> <td> -166.915</td>\n",
       "</tr>\n",
       "<tr>\n",
       "  <th>bsmt_exposure_1</th>  <td> 2.176e+04</td> <td> 2909.945</td> <td>    7.477</td> <td> 0.000</td> <td>  1.6e+04</td> <td> 2.75e+04</td>\n",
       "</tr>\n",
       "<tr>\n",
       "  <th>bsmt_qual_0</th>      <td> 2.165e+04</td> <td> 3740.604</td> <td>    5.788</td> <td> 0.000</td> <td> 1.43e+04</td> <td>  2.9e+04</td>\n",
       "</tr>\n",
       "<tr>\n",
       "  <th>bsmtfin_type_1_4</th> <td> -1.16e+04</td> <td> 1895.093</td> <td>   -6.119</td> <td> 0.000</td> <td>-1.53e+04</td> <td>-7878.468</td>\n",
       "</tr>\n",
       "<tr>\n",
       "  <th>exter_qual_0</th>     <td> 2.966e+04</td> <td> 5538.324</td> <td>    5.356</td> <td> 0.000</td> <td> 1.88e+04</td> <td> 4.05e+04</td>\n",
       "</tr>\n",
       "<tr>\n",
       "  <th>exter_qual_1</th>     <td>-2.621e+04</td> <td> 7838.721</td> <td>   -3.343</td> <td> 0.001</td> <td>-4.16e+04</td> <td>-1.08e+04</td>\n",
       "</tr>\n",
       "<tr>\n",
       "  <th>exter_qual_3</th>     <td> -1.17e+04</td> <td> 2757.311</td> <td>   -4.242</td> <td> 0.000</td> <td>-1.71e+04</td> <td>-6287.645</td>\n",
       "</tr>\n",
       "<tr>\n",
       "  <th>garage_finish_1</th>  <td> 5729.3995</td> <td> 2228.416</td> <td>    2.571</td> <td> 0.010</td> <td> 1358.234</td> <td> 1.01e+04</td>\n",
       "</tr>\n",
       "<tr>\n",
       "  <th>garage_finish_2</th>  <td>-3512.7476</td> <td> 1873.131</td> <td>   -1.875</td> <td> 0.061</td> <td>-7187.001</td> <td>  161.506</td>\n",
       "</tr>\n",
       "<tr>\n",
       "  <th>garage_type_0</th>    <td>-1.853e+04</td> <td> 8136.468</td> <td>   -2.277</td> <td> 0.023</td> <td>-3.45e+04</td> <td>-2568.229</td>\n",
       "</tr>\n",
       "<tr>\n",
       "  <th>garage_type_1</th>    <td> 1.143e+04</td> <td> 2226.073</td> <td>    5.134</td> <td> 0.000</td> <td> 7061.831</td> <td> 1.58e+04</td>\n",
       "</tr>\n",
       "<tr>\n",
       "  <th>garage_type_3</th>    <td> 1.949e+04</td> <td> 4064.094</td> <td>    4.796</td> <td> 0.000</td> <td> 1.15e+04</td> <td> 2.75e+04</td>\n",
       "</tr>\n",
       "<tr>\n",
       "  <th>garage_type_6</th>    <td> 5729.3995</td> <td> 2228.416</td> <td>    2.571</td> <td> 0.010</td> <td> 1358.234</td> <td> 1.01e+04</td>\n",
       "</tr>\n",
       "<tr>\n",
       "  <th>house_style_0</th>    <td>-6710.8704</td> <td> 2961.610</td> <td>   -2.266</td> <td> 0.024</td> <td>-1.25e+04</td> <td> -901.502</td>\n",
       "</tr>\n",
       "<tr>\n",
       "  <th>house_style_3</th>    <td> 4.494e+04</td> <td> 1.82e+04</td> <td>    2.467</td> <td> 0.014</td> <td> 9213.285</td> <td> 8.07e+04</td>\n",
       "</tr>\n",
       "<tr>\n",
       "  <th>house_style_5</th>    <td>-8599.3496</td> <td> 2282.652</td> <td>   -3.767</td> <td> 0.000</td> <td>-1.31e+04</td> <td>-4121.796</td>\n",
       "</tr>\n",
       "<tr>\n",
       "  <th>house_style_6</th>    <td>-6339.9052</td> <td> 5050.731</td> <td>   -1.255</td> <td> 0.210</td> <td>-1.62e+04</td> <td> 3567.393</td>\n",
       "</tr>\n",
       "<tr>\n",
       "  <th>house_style_7</th>    <td>-9252.3837</td> <td> 4052.921</td> <td>   -2.283</td> <td> 0.023</td> <td>-1.72e+04</td> <td>-1302.346</td>\n",
       "</tr>\n",
       "<tr>\n",
       "  <th>kitchen_qual_0</th>   <td>  2.51e+04</td> <td> 4171.604</td> <td>    6.017</td> <td> 0.000</td> <td> 1.69e+04</td> <td> 3.33e+04</td>\n",
       "</tr>\n",
       "<tr>\n",
       "  <th>kitchen_qual_1</th>   <td>-1.059e+04</td> <td> 5722.170</td> <td>   -1.851</td> <td> 0.064</td> <td>-2.18e+04</td> <td>  633.209</td>\n",
       "</tr>\n",
       "<tr>\n",
       "  <th>kitchen_qual_4</th>   <td>-6207.6660</td> <td> 2376.820</td> <td>   -2.612</td> <td> 0.009</td> <td>-1.09e+04</td> <td>-1545.398</td>\n",
       "</tr>\n",
       "<tr>\n",
       "  <th>lot_config_1</th>     <td> 9981.9455</td> <td> 3449.879</td> <td>    2.893</td> <td> 0.004</td> <td> 3214.809</td> <td> 1.67e+04</td>\n",
       "</tr>\n",
       "<tr>\n",
       "  <th>lot_config_2</th>     <td>-1.123e+04</td> <td> 4484.813</td> <td>   -2.503</td> <td> 0.012</td> <td>   -2e+04</td> <td>-2428.691</td>\n",
       "</tr>\n",
       "<tr>\n",
       "  <th>lot_shape_0</th>      <td> 1.511e+04</td> <td> 3194.118</td> <td>    4.731</td> <td> 0.000</td> <td> 8845.458</td> <td> 2.14e+04</td>\n",
       "</tr>\n",
       "<tr>\n",
       "  <th>lot_shape_1</th>      <td> 2.635e+04</td> <td> 4963.504</td> <td>    5.310</td> <td> 0.000</td> <td> 1.66e+04</td> <td> 3.61e+04</td>\n",
       "</tr>\n",
       "<tr>\n",
       "  <th>lot_shape_2</th>      <td>-4.899e+04</td> <td> 9178.050</td> <td>   -5.337</td> <td> 0.000</td> <td> -6.7e+04</td> <td> -3.1e+04</td>\n",
       "</tr>\n",
       "<tr>\n",
       "  <th>lot_shape_3</th>      <td>  1.44e+04</td> <td> 3169.947</td> <td>    4.543</td> <td> 0.000</td> <td> 8182.448</td> <td> 2.06e+04</td>\n",
       "</tr>\n",
       "<tr>\n",
       "  <th>mas_vnr_type_3</th>   <td> 4727.8705</td> <td> 2341.268</td> <td>    2.019</td> <td> 0.044</td> <td>  135.339</td> <td> 9320.402</td>\n",
       "</tr>\n",
       "<tr>\n",
       "  <th>neighborhood_0</th>   <td>-1.041e+04</td> <td> 7281.704</td> <td>   -1.430</td> <td> 0.153</td> <td>-2.47e+04</td> <td> 3873.876</td>\n",
       "</tr>\n",
       "<tr>\n",
       "  <th>neighborhood_6</th>   <td> 2.333e+04</td> <td> 4529.636</td> <td>    5.151</td> <td> 0.000</td> <td> 1.44e+04</td> <td> 3.22e+04</td>\n",
       "</tr>\n",
       "<tr>\n",
       "  <th>neighborhood_7</th>   <td>-1.471e+04</td> <td> 3270.187</td> <td>   -4.499</td> <td> 0.000</td> <td>-2.11e+04</td> <td>-8297.789</td>\n",
       "</tr>\n",
       "<tr>\n",
       "  <th>neighborhood_8</th>   <td> -437.2472</td> <td> 3700.450</td> <td>   -0.118</td> <td> 0.906</td> <td>-7695.893</td> <td> 6821.399</td>\n",
       "</tr>\n",
       "<tr>\n",
       "  <th>neighborhood_10</th>  <td> 1.008e+05</td> <td> 2.08e+04</td> <td>    4.841</td> <td> 0.000</td> <td>    6e+04</td> <td> 1.42e+05</td>\n",
       "</tr>\n",
       "<tr>\n",
       "  <th>neighborhood_13</th>  <td>-1.798e+04</td> <td> 7377.109</td> <td>   -2.438</td> <td> 0.015</td> <td>-3.25e+04</td> <td>-3514.259</td>\n",
       "</tr>\n",
       "<tr>\n",
       "  <th>neighborhood_15</th>  <td>-1739.5175</td> <td> 2587.322</td> <td>   -0.672</td> <td> 0.501</td> <td>-6814.699</td> <td> 3335.664</td>\n",
       "</tr>\n",
       "<tr>\n",
       "  <th>neighborhood_18</th>  <td> 4.436e+04</td> <td> 5344.861</td> <td>    8.299</td> <td> 0.000</td> <td> 3.39e+04</td> <td> 5.48e+04</td>\n",
       "</tr>\n",
       "<tr>\n",
       "  <th>neighborhood_19</th>  <td> 2.789e+04</td> <td> 4186.887</td> <td>    6.660</td> <td> 0.000</td> <td> 1.97e+04</td> <td> 3.61e+04</td>\n",
       "</tr>\n",
       "<tr>\n",
       "  <th>neighborhood_21</th>  <td>-3095.5155</td> <td> 6719.380</td> <td>   -0.461</td> <td> 0.645</td> <td>-1.63e+04</td> <td> 1.01e+04</td>\n",
       "</tr>\n",
       "<tr>\n",
       "  <th>neighborhood_22</th>  <td>-4742.9725</td> <td> 3574.645</td> <td>   -1.327</td> <td> 0.185</td> <td>-1.18e+04</td> <td> 2268.898</td>\n",
       "</tr>\n",
       "<tr>\n",
       "  <th>neighborhood_23</th>  <td>-4797.8983</td> <td> 3768.066</td> <td>   -1.273</td> <td> 0.203</td> <td>-1.22e+04</td> <td> 2593.380</td>\n",
       "</tr>\n",
       "<tr>\n",
       "  <th>neighborhood_25</th>  <td> 4.991e+04</td> <td> 6011.389</td> <td>    8.302</td> <td> 0.000</td> <td> 3.81e+04</td> <td> 6.17e+04</td>\n",
       "</tr>\n",
       "<tr>\n",
       "  <th>roof_style_4</th>     <td>-4.085e+04</td> <td> 1.49e+04</td> <td>   -2.743</td> <td> 0.006</td> <td>-7.01e+04</td> <td>-1.16e+04</td>\n",
       "</tr>\n",
       "</table>\n",
       "<table class=\"simpletable\">\n",
       "<tr>\n",
       "  <th>Omnibus:</th>       <td>604.398</td> <th>  Durbin-Watson:     </th> <td>   1.938</td> \n",
       "</tr>\n",
       "<tr>\n",
       "  <th>Prob(Omnibus):</th> <td> 0.000</td>  <th>  Jarque-Bera (JB):  </th> <td>34592.831</td>\n",
       "</tr>\n",
       "<tr>\n",
       "  <th>Skew:</th>          <td>-1.019</td>  <th>  Prob(JB):          </th> <td>    0.00</td> \n",
       "</tr>\n",
       "<tr>\n",
       "  <th>Kurtosis:</th>      <td>26.144</td>  <th>  Cond. No.          </th> <td>4.97e+16</td> \n",
       "</tr>\n",
       "</table><br/><br/>Warnings:<br/>[1] Standard Errors assume that the covariance matrix of the errors is correctly specified.<br/>[2] The smallest eigenvalue is 1.71e-24. This might indicate that there are<br/>strong multicollinearity problems or that the design matrix is singular."
      ],
      "text/plain": [
       "<class 'statsmodels.iolib.summary.Summary'>\n",
       "\"\"\"\n",
       "                            OLS Regression Results                            \n",
       "==============================================================================\n",
       "Dep. Variable:              saleprice   R-squared:                       0.870\n",
       "Model:                            OLS   Adj. R-squared:                  0.866\n",
       "Method:                 Least Squares   F-statistic:                     211.7\n",
       "Date:                Sun, 24 Nov 2019   Prob (F-statistic):               0.00\n",
       "Time:                        23:21:20   Log-Likelihood:                -17969.\n",
       "No. Observations:                1538   AIC:                         3.603e+04\n",
       "Df Residuals:                    1490   BIC:                         3.629e+04\n",
       "Df Model:                          47                                         \n",
       "Covariance Type:            nonrobust                                         \n",
       "====================================================================================\n",
       "                       coef    std err          t      P>|t|      [0.025      0.975]\n",
       "------------------------------------------------------------------------------------\n",
       "const             6877.8814   6829.969      1.007      0.314   -6519.495    2.03e+04\n",
       "fireplaces        9348.6776   1493.312      6.260      0.000    6419.460    1.23e+04\n",
       "full_bath         6763.2934   1388.620      4.871      0.000    4039.436    9487.151\n",
       "garage_area         48.9995      5.844      8.384      0.000      37.535      60.464\n",
       "gr_liv_area         26.6254      3.644      7.308      0.000      19.478      33.772\n",
       "mas_vnr_area        22.4736      6.929      3.243      0.001       8.881      36.066\n",
       "overall_qual      9477.9716   1002.865      9.451      0.000    7510.795    1.14e+04\n",
       "total_rooms       2428.5668    623.808      3.893      0.000    1204.931    3652.202\n",
       "remod_age         -273.8034     54.491     -5.025      0.000    -380.692    -166.915\n",
       "bsmt_exposure_1   2.176e+04   2909.945      7.477      0.000     1.6e+04    2.75e+04\n",
       "bsmt_qual_0       2.165e+04   3740.604      5.788      0.000    1.43e+04     2.9e+04\n",
       "bsmtfin_type_1_4  -1.16e+04   1895.093     -6.119      0.000   -1.53e+04   -7878.468\n",
       "exter_qual_0      2.966e+04   5538.324      5.356      0.000    1.88e+04    4.05e+04\n",
       "exter_qual_1     -2.621e+04   7838.721     -3.343      0.001   -4.16e+04   -1.08e+04\n",
       "exter_qual_3      -1.17e+04   2757.311     -4.242      0.000   -1.71e+04   -6287.645\n",
       "garage_finish_1   5729.3995   2228.416      2.571      0.010    1358.234    1.01e+04\n",
       "garage_finish_2  -3512.7476   1873.131     -1.875      0.061   -7187.001     161.506\n",
       "garage_type_0    -1.853e+04   8136.468     -2.277      0.023   -3.45e+04   -2568.229\n",
       "garage_type_1     1.143e+04   2226.073      5.134      0.000    7061.831    1.58e+04\n",
       "garage_type_3     1.949e+04   4064.094      4.796      0.000    1.15e+04    2.75e+04\n",
       "garage_type_6     5729.3995   2228.416      2.571      0.010    1358.234    1.01e+04\n",
       "house_style_0    -6710.8704   2961.610     -2.266      0.024   -1.25e+04    -901.502\n",
       "house_style_3     4.494e+04   1.82e+04      2.467      0.014    9213.285    8.07e+04\n",
       "house_style_5    -8599.3496   2282.652     -3.767      0.000   -1.31e+04   -4121.796\n",
       "house_style_6    -6339.9052   5050.731     -1.255      0.210   -1.62e+04    3567.393\n",
       "house_style_7    -9252.3837   4052.921     -2.283      0.023   -1.72e+04   -1302.346\n",
       "kitchen_qual_0     2.51e+04   4171.604      6.017      0.000    1.69e+04    3.33e+04\n",
       "kitchen_qual_1   -1.059e+04   5722.170     -1.851      0.064   -2.18e+04     633.209\n",
       "kitchen_qual_4   -6207.6660   2376.820     -2.612      0.009   -1.09e+04   -1545.398\n",
       "lot_config_1      9981.9455   3449.879      2.893      0.004    3214.809    1.67e+04\n",
       "lot_config_2     -1.123e+04   4484.813     -2.503      0.012      -2e+04   -2428.691\n",
       "lot_shape_0       1.511e+04   3194.118      4.731      0.000    8845.458    2.14e+04\n",
       "lot_shape_1       2.635e+04   4963.504      5.310      0.000    1.66e+04    3.61e+04\n",
       "lot_shape_2      -4.899e+04   9178.050     -5.337      0.000    -6.7e+04    -3.1e+04\n",
       "lot_shape_3        1.44e+04   3169.947      4.543      0.000    8182.448    2.06e+04\n",
       "mas_vnr_type_3    4727.8705   2341.268      2.019      0.044     135.339    9320.402\n",
       "neighborhood_0   -1.041e+04   7281.704     -1.430      0.153   -2.47e+04    3873.876\n",
       "neighborhood_6    2.333e+04   4529.636      5.151      0.000    1.44e+04    3.22e+04\n",
       "neighborhood_7   -1.471e+04   3270.187     -4.499      0.000   -2.11e+04   -8297.789\n",
       "neighborhood_8    -437.2472   3700.450     -0.118      0.906   -7695.893    6821.399\n",
       "neighborhood_10   1.008e+05   2.08e+04      4.841      0.000       6e+04    1.42e+05\n",
       "neighborhood_13  -1.798e+04   7377.109     -2.438      0.015   -3.25e+04   -3514.259\n",
       "neighborhood_15  -1739.5175   2587.322     -0.672      0.501   -6814.699    3335.664\n",
       "neighborhood_18   4.436e+04   5344.861      8.299      0.000    3.39e+04    5.48e+04\n",
       "neighborhood_19   2.789e+04   4186.887      6.660      0.000    1.97e+04    3.61e+04\n",
       "neighborhood_21  -3095.5155   6719.380     -0.461      0.645   -1.63e+04    1.01e+04\n",
       "neighborhood_22  -4742.9725   3574.645     -1.327      0.185   -1.18e+04    2268.898\n",
       "neighborhood_23  -4797.8983   3768.066     -1.273      0.203   -1.22e+04    2593.380\n",
       "neighborhood_25   4.991e+04   6011.389      8.302      0.000    3.81e+04    6.17e+04\n",
       "roof_style_4     -4.085e+04   1.49e+04     -2.743      0.006   -7.01e+04   -1.16e+04\n",
       "==============================================================================\n",
       "Omnibus:                      604.398   Durbin-Watson:                   1.938\n",
       "Prob(Omnibus):                  0.000   Jarque-Bera (JB):            34592.831\n",
       "Skew:                          -1.019   Prob(JB):                         0.00\n",
       "Kurtosis:                      26.144   Cond. No.                     4.97e+16\n",
       "==============================================================================\n",
       "\n",
       "Warnings:\n",
       "[1] Standard Errors assume that the covariance matrix of the errors is correctly specified.\n",
       "[2] The smallest eigenvalue is 1.71e-24. This might indicate that there are\n",
       "strong multicollinearity problems or that the design matrix is singular.\n",
       "\"\"\""
      ]
     },
     "execution_count": 53,
     "metadata": {},
     "output_type": "execute_result"
    }
   ],
   "source": [
    "results_1.summary()"
   ]
  },
  {
   "cell_type": "markdown",
   "metadata": {},
   "source": [
    "#### Model 3"
   ]
  },
  {
   "cell_type": "code",
   "execution_count": 54,
   "metadata": {},
   "outputs": [
    {
     "data": {
      "text/plain": [
       "((1538, 40), (513, 40), (1538,), (513,))"
      ]
     },
     "execution_count": 54,
     "metadata": {},
     "output_type": "execute_result"
    }
   ],
   "source": [
    "# Create new list of predictors based on OLS summary above (those with prob > 0.05 are excluded)\n",
    "\n",
    "pred_col_2 = [\"fireplaces\", \"full_bath\",\"garage_area\", \"gr_liv_area\", \"mas_vnr_area\",\"overall_qual\", \"total_rooms\",\n",
    "            \"remod_age\", \"bsmt_exposure_1\", \"bsmt_qual_0\", \"bsmtfin_type_1_4\", \"exter_qual_0\", \"exter_qual_1\",\n",
    "              \"exter_qual_3\", \"garage_finish_1\", \"garage_type_0\", \"garage_type_1\",\n",
    "              \"garage_type_3\", \"garage_type_6\", \"house_style_0\", \"house_style_3\",\"house_style_5\",\n",
    "              \"house_style_7\", \"kitchen_qual_0\", \n",
    "              \"kitchen_qual_4\", \"lot_config_1\", \"lot_config_2\", \"lot_shape_0\",\n",
    "              \"lot_shape_1\", \"lot_shape_2\", \"lot_shape_3\", \"mas_vnr_type_3\",\n",
    "              \"neighborhood_6\", \"neighborhood_7\", \"neighborhood_10\" ,\"neighborhood_13\",\n",
    "              \"neighborhood_18\", \"neighborhood_19\",\"neighborhood_25\", \"roof_style_4\"]\n",
    "\n",
    "X2 = pd1[pred_col_2]\n",
    "y2 = pd1['saleprice']\n",
    "\n",
    "scaler = StandardScaler()\n",
    "scaler.fit_transform(X2)\n",
    "\n",
    "X2_train,X2_test,y2_train,y2_test = train_test_split(X2,y2,random_state= 42)\n",
    "X2_train.shape,X2_test.shape,y2_train.shape,y2_test.shape\n"
   ]
  },
  {
   "cell_type": "code",
   "execution_count": 55,
   "metadata": {},
   "outputs": [
    {
     "name": "stdout",
     "output_type": "stream",
     "text": [
      "[0.90428903 0.87375335 0.81364126 0.85783397 0.85454995 0.88951733\n",
      " 0.90751213 0.79304356 0.67816958 0.87329203]\n",
      "0.8445602189339138\n"
     ]
    }
   ],
   "source": [
    "# Cross-Val Score of Model\n",
    "\n",
    "lr_2 = LinearRegression()\n",
    "print(cross_val_score(lr_2, X2_train, y2_train, cv=10))\n",
    "print(cross_val_score(lr_2, X2_train, y2_train, cv=10).mean())\n"
   ]
  },
  {
   "cell_type": "code",
   "execution_count": 56,
   "metadata": {},
   "outputs": [
    {
     "name": "stdout",
     "output_type": "stream",
     "text": [
      "Model Score: 0.869072\n"
     ]
    }
   ],
   "source": [
    "# Model Fit & Score\n",
    "\n",
    "lr_2.fit(X2_train, y2_train)\n",
    "\n",
    "score = lr_2.score(X2_test,y2_test)\n",
    "print ('Model Score: {:4f}'.format(score))"
   ]
  },
  {
   "cell_type": "code",
   "execution_count": 57,
   "metadata": {},
   "outputs": [],
   "source": [
    "# Predicting Test-Values\n",
    "X = pd2[pred_col_2]\n",
    "predictions = lr_2.predict(X)"
   ]
  },
  {
   "cell_type": "code",
   "execution_count": 58,
   "metadata": {},
   "outputs": [
    {
     "name": "stderr",
     "output_type": "stream",
     "text": [
      "/Users/zhiyong/anaconda3/lib/python3.7/site-packages/numpy/core/fromnumeric.py:2389: FutureWarning: Method .ptp is deprecated and will be removed in a future version. Use numpy.ptp instead.\n",
      "  return ptp(axis=axis, out=out, **kwargs)\n"
     ]
    }
   ],
   "source": [
    "# OLS on Training Set\n",
    "\n",
    "x2_train = sm.add_constant(X2_train)\n",
    "new_model = sm.OLS(y2_train, x2_train)\n",
    "results_2 = new_model.fit()"
   ]
  },
  {
   "cell_type": "code",
   "execution_count": 59,
   "metadata": {},
   "outputs": [
    {
     "data": {
      "text/html": [
       "<table class=\"simpletable\">\n",
       "<caption>OLS Regression Results</caption>\n",
       "<tr>\n",
       "  <th>Dep. Variable:</th>        <td>saleprice</td>    <th>  R-squared:         </th> <td>   0.869</td> \n",
       "</tr>\n",
       "<tr>\n",
       "  <th>Model:</th>                   <td>OLS</td>       <th>  Adj. R-squared:    </th> <td>   0.865</td> \n",
       "</tr>\n",
       "<tr>\n",
       "  <th>Method:</th>             <td>Least Squares</td>  <th>  F-statistic:       </th> <td>   260.8</td> \n",
       "</tr>\n",
       "<tr>\n",
       "  <th>Date:</th>             <td>Sun, 24 Nov 2019</td> <th>  Prob (F-statistic):</th>  <td>  0.00</td>  \n",
       "</tr>\n",
       "<tr>\n",
       "  <th>Time:</th>                 <td>23:21:20</td>     <th>  Log-Likelihood:    </th> <td> -17976.</td> \n",
       "</tr>\n",
       "<tr>\n",
       "  <th>No. Observations:</th>      <td>  1538</td>      <th>  AIC:               </th> <td>3.603e+04</td>\n",
       "</tr>\n",
       "<tr>\n",
       "  <th>Df Residuals:</th>          <td>  1499</td>      <th>  BIC:               </th> <td>3.624e+04</td>\n",
       "</tr>\n",
       "<tr>\n",
       "  <th>Df Model:</th>              <td>    38</td>      <th>                     </th>     <td> </td>    \n",
       "</tr>\n",
       "<tr>\n",
       "  <th>Covariance Type:</th>      <td>nonrobust</td>    <th>                     </th>     <td> </td>    \n",
       "</tr>\n",
       "</table>\n",
       "<table class=\"simpletable\">\n",
       "<tr>\n",
       "          <td></td>            <th>coef</th>     <th>std err</th>      <th>t</th>      <th>P>|t|</th>  <th>[0.025</th>    <th>0.975]</th>  \n",
       "</tr>\n",
       "<tr>\n",
       "  <th>const</th>            <td> 1801.0663</td> <td> 6617.609</td> <td>    0.272</td> <td> 0.786</td> <td>-1.12e+04</td> <td> 1.48e+04</td>\n",
       "</tr>\n",
       "<tr>\n",
       "  <th>fireplaces</th>       <td> 9130.5688</td> <td> 1478.071</td> <td>    6.177</td> <td> 0.000</td> <td> 6231.262</td> <td>  1.2e+04</td>\n",
       "</tr>\n",
       "<tr>\n",
       "  <th>full_bath</th>        <td> 6667.7623</td> <td> 1363.717</td> <td>    4.889</td> <td> 0.000</td> <td> 3992.766</td> <td> 9342.759</td>\n",
       "</tr>\n",
       "<tr>\n",
       "  <th>garage_area</th>      <td>   49.0143</td> <td>    5.722</td> <td>    8.566</td> <td> 0.000</td> <td>   37.790</td> <td>   60.238</td>\n",
       "</tr>\n",
       "<tr>\n",
       "  <th>gr_liv_area</th>      <td>   27.1444</td> <td>    3.616</td> <td>    7.506</td> <td> 0.000</td> <td>   20.051</td> <td>   34.238</td>\n",
       "</tr>\n",
       "<tr>\n",
       "  <th>mas_vnr_area</th>     <td>   24.3878</td> <td>    6.831</td> <td>    3.570</td> <td> 0.000</td> <td>   10.989</td> <td>   37.787</td>\n",
       "</tr>\n",
       "<tr>\n",
       "  <th>overall_qual</th>     <td> 9951.2515</td> <td>  977.695</td> <td>   10.178</td> <td> 0.000</td> <td> 8033.455</td> <td> 1.19e+04</td>\n",
       "</tr>\n",
       "<tr>\n",
       "  <th>total_rooms</th>      <td> 2340.4087</td> <td>  618.771</td> <td>    3.782</td> <td> 0.000</td> <td> 1126.660</td> <td> 3554.157</td>\n",
       "</tr>\n",
       "<tr>\n",
       "  <th>remod_age</th>        <td> -283.2912</td> <td>   52.447</td> <td>   -5.401</td> <td> 0.000</td> <td> -386.169</td> <td> -180.413</td>\n",
       "</tr>\n",
       "<tr>\n",
       "  <th>bsmt_exposure_1</th>  <td>  2.11e+04</td> <td> 2888.863</td> <td>    7.303</td> <td> 0.000</td> <td> 1.54e+04</td> <td> 2.68e+04</td>\n",
       "</tr>\n",
       "<tr>\n",
       "  <th>bsmt_qual_0</th>      <td> 2.248e+04</td> <td> 3715.336</td> <td>    6.049</td> <td> 0.000</td> <td> 1.52e+04</td> <td> 2.98e+04</td>\n",
       "</tr>\n",
       "<tr>\n",
       "  <th>bsmtfin_type_1_4</th> <td>-1.145e+04</td> <td> 1838.574</td> <td>   -6.227</td> <td> 0.000</td> <td>-1.51e+04</td> <td>-7842.956</td>\n",
       "</tr>\n",
       "<tr>\n",
       "  <th>exter_qual_0</th>     <td> 2.924e+04</td> <td> 5528.424</td> <td>    5.288</td> <td> 0.000</td> <td> 1.84e+04</td> <td> 4.01e+04</td>\n",
       "</tr>\n",
       "<tr>\n",
       "  <th>exter_qual_1</th>     <td>-2.858e+04</td> <td> 7579.976</td> <td>   -3.771</td> <td> 0.000</td> <td>-4.35e+04</td> <td>-1.37e+04</td>\n",
       "</tr>\n",
       "<tr>\n",
       "  <th>exter_qual_3</th>     <td>-1.167e+04</td> <td> 2699.572</td> <td>   -4.325</td> <td> 0.000</td> <td> -1.7e+04</td> <td>-6379.113</td>\n",
       "</tr>\n",
       "<tr>\n",
       "  <th>garage_finish_1</th>  <td> 5475.1183</td> <td> 2206.536</td> <td>    2.481</td> <td> 0.013</td> <td> 1146.892</td> <td> 9803.345</td>\n",
       "</tr>\n",
       "<tr>\n",
       "  <th>garage_type_0</th>    <td>-1.798e+04</td> <td> 8117.351</td> <td>   -2.215</td> <td> 0.027</td> <td>-3.39e+04</td> <td>-2054.284</td>\n",
       "</tr>\n",
       "<tr>\n",
       "  <th>garage_type_1</th>    <td> 1.069e+04</td> <td> 2098.799</td> <td>    5.095</td> <td> 0.000</td> <td> 6575.457</td> <td> 1.48e+04</td>\n",
       "</tr>\n",
       "<tr>\n",
       "  <th>garage_type_3</th>    <td> 1.951e+04</td> <td> 3941.007</td> <td>    4.951</td> <td> 0.000</td> <td> 1.18e+04</td> <td> 2.72e+04</td>\n",
       "</tr>\n",
       "<tr>\n",
       "  <th>garage_type_6</th>    <td> 5475.1183</td> <td> 2206.536</td> <td>    2.481</td> <td> 0.013</td> <td> 1146.892</td> <td> 9803.345</td>\n",
       "</tr>\n",
       "<tr>\n",
       "  <th>house_style_0</th>    <td>-5509.4669</td> <td> 2913.170</td> <td>   -1.891</td> <td> 0.059</td> <td>-1.12e+04</td> <td>  204.855</td>\n",
       "</tr>\n",
       "<tr>\n",
       "  <th>house_style_3</th>    <td> 4.316e+04</td> <td> 1.81e+04</td> <td>    2.384</td> <td> 0.017</td> <td> 7654.696</td> <td> 7.87e+04</td>\n",
       "</tr>\n",
       "<tr>\n",
       "  <th>house_style_5</th>    <td>-7980.0553</td> <td> 2210.813</td> <td>   -3.610</td> <td> 0.000</td> <td>-1.23e+04</td> <td>-3643.441</td>\n",
       "</tr>\n",
       "<tr>\n",
       "  <th>house_style_7</th>    <td>-8863.0780</td> <td> 4011.820</td> <td>   -2.209</td> <td> 0.027</td> <td>-1.67e+04</td> <td> -993.701</td>\n",
       "</tr>\n",
       "<tr>\n",
       "  <th>kitchen_qual_0</th>   <td>  2.58e+04</td> <td> 4157.718</td> <td>    6.206</td> <td> 0.000</td> <td> 1.76e+04</td> <td>  3.4e+04</td>\n",
       "</tr>\n",
       "<tr>\n",
       "  <th>kitchen_qual_4</th>   <td>-4583.7754</td> <td> 2186.392</td> <td>   -2.097</td> <td> 0.036</td> <td>-8872.487</td> <td> -295.063</td>\n",
       "</tr>\n",
       "<tr>\n",
       "  <th>lot_config_1</th>     <td> 9417.4786</td> <td> 3427.276</td> <td>    2.748</td> <td> 0.006</td> <td> 2694.712</td> <td> 1.61e+04</td>\n",
       "</tr>\n",
       "<tr>\n",
       "  <th>lot_config_2</th>     <td>-1.063e+04</td> <td> 4476.233</td> <td>   -2.375</td> <td> 0.018</td> <td>-1.94e+04</td> <td>-1852.206</td>\n",
       "</tr>\n",
       "<tr>\n",
       "  <th>lot_shape_0</th>      <td> 1.395e+04</td> <td> 3154.374</td> <td>    4.423</td> <td> 0.000</td> <td> 7764.441</td> <td> 2.01e+04</td>\n",
       "</tr>\n",
       "<tr>\n",
       "  <th>lot_shape_1</th>      <td> 2.532e+04</td> <td> 4952.883</td> <td>    5.112</td> <td> 0.000</td> <td> 1.56e+04</td> <td>  3.5e+04</td>\n",
       "</tr>\n",
       "<tr>\n",
       "  <th>lot_shape_2</th>      <td>-5.044e+04</td> <td> 9175.055</td> <td>   -5.497</td> <td> 0.000</td> <td>-6.84e+04</td> <td>-3.24e+04</td>\n",
       "</tr>\n",
       "<tr>\n",
       "  <th>lot_shape_3</th>      <td> 1.297e+04</td> <td> 3128.136</td> <td>    4.145</td> <td> 0.000</td> <td> 6831.485</td> <td> 1.91e+04</td>\n",
       "</tr>\n",
       "<tr>\n",
       "  <th>mas_vnr_type_3</th>   <td> 5773.7274</td> <td> 2282.904</td> <td>    2.529</td> <td> 0.012</td> <td> 1295.701</td> <td> 1.03e+04</td>\n",
       "</tr>\n",
       "<tr>\n",
       "  <th>neighborhood_6</th>   <td> 2.459e+04</td> <td> 4463.403</td> <td>    5.510</td> <td> 0.000</td> <td> 1.58e+04</td> <td> 3.33e+04</td>\n",
       "</tr>\n",
       "<tr>\n",
       "  <th>neighborhood_7</th>   <td>-1.342e+04</td> <td> 3150.378</td> <td>   -4.260</td> <td> 0.000</td> <td>-1.96e+04</td> <td>-7241.917</td>\n",
       "</tr>\n",
       "<tr>\n",
       "  <th>neighborhood_10</th>  <td> 1.022e+05</td> <td> 2.08e+04</td> <td>    4.904</td> <td> 0.000</td> <td> 6.13e+04</td> <td> 1.43e+05</td>\n",
       "</tr>\n",
       "<tr>\n",
       "  <th>neighborhood_13</th>  <td>-1.717e+04</td> <td> 7269.423</td> <td>   -2.361</td> <td> 0.018</td> <td>-3.14e+04</td> <td>-2906.734</td>\n",
       "</tr>\n",
       "<tr>\n",
       "  <th>neighborhood_18</th>  <td> 4.455e+04</td> <td> 5312.202</td> <td>    8.387</td> <td> 0.000</td> <td> 3.41e+04</td> <td>  5.5e+04</td>\n",
       "</tr>\n",
       "<tr>\n",
       "  <th>neighborhood_19</th>  <td> 2.819e+04</td> <td> 4149.410</td> <td>    6.793</td> <td> 0.000</td> <td>    2e+04</td> <td> 3.63e+04</td>\n",
       "</tr>\n",
       "<tr>\n",
       "  <th>neighborhood_25</th>  <td> 4.987e+04</td> <td> 5978.263</td> <td>    8.342</td> <td> 0.000</td> <td> 3.81e+04</td> <td> 6.16e+04</td>\n",
       "</tr>\n",
       "<tr>\n",
       "  <th>roof_style_4</th>     <td>-4.041e+04</td> <td> 1.49e+04</td> <td>   -2.712</td> <td> 0.007</td> <td>-6.96e+04</td> <td>-1.12e+04</td>\n",
       "</tr>\n",
       "</table>\n",
       "<table class=\"simpletable\">\n",
       "<tr>\n",
       "  <th>Omnibus:</th>       <td>615.813</td> <th>  Durbin-Watson:     </th> <td>   1.933</td> \n",
       "</tr>\n",
       "<tr>\n",
       "  <th>Prob(Omnibus):</th> <td> 0.000</td>  <th>  Jarque-Bera (JB):  </th> <td>35072.869</td>\n",
       "</tr>\n",
       "<tr>\n",
       "  <th>Skew:</th>          <td>-1.056</td>  <th>  Prob(JB):          </th> <td>    0.00</td> \n",
       "</tr>\n",
       "<tr>\n",
       "  <th>Kurtosis:</th>      <td>26.299</td>  <th>  Cond. No.          </th> <td>2.80e+16</td> \n",
       "</tr>\n",
       "</table><br/><br/>Warnings:<br/>[1] Standard Errors assume that the covariance matrix of the errors is correctly specified.<br/>[2] The smallest eigenvalue is 5.38e-24. This might indicate that there are<br/>strong multicollinearity problems or that the design matrix is singular."
      ],
      "text/plain": [
       "<class 'statsmodels.iolib.summary.Summary'>\n",
       "\"\"\"\n",
       "                            OLS Regression Results                            \n",
       "==============================================================================\n",
       "Dep. Variable:              saleprice   R-squared:                       0.869\n",
       "Model:                            OLS   Adj. R-squared:                  0.865\n",
       "Method:                 Least Squares   F-statistic:                     260.8\n",
       "Date:                Sun, 24 Nov 2019   Prob (F-statistic):               0.00\n",
       "Time:                        23:21:20   Log-Likelihood:                -17976.\n",
       "No. Observations:                1538   AIC:                         3.603e+04\n",
       "Df Residuals:                    1499   BIC:                         3.624e+04\n",
       "Df Model:                          38                                         \n",
       "Covariance Type:            nonrobust                                         \n",
       "====================================================================================\n",
       "                       coef    std err          t      P>|t|      [0.025      0.975]\n",
       "------------------------------------------------------------------------------------\n",
       "const             1801.0663   6617.609      0.272      0.786   -1.12e+04    1.48e+04\n",
       "fireplaces        9130.5688   1478.071      6.177      0.000    6231.262     1.2e+04\n",
       "full_bath         6667.7623   1363.717      4.889      0.000    3992.766    9342.759\n",
       "garage_area         49.0143      5.722      8.566      0.000      37.790      60.238\n",
       "gr_liv_area         27.1444      3.616      7.506      0.000      20.051      34.238\n",
       "mas_vnr_area        24.3878      6.831      3.570      0.000      10.989      37.787\n",
       "overall_qual      9951.2515    977.695     10.178      0.000    8033.455    1.19e+04\n",
       "total_rooms       2340.4087    618.771      3.782      0.000    1126.660    3554.157\n",
       "remod_age         -283.2912     52.447     -5.401      0.000    -386.169    -180.413\n",
       "bsmt_exposure_1    2.11e+04   2888.863      7.303      0.000    1.54e+04    2.68e+04\n",
       "bsmt_qual_0       2.248e+04   3715.336      6.049      0.000    1.52e+04    2.98e+04\n",
       "bsmtfin_type_1_4 -1.145e+04   1838.574     -6.227      0.000   -1.51e+04   -7842.956\n",
       "exter_qual_0      2.924e+04   5528.424      5.288      0.000    1.84e+04    4.01e+04\n",
       "exter_qual_1     -2.858e+04   7579.976     -3.771      0.000   -4.35e+04   -1.37e+04\n",
       "exter_qual_3     -1.167e+04   2699.572     -4.325      0.000    -1.7e+04   -6379.113\n",
       "garage_finish_1   5475.1183   2206.536      2.481      0.013    1146.892    9803.345\n",
       "garage_type_0    -1.798e+04   8117.351     -2.215      0.027   -3.39e+04   -2054.284\n",
       "garage_type_1     1.069e+04   2098.799      5.095      0.000    6575.457    1.48e+04\n",
       "garage_type_3     1.951e+04   3941.007      4.951      0.000    1.18e+04    2.72e+04\n",
       "garage_type_6     5475.1183   2206.536      2.481      0.013    1146.892    9803.345\n",
       "house_style_0    -5509.4669   2913.170     -1.891      0.059   -1.12e+04     204.855\n",
       "house_style_3     4.316e+04   1.81e+04      2.384      0.017    7654.696    7.87e+04\n",
       "house_style_5    -7980.0553   2210.813     -3.610      0.000   -1.23e+04   -3643.441\n",
       "house_style_7    -8863.0780   4011.820     -2.209      0.027   -1.67e+04    -993.701\n",
       "kitchen_qual_0     2.58e+04   4157.718      6.206      0.000    1.76e+04     3.4e+04\n",
       "kitchen_qual_4   -4583.7754   2186.392     -2.097      0.036   -8872.487    -295.063\n",
       "lot_config_1      9417.4786   3427.276      2.748      0.006    2694.712    1.61e+04\n",
       "lot_config_2     -1.063e+04   4476.233     -2.375      0.018   -1.94e+04   -1852.206\n",
       "lot_shape_0       1.395e+04   3154.374      4.423      0.000    7764.441    2.01e+04\n",
       "lot_shape_1       2.532e+04   4952.883      5.112      0.000    1.56e+04     3.5e+04\n",
       "lot_shape_2      -5.044e+04   9175.055     -5.497      0.000   -6.84e+04   -3.24e+04\n",
       "lot_shape_3       1.297e+04   3128.136      4.145      0.000    6831.485    1.91e+04\n",
       "mas_vnr_type_3    5773.7274   2282.904      2.529      0.012    1295.701    1.03e+04\n",
       "neighborhood_6    2.459e+04   4463.403      5.510      0.000    1.58e+04    3.33e+04\n",
       "neighborhood_7   -1.342e+04   3150.378     -4.260      0.000   -1.96e+04   -7241.917\n",
       "neighborhood_10   1.022e+05   2.08e+04      4.904      0.000    6.13e+04    1.43e+05\n",
       "neighborhood_13  -1.717e+04   7269.423     -2.361      0.018   -3.14e+04   -2906.734\n",
       "neighborhood_18   4.455e+04   5312.202      8.387      0.000    3.41e+04     5.5e+04\n",
       "neighborhood_19   2.819e+04   4149.410      6.793      0.000       2e+04    3.63e+04\n",
       "neighborhood_25   4.987e+04   5978.263      8.342      0.000    3.81e+04    6.16e+04\n",
       "roof_style_4     -4.041e+04   1.49e+04     -2.712      0.007   -6.96e+04   -1.12e+04\n",
       "==============================================================================\n",
       "Omnibus:                      615.813   Durbin-Watson:                   1.933\n",
       "Prob(Omnibus):                  0.000   Jarque-Bera (JB):            35072.869\n",
       "Skew:                          -1.056   Prob(JB):                         0.00\n",
       "Kurtosis:                      26.299   Cond. No.                     2.80e+16\n",
       "==============================================================================\n",
       "\n",
       "Warnings:\n",
       "[1] Standard Errors assume that the covariance matrix of the errors is correctly specified.\n",
       "[2] The smallest eigenvalue is 5.38e-24. This might indicate that there are\n",
       "strong multicollinearity problems or that the design matrix is singular.\n",
       "\"\"\""
      ]
     },
     "execution_count": 59,
     "metadata": {},
     "output_type": "execute_result"
    }
   ],
   "source": [
    "results_2.summary()"
   ]
  },
  {
   "cell_type": "markdown",
   "metadata": {},
   "source": [
    "#### Model 4"
   ]
  },
  {
   "cell_type": "code",
   "execution_count": 60,
   "metadata": {},
   "outputs": [
    {
     "data": {
      "text/plain": [
       "((1538, 39), (513, 39), (1538,), (513,))"
      ]
     },
     "execution_count": 60,
     "metadata": {},
     "output_type": "execute_result"
    }
   ],
   "source": [
    "# Create new list of predictors based on OLS summary above (those with prob > 0.05 are excluded)\n",
    "\n",
    "pred_col_3 = [\"fireplaces\", \"full_bath\",\"garage_area\", \"gr_liv_area\", \"mas_vnr_area\",\"overall_qual\", \"total_rooms\",\n",
    "            \"remod_age\", \"bsmt_exposure_1\", \"bsmt_qual_0\", \"bsmtfin_type_1_4\", \"exter_qual_0\", \"exter_qual_1\",\n",
    "              \"exter_qual_3\", \"garage_finish_1\", \"garage_type_0\", \"garage_type_1\",\n",
    "              \"garage_type_3\", \"garage_type_6\", \"house_style_3\",\"house_style_5\",\n",
    "               \"house_style_7\", \"kitchen_qual_0\", \n",
    "              \"kitchen_qual_4\", \"lot_config_1\", \"lot_config_2\", \"lot_shape_0\",\n",
    "              \"lot_shape_1\", \"lot_shape_2\", \"lot_shape_3\", \"mas_vnr_type_3\",\n",
    "              \"neighborhood_6\", \"neighborhood_7\", \"neighborhood_10\" ,\"neighborhood_13\",\n",
    "              \"neighborhood_18\", \"neighborhood_19\",\"neighborhood_25\", \"roof_style_4\"]\n",
    "\n",
    "X3 = pd1[pred_col_3]\n",
    "y3 = pd1['saleprice']\n",
    "\n",
    "scaler = StandardScaler()\n",
    "scaler.fit_transform(X3)\n",
    "\n",
    "X3_train,X3_test,y3_train,y3_test = train_test_split(X3,y3,random_state= 42)\n",
    "X3_train.shape,X3_test.shape,y3_train.shape,y3_test.shape\n"
   ]
  },
  {
   "cell_type": "code",
   "execution_count": 61,
   "metadata": {},
   "outputs": [
    {
     "name": "stdout",
     "output_type": "stream",
     "text": [
      "[0.90316339 0.87351708 0.81261064 0.856924   0.8537539  0.88946653\n",
      " 0.90609239 0.79708227 0.68201228 0.87237955]\n",
      "0.844700203543\n"
     ]
    }
   ],
   "source": [
    "# Cross-Val Score of Model\n",
    "\n",
    "lr_3 = LinearRegression()\n",
    "print(cross_val_score(lr_3, X3_train, y3_train, cv=10))\n",
    "print(cross_val_score(lr_3, X3_train, y3_train, cv=10).mean())"
   ]
  },
  {
   "cell_type": "code",
   "execution_count": 62,
   "metadata": {},
   "outputs": [
    {
     "name": "stdout",
     "output_type": "stream",
     "text": [
      "Model Score: 0.867409\n"
     ]
    }
   ],
   "source": [
    "# Model Fit & Score\n",
    "\n",
    "lr_3.fit(X3_train, y3_train)\n",
    "\n",
    "score = lr_3.score(X3_test,y3_test)\n",
    "print ('Model Score: {:4f}'.format(score))"
   ]
  },
  {
   "cell_type": "code",
   "execution_count": 63,
   "metadata": {},
   "outputs": [],
   "source": [
    "# Predicting Test-Values\n",
    "X = pd2[pred_col_3]\n",
    "predictions = lr_3.predict(X)"
   ]
  },
  {
   "cell_type": "code",
   "execution_count": 64,
   "metadata": {},
   "outputs": [
    {
     "name": "stderr",
     "output_type": "stream",
     "text": [
      "/Users/zhiyong/anaconda3/lib/python3.7/site-packages/numpy/core/fromnumeric.py:2389: FutureWarning: Method .ptp is deprecated and will be removed in a future version. Use numpy.ptp instead.\n",
      "  return ptp(axis=axis, out=out, **kwargs)\n"
     ]
    }
   ],
   "source": [
    "# OLS on Training Set\n",
    "\n",
    "x3_train = sm.add_constant(X3_train)\n",
    "new_model = sm.OLS(y3_train, x3_train)\n",
    "results_3 = new_model.fit()"
   ]
  },
  {
   "cell_type": "code",
   "execution_count": 65,
   "metadata": {},
   "outputs": [
    {
     "data": {
      "text/html": [
       "<table class=\"simpletable\">\n",
       "<caption>OLS Regression Results</caption>\n",
       "<tr>\n",
       "  <th>Dep. Variable:</th>        <td>saleprice</td>    <th>  R-squared:         </th> <td>   0.868</td> \n",
       "</tr>\n",
       "<tr>\n",
       "  <th>Model:</th>                   <td>OLS</td>       <th>  Adj. R-squared:    </th> <td>   0.865</td> \n",
       "</tr>\n",
       "<tr>\n",
       "  <th>Method:</th>             <td>Least Squares</td>  <th>  F-statistic:       </th> <td>   267.3</td> \n",
       "</tr>\n",
       "<tr>\n",
       "  <th>Date:</th>             <td>Sun, 24 Nov 2019</td> <th>  Prob (F-statistic):</th>  <td>  0.00</td>  \n",
       "</tr>\n",
       "<tr>\n",
       "  <th>Time:</th>                 <td>23:21:20</td>     <th>  Log-Likelihood:    </th> <td> -17978.</td> \n",
       "</tr>\n",
       "<tr>\n",
       "  <th>No. Observations:</th>      <td>  1538</td>      <th>  AIC:               </th> <td>3.603e+04</td>\n",
       "</tr>\n",
       "<tr>\n",
       "  <th>Df Residuals:</th>          <td>  1500</td>      <th>  BIC:               </th> <td>3.623e+04</td>\n",
       "</tr>\n",
       "<tr>\n",
       "  <th>Df Model:</th>              <td>    37</td>      <th>                     </th>     <td> </td>    \n",
       "</tr>\n",
       "<tr>\n",
       "  <th>Covariance Type:</th>      <td>nonrobust</td>    <th>                     </th>     <td> </td>    \n",
       "</tr>\n",
       "</table>\n",
       "<table class=\"simpletable\">\n",
       "<tr>\n",
       "          <td></td>            <th>coef</th>     <th>std err</th>      <th>t</th>      <th>P>|t|</th>  <th>[0.025</th>    <th>0.975]</th>  \n",
       "</tr>\n",
       "<tr>\n",
       "  <th>const</th>            <td> 2324.1811</td> <td> 6617.503</td> <td>    0.351</td> <td> 0.725</td> <td>-1.07e+04</td> <td> 1.53e+04</td>\n",
       "</tr>\n",
       "<tr>\n",
       "  <th>fireplaces</th>       <td> 9281.1786</td> <td> 1477.191</td> <td>    6.283</td> <td> 0.000</td> <td> 6383.599</td> <td> 1.22e+04</td>\n",
       "</tr>\n",
       "<tr>\n",
       "  <th>full_bath</th>        <td> 6900.3329</td> <td> 1359.327</td> <td>    5.076</td> <td> 0.000</td> <td> 4233.949</td> <td> 9566.717</td>\n",
       "</tr>\n",
       "<tr>\n",
       "  <th>garage_area</th>      <td>   50.5076</td> <td>    5.672</td> <td>    8.905</td> <td> 0.000</td> <td>   39.381</td> <td>   61.634</td>\n",
       "</tr>\n",
       "<tr>\n",
       "  <th>gr_liv_area</th>      <td>   25.4372</td> <td>    3.505</td> <td>    7.257</td> <td> 0.000</td> <td>   18.562</td> <td>   32.312</td>\n",
       "</tr>\n",
       "<tr>\n",
       "  <th>mas_vnr_area</th>     <td>   24.6808</td> <td>    6.835</td> <td>    3.611</td> <td> 0.000</td> <td>   11.273</td> <td>   38.088</td>\n",
       "</tr>\n",
       "<tr>\n",
       "  <th>overall_qual</th>     <td> 9909.6535</td> <td>  978.287</td> <td>   10.130</td> <td> 0.000</td> <td> 7990.698</td> <td> 1.18e+04</td>\n",
       "</tr>\n",
       "<tr>\n",
       "  <th>total_rooms</th>      <td> 2302.1454</td> <td>  618.971</td> <td>    3.719</td> <td> 0.000</td> <td> 1088.005</td> <td> 3516.286</td>\n",
       "</tr>\n",
       "<tr>\n",
       "  <th>remod_age</th>        <td> -290.1479</td> <td>   52.367</td> <td>   -5.541</td> <td> 0.000</td> <td> -392.868</td> <td> -187.428</td>\n",
       "</tr>\n",
       "<tr>\n",
       "  <th>bsmt_exposure_1</th>  <td> 2.137e+04</td> <td> 2887.812</td> <td>    7.399</td> <td> 0.000</td> <td> 1.57e+04</td> <td>  2.7e+04</td>\n",
       "</tr>\n",
       "<tr>\n",
       "  <th>bsmt_qual_0</th>      <td> 2.253e+04</td> <td> 3718.420</td> <td>    6.059</td> <td> 0.000</td> <td> 1.52e+04</td> <td> 2.98e+04</td>\n",
       "</tr>\n",
       "<tr>\n",
       "  <th>bsmtfin_type_1_4</th> <td>-1.147e+04</td> <td> 1840.105</td> <td>   -6.236</td> <td> 0.000</td> <td>-1.51e+04</td> <td>-7865.014</td>\n",
       "</tr>\n",
       "<tr>\n",
       "  <th>exter_qual_0</th>     <td> 2.956e+04</td> <td> 5530.566</td> <td>    5.344</td> <td> 0.000</td> <td> 1.87e+04</td> <td> 4.04e+04</td>\n",
       "</tr>\n",
       "<tr>\n",
       "  <th>exter_qual_1</th>     <td> -2.86e+04</td> <td> 7586.480</td> <td>   -3.770</td> <td> 0.000</td> <td>-4.35e+04</td> <td>-1.37e+04</td>\n",
       "</tr>\n",
       "<tr>\n",
       "  <th>exter_qual_3</th>     <td>-1.163e+04</td> <td> 2701.773</td> <td>   -4.303</td> <td> 0.000</td> <td>-1.69e+04</td> <td>-6327.355</td>\n",
       "</tr>\n",
       "<tr>\n",
       "  <th>garage_finish_1</th>  <td> 6022.4100</td> <td> 2189.356</td> <td>    2.751</td> <td> 0.006</td> <td> 1727.886</td> <td> 1.03e+04</td>\n",
       "</tr>\n",
       "<tr>\n",
       "  <th>garage_type_0</th>    <td> -1.66e+04</td> <td> 8091.792</td> <td>   -2.052</td> <td> 0.040</td> <td>-3.25e+04</td> <td> -732.066</td>\n",
       "</tr>\n",
       "<tr>\n",
       "  <th>garage_type_1</th>    <td>  1.17e+04</td> <td> 2031.285</td> <td>    5.762</td> <td> 0.000</td> <td> 7719.148</td> <td> 1.57e+04</td>\n",
       "</tr>\n",
       "<tr>\n",
       "  <th>garage_type_3</th>    <td> 2.023e+04</td> <td> 3926.179</td> <td>    5.152</td> <td> 0.000</td> <td> 1.25e+04</td> <td> 2.79e+04</td>\n",
       "</tr>\n",
       "<tr>\n",
       "  <th>garage_type_6</th>    <td> 6022.4100</td> <td> 2189.356</td> <td>    2.751</td> <td> 0.006</td> <td> 1727.886</td> <td> 1.03e+04</td>\n",
       "</tr>\n",
       "<tr>\n",
       "  <th>house_style_3</th>    <td>  4.78e+04</td> <td>  1.8e+04</td> <td>    2.663</td> <td> 0.008</td> <td> 1.26e+04</td> <td>  8.3e+04</td>\n",
       "</tr>\n",
       "<tr>\n",
       "  <th>house_style_5</th>    <td>-6473.4574</td> <td> 2064.071</td> <td>   -3.136</td> <td> 0.002</td> <td>-1.05e+04</td> <td>-2424.686</td>\n",
       "</tr>\n",
       "<tr>\n",
       "  <th>house_style_7</th>    <td>-8243.4833</td> <td> 4001.853</td> <td>   -2.060</td> <td> 0.040</td> <td>-1.61e+04</td> <td> -393.661</td>\n",
       "</tr>\n",
       "<tr>\n",
       "  <th>kitchen_qual_0</th>   <td> 2.603e+04</td> <td> 4159.507</td> <td>    6.258</td> <td> 0.000</td> <td> 1.79e+04</td> <td> 3.42e+04</td>\n",
       "</tr>\n",
       "<tr>\n",
       "  <th>kitchen_qual_4</th>   <td>-4625.1474</td> <td> 2188.159</td> <td>   -2.114</td> <td> 0.035</td> <td>-8917.324</td> <td> -332.971</td>\n",
       "</tr>\n",
       "<tr>\n",
       "  <th>lot_config_1</th>     <td> 9552.6602</td> <td> 3429.473</td> <td>    2.785</td> <td> 0.005</td> <td> 2825.589</td> <td> 1.63e+04</td>\n",
       "</tr>\n",
       "<tr>\n",
       "  <th>lot_config_2</th>     <td>-1.052e+04</td> <td> 4479.681</td> <td>   -2.348</td> <td> 0.019</td> <td>-1.93e+04</td> <td>-1732.961</td>\n",
       "</tr>\n",
       "<tr>\n",
       "  <th>lot_shape_0</th>      <td> 1.394e+04</td> <td> 3157.076</td> <td>    4.416</td> <td> 0.000</td> <td> 7747.894</td> <td> 2.01e+04</td>\n",
       "</tr>\n",
       "<tr>\n",
       "  <th>lot_shape_1</th>      <td> 2.534e+04</td> <td> 4957.128</td> <td>    5.111</td> <td> 0.000</td> <td> 1.56e+04</td> <td> 3.51e+04</td>\n",
       "</tr>\n",
       "<tr>\n",
       "  <th>lot_shape_2</th>      <td>-4.967e+04</td> <td> 9173.891</td> <td>   -5.414</td> <td> 0.000</td> <td>-6.77e+04</td> <td>-3.17e+04</td>\n",
       "</tr>\n",
       "<tr>\n",
       "  <th>lot_shape_3</th>      <td> 1.272e+04</td> <td> 3127.985</td> <td>    4.065</td> <td> 0.000</td> <td> 6580.020</td> <td> 1.89e+04</td>\n",
       "</tr>\n",
       "<tr>\n",
       "  <th>mas_vnr_type_3</th>   <td> 5467.6113</td> <td> 2279.114</td> <td>    2.399</td> <td> 0.017</td> <td>  997.022</td> <td> 9938.200</td>\n",
       "</tr>\n",
       "<tr>\n",
       "  <th>neighborhood_6</th>   <td>  2.45e+04</td> <td> 4466.972</td> <td>    5.485</td> <td> 0.000</td> <td> 1.57e+04</td> <td> 3.33e+04</td>\n",
       "</tr>\n",
       "<tr>\n",
       "  <th>neighborhood_7</th>   <td>-1.354e+04</td> <td> 3152.455</td> <td>   -4.295</td> <td> 0.000</td> <td>-1.97e+04</td> <td>-7356.813</td>\n",
       "</tr>\n",
       "<tr>\n",
       "  <th>neighborhood_10</th>  <td> 1.028e+05</td> <td> 2.09e+04</td> <td>    4.932</td> <td> 0.000</td> <td> 6.19e+04</td> <td> 1.44e+05</td>\n",
       "</tr>\n",
       "<tr>\n",
       "  <th>neighborhood_13</th>  <td>-1.732e+04</td> <td> 7275.206</td> <td>   -2.381</td> <td> 0.017</td> <td>-3.16e+04</td> <td>-3049.742</td>\n",
       "</tr>\n",
       "<tr>\n",
       "  <th>neighborhood_18</th>  <td> 4.474e+04</td> <td> 5315.840</td> <td>    8.417</td> <td> 0.000</td> <td> 3.43e+04</td> <td> 5.52e+04</td>\n",
       "</tr>\n",
       "<tr>\n",
       "  <th>neighborhood_19</th>  <td> 2.809e+04</td> <td> 4152.629</td> <td>    6.764</td> <td> 0.000</td> <td> 1.99e+04</td> <td> 3.62e+04</td>\n",
       "</tr>\n",
       "<tr>\n",
       "  <th>neighborhood_25</th>  <td> 5.019e+04</td> <td> 5981.009</td> <td>    8.392</td> <td> 0.000</td> <td> 3.85e+04</td> <td> 6.19e+04</td>\n",
       "</tr>\n",
       "<tr>\n",
       "  <th>roof_style_4</th>     <td>-3.991e+04</td> <td> 1.49e+04</td> <td>   -2.677</td> <td> 0.008</td> <td>-6.92e+04</td> <td>-1.07e+04</td>\n",
       "</tr>\n",
       "</table>\n",
       "<table class=\"simpletable\">\n",
       "<tr>\n",
       "  <th>Omnibus:</th>       <td>591.014</td> <th>  Durbin-Watson:     </th> <td>   1.928</td> \n",
       "</tr>\n",
       "<tr>\n",
       "  <th>Prob(Omnibus):</th> <td> 0.000</td>  <th>  Jarque-Bera (JB):  </th> <td>32353.035</td>\n",
       "</tr>\n",
       "<tr>\n",
       "  <th>Skew:</th>          <td>-0.990</td>  <th>  Prob(JB):          </th> <td>    0.00</td> \n",
       "</tr>\n",
       "<tr>\n",
       "  <th>Kurtosis:</th>      <td>25.382</td>  <th>  Cond. No.          </th> <td>2.32e+16</td> \n",
       "</tr>\n",
       "</table><br/><br/>Warnings:<br/>[1] Standard Errors assume that the covariance matrix of the errors is correctly specified.<br/>[2] The smallest eigenvalue is 7.85e-24. This might indicate that there are<br/>strong multicollinearity problems or that the design matrix is singular."
      ],
      "text/plain": [
       "<class 'statsmodels.iolib.summary.Summary'>\n",
       "\"\"\"\n",
       "                            OLS Regression Results                            \n",
       "==============================================================================\n",
       "Dep. Variable:              saleprice   R-squared:                       0.868\n",
       "Model:                            OLS   Adj. R-squared:                  0.865\n",
       "Method:                 Least Squares   F-statistic:                     267.3\n",
       "Date:                Sun, 24 Nov 2019   Prob (F-statistic):               0.00\n",
       "Time:                        23:21:20   Log-Likelihood:                -17978.\n",
       "No. Observations:                1538   AIC:                         3.603e+04\n",
       "Df Residuals:                    1500   BIC:                         3.623e+04\n",
       "Df Model:                          37                                         \n",
       "Covariance Type:            nonrobust                                         \n",
       "====================================================================================\n",
       "                       coef    std err          t      P>|t|      [0.025      0.975]\n",
       "------------------------------------------------------------------------------------\n",
       "const             2324.1811   6617.503      0.351      0.725   -1.07e+04    1.53e+04\n",
       "fireplaces        9281.1786   1477.191      6.283      0.000    6383.599    1.22e+04\n",
       "full_bath         6900.3329   1359.327      5.076      0.000    4233.949    9566.717\n",
       "garage_area         50.5076      5.672      8.905      0.000      39.381      61.634\n",
       "gr_liv_area         25.4372      3.505      7.257      0.000      18.562      32.312\n",
       "mas_vnr_area        24.6808      6.835      3.611      0.000      11.273      38.088\n",
       "overall_qual      9909.6535    978.287     10.130      0.000    7990.698    1.18e+04\n",
       "total_rooms       2302.1454    618.971      3.719      0.000    1088.005    3516.286\n",
       "remod_age         -290.1479     52.367     -5.541      0.000    -392.868    -187.428\n",
       "bsmt_exposure_1   2.137e+04   2887.812      7.399      0.000    1.57e+04     2.7e+04\n",
       "bsmt_qual_0       2.253e+04   3718.420      6.059      0.000    1.52e+04    2.98e+04\n",
       "bsmtfin_type_1_4 -1.147e+04   1840.105     -6.236      0.000   -1.51e+04   -7865.014\n",
       "exter_qual_0      2.956e+04   5530.566      5.344      0.000    1.87e+04    4.04e+04\n",
       "exter_qual_1      -2.86e+04   7586.480     -3.770      0.000   -4.35e+04   -1.37e+04\n",
       "exter_qual_3     -1.163e+04   2701.773     -4.303      0.000   -1.69e+04   -6327.355\n",
       "garage_finish_1   6022.4100   2189.356      2.751      0.006    1727.886    1.03e+04\n",
       "garage_type_0     -1.66e+04   8091.792     -2.052      0.040   -3.25e+04    -732.066\n",
       "garage_type_1      1.17e+04   2031.285      5.762      0.000    7719.148    1.57e+04\n",
       "garage_type_3     2.023e+04   3926.179      5.152      0.000    1.25e+04    2.79e+04\n",
       "garage_type_6     6022.4100   2189.356      2.751      0.006    1727.886    1.03e+04\n",
       "house_style_3      4.78e+04    1.8e+04      2.663      0.008    1.26e+04     8.3e+04\n",
       "house_style_5    -6473.4574   2064.071     -3.136      0.002   -1.05e+04   -2424.686\n",
       "house_style_7    -8243.4833   4001.853     -2.060      0.040   -1.61e+04    -393.661\n",
       "kitchen_qual_0    2.603e+04   4159.507      6.258      0.000    1.79e+04    3.42e+04\n",
       "kitchen_qual_4   -4625.1474   2188.159     -2.114      0.035   -8917.324    -332.971\n",
       "lot_config_1      9552.6602   3429.473      2.785      0.005    2825.589    1.63e+04\n",
       "lot_config_2     -1.052e+04   4479.681     -2.348      0.019   -1.93e+04   -1732.961\n",
       "lot_shape_0       1.394e+04   3157.076      4.416      0.000    7747.894    2.01e+04\n",
       "lot_shape_1       2.534e+04   4957.128      5.111      0.000    1.56e+04    3.51e+04\n",
       "lot_shape_2      -4.967e+04   9173.891     -5.414      0.000   -6.77e+04   -3.17e+04\n",
       "lot_shape_3       1.272e+04   3127.985      4.065      0.000    6580.020    1.89e+04\n",
       "mas_vnr_type_3    5467.6113   2279.114      2.399      0.017     997.022    9938.200\n",
       "neighborhood_6     2.45e+04   4466.972      5.485      0.000    1.57e+04    3.33e+04\n",
       "neighborhood_7   -1.354e+04   3152.455     -4.295      0.000   -1.97e+04   -7356.813\n",
       "neighborhood_10   1.028e+05   2.09e+04      4.932      0.000    6.19e+04    1.44e+05\n",
       "neighborhood_13  -1.732e+04   7275.206     -2.381      0.017   -3.16e+04   -3049.742\n",
       "neighborhood_18   4.474e+04   5315.840      8.417      0.000    3.43e+04    5.52e+04\n",
       "neighborhood_19   2.809e+04   4152.629      6.764      0.000    1.99e+04    3.62e+04\n",
       "neighborhood_25   5.019e+04   5981.009      8.392      0.000    3.85e+04    6.19e+04\n",
       "roof_style_4     -3.991e+04   1.49e+04     -2.677      0.008   -6.92e+04   -1.07e+04\n",
       "==============================================================================\n",
       "Omnibus:                      591.014   Durbin-Watson:                   1.928\n",
       "Prob(Omnibus):                  0.000   Jarque-Bera (JB):            32353.035\n",
       "Skew:                          -0.990   Prob(JB):                         0.00\n",
       "Kurtosis:                      25.382   Cond. No.                     2.32e+16\n",
       "==============================================================================\n",
       "\n",
       "Warnings:\n",
       "[1] Standard Errors assume that the covariance matrix of the errors is correctly specified.\n",
       "[2] The smallest eigenvalue is 7.85e-24. This might indicate that there are\n",
       "strong multicollinearity problems or that the design matrix is singular.\n",
       "\"\"\""
      ]
     },
     "execution_count": 65,
     "metadata": {},
     "output_type": "execute_result"
    }
   ],
   "source": [
    "results_3.summary()"
   ]
  },
  {
   "cell_type": "code",
   "execution_count": 66,
   "metadata": {},
   "outputs": [],
   "source": [
    "# Convert predictions into CSV file for Kaggle upload\n",
    "\n",
    "sub = pd.DataFrame()\n",
    "sub['Id'] = pd2['id']\n",
    "sub['SalePrice'] = predictions\n",
    "sub.to_csv('house_price_predictions_.csv',index=False)"
   ]
  },
  {
   "cell_type": "markdown",
   "metadata": {},
   "source": [
    "## Conclusion & Recommendations"
   ]
  },
  {
   "cell_type": "markdown",
   "metadata": {},
   "source": [
    "The model has an adjusted R-squared value of 0.865, which means that it is able to explain 86.5% of the variance in the house price based on the list of predictors that have been specified in the summary. In particular, the list of predictors would include:\n",
    "\n",
    "- the number of fireplaces;\n",
    "- the number of basement and non-basement full bathrooms;\n",
    "- the garage size, location and interior finish;\n",
    "- the above-grade living area;\n",
    "- the masonry veneer area and type;\n",
    "- the overall material and finish of the house;\n",
    "- the total number of rooms and bedrooms above grade;\n",
    "- the difference in years for both the house's construction and re-modelling from the time it is sold;\n",
    "- the basement exposure, height, and rating of finished area;\n",
    "- the exterior quality;\n",
    "- the house style;\n",
    "- the kitchen quality;\n",
    "- the lot shape and configuration;\n",
    "- the roof style;\n",
    "- the neighborhood."
   ]
  }
 ],
 "metadata": {
  "kernelspec": {
   "display_name": "Python 3",
   "language": "python",
   "name": "python3"
  },
  "language_info": {
   "codemirror_mode": {
    "name": "ipython",
    "version": 3
   },
   "file_extension": ".py",
   "mimetype": "text/x-python",
   "name": "python",
   "nbconvert_exporter": "python",
   "pygments_lexer": "ipython3",
   "version": "3.7.4"
  }
 },
 "nbformat": 4,
 "nbformat_minor": 2
}

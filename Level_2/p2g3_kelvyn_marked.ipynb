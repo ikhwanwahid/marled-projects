{
 "cells": [
  {
   "cell_type": "markdown",
   "metadata": {},
   "source": [
    "# Project 2 - Housing Price Prediction"
   ]
  },
  {
   "cell_type": "markdown",
   "metadata": {},
   "source": [
    "## Import Libraries and Load Data"
   ]
  },
  {
   "cell_type": "code",
   "execution_count": 1,
   "metadata": {},
   "outputs": [],
   "source": [
    "from matplotlib import pyplot as plt\n",
    "import numpy as np\n",
    "import pandas as pd\n",
    "from scipy import stats\n",
    "import seaborn as sns\n",
    "\n",
    "from sklearn.linear_model import LinearRegression, LassoCV, RidgeCV, LogisticRegression\n",
    "from sklearn.model_selection import train_test_split, cross_val_score\n",
    "from sklearn.feature_selection import RFE\n",
    "from sklearn.metrics import r2_score\n",
    "\n",
    "#pd.set_option('display.max_rows', 500)"
   ]
  },
  {
   "cell_type": "code",
   "execution_count": 2,
   "metadata": {},
   "outputs": [],
   "source": [
    "### Data manipulations have to be much more organised and much more verbose.\n",
    "df_train = pd.read_csv('./datasets/train.csv')\n",
    "df_test = pd.read_csv('./datasets/test.csv')\n",
    "df_sample = pd.read_csv('./datasets/sample_sub_reg.csv')"
   ]
  },
  {
   "cell_type": "code",
   "execution_count": 3,
   "metadata": {},
   "outputs": [
    {
     "data": {
      "text/plain": [
       "(2051, 81)"
      ]
     },
     "execution_count": 3,
     "metadata": {},
     "output_type": "execute_result"
    }
   ],
   "source": [
    "df_train.shape"
   ]
  },
  {
   "cell_type": "code",
   "execution_count": 97,
   "metadata": {},
   "outputs": [
    {
     "data": {
      "text/plain": [
       "(879, 73)"
      ]
     },
     "execution_count": 97,
     "metadata": {},
     "output_type": "execute_result"
    }
   ],
   "source": [
    "df_test.shape"
   ]
  },
  {
   "cell_type": "code",
   "execution_count": 4,
   "metadata": {},
   "outputs": [
    {
     "data": {
      "text/html": [
       "<div>\n",
       "<style scoped>\n",
       "    .dataframe tbody tr th:only-of-type {\n",
       "        vertical-align: middle;\n",
       "    }\n",
       "\n",
       "    .dataframe tbody tr th {\n",
       "        vertical-align: top;\n",
       "    }\n",
       "\n",
       "    .dataframe thead th {\n",
       "        text-align: right;\n",
       "    }\n",
       "</style>\n",
       "<table border=\"1\" class=\"dataframe\">\n",
       "  <thead>\n",
       "    <tr style=\"text-align: right;\">\n",
       "      <th></th>\n",
       "      <th>Id</th>\n",
       "      <th>PID</th>\n",
       "      <th>MS SubClass</th>\n",
       "      <th>MS Zoning</th>\n",
       "      <th>Lot Frontage</th>\n",
       "      <th>Lot Area</th>\n",
       "      <th>Street</th>\n",
       "      <th>Alley</th>\n",
       "      <th>Lot Shape</th>\n",
       "      <th>Land Contour</th>\n",
       "      <th>...</th>\n",
       "      <th>Screen Porch</th>\n",
       "      <th>Pool Area</th>\n",
       "      <th>Pool QC</th>\n",
       "      <th>Fence</th>\n",
       "      <th>Misc Feature</th>\n",
       "      <th>Misc Val</th>\n",
       "      <th>Mo Sold</th>\n",
       "      <th>Yr Sold</th>\n",
       "      <th>Sale Type</th>\n",
       "      <th>SalePrice</th>\n",
       "    </tr>\n",
       "  </thead>\n",
       "  <tbody>\n",
       "    <tr>\n",
       "      <td>0</td>\n",
       "      <td>109</td>\n",
       "      <td>533352170</td>\n",
       "      <td>60</td>\n",
       "      <td>RL</td>\n",
       "      <td>NaN</td>\n",
       "      <td>13517</td>\n",
       "      <td>Pave</td>\n",
       "      <td>NaN</td>\n",
       "      <td>IR1</td>\n",
       "      <td>Lvl</td>\n",
       "      <td>...</td>\n",
       "      <td>0</td>\n",
       "      <td>0</td>\n",
       "      <td>NaN</td>\n",
       "      <td>NaN</td>\n",
       "      <td>NaN</td>\n",
       "      <td>0</td>\n",
       "      <td>3</td>\n",
       "      <td>2010</td>\n",
       "      <td>WD</td>\n",
       "      <td>130500</td>\n",
       "    </tr>\n",
       "    <tr>\n",
       "      <td>1</td>\n",
       "      <td>544</td>\n",
       "      <td>531379050</td>\n",
       "      <td>60</td>\n",
       "      <td>RL</td>\n",
       "      <td>43.0</td>\n",
       "      <td>11492</td>\n",
       "      <td>Pave</td>\n",
       "      <td>NaN</td>\n",
       "      <td>IR1</td>\n",
       "      <td>Lvl</td>\n",
       "      <td>...</td>\n",
       "      <td>0</td>\n",
       "      <td>0</td>\n",
       "      <td>NaN</td>\n",
       "      <td>NaN</td>\n",
       "      <td>NaN</td>\n",
       "      <td>0</td>\n",
       "      <td>4</td>\n",
       "      <td>2009</td>\n",
       "      <td>WD</td>\n",
       "      <td>220000</td>\n",
       "    </tr>\n",
       "    <tr>\n",
       "      <td>2</td>\n",
       "      <td>153</td>\n",
       "      <td>535304180</td>\n",
       "      <td>20</td>\n",
       "      <td>RL</td>\n",
       "      <td>68.0</td>\n",
       "      <td>7922</td>\n",
       "      <td>Pave</td>\n",
       "      <td>NaN</td>\n",
       "      <td>Reg</td>\n",
       "      <td>Lvl</td>\n",
       "      <td>...</td>\n",
       "      <td>0</td>\n",
       "      <td>0</td>\n",
       "      <td>NaN</td>\n",
       "      <td>NaN</td>\n",
       "      <td>NaN</td>\n",
       "      <td>0</td>\n",
       "      <td>1</td>\n",
       "      <td>2010</td>\n",
       "      <td>WD</td>\n",
       "      <td>109000</td>\n",
       "    </tr>\n",
       "    <tr>\n",
       "      <td>3</td>\n",
       "      <td>318</td>\n",
       "      <td>916386060</td>\n",
       "      <td>60</td>\n",
       "      <td>RL</td>\n",
       "      <td>73.0</td>\n",
       "      <td>9802</td>\n",
       "      <td>Pave</td>\n",
       "      <td>NaN</td>\n",
       "      <td>Reg</td>\n",
       "      <td>Lvl</td>\n",
       "      <td>...</td>\n",
       "      <td>0</td>\n",
       "      <td>0</td>\n",
       "      <td>NaN</td>\n",
       "      <td>NaN</td>\n",
       "      <td>NaN</td>\n",
       "      <td>0</td>\n",
       "      <td>4</td>\n",
       "      <td>2010</td>\n",
       "      <td>WD</td>\n",
       "      <td>174000</td>\n",
       "    </tr>\n",
       "    <tr>\n",
       "      <td>4</td>\n",
       "      <td>255</td>\n",
       "      <td>906425045</td>\n",
       "      <td>50</td>\n",
       "      <td>RL</td>\n",
       "      <td>82.0</td>\n",
       "      <td>14235</td>\n",
       "      <td>Pave</td>\n",
       "      <td>NaN</td>\n",
       "      <td>IR1</td>\n",
       "      <td>Lvl</td>\n",
       "      <td>...</td>\n",
       "      <td>0</td>\n",
       "      <td>0</td>\n",
       "      <td>NaN</td>\n",
       "      <td>NaN</td>\n",
       "      <td>NaN</td>\n",
       "      <td>0</td>\n",
       "      <td>3</td>\n",
       "      <td>2010</td>\n",
       "      <td>WD</td>\n",
       "      <td>138500</td>\n",
       "    </tr>\n",
       "  </tbody>\n",
       "</table>\n",
       "<p>5 rows × 81 columns</p>\n",
       "</div>"
      ],
      "text/plain": [
       "    Id        PID  MS SubClass MS Zoning  Lot Frontage  Lot Area Street Alley  \\\n",
       "0  109  533352170           60        RL           NaN     13517   Pave   NaN   \n",
       "1  544  531379050           60        RL          43.0     11492   Pave   NaN   \n",
       "2  153  535304180           20        RL          68.0      7922   Pave   NaN   \n",
       "3  318  916386060           60        RL          73.0      9802   Pave   NaN   \n",
       "4  255  906425045           50        RL          82.0     14235   Pave   NaN   \n",
       "\n",
       "  Lot Shape Land Contour  ... Screen Porch Pool Area Pool QC Fence  \\\n",
       "0       IR1          Lvl  ...            0         0     NaN   NaN   \n",
       "1       IR1          Lvl  ...            0         0     NaN   NaN   \n",
       "2       Reg          Lvl  ...            0         0     NaN   NaN   \n",
       "3       Reg          Lvl  ...            0         0     NaN   NaN   \n",
       "4       IR1          Lvl  ...            0         0     NaN   NaN   \n",
       "\n",
       "  Misc Feature Misc Val Mo Sold Yr Sold  Sale Type  SalePrice  \n",
       "0          NaN        0       3    2010        WD      130500  \n",
       "1          NaN        0       4    2009        WD      220000  \n",
       "2          NaN        0       1    2010        WD      109000  \n",
       "3          NaN        0       4    2010        WD      174000  \n",
       "4          NaN        0       3    2010        WD      138500  \n",
       "\n",
       "[5 rows x 81 columns]"
      ]
     },
     "execution_count": 4,
     "metadata": {},
     "output_type": "execute_result"
    }
   ],
   "source": [
    "df_train.head()"
   ]
  },
  {
   "cell_type": "code",
   "execution_count": 5,
   "metadata": {
    "scrolled": true
   },
   "outputs": [
    {
     "name": "stdout",
     "output_type": "stream",
     "text": [
      "<class 'pandas.core.frame.DataFrame'>\n",
      "RangeIndex: 2051 entries, 0 to 2050\n",
      "Data columns (total 81 columns):\n",
      "Id                 2051 non-null int64\n",
      "PID                2051 non-null int64\n",
      "MS SubClass        2051 non-null int64\n",
      "MS Zoning          2051 non-null object\n",
      "Lot Frontage       1721 non-null float64\n",
      "Lot Area           2051 non-null int64\n",
      "Street             2051 non-null object\n",
      "Alley              140 non-null object\n",
      "Lot Shape          2051 non-null object\n",
      "Land Contour       2051 non-null object\n",
      "Utilities          2051 non-null object\n",
      "Lot Config         2051 non-null object\n",
      "Land Slope         2051 non-null object\n",
      "Neighborhood       2051 non-null object\n",
      "Condition 1        2051 non-null object\n",
      "Condition 2        2051 non-null object\n",
      "Bldg Type          2051 non-null object\n",
      "House Style        2051 non-null object\n",
      "Overall Qual       2051 non-null int64\n",
      "Overall Cond       2051 non-null int64\n",
      "Year Built         2051 non-null int64\n",
      "Year Remod/Add     2051 non-null int64\n",
      "Roof Style         2051 non-null object\n",
      "Roof Matl          2051 non-null object\n",
      "Exterior 1st       2051 non-null object\n",
      "Exterior 2nd       2051 non-null object\n",
      "Mas Vnr Type       2029 non-null object\n",
      "Mas Vnr Area       2029 non-null float64\n",
      "Exter Qual         2051 non-null object\n",
      "Exter Cond         2051 non-null object\n",
      "Foundation         2051 non-null object\n",
      "Bsmt Qual          1996 non-null object\n",
      "Bsmt Cond          1996 non-null object\n",
      "Bsmt Exposure      1993 non-null object\n",
      "BsmtFin Type 1     1996 non-null object\n",
      "BsmtFin SF 1       2050 non-null float64\n",
      "BsmtFin Type 2     1995 non-null object\n",
      "BsmtFin SF 2       2050 non-null float64\n",
      "Bsmt Unf SF        2050 non-null float64\n",
      "Total Bsmt SF      2050 non-null float64\n",
      "Heating            2051 non-null object\n",
      "Heating QC         2051 non-null object\n",
      "Central Air        2051 non-null object\n",
      "Electrical         2051 non-null object\n",
      "1st Flr SF         2051 non-null int64\n",
      "2nd Flr SF         2051 non-null int64\n",
      "Low Qual Fin SF    2051 non-null int64\n",
      "Gr Liv Area        2051 non-null int64\n",
      "Bsmt Full Bath     2049 non-null float64\n",
      "Bsmt Half Bath     2049 non-null float64\n",
      "Full Bath          2051 non-null int64\n",
      "Half Bath          2051 non-null int64\n",
      "Bedroom AbvGr      2051 non-null int64\n",
      "Kitchen AbvGr      2051 non-null int64\n",
      "Kitchen Qual       2051 non-null object\n",
      "TotRms AbvGrd      2051 non-null int64\n",
      "Functional         2051 non-null object\n",
      "Fireplaces         2051 non-null int64\n",
      "Fireplace Qu       1051 non-null object\n",
      "Garage Type        1938 non-null object\n",
      "Garage Yr Blt      1937 non-null float64\n",
      "Garage Finish      1937 non-null object\n",
      "Garage Cars        2050 non-null float64\n",
      "Garage Area        2050 non-null float64\n",
      "Garage Qual        1937 non-null object\n",
      "Garage Cond        1937 non-null object\n",
      "Paved Drive        2051 non-null object\n",
      "Wood Deck SF       2051 non-null int64\n",
      "Open Porch SF      2051 non-null int64\n",
      "Enclosed Porch     2051 non-null int64\n",
      "3Ssn Porch         2051 non-null int64\n",
      "Screen Porch       2051 non-null int64\n",
      "Pool Area          2051 non-null int64\n",
      "Pool QC            9 non-null object\n",
      "Fence              400 non-null object\n",
      "Misc Feature       65 non-null object\n",
      "Misc Val           2051 non-null int64\n",
      "Mo Sold            2051 non-null int64\n",
      "Yr Sold            2051 non-null int64\n",
      "Sale Type          2051 non-null object\n",
      "SalePrice          2051 non-null int64\n",
      "dtypes: float64(11), int64(28), object(42)\n",
      "memory usage: 1.3+ MB\n"
     ]
    }
   ],
   "source": [
    "df_train.info()"
   ]
  },
  {
   "cell_type": "code",
   "execution_count": 6,
   "metadata": {
    "scrolled": true
   },
   "outputs": [
    {
     "data": {
      "text/plain": [
       "Id                0\n",
       "PID               0\n",
       "MS SubClass       0\n",
       "MS Zoning         0\n",
       "Lot Frontage    330\n",
       "               ... \n",
       "Misc Val          0\n",
       "Mo Sold           0\n",
       "Yr Sold           0\n",
       "Sale Type         0\n",
       "SalePrice         0\n",
       "Length: 81, dtype: int64"
      ]
     },
     "execution_count": 6,
     "metadata": {},
     "output_type": "execute_result"
    }
   ],
   "source": [
    "df_train.isnull().sum()"
   ]
  },
  {
   "cell_type": "markdown",
   "metadata": {},
   "source": [
    "## Cleaning"
   ]
  },
  {
   "cell_type": "markdown",
   "metadata": {},
   "source": [
    "### Formating column heads to be lowercase and no whitespaces"
   ]
  },
  {
   "cell_type": "code",
   "execution_count": 7,
   "metadata": {},
   "outputs": [],
   "source": [
    "df_train.columns = map(str.lower, df_train.columns) ### Good"
   ]
  },
  {
   "cell_type": "code",
   "execution_count": 8,
   "metadata": {},
   "outputs": [],
   "source": [
    "df_train.columns = [i.replace(\" \",\"_\") for i in list(df_train.columns)]"
   ]
  },
  {
   "cell_type": "markdown",
   "metadata": {},
   "source": [
    "### Drop irrelevant features"
   ]
  },
  {
   "cell_type": "code",
   "execution_count": 9,
   "metadata": {},
   "outputs": [],
   "source": [
    "df_train = df_train.drop(['id', 'pid', 'misc_feature'], axis = 1)"
   ]
  },
  {
   "cell_type": "markdown",
   "metadata": {},
   "source": [
    "### Fill NaN"
   ]
  },
  {
   "cell_type": "markdown",
   "metadata": {},
   "source": [
    "Fill relevant cont null values with 0:\n",
    "'lot_frontage', 'mas_vnr_area', 'garage_cars', 'garage_area', 'bsmtfin_sf_1', 'bsmtfin_sf_2', 'bsmt_unf_sf', 'total_bsmt_sf'"
   ]
  },
  {
   "cell_type": "code",
   "execution_count": 10,
   "metadata": {},
   "outputs": [],
   "source": [
    "### I want to see scatter plots of the numerical variables, bar plots of the categorical variables before and (prefereably)\n",
    "### after we start shooting them \n",
    "\n",
    "fill_con_cols = ['lot_frontage', 'mas_vnr_area', 'garage_cars', 'garage_area', 'bsmtfin_sf_1',\n",
    "            'bsmtfin_sf_2', 'bsmt_unf_sf', 'total_bsmt_sf']\n",
    "df_train[fill_con_cols] = df_train[fill_con_cols].fillna(0)"
   ]
  },
  {
   "cell_type": "markdown",
   "metadata": {},
   "source": [
    "Fill relavant cat null values with none:\n",
    "'garage_qual', 'garage_cond', 'garagetype', 'garagefinish', 'fireplacequ', 'bsmt_qual', 'bsmt_cond', 'bsmt_exposure', 'bsmtfin_type_1', 'bsmtfin_type_2', 'alley', 'fence', 'pool_qc', 'mas_vnr_type'"
   ]
  },
  {
   "cell_type": "code",
   "execution_count": 11,
   "metadata": {},
   "outputs": [],
   "source": [
    "fill_cat_cols = ['garage_qual', 'garage_cond', 'garage_type', 'garage_finish', 'fireplace_qu',\n",
    "                 'bsmt_qual', 'bsmt_cond', 'bsmt_exposure', 'bsmtfin_type_1', 'bsmtfin_type_2',\n",
    "                 'alley', 'fence', 'pool_qc', 'mas_vnr_type']\n",
    "df_train[fill_cat_cols] = df_train[fill_cat_cols].fillna('none')"
   ]
  },
  {
   "cell_type": "markdown",
   "metadata": {},
   "source": [
    "### Drop NaN"
   ]
  },
  {
   "cell_type": "markdown",
   "metadata": {},
   "source": [
    "Drop remaining null values:\n",
    "'garage_yr_blt', 'mas_vnr_type', 'bsmt_full_bath', 'bsmt_half_bath'"
   ]
  },
  {
   "cell_type": "code",
   "execution_count": 12,
   "metadata": {},
   "outputs": [],
   "source": [
    "#df_train = df_train.dropna().reset_index().drop('index', axis = 1)"
   ]
  },
  {
   "cell_type": "code",
   "execution_count": 13,
   "metadata": {},
   "outputs": [],
   "source": [
    "df_train = df_train.drop(['garage_yr_blt', 'mas_vnr_type', 'bsmt_full_bath', 'bsmt_half_bath'], axis = 1)\n",
    "### Some of these are decent predictors, and should not be dropped. Especially not before the data is visualised."
   ]
  },
  {
   "cell_type": "code",
   "execution_count": 14,
   "metadata": {},
   "outputs": [
    {
     "data": {
      "text/plain": [
       "(2051, 74)"
      ]
     },
     "execution_count": 14,
     "metadata": {},
     "output_type": "execute_result"
    }
   ],
   "source": [
    "df_train.shape"
   ]
  },
  {
   "cell_type": "code",
   "execution_count": 15,
   "metadata": {},
   "outputs": [
    {
     "data": {
      "text/html": [
       "<div>\n",
       "<style scoped>\n",
       "    .dataframe tbody tr th:only-of-type {\n",
       "        vertical-align: middle;\n",
       "    }\n",
       "\n",
       "    .dataframe tbody tr th {\n",
       "        vertical-align: top;\n",
       "    }\n",
       "\n",
       "    .dataframe thead th {\n",
       "        text-align: right;\n",
       "    }\n",
       "</style>\n",
       "<table border=\"1\" class=\"dataframe\">\n",
       "  <thead>\n",
       "    <tr style=\"text-align: right;\">\n",
       "      <th></th>\n",
       "      <th>ms_subclass</th>\n",
       "      <th>ms_zoning</th>\n",
       "      <th>lot_frontage</th>\n",
       "      <th>lot_area</th>\n",
       "      <th>street</th>\n",
       "      <th>alley</th>\n",
       "      <th>lot_shape</th>\n",
       "      <th>land_contour</th>\n",
       "      <th>utilities</th>\n",
       "      <th>lot_config</th>\n",
       "      <th>...</th>\n",
       "      <th>3ssn_porch</th>\n",
       "      <th>screen_porch</th>\n",
       "      <th>pool_area</th>\n",
       "      <th>pool_qc</th>\n",
       "      <th>fence</th>\n",
       "      <th>misc_val</th>\n",
       "      <th>mo_sold</th>\n",
       "      <th>yr_sold</th>\n",
       "      <th>sale_type</th>\n",
       "      <th>saleprice</th>\n",
       "    </tr>\n",
       "  </thead>\n",
       "  <tbody>\n",
       "    <tr>\n",
       "      <td>0</td>\n",
       "      <td>60</td>\n",
       "      <td>RL</td>\n",
       "      <td>0.0</td>\n",
       "      <td>13517</td>\n",
       "      <td>Pave</td>\n",
       "      <td>none</td>\n",
       "      <td>IR1</td>\n",
       "      <td>Lvl</td>\n",
       "      <td>AllPub</td>\n",
       "      <td>CulDSac</td>\n",
       "      <td>...</td>\n",
       "      <td>0</td>\n",
       "      <td>0</td>\n",
       "      <td>0</td>\n",
       "      <td>none</td>\n",
       "      <td>none</td>\n",
       "      <td>0</td>\n",
       "      <td>3</td>\n",
       "      <td>2010</td>\n",
       "      <td>WD</td>\n",
       "      <td>130500</td>\n",
       "    </tr>\n",
       "    <tr>\n",
       "      <td>1</td>\n",
       "      <td>60</td>\n",
       "      <td>RL</td>\n",
       "      <td>43.0</td>\n",
       "      <td>11492</td>\n",
       "      <td>Pave</td>\n",
       "      <td>none</td>\n",
       "      <td>IR1</td>\n",
       "      <td>Lvl</td>\n",
       "      <td>AllPub</td>\n",
       "      <td>CulDSac</td>\n",
       "      <td>...</td>\n",
       "      <td>0</td>\n",
       "      <td>0</td>\n",
       "      <td>0</td>\n",
       "      <td>none</td>\n",
       "      <td>none</td>\n",
       "      <td>0</td>\n",
       "      <td>4</td>\n",
       "      <td>2009</td>\n",
       "      <td>WD</td>\n",
       "      <td>220000</td>\n",
       "    </tr>\n",
       "    <tr>\n",
       "      <td>2</td>\n",
       "      <td>20</td>\n",
       "      <td>RL</td>\n",
       "      <td>68.0</td>\n",
       "      <td>7922</td>\n",
       "      <td>Pave</td>\n",
       "      <td>none</td>\n",
       "      <td>Reg</td>\n",
       "      <td>Lvl</td>\n",
       "      <td>AllPub</td>\n",
       "      <td>Inside</td>\n",
       "      <td>...</td>\n",
       "      <td>0</td>\n",
       "      <td>0</td>\n",
       "      <td>0</td>\n",
       "      <td>none</td>\n",
       "      <td>none</td>\n",
       "      <td>0</td>\n",
       "      <td>1</td>\n",
       "      <td>2010</td>\n",
       "      <td>WD</td>\n",
       "      <td>109000</td>\n",
       "    </tr>\n",
       "    <tr>\n",
       "      <td>3</td>\n",
       "      <td>60</td>\n",
       "      <td>RL</td>\n",
       "      <td>73.0</td>\n",
       "      <td>9802</td>\n",
       "      <td>Pave</td>\n",
       "      <td>none</td>\n",
       "      <td>Reg</td>\n",
       "      <td>Lvl</td>\n",
       "      <td>AllPub</td>\n",
       "      <td>Inside</td>\n",
       "      <td>...</td>\n",
       "      <td>0</td>\n",
       "      <td>0</td>\n",
       "      <td>0</td>\n",
       "      <td>none</td>\n",
       "      <td>none</td>\n",
       "      <td>0</td>\n",
       "      <td>4</td>\n",
       "      <td>2010</td>\n",
       "      <td>WD</td>\n",
       "      <td>174000</td>\n",
       "    </tr>\n",
       "    <tr>\n",
       "      <td>4</td>\n",
       "      <td>50</td>\n",
       "      <td>RL</td>\n",
       "      <td>82.0</td>\n",
       "      <td>14235</td>\n",
       "      <td>Pave</td>\n",
       "      <td>none</td>\n",
       "      <td>IR1</td>\n",
       "      <td>Lvl</td>\n",
       "      <td>AllPub</td>\n",
       "      <td>Inside</td>\n",
       "      <td>...</td>\n",
       "      <td>0</td>\n",
       "      <td>0</td>\n",
       "      <td>0</td>\n",
       "      <td>none</td>\n",
       "      <td>none</td>\n",
       "      <td>0</td>\n",
       "      <td>3</td>\n",
       "      <td>2010</td>\n",
       "      <td>WD</td>\n",
       "      <td>138500</td>\n",
       "    </tr>\n",
       "    <tr>\n",
       "      <td>...</td>\n",
       "      <td>...</td>\n",
       "      <td>...</td>\n",
       "      <td>...</td>\n",
       "      <td>...</td>\n",
       "      <td>...</td>\n",
       "      <td>...</td>\n",
       "      <td>...</td>\n",
       "      <td>...</td>\n",
       "      <td>...</td>\n",
       "      <td>...</td>\n",
       "      <td>...</td>\n",
       "      <td>...</td>\n",
       "      <td>...</td>\n",
       "      <td>...</td>\n",
       "      <td>...</td>\n",
       "      <td>...</td>\n",
       "      <td>...</td>\n",
       "      <td>...</td>\n",
       "      <td>...</td>\n",
       "      <td>...</td>\n",
       "      <td>...</td>\n",
       "    </tr>\n",
       "    <tr>\n",
       "      <td>2046</td>\n",
       "      <td>20</td>\n",
       "      <td>RL</td>\n",
       "      <td>79.0</td>\n",
       "      <td>11449</td>\n",
       "      <td>Pave</td>\n",
       "      <td>none</td>\n",
       "      <td>IR1</td>\n",
       "      <td>HLS</td>\n",
       "      <td>AllPub</td>\n",
       "      <td>Inside</td>\n",
       "      <td>...</td>\n",
       "      <td>0</td>\n",
       "      <td>0</td>\n",
       "      <td>0</td>\n",
       "      <td>none</td>\n",
       "      <td>none</td>\n",
       "      <td>0</td>\n",
       "      <td>1</td>\n",
       "      <td>2008</td>\n",
       "      <td>WD</td>\n",
       "      <td>298751</td>\n",
       "    </tr>\n",
       "    <tr>\n",
       "      <td>2047</td>\n",
       "      <td>30</td>\n",
       "      <td>RL</td>\n",
       "      <td>0.0</td>\n",
       "      <td>12342</td>\n",
       "      <td>Pave</td>\n",
       "      <td>none</td>\n",
       "      <td>IR1</td>\n",
       "      <td>Lvl</td>\n",
       "      <td>AllPub</td>\n",
       "      <td>Inside</td>\n",
       "      <td>...</td>\n",
       "      <td>0</td>\n",
       "      <td>0</td>\n",
       "      <td>0</td>\n",
       "      <td>none</td>\n",
       "      <td>none</td>\n",
       "      <td>0</td>\n",
       "      <td>3</td>\n",
       "      <td>2009</td>\n",
       "      <td>WD</td>\n",
       "      <td>82500</td>\n",
       "    </tr>\n",
       "    <tr>\n",
       "      <td>2048</td>\n",
       "      <td>50</td>\n",
       "      <td>RL</td>\n",
       "      <td>57.0</td>\n",
       "      <td>7558</td>\n",
       "      <td>Pave</td>\n",
       "      <td>none</td>\n",
       "      <td>Reg</td>\n",
       "      <td>Bnk</td>\n",
       "      <td>AllPub</td>\n",
       "      <td>Inside</td>\n",
       "      <td>...</td>\n",
       "      <td>0</td>\n",
       "      <td>0</td>\n",
       "      <td>0</td>\n",
       "      <td>none</td>\n",
       "      <td>none</td>\n",
       "      <td>0</td>\n",
       "      <td>3</td>\n",
       "      <td>2009</td>\n",
       "      <td>WD</td>\n",
       "      <td>177000</td>\n",
       "    </tr>\n",
       "    <tr>\n",
       "      <td>2049</td>\n",
       "      <td>20</td>\n",
       "      <td>RL</td>\n",
       "      <td>80.0</td>\n",
       "      <td>10400</td>\n",
       "      <td>Pave</td>\n",
       "      <td>none</td>\n",
       "      <td>Reg</td>\n",
       "      <td>Lvl</td>\n",
       "      <td>AllPub</td>\n",
       "      <td>Corner</td>\n",
       "      <td>...</td>\n",
       "      <td>0</td>\n",
       "      <td>0</td>\n",
       "      <td>0</td>\n",
       "      <td>none</td>\n",
       "      <td>none</td>\n",
       "      <td>0</td>\n",
       "      <td>11</td>\n",
       "      <td>2009</td>\n",
       "      <td>WD</td>\n",
       "      <td>144000</td>\n",
       "    </tr>\n",
       "    <tr>\n",
       "      <td>2050</td>\n",
       "      <td>60</td>\n",
       "      <td>RL</td>\n",
       "      <td>60.0</td>\n",
       "      <td>7500</td>\n",
       "      <td>Pave</td>\n",
       "      <td>none</td>\n",
       "      <td>Reg</td>\n",
       "      <td>Lvl</td>\n",
       "      <td>AllPub</td>\n",
       "      <td>Inside</td>\n",
       "      <td>...</td>\n",
       "      <td>0</td>\n",
       "      <td>0</td>\n",
       "      <td>0</td>\n",
       "      <td>none</td>\n",
       "      <td>none</td>\n",
       "      <td>0</td>\n",
       "      <td>6</td>\n",
       "      <td>2010</td>\n",
       "      <td>WD</td>\n",
       "      <td>189000</td>\n",
       "    </tr>\n",
       "  </tbody>\n",
       "</table>\n",
       "<p>2051 rows × 74 columns</p>\n",
       "</div>"
      ],
      "text/plain": [
       "      ms_subclass ms_zoning  lot_frontage  lot_area street alley lot_shape  \\\n",
       "0              60        RL           0.0     13517   Pave  none       IR1   \n",
       "1              60        RL          43.0     11492   Pave  none       IR1   \n",
       "2              20        RL          68.0      7922   Pave  none       Reg   \n",
       "3              60        RL          73.0      9802   Pave  none       Reg   \n",
       "4              50        RL          82.0     14235   Pave  none       IR1   \n",
       "...           ...       ...           ...       ...    ...   ...       ...   \n",
       "2046           20        RL          79.0     11449   Pave  none       IR1   \n",
       "2047           30        RL           0.0     12342   Pave  none       IR1   \n",
       "2048           50        RL          57.0      7558   Pave  none       Reg   \n",
       "2049           20        RL          80.0     10400   Pave  none       Reg   \n",
       "2050           60        RL          60.0      7500   Pave  none       Reg   \n",
       "\n",
       "     land_contour utilities lot_config  ... 3ssn_porch screen_porch pool_area  \\\n",
       "0             Lvl    AllPub    CulDSac  ...          0            0         0   \n",
       "1             Lvl    AllPub    CulDSac  ...          0            0         0   \n",
       "2             Lvl    AllPub     Inside  ...          0            0         0   \n",
       "3             Lvl    AllPub     Inside  ...          0            0         0   \n",
       "4             Lvl    AllPub     Inside  ...          0            0         0   \n",
       "...           ...       ...        ...  ...        ...          ...       ...   \n",
       "2046          HLS    AllPub     Inside  ...          0            0         0   \n",
       "2047          Lvl    AllPub     Inside  ...          0            0         0   \n",
       "2048          Bnk    AllPub     Inside  ...          0            0         0   \n",
       "2049          Lvl    AllPub     Corner  ...          0            0         0   \n",
       "2050          Lvl    AllPub     Inside  ...          0            0         0   \n",
       "\n",
       "     pool_qc fence misc_val  mo_sold  yr_sold  sale_type  saleprice  \n",
       "0       none  none        0        3     2010        WD      130500  \n",
       "1       none  none        0        4     2009        WD      220000  \n",
       "2       none  none        0        1     2010        WD      109000  \n",
       "3       none  none        0        4     2010        WD      174000  \n",
       "4       none  none        0        3     2010        WD      138500  \n",
       "...      ...   ...      ...      ...      ...        ...        ...  \n",
       "2046    none  none        0        1     2008        WD      298751  \n",
       "2047    none  none        0        3     2009        WD       82500  \n",
       "2048    none  none        0        3     2009        WD      177000  \n",
       "2049    none  none        0       11     2009        WD      144000  \n",
       "2050    none  none        0        6     2010        WD      189000  \n",
       "\n",
       "[2051 rows x 74 columns]"
      ]
     },
     "execution_count": 15,
     "metadata": {},
     "output_type": "execute_result"
    }
   ],
   "source": [
    "df_train"
   ]
  },
  {
   "cell_type": "markdown",
   "metadata": {},
   "source": [
    "## Dummying categorical columns"
   ]
  },
  {
   "cell_type": "code",
   "execution_count": 16,
   "metadata": {},
   "outputs": [],
   "source": [
    "#ms_zoning = pd.get_dummies(df_train.ms_zoning)\n",
    "#street = pd.get_dummies(df_train.street)"
   ]
  },
  {
   "cell_type": "code",
   "execution_count": 17,
   "metadata": {},
   "outputs": [],
   "source": [
    "def dummy_conv(data):\n",
    "    names=data.select_dtypes(exclude=['number']).columns\n",
    "    return pd.get_dummies(data[names], drop_first=True)"
   ]
  },
  {
   "cell_type": "code",
   "execution_count": 18,
   "metadata": {},
   "outputs": [],
   "source": [
    "df_train_cat = dummy_conv(df_train)"
   ]
  },
  {
   "cell_type": "code",
   "execution_count": 19,
   "metadata": {},
   "outputs": [
    {
     "data": {
      "text/plain": [
       "(2051, 217)"
      ]
     },
     "execution_count": 19,
     "metadata": {},
     "output_type": "execute_result"
    }
   ],
   "source": [
    "df_train_cat.shape"
   ]
  },
  {
   "cell_type": "code",
   "execution_count": 20,
   "metadata": {},
   "outputs": [
    {
     "data": {
      "text/plain": [
       "Index(['ms_zoning', 'street', 'alley', 'lot_shape', 'land_contour',\n",
       "       'utilities', 'lot_config', 'land_slope', 'neighborhood', 'condition_1',\n",
       "       'condition_2', 'bldg_type', 'house_style', 'roof_style', 'roof_matl',\n",
       "       'exterior_1st', 'exterior_2nd', 'exter_qual', 'exter_cond',\n",
       "       'foundation', 'bsmt_qual', 'bsmt_cond', 'bsmt_exposure',\n",
       "       'bsmtfin_type_1', 'bsmtfin_type_2', 'heating', 'heating_qc',\n",
       "       'central_air', 'electrical', 'kitchen_qual', 'functional',\n",
       "       'fireplace_qu', 'garage_type', 'garage_finish', 'garage_qual',\n",
       "       'garage_cond', 'paved_drive', 'pool_qc', 'fence', 'sale_type'],\n",
       "      dtype='object')"
      ]
     },
     "execution_count": 20,
     "metadata": {},
     "output_type": "execute_result"
    }
   ],
   "source": [
    "df_train.select_dtypes(exclude=['number']).columns"
   ]
  },
  {
   "cell_type": "code",
   "execution_count": 21,
   "metadata": {},
   "outputs": [],
   "source": [
    "df_train_cont = df_train.drop(['ms_zoning', 'street', 'alley', 'lot_shape', 'land_contour',\n",
    "                               'utilities', 'lot_config', 'land_slope', 'neighborhood', 'condition_1',\n",
    "                               'condition_2', 'bldg_type', 'house_style', 'roof_style', 'roof_matl',\n",
    "                               'exterior_1st', 'exterior_2nd', 'exter_qual',\n",
    "                               'exter_cond', 'foundation', 'bsmt_qual', 'bsmt_cond', 'bsmt_exposure',\n",
    "                               'bsmtfin_type_1', 'bsmtfin_type_2', 'heating', 'heating_qc',\n",
    "                               'central_air', 'electrical', 'kitchen_qual', 'functional',\n",
    "                               'fireplace_qu', 'garage_type', 'garage_finish', 'garage_qual',\n",
    "                               'garage_cond', 'paved_drive', 'pool_qc', 'fence', 'sale_type'], axis = 1)"
   ]
  },
  {
   "cell_type": "code",
   "execution_count": 22,
   "metadata": {},
   "outputs": [
    {
     "data": {
      "text/plain": [
       "Index(['ms_subclass', 'lot_frontage', 'lot_area', 'overall_qual',\n",
       "       'overall_cond', 'year_built', 'year_remod/add', 'mas_vnr_area',\n",
       "       'bsmtfin_sf_1', 'bsmtfin_sf_2', 'bsmt_unf_sf', 'total_bsmt_sf',\n",
       "       '1st_flr_sf', '2nd_flr_sf', 'low_qual_fin_sf', 'gr_liv_area',\n",
       "       'full_bath', 'half_bath', 'bedroom_abvgr', 'kitchen_abvgr',\n",
       "       'totrms_abvgrd', 'fireplaces', 'garage_cars', 'garage_area',\n",
       "       'wood_deck_sf', 'open_porch_sf', 'enclosed_porch', '3ssn_porch',\n",
       "       'screen_porch', 'pool_area', 'misc_val', 'mo_sold', 'yr_sold',\n",
       "       'saleprice'],\n",
       "      dtype='object')"
      ]
     },
     "execution_count": 22,
     "metadata": {},
     "output_type": "execute_result"
    }
   ],
   "source": [
    "df_train_cont.columns"
   ]
  },
  {
   "cell_type": "markdown",
   "metadata": {},
   "source": [
    "## Cont Initial Feature Selection - Pearsons"
   ]
  },
  {
   "cell_type": "markdown",
   "metadata": {},
   "source": [
    "### Features Highly Correlated to Target (x>=0.5)\n",
    "'overall_qual', 'year_remod/add', 'mas_vnr_area', '1st_flr_sf', 'gr_liv_area', 'garage_area', 'saleprice'\n",
    "\n",
    "### Of these features, the below were highly correlated and removed\n",
    "'full_bath', 'year_built'"
   ]
  },
  {
   "cell_type": "code",
   "execution_count": 23,
   "metadata": {},
   "outputs": [],
   "source": [
    "df_train_cont_pear = df_train_cont[['overall_qual',\n",
    "                                    'year_remod/add',\n",
    "                                    '1st_flr_sf',\n",
    "                                    'gr_liv_area',\n",
    "                                    'garage_area',\n",
    "                                    'saleprice']]  ### I need to see how this list is obtained. What about anticorrelated \n",
    "                                                   ### features? Seems like +0.5 is a very arbitrary cutoff. "
   ]
  },
  {
   "cell_type": "code",
   "execution_count": 24,
   "metadata": {},
   "outputs": [
    {
     "data": {
      "text/plain": [
       "(6.0, 0.0)"
      ]
     },
     "execution_count": 24,
     "metadata": {},
     "output_type": "execute_result"
    },
    {
     "data": {
      "image/png": "[encoded data removed]",
      "text/plain": [
       "<Figure size 432x288 with 2 Axes>"
      ]
     },
     "metadata": {
      "needs_background": "light"
     },
     "output_type": "display_data"
    }
   ],
   "source": [
    "plt.figure(figsize=(6,4))                          ### Larger please\n",
    "df_corr = df_train_cont_pear.corr()\n",
    "mask = np.zeros_like(df_corr, dtype=np.bool)\n",
    "mask[np.triu_indices_from(mask)] = True\n",
    "\n",
    "\n",
    "ax = sns.heatmap(df_corr, cmap='coolwarm', linewidths=.5, annot=True, mask = mask)\n",
    "bottom, top = ax.get_ylim()\n",
    "ax.set_ylim(bottom + 0.5, top - 0.5)"
   ]
  },
  {
   "cell_type": "markdown",
   "metadata": {},
   "source": [
    "### RFE"
   ]
  },
  {
   "cell_type": "code",
   "execution_count": 25,
   "metadata": {},
   "outputs": [],
   "source": [
    "### Explain the RFE procedure. In Markdown.\n",
    "\n",
    "X = df_train_cont_pear.drop('saleprice', axis = 1)\n",
    "y = df_train_cont_pear['saleprice']"
   ]
  },
  {
   "cell_type": "code",
   "execution_count": 26,
   "metadata": {},
   "outputs": [
    {
     "name": "stdout",
     "output_type": "stream",
     "text": [
      "Optimum number of features: 5\n",
      "Score with 5 features: 0.791238\n"
     ]
    }
   ],
   "source": [
    "#no of features\n",
    "nof_list=np.arange(1,6)            \n",
    "high_score=0\n",
    "#Variable to store the optimum features\n",
    "nof=0           \n",
    "score_list =[]\n",
    "for n in range(len(nof_list)):\n",
    "    X_train, X_test, y_train, y_test = train_test_split(X,y, test_size = 0.3, random_state = 89)\n",
    "    model = LinearRegression()\n",
    "    rfe = RFE(model,nof_list[n])\n",
    "    X_train_rfe = rfe.fit_transform(X_train,y_train)\n",
    "    X_test_rfe = rfe.transform(X_test)\n",
    "    model.fit(X_train_rfe,y_train)\n",
    "    score = model.score(X_test_rfe,y_test)\n",
    "    score_list.append(score)\n",
    "    if(score>high_score):\n",
    "        high_score = score\n",
    "        nof = nof_list[n]\n",
    "print(\"Optimum number of features: %d\" %nof)\n",
    "print(\"Score with %d features: %f\" % (nof, high_score))"
   ]
  },
  {
   "cell_type": "code",
   "execution_count": 27,
   "metadata": {},
   "outputs": [
    {
     "data": {
      "text/plain": [
       "array([ True,  True, False,  True,  True])"
      ]
     },
     "execution_count": 27,
     "metadata": {},
     "output_type": "execute_result"
    }
   ],
   "source": [
    "lm = LinearRegression()\n",
    "rfe = RFE(lm, 4)\n",
    "selector = rfe.fit(X, y)\n",
    "selector.support_"
   ]
  },
  {
   "cell_type": "code",
   "execution_count": 28,
   "metadata": {},
   "outputs": [
    {
     "data": {
      "text/plain": [
       "array([1, 1, 2, 1, 1])"
      ]
     },
     "execution_count": 28,
     "metadata": {},
     "output_type": "execute_result"
    }
   ],
   "source": [
    "selector.ranking_"
   ]
  },
  {
   "cell_type": "code",
   "execution_count": 29,
   "metadata": {},
   "outputs": [
    {
     "data": {
      "text/plain": [
       "Index(['overall_qual', 'year_remod/add', 'gr_liv_area', 'garage_area'], dtype='object')"
      ]
     },
     "execution_count": 29,
     "metadata": {},
     "output_type": "execute_result"
    }
   ],
   "source": [
    "X_rfe_cols = X.columns[selector.support_]\n",
    "X_rfe_cols"
   ]
  },
  {
   "cell_type": "code",
   "execution_count": 30,
   "metadata": {},
   "outputs": [],
   "source": [
    "df_train_cont_pear_rfe = X[X_rfe_cols]"
   ]
  },
  {
   "cell_type": "markdown",
   "metadata": {},
   "source": [
    "### Concat Cont and Cat Features"
   ]
  },
  {
   "cell_type": "code",
   "execution_count": 31,
   "metadata": {},
   "outputs": [],
   "source": [
    "df_train_dum = pd.concat([df_train_cont_pear_rfe, df_train_cat], axis = 1)"
   ]
  },
  {
   "cell_type": "markdown",
   "metadata": {},
   "source": [
    "## Train Test Split"
   ]
  },
  {
   "cell_type": "code",
   "execution_count": 32,
   "metadata": {},
   "outputs": [],
   "source": [
    "X = df_train_dum\n",
    "y = df_train.saleprice"
   ]
  },
  {
   "cell_type": "code",
   "execution_count": 33,
   "metadata": {},
   "outputs": [],
   "source": [
    "X_train, X_test, y_train, y_test = train_test_split(X, y, train_size = 0.7, random_state = 88)"
   ]
  },
  {
   "cell_type": "markdown",
   "metadata": {},
   "source": [
    "## Standard Scaler"
   ]
  },
  {
   "cell_type": "code",
   "execution_count": 34,
   "metadata": {},
   "outputs": [],
   "source": [
    "from sklearn.preprocessing import StandardScaler\n",
    "\n",
    "ss = StandardScaler()\n",
    "X_train_ss = ss.fit_transform(X_train)\n",
    "X_test_ss = ss.transform(X_test)"
   ]
  },
  {
   "cell_type": "code",
   "execution_count": 35,
   "metadata": {},
   "outputs": [],
   "source": [
    "X_train_ss = pd.DataFrame(X_train_ss, columns = X_train.columns)"
   ]
  },
  {
   "cell_type": "code",
   "execution_count": 36,
   "metadata": {},
   "outputs": [],
   "source": [
    "X_test_ss = pd.DataFrame(X_test_ss, columns = X_test.columns)"
   ]
  },
  {
   "cell_type": "markdown",
   "metadata": {},
   "source": [
    "## Feature Selecton"
   ]
  },
  {
   "cell_type": "code",
   "execution_count": 37,
   "metadata": {},
   "outputs": [],
   "source": [
    "# X = df_train_dum\n",
    "# y = df_train.saleprice"
   ]
  },
  {
   "cell_type": "markdown",
   "metadata": {},
   "source": [
    "### - Lasso"
   ]
  },
  {
   "cell_type": "code",
   "execution_count": 38,
   "metadata": {},
   "outputs": [],
   "source": [
    "def Lasso_func(X_train, X_test, y_train, y_test):\n",
    "    from sklearn.linear_model import Lasso, LassoCV\n",
    "    \n",
    "    las_cv = LassoCV(n_alphas = 1000, cv = 10)\n",
    "    model_las_cv = las_cv.fit(X_train, y_train)\n",
    "    print(f\"\\nThe optimal Lasso alpha value is: {model_las_cv.alpha_}\")\n",
    "    \n",
    "    las_opt_alpha = model_las_cv.alpha_\n",
    "    las_opt_model = Lasso(alpha=las_opt_alpha)\n",
    "    las_opt_model.fit(X_train, y_train)\n",
    "    print(f\"\\nThe Lasso model has a score of: {las_opt_model.score(X_train, y_train)}\\n\")\n",
    "    \n",
    "    col_coef = pd.DataFrame()\n",
    "    col_coef['col_names'] = X_train.columns\n",
    "    abs(las_opt_model.coef_)\n",
    "    col_coef['coef'] = abs(las_opt_model.coef_)\n",
    "    print(col_coef.sort_values('coef', ascending=False))\n",
    "\n",
    "    zero_coef = col_coef.loc[col_coef['coef'] == 0]\n",
    "    print(list(zero_coef.col_names))\n",
    "    \n",
    "    return zero_coef.col_names\n"
   ]
  },
  {
   "cell_type": "code",
   "execution_count": 39,
   "metadata": {},
   "outputs": [
    {
     "name": "stdout",
     "output_type": "stream",
     "text": [
      "\n",
      "The optimal Lasso alpha value is: 288.3318675523569\n",
      "\n",
      "The Lasso model has a score of: 0.9002564872787225\n",
      "\n",
      "                col_names          coef\n",
      "2             gr_liv_area  24760.713194\n",
      "85      roof_matl_CompShg  22378.731419\n",
      "87      roof_matl_Tar&Grv  15979.873272\n",
      "171       kitchen_qual_TA  12778.909284\n",
      "0            overall_qual  12384.137330\n",
      "..                    ...           ...\n",
      "111  exterior_2nd_MetalSd      0.000000\n",
      "105  exterior_2nd_Brk Cmn      0.000000\n",
      "103  exterior_1st_WdShing      0.000000\n",
      "101  exterior_1st_VinylSd      0.000000\n",
      "220         sale_type_WD       0.000000\n",
      "\n",
      "[221 rows x 2 columns]\n",
      "['ms_zoning_FV', 'ms_zoning_I (all)', 'ms_zoning_RH', 'ms_zoning_RL', 'alley_Pave', 'alley_none', 'utilities_NoSewr', 'lot_config_FR3', 'lot_config_Inside', 'neighborhood_BrkSide', 'neighborhood_CollgCr', 'neighborhood_Landmrk', 'neighborhood_Sawyer', 'condition_1_Feedr', 'condition_2_Feedr', 'condition_2_Norm', 'condition_2_RRAn', 'condition_2_RRNn', 'roof_style_Gable', 'exterior_1st_AsphShn', 'exterior_1st_BrkComm', 'exterior_1st_CBlock', 'exterior_1st_HdBoard', 'exterior_1st_ImStucc', 'exterior_1st_MetalSd', 'exterior_1st_Stone', 'exterior_1st_VinylSd', 'exterior_1st_WdShing', 'exterior_2nd_Brk Cmn', 'exterior_2nd_ImStucc', 'exterior_2nd_MetalSd', 'exterior_2nd_Plywood', 'exterior_2nd_Wd Sdng', 'exter_cond_TA', 'foundation_CBlock', 'foundation_Stone', 'foundation_Wood', 'bsmt_qual_Po', 'bsmt_cond_TA', 'bsmtfin_type_2_GLQ', 'bsmtfin_type_2_LwQ', 'bsmtfin_type_2_Rec', 'bsmtfin_type_2_Unf', 'bsmtfin_type_2_none', 'heating_GasW', 'heating_Wall', 'heating_qc_Gd', 'heating_qc_Po', 'electrical_FuseP', 'electrical_Mix', 'electrical_SBrkr', 'functional_Min2', 'functional_Mod', 'fireplace_qu_Gd', 'garage_type_none', 'garage_finish_none', 'garage_qual_TA', 'garage_qual_none', 'garage_cond_TA', 'garage_cond_none', 'paved_drive_P', 'pool_qc_TA', 'pool_qc_none', 'fence_GdWo', 'fence_MnPrv', 'fence_MnWw', 'sale_type_CWD', 'sale_type_ConLw', 'sale_type_WD ']\n"
     ]
    }
   ],
   "source": [
    "# Try to return zero_coef out of function\n",
    "df_zero_coef = Lasso_func(X_train_ss, X_test_ss, y_train, y_test)"
   ]
  },
  {
   "cell_type": "code",
   "execution_count": 40,
   "metadata": {},
   "outputs": [],
   "source": [
    "#X_train_ss_lasso = X_train_ss.drop(df_zero_coef, axis = 1)\n",
    "#X_test_ss_lasso = X_test_ss.drop(df_zero_coef, axis = 1)"
   ]
  },
  {
   "cell_type": "code",
   "execution_count": 41,
   "metadata": {},
   "outputs": [],
   "source": [
    "lcv = LassoCV()"
   ]
  },
  {
   "cell_type": "code",
   "execution_count": 42,
   "metadata": {},
   "outputs": [
    {
     "name": "stderr",
     "output_type": "stream",
     "text": [
      "C:\\Users\\Kelvyn\\Anaconda3\\lib\\site-packages\\sklearn\\model_selection\\_split.py:1978: FutureWarning: The default value of cv will change from 3 to 5 in version 0.22. Specify it explicitly to silence this warning.\n",
      "  warnings.warn(CV_WARNING, FutureWarning)\n",
      "C:\\Users\\Kelvyn\\Anaconda3\\lib\\site-packages\\sklearn\\model_selection\\_split.py:1978: FutureWarning: The default value of cv will change from 3 to 5 in version 0.22. Specify it explicitly to silence this warning.\n",
      "  warnings.warn(CV_WARNING, FutureWarning)\n",
      "C:\\Users\\Kelvyn\\Anaconda3\\lib\\site-packages\\sklearn\\model_selection\\_split.py:1978: FutureWarning: The default value of cv will change from 3 to 5 in version 0.22. Specify it explicitly to silence this warning.\n",
      "  warnings.warn(CV_WARNING, FutureWarning)\n",
      "C:\\Users\\Kelvyn\\Anaconda3\\lib\\site-packages\\sklearn\\model_selection\\_split.py:1978: FutureWarning: The default value of cv will change from 3 to 5 in version 0.22. Specify it explicitly to silence this warning.\n",
      "  warnings.warn(CV_WARNING, FutureWarning)\n",
      "C:\\Users\\Kelvyn\\Anaconda3\\lib\\site-packages\\sklearn\\model_selection\\_split.py:1978: FutureWarning: The default value of cv will change from 3 to 5 in version 0.22. Specify it explicitly to silence this warning.\n",
      "  warnings.warn(CV_WARNING, FutureWarning)\n",
      "C:\\Users\\Kelvyn\\Anaconda3\\lib\\site-packages\\sklearn\\model_selection\\_split.py:1978: FutureWarning: The default value of cv will change from 3 to 5 in version 0.22. Specify it explicitly to silence this warning.\n",
      "  warnings.warn(CV_WARNING, FutureWarning)\n",
      "C:\\Users\\Kelvyn\\Anaconda3\\lib\\site-packages\\sklearn\\model_selection\\_split.py:1978: FutureWarning: The default value of cv will change from 3 to 5 in version 0.22. Specify it explicitly to silence this warning.\n",
      "  warnings.warn(CV_WARNING, FutureWarning)\n",
      "C:\\Users\\Kelvyn\\Anaconda3\\lib\\site-packages\\sklearn\\model_selection\\_split.py:1978: FutureWarning: The default value of cv will change from 3 to 5 in version 0.22. Specify it explicitly to silence this warning.\n",
      "  warnings.warn(CV_WARNING, FutureWarning)\n",
      "C:\\Users\\Kelvyn\\Anaconda3\\lib\\site-packages\\sklearn\\model_selection\\_split.py:1978: FutureWarning: The default value of cv will change from 3 to 5 in version 0.22. Specify it explicitly to silence this warning.\n",
      "  warnings.warn(CV_WARNING, FutureWarning)\n",
      "C:\\Users\\Kelvyn\\Anaconda3\\lib\\site-packages\\sklearn\\model_selection\\_split.py:1978: FutureWarning: The default value of cv will change from 3 to 5 in version 0.22. Specify it explicitly to silence this warning.\n",
      "  warnings.warn(CV_WARNING, FutureWarning)\n"
     ]
    },
    {
     "data": {
      "text/plain": [
       "0.8155842006248456"
      ]
     },
     "execution_count": 42,
     "metadata": {},
     "output_type": "execute_result"
    }
   ],
   "source": [
    "cross_val_score(lcv, X_train_ss, y_train, cv = 10).mean()"
   ]
  },
  {
   "cell_type": "code",
   "execution_count": 43,
   "metadata": {},
   "outputs": [],
   "source": [
    "X_train_ss = X_train_ss.drop(df_zero_coef, axis = 1)\n",
    "X_test_ss = X_test_ss.drop(df_zero_coef, axis = 1)"
   ]
  },
  {
   "cell_type": "markdown",
   "metadata": {},
   "source": [
    "### Gridsearch"
   ]
  },
  {
   "cell_type": "code",
   "execution_count": 44,
   "metadata": {},
   "outputs": [],
   "source": [
    "from sklearn.model_selection import GridSearchCV\n",
    "from sklearn.linear_model import Lasso, LassoCV"
   ]
  },
  {
   "cell_type": "code",
   "execution_count": 45,
   "metadata": {},
   "outputs": [],
   "source": [
    "lasso_parameters = {'alpha' : np.linspace(0.1, 10, 100)}  ### you don't need to pass the values like this \n",
    "lasso = Lasso()"
   ]
  },
  {
   "cell_type": "code",
   "execution_count": 46,
   "metadata": {},
   "outputs": [],
   "source": [
    "lasso_gridsearchCV = GridSearchCV(lasso,\n",
    "                              lasso_parameters,\n",
    "                              cv=5,\n",
    "                              verbose=1,\n",
    "                              n_jobs=-1)"
   ]
  },
  {
   "cell_type": "code",
   "execution_count": 47,
   "metadata": {},
   "outputs": [
    {
     "name": "stdout",
     "output_type": "stream",
     "text": [
      "Fitting 5 folds for each of 100 candidates, totalling 500 fits\n"
     ]
    },
    {
     "name": "stderr",
     "output_type": "stream",
     "text": [
      "[Parallel(n_jobs=-1)]: Using backend LokyBackend with 8 concurrent workers.\n",
      "[Parallel(n_jobs=-1)]: Done  34 tasks      | elapsed:    9.7s\n",
      "[Parallel(n_jobs=-1)]: Done 184 tasks      | elapsed:   12.1s\n",
      "[Parallel(n_jobs=-1)]: Done 449 tasks      | elapsed:   16.0s\n",
      "[Parallel(n_jobs=-1)]: Done 485 out of 500 | elapsed:   16.5s remaining:    0.4s\n",
      "[Parallel(n_jobs=-1)]: Done 500 out of 500 | elapsed:   16.7s finished\n"
     ]
    },
    {
     "data": {
      "text/plain": [
       "GridSearchCV(cv=5, error_score='raise-deprecating',\n",
       "             estimator=Lasso(alpha=1.0, copy_X=True, fit_intercept=True,\n",
       "                             max_iter=1000, normalize=False, positive=False,\n",
       "                             precompute=False, random_state=None,\n",
       "                             selection='cyclic', tol=0.0001, warm_start=False),\n",
       "             iid='warn', n_jobs=-1,\n",
       "             param_grid={'alpha': array([ 0.1,  0.2,  0.3,  0.4,  0.5,  0.6,  0.7,  0.8,  0.9,  1. ,  1.1,\n",
       "        1.2,  1.3,  1.4,  1.5,  1.6,  1.7,...\n",
       "        2.3,  2.4,  2.5,  2.6,  2.7,  2.8,  2.9,  3. ,  3.1,  3.2,  3.3,\n",
       "        3.4,  3.5,  3.6,  3.7,  3.8,  3.9,  4. ,  4.1,  4.2,  4.3,  4.4,\n",
       "        4.5,  4.6,  4.7,  4.8,  4.9,  5. ,  5.1,  5.2,  5.3,  5.4,  5.5,\n",
       "        5.6,  5.7,  5.8,  5.9,  6. ,  6.1,  6.2,  6.3,  6.4,  6.5,  6.6,\n",
       "        6.7,  6.8,  6.9,  7. ,  7.1,  7.2,  7.3,  7.4,  7.5,  7.6,  7.7,\n",
       "        7.8,  7.9,  8. ,  8.1,  8.2,  8.3,  8.4,  8.5,  8.6,  8.7,  8.8,\n",
       "        8.9,  9. ,  9.1,  9.2,  9.3,  9.4,  9.5,  9.6,  9.7,  9.8,  9.9,\n",
       "       10. ])},\n",
       "             pre_dispatch='2*n_jobs', refit=True, return_train_score=False,\n",
       "             scoring=None, verbose=1)"
      ]
     },
     "execution_count": 47,
     "metadata": {},
     "output_type": "execute_result"
    }
   ],
   "source": [
    "lasso_gridsearchCV.fit(X_train_ss, y_train)"
   ]
  },
  {
   "cell_type": "code",
   "execution_count": 48,
   "metadata": {},
   "outputs": [],
   "source": [
    "gs_y_hat = lasso_gridsearchCV.predict(X_test_ss) ### I should see a y_pred against y_test "
   ]
  },
  {
   "cell_type": "code",
   "execution_count": 49,
   "metadata": {},
   "outputs": [
    {
     "data": {
      "text/plain": [
       "25893.925956679155"
      ]
     },
     "execution_count": 49,
     "metadata": {},
     "output_type": "execute_result"
    }
   ],
   "source": [
    "from sklearn.metrics import mean_squared_error\n",
    "from math import sqrt                            ### You don't have to sqrt using a function!\n",
    "rms = sqrt(mean_squared_error(y_test, gs_y_hat)) ### just x ** 0.5 would have worked.\n",
    "rms"
   ]
  },
  {
   "cell_type": "markdown",
   "metadata": {},
   "source": [
    "### EDA"
   ]
  },
  {
   "cell_type": "code",
   "execution_count": 50,
   "metadata": {},
   "outputs": [],
   "source": [
    "#df_train_new = pd.concat([X_ss_dum_new, y], axis = 1)"
   ]
  },
  {
   "cell_type": "code",
   "execution_count": 51,
   "metadata": {},
   "outputs": [],
   "source": [
    "#plt.figure(figsize=(16,12))\n",
    "#plt.title('Insert Title.\\n', weight='bold', fontsize = 25)\n",
    "#df_corr = df_train_new.corr()\n",
    "#mask = np.zeros_like(df_corr, dtype=np.bool)\n",
    "#mask[np.triu_indices_from(mask)] = True\n",
    "\n",
    "\n",
    "#ax = sns.heatmap(df_corr, cmap='coolwarm', linewidths=.5, annot=True, mask = mask)\n",
    "#bottom, top = ax.get_ylim()\n",
    "#ax.set_ylim(bottom + 0.5, top - 0.5)"
   ]
  },
  {
   "cell_type": "code",
   "execution_count": null,
   "metadata": {},
   "outputs": [],
   "source": []
  },
  {
   "cell_type": "code",
   "execution_count": null,
   "metadata": {},
   "outputs": [],
   "source": []
  },
  {
   "cell_type": "code",
   "execution_count": null,
   "metadata": {},
   "outputs": [],
   "source": []
  },
  {
   "cell_type": "code",
   "execution_count": 52,
   "metadata": {},
   "outputs": [],
   "source": [
    "#df_test.columns = map(str.lower, df_test.columns)\n",
    "#df_test.columns = [i.replace(\" \",\"_\") for i in list(df_test.columns)]"
   ]
  },
  {
   "cell_type": "code",
   "execution_count": 53,
   "metadata": {},
   "outputs": [],
   "source": [
    "#df_test = df_test.drop(['id', 'pid', 'alley', 'pool_qc', 'fence', 'misc_feature'], axis = 1)"
   ]
  },
  {
   "cell_type": "code",
   "execution_count": 54,
   "metadata": {},
   "outputs": [],
   "source": [
    "#df_test = df_test.dropna()"
   ]
  },
  {
   "cell_type": "code",
   "execution_count": 55,
   "metadata": {},
   "outputs": [],
   "source": [
    "#df_test_new = df_test[['overall_qual', 'year_built', 'year_remod/add', 'mas_vnr_area', 'bsmtfin_sf_1',\n",
    "         #'total_bsmt_sf', '1st_flr_sf', 'gr_liv_area', 'full_bath', 'totrms_abvgrd',\n",
    "         #'garage_yr_blt', 'garage_cars', 'garage_area']]"
   ]
  },
  {
   "cell_type": "code",
   "execution_count": null,
   "metadata": {},
   "outputs": [],
   "source": []
  },
  {
   "cell_type": "markdown",
   "metadata": {},
   "source": [
    "## Preparing Test Dataframe"
   ]
  },
  {
   "cell_type": "code",
   "execution_count": 56,
   "metadata": {},
   "outputs": [
    {
     "data": {
      "text/html": [
       "<div>\n",
       "<style scoped>\n",
       "    .dataframe tbody tr th:only-of-type {\n",
       "        vertical-align: middle;\n",
       "    }\n",
       "\n",
       "    .dataframe tbody tr th {\n",
       "        vertical-align: top;\n",
       "    }\n",
       "\n",
       "    .dataframe thead th {\n",
       "        text-align: right;\n",
       "    }\n",
       "</style>\n",
       "<table border=\"1\" class=\"dataframe\">\n",
       "  <thead>\n",
       "    <tr style=\"text-align: right;\">\n",
       "      <th></th>\n",
       "      <th>Id</th>\n",
       "      <th>PID</th>\n",
       "      <th>MS SubClass</th>\n",
       "      <th>MS Zoning</th>\n",
       "      <th>Lot Frontage</th>\n",
       "      <th>Lot Area</th>\n",
       "      <th>Street</th>\n",
       "      <th>Alley</th>\n",
       "      <th>Lot Shape</th>\n",
       "      <th>Land Contour</th>\n",
       "      <th>...</th>\n",
       "      <th>3Ssn Porch</th>\n",
       "      <th>Screen Porch</th>\n",
       "      <th>Pool Area</th>\n",
       "      <th>Pool QC</th>\n",
       "      <th>Fence</th>\n",
       "      <th>Misc Feature</th>\n",
       "      <th>Misc Val</th>\n",
       "      <th>Mo Sold</th>\n",
       "      <th>Yr Sold</th>\n",
       "      <th>Sale Type</th>\n",
       "    </tr>\n",
       "  </thead>\n",
       "  <tbody>\n",
       "    <tr>\n",
       "      <td>0</td>\n",
       "      <td>2658</td>\n",
       "      <td>902301120</td>\n",
       "      <td>190</td>\n",
       "      <td>RM</td>\n",
       "      <td>69.0</td>\n",
       "      <td>9142</td>\n",
       "      <td>Pave</td>\n",
       "      <td>Grvl</td>\n",
       "      <td>Reg</td>\n",
       "      <td>Lvl</td>\n",
       "      <td>...</td>\n",
       "      <td>0</td>\n",
       "      <td>0</td>\n",
       "      <td>0</td>\n",
       "      <td>NaN</td>\n",
       "      <td>NaN</td>\n",
       "      <td>NaN</td>\n",
       "      <td>0</td>\n",
       "      <td>4</td>\n",
       "      <td>2006</td>\n",
       "      <td>WD</td>\n",
       "    </tr>\n",
       "    <tr>\n",
       "      <td>1</td>\n",
       "      <td>2718</td>\n",
       "      <td>905108090</td>\n",
       "      <td>90</td>\n",
       "      <td>RL</td>\n",
       "      <td>NaN</td>\n",
       "      <td>9662</td>\n",
       "      <td>Pave</td>\n",
       "      <td>NaN</td>\n",
       "      <td>IR1</td>\n",
       "      <td>Lvl</td>\n",
       "      <td>...</td>\n",
       "      <td>0</td>\n",
       "      <td>0</td>\n",
       "      <td>0</td>\n",
       "      <td>NaN</td>\n",
       "      <td>NaN</td>\n",
       "      <td>NaN</td>\n",
       "      <td>0</td>\n",
       "      <td>8</td>\n",
       "      <td>2006</td>\n",
       "      <td>WD</td>\n",
       "    </tr>\n",
       "    <tr>\n",
       "      <td>2</td>\n",
       "      <td>2414</td>\n",
       "      <td>528218130</td>\n",
       "      <td>60</td>\n",
       "      <td>RL</td>\n",
       "      <td>58.0</td>\n",
       "      <td>17104</td>\n",
       "      <td>Pave</td>\n",
       "      <td>NaN</td>\n",
       "      <td>IR1</td>\n",
       "      <td>Lvl</td>\n",
       "      <td>...</td>\n",
       "      <td>0</td>\n",
       "      <td>0</td>\n",
       "      <td>0</td>\n",
       "      <td>NaN</td>\n",
       "      <td>NaN</td>\n",
       "      <td>NaN</td>\n",
       "      <td>0</td>\n",
       "      <td>9</td>\n",
       "      <td>2006</td>\n",
       "      <td>New</td>\n",
       "    </tr>\n",
       "    <tr>\n",
       "      <td>3</td>\n",
       "      <td>1989</td>\n",
       "      <td>902207150</td>\n",
       "      <td>30</td>\n",
       "      <td>RM</td>\n",
       "      <td>60.0</td>\n",
       "      <td>8520</td>\n",
       "      <td>Pave</td>\n",
       "      <td>NaN</td>\n",
       "      <td>Reg</td>\n",
       "      <td>Lvl</td>\n",
       "      <td>...</td>\n",
       "      <td>0</td>\n",
       "      <td>0</td>\n",
       "      <td>0</td>\n",
       "      <td>NaN</td>\n",
       "      <td>NaN</td>\n",
       "      <td>NaN</td>\n",
       "      <td>0</td>\n",
       "      <td>7</td>\n",
       "      <td>2007</td>\n",
       "      <td>WD</td>\n",
       "    </tr>\n",
       "    <tr>\n",
       "      <td>4</td>\n",
       "      <td>625</td>\n",
       "      <td>535105100</td>\n",
       "      <td>20</td>\n",
       "      <td>RL</td>\n",
       "      <td>NaN</td>\n",
       "      <td>9500</td>\n",
       "      <td>Pave</td>\n",
       "      <td>NaN</td>\n",
       "      <td>IR1</td>\n",
       "      <td>Lvl</td>\n",
       "      <td>...</td>\n",
       "      <td>0</td>\n",
       "      <td>185</td>\n",
       "      <td>0</td>\n",
       "      <td>NaN</td>\n",
       "      <td>NaN</td>\n",
       "      <td>NaN</td>\n",
       "      <td>0</td>\n",
       "      <td>7</td>\n",
       "      <td>2009</td>\n",
       "      <td>WD</td>\n",
       "    </tr>\n",
       "  </tbody>\n",
       "</table>\n",
       "<p>5 rows × 80 columns</p>\n",
       "</div>"
      ],
      "text/plain": [
       "     Id        PID  MS SubClass MS Zoning  Lot Frontage  Lot Area Street  \\\n",
       "0  2658  902301120          190        RM          69.0      9142   Pave   \n",
       "1  2718  905108090           90        RL           NaN      9662   Pave   \n",
       "2  2414  528218130           60        RL          58.0     17104   Pave   \n",
       "3  1989  902207150           30        RM          60.0      8520   Pave   \n",
       "4   625  535105100           20        RL           NaN      9500   Pave   \n",
       "\n",
       "  Alley Lot Shape Land Contour  ... 3Ssn Porch Screen Porch Pool Area Pool QC  \\\n",
       "0  Grvl       Reg          Lvl  ...          0            0         0     NaN   \n",
       "1   NaN       IR1          Lvl  ...          0            0         0     NaN   \n",
       "2   NaN       IR1          Lvl  ...          0            0         0     NaN   \n",
       "3   NaN       Reg          Lvl  ...          0            0         0     NaN   \n",
       "4   NaN       IR1          Lvl  ...          0          185         0     NaN   \n",
       "\n",
       "  Fence Misc Feature Misc Val Mo Sold  Yr Sold  Sale Type  \n",
       "0   NaN          NaN        0       4     2006        WD   \n",
       "1   NaN          NaN        0       8     2006        WD   \n",
       "2   NaN          NaN        0       9     2006        New  \n",
       "3   NaN          NaN        0       7     2007        WD   \n",
       "4   NaN          NaN        0       7     2009        WD   \n",
       "\n",
       "[5 rows x 80 columns]"
      ]
     },
     "execution_count": 56,
     "metadata": {},
     "output_type": "execute_result"
    }
   ],
   "source": [
    "df_test.head()"
   ]
  },
  {
   "cell_type": "code",
   "execution_count": 57,
   "metadata": {},
   "outputs": [
    {
     "data": {
      "text/plain": [
       "(879, 80)"
      ]
     },
     "execution_count": 57,
     "metadata": {},
     "output_type": "execute_result"
    }
   ],
   "source": [
    "df_test.shape"
   ]
  },
  {
   "cell_type": "markdown",
   "metadata": {},
   "source": [
    "### Formating column heads to be lowercase and no whitespaces"
   ]
  },
  {
   "cell_type": "code",
   "execution_count": 58,
   "metadata": {},
   "outputs": [],
   "source": [
    "df_test.columns = map(str.lower, df_test.columns)"
   ]
  },
  {
   "cell_type": "code",
   "execution_count": 59,
   "metadata": {},
   "outputs": [],
   "source": [
    "df_test.columns = [i.replace(\" \",\"_\") for i in list(df_test.columns)]"
   ]
  },
  {
   "cell_type": "markdown",
   "metadata": {},
   "source": [
    "### Drop irrelevant features"
   ]
  },
  {
   "cell_type": "code",
   "execution_count": 60,
   "metadata": {},
   "outputs": [],
   "source": [
    "df_test = df_test.drop(['id', 'pid', 'misc_feature'], axis = 1)"
   ]
  },
  {
   "cell_type": "markdown",
   "metadata": {},
   "source": [
    "### Fill NaN"
   ]
  },
  {
   "cell_type": "markdown",
   "metadata": {},
   "source": [
    "Fill relevant cont null values with 0:\n",
    "'lot_frontage', 'mas_vnr_area', 'garage_cars', 'garage_area', 'bsmtfin_sf_1', 'bsmtfin_sf_2', 'bsmt_unf_sf', 'total_bsmt_sf'"
   ]
  },
  {
   "cell_type": "code",
   "execution_count": 61,
   "metadata": {},
   "outputs": [],
   "source": [
    "fill_con_cols = ['lot_frontage', 'mas_vnr_area', 'garage_cars', 'garage_area', 'bsmtfin_sf_1',\n",
    "                 'bsmtfin_sf_2', 'bsmt_unf_sf', 'total_bsmt_sf']\n",
    "df_test[fill_con_cols] = df_test[fill_con_cols].fillna(0)"
   ]
  },
  {
   "cell_type": "markdown",
   "metadata": {},
   "source": [
    "Fill relavant cat null values with none:\n",
    "'garage_qual', 'garage_cond', 'garagetype', 'garagefinish', 'fireplacequ', 'bsmt_qual', 'bsmt_cond', 'bsmt_exposure', 'bsmtfin_type_1', 'bsmtfin_type_2', 'alley', 'fence', 'pool_qc', 'mas_vnr_type'"
   ]
  },
  {
   "cell_type": "code",
   "execution_count": 62,
   "metadata": {},
   "outputs": [],
   "source": [
    "fill_cat_cols = ['garage_qual', 'garage_cond', 'garage_type', 'garage_finish', 'fireplace_qu',\n",
    "                 'bsmt_qual', 'bsmt_cond', 'bsmt_exposure', 'bsmtfin_type_1', 'bsmtfin_type_2',\n",
    "                 'alley', 'fence', 'pool_qc', 'mas_vnr_type', 'electrical']\n",
    "df_test[fill_cat_cols] = df_test[fill_cat_cols].fillna('none')"
   ]
  },
  {
   "cell_type": "markdown",
   "metadata": {},
   "source": [
    "### Drop NaN"
   ]
  },
  {
   "cell_type": "markdown",
   "metadata": {},
   "source": [
    "Drop remaining null values:\n",
    "'garageyrblt', 'mas_vnr_type', 'bsmt_full_bath', 'bsmt_half_bath'"
   ]
  },
  {
   "cell_type": "code",
   "execution_count": 63,
   "metadata": {},
   "outputs": [],
   "source": [
    "df_test = df_test.drop(['garage_yr_blt', 'mas_vnr_type', 'bsmt_full_bath', 'bsmt_half_bath'], axis = 1)"
   ]
  },
  {
   "cell_type": "code",
   "execution_count": 64,
   "metadata": {},
   "outputs": [
    {
     "data": {
      "text/plain": [
       "(879, 73)"
      ]
     },
     "execution_count": 64,
     "metadata": {},
     "output_type": "execute_result"
    }
   ],
   "source": [
    "df_test.shape"
   ]
  },
  {
   "cell_type": "code",
   "execution_count": 65,
   "metadata": {},
   "outputs": [
    {
     "data": {
      "text/plain": [
       "0"
      ]
     },
     "execution_count": 65,
     "metadata": {},
     "output_type": "execute_result"
    }
   ],
   "source": [
    "pd.set_option('display.max_rows', 500)\n",
    "df_test.isna().sum().sum()"
   ]
  },
  {
   "cell_type": "markdown",
   "metadata": {},
   "source": [
    "## Dummying categorical columns"
   ]
  },
  {
   "cell_type": "code",
   "execution_count": 66,
   "metadata": {},
   "outputs": [],
   "source": [
    "#ms_zoning = pd.get_dummies(df_train.ms_zoning)\n",
    "#street = pd.get_dummies(df_train.street)"
   ]
  },
  {
   "cell_type": "code",
   "execution_count": null,
   "metadata": {},
   "outputs": [],
   "source": [
    "### You could have just concaternated the two datasets to each other, performed the \n",
    "### pd.get_dummies operation then split them up once you're done.\n",
    "### since you're forcing drop_first, this is doubly important.\n",
    "###\n",
    "### (all categories)  init_col  |                         is_b  | is_c |\n",
    "###                      a      |                          0    |  0   |\n",
    "###                      b      |     -- get_dummies-->    1    |  0   |\n",
    "###                      c      |                          0    |  1   |\n",
    "###                      a      |                          0    |  0   |\n",
    "###\n",
    "### (missing one)     init_col  |                         is_c  |                           is_b  | is_c |\n",
    "###                      b      |                          0    |                            0    |  0   |\n",
    "###                      b      |     -- get_dummies-->    0    |    ---adding missing -->   0    |  0   |  which is wrong\n",
    "###                      c      |                          1    |                            0    |  1   |\n",
    "###                      c      |                          1    |                            0    |  1   |\n",
    "###\n",
    "### eg if your columns are (a, b ,c) for categories in train, you'd get is_b and is_c for columns in the get_dummies\n",
    "### if you force drop_fist. But if you only have (b ,c) for categories in test, you'd get is_c for the column in the \n",
    "### dummied set, then adding back is_b would be wrong as it would suggest that there are no bs."
   ]
  },
  {
   "cell_type": "code",
   "execution_count": 67,
   "metadata": {},
   "outputs": [],
   "source": [
    "def dummy_conv(data):\n",
    "    names=data.select_dtypes(exclude=['number']).columns\n",
    "    return pd.get_dummies(data[names], drop_first=True)"
   ]
  },
  {
   "cell_type": "code",
   "execution_count": 68,
   "metadata": {},
   "outputs": [],
   "source": [
    "df_test_dum = pd.get_dummies(df_test, drop_first=True)"
   ]
  },
  {
   "cell_type": "code",
   "execution_count": 69,
   "metadata": {},
   "outputs": [
    {
     "data": {
      "text/plain": [
       "(879, 234)"
      ]
     },
     "execution_count": 69,
     "metadata": {},
     "output_type": "execute_result"
    }
   ],
   "source": [
    "df_test_dum.shape"
   ]
  },
  {
   "cell_type": "markdown",
   "metadata": {},
   "source": [
    "### Removing 0 coef features"
   ]
  },
  {
   "cell_type": "code",
   "execution_count": 75,
   "metadata": {},
   "outputs": [],
   "source": [
    "### Could just perform a filtering here instead of manually typing out the variable names\n",
    "### \n",
    "col_diff = ['condition_2_RRAe', 'pool_qc_Fa', 'bsmt_cond_Po', 'functional_Sal', 'heating_OthW', 'roof_matl_CompShg', 'neighborhood_GrnHill', 'bsmt_cond_Fa', 'utilities_NoSeWa', 'exterior_2nd_Stone', 'functional_Sev', 'ms_zoning_C (all)', 'garage_qual_Fa', 'roof_matl_Membran', 'pool_qc_Gd']\n",
    "X_test_ss_new = X_test_ss.drop(col_diff, axis = 1)\n",
    "X_train_ss_new = X_train_ss.drop(col_diff, axis = 1)"
   ]
  },
  {
   "cell_type": "code",
   "execution_count": 76,
   "metadata": {
    "scrolled": false
   },
   "outputs": [],
   "source": [
    "df_test_new = df_test_dum[X_test_ss_new.columns]"
   ]
  },
  {
   "cell_type": "code",
   "execution_count": 77,
   "metadata": {},
   "outputs": [
    {
     "name": "stdout",
     "output_type": "stream",
     "text": [
      "<class 'pandas.core.frame.DataFrame'>\n",
      "RangeIndex: 879 entries, 0 to 878\n",
      "Columns: 137 entries, overall_qual to sale_type_Oth\n",
      "dtypes: int64(4), uint8(133)\n",
      "memory usage: 141.8 KB\n"
     ]
    }
   ],
   "source": [
    "df_test_new.info()"
   ]
  },
  {
   "cell_type": "code",
   "execution_count": 78,
   "metadata": {},
   "outputs": [
    {
     "name": "stdout",
     "output_type": "stream",
     "text": [
      "<class 'pandas.core.frame.DataFrame'>\n",
      "RangeIndex: 616 entries, 0 to 615\n",
      "Columns: 137 entries, overall_qual to sale_type_Oth\n",
      "dtypes: float64(137)\n",
      "memory usage: 659.4 KB\n"
     ]
    }
   ],
   "source": [
    "X_test_ss_new.info()"
   ]
  },
  {
   "cell_type": "markdown",
   "metadata": {},
   "source": [
    "## Standard Scaler"
   ]
  },
  {
   "cell_type": "code",
   "execution_count": 79,
   "metadata": {},
   "outputs": [],
   "source": [
    "from sklearn.preprocessing import StandardScaler\n",
    "\n",
    "ss = StandardScaler()\n",
    "df_test_ss = ss.fit_transform(df_test_new)"
   ]
  },
  {
   "cell_type": "code",
   "execution_count": 80,
   "metadata": {},
   "outputs": [],
   "source": [
    "df_test_ss = pd.DataFrame(df_test_ss, columns = df_test_new.columns)"
   ]
  },
  {
   "cell_type": "markdown",
   "metadata": {},
   "source": [
    "### RFE"
   ]
  },
  {
   "cell_type": "code",
   "execution_count": 81,
   "metadata": {},
   "outputs": [
    {
     "data": {
      "text/plain": [
       "array([ True, False,  True,  True, False, False, False, False, False,\n",
       "       False, False, False, False, False, False, False, False, False,\n",
       "       False, False, False, False, False, False, False, False, False,\n",
       "       False, False, False, False, False, False, False, False, False,\n",
       "       False, False, False, False, False, False, False, False, False,\n",
       "       False, False, False, False, False, False, False, False, False,\n",
       "       False, False, False, False, False, False, False, False, False,\n",
       "       False, False, False, False, False, False, False, False, False,\n",
       "       False, False, False, False, False, False, False, False, False,\n",
       "       False, False, False, False, False,  True,  True,  True,  True,\n",
       "       False, False, False, False, False, False, False, False, False,\n",
       "       False, False, False, False, False, False, False, False, False,\n",
       "        True,  True,  True, False, False, False, False, False, False,\n",
       "       False, False, False, False, False, False, False, False, False,\n",
       "       False, False, False, False, False, False, False, False, False,\n",
       "       False, False])"
      ]
     },
     "execution_count": 81,
     "metadata": {},
     "output_type": "execute_result"
    }
   ],
   "source": [
    "lm = LinearRegression()\n",
    "rfe = RFE(lm, 10)            ### Some justification necessary as to why only 10 were selected.\n",
    "selector = rfe.fit(X_train_ss_new, y_train)\n",
    "selector.support_"
   ]
  },
  {
   "cell_type": "code",
   "execution_count": 82,
   "metadata": {},
   "outputs": [
    {
     "data": {
      "text/plain": [
       "array([  1,   7,   1,   1, 123, 117,  98,  13,  99,  29,  63,  30,  35,\n",
       "        97,  34,  33,  93,  67,  45,  18,  21,  65, 128,  41,  95, 126,\n",
       "       109,  69, 102,   5,   4,  20, 125, 118,  25,   8,  87,  47,  37,\n",
       "        39,  40,  96,  66, 124, 121, 127,  60,  83,  54,  17,   9, 107,\n",
       "         3, 111, 106,  56,  90,  57, 122,  52,  48, 110, 120,  70,  28,\n",
       "        11,  31,  81,  24,  44, 115,  26, 104,  32,  53, 100,  75,  94,\n",
       "        19,  15,  14,  88, 114,  78,  64,  91,   1,   1,   1,   1, 112,\n",
       "        16,   2,  59,  58,  73,  50,  68,  42,  49,  10,  22,  85,  76,\n",
       "        38,  36,  74,  89,   1,   1,   1, 108,  46,  23,  82,  72,  61,\n",
       "         6,  51,  86,  55, 101, 116,  43,  79,  84,  71,  92,  62, 113,\n",
       "       103,  77,  27, 105, 119,  12,  80])"
      ]
     },
     "execution_count": 82,
     "metadata": {},
     "output_type": "execute_result"
    }
   ],
   "source": [
    "selector.ranking_"
   ]
  },
  {
   "cell_type": "code",
   "execution_count": 83,
   "metadata": {},
   "outputs": [],
   "source": [
    "final_rfe = X_train_ss_new.columns[selector.support_]"
   ]
  },
  {
   "cell_type": "code",
   "execution_count": 84,
   "metadata": {},
   "outputs": [],
   "source": [
    "final_x_train_rfe = X_train_ss_new[final_rfe]\n",
    "final_df_test_rfe = df_test_ss[final_rfe]"
   ]
  },
  {
   "cell_type": "code",
   "execution_count": 96,
   "metadata": {},
   "outputs": [
    {
     "data": {
      "text/plain": [
       "Index(['overall_qual', 'gr_liv_area', 'garage_area', 'bsmt_qual_Fa',\n",
       "       'bsmt_qual_Gd', 'bsmt_qual_TA', 'bsmt_qual_none', 'kitchen_qual_Fa',\n",
       "       'kitchen_qual_Gd', 'kitchen_qual_TA'],\n",
       "      dtype='object')"
      ]
     },
     "execution_count": 96,
     "metadata": {},
     "output_type": "execute_result"
    }
   ],
   "source": [
    "final_df_test_rfe.columns"
   ]
  },
  {
   "cell_type": "markdown",
   "metadata": {},
   "source": [
    "### Retraining the model with new features"
   ]
  },
  {
   "cell_type": "code",
   "execution_count": 86,
   "metadata": {},
   "outputs": [],
   "source": [
    "lm = LinearRegression()"
   ]
  },
  {
   "cell_type": "code",
   "execution_count": 87,
   "metadata": {
    "scrolled": true
   },
   "outputs": [
    {
     "data": {
      "text/plain": [
       "LinearRegression(copy_X=True, fit_intercept=True, n_jobs=None, normalize=False)"
      ]
     },
     "execution_count": 87,
     "metadata": {},
     "output_type": "execute_result"
    }
   ],
   "source": [
    "lm.fit(final_x_train_rfe, y_train)"
   ]
  },
  {
   "cell_type": "code",
   "execution_count": 88,
   "metadata": {},
   "outputs": [],
   "source": [
    "lm_yhat = lm.predict(final_df_test_rfe)"
   ]
  },
  {
   "cell_type": "code",
   "execution_count": 89,
   "metadata": {},
   "outputs": [
    {
     "data": {
      "text/plain": [
       "array([167050.91151368, 182201.16230218, 200780.02562918, 120931.32607221,\n",
       "       171075.46283715,  98586.70423717,  99875.8234857 , 148370.24306331,\n",
       "       217640.30423409, 150023.44212155, 175914.37967063, 131379.36381531,\n",
       "       152780.28650437, 304477.1145357 , 159669.86336318, 116337.78423549,\n",
       "       176700.69733091, 117372.92471408, 167510.13825761, 213513.88654605,\n",
       "       126784.42479165, 130881.88056494, 195377.08422839, 141684.47645379,\n",
       "       197689.43376042, 109335.73749044, 130181.41867665, 187465.50988154,\n",
       "       154958.14655293,  48098.79407211, 111393.08821531, 117770.37146618,\n",
       "       259401.59053981, 155219.22659657, 210932.65029325, 200782.61949118,\n",
       "       114969.88627561,  97349.4039416 , 128692.6342186 , 206307.28734754,\n",
       "       178701.17299405, 217330.80396769, 157993.18580438, 126520.68506425,\n",
       "       205864.81283555,  92881.55980325, 223195.67408312, 110600.12540426,\n",
       "       109844.11042348, 114182.05081173, 114466.27586449, 238774.76158962,\n",
       "       247095.30389413, 140828.62453897, 119116.97378759, 151522.22446485,\n",
       "       175894.79509171, 136841.45052041, 164824.32001851, 239588.62731382,\n",
       "       267600.11917723, 123569.58197799, 119571.24020612, 196269.57891197,\n",
       "       192014.8122655 , 263003.49788676,  72610.03068121, 187794.76706597,\n",
       "        66512.17009488, 156894.20938862,  89898.74434259, 355194.59484289,\n",
       "       167811.16364966, 198418.15342637, 130117.31527915, 182912.2685754 ,\n",
       "       491992.1448084 , 139078.04189458, 135169.87393102,  99615.57795455,\n",
       "       350824.65529336, 204963.45794182, 151467.61332462, 142956.51729239,\n",
       "       140587.31167886, 202307.58911851, 377782.03582691, 117320.71877326,\n",
       "       166911.54425332, 216994.71080851, 164873.14940096, 123899.853651  ,\n",
       "       106718.75832263, 149422.22498646, 208726.61274134, 119179.58505831,\n",
       "       159551.1852405 , 148461.06777725, 231112.94577925, 203209.5775368 ,\n",
       "       230129.52564973, 279423.68490446, 175136.67060168, 106807.05130843,\n",
       "       394591.21965043, 140795.60675492, 103383.39587074, 184131.46971103,\n",
       "       201104.67432512, 182642.0206067 , 113236.51085583, 159607.16244682,\n",
       "       242249.13998222, 109057.18599103, 114819.97564562, 205686.23683168,\n",
       "       402250.71490749, 194875.16630608, 132594.77341248, 350023.00867241,\n",
       "       177332.17368724, 390749.10723659, 297229.65311226, 289497.62066888,\n",
       "       167101.2487573 , 154785.64069918, 384410.36756577, 105706.91339368,\n",
       "       122914.44330216, 124188.09839561, 266870.82551289, 131002.35394876,\n",
       "       178871.52254994, 140618.90168045, 148689.19585858, 173344.83459238,\n",
       "       206963.29860296, 205632.10043529, 193351.49337217, 187794.76706597,\n",
       "       116274.52229672, 179710.9059931 , 125834.21087118, 143376.52875963,\n",
       "       159404.48863279,  93581.96340435, 157772.57350078, 176260.24292013,\n",
       "       158801.45995656,  76935.74315509, 217421.34407782, 218004.63418518,\n",
       "       170425.16296459, 119825.57584444, 107208.50814346, 113904.87480348,\n",
       "       113879.66872492,  82370.39655478, 140680.69052642, 291607.75133297,\n",
       "       276448.72482717, 188787.4151219 , 117000.1796524 , 112127.80818351,\n",
       "       401569.34640004, 321604.29825155, 238916.09378974, 176834.58488674,\n",
       "       186763.18096044, 241586.98238137, 201147.58296684, 479624.22502172,\n",
       "       135779.51158055, 148345.83558562, 192454.75244165, 216458.79437188,\n",
       "       181053.58787721, 141932.78862254, 167860.02291399,  98586.70423717,\n",
       "       123514.8718208 , 122829.39910616, 196433.42022655, 220053.9736932 ,\n",
       "       201406.98703926, 167198.96681077, 138204.33918406, 199013.83908297,\n",
       "       218344.95597177, 116895.82753452,  82283.06228171, 199648.1372171 ,\n",
       "       121031.53267514, 120249.5652348 , 118957.0531479 , 181891.47313559,\n",
       "       148475.96100967, 258805.64992368, 128053.5854494 , 137128.29931706,\n",
       "       153811.58800608, 329954.42430298, 198627.18151914, 127865.2075207 ,\n",
       "       197725.29383283, 164789.59857158,  96833.24942254, 170599.72235235,\n",
       "       138663.15980205, 215329.97432806, 216212.30008334, 180850.84800384,\n",
       "       192646.58259697, 116258.93577598, 214314.11065049, 281267.5316588 ,\n",
       "       215368.3983806 , 206175.25481662, 157917.36905961, 101881.51675474,\n",
       "       126857.4115104 , 203480.77327817, 146562.03564669, 172155.01493213,\n",
       "       185458.40913183, 128183.87594975, 135208.59343613, 270430.67344901,\n",
       "       229234.65564861, 123844.00534353, 262403.19850455, 116503.50959336,\n",
       "        77030.47487163, 127345.13280193,  88984.67746846, 291693.74865416,\n",
       "       169459.86369166, 100790.26697939, 388686.50949914, 365560.84252982,\n",
       "       238472.71506757, 249626.0699411 , 164559.44385586, 308580.94656037,\n",
       "       280639.87721336, 356782.83867219, 248937.10090298, 127089.33183582,\n",
       "        96564.97452968, 185118.39553535, 343253.55627668, 226589.97461397,\n",
       "       149992.91942015, 241421.49497744, 236439.55402238, 189264.4525377 ,\n",
       "        83401.95277843,  84372.52288782, 384129.60895461, 219420.24302429,\n",
       "       204976.77185703, 194217.07807672, 151387.59807192, 135628.694549  ,\n",
       "       143554.32182955, 263882.5342678 , 172572.12458485, 124817.05002501,\n",
       "       212360.68456347, 155649.8383519 , 158268.2361613 , 194106.05140139,\n",
       "       214776.57363514, 198430.48660414, 318084.30447627, 105519.71334366,\n",
       "       136733.70593967, 156894.20938862, 174262.16787585, 113683.84563014,\n",
       "       116605.20747238, 251224.7193379 , 154198.97393375, 107895.95541052,\n",
       "       113222.69861049, 145607.96081509, 217870.42277234, 202010.7328277 ,\n",
       "       125993.46157124, 114950.20377451, 134849.6996354 , 103986.35848763,\n",
       "       161601.2397335 ,  98586.70423717, 101749.35172031, 145937.00492977,\n",
       "       156894.20938862, 215383.99143452, 236877.5042168 , 258716.88887342,\n",
       "       170682.04231007, 193353.03896712, 345693.63280413, 121658.65916152,\n",
       "       165332.6037811 ,  87864.82802142,  95300.16202685, 157829.21411353,\n",
       "       205735.69950109, 129609.00210986, 113514.67536739, 183221.8886069 ,\n",
       "       219551.86033753, 257878.65948505, 265557.72821932, 140173.74537498,\n",
       "       355015.29543122, 345591.33066934, 272269.66543639, 234110.3441497 ,\n",
       "       137398.52369947,  67680.08773279, 132130.76507048, 155258.65818553,\n",
       "       244360.62686588, 124648.75982353, 148693.65411682, 150678.93625131,\n",
       "       186808.14919416, 198668.7337037 , 138683.36705678, 159238.27853386,\n",
       "       192580.5489815 , 156104.13488991, 195776.22503446, 109637.80248385,\n",
       "       165764.02068882,  94627.85552589,  93204.58486587, 128595.19423577,\n",
       "       191054.19253994, 175271.93075677, 105675.52971995, 122558.14336344,\n",
       "       197521.29320593, 263977.23585657, 241391.45639121, 182983.32483859,\n",
       "       105514.011385  , 198375.1455301 , 127657.19681086, 164121.98720082,\n",
       "       153115.93456399, 135628.694549  , 269764.41365808, 121708.81535685,\n",
       "       270420.32812045, 183509.22757671, 211676.90324936, 252735.51213222,\n",
       "       116461.79862809, 149131.16635793, 129068.22180623, 184073.231822  ,\n",
       "       177767.53962857, 251088.33642815, 229028.09080398, 175325.44299991,\n",
       "       185101.13783415, 225788.32823062,  81289.04943625, 227395.77659638,\n",
       "       130983.09470429, 175420.83589068, 393282.52714692, 121546.04110485,\n",
       "       286623.36545011, 172022.6347203 , 268159.85336706, 204528.7052521 ,\n",
       "       140029.34693997, 171324.52134341, 182628.47729826, 353920.37512237,\n",
       "       358146.9350964 , 221763.86854741, 177152.2645749 , 183513.39691554,\n",
       "       182066.30467296, 120582.07517799, 131202.68862271, 117031.425524  ,\n",
       "       313837.43490247, 176011.71262588, 148037.29441584, 207321.98323054,\n",
       "        70858.1701398 , 177962.80105028, 170228.90774624, 135716.90030983,\n",
       "       128356.78683234, 217794.39709201, 219796.90876086, 119903.02735461,\n",
       "       295275.6922954 , 139104.30773875, 113129.5048746 , 148928.5220503 ,\n",
       "       225272.74747236, 293512.82300363, 140676.08617213, 114080.60922463,\n",
       "       146792.12454066, 250724.33740163, 136801.55195976, 249444.29643253,\n",
       "       278021.46548577, 124044.08529554, 244458.01982249, 105519.71334366,\n",
       "       155986.78358012, 228614.20901302, 114395.82324399, 264022.1905881 ,\n",
       "       135003.05995181, 226301.07607184, 382115.02707099, 209323.59532894,\n",
       "       216623.61813176, 145075.54959807, 256637.43254404, 120013.19906902,\n",
       "       130992.89639151, 137169.0088039 , 205321.3032379 , 119435.45379164,\n",
       "       319644.69770129, 198162.64014697, 172918.05844686, 187397.29043198,\n",
       "       152557.75198626, 212882.05668842, 122006.76253413, 120909.71396623,\n",
       "       165131.63534499, 162751.48658062, 195951.22031351,  63747.29640532,\n",
       "        93993.75519524, 261537.06992107, 177580.08915052, 204106.05895462,\n",
       "       249590.15034253, 198312.53425937, 186903.77653391, 213873.9218104 ,\n",
       "       238317.24051034, 202304.39137622, 112694.63327045, 239309.85868439,\n",
       "       115455.3385644 , 175167.50297063, 114849.42625608, 151767.49119506,\n",
       "       474027.77773198, 111656.50260825, 220545.80556206, 217363.3467703 ,\n",
       "       236682.67175255, 130121.92900476, 102343.97802435, 146641.72727997,\n",
       "       230593.38481994, 184133.43004848, 105722.56621136, 250082.23717092,\n",
       "       228124.7755728 , 115597.45109078, 147106.26865214, 119874.88934206,\n",
       "       175110.832476  ,  81328.56224802, 243893.42125678, 149090.85067849,\n",
       "       202817.34839059, 271591.16684446, 139012.44057815, 156894.20938862,\n",
       "       174360.00521923, 186443.06642859, 152144.82033807, 176771.90324109,\n",
       "       214981.84131117, 187423.21844089, 214922.19185632, 368979.39028021,\n",
       "       195772.11593457, 111400.59462172, 121812.59347632, 165477.31016949,\n",
       "       115592.92639771, 181721.37200606, 237006.45705551, 185678.69586338,\n",
       "       177771.79961529, 202774.28096815, 108428.53146625, 269436.93763522,\n",
       "       120298.48402529, 140711.90045816, 270572.636566  , 114523.28215318,\n",
       "       149145.33320652, 135339.85577063, 124580.99071067,  37604.58019683,\n",
       "       160707.33024344, 136713.69388071, 209492.39976506, 330545.9185837 ,\n",
       "       257753.94668426, 109810.24080799, 150191.52338748, 146249.97163776,\n",
       "       115988.62151033, 211430.55813262, 400064.34521001, 201398.51192732,\n",
       "       115563.64210253, 142835.33495334,  34676.67469519, 140804.74479811,\n",
       "       190381.62984677, 142058.60809211, 200067.59230547, 172300.22618384,\n",
       "       171976.1905019 ,  82370.39655478, 219123.30338343, 152253.26299791,\n",
       "       182450.60566905, 138683.94057999,  88736.40189615,  93246.78255402,\n",
       "       190341.07378812, 229499.91085148, 324559.41366001, 234750.27486982,\n",
       "       117658.86167793, 127354.27060753, 289474.61085419, 142182.88915648,\n",
       "       251722.77658667,  89157.91757791, 172521.24569451, 246822.02652372,\n",
       "        88376.14179175, 111603.81231467, 173303.12362711, 133417.69629621,\n",
       "       165672.92533009, 108840.45339495, 201802.5030982 , 177303.20719195,\n",
       "       133136.95619726, 153323.57126197, 123858.07662639, 127658.25953048,\n",
       "       201511.18998533, 148419.93033519, 149784.39423807, 162225.47084817,\n",
       "       120132.83770275,  91504.94853989, 140406.77509995, 160346.92096723,\n",
       "       119244.78995345, 166188.80154093, 156894.20938862, 214145.21728151,\n",
       "       129591.58391292, 197606.0373433 , 129117.17024101, 250320.10741332,\n",
       "        98228.57210507, 143383.01341465, 147004.62968619, 148097.28170508,\n",
       "       114230.64175224, 278549.77451272, 210252.2457751 , 148498.79830387,\n",
       "       100471.40359216, 126911.64692374, 129722.02406026, 350352.17207701,\n",
       "       230965.17731819, 123477.41847214, 133642.5858589 , 130563.01717771,\n",
       "       347450.01766312, 125859.85403868, 226699.39516594, 129507.243854  ,\n",
       "       181531.85616467, 213534.35307589,  97588.95786526, 126040.87449517,\n",
       "       103378.79151645, 174345.01580799, 120403.52905599, 152804.04471604,\n",
       "       349781.42892995, 205011.02003755, 119974.38991827, 157573.73047841,\n",
       "        37004.311072  , 192572.10375144, 259719.49001229,  77538.0527454 ,\n",
       "       182630.12315001, 201448.60835889, 133430.08195234, 146364.69920367,\n",
       "       107925.40602098, 161973.48983211, 166133.98294171, 207090.05376424,\n",
       "       123899.98254984, 309348.08981903, 144884.25442553, 171586.68459173,\n",
       "       204896.66695869, 108541.93221927,  67683.46328978, 162017.48041129,\n",
       "       185724.29785926, 190539.33542707, 156905.75139138, 121610.52330498,\n",
       "       170351.33378571, 349594.13699503, 119148.15989544, 230309.70189739,\n",
       "       237208.56795749, 156133.82887098,  78828.58697588, 257899.19695157,\n",
       "       200731.77024513, 158268.2361613 , 182115.83956035, 129792.2973895 ,\n",
       "       120491.25675964, 112928.12799158, 153831.91431313,  59427.68197409,\n",
       "       166322.62785556, 219252.76563864, 169312.87792696, 232712.98199028,\n",
       "       177623.52629091, 158811.11223439, 188976.6810595 , 171463.51179576,\n",
       "       225248.93426603, 393128.68247775, 240557.75132042, 178669.76710189,\n",
       "       177157.07349629, 137052.5693269 , 264514.83456001, 221310.23541584,\n",
       "       279484.57689445, 217139.8025327 , 139440.67896857, 107729.11154943,\n",
       "       126420.22373939, 140847.75316957,  98586.70423717, 152538.55535084,\n",
       "       105832.01640762, 289595.49035565, 196650.86490734, 178441.38382343,\n",
       "       243117.13925751, 201519.69474155, 163475.24336261, 200344.57988873,\n",
       "       354671.23226102, 121834.67118527, 199419.28596557,  74092.53629118,\n",
       "       123162.71887447, 243856.0533315 , 129531.05226956, 200063.76127622,\n",
       "       174869.64520139, 263087.31253812, 356602.27268658, 103307.74923063,\n",
       "       228780.44875624, 156894.20938862, 137464.01822679, 175874.17144244,\n",
       "       132103.23070061, 243705.76673588, 259523.94851826, 158644.93177974,\n",
       "       120063.32679692, 116691.52893951, 342528.12376106, 212343.01164458,\n",
       "        97386.34405259, 119935.57015722, 116007.56147834, 131340.05828704,\n",
       "       188622.43110386, 254903.81915751, 230494.51900727, 174436.56369213,\n",
       "       216271.40394423, 201565.98955056, 292004.10985203, 126952.49952439,\n",
       "       122615.50714639, 269825.18610519, 176109.15260871, 176071.92475519,\n",
       "       112322.67052963, 248127.64281413,  90683.56074237, 216849.78587565,\n",
       "       184104.30329503, 254158.93243923, 154241.18261607, 182895.99813766,\n",
       "       151295.99066162, 165136.29509459, 156222.72312935, 129372.04975825,\n",
       "       121332.87255288, 206593.44285586, 172620.7653047 , 137628.80101844,\n",
       "       123129.70132801, 168915.66080568, 158773.66654918, 199965.53859703,\n",
       "       202740.19133075, 132817.14000899, 306660.19195256, 256597.53274441,\n",
       "       136520.91139955, 169465.71482212, 166699.92711669, 116943.27034033,\n",
       "       191172.16187043, 389602.76415847, 146994.99611731, 153724.99845273,\n",
       "       217153.49477535, 128382.0254462 , 236946.60014254, 120492.04930251,\n",
       "       184072.43019445, 173022.53009225, 294411.58381312, 190321.89050868,\n",
       "       196634.92748584, 267561.75512605, 171726.36327666, 210066.13661155,\n",
       "       181954.70495489, 145374.01148518, 189343.16001064, 123407.38196199,\n",
       "       148562.23176176, 219226.58796354, 126881.7575093 , 129208.94775597,\n",
       "       161453.75294774, 185724.29785926, 384316.02630827, 113774.77272812,\n",
       "       121756.84566324, 105420.12459839, 145027.67349183, 248937.10090298,\n",
       "       153027.67383018, 283283.23119752, 154541.67066237, 193090.82225063,\n",
       "       234246.33660872, 174700.23736018, 271927.71399934, 157830.9794928 ,\n",
       "       217134.58468922, 188225.87691384, 213390.97350039, 218552.69798229,\n",
       "       222001.10526524, 125859.8241568 , 128363.14524195, 169266.58264276,\n",
       "       115405.48104996, 246063.05485735, 121190.73014462, 113901.77631575,\n",
       "       197070.37346388, 145669.90867937, 124758.23990166, 117272.58291673,\n",
       "       280300.51940072, 152615.40298073, 125415.47895301, 198312.53425937,\n",
       "       242879.05809325, 182016.35612762,  87953.43791358, 101359.11179204,\n",
       "       168547.4101797 , 171278.80005761, 112401.47849697, 299528.066868  ,\n",
       "       150706.86594139, 198983.83037861, 208523.93916491, 385335.27639072,\n",
       "       128863.45851833, 174478.40355624, 132510.02466905, 184495.16589997,\n",
       "       144098.61436116, 278075.9644835 , 217904.29215024, 134867.43208045,\n",
       "       116155.46537142, 249886.0776562 , 176068.17871647, 124780.93546826,\n",
       "       112146.0548632 , 200575.83486224, 208924.06918706, 211019.99289868,\n",
       "       128083.88331074, 180447.18240501, 167739.88254642, 225018.8094322 ,\n",
       "       227989.81134548, 138530.1257927 , 161431.94994323, 198797.99440836,\n",
       "       151744.02690948, 136146.59086104, 140623.14139421, 176063.88868482,\n",
       "       100721.48796   , 206535.69373711, 107169.55153594, 212150.13951778,\n",
       "        88084.16503485, 351541.61293463, 153104.64074999, 135222.5642246 ,\n",
       "       156615.42701941, 170557.67355269, 217362.68336386, 219784.40130672,\n",
       "       234118.09585385, 189707.43043557, 141438.82486296, 213765.07525683,\n",
       "       304802.77200791, 203106.00811529, 175817.1050017 , 193916.18811669,\n",
       "       122108.43114436, 102798.09527109, 114034.72067946])"
      ]
     },
     "execution_count": 89,
     "metadata": {},
     "output_type": "execute_result"
    }
   ],
   "source": [
    "lm_yhat"
   ]
  },
  {
   "cell_type": "markdown",
   "metadata": {},
   "source": [
    "### Creating CSV for Submission"
   ]
  },
  {
   "cell_type": "code",
   "execution_count": 90,
   "metadata": {},
   "outputs": [],
   "source": [
    "df_test_2 = pd.read_csv('./datasets/test.csv')"
   ]
  },
  {
   "cell_type": "code",
   "execution_count": 91,
   "metadata": {},
   "outputs": [],
   "source": [
    "results = pd.DataFrame(df_test_2.Id)"
   ]
  },
  {
   "cell_type": "code",
   "execution_count": 92,
   "metadata": {},
   "outputs": [],
   "source": [
    "#results = pd.DataFrame()"
   ]
  },
  {
   "cell_type": "code",
   "execution_count": 93,
   "metadata": {},
   "outputs": [],
   "source": [
    "results['SalePrice'] = lm_yhat"
   ]
  },
  {
   "cell_type": "code",
   "execution_count": 94,
   "metadata": {},
   "outputs": [],
   "source": [
    "results.to_csv('./datasets/p2_results.csv', index=False)"
   ]
  }
 ],
 "metadata": {
  "kernelspec": {
   "display_name": "Python 3",
   "language": "python",
   "name": "python3"
  },
  "language_info": {
   "codemirror_mode": {
    "name": "ipython",
    "version": 3
   },
   "file_extension": ".py",
   "mimetype": "text/x-python",
   "name": "python",
   "nbconvert_exporter": "python",
   "pygments_lexer": "ipython3",
   "version": "3.7.5"
  }
 },
 "nbformat": 4,
 "nbformat_minor": 2
}

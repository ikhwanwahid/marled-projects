{
 "cells": [
  {
   "cell_type": "markdown",
   "metadata": {},
   "source": [
    "# Project 2"
   ]
  },
  {
   "cell_type": "markdown",
   "metadata": {},
   "source": [
    "## To build an effective price predicting model in order to provide reliable and accurate insights into the house prices of Aimes, Iowa.\n"
   ]
  },
  {
   "cell_type": "markdown",
   "metadata": {},
   "source": [
    "###### With the given data on the past housing together with the saleprice, a model is to be created to best predict the saleprice with the inputs of a new housing data. As potential homebuyers who are interested in houses of Aimes, Iowa, they would like to find out the estimated price for a certain type of conditions for their house. This model that is to be created will be very helpful to aid them in finding the house that is within their budget."
   ]
  },
  {
   "cell_type": "markdown",
   "metadata": {},
   "source": [
    "Import all necessary libraries needed for this project"
   ]
  },
  {
   "cell_type": "code",
   "execution_count": 2,
   "metadata": {},
   "outputs": [],
   "source": [
    "import pandas as pd\n",
    "import numpy as np\n",
    "import matplotlib.pyplot as plt\n",
    "import seaborn as sns\n",
    "import statsmodels.api as sm\n",
    "from IPython.display import display                ### Try to avoid importing libraries if you don't use them\n",
    "from sklearn.metrics import mean_squared_error\n",
    "from cycler import cycler                          ### same here\n",
    "from ipywidgets import interact\n",
    "from scipy import stats\n",
    "from sklearn.model_selection import train_test_split, cross_val_score\n",
    "from sklearn.linear_model import LinearRegression, Lasso, Ridge, RidgeCV, LassoCV\n",
    "from sklearn.preprocessing import StandardScaler, LabelEncoder, OneHotEncoder\n",
    "\n",
    "%matplotlib inline"
   ]
  },
  {
   "cell_type": "markdown",
   "metadata": {},
   "source": [
    "## Executive Summary"
   ]
  },
  {
   "cell_type": "markdown",
   "metadata": {},
   "source": [
    "### Contents:\n",
    "- [Data import and Cleaning for the train set](#Data-import-and-Cleaning-for-the-train-set)\n",
    "- [Exploratory Data Analysis for the train set](#Exploratory-Data-Analysis-for-the-train-set)\n",
    "- [Data Visualization for the train set](#Data-Visualization-for-the-train-set)\n",
    "- [Inferential Statistics for the train set](#Inferential-Statistics-for-the-train-set)\n",
    "- [Train-Test-Split for the training model with Linear, Lasso and Ridge Regression](#Train-Test-Split-for-the-training-model-with-Linear,-Lasso-and-Ridge-Regression)\n",
    "- [Data import and Cleaning for the test set](#Data-import-and-Cleaning-for-the-test-set)\n",
    "- [Exploratory Data Analysis for the test set](#Exploratory-Data-Analysis-for-the-test-set)\n",
    "- [Transform the input and predict the SalePrice](#Transform-the-input-and-predict-the-SalePrice)\n",
    "- [Conclusion](#Conclusion)"
   ]
  },
  {
   "cell_type": "markdown",
   "metadata": {},
   "source": [
    "# Data import and Cleaning for the train set"
   ]
  },
  {
   "cell_type": "markdown",
   "metadata": {},
   "source": [
    "###### 1. Read in the `train.csv` files and assign to appropriately named pandas dataframes."
   ]
  },
  {
   "cell_type": "code",
   "execution_count": 3,
   "metadata": {
    "scrolled": false
   },
   "outputs": [
    {
     "data": {
      "text/html": [
       "<div>\n",
       "<style scoped>\n",
       "    .dataframe tbody tr th:only-of-type {\n",
       "        vertical-align: middle;\n",
       "    }\n",
       "\n",
       "    .dataframe tbody tr th {\n",
       "        vertical-align: top;\n",
       "    }\n",
       "\n",
       "    .dataframe thead th {\n",
       "        text-align: right;\n",
       "    }\n",
       "</style>\n",
       "<table border=\"1\" class=\"dataframe\">\n",
       "  <thead>\n",
       "    <tr style=\"text-align: right;\">\n",
       "      <th></th>\n",
       "      <th>Id</th>\n",
       "      <th>PID</th>\n",
       "      <th>MS SubClass</th>\n",
       "      <th>MS Zoning</th>\n",
       "      <th>Lot Frontage</th>\n",
       "      <th>Lot Area</th>\n",
       "      <th>Street</th>\n",
       "      <th>Alley</th>\n",
       "      <th>Lot Shape</th>\n",
       "      <th>Land Contour</th>\n",
       "      <th>...</th>\n",
       "      <th>Screen Porch</th>\n",
       "      <th>Pool Area</th>\n",
       "      <th>Pool QC</th>\n",
       "      <th>Fence</th>\n",
       "      <th>Misc Feature</th>\n",
       "      <th>Misc Val</th>\n",
       "      <th>Mo Sold</th>\n",
       "      <th>Yr Sold</th>\n",
       "      <th>Sale Type</th>\n",
       "      <th>SalePrice</th>\n",
       "    </tr>\n",
       "  </thead>\n",
       "  <tbody>\n",
       "    <tr>\n",
       "      <th>0</th>\n",
       "      <td>109</td>\n",
       "      <td>533352170</td>\n",
       "      <td>60</td>\n",
       "      <td>RL</td>\n",
       "      <td>NaN</td>\n",
       "      <td>13517</td>\n",
       "      <td>Pave</td>\n",
       "      <td>NaN</td>\n",
       "      <td>IR1</td>\n",
       "      <td>Lvl</td>\n",
       "      <td>...</td>\n",
       "      <td>0</td>\n",
       "      <td>0</td>\n",
       "      <td>NaN</td>\n",
       "      <td>NaN</td>\n",
       "      <td>NaN</td>\n",
       "      <td>0</td>\n",
       "      <td>3</td>\n",
       "      <td>2010</td>\n",
       "      <td>WD</td>\n",
       "      <td>130500</td>\n",
       "    </tr>\n",
       "    <tr>\n",
       "      <th>1</th>\n",
       "      <td>544</td>\n",
       "      <td>531379050</td>\n",
       "      <td>60</td>\n",
       "      <td>RL</td>\n",
       "      <td>43.0</td>\n",
       "      <td>11492</td>\n",
       "      <td>Pave</td>\n",
       "      <td>NaN</td>\n",
       "      <td>IR1</td>\n",
       "      <td>Lvl</td>\n",
       "      <td>...</td>\n",
       "      <td>0</td>\n",
       "      <td>0</td>\n",
       "      <td>NaN</td>\n",
       "      <td>NaN</td>\n",
       "      <td>NaN</td>\n",
       "      <td>0</td>\n",
       "      <td>4</td>\n",
       "      <td>2009</td>\n",
       "      <td>WD</td>\n",
       "      <td>220000</td>\n",
       "    </tr>\n",
       "    <tr>\n",
       "      <th>2</th>\n",
       "      <td>153</td>\n",
       "      <td>535304180</td>\n",
       "      <td>20</td>\n",
       "      <td>RL</td>\n",
       "      <td>68.0</td>\n",
       "      <td>7922</td>\n",
       "      <td>Pave</td>\n",
       "      <td>NaN</td>\n",
       "      <td>Reg</td>\n",
       "      <td>Lvl</td>\n",
       "      <td>...</td>\n",
       "      <td>0</td>\n",
       "      <td>0</td>\n",
       "      <td>NaN</td>\n",
       "      <td>NaN</td>\n",
       "      <td>NaN</td>\n",
       "      <td>0</td>\n",
       "      <td>1</td>\n",
       "      <td>2010</td>\n",
       "      <td>WD</td>\n",
       "      <td>109000</td>\n",
       "    </tr>\n",
       "    <tr>\n",
       "      <th>3</th>\n",
       "      <td>318</td>\n",
       "      <td>916386060</td>\n",
       "      <td>60</td>\n",
       "      <td>RL</td>\n",
       "      <td>73.0</td>\n",
       "      <td>9802</td>\n",
       "      <td>Pave</td>\n",
       "      <td>NaN</td>\n",
       "      <td>Reg</td>\n",
       "      <td>Lvl</td>\n",
       "      <td>...</td>\n",
       "      <td>0</td>\n",
       "      <td>0</td>\n",
       "      <td>NaN</td>\n",
       "      <td>NaN</td>\n",
       "      <td>NaN</td>\n",
       "      <td>0</td>\n",
       "      <td>4</td>\n",
       "      <td>2010</td>\n",
       "      <td>WD</td>\n",
       "      <td>174000</td>\n",
       "    </tr>\n",
       "    <tr>\n",
       "      <th>4</th>\n",
       "      <td>255</td>\n",
       "      <td>906425045</td>\n",
       "      <td>50</td>\n",
       "      <td>RL</td>\n",
       "      <td>82.0</td>\n",
       "      <td>14235</td>\n",
       "      <td>Pave</td>\n",
       "      <td>NaN</td>\n",
       "      <td>IR1</td>\n",
       "      <td>Lvl</td>\n",
       "      <td>...</td>\n",
       "      <td>0</td>\n",
       "      <td>0</td>\n",
       "      <td>NaN</td>\n",
       "      <td>NaN</td>\n",
       "      <td>NaN</td>\n",
       "      <td>0</td>\n",
       "      <td>3</td>\n",
       "      <td>2010</td>\n",
       "      <td>WD</td>\n",
       "      <td>138500</td>\n",
       "    </tr>\n",
       "  </tbody>\n",
       "</table>\n",
       "<p>5 rows × 81 columns</p>\n",
       "</div>"
      ],
      "text/plain": [
       "    Id        PID  MS SubClass MS Zoning  Lot Frontage  Lot Area Street Alley  \\\n",
       "0  109  533352170           60        RL           NaN     13517   Pave   NaN   \n",
       "1  544  531379050           60        RL          43.0     11492   Pave   NaN   \n",
       "2  153  535304180           20        RL          68.0      7922   Pave   NaN   \n",
       "3  318  916386060           60        RL          73.0      9802   Pave   NaN   \n",
       "4  255  906425045           50        RL          82.0     14235   Pave   NaN   \n",
       "\n",
       "  Lot Shape Land Contour  ... Screen Porch Pool Area Pool QC Fence  \\\n",
       "0       IR1          Lvl  ...            0         0     NaN   NaN   \n",
       "1       IR1          Lvl  ...            0         0     NaN   NaN   \n",
       "2       Reg          Lvl  ...            0         0     NaN   NaN   \n",
       "3       Reg          Lvl  ...            0         0     NaN   NaN   \n",
       "4       IR1          Lvl  ...            0         0     NaN   NaN   \n",
       "\n",
       "  Misc Feature Misc Val Mo Sold Yr Sold  Sale Type  SalePrice  \n",
       "0          NaN        0       3    2010        WD      130500  \n",
       "1          NaN        0       4    2009        WD      220000  \n",
       "2          NaN        0       1    2010        WD      109000  \n",
       "3          NaN        0       4    2010        WD      174000  \n",
       "4          NaN        0       3    2010        WD      138500  \n",
       "\n",
       "[5 rows x 81 columns]"
      ]
     },
     "execution_count": 3,
     "metadata": {},
     "output_type": "execute_result"
    }
   ],
   "source": [
    "pd1 = pd.read_csv('../datasets/train.csv')\n",
    "pd1.head()"
   ]
  },
  {
   "cell_type": "code",
   "execution_count": 4,
   "metadata": {},
   "outputs": [
    {
     "data": {
      "text/plain": [
       "(2051, 81)"
      ]
     },
     "execution_count": 4,
     "metadata": {},
     "output_type": "execute_result"
    }
   ],
   "source": [
    "pd1.shape"
   ]
  },
  {
   "cell_type": "markdown",
   "metadata": {},
   "source": [
    "###### 2. Convert column names to `lowercase` and replace spaces with `_` "
   ]
  },
  {
   "cell_type": "code",
   "execution_count": 8,
   "metadata": {
    "scrolled": false
   },
   "outputs": [
    {
     "data": {
      "text/html": [
       "<div>\n",
       "<style scoped>\n",
       "    .dataframe tbody tr th:only-of-type {\n",
       "        vertical-align: middle;\n",
       "    }\n",
       "\n",
       "    .dataframe tbody tr th {\n",
       "        vertical-align: top;\n",
       "    }\n",
       "\n",
       "    .dataframe thead th {\n",
       "        text-align: right;\n",
       "    }\n",
       "</style>\n",
       "<table border=\"1\" class=\"dataframe\">\n",
       "  <thead>\n",
       "    <tr style=\"text-align: right;\">\n",
       "      <th></th>\n",
       "      <th>id</th>\n",
       "      <th>pid</th>\n",
       "      <th>ms_subclass</th>\n",
       "      <th>ms_zoning</th>\n",
       "      <th>lot_frontage</th>\n",
       "      <th>lot_area</th>\n",
       "      <th>street</th>\n",
       "      <th>alley</th>\n",
       "      <th>lot_shape</th>\n",
       "      <th>land_contour</th>\n",
       "      <th>...</th>\n",
       "      <th>screen_porch</th>\n",
       "      <th>pool_area</th>\n",
       "      <th>pool_qc</th>\n",
       "      <th>fence</th>\n",
       "      <th>misc_feature</th>\n",
       "      <th>misc_val</th>\n",
       "      <th>mo_sold</th>\n",
       "      <th>yr_sold</th>\n",
       "      <th>sale_type</th>\n",
       "      <th>saleprice</th>\n",
       "    </tr>\n",
       "  </thead>\n",
       "  <tbody>\n",
       "    <tr>\n",
       "      <th>0</th>\n",
       "      <td>109</td>\n",
       "      <td>533352170</td>\n",
       "      <td>60</td>\n",
       "      <td>RL</td>\n",
       "      <td>NaN</td>\n",
       "      <td>13517</td>\n",
       "      <td>Pave</td>\n",
       "      <td>NaN</td>\n",
       "      <td>IR1</td>\n",
       "      <td>Lvl</td>\n",
       "      <td>...</td>\n",
       "      <td>0</td>\n",
       "      <td>0</td>\n",
       "      <td>NaN</td>\n",
       "      <td>NaN</td>\n",
       "      <td>NaN</td>\n",
       "      <td>0</td>\n",
       "      <td>3</td>\n",
       "      <td>2010</td>\n",
       "      <td>WD</td>\n",
       "      <td>130500</td>\n",
       "    </tr>\n",
       "    <tr>\n",
       "      <th>1</th>\n",
       "      <td>544</td>\n",
       "      <td>531379050</td>\n",
       "      <td>60</td>\n",
       "      <td>RL</td>\n",
       "      <td>43.0</td>\n",
       "      <td>11492</td>\n",
       "      <td>Pave</td>\n",
       "      <td>NaN</td>\n",
       "      <td>IR1</td>\n",
       "      <td>Lvl</td>\n",
       "      <td>...</td>\n",
       "      <td>0</td>\n",
       "      <td>0</td>\n",
       "      <td>NaN</td>\n",
       "      <td>NaN</td>\n",
       "      <td>NaN</td>\n",
       "      <td>0</td>\n",
       "      <td>4</td>\n",
       "      <td>2009</td>\n",
       "      <td>WD</td>\n",
       "      <td>220000</td>\n",
       "    </tr>\n",
       "    <tr>\n",
       "      <th>2</th>\n",
       "      <td>153</td>\n",
       "      <td>535304180</td>\n",
       "      <td>20</td>\n",
       "      <td>RL</td>\n",
       "      <td>68.0</td>\n",
       "      <td>7922</td>\n",
       "      <td>Pave</td>\n",
       "      <td>NaN</td>\n",
       "      <td>Reg</td>\n",
       "      <td>Lvl</td>\n",
       "      <td>...</td>\n",
       "      <td>0</td>\n",
       "      <td>0</td>\n",
       "      <td>NaN</td>\n",
       "      <td>NaN</td>\n",
       "      <td>NaN</td>\n",
       "      <td>0</td>\n",
       "      <td>1</td>\n",
       "      <td>2010</td>\n",
       "      <td>WD</td>\n",
       "      <td>109000</td>\n",
       "    </tr>\n",
       "    <tr>\n",
       "      <th>3</th>\n",
       "      <td>318</td>\n",
       "      <td>916386060</td>\n",
       "      <td>60</td>\n",
       "      <td>RL</td>\n",
       "      <td>73.0</td>\n",
       "      <td>9802</td>\n",
       "      <td>Pave</td>\n",
       "      <td>NaN</td>\n",
       "      <td>Reg</td>\n",
       "      <td>Lvl</td>\n",
       "      <td>...</td>\n",
       "      <td>0</td>\n",
       "      <td>0</td>\n",
       "      <td>NaN</td>\n",
       "      <td>NaN</td>\n",
       "      <td>NaN</td>\n",
       "      <td>0</td>\n",
       "      <td>4</td>\n",
       "      <td>2010</td>\n",
       "      <td>WD</td>\n",
       "      <td>174000</td>\n",
       "    </tr>\n",
       "    <tr>\n",
       "      <th>4</th>\n",
       "      <td>255</td>\n",
       "      <td>906425045</td>\n",
       "      <td>50</td>\n",
       "      <td>RL</td>\n",
       "      <td>82.0</td>\n",
       "      <td>14235</td>\n",
       "      <td>Pave</td>\n",
       "      <td>NaN</td>\n",
       "      <td>IR1</td>\n",
       "      <td>Lvl</td>\n",
       "      <td>...</td>\n",
       "      <td>0</td>\n",
       "      <td>0</td>\n",
       "      <td>NaN</td>\n",
       "      <td>NaN</td>\n",
       "      <td>NaN</td>\n",
       "      <td>0</td>\n",
       "      <td>3</td>\n",
       "      <td>2010</td>\n",
       "      <td>WD</td>\n",
       "      <td>138500</td>\n",
       "    </tr>\n",
       "    <tr>\n",
       "      <th>...</th>\n",
       "      <td>...</td>\n",
       "      <td>...</td>\n",
       "      <td>...</td>\n",
       "      <td>...</td>\n",
       "      <td>...</td>\n",
       "      <td>...</td>\n",
       "      <td>...</td>\n",
       "      <td>...</td>\n",
       "      <td>...</td>\n",
       "      <td>...</td>\n",
       "      <td>...</td>\n",
       "      <td>...</td>\n",
       "      <td>...</td>\n",
       "      <td>...</td>\n",
       "      <td>...</td>\n",
       "      <td>...</td>\n",
       "      <td>...</td>\n",
       "      <td>...</td>\n",
       "      <td>...</td>\n",
       "      <td>...</td>\n",
       "      <td>...</td>\n",
       "    </tr>\n",
       "    <tr>\n",
       "      <th>2046</th>\n",
       "      <td>1587</td>\n",
       "      <td>921126030</td>\n",
       "      <td>20</td>\n",
       "      <td>RL</td>\n",
       "      <td>79.0</td>\n",
       "      <td>11449</td>\n",
       "      <td>Pave</td>\n",
       "      <td>NaN</td>\n",
       "      <td>IR1</td>\n",
       "      <td>HLS</td>\n",
       "      <td>...</td>\n",
       "      <td>0</td>\n",
       "      <td>0</td>\n",
       "      <td>NaN</td>\n",
       "      <td>NaN</td>\n",
       "      <td>NaN</td>\n",
       "      <td>0</td>\n",
       "      <td>1</td>\n",
       "      <td>2008</td>\n",
       "      <td>WD</td>\n",
       "      <td>298751</td>\n",
       "    </tr>\n",
       "    <tr>\n",
       "      <th>2047</th>\n",
       "      <td>785</td>\n",
       "      <td>905377130</td>\n",
       "      <td>30</td>\n",
       "      <td>RL</td>\n",
       "      <td>NaN</td>\n",
       "      <td>12342</td>\n",
       "      <td>Pave</td>\n",
       "      <td>NaN</td>\n",
       "      <td>IR1</td>\n",
       "      <td>Lvl</td>\n",
       "      <td>...</td>\n",
       "      <td>0</td>\n",
       "      <td>0</td>\n",
       "      <td>NaN</td>\n",
       "      <td>NaN</td>\n",
       "      <td>NaN</td>\n",
       "      <td>0</td>\n",
       "      <td>3</td>\n",
       "      <td>2009</td>\n",
       "      <td>WD</td>\n",
       "      <td>82500</td>\n",
       "    </tr>\n",
       "    <tr>\n",
       "      <th>2048</th>\n",
       "      <td>916</td>\n",
       "      <td>909253010</td>\n",
       "      <td>50</td>\n",
       "      <td>RL</td>\n",
       "      <td>57.0</td>\n",
       "      <td>7558</td>\n",
       "      <td>Pave</td>\n",
       "      <td>NaN</td>\n",
       "      <td>Reg</td>\n",
       "      <td>Bnk</td>\n",
       "      <td>...</td>\n",
       "      <td>0</td>\n",
       "      <td>0</td>\n",
       "      <td>NaN</td>\n",
       "      <td>NaN</td>\n",
       "      <td>NaN</td>\n",
       "      <td>0</td>\n",
       "      <td>3</td>\n",
       "      <td>2009</td>\n",
       "      <td>WD</td>\n",
       "      <td>177000</td>\n",
       "    </tr>\n",
       "    <tr>\n",
       "      <th>2049</th>\n",
       "      <td>639</td>\n",
       "      <td>535179160</td>\n",
       "      <td>20</td>\n",
       "      <td>RL</td>\n",
       "      <td>80.0</td>\n",
       "      <td>10400</td>\n",
       "      <td>Pave</td>\n",
       "      <td>NaN</td>\n",
       "      <td>Reg</td>\n",
       "      <td>Lvl</td>\n",
       "      <td>...</td>\n",
       "      <td>0</td>\n",
       "      <td>0</td>\n",
       "      <td>NaN</td>\n",
       "      <td>NaN</td>\n",
       "      <td>NaN</td>\n",
       "      <td>0</td>\n",
       "      <td>11</td>\n",
       "      <td>2009</td>\n",
       "      <td>WD</td>\n",
       "      <td>144000</td>\n",
       "    </tr>\n",
       "    <tr>\n",
       "      <th>2050</th>\n",
       "      <td>10</td>\n",
       "      <td>527162130</td>\n",
       "      <td>60</td>\n",
       "      <td>RL</td>\n",
       "      <td>60.0</td>\n",
       "      <td>7500</td>\n",
       "      <td>Pave</td>\n",
       "      <td>NaN</td>\n",
       "      <td>Reg</td>\n",
       "      <td>Lvl</td>\n",
       "      <td>...</td>\n",
       "      <td>0</td>\n",
       "      <td>0</td>\n",
       "      <td>NaN</td>\n",
       "      <td>NaN</td>\n",
       "      <td>NaN</td>\n",
       "      <td>0</td>\n",
       "      <td>6</td>\n",
       "      <td>2010</td>\n",
       "      <td>WD</td>\n",
       "      <td>189000</td>\n",
       "    </tr>\n",
       "  </tbody>\n",
       "</table>\n",
       "<p>2051 rows × 81 columns</p>\n",
       "</div>"
      ],
      "text/plain": [
       "        id        pid  ms_subclass ms_zoning  lot_frontage  lot_area street  \\\n",
       "0      109  533352170           60        RL           NaN     13517   Pave   \n",
       "1      544  531379050           60        RL          43.0     11492   Pave   \n",
       "2      153  535304180           20        RL          68.0      7922   Pave   \n",
       "3      318  916386060           60        RL          73.0      9802   Pave   \n",
       "4      255  906425045           50        RL          82.0     14235   Pave   \n",
       "...    ...        ...          ...       ...           ...       ...    ...   \n",
       "2046  1587  921126030           20        RL          79.0     11449   Pave   \n",
       "2047   785  905377130           30        RL           NaN     12342   Pave   \n",
       "2048   916  909253010           50        RL          57.0      7558   Pave   \n",
       "2049   639  535179160           20        RL          80.0     10400   Pave   \n",
       "2050    10  527162130           60        RL          60.0      7500   Pave   \n",
       "\n",
       "     alley lot_shape land_contour  ... screen_porch pool_area pool_qc fence  \\\n",
       "0      NaN       IR1          Lvl  ...            0         0     NaN   NaN   \n",
       "1      NaN       IR1          Lvl  ...            0         0     NaN   NaN   \n",
       "2      NaN       Reg          Lvl  ...            0         0     NaN   NaN   \n",
       "3      NaN       Reg          Lvl  ...            0         0     NaN   NaN   \n",
       "4      NaN       IR1          Lvl  ...            0         0     NaN   NaN   \n",
       "...    ...       ...          ...  ...          ...       ...     ...   ...   \n",
       "2046   NaN       IR1          HLS  ...            0         0     NaN   NaN   \n",
       "2047   NaN       IR1          Lvl  ...            0         0     NaN   NaN   \n",
       "2048   NaN       Reg          Bnk  ...            0         0     NaN   NaN   \n",
       "2049   NaN       Reg          Lvl  ...            0         0     NaN   NaN   \n",
       "2050   NaN       Reg          Lvl  ...            0         0     NaN   NaN   \n",
       "\n",
       "     misc_feature misc_val mo_sold yr_sold  sale_type  saleprice  \n",
       "0             NaN        0       3    2010        WD      130500  \n",
       "1             NaN        0       4    2009        WD      220000  \n",
       "2             NaN        0       1    2010        WD      109000  \n",
       "3             NaN        0       4    2010        WD      174000  \n",
       "4             NaN        0       3    2010        WD      138500  \n",
       "...           ...      ...     ...     ...        ...        ...  \n",
       "2046          NaN        0       1    2008        WD      298751  \n",
       "2047          NaN        0       3    2009        WD       82500  \n",
       "2048          NaN        0       3    2009        WD      177000  \n",
       "2049          NaN        0      11    2009        WD      144000  \n",
       "2050          NaN        0       6    2010        WD      189000  \n",
       "\n",
       "[2051 rows x 81 columns]"
      ]
     },
     "execution_count": 8,
     "metadata": {},
     "output_type": "execute_result"
    }
   ],
   "source": [
    "pd1.columns = [p.lower().replace(' ','_') for p in pd1.columns]    ### Good\n",
    "pd1                                                                ### Printing pd1.head here would have been better"
   ]
  },
  {
   "cell_type": "markdown",
   "metadata": {},
   "source": [
    "###### 3. Check for nulls and columns' type"
   ]
  },
  {
   "cell_type": "code",
   "execution_count": 6,
   "metadata": {},
   "outputs": [
    {
     "name": "stdout",
     "output_type": "stream",
     "text": [
      "<class 'pandas.core.frame.DataFrame'>\n",
      "RangeIndex: 2051 entries, 0 to 2050\n",
      "Data columns (total 81 columns):\n",
      "id                 2051 non-null int64\n",
      "pid                2051 non-null int64\n",
      "ms_subclass        2051 non-null int64\n",
      "ms_zoning          2051 non-null object\n",
      "lot_frontage       1721 non-null float64\n",
      "lot_area           2051 non-null int64\n",
      "street             2051 non-null object\n",
      "alley              140 non-null object\n",
      "lot_shape          2051 non-null object\n",
      "land_contour       2051 non-null object\n",
      "utilities          2051 non-null object\n",
      "lot_config         2051 non-null object\n",
      "land_slope         2051 non-null object\n",
      "neighborhood       2051 non-null object\n",
      "condition_1        2051 non-null object\n",
      "condition_2        2051 non-null object\n",
      "bldg_type          2051 non-null object\n",
      "house_style        2051 non-null object\n",
      "overall_qual       2051 non-null int64\n",
      "overall_cond       2051 non-null int64\n",
      "year_built         2051 non-null int64\n",
      "year_remod/add     2051 non-null int64\n",
      "roof_style         2051 non-null object\n",
      "roof_matl          2051 non-null object\n",
      "exterior_1st       2051 non-null object\n",
      "exterior_2nd       2051 non-null object\n",
      "mas_vnr_type       2029 non-null object\n",
      "mas_vnr_area       2029 non-null float64\n",
      "exter_qual         2051 non-null object\n",
      "exter_cond         2051 non-null object\n",
      "foundation         2051 non-null object\n",
      "bsmt_qual          1996 non-null object\n",
      "bsmt_cond          1996 non-null object\n",
      "bsmt_exposure      1993 non-null object\n",
      "bsmtfin_type_1     1996 non-null object\n",
      "bsmtfin_sf_1       2050 non-null float64\n",
      "bsmtfin_type_2     1995 non-null object\n",
      "bsmtfin_sf_2       2050 non-null float64\n",
      "bsmt_unf_sf        2050 non-null float64\n",
      "total_bsmt_sf      2050 non-null float64\n",
      "heating            2051 non-null object\n",
      "heating_qc         2051 non-null object\n",
      "central_air        2051 non-null object\n",
      "electrical         2051 non-null object\n",
      "1st_flr_sf         2051 non-null int64\n",
      "2nd_flr_sf         2051 non-null int64\n",
      "low_qual_fin_sf    2051 non-null int64\n",
      "gr_liv_area        2051 non-null int64\n",
      "bsmt_full_bath     2049 non-null float64\n",
      "bsmt_half_bath     2049 non-null float64\n",
      "full_bath          2051 non-null int64\n",
      "half_bath          2051 non-null int64\n",
      "bedroom_abvgr      2051 non-null int64\n",
      "kitchen_abvgr      2051 non-null int64\n",
      "kitchen_qual       2051 non-null object\n",
      "totrms_abvgrd      2051 non-null int64\n",
      "functional         2051 non-null object\n",
      "fireplaces         2051 non-null int64\n",
      "fireplace_qu       1051 non-null object\n",
      "garage_type        1938 non-null object\n",
      "garage_yr_blt      1937 non-null float64\n",
      "garage_finish      1937 non-null object\n",
      "garage_cars        2050 non-null float64\n",
      "garage_area        2050 non-null float64\n",
      "garage_qual        1937 non-null object\n",
      "garage_cond        1937 non-null object\n",
      "paved_drive        2051 non-null object\n",
      "wood_deck_sf       2051 non-null int64\n",
      "open_porch_sf      2051 non-null int64\n",
      "enclosed_porch     2051 non-null int64\n",
      "3ssn_porch         2051 non-null int64\n",
      "screen_porch       2051 non-null int64\n",
      "pool_area          2051 non-null int64\n",
      "pool_qc            9 non-null object\n",
      "fence              400 non-null object\n",
      "misc_feature       65 non-null object\n",
      "misc_val           2051 non-null int64\n",
      "mo_sold            2051 non-null int64\n",
      "yr_sold            2051 non-null int64\n",
      "sale_type          2051 non-null object\n",
      "saleprice          2051 non-null int64\n",
      "dtypes: float64(11), int64(28), object(42)\n",
      "memory usage: 1.3+ MB\n"
     ]
    }
   ],
   "source": [
    "pd1.info()   "
   ]
  },
  {
   "cell_type": "markdown",
   "metadata": {},
   "source": [
    "###### 4. Summarize the nulls by `sum()` and `sort_values()`"
   ]
  },
  {
   "cell_type": "code",
   "execution_count": 9,
   "metadata": {
    "scrolled": false
   },
   "outputs": [
    {
     "data": {
      "text/plain": [
       "pool_qc           2042\n",
       "misc_feature      1986\n",
       "alley             1911\n",
       "fence             1651\n",
       "fireplace_qu      1000\n",
       "lot_frontage       330\n",
       "garage_finish      114\n",
       "garage_cond        114\n",
       "garage_qual        114\n",
       "garage_yr_blt      114\n",
       "garage_type        113\n",
       "bsmt_exposure       58\n",
       "bsmtfin_type_2      56\n",
       "bsmtfin_type_1      55\n",
       "bsmt_cond           55\n",
       "bsmt_qual           55\n",
       "mas_vnr_type        22\n",
       "mas_vnr_area        22\n",
       "bsmt_half_bath       2\n",
       "bsmt_full_bath       2\n",
       "garage_cars          1\n",
       "garage_area          1\n",
       "bsmt_unf_sf          1\n",
       "bsmtfin_sf_2         1\n",
       "total_bsmt_sf        1\n",
       "bsmtfin_sf_1         1\n",
       "overall_cond         0\n",
       "dtype: int64"
      ]
     },
     "execution_count": 9,
     "metadata": {},
     "output_type": "execute_result"
    }
   ],
   "source": [
    "pd1.isnull().sum().sort_values(ascending=False)[0:27]          ### Good"
   ]
  },
  {
   "cell_type": "markdown",
   "metadata": {},
   "source": [
    "## Exploratory Data Analysis for the train set"
   ]
  },
  {
   "cell_type": "markdown",
   "metadata": {},
   "source": [
    "###### 1. Assign `nominal`, `ordinal`, `discrete` and `continuous` variables to respective assignments to segregate them"
   ]
  },
  {
   "cell_type": "code",
   "execution_count": 10,
   "metadata": {},
   "outputs": [],
   "source": [
    "nominal = pd1[['ms_subclass','ms_zoning','street','land_contour','lot_config','neighborhood','condition_1','condition_2','bldg_type','house_style','roof_style','roof_matl','exterior_1st','exterior_2nd','mas_vnr_type','foundation','heating','central_air','garage_type','sale_type']]"
   ]
  },
  {
   "cell_type": "code",
   "execution_count": 11,
   "metadata": {},
   "outputs": [],
   "source": [
    "ordinal = pd1[['lot_shape','utilities','land_slope','overall_qual','overall_cond','exter_qual','exter_cond','bsmt_qual','bsmt_cond','bsmt_exposure','bsmtfin_type_1','bsmtfin_type_2','heating_qc','electrical','kitchen_qual','functional','fireplace_qu','garage_finish','garage_qual','garage_cond','paved_drive','pool_qc','fence']]"
   ]
  },
  {
   "cell_type": "code",
   "execution_count": 12,
   "metadata": {},
   "outputs": [],
   "source": [
    "discrete = pd1[['year_built','year_remod/add','bsmt_full_bath','bsmt_half_bath','full_bath','half_bath','bedroom_abvgr','kitchen_abvgr','totrms_abvgrd','fireplaces','garage_yr_blt','garage_cars','mo_sold','yr_sold']]"
   ]
  },
  {
   "cell_type": "code",
   "execution_count": 13,
   "metadata": {},
   "outputs": [],
   "source": [
    "continuous = pd1[['lot_frontage','lot_area','mas_vnr_area','bsmtfin_sf_1','bsmtfin_sf_2','bsmt_unf_sf','total_bsmt_sf','1st_flr_sf','2nd_flr_sf','low_qual_fin_sf','gr_liv_area','garage_area','wood_deck_sf','open_porch_sf','enclosed_porch','3ssn_porch','screen_porch','pool_area','misc_val','saleprice']]"
   ]
  },
  {
   "cell_type": "markdown",
   "metadata": {},
   "source": [
    "###### 2. `Drop` necessary columns based on own judgement"
   ]
  },
  {
   "cell_type": "code",
   "execution_count": 11,
   "metadata": {},
   "outputs": [],
   "source": [
    "pd1.drop('misc_feature',axis=1,inplace=True)            ### Some justification here would be good.\n",
    "pd1.drop('alley',axis=1,inplace=True)                   ### Explain why pool_qc is kept since it corresponds to something."
   ]
  },
  {
   "cell_type": "markdown",
   "metadata": {},
   "source": [
    "###### 3. Define `functions` to fill nulls and convert categorical variables into numeric using `pd.get_dummies()` and `LabelEncoder()`"
   ]
  },
  {
   "cell_type": "code",
   "execution_count": 14,
   "metadata": {},
   "outputs": [],
   "source": [
    "def fill_continuous(features):                          ### You might want to name the features something more descriptive\n",
    "    for f in features:                                  ### eg. cont_features so it's easier to tell at first glance what\n",
    "        mean = pd1[[f]].mean()                          ### the function is applied to. \n",
    "        pd1[[f]] = pd1[[f]].fillna(value=mean)          ### also, not the best idea to impute blindly. Some NA values \n",
    "                                                        ### might correspond to a (real) physical quantity. For example,\n",
    "                                                        ### an NA in the garage might mean that there is no garage -> should \n",
    "                                                        ### be imputed as a zero."
   ]
  },
  {
   "cell_type": "code",
   "execution_count": 15,
   "metadata": {},
   "outputs": [],
   "source": [
    "fill_continuous(continuous)"
   ]
  },
  {
   "cell_type": "code",
   "execution_count": 16,
   "metadata": {},
   "outputs": [],
   "source": [
    "def fill_ordinal(features):\n",
    "    le = LabelEncoder()\n",
    "    for f in features:\n",
    "        pd1[[f]] = pd1[[f]].fillna(value='na')         ### same comment as above, try to understand feature before blanket\n",
    "        pd1[[f]] = le.fit_transform(pd1[[f]])          ### imputation"
   ]
  },
  {
   "cell_type": "code",
   "execution_count": 17,
   "metadata": {
    "scrolled": true
   },
   "outputs": [
    {
     "name": "stderr",
     "output_type": "stream",
     "text": [
      "C:\\Users\\Jonathan\\Anaconda2\\envs\\py36\\lib\\site-packages\\sklearn\\preprocessing\\label.py:235: DataConversionWarning: A column-vector y was passed when a 1d array was expected. Please change the shape of y to (n_samples, ), for example using ravel().\n",
      "  y = column_or_1d(y, warn=True)\n"
     ]
    }
   ],
   "source": [
    "fill_ordinal(ordinal)"
   ]
  },
  {
   "cell_type": "code",
   "execution_count": 18,
   "metadata": {},
   "outputs": [],
   "source": [
    "def fill_nominal(features):\n",
    "    features['ms_subclass'] = features['ms_subclass'].astype(str)\n",
    "    for f in features:\n",
    "        pd1[[f]] = features[[f]].fillna(value='na')\n",
    "    df = pd.get_dummies(features)\n",
    "    return df"
   ]
  },
  {
   "cell_type": "code",
   "execution_count": 19,
   "metadata": {},
   "outputs": [
    {
     "name": "stderr",
     "output_type": "stream",
     "text": [
      "C:\\Users\\Jonathan\\Anaconda2\\envs\\py36\\lib\\site-packages\\ipykernel_launcher.py:2: SettingWithCopyWarning: \n",
      "A value is trying to be set on a copy of a slice from a DataFrame.\n",
      "Try using .loc[row_indexer,col_indexer] = value instead\n",
      "\n",
      "See the caveats in the documentation: http://pandas.pydata.org/pandas-docs/stable/user_guide/indexing.html#returning-a-view-versus-a-copy\n",
      "  \n"
     ]
    }
   ],
   "source": [
    "a = fill_nominal(nominal)"
   ]
  },
  {
   "cell_type": "code",
   "execution_count": 20,
   "metadata": {},
   "outputs": [],
   "source": [
    "df = pd1.join(a)"
   ]
  },
  {
   "cell_type": "code",
   "execution_count": 21,
   "metadata": {},
   "outputs": [],
   "source": [
    "df.dropna(subset=['garage_yr_blt','bsmt_full_bath','bsmt_half_bath','garage_cond'],inplace=True)"
   ]
  },
  {
   "cell_type": "markdown",
   "metadata": {},
   "source": [
    "## Data Visualization for the train set"
   ]
  },
  {
   "cell_type": "markdown",
   "metadata": {},
   "source": [
    "###### 1. Select strong correlation features and plot `sns.heatmap()` to look for correlation"
   ]
  },
  {
   "cell_type": "code",
   "execution_count": 23,
   "metadata": {},
   "outputs": [
    {
     "data": {
      "text/html": [
       "<div>\n",
       "<style scoped>\n",
       "    .dataframe tbody tr th:only-of-type {\n",
       "        vertical-align: middle;\n",
       "    }\n",
       "\n",
       "    .dataframe tbody tr th {\n",
       "        vertical-align: top;\n",
       "    }\n",
       "\n",
       "    .dataframe thead th {\n",
       "        text-align: right;\n",
       "    }\n",
       "</style>\n",
       "<table border=\"1\" class=\"dataframe\">\n",
       "  <thead>\n",
       "    <tr style=\"text-align: right;\">\n",
       "      <th></th>\n",
       "      <th>saleprice</th>\n",
       "    </tr>\n",
       "  </thead>\n",
       "  <tbody>\n",
       "    <tr>\n",
       "      <th>saleprice</th>\n",
       "      <td>1.000000</td>\n",
       "    </tr>\n",
       "    <tr>\n",
       "      <th>overall_qual</th>\n",
       "      <td>0.796473</td>\n",
       "    </tr>\n",
       "    <tr>\n",
       "      <th>gr_liv_area</th>\n",
       "      <td>0.701952</td>\n",
       "    </tr>\n",
       "    <tr>\n",
       "      <th>exter_qual</th>\n",
       "      <td>0.680732</td>\n",
       "    </tr>\n",
       "    <tr>\n",
       "      <th>kitchen_qual</th>\n",
       "      <td>0.658500</td>\n",
       "    </tr>\n",
       "    <tr>\n",
       "      <th>garage_cars</th>\n",
       "      <td>0.647190</td>\n",
       "    </tr>\n",
       "    <tr>\n",
       "      <th>garage_area</th>\n",
       "      <td>0.642711</td>\n",
       "    </tr>\n",
       "    <tr>\n",
       "      <th>bsmt_qual</th>\n",
       "      <td>0.630839</td>\n",
       "    </tr>\n",
       "    <tr>\n",
       "      <th>total_bsmt_sf</th>\n",
       "      <td>0.625107</td>\n",
       "    </tr>\n",
       "    <tr>\n",
       "      <th>1st_flr_sf</th>\n",
       "      <td>0.614998</td>\n",
       "    </tr>\n",
       "    <tr>\n",
       "      <th>year_built</th>\n",
       "      <td>0.560749</td>\n",
       "    </tr>\n",
       "  </tbody>\n",
       "</table>\n",
       "</div>"
      ],
      "text/plain": [
       "               saleprice\n",
       "saleprice       1.000000\n",
       "overall_qual    0.796473\n",
       "gr_liv_area     0.701952\n",
       "exter_qual      0.680732\n",
       "kitchen_qual    0.658500\n",
       "garage_cars     0.647190\n",
       "garage_area     0.642711\n",
       "bsmt_qual       0.630839\n",
       "total_bsmt_sf   0.625107\n",
       "1st_flr_sf      0.614998\n",
       "year_built      0.560749"
      ]
     },
     "execution_count": 23,
     "metadata": {},
     "output_type": "execute_result"
    }
   ],
   "source": [
    "df.corr()[['saleprice']].abs().sort_values(by='saleprice',ascending=False).head(11)  ### Good"
   ]
  },
  {
   "cell_type": "code",
   "execution_count": 24,
   "metadata": {},
   "outputs": [
    {
     "data": {
      "image/png": "[encoded data removed]",
      "text/plain": [
       "<Figure size 2700x1440 with 2 Axes>"
      ]
     },
     "metadata": {
      "needs_background": "light"
     },
     "output_type": "display_data"
    }
   ],
   "source": [
    "plt.figure(dpi=180,figsize=(15,8))      ### changing dpi here makes it look nicer\n",
    "sns.heatmap(df.corr()[['saleprice']].abs().sort_values(by='saleprice',ascending=False).head(11),cmap='coolwarm',annot=True);"
   ]
  },
  {
   "cell_type": "code",
   "execution_count": 27,
   "metadata": {
    "scrolled": false
   },
   "outputs": [],
   "source": [
    "corr = df[['overall_qual','gr_liv_area','exter_qual','kitchen_qual','garage_cars','garage_area','bsmt_qual','total_bsmt_sf','1st_flr_sf','year_built']]\n",
    "target = df[['saleprice']]\n",
    "hm_df = corr.join(target)"
   ]
  },
  {
   "cell_type": "code",
   "execution_count": 28,
   "metadata": {
    "scrolled": false
   },
   "outputs": [
    {
     "data": {
      "image/png": "[encoded data removed]",
      "text/plain": [
       "<Figure size 2700x1440 with 2 Axes>"
      ]
     },
     "metadata": {
      "needs_background": "light"
     },
     "output_type": "display_data"
    }
   ],
   "source": [
    "plt.figure(dpi=180,figsize=(15,8))\n",
    "sns.heatmap(hm_df.corr(),annot=True);"
   ]
  },
  {
   "cell_type": "markdown",
   "metadata": {},
   "source": [
    "###### 2. Identify and remove outliers using `Z-score` "
   ]
  },
  {
   "cell_type": "code",
   "execution_count": 39,
   "metadata": {},
   "outputs": [
    {
     "name": "stdout",
     "output_type": "stream",
     "text": [
      "[[0.14308535 0.07177376 0.69812697 ... 1.14848902 0.08772574 0.70243658]\n",
      " [0.57419485 1.23101963 0.69812697 ... 0.67044526 0.77206074 0.43212664]\n",
      " [0.86036556 0.92679525 0.69309413 ... 0.30428409 0.69925952 0.97498529]\n",
      " ...\n",
      " [0.14308535 0.80756112 0.69309413 ... 0.01186371 1.55467827 0.11297078]\n",
      " [1.57764577 0.63706048 0.69309413 ... 0.0593343  0.59660927 0.53130135]\n",
      " [0.57419485 0.58671434 0.69309413 ... 0.37802488 0.87471099 0.03914943]]\n"
     ]
    }
   ],
   "source": [
    "z = np.abs(stats.zscore(hm_df))\n",
    "print(z)"
   ]
  },
  {
   "cell_type": "code",
   "execution_count": 40,
   "metadata": {
    "scrolled": true
   },
   "outputs": [
    {
     "name": "stdout",
     "output_type": "stream",
     "text": [
      "(array([  12,   29,   29,   40,   40,   65,   77,   77,   77,   81,   94,\n",
      "         96,   97,  128,  128,  128,  140,  171,  177,  178,  182,  187,\n",
      "        187,  189,  218,  236,  264,  269,  272,  299,  311,  311,  311,\n",
      "        311,  315,  315,  315,  315,  319,  319,  337,  374,  378,  392,\n",
      "        409,  439,  454,  471,  482,  482,  490,  492,  499,  499,  502,\n",
      "        502,  525,  548,  579,  587,  588,  588,  588,  588,  600,  601,\n",
      "        644,  644,  647,  647,  647,  647,  664,  710,  737,  739,  739,\n",
      "        751,  751,  751,  772,  772,  772,  790,  824,  830,  858,  861,\n",
      "        870,  870,  879,  879,  885,  894,  901,  901,  901,  901,  901,\n",
      "        924,  924,  936,  954,  958,  971,  971,  992,  992,  994,  994,\n",
      "       1014, 1014, 1017, 1021, 1048, 1048, 1048, 1048, 1065, 1070, 1071,\n",
      "       1077, 1088, 1088, 1094, 1094, 1094, 1094, 1096, 1100, 1100, 1118,\n",
      "       1156, 1156, 1156, 1156, 1158, 1172, 1221, 1222, 1222, 1228, 1301,\n",
      "       1308, 1312, 1329, 1349, 1413, 1416, 1430, 1434, 1454, 1465, 1472,\n",
      "       1475, 1497, 1497, 1509, 1516, 1528, 1532, 1537, 1542, 1550, 1550,\n",
      "       1550, 1574, 1574, 1574, 1595, 1595, 1603, 1603, 1603, 1624, 1627,\n",
      "       1640, 1645, 1656, 1657, 1692, 1692, 1713, 1729, 1765, 1768, 1778,\n",
      "       1778, 1778, 1778, 1778, 1789, 1830, 1830, 1854, 1854, 1854, 1854,\n",
      "       1867, 1872, 1904, 1915, 1915, 1929], dtype=int64), array([ 9,  7,  8,  2, 10,  2,  2,  5, 10,  2,  2,  2,  2,  1,  2, 10, 10,\n",
      "        0,  2, 10,  4,  2,  8,  2,  2,  0,  2,  2,  4,  2,  1,  7,  8, 10,\n",
      "        2,  4,  5, 10,  4,  5,  2,  9,  2,  2,  0,  1, 10,  2,  2, 10,  2,\n",
      "        2,  2,  5,  2, 10,  4,  0,  4,  2,  2,  7,  8, 10,  0,  2,  2,  5,\n",
      "        2,  7,  8, 10,  2,  2,  9,  7,  8,  2,  5, 10,  1,  2, 10,  2,  2,\n",
      "        2,  8,  2,  4,  5,  2, 10,  2,  8,  1,  2,  5,  7,  8,  2, 10,  2,\n",
      "        4,  1,  1, 10,  7,  8,  2,  5,  2, 10,  2,  0,  2,  7,  8, 10,  9,\n",
      "        5,  2,  7,  5, 10,  2,  7,  8, 10,  4,  2, 10,  2,  2,  7,  8, 10,\n",
      "        2,  8,  0,  4,  5,  2,  2,  1,  2,  4,  1,  2, 10,  0,  8,  2,  5,\n",
      "        4,  2,  2, 10,  4,  2,  2,  0,  2,  2,  7,  8, 10,  2,  8, 10,  1,\n",
      "       10,  1,  2, 10,  2,  2,  2,  2,  2,  2,  2, 10,  2,  2,  2,  4,  1,\n",
      "        2,  5,  7,  8,  1,  1,  9,  2,  5,  7, 10,  5,  2,  0,  2, 10,  2],\n",
      "      dtype=int64))\n"
     ]
    }
   ],
   "source": [
    "threshold = 3                              ### You probably wanted print(np.where(z > threshold)) \n",
    "print(np.where(z > 3))                     ### This is called trimming/truncation. Might also want to consider Winsorization"
   ]
  },
  {
   "cell_type": "code",
   "execution_count": 41,
   "metadata": {},
   "outputs": [],
   "source": [
    "hm_df = hm_df[(z < 3).all(axis=1)]"
   ]
  },
  {
   "cell_type": "markdown",
   "metadata": {},
   "source": [
    "## Inferential Statistics for the train set"
   ]
  },
  {
   "cell_type": "markdown",
   "metadata": {},
   "source": [
    "###### 1. `Describe()` dataframe of  the selected features and plot `boxplot` to check for outliers"
   ]
  },
  {
   "cell_type": "code",
   "execution_count": 42,
   "metadata": {},
   "outputs": [
    {
     "data": {
      "text/html": [
       "<div>\n",
       "<style scoped>\n",
       "    .dataframe tbody tr th:only-of-type {\n",
       "        vertical-align: middle;\n",
       "    }\n",
       "\n",
       "    .dataframe tbody tr th {\n",
       "        vertical-align: top;\n",
       "    }\n",
       "\n",
       "    .dataframe thead th {\n",
       "        text-align: right;\n",
       "    }\n",
       "</style>\n",
       "<table border=\"1\" class=\"dataframe\">\n",
       "  <thead>\n",
       "    <tr style=\"text-align: right;\">\n",
       "      <th></th>\n",
       "      <th>count</th>\n",
       "      <th>mean</th>\n",
       "      <th>std</th>\n",
       "      <th>min</th>\n",
       "      <th>25%</th>\n",
       "      <th>50%</th>\n",
       "      <th>75%</th>\n",
       "      <th>max</th>\n",
       "    </tr>\n",
       "  </thead>\n",
       "  <tbody>\n",
       "    <tr>\n",
       "      <th>overall_qual</th>\n",
       "      <td>1801.0</td>\n",
       "      <td>5.077179</td>\n",
       "      <td>1.227072</td>\n",
       "      <td>2.0</td>\n",
       "      <td>4.0</td>\n",
       "      <td>5.0</td>\n",
       "      <td>6.0</td>\n",
       "      <td>8.0</td>\n",
       "    </tr>\n",
       "    <tr>\n",
       "      <th>gr_liv_area</th>\n",
       "      <td>1801.0</td>\n",
       "      <td>1468.580233</td>\n",
       "      <td>430.659619</td>\n",
       "      <td>492.0</td>\n",
       "      <td>1136.0</td>\n",
       "      <td>1432.0</td>\n",
       "      <td>1699.0</td>\n",
       "      <td>2956.0</td>\n",
       "    </tr>\n",
       "    <tr>\n",
       "      <th>exter_qual</th>\n",
       "      <td>1801.0</td>\n",
       "      <td>2.616324</td>\n",
       "      <td>0.501043</td>\n",
       "      <td>1.0</td>\n",
       "      <td>2.0</td>\n",
       "      <td>3.0</td>\n",
       "      <td>3.0</td>\n",
       "      <td>3.0</td>\n",
       "    </tr>\n",
       "    <tr>\n",
       "      <th>kitchen_qual</th>\n",
       "      <td>1801.0</td>\n",
       "      <td>2.426430</td>\n",
       "      <td>0.719762</td>\n",
       "      <td>0.0</td>\n",
       "      <td>2.0</td>\n",
       "      <td>3.0</td>\n",
       "      <td>3.0</td>\n",
       "      <td>3.0</td>\n",
       "    </tr>\n",
       "    <tr>\n",
       "      <th>garage_cars</th>\n",
       "      <td>1801.0</td>\n",
       "      <td>1.820655</td>\n",
       "      <td>0.598643</td>\n",
       "      <td>1.0</td>\n",
       "      <td>1.0</td>\n",
       "      <td>2.0</td>\n",
       "      <td>2.0</td>\n",
       "      <td>3.0</td>\n",
       "    </tr>\n",
       "    <tr>\n",
       "      <th>garage_area</th>\n",
       "      <td>1801.0</td>\n",
       "      <td>481.851194</td>\n",
       "      <td>167.476907</td>\n",
       "      <td>100.0</td>\n",
       "      <td>352.0</td>\n",
       "      <td>480.0</td>\n",
       "      <td>576.0</td>\n",
       "      <td>1053.0</td>\n",
       "    </tr>\n",
       "    <tr>\n",
       "      <th>bsmt_qual</th>\n",
       "      <td>1801.0</td>\n",
       "      <td>2.803443</td>\n",
       "      <td>1.253532</td>\n",
       "      <td>0.0</td>\n",
       "      <td>2.0</td>\n",
       "      <td>2.0</td>\n",
       "      <td>4.0</td>\n",
       "      <td>5.0</td>\n",
       "    </tr>\n",
       "    <tr>\n",
       "      <th>total_bsmt_sf</th>\n",
       "      <td>1801.0</td>\n",
       "      <td>1033.189895</td>\n",
       "      <td>376.390650</td>\n",
       "      <td>0.0</td>\n",
       "      <td>797.0</td>\n",
       "      <td>988.0</td>\n",
       "      <td>1277.0</td>\n",
       "      <td>2223.0</td>\n",
       "    </tr>\n",
       "    <tr>\n",
       "      <th>1st_flr_sf</th>\n",
       "      <td>1801.0</td>\n",
       "      <td>1135.194336</td>\n",
       "      <td>332.639443</td>\n",
       "      <td>448.0</td>\n",
       "      <td>880.0</td>\n",
       "      <td>1080.0</td>\n",
       "      <td>1362.0</td>\n",
       "      <td>2259.0</td>\n",
       "    </tr>\n",
       "    <tr>\n",
       "      <th>year_built</th>\n",
       "      <td>1801.0</td>\n",
       "      <td>1972.416435</td>\n",
       "      <td>28.584317</td>\n",
       "      <td>1890.0</td>\n",
       "      <td>1955.0</td>\n",
       "      <td>1974.0</td>\n",
       "      <td>2000.0</td>\n",
       "      <td>2010.0</td>\n",
       "    </tr>\n",
       "    <tr>\n",
       "      <th>saleprice</th>\n",
       "      <td>1801.0</td>\n",
       "      <td>175449.439200</td>\n",
       "      <td>61303.914401</td>\n",
       "      <td>40000.0</td>\n",
       "      <td>132000.0</td>\n",
       "      <td>163000.0</td>\n",
       "      <td>207500.0</td>\n",
       "      <td>421250.0</td>\n",
       "    </tr>\n",
       "  </tbody>\n",
       "</table>\n",
       "</div>"
      ],
      "text/plain": [
       "                count           mean           std      min       25%  \\\n",
       "overall_qual   1801.0       5.077179      1.227072      2.0       4.0   \n",
       "gr_liv_area    1801.0    1468.580233    430.659619    492.0    1136.0   \n",
       "exter_qual     1801.0       2.616324      0.501043      1.0       2.0   \n",
       "kitchen_qual   1801.0       2.426430      0.719762      0.0       2.0   \n",
       "garage_cars    1801.0       1.820655      0.598643      1.0       1.0   \n",
       "garage_area    1801.0     481.851194    167.476907    100.0     352.0   \n",
       "bsmt_qual      1801.0       2.803443      1.253532      0.0       2.0   \n",
       "total_bsmt_sf  1801.0    1033.189895    376.390650      0.0     797.0   \n",
       "1st_flr_sf     1801.0    1135.194336    332.639443    448.0     880.0   \n",
       "year_built     1801.0    1972.416435     28.584317   1890.0    1955.0   \n",
       "saleprice      1801.0  175449.439200  61303.914401  40000.0  132000.0   \n",
       "\n",
       "                    50%       75%       max  \n",
       "overall_qual        5.0       6.0       8.0  \n",
       "gr_liv_area      1432.0    1699.0    2956.0  \n",
       "exter_qual          3.0       3.0       3.0  \n",
       "kitchen_qual        3.0       3.0       3.0  \n",
       "garage_cars         2.0       2.0       3.0  \n",
       "garage_area       480.0     576.0    1053.0  \n",
       "bsmt_qual           2.0       4.0       5.0  \n",
       "total_bsmt_sf     988.0    1277.0    2223.0  \n",
       "1st_flr_sf       1080.0    1362.0    2259.0  \n",
       "year_built       1974.0    2000.0    2010.0  \n",
       "saleprice      163000.0  207500.0  421250.0  "
      ]
     },
     "execution_count": 42,
     "metadata": {},
     "output_type": "execute_result"
    }
   ],
   "source": [
    "hm_df.describe().transpose()     ### hm_df.describe().T would work equally well "
   ]
  },
  {
   "cell_type": "code",
   "execution_count": 43,
   "metadata": {
    "scrolled": true
   },
   "outputs": [
    {
     "data": {
      "image/png": "[encoded data removed]",
      "text/plain": [
       "<Figure size 1080x576 with 1 Axes>"
      ]
     },
     "metadata": {
      "needs_background": "light"
     },
     "output_type": "display_data"
    }
   ],
   "source": [
    "s1 = ['overall_qual','exter_qual','kitchen_qual','garage_cars','bsmt_qual']\n",
    "s2 = ['gr_liv_area','garage_area','total_bsmt_sf','1st_flr_sf','year_built']\n",
    "hm_df[[k for k in s1]].boxplot(figsize=(15,8)); ### Not the best visualisations since they are on different scales."
   ]
  },
  {
   "cell_type": "code",
   "execution_count": 44,
   "metadata": {},
   "outputs": [
    {
     "data": {
      "image/png": "[encoded data removed]",
      "text/plain": [
       "<Figure size 1080x576 with 1 Axes>"
      ]
     },
     "metadata": {
      "needs_background": "light"
     },
     "output_type": "display_data"
    }
   ],
   "source": [
    "hm_df[[k for k in s2]].boxplot(figsize=(15,8));  ### Should definitely leave out year_built."
   ]
  },
  {
   "cell_type": "markdown",
   "metadata": {},
   "source": [
    "###### 2. Plot `scatter` and `histogram` to understand the selected features and their correlation"
   ]
  },
  {
   "cell_type": "code",
   "execution_count": 45,
   "metadata": {},
   "outputs": [
    {
     "data": {
      "image/png": "[encoded data removed]",
      "text/plain": [
       "<Figure size 900x180 with 5 Axes>"
      ]
     },
     "metadata": {
      "needs_background": "light"
     },
     "output_type": "display_data"
    }
   ],
   "source": [
    "sns.pairplot(hm_df, x_vars = ['gr_liv_area','garage_area','total_bsmt_sf','1st_flr_sf','year_built'], y_vars = ['saleprice']);"
   ]
  },
  {
   "cell_type": "code",
   "execution_count": 46,
   "metadata": {},
   "outputs": [
    {
     "data": {
      "image/png": "[encoded data removed]",
      "text/plain": [
       "<Figure size 1440x1080 with 12 Axes>"
      ]
     },
     "metadata": {
      "needs_background": "light"
     },
     "output_type": "display_data"
    }
   ],
   "source": [
    "hm_df.hist(figsize = (20,15));    ### Visualisations could be done better. Some of these should probably be on a bar\n",
    "                                  ### plot instead of a histogram. (overall_qual)"
   ]
  },
  {
   "cell_type": "markdown",
   "metadata": {},
   "source": [
    "## Train-Test-Split for the training model with Linear, Lasso and Ridge Regression"
   ]
  },
  {
   "cell_type": "markdown",
   "metadata": {},
   "source": [
    "###### 1. Split the selected features as `X` and the saleprice as `y`"
   ]
  },
  {
   "cell_type": "code",
   "execution_count": 47,
   "metadata": {},
   "outputs": [],
   "source": [
    "X = hm_df[['overall_qual','gr_liv_area','exter_qual','kitchen_qual','garage_cars','garage_area','bsmt_qual','total_bsmt_sf','1st_flr_sf','year_built']]\n",
    "y = hm_df[['saleprice']]\n",
    "X_train,X_test,y_train,y_test = train_test_split(X, y, test_size = 0.25, random_state = 42)"
   ]
  },
  {
   "cell_type": "markdown",
   "metadata": {},
   "source": [
    "###### 2. Use `StandardScaler()` to scale the training model"
   ]
  },
  {
   "cell_type": "code",
   "execution_count": 48,
   "metadata": {},
   "outputs": [],
   "source": [
    "ss = StandardScaler()"
   ]
  },
  {
   "cell_type": "code",
   "execution_count": 49,
   "metadata": {},
   "outputs": [],
   "source": [
    "X_train_ss = ss.fit_transform(X_train)"
   ]
  },
  {
   "cell_type": "code",
   "execution_count": 50,
   "metadata": {},
   "outputs": [],
   "source": [
    "X_test_scaled = ss.transform(X_test)"
   ]
  },
  {
   "cell_type": "code",
   "execution_count": 51,
   "metadata": {},
   "outputs": [
    {
     "data": {
      "text/plain": [
       "LinearRegression(copy_X=True, fit_intercept=True, n_jobs=None, normalize=False)"
      ]
     },
     "execution_count": 51,
     "metadata": {},
     "output_type": "execute_result"
    }
   ],
   "source": [
    "lr = LinearRegression()\n",
    "lr.fit(X_train_ss,y_train)"
   ]
  },
  {
   "cell_type": "markdown",
   "metadata": {},
   "source": [
    "###### 3. Calculate the X_train_ss and X_test_scaled score using `.score()` to check for accuracy"
   ]
  },
  {
   "cell_type": "code",
   "execution_count": 52,
   "metadata": {},
   "outputs": [
    {
     "data": {
      "text/plain": [
       "0.8154824252896787"
      ]
     },
     "execution_count": 52,
     "metadata": {},
     "output_type": "execute_result"
    }
   ],
   "source": [
    "lr.score(X_train_ss,y_train)"
   ]
  },
  {
   "cell_type": "code",
   "execution_count": 53,
   "metadata": {},
   "outputs": [
    {
     "data": {
      "text/plain": [
       "0.8341557209875206"
      ]
     },
     "execution_count": 53,
     "metadata": {},
     "output_type": "execute_result"
    }
   ],
   "source": [
    "lr.score(X_test_scaled,y_test)"
   ]
  },
  {
   "cell_type": "code",
   "execution_count": 54,
   "metadata": {},
   "outputs": [],
   "source": [
    "predict = pd.DataFrame(lr.predict(X_test_scaled))"
   ]
  },
  {
   "cell_type": "markdown",
   "metadata": {},
   "source": [
    "###### 4. Calculate the `MSE` and `RSME` for the predicted results"
   ]
  },
  {
   "cell_type": "code",
   "execution_count": 55,
   "metadata": {},
   "outputs": [
    {
     "data": {
      "text/plain": [
       "654037744.1469773"
      ]
     },
     "execution_count": 55,
     "metadata": {},
     "output_type": "execute_result"
    }
   ],
   "source": [
    "mean_squared_error(y_test, predict)"
   ]
  },
  {
   "cell_type": "code",
   "execution_count": 56,
   "metadata": {},
   "outputs": [
    {
     "data": {
      "text/plain": [
       "25574.161650911985"
      ]
     },
     "execution_count": 56,
     "metadata": {},
     "output_type": "execute_result"
    }
   ],
   "source": [
    "rmse = np.sqrt(mean_squared_error(y_test, predict))\n",
    "rmse"
   ]
  },
  {
   "cell_type": "markdown",
   "metadata": {},
   "source": [
    "###### 5. Plot the `Predicted saleprice` against `Actual saleprice` with the line of best fit"
   ]
  },
  {
   "cell_type": "code",
   "execution_count": 57,
   "metadata": {},
   "outputs": [
    {
     "data": {
      "image/png": "[encoded data removed]",
      "text/plain": [
       "<Figure size 576x576 with 1 Axes>"
      ]
     },
     "metadata": {
      "needs_background": "light"
     },
     "output_type": "display_data"
    }
   ],
   "source": [
    "plt.figure(figsize=(8,8))\n",
    "plt.scatter(lr.predict(X_test_scaled), y_test, s=30, c='r', marker='+', zorder=10)\n",
    "plt.xlabel(\"Predicted saleprice\")\n",
    "plt.ylabel(\"Actual saleprice\")\n",
    "\n",
    "plt.plot([0, np.max(y)], [0, np.max(y)], c = 'k')\n",
    "\n",
    "plt.show()"
   ]
  },
  {
   "cell_type": "code",
   "execution_count": null,
   "metadata": {},
   "outputs": [],
   "source": [
    "### It's easier to see if you swap the axes, but your predictor is systematically underestimating house prices for\n",
    "### houses with high sales prices (see the upward curve after y = 300k). Plotting residuals would make the\n",
    "### behaviour much more obvious. "
   ]
  },
  {
   "cell_type": "markdown",
   "metadata": {},
   "source": [
    "###### 6. Using `statsmodel.OLS()`, look out for features that are not significant to be removed"
   ]
  },
  {
   "cell_type": "code",
   "execution_count": 58,
   "metadata": {},
   "outputs": [
    {
     "data": {
      "text/html": [
       "<table class=\"simpletable\">\n",
       "<caption>OLS Regression Results</caption>\n",
       "<tr>\n",
       "  <th>Dep. Variable:</th>        <td>saleprice</td>    <th>  R-squared:         </th> <td>   0.815</td> \n",
       "</tr>\n",
       "<tr>\n",
       "  <th>Model:</th>                   <td>OLS</td>       <th>  Adj. R-squared:    </th> <td>   0.814</td> \n",
       "</tr>\n",
       "<tr>\n",
       "  <th>Method:</th>             <td>Least Squares</td>  <th>  F-statistic:       </th> <td>   591.8</td> \n",
       "</tr>\n",
       "<tr>\n",
       "  <th>Date:</th>             <td>Fri, 29 Nov 2019</td> <th>  Prob (F-statistic):</th>  <td>  0.00</td>  \n",
       "</tr>\n",
       "<tr>\n",
       "  <th>Time:</th>                 <td>16:18:32</td>     <th>  Log-Likelihood:    </th> <td> -15645.</td> \n",
       "</tr>\n",
       "<tr>\n",
       "  <th>No. Observations:</th>      <td>  1350</td>      <th>  AIC:               </th> <td>3.131e+04</td>\n",
       "</tr>\n",
       "<tr>\n",
       "  <th>Df Residuals:</th>          <td>  1339</td>      <th>  BIC:               </th> <td>3.137e+04</td>\n",
       "</tr>\n",
       "<tr>\n",
       "  <th>Df Model:</th>              <td>    10</td>      <th>                     </th>     <td> </td>    \n",
       "</tr>\n",
       "<tr>\n",
       "  <th>Covariance Type:</th>      <td>nonrobust</td>    <th>                     </th>     <td> </td>    \n",
       "</tr>\n",
       "</table>\n",
       "<table class=\"simpletable\">\n",
       "<tr>\n",
       "    <td></td>       <th>coef</th>     <th>std err</th>      <th>t</th>      <th>P>|t|</th>  <th>[0.025</th>    <th>0.975]</th>  \n",
       "</tr>\n",
       "<tr>\n",
       "  <th>const</th> <td> 1.749e+05</td> <td>  713.283</td> <td>  245.154</td> <td> 0.000</td> <td> 1.73e+05</td> <td> 1.76e+05</td>\n",
       "</tr>\n",
       "<tr>\n",
       "  <th>x1</th>    <td> 1.692e+04</td> <td> 1139.403</td> <td>   14.852</td> <td> 0.000</td> <td> 1.47e+04</td> <td> 1.92e+04</td>\n",
       "</tr>\n",
       "<tr>\n",
       "  <th>x2</th>    <td> 1.954e+04</td> <td>  927.366</td> <td>   21.067</td> <td> 0.000</td> <td> 1.77e+04</td> <td> 2.14e+04</td>\n",
       "</tr>\n",
       "<tr>\n",
       "  <th>x3</th>    <td>  135.5226</td> <td> 1006.159</td> <td>    0.135</td> <td> 0.893</td> <td>-1838.296</td> <td> 2109.341</td>\n",
       "</tr>\n",
       "<tr>\n",
       "  <th>x4</th>    <td>-7849.9231</td> <td>  902.138</td> <td>   -8.701</td> <td> 0.000</td> <td>-9619.681</td> <td>-6080.165</td>\n",
       "</tr>\n",
       "<tr>\n",
       "  <th>x5</th>    <td> -983.3183</td> <td> 1444.287</td> <td>   -0.681</td> <td> 0.496</td> <td>-3816.630</td> <td> 1849.993</td>\n",
       "</tr>\n",
       "<tr>\n",
       "  <th>x6</th>    <td> 6696.9378</td> <td> 1344.300</td> <td>    4.982</td> <td> 0.000</td> <td> 4059.775</td> <td> 9334.100</td>\n",
       "</tr>\n",
       "<tr>\n",
       "  <th>x7</th>    <td>-4636.2393</td> <td>  995.706</td> <td>   -4.656</td> <td> 0.000</td> <td>-6589.554</td> <td>-2682.925</td>\n",
       "</tr>\n",
       "<tr>\n",
       "  <th>x8</th>    <td> 8518.8457</td> <td> 1226.005</td> <td>    6.948</td> <td> 0.000</td> <td> 6113.745</td> <td> 1.09e+04</td>\n",
       "</tr>\n",
       "<tr>\n",
       "  <th>x9</th>    <td> 4425.8282</td> <td> 1224.754</td> <td>    3.614</td> <td> 0.000</td> <td> 2023.182</td> <td> 6828.474</td>\n",
       "</tr>\n",
       "<tr>\n",
       "  <th>x10</th>   <td> 8672.0652</td> <td> 1029.286</td> <td>    8.425</td> <td> 0.000</td> <td> 6652.877</td> <td> 1.07e+04</td>\n",
       "</tr>\n",
       "</table>\n",
       "<table class=\"simpletable\">\n",
       "<tr>\n",
       "  <th>Omnibus:</th>       <td>131.777</td> <th>  Durbin-Watson:     </th> <td>   1.979</td> \n",
       "</tr>\n",
       "<tr>\n",
       "  <th>Prob(Omnibus):</th> <td> 0.000</td>  <th>  Jarque-Bera (JB):  </th> <td> 773.647</td> \n",
       "</tr>\n",
       "<tr>\n",
       "  <th>Skew:</th>          <td> 0.220</td>  <th>  Prob(JB):          </th> <td>1.01e-168</td>\n",
       "</tr>\n",
       "<tr>\n",
       "  <th>Kurtosis:</th>      <td> 6.682</td>  <th>  Cond. No.          </th> <td>    5.81</td> \n",
       "</tr>\n",
       "</table><br/><br/>Warnings:<br/>[1] Standard Errors assume that the covariance matrix of the errors is correctly specified."
      ],
      "text/plain": [
       "<class 'statsmodels.iolib.summary.Summary'>\n",
       "\"\"\"\n",
       "                            OLS Regression Results                            \n",
       "==============================================================================\n",
       "Dep. Variable:              saleprice   R-squared:                       0.815\n",
       "Model:                            OLS   Adj. R-squared:                  0.814\n",
       "Method:                 Least Squares   F-statistic:                     591.8\n",
       "Date:                Fri, 29 Nov 2019   Prob (F-statistic):               0.00\n",
       "Time:                        16:18:32   Log-Likelihood:                -15645.\n",
       "No. Observations:                1350   AIC:                         3.131e+04\n",
       "Df Residuals:                    1339   BIC:                         3.137e+04\n",
       "Df Model:                          10                                         \n",
       "Covariance Type:            nonrobust                                         \n",
       "==============================================================================\n",
       "                 coef    std err          t      P>|t|      [0.025      0.975]\n",
       "------------------------------------------------------------------------------\n",
       "const       1.749e+05    713.283    245.154      0.000    1.73e+05    1.76e+05\n",
       "x1          1.692e+04   1139.403     14.852      0.000    1.47e+04    1.92e+04\n",
       "x2          1.954e+04    927.366     21.067      0.000    1.77e+04    2.14e+04\n",
       "x3           135.5226   1006.159      0.135      0.893   -1838.296    2109.341\n",
       "x4         -7849.9231    902.138     -8.701      0.000   -9619.681   -6080.165\n",
       "x5          -983.3183   1444.287     -0.681      0.496   -3816.630    1849.993\n",
       "x6          6696.9378   1344.300      4.982      0.000    4059.775    9334.100\n",
       "x7         -4636.2393    995.706     -4.656      0.000   -6589.554   -2682.925\n",
       "x8          8518.8457   1226.005      6.948      0.000    6113.745    1.09e+04\n",
       "x9          4425.8282   1224.754      3.614      0.000    2023.182    6828.474\n",
       "x10         8672.0652   1029.286      8.425      0.000    6652.877    1.07e+04\n",
       "==============================================================================\n",
       "Omnibus:                      131.777   Durbin-Watson:                   1.979\n",
       "Prob(Omnibus):                  0.000   Jarque-Bera (JB):              773.647\n",
       "Skew:                           0.220   Prob(JB):                    1.01e-168\n",
       "Kurtosis:                       6.682   Cond. No.                         5.81\n",
       "==============================================================================\n",
       "\n",
       "Warnings:\n",
       "[1] Standard Errors assume that the covariance matrix of the errors is correctly specified.\n",
       "\"\"\""
      ]
     },
     "execution_count": 58,
     "metadata": {},
     "output_type": "execute_result"
    }
   ],
   "source": [
    "X = sm.add_constant(X_train_ss)\n",
    "model = sm.OLS(y_train,X)\n",
    "results = model.fit()\n",
    "results.summary()"
   ]
  },
  {
   "cell_type": "markdown",
   "metadata": {},
   "source": [
    "###### 7. Split the selected features as `X` and the saleprice as `y` after removing insignificant features in `X`"
   ]
  },
  {
   "cell_type": "code",
   "execution_count": 59,
   "metadata": {},
   "outputs": [],
   "source": [
    "X2 = hm_df[['overall_qual','gr_liv_area','kitchen_qual','garage_area','bsmt_qual','total_bsmt_sf','1st_flr_sf','year_built']]\n",
    "y2 = hm_df[['saleprice']]\n",
    "X_train,X_test,y_train,y_test = train_test_split(X2, y2, test_size = 0.25, random_state = 42)"
   ]
  },
  {
   "cell_type": "markdown",
   "metadata": {},
   "source": [
    "###### 8. Use `StandardScaler()` to scale the training model"
   ]
  },
  {
   "cell_type": "code",
   "execution_count": 60,
   "metadata": {},
   "outputs": [],
   "source": [
    "ss = StandardScaler()"
   ]
  },
  {
   "cell_type": "code",
   "execution_count": 61,
   "metadata": {},
   "outputs": [],
   "source": [
    "X_train_ss = ss.fit_transform(X_train)"
   ]
  },
  {
   "cell_type": "code",
   "execution_count": 62,
   "metadata": {},
   "outputs": [],
   "source": [
    "X_test_scaled = ss.transform(X_test)"
   ]
  },
  {
   "cell_type": "code",
   "execution_count": 63,
   "metadata": {},
   "outputs": [
    {
     "data": {
      "text/plain": [
       "LinearRegression(copy_X=True, fit_intercept=True, n_jobs=None, normalize=False)"
      ]
     },
     "execution_count": 63,
     "metadata": {},
     "output_type": "execute_result"
    }
   ],
   "source": [
    "lr = LinearRegression()\n",
    "lr.fit(X_train_ss,y_train)"
   ]
  },
  {
   "cell_type": "markdown",
   "metadata": {},
   "source": [
    "###### 9. Calculate the X_train_ss and X_test_scaled score using `.score()` to check for accuracy "
   ]
  },
  {
   "cell_type": "code",
   "execution_count": 64,
   "metadata": {},
   "outputs": [
    {
     "data": {
      "text/plain": [
       "0.8154160973572675"
      ]
     },
     "execution_count": 64,
     "metadata": {},
     "output_type": "execute_result"
    }
   ],
   "source": [
    "lr.score(X_train_ss,y_train)"
   ]
  },
  {
   "cell_type": "code",
   "execution_count": 65,
   "metadata": {},
   "outputs": [
    {
     "data": {
      "text/plain": [
       "0.8345751881820926"
      ]
     },
     "execution_count": 65,
     "metadata": {},
     "output_type": "execute_result"
    }
   ],
   "source": [
    "lr.score(X_test_scaled,y_test)"
   ]
  },
  {
   "cell_type": "markdown",
   "metadata": {},
   "source": [
    "###### 10. Plot the `Predicted saleprice` against `Actual saleprice` with the line of best fit"
   ]
  },
  {
   "cell_type": "code",
   "execution_count": 66,
   "metadata": {},
   "outputs": [
    {
     "data": {
      "image/png": "[encoded data removed]",
      "text/plain": [
       "<Figure size 576x576 with 1 Axes>"
      ]
     },
     "metadata": {
      "needs_background": "light"
     },
     "output_type": "display_data"
    }
   ],
   "source": [
    "plt.figure(figsize=(8,8))\n",
    "plt.scatter(lr.predict(X_test_scaled), y_test, s=30, c='r', marker='+', zorder=10)\n",
    "plt.xlabel(\"Predicted saleprice\")\n",
    "plt.ylabel(\"Actual saleprice\")\n",
    "\n",
    "plt.plot([0, np.max(y)], [0, np.max(y)], c = 'k')\n",
    "\n",
    "plt.show()"
   ]
  },
  {
   "cell_type": "code",
   "execution_count": 67,
   "metadata": {},
   "outputs": [],
   "source": [
    "### Same issue with this model. Systematic underprediction"
   ]
  },
  {
   "cell_type": "markdown",
   "metadata": {},
   "source": [
    "###### 11. Using `statsmodel.OLS()`, check if any insignificant features are still in the model"
   ]
  },
  {
   "cell_type": "code",
   "execution_count": 68,
   "metadata": {},
   "outputs": [
    {
     "data": {
      "text/html": [
       "<table class=\"simpletable\">\n",
       "<caption>OLS Regression Results</caption>\n",
       "<tr>\n",
       "  <th>Dep. Variable:</th>        <td>saleprice</td>    <th>  R-squared:         </th> <td>   0.815</td> \n",
       "</tr>\n",
       "<tr>\n",
       "  <th>Model:</th>                   <td>OLS</td>       <th>  Adj. R-squared:    </th> <td>   0.814</td> \n",
       "</tr>\n",
       "<tr>\n",
       "  <th>Method:</th>             <td>Least Squares</td>  <th>  F-statistic:       </th> <td>   740.5</td> \n",
       "</tr>\n",
       "<tr>\n",
       "  <th>Date:</th>             <td>Fri, 29 Nov 2019</td> <th>  Prob (F-statistic):</th>  <td>  0.00</td>  \n",
       "</tr>\n",
       "<tr>\n",
       "  <th>Time:</th>                 <td>16:19:10</td>     <th>  Log-Likelihood:    </th> <td> -15645.</td> \n",
       "</tr>\n",
       "<tr>\n",
       "  <th>No. Observations:</th>      <td>  1350</td>      <th>  AIC:               </th> <td>3.131e+04</td>\n",
       "</tr>\n",
       "<tr>\n",
       "  <th>Df Residuals:</th>          <td>  1341</td>      <th>  BIC:               </th> <td>3.135e+04</td>\n",
       "</tr>\n",
       "<tr>\n",
       "  <th>Df Model:</th>              <td>     8</td>      <th>                     </th>     <td> </td>    \n",
       "</tr>\n",
       "<tr>\n",
       "  <th>Covariance Type:</th>      <td>nonrobust</td>    <th>                     </th>     <td> </td>    \n",
       "</tr>\n",
       "</table>\n",
       "<table class=\"simpletable\">\n",
       "<tr>\n",
       "    <td></td>       <th>coef</th>     <th>std err</th>      <th>t</th>      <th>P>|t|</th>  <th>[0.025</th>    <th>0.975]</th>  \n",
       "</tr>\n",
       "<tr>\n",
       "  <th>const</th> <td> 1.749e+05</td> <td>  712.879</td> <td>  245.293</td> <td> 0.000</td> <td> 1.73e+05</td> <td> 1.76e+05</td>\n",
       "</tr>\n",
       "<tr>\n",
       "  <th>x1</th>    <td> 1.682e+04</td> <td> 1105.562</td> <td>   15.218</td> <td> 0.000</td> <td> 1.47e+04</td> <td>  1.9e+04</td>\n",
       "</tr>\n",
       "<tr>\n",
       "  <th>x2</th>    <td> 1.944e+04</td> <td>  915.577</td> <td>   21.229</td> <td> 0.000</td> <td> 1.76e+04</td> <td> 2.12e+04</td>\n",
       "</tr>\n",
       "<tr>\n",
       "  <th>x3</th>    <td>-7822.9091</td> <td>  865.574</td> <td>   -9.038</td> <td> 0.000</td> <td>-9520.936</td> <td>-6124.882</td>\n",
       "</tr>\n",
       "<tr>\n",
       "  <th>x4</th>    <td> 6018.2081</td> <td>  906.843</td> <td>    6.636</td> <td> 0.000</td> <td> 4239.223</td> <td> 7797.194</td>\n",
       "</tr>\n",
       "<tr>\n",
       "  <th>x5</th>    <td>-4525.0653</td> <td>  976.711</td> <td>   -4.633</td> <td> 0.000</td> <td>-6441.114</td> <td>-2609.017</td>\n",
       "</tr>\n",
       "<tr>\n",
       "  <th>x6</th>    <td> 8568.3337</td> <td> 1222.348</td> <td>    7.010</td> <td> 0.000</td> <td> 6170.412</td> <td>  1.1e+04</td>\n",
       "</tr>\n",
       "<tr>\n",
       "  <th>x7</th>    <td> 4401.0386</td> <td> 1221.689</td> <td>    3.602</td> <td> 0.000</td> <td> 2004.408</td> <td> 6797.669</td>\n",
       "</tr>\n",
       "<tr>\n",
       "  <th>x8</th>    <td> 8530.7001</td> <td>  991.944</td> <td>    8.600</td> <td> 0.000</td> <td> 6584.770</td> <td> 1.05e+04</td>\n",
       "</tr>\n",
       "</table>\n",
       "<table class=\"simpletable\">\n",
       "<tr>\n",
       "  <th>Omnibus:</th>       <td>131.914</td> <th>  Durbin-Watson:     </th> <td>   1.980</td> \n",
       "</tr>\n",
       "<tr>\n",
       "  <th>Prob(Omnibus):</th> <td> 0.000</td>  <th>  Jarque-Bera (JB):  </th> <td> 774.230</td> \n",
       "</tr>\n",
       "<tr>\n",
       "  <th>Skew:</th>          <td> 0.221</td>  <th>  Prob(JB):          </th> <td>7.55e-169</td>\n",
       "</tr>\n",
       "<tr>\n",
       "  <th>Kurtosis:</th>      <td> 6.683</td>  <th>  Cond. No.          </th> <td>    4.62</td> \n",
       "</tr>\n",
       "</table><br/><br/>Warnings:<br/>[1] Standard Errors assume that the covariance matrix of the errors is correctly specified."
      ],
      "text/plain": [
       "<class 'statsmodels.iolib.summary.Summary'>\n",
       "\"\"\"\n",
       "                            OLS Regression Results                            \n",
       "==============================================================================\n",
       "Dep. Variable:              saleprice   R-squared:                       0.815\n",
       "Model:                            OLS   Adj. R-squared:                  0.814\n",
       "Method:                 Least Squares   F-statistic:                     740.5\n",
       "Date:                Fri, 29 Nov 2019   Prob (F-statistic):               0.00\n",
       "Time:                        16:19:10   Log-Likelihood:                -15645.\n",
       "No. Observations:                1350   AIC:                         3.131e+04\n",
       "Df Residuals:                    1341   BIC:                         3.135e+04\n",
       "Df Model:                           8                                         \n",
       "Covariance Type:            nonrobust                                         \n",
       "==============================================================================\n",
       "                 coef    std err          t      P>|t|      [0.025      0.975]\n",
       "------------------------------------------------------------------------------\n",
       "const       1.749e+05    712.879    245.293      0.000    1.73e+05    1.76e+05\n",
       "x1          1.682e+04   1105.562     15.218      0.000    1.47e+04     1.9e+04\n",
       "x2          1.944e+04    915.577     21.229      0.000    1.76e+04    2.12e+04\n",
       "x3         -7822.9091    865.574     -9.038      0.000   -9520.936   -6124.882\n",
       "x4          6018.2081    906.843      6.636      0.000    4239.223    7797.194\n",
       "x5         -4525.0653    976.711     -4.633      0.000   -6441.114   -2609.017\n",
       "x6          8568.3337   1222.348      7.010      0.000    6170.412     1.1e+04\n",
       "x7          4401.0386   1221.689      3.602      0.000    2004.408    6797.669\n",
       "x8          8530.7001    991.944      8.600      0.000    6584.770    1.05e+04\n",
       "==============================================================================\n",
       "Omnibus:                      131.914   Durbin-Watson:                   1.980\n",
       "Prob(Omnibus):                  0.000   Jarque-Bera (JB):              774.230\n",
       "Skew:                           0.221   Prob(JB):                    7.55e-169\n",
       "Kurtosis:                       6.683   Cond. No.                         4.62\n",
       "==============================================================================\n",
       "\n",
       "Warnings:\n",
       "[1] Standard Errors assume that the covariance matrix of the errors is correctly specified.\n",
       "\"\"\""
      ]
     },
     "execution_count": 68,
     "metadata": {},
     "output_type": "execute_result"
    }
   ],
   "source": [
    "X = sm.add_constant(X_train_ss)\n",
    "model = sm.OLS(y_train,X)\n",
    "results = model.fit()\n",
    "results.summary()"
   ]
  },
  {
   "cell_type": "markdown",
   "metadata": {},
   "source": [
    "###### 12. Calculate the best alpha value  using `RidgeCV` and get the mean of the score"
   ]
  },
  {
   "cell_type": "code",
   "execution_count": 69,
   "metadata": {},
   "outputs": [
    {
     "data": {
      "text/plain": [
       "34.09285069746813"
      ]
     },
     "execution_count": 69,
     "metadata": {},
     "output_type": "execute_result"
    }
   ],
   "source": [
    "r_alphas = np.logspace(0, 5, 200)\n",
    "get_alpha = RidgeCV(r_alphas, cv=10)\n",
    "get_alpha.fit(X_train_ss,y_train)\n",
    "get_alpha.alpha_"
   ]
  },
  {
   "cell_type": "code",
   "execution_count": 71,
   "metadata": {},
   "outputs": [
    {
     "name": "stderr",
     "output_type": "stream",
     "text": [
      "C:\\Users\\Jonathan\\Anaconda2\\envs\\py36\\lib\\site-packages\\sklearn\\model_selection\\_split.py:1978: FutureWarning: The default value of cv will change from 3 to 5 in version 0.22. Specify it explicitly to silence this warning.\n",
      "  warnings.warn(CV_WARNING, FutureWarning)\n"
     ]
    },
    {
     "data": {
      "text/plain": [
       "0.810942033728904"
      ]
     },
     "execution_count": 71,
     "metadata": {},
     "output_type": "execute_result"
    }
   ],
   "source": [
    "ridge = Ridge(get_alpha.alpha_)\n",
    "ridge_score = cross_val_score(get_alpha,X_train_ss,y_train)  ### set cv=5 here to avoid the error from popping\n",
    "ridge_score.mean()"
   ]
  },
  {
   "cell_type": "markdown",
   "metadata": {},
   "source": [
    "###### 13. Calculate the best alpha value  using `LassoCV` and get the mean of the score"
   ]
  },
  {
   "cell_type": "code",
   "execution_count": 72,
   "metadata": {},
   "outputs": [
    {
     "name": "stderr",
     "output_type": "stream",
     "text": [
      "C:\\Users\\Jonathan\\Anaconda2\\envs\\py36\\lib\\site-packages\\sklearn\\linear_model\\coordinate_descent.py:1100: DataConversionWarning: A column-vector y was passed when a 1d array was expected. Please change the shape of y to (n_samples, ), for example using ravel().\n",
      "  y = column_or_1d(y, warn=True)\n"
     ]
    },
    {
     "data": {
      "text/plain": [
       "47.045339472991735"
      ]
     },
     "execution_count": 72,
     "metadata": {},
     "output_type": "execute_result"
    }
   ],
   "source": [
    "f_alphas = 500\n",
    "get_f_alpha = LassoCV(n_alphas=f_alphas, cv=10)\n",
    "get_f_alpha.fit(X_train_ss,y_train)\n",
    "get_f_alpha.alpha_"
   ]
  },
  {
   "cell_type": "code",
   "execution_count": 73,
   "metadata": {},
   "outputs": [
    {
     "name": "stderr",
     "output_type": "stream",
     "text": [
      "C:\\Users\\Jonathan\\Anaconda2\\envs\\py36\\lib\\site-packages\\sklearn\\model_selection\\_split.py:1978: FutureWarning: The default value of cv will change from 3 to 5 in version 0.22. Specify it explicitly to silence this warning.\n",
      "  warnings.warn(CV_WARNING, FutureWarning)\n",
      "C:\\Users\\Jonathan\\Anaconda2\\envs\\py36\\lib\\site-packages\\sklearn\\linear_model\\coordinate_descent.py:1100: DataConversionWarning: A column-vector y was passed when a 1d array was expected. Please change the shape of y to (n_samples, ), for example using ravel().\n",
      "  y = column_or_1d(y, warn=True)\n",
      "C:\\Users\\Jonathan\\Anaconda2\\envs\\py36\\lib\\site-packages\\sklearn\\linear_model\\coordinate_descent.py:1100: DataConversionWarning: A column-vector y was passed when a 1d array was expected. Please change the shape of y to (n_samples, ), for example using ravel().\n",
      "  y = column_or_1d(y, warn=True)\n",
      "C:\\Users\\Jonathan\\Anaconda2\\envs\\py36\\lib\\site-packages\\sklearn\\linear_model\\coordinate_descent.py:1100: DataConversionWarning: A column-vector y was passed when a 1d array was expected. Please change the shape of y to (n_samples, ), for example using ravel().\n",
      "  y = column_or_1d(y, warn=True)\n"
     ]
    },
    {
     "data": {
      "text/plain": [
       "0.8108872296909183"
      ]
     },
     "execution_count": 73,
     "metadata": {},
     "output_type": "execute_result"
    }
   ],
   "source": [
    "lasso = Lasso(get_f_alpha.alpha_)\n",
    "lasso_score = cross_val_score(get_f_alpha,X_train_ss,y_train)\n",
    "lasso_score.mean()"
   ]
  },
  {
   "cell_type": "markdown",
   "metadata": {},
   "source": [
    "## Data import and Cleaning for the test set"
   ]
  },
  {
   "cell_type": "markdown",
   "metadata": {},
   "source": [
    "###### 1. Read in the `test.csv` files and assign to appropriately named pandas dataframes"
   ]
  },
  {
   "cell_type": "code",
   "execution_count": 76,
   "metadata": {},
   "outputs": [],
   "source": [
    "pd2 = pd.read_csv('../datasets/test.csv')  ### easy method: append test set to training set, perform cleaning together and \n",
    "                                           ### then split the dataset."
   ]
  },
  {
   "cell_type": "markdown",
   "metadata": {},
   "source": [
    "###### 2. Convert column names to `lowercase` and replace spaces with `_` "
   ]
  },
  {
   "cell_type": "code",
   "execution_count": 77,
   "metadata": {},
   "outputs": [
    {
     "data": {
      "text/html": [
       "<div>\n",
       "<style scoped>\n",
       "    .dataframe tbody tr th:only-of-type {\n",
       "        vertical-align: middle;\n",
       "    }\n",
       "\n",
       "    .dataframe tbody tr th {\n",
       "        vertical-align: top;\n",
       "    }\n",
       "\n",
       "    .dataframe thead th {\n",
       "        text-align: right;\n",
       "    }\n",
       "</style>\n",
       "<table border=\"1\" class=\"dataframe\">\n",
       "  <thead>\n",
       "    <tr style=\"text-align: right;\">\n",
       "      <th></th>\n",
       "      <th>id</th>\n",
       "      <th>pid</th>\n",
       "      <th>ms_subclass</th>\n",
       "      <th>ms_zoning</th>\n",
       "      <th>lot_frontage</th>\n",
       "      <th>lot_area</th>\n",
       "      <th>street</th>\n",
       "      <th>alley</th>\n",
       "      <th>lot_shape</th>\n",
       "      <th>land_contour</th>\n",
       "      <th>...</th>\n",
       "      <th>3ssn_porch</th>\n",
       "      <th>screen_porch</th>\n",
       "      <th>pool_area</th>\n",
       "      <th>pool_qc</th>\n",
       "      <th>fence</th>\n",
       "      <th>misc_feature</th>\n",
       "      <th>misc_val</th>\n",
       "      <th>mo_sold</th>\n",
       "      <th>yr_sold</th>\n",
       "      <th>sale_type</th>\n",
       "    </tr>\n",
       "  </thead>\n",
       "  <tbody>\n",
       "    <tr>\n",
       "      <th>0</th>\n",
       "      <td>2658</td>\n",
       "      <td>902301120</td>\n",
       "      <td>190</td>\n",
       "      <td>RM</td>\n",
       "      <td>69.0</td>\n",
       "      <td>9142</td>\n",
       "      <td>Pave</td>\n",
       "      <td>Grvl</td>\n",
       "      <td>Reg</td>\n",
       "      <td>Lvl</td>\n",
       "      <td>...</td>\n",
       "      <td>0</td>\n",
       "      <td>0</td>\n",
       "      <td>0</td>\n",
       "      <td>NaN</td>\n",
       "      <td>NaN</td>\n",
       "      <td>NaN</td>\n",
       "      <td>0</td>\n",
       "      <td>4</td>\n",
       "      <td>2006</td>\n",
       "      <td>WD</td>\n",
       "    </tr>\n",
       "    <tr>\n",
       "      <th>1</th>\n",
       "      <td>2718</td>\n",
       "      <td>905108090</td>\n",
       "      <td>90</td>\n",
       "      <td>RL</td>\n",
       "      <td>NaN</td>\n",
       "      <td>9662</td>\n",
       "      <td>Pave</td>\n",
       "      <td>NaN</td>\n",
       "      <td>IR1</td>\n",
       "      <td>Lvl</td>\n",
       "      <td>...</td>\n",
       "      <td>0</td>\n",
       "      <td>0</td>\n",
       "      <td>0</td>\n",
       "      <td>NaN</td>\n",
       "      <td>NaN</td>\n",
       "      <td>NaN</td>\n",
       "      <td>0</td>\n",
       "      <td>8</td>\n",
       "      <td>2006</td>\n",
       "      <td>WD</td>\n",
       "    </tr>\n",
       "    <tr>\n",
       "      <th>2</th>\n",
       "      <td>2414</td>\n",
       "      <td>528218130</td>\n",
       "      <td>60</td>\n",
       "      <td>RL</td>\n",
       "      <td>58.0</td>\n",
       "      <td>17104</td>\n",
       "      <td>Pave</td>\n",
       "      <td>NaN</td>\n",
       "      <td>IR1</td>\n",
       "      <td>Lvl</td>\n",
       "      <td>...</td>\n",
       "      <td>0</td>\n",
       "      <td>0</td>\n",
       "      <td>0</td>\n",
       "      <td>NaN</td>\n",
       "      <td>NaN</td>\n",
       "      <td>NaN</td>\n",
       "      <td>0</td>\n",
       "      <td>9</td>\n",
       "      <td>2006</td>\n",
       "      <td>New</td>\n",
       "    </tr>\n",
       "    <tr>\n",
       "      <th>3</th>\n",
       "      <td>1989</td>\n",
       "      <td>902207150</td>\n",
       "      <td>30</td>\n",
       "      <td>RM</td>\n",
       "      <td>60.0</td>\n",
       "      <td>8520</td>\n",
       "      <td>Pave</td>\n",
       "      <td>NaN</td>\n",
       "      <td>Reg</td>\n",
       "      <td>Lvl</td>\n",
       "      <td>...</td>\n",
       "      <td>0</td>\n",
       "      <td>0</td>\n",
       "      <td>0</td>\n",
       "      <td>NaN</td>\n",
       "      <td>NaN</td>\n",
       "      <td>NaN</td>\n",
       "      <td>0</td>\n",
       "      <td>7</td>\n",
       "      <td>2007</td>\n",
       "      <td>WD</td>\n",
       "    </tr>\n",
       "    <tr>\n",
       "      <th>4</th>\n",
       "      <td>625</td>\n",
       "      <td>535105100</td>\n",
       "      <td>20</td>\n",
       "      <td>RL</td>\n",
       "      <td>NaN</td>\n",
       "      <td>9500</td>\n",
       "      <td>Pave</td>\n",
       "      <td>NaN</td>\n",
       "      <td>IR1</td>\n",
       "      <td>Lvl</td>\n",
       "      <td>...</td>\n",
       "      <td>0</td>\n",
       "      <td>185</td>\n",
       "      <td>0</td>\n",
       "      <td>NaN</td>\n",
       "      <td>NaN</td>\n",
       "      <td>NaN</td>\n",
       "      <td>0</td>\n",
       "      <td>7</td>\n",
       "      <td>2009</td>\n",
       "      <td>WD</td>\n",
       "    </tr>\n",
       "    <tr>\n",
       "      <th>...</th>\n",
       "      <td>...</td>\n",
       "      <td>...</td>\n",
       "      <td>...</td>\n",
       "      <td>...</td>\n",
       "      <td>...</td>\n",
       "      <td>...</td>\n",
       "      <td>...</td>\n",
       "      <td>...</td>\n",
       "      <td>...</td>\n",
       "      <td>...</td>\n",
       "      <td>...</td>\n",
       "      <td>...</td>\n",
       "      <td>...</td>\n",
       "      <td>...</td>\n",
       "      <td>...</td>\n",
       "      <td>...</td>\n",
       "      <td>...</td>\n",
       "      <td>...</td>\n",
       "      <td>...</td>\n",
       "      <td>...</td>\n",
       "      <td>...</td>\n",
       "    </tr>\n",
       "    <tr>\n",
       "      <th>874</th>\n",
       "      <td>1662</td>\n",
       "      <td>527377110</td>\n",
       "      <td>60</td>\n",
       "      <td>RL</td>\n",
       "      <td>80.0</td>\n",
       "      <td>8000</td>\n",
       "      <td>Pave</td>\n",
       "      <td>NaN</td>\n",
       "      <td>Reg</td>\n",
       "      <td>Lvl</td>\n",
       "      <td>...</td>\n",
       "      <td>0</td>\n",
       "      <td>0</td>\n",
       "      <td>0</td>\n",
       "      <td>NaN</td>\n",
       "      <td>NaN</td>\n",
       "      <td>NaN</td>\n",
       "      <td>0</td>\n",
       "      <td>11</td>\n",
       "      <td>2007</td>\n",
       "      <td>WD</td>\n",
       "    </tr>\n",
       "    <tr>\n",
       "      <th>875</th>\n",
       "      <td>1234</td>\n",
       "      <td>535126140</td>\n",
       "      <td>60</td>\n",
       "      <td>RL</td>\n",
       "      <td>90.0</td>\n",
       "      <td>14670</td>\n",
       "      <td>Pave</td>\n",
       "      <td>NaN</td>\n",
       "      <td>Reg</td>\n",
       "      <td>Lvl</td>\n",
       "      <td>...</td>\n",
       "      <td>0</td>\n",
       "      <td>0</td>\n",
       "      <td>0</td>\n",
       "      <td>NaN</td>\n",
       "      <td>MnPrv</td>\n",
       "      <td>NaN</td>\n",
       "      <td>0</td>\n",
       "      <td>8</td>\n",
       "      <td>2008</td>\n",
       "      <td>WD</td>\n",
       "    </tr>\n",
       "    <tr>\n",
       "      <th>876</th>\n",
       "      <td>1373</td>\n",
       "      <td>904100040</td>\n",
       "      <td>20</td>\n",
       "      <td>RL</td>\n",
       "      <td>55.0</td>\n",
       "      <td>8250</td>\n",
       "      <td>Pave</td>\n",
       "      <td>NaN</td>\n",
       "      <td>Reg</td>\n",
       "      <td>Lvl</td>\n",
       "      <td>...</td>\n",
       "      <td>0</td>\n",
       "      <td>0</td>\n",
       "      <td>0</td>\n",
       "      <td>NaN</td>\n",
       "      <td>NaN</td>\n",
       "      <td>NaN</td>\n",
       "      <td>0</td>\n",
       "      <td>8</td>\n",
       "      <td>2008</td>\n",
       "      <td>WD</td>\n",
       "    </tr>\n",
       "    <tr>\n",
       "      <th>877</th>\n",
       "      <td>1672</td>\n",
       "      <td>527425140</td>\n",
       "      <td>20</td>\n",
       "      <td>RL</td>\n",
       "      <td>60.0</td>\n",
       "      <td>9000</td>\n",
       "      <td>Pave</td>\n",
       "      <td>NaN</td>\n",
       "      <td>Reg</td>\n",
       "      <td>Lvl</td>\n",
       "      <td>...</td>\n",
       "      <td>0</td>\n",
       "      <td>0</td>\n",
       "      <td>0</td>\n",
       "      <td>NaN</td>\n",
       "      <td>GdWo</td>\n",
       "      <td>NaN</td>\n",
       "      <td>0</td>\n",
       "      <td>5</td>\n",
       "      <td>2007</td>\n",
       "      <td>WD</td>\n",
       "    </tr>\n",
       "    <tr>\n",
       "      <th>878</th>\n",
       "      <td>1939</td>\n",
       "      <td>535327160</td>\n",
       "      <td>20</td>\n",
       "      <td>RL</td>\n",
       "      <td>70.0</td>\n",
       "      <td>8400</td>\n",
       "      <td>Pave</td>\n",
       "      <td>NaN</td>\n",
       "      <td>Reg</td>\n",
       "      <td>Lvl</td>\n",
       "      <td>...</td>\n",
       "      <td>0</td>\n",
       "      <td>0</td>\n",
       "      <td>0</td>\n",
       "      <td>NaN</td>\n",
       "      <td>GdWo</td>\n",
       "      <td>NaN</td>\n",
       "      <td>0</td>\n",
       "      <td>3</td>\n",
       "      <td>2007</td>\n",
       "      <td>WD</td>\n",
       "    </tr>\n",
       "  </tbody>\n",
       "</table>\n",
       "<p>879 rows × 80 columns</p>\n",
       "</div>"
      ],
      "text/plain": [
       "       id        pid  ms_subclass ms_zoning  lot_frontage  lot_area street  \\\n",
       "0    2658  902301120          190        RM          69.0      9142   Pave   \n",
       "1    2718  905108090           90        RL           NaN      9662   Pave   \n",
       "2    2414  528218130           60        RL          58.0     17104   Pave   \n",
       "3    1989  902207150           30        RM          60.0      8520   Pave   \n",
       "4     625  535105100           20        RL           NaN      9500   Pave   \n",
       "..    ...        ...          ...       ...           ...       ...    ...   \n",
       "874  1662  527377110           60        RL          80.0      8000   Pave   \n",
       "875  1234  535126140           60        RL          90.0     14670   Pave   \n",
       "876  1373  904100040           20        RL          55.0      8250   Pave   \n",
       "877  1672  527425140           20        RL          60.0      9000   Pave   \n",
       "878  1939  535327160           20        RL          70.0      8400   Pave   \n",
       "\n",
       "    alley lot_shape land_contour  ... 3ssn_porch screen_porch pool_area  \\\n",
       "0    Grvl       Reg          Lvl  ...          0            0         0   \n",
       "1     NaN       IR1          Lvl  ...          0            0         0   \n",
       "2     NaN       IR1          Lvl  ...          0            0         0   \n",
       "3     NaN       Reg          Lvl  ...          0            0         0   \n",
       "4     NaN       IR1          Lvl  ...          0          185         0   \n",
       "..    ...       ...          ...  ...        ...          ...       ...   \n",
       "874   NaN       Reg          Lvl  ...          0            0         0   \n",
       "875   NaN       Reg          Lvl  ...          0            0         0   \n",
       "876   NaN       Reg          Lvl  ...          0            0         0   \n",
       "877   NaN       Reg          Lvl  ...          0            0         0   \n",
       "878   NaN       Reg          Lvl  ...          0            0         0   \n",
       "\n",
       "    pool_qc  fence misc_feature misc_val mo_sold  yr_sold  sale_type  \n",
       "0       NaN    NaN          NaN        0       4     2006        WD   \n",
       "1       NaN    NaN          NaN        0       8     2006        WD   \n",
       "2       NaN    NaN          NaN        0       9     2006        New  \n",
       "3       NaN    NaN          NaN        0       7     2007        WD   \n",
       "4       NaN    NaN          NaN        0       7     2009        WD   \n",
       "..      ...    ...          ...      ...     ...      ...        ...  \n",
       "874     NaN    NaN          NaN        0      11     2007        WD   \n",
       "875     NaN  MnPrv          NaN        0       8     2008        WD   \n",
       "876     NaN    NaN          NaN        0       8     2008        WD   \n",
       "877     NaN   GdWo          NaN        0       5     2007        WD   \n",
       "878     NaN   GdWo          NaN        0       3     2007        WD   \n",
       "\n",
       "[879 rows x 80 columns]"
      ]
     },
     "execution_count": 77,
     "metadata": {},
     "output_type": "execute_result"
    }
   ],
   "source": [
    "pd2.columns = [p.lower().replace(' ','_') for p in pd2.columns]\n",
    "pd2"
   ]
  },
  {
   "cell_type": "markdown",
   "metadata": {},
   "source": [
    "## Exploratory Data Analysis for the test set"
   ]
  },
  {
   "cell_type": "markdown",
   "metadata": {},
   "source": [
    "###### 1. Assign `nominal`, `ordinal`, `discrete` and `continuous` variables to respective assignments to segregate them"
   ]
  },
  {
   "cell_type": "code",
   "execution_count": 78,
   "metadata": {},
   "outputs": [],
   "source": [
    "nominal2 = pd2[['ms_subclass','ms_zoning','street','land_contour','lot_config','neighborhood','condition_1','condition_2','bldg_type','house_style','roof_style','roof_matl','exterior_1st','exterior_2nd','mas_vnr_type','foundation','heating','central_air','garage_type','sale_type']]"
   ]
  },
  {
   "cell_type": "code",
   "execution_count": 79,
   "metadata": {},
   "outputs": [],
   "source": [
    "ordinal2 = pd2[['lot_shape','utilities','land_slope','overall_qual','overall_cond','exter_qual','exter_cond','bsmt_qual','bsmt_cond','bsmt_exposure','bsmtfin_type_1','bsmtfin_type_2','heating_qc','electrical','kitchen_qual','functional','fireplace_qu','garage_finish','garage_qual','garage_cond','paved_drive','pool_qc','fence']]"
   ]
  },
  {
   "cell_type": "code",
   "execution_count": 80,
   "metadata": {},
   "outputs": [],
   "source": [
    "discrete2 = pd2[['year_built','year_remod/add','bsmt_full_bath','bsmt_half_bath','full_bath','half_bath','bedroom_abvgr','kitchen_abvgr','totrms_abvgrd','fireplaces','garage_yr_blt','garage_cars','mo_sold','yr_sold']]"
   ]
  },
  {
   "cell_type": "code",
   "execution_count": 81,
   "metadata": {},
   "outputs": [],
   "source": [
    "continuous2 = pd2[['lot_frontage','lot_area','mas_vnr_area','bsmtfin_sf_1','bsmtfin_sf_2','bsmt_unf_sf','total_bsmt_sf','1st_flr_sf','2nd_flr_sf','low_qual_fin_sf','gr_liv_area','garage_area','wood_deck_sf','open_porch_sf','enclosed_porch','3ssn_porch','screen_porch','pool_area','misc_val']]"
   ]
  },
  {
   "cell_type": "markdown",
   "metadata": {},
   "source": [
    "###### 2. Define `functions` to fill nulls and convert categorical variables into numeric using `pd.get_dummies()` and `LabelEncoder()`"
   ]
  },
  {
   "cell_type": "code",
   "execution_count": 82,
   "metadata": {},
   "outputs": [],
   "source": [
    "def fill_continuous(features):\n",
    "    for f in features:\n",
    "        mean = pd2[[f]].mean()\n",
    "        pd2[[f]] = pd2[[f]].fillna(value=mean)"
   ]
  },
  {
   "cell_type": "code",
   "execution_count": 83,
   "metadata": {},
   "outputs": [],
   "source": [
    "fill_continuous(continuous2)"
   ]
  },
  {
   "cell_type": "code",
   "execution_count": 84,
   "metadata": {},
   "outputs": [],
   "source": [
    "def fill_ordinal(features):\n",
    "    le = LabelEncoder()\n",
    "    for f in features:\n",
    "        pd2[[f]] = pd2[[f]].fillna(value='na')\n",
    "        pd2[[f]] = le.fit_transform(pd2[[f]])"
   ]
  },
  {
   "cell_type": "code",
   "execution_count": 85,
   "metadata": {},
   "outputs": [
    {
     "name": "stderr",
     "output_type": "stream",
     "text": [
      "C:\\Users\\Jonathan\\Anaconda2\\envs\\py36\\lib\\site-packages\\sklearn\\preprocessing\\label.py:235: DataConversionWarning: A column-vector y was passed when a 1d array was expected. Please change the shape of y to (n_samples, ), for example using ravel().\n",
      "  y = column_or_1d(y, warn=True)\n"
     ]
    }
   ],
   "source": [
    "fill_ordinal(ordinal2)"
   ]
  },
  {
   "cell_type": "code",
   "execution_count": 86,
   "metadata": {},
   "outputs": [],
   "source": [
    "def fill_nominal(features):\n",
    "    features['ms_subclass'] = features['ms_subclass'].astype(str)\n",
    "    for f in features:\n",
    "        pd2[[f]] = features[[f]].fillna(value='na')\n",
    "    df = pd.get_dummies(features)\n",
    "    return df"
   ]
  },
  {
   "cell_type": "code",
   "execution_count": 87,
   "metadata": {
    "scrolled": false
   },
   "outputs": [
    {
     "name": "stderr",
     "output_type": "stream",
     "text": [
      "C:\\Users\\Jonathan\\Anaconda2\\envs\\py36\\lib\\site-packages\\ipykernel_launcher.py:2: SettingWithCopyWarning: \n",
      "A value is trying to be set on a copy of a slice from a DataFrame.\n",
      "Try using .loc[row_indexer,col_indexer] = value instead\n",
      "\n",
      "See the caveats in the documentation: http://pandas.pydata.org/pandas-docs/stable/user_guide/indexing.html#returning-a-view-versus-a-copy\n",
      "  \n"
     ]
    }
   ],
   "source": [
    "a = fill_nominal(nominal2)"
   ]
  },
  {
   "cell_type": "code",
   "execution_count": 88,
   "metadata": {},
   "outputs": [],
   "source": [
    "df = pd2.join(a)"
   ]
  },
  {
   "cell_type": "markdown",
   "metadata": {},
   "source": [
    "## Transform the input and predict the SalePrice"
   ]
  },
  {
   "cell_type": "markdown",
   "metadata": {},
   "source": [
    "###### 1. Select the variables from the training set and assign to `X` and transform using `.transform()`"
   ]
  },
  {
   "cell_type": "code",
   "execution_count": 89,
   "metadata": {},
   "outputs": [],
   "source": [
    "X = df[['overall_qual','gr_liv_area','kitchen_qual','garage_area','bsmt_qual','total_bsmt_sf','1st_flr_sf','year_built']]"
   ]
  },
  {
   "cell_type": "code",
   "execution_count": 90,
   "metadata": {},
   "outputs": [],
   "source": [
    "X = ss.transform(X)"
   ]
  },
  {
   "cell_type": "markdown",
   "metadata": {},
   "source": [
    "###### 2. Using the best training model, predict the test set's saleprice using `.predict()`"
   ]
  },
  {
   "cell_type": "code",
   "execution_count": 91,
   "metadata": {},
   "outputs": [
    {
     "name": "stdout",
     "output_type": "stream",
     "text": [
      "[[179916.46643711]\n",
      " [192177.12466739]\n",
      " [175532.67848927]\n",
      " [ 83437.96607883]\n",
      " [152283.07768987]\n",
      " [ 67744.5568548 ]\n",
      " [ 79150.80870844]\n",
      " [145098.92950518]\n",
      " [195803.09308328]\n",
      " [136450.83633467]\n",
      " [167061.4042248 ]\n",
      " [ 97789.86281616]\n",
      " [138408.36046958]\n",
      " [250634.57440132]\n",
      " [125918.45834582]\n",
      " [ 81677.71055257]\n",
      " [133014.57231222]\n",
      " [ 96799.09813819]\n",
      " [161627.19051623]\n",
      " [165685.94673519]\n",
      " [118830.56624589]\n",
      " [ 95279.89441114]\n",
      " [201921.49581832]\n",
      " [113383.71607809]\n",
      " [188834.12730732]\n",
      " [ 84846.98077523]\n",
      " [ 98550.93243031]\n",
      " [146746.48103781]\n",
      " [135357.94326321]\n",
      " [ 44167.27722519]\n",
      " [ 82404.13155903]\n",
      " [ 77612.78641954]\n",
      " [221226.43671748]\n",
      " [143227.9721755 ]\n",
      " [210671.3235156 ]\n",
      " [173001.86139796]\n",
      " [128548.62092045]\n",
      " [ 51744.46036603]\n",
      " [ 88921.3098138 ]\n",
      " [199270.57670277]\n",
      " [152380.06679749]\n",
      " [201396.00993468]\n",
      " [144794.19777989]\n",
      " [109125.51460626]\n",
      " [203791.06125182]\n",
      " [ 71757.89787025]\n",
      " [203381.63749747]\n",
      " [ 86052.1262705 ]\n",
      " [ 84412.83877126]\n",
      " [ 95018.44045798]\n",
      " [ 84756.6408617 ]\n",
      " [200368.09199112]\n",
      " [245389.68952231]\n",
      " [115299.78148828]\n",
      " [ 72563.69855265]\n",
      " [136091.37890812]\n",
      " [145136.53988272]\n",
      " [117510.0602916 ]\n",
      " [145122.64246144]\n",
      " [217635.89365108]\n",
      " [276895.99100338]\n",
      " [ 97412.1045686 ]\n",
      " [104093.81887336]\n",
      " [158743.99198686]\n",
      " [169141.3601372 ]\n",
      " [275605.47653059]\n",
      " [ 57745.30015925]\n",
      " [183487.32344846]\n",
      " [ 42172.59201579]\n",
      " [138360.17041426]\n",
      " [ 61752.35303295]\n",
      " [304075.94475762]\n",
      " [160191.11125554]\n",
      " [164819.0974155 ]\n",
      " [106254.63101438]\n",
      " [178298.97697592]\n",
      " [497819.67702122]\n",
      " [111111.01298599]\n",
      " [118809.39709095]\n",
      " [ 56673.23258312]\n",
      " [299167.95276691]\n",
      " [205342.47761713]\n",
      " [ 97081.29139802]\n",
      " [110033.40122657]\n",
      " [ 86826.0368367 ]\n",
      " [172887.66663506]\n",
      " [328907.4907591 ]\n",
      " [ 90589.58260922]\n",
      " [145900.71241664]\n",
      " [209949.96745948]\n",
      " [130970.83022513]\n",
      " [111831.17779758]\n",
      " [ 78954.40099136]\n",
      " [140972.00978092]\n",
      " [193885.57036372]\n",
      " [ 84255.13483017]\n",
      " [119057.2211296 ]\n",
      " [153955.33770973]\n",
      " [231547.28199344]\n",
      " [182086.86980186]\n",
      " [204598.41918764]\n",
      " [257012.64629843]\n",
      " [158664.37126586]\n",
      " [ 89004.05409605]\n",
      " [369575.09899415]\n",
      " [124594.99992344]\n",
      " [ 82258.30771044]\n",
      " [159486.11757695]\n",
      " [180066.20542041]\n",
      " [190833.09243356]\n",
      " [136415.76361044]\n",
      " [152143.00704775]\n",
      " [225014.28661173]\n",
      " [ 72924.27533886]\n",
      " [112073.37641062]\n",
      " [206282.16182003]\n",
      " [376318.62006164]\n",
      " [138384.32189311]\n",
      " [ 98975.4412134 ]\n",
      " [296517.87585959]\n",
      " [168595.38383487]\n",
      " [338881.86066319]\n",
      " [260642.61744137]\n",
      " [261216.81893885]\n",
      " [139561.40858588]\n",
      " [118695.70805601]\n",
      " [318139.28562676]\n",
      " [ 82539.72169689]\n",
      " [109031.32615228]\n",
      " [ 74773.83576038]\n",
      " [256369.51726263]\n",
      " [106846.97947938]\n",
      " [155972.15547663]\n",
      " [109398.0758316 ]\n",
      " [137963.11318515]\n",
      " [144005.56254947]\n",
      " [186670.12613349]\n",
      " [202260.09388735]\n",
      " [179416.32094487]\n",
      " [183487.32344846]\n",
      " [ 88196.23740156]\n",
      " [169582.37161657]\n",
      " [113879.77957107]\n",
      " [ 97724.14958423]\n",
      " [151301.24656075]\n",
      " [ 54806.54418294]\n",
      " [134246.8939571 ]\n",
      " [137636.26285171]\n",
      " [123039.85989232]\n",
      " [ 82738.01406133]\n",
      " [222614.40381171]\n",
      " [197528.46993916]\n",
      " [153808.49157765]\n",
      " [ 89473.28481509]\n",
      " [ 83186.09221068]\n",
      " [ 82162.9534658 ]\n",
      " [ 95667.82542776]\n",
      " [ 56840.09518632]\n",
      " [120642.52766107]\n",
      " [235396.99696737]\n",
      " [254422.47107013]\n",
      " [191995.67348292]\n",
      " [ 84976.12712681]\n",
      " [ 91927.2966495 ]\n",
      " [384031.1109124 ]\n",
      " [263690.92095485]\n",
      " [237304.81173918]\n",
      " [165496.50525223]\n",
      " [177540.83025726]\n",
      " [227936.42448648]\n",
      " [202733.61268022]\n",
      " [456148.62247697]\n",
      " [113515.93371396]\n",
      " [150210.6457686 ]\n",
      " [161527.10757625]\n",
      " [196607.82363182]\n",
      " [164590.64341599]\n",
      " [105219.71069212]\n",
      " [183726.78957166]\n",
      " [ 67150.65919266]\n",
      " [111266.3884804 ]\n",
      " [ 97751.13086775]\n",
      " [169107.54935065]\n",
      " [216576.38479572]\n",
      " [178765.05737208]\n",
      " [144125.5041086 ]\n",
      " [ 94932.13017346]\n",
      " [178213.12121367]\n",
      " [189773.12691885]\n",
      " [ 93118.77662747]\n",
      " [ 72541.30119219]\n",
      " [162246.13445709]\n",
      " [ 95406.89877461]\n",
      " [110111.79269742]\n",
      " [ 86625.39179705]\n",
      " [164416.31573961]\n",
      " [115084.87328844]\n",
      " [233885.780882  ]\n",
      " [103138.47865794]\n",
      " [107092.49810475]\n",
      " [103057.95677705]\n",
      " [293498.02988152]\n",
      " [166403.78249508]\n",
      " [100755.31001168]\n",
      " [177039.71480927]\n",
      " [119985.31511821]\n",
      " [ 54273.46804473]\n",
      " [137492.23409876]\n",
      " [102618.96200712]\n",
      " [211305.8402216 ]\n",
      " [199484.35021237]\n",
      " [158586.07126481]\n",
      " [176091.76541679]\n",
      " [ 96088.73225038]\n",
      " [221380.60738779]\n",
      " [260239.71176607]\n",
      " [191853.23495655]\n",
      " [203891.46870581]\n",
      " [117378.44966393]\n",
      " [ 74752.81307017]\n",
      " [115095.04156101]\n",
      " [175828.53330737]\n",
      " [124662.92481815]\n",
      " [142834.44878263]\n",
      " [164555.70830842]\n",
      " [ 89709.00960727]\n",
      " [ 95190.90659238]\n",
      " [254341.01754638]\n",
      " [214624.15551385]\n",
      " [113195.21274875]\n",
      " [250194.55001521]\n",
      " [150775.55441193]\n",
      " [ 46539.34993393]\n",
      " [ 91039.78064692]\n",
      " [ 58413.0966755 ]\n",
      " [268507.39416483]\n",
      " [137271.21057391]\n",
      " [ 64347.6601987 ]\n",
      " [343292.4220592 ]\n",
      " [322841.21050248]\n",
      " [202749.05742384]\n",
      " [233112.40684712]\n",
      " [148274.37189522]\n",
      " [278455.27624983]\n",
      " [240020.84768938]\n",
      " [316981.12527031]\n",
      " [248375.29606328]\n",
      " [111388.35576739]\n",
      " [ 71706.66851949]\n",
      " [165401.41127459]\n",
      " [300181.7754515 ]\n",
      " [231424.64686478]\n",
      " [124510.99870682]\n",
      " [228535.11571421]\n",
      " [218024.99180575]\n",
      " [185019.44503066]\n",
      " [ 50440.00358389]\n",
      " [ 45213.54698752]\n",
      " [341323.53691293]\n",
      " [206156.91326005]\n",
      " [197705.20641453]\n",
      " [163344.37162609]\n",
      " [118199.91803222]\n",
      " [104824.85894241]\n",
      " [116840.80156051]\n",
      " [214470.63034785]\n",
      " [143723.37391067]\n",
      " [115197.29420371]\n",
      " [190960.56930313]\n",
      " [139673.12981533]\n",
      " [126784.71540521]\n",
      " [164185.71798316]\n",
      " [190147.62483574]\n",
      " [174338.03514353]\n",
      " [290551.746339  ]\n",
      " [ 78705.62302572]\n",
      " [117016.24193152]\n",
      " [138063.2215832 ]\n",
      " [169314.29772014]\n",
      " [ 68369.91594388]\n",
      " [ 94391.76570299]\n",
      " [224928.99978078]\n",
      " [142492.7017017 ]\n",
      " [ 94008.8041533 ]\n",
      " [ 54985.46548312]\n",
      " [105755.04220784]\n",
      " [201149.15826265]\n",
      " [167932.77719721]\n",
      " [ 87407.77814419]\n",
      " [ 89919.53754062]\n",
      " [111849.42436229]\n",
      " [ 80239.95602564]\n",
      " [124824.30207353]\n",
      " [ 68932.35217907]\n",
      " [ 60028.93386087]\n",
      " [129476.17563983]\n",
      " [138360.17041426]\n",
      " [191021.07493571]\n",
      " [221344.65140323]\n",
      " [222549.90965231]\n",
      " [124194.77606225]\n",
      " [157192.89787253]\n",
      " [302862.20380288]\n",
      " [100601.28663381]\n",
      " [136098.92206821]\n",
      " [ 66927.88079037]\n",
      " [ 79939.30086194]\n",
      " [155954.86384946]\n",
      " [197686.45881487]\n",
      " [113827.5217466 ]\n",
      " [ 94300.49814024]\n",
      " [164010.80642523]\n",
      " [210730.40657021]\n",
      " [227623.75960515]\n",
      " [250393.77239557]\n",
      " [115421.51362491]\n",
      " [307829.80227355]\n",
      " [305972.47917984]\n",
      " [242580.97898025]\n",
      " [221829.71378076]\n",
      " [113891.71229838]\n",
      " [ 27433.48346863]\n",
      " [ 88863.47413085]\n",
      " [134762.4675335 ]\n",
      " [240306.5009661 ]\n",
      " [ 96247.30966609]\n",
      " [117728.00473257]\n",
      " [124040.09680553]\n",
      " [177106.06419926]\n",
      " [179529.24576569]\n",
      " [111787.12399261]\n",
      " [167998.9578837 ]\n",
      " [173502.41039635]\n",
      " [130069.51942814]\n",
      " [170459.00404809]\n",
      " [ 70262.68913705]\n",
      " [144316.13728273]\n",
      " [ 69007.01112792]\n",
      " [ 79292.97662597]\n",
      " [105179.19202999]\n",
      " [154499.44920287]\n",
      " [174740.55360985]\n",
      " [ 88913.45341018]\n",
      " [ 95773.61318369]\n",
      " [176841.6046925 ]\n",
      " [255396.27432886]\n",
      " [220960.35252855]\n",
      " [156221.72665795]\n",
      " [ 81550.34018765]\n",
      " [178017.66655394]\n",
      " [106105.19883388]\n",
      " [129443.85212432]\n",
      " [120728.43202932]\n",
      " [104527.91011135]\n",
      " [242850.57528355]\n",
      " [102476.43731039]\n",
      " [254595.82577185]\n",
      " [138614.55797231]\n",
      " [207166.9894699 ]\n",
      " [235976.83670828]\n",
      " [119543.52036853]\n",
      " [150912.81685825]\n",
      " [127442.93852418]\n",
      " [ 91139.44560926]\n",
      " [170411.73591822]\n",
      " [207642.96988062]\n",
      " [232974.83655804]\n",
      " [163404.10395821]\n",
      " [184529.98556956]\n",
      " [211869.06613003]\n",
      " [ 72286.6123299 ]\n",
      " [208347.10065807]\n",
      " [ 90283.31054585]\n",
      " [133054.9910772 ]\n",
      " [336933.10735816]\n",
      " [ 94411.51666627]\n",
      " [259001.34659676]\n",
      " [140656.61524055]\n",
      " [239274.69783291]\n",
      " [198507.71334158]\n",
      " [129726.47452137]\n",
      " [123600.00505344]\n",
      " [141712.84403136]\n",
      " [303102.25889383]\n",
      " [292270.01750026]\n",
      " [202798.12407651]\n",
      " [160342.28158491]\n",
      " [154608.63405935]\n",
      " [165647.14293983]\n",
      " [107000.21513324]\n",
      " [ 99660.22213894]\n",
      " [ 81534.90181499]\n",
      " [267304.07791189]\n",
      " [139968.23573964]\n",
      " [127298.32729795]\n",
      " [195996.29634765]\n",
      " [ 31811.70666034]\n",
      " [179086.1131631 ]\n",
      " [142627.9360386 ]\n",
      " [102590.75652461]\n",
      " [ 81375.46736165]\n",
      " [179275.26457743]\n",
      " [225860.64625086]\n",
      " [ 82002.71950339]\n",
      " [262050.44288396]\n",
      " [126031.50856788]\n",
      " [ 93331.16333537]\n",
      " [108077.66387632]\n",
      " [206883.80267223]\n",
      " [255264.20628967]\n",
      " [103419.02568452]\n",
      " [ 99939.27020175]\n",
      " [117492.81889413]\n",
      " [242829.62676799]\n",
      " [108544.00077643]\n",
      " [238128.11261677]\n",
      " [268087.73000685]\n",
      " [ 89672.92258063]\n",
      " [226253.34931208]\n",
      " [ 79002.57185679]\n",
      " [146891.98408689]\n",
      " [230575.88915697]\n",
      " [ 93666.28240453]\n",
      " [229580.53924812]\n",
      " [ 82305.38319445]\n",
      " [223160.80038228]\n",
      " [336662.34785578]\n",
      " [192075.55962595]\n",
      " [196016.27098674]\n",
      " [116195.13195153]\n",
      " [255075.75311997]\n",
      " [ 84730.12441309]\n",
      " [107375.98765819]\n",
      " [109433.75741974]\n",
      " [186535.34960188]\n",
      " [ 87719.87621768]\n",
      " [269828.78297687]\n",
      " [196861.53530049]\n",
      " [132159.28707821]\n",
      " [153508.71208844]\n",
      " [159434.40940835]\n",
      " [196638.86753632]\n",
      " [110833.00479449]\n",
      " [101370.70186294]\n",
      " [142343.85109783]\n",
      " [133243.26088478]\n",
      " [180490.69518056]\n",
      " [ 46095.80468476]\n",
      " [ 65728.28540235]\n",
      " [254729.47534091]\n",
      " [137037.42102038]\n",
      " [181355.16693349]\n",
      " [251801.80095094]\n",
      " [197589.93986833]\n",
      " [149853.20249491]\n",
      " [188219.54850218]\n",
      " [218779.83347986]\n",
      " [199837.33874501]\n",
      " [123402.39378396]\n",
      " [216375.60918772]\n",
      " [123385.99787783]\n",
      " [139768.99455055]\n",
      " [ 94845.53628253]\n",
      " [115070.67320311]\n",
      " [450459.92856417]\n",
      " [ 84988.14018917]\n",
      " [203265.75524454]\n",
      " [208862.17005163]\n",
      " [231824.54080413]\n",
      " [ 96686.35422231]\n",
      " [ 80708.46791353]\n",
      " [123478.43135737]\n",
      " [231126.98592296]\n",
      " [160435.09326943]\n",
      " [ 82713.73442681]\n",
      " [223696.86618447]\n",
      " [228939.18966526]\n",
      " [122608.07381134]\n",
      " [119453.99664527]\n",
      " [ 79848.77811951]\n",
      " [176199.26742567]\n",
      " [ 40121.95206819]\n",
      " [225986.86668141]\n",
      " [103683.35260432]\n",
      " [176160.66046495]\n",
      " [245985.15775321]\n",
      " [119846.11501653]\n",
      " [138360.17041426]\n",
      " [161286.06053505]\n",
      " [178437.18626653]\n",
      " [109508.73354954]\n",
      " [142828.71895984]\n",
      " [215063.41951104]\n",
      " [157041.44229202]\n",
      " [189222.64524968]\n",
      " [299623.37913108]\n",
      " [196707.35386332]\n",
      " [ 91996.22504669]\n",
      " [ 88849.41635385]\n",
      " [143135.81299046]\n",
      " [ 94872.68499653]\n",
      " [162821.80665208]\n",
      " [205620.66782197]\n",
      " [168342.15981913]\n",
      " [167837.82437213]\n",
      " [223255.98236367]\n",
      " [ 86051.85899205]\n",
      " [240436.77084077]\n",
      " [116373.96039372]\n",
      " [ 96056.63228926]\n",
      " [247525.49026356]\n",
      " [124317.98262901]\n",
      " [129699.36106806]\n",
      " [103801.89081386]\n",
      " [ 95548.83485768]\n",
      " [ -3194.51961314]\n",
      " [148828.59716646]\n",
      " [123619.66466924]\n",
      " [182824.64391322]\n",
      " [275838.2830822 ]\n",
      " [251147.8214031 ]\n",
      " [ 77660.86140106]\n",
      " [117273.32315987]\n",
      " [105408.74651572]\n",
      " [ 94026.70601322]\n",
      " [208617.72969404]\n",
      " [353904.21471159]\n",
      " [176200.51103375]\n",
      " [ 94148.50060233]\n",
      " [113090.56219337]\n",
      " [ 28731.48718438]\n",
      " [110732.43339615]\n",
      " [172064.80473274]\n",
      " [122624.95653935]\n",
      " [191458.91979636]\n",
      " [153055.17834048]\n",
      " [137382.52896655]\n",
      " [ 56840.09518632]\n",
      " [196526.17770642]\n",
      " [125765.21014118]\n",
      " [180843.06730829]\n",
      " [115802.22030222]\n",
      " [ 68034.54978839]\n",
      " [ 56256.01627814]\n",
      " [129410.36259582]\n",
      " [208449.92200207]\n",
      " [273627.08595247]\n",
      " [222629.3385811 ]\n",
      " [ 94711.27369439]\n",
      " [ 87976.0514675 ]\n",
      " [251352.92806782]\n",
      " [111354.0972292 ]\n",
      " [240682.62070675]\n",
      " [ 43448.70434762]\n",
      " [155168.60351887]\n",
      " [227362.65624217]\n",
      " [ 53888.32697017]\n",
      " [ 99504.14529656]\n",
      " [139130.17470387]\n",
      " [101931.54082125]\n",
      " [128746.7359431 ]\n",
      " [ 89005.5053729 ]\n",
      " [170269.48296312]\n",
      " [168189.25372511]\n",
      " [113860.46566104]\n",
      " [127125.84342409]\n",
      " [ 97409.667216  ]\n",
      " [131405.25551665]\n",
      " [216618.36479166]\n",
      " [118903.56791872]\n",
      " [ 98573.11848868]\n",
      " [151451.62758265]\n",
      " [103549.61382702]\n",
      " [ 67194.02955552]\n",
      " [113499.89865819]\n",
      " [151417.37068725]\n",
      " [ 83089.84718585]\n",
      " [158879.4375113 ]\n",
      " [138360.17041426]\n",
      " [173840.59257886]\n",
      " [ 74234.79967886]\n",
      " [143002.85759988]\n",
      " [118211.51241342]\n",
      " [258278.99256468]\n",
      " [120769.9100312 ]\n",
      " [129968.45737563]\n",
      " [129782.71827375]\n",
      " [134524.10780125]\n",
      " [127131.77926473]\n",
      " [258606.96604521]\n",
      " [210535.66126948]\n",
      " [ 98086.42365396]\n",
      " [ 73475.60775573]\n",
      " [108287.03928376]\n",
      " [102726.71459141]\n",
      " [302678.67327807]\n",
      " [208454.23563576]\n",
      " [109637.55080019]\n",
      " [100608.57746423]\n",
      " [ 91342.09340118]\n",
      " [299020.5094021 ]\n",
      " [ 98025.19446301]\n",
      " [208093.64180421]\n",
      " [ 97580.10921799]\n",
      " [144490.98147083]\n",
      " [210971.92344242]\n",
      " [ 59079.7045794 ]\n",
      " [ 95745.29730058]\n",
      " [ 78342.84592504]\n",
      " [171131.31103593]\n",
      " [ 88391.35525125]\n",
      " [104705.72523766]\n",
      " [309138.97152601]\n",
      " [201613.72212941]\n",
      " [ 78483.02439924]\n",
      " [117480.96191386]\n",
      " [ 36220.50271695]\n",
      " [192347.7409961 ]\n",
      " [243519.09220965]\n",
      " [ 80333.23412786]\n",
      " [143064.16100328]\n",
      " [192000.83898327]\n",
      " [105450.16847685]\n",
      " [133345.06084633]\n",
      " [ 84204.68480191]\n",
      " [124161.23184387]\n",
      " [141498.32430011]\n",
      " [182367.9111004 ]\n",
      " [101693.13516751]\n",
      " [308082.51173601]\n",
      " [146718.90118792]\n",
      " [150158.69324477]\n",
      " [186486.3196115 ]\n",
      " [ 84342.26785184]\n",
      " [ 34898.47453909]\n",
      " [137741.88591822]\n",
      " [164927.7923127 ]\n",
      " [180720.85608652]\n",
      " [151574.00392686]\n",
      " [110388.3933951 ]\n",
      " [126013.42819167]\n",
      " [290401.28807878]\n",
      " [ 93377.62417548]\n",
      " [200575.23881751]\n",
      " [236662.89849755]\n",
      " [124773.7914573 ]\n",
      " [ 69185.95038912]\n",
      " [249420.80944003]\n",
      " [173274.00443285]\n",
      " [126784.71540521]\n",
      " [156031.62293765]\n",
      " [111541.20626049]\n",
      " [ 98080.40458988]\n",
      " [ 81236.45222991]\n",
      " [124241.42125638]\n",
      " [ 16615.63807651]\n",
      " [115530.08389061]\n",
      " [201550.9468394 ]\n",
      " [132361.27238597]\n",
      " [224891.76009521]\n",
      " [156694.4223827 ]\n",
      " [128859.47676596]\n",
      " [182520.36033332]\n",
      " [174873.43890704]\n",
      " [212920.43034636]\n",
      " [347799.07196883]\n",
      " [231404.0270044 ]\n",
      " [174306.91773472]\n",
      " [142391.46415849]\n",
      " [118875.40112401]\n",
      " [276930.21469945]\n",
      " [215310.93373106]\n",
      " [280018.45251926]\n",
      " [197959.90469442]\n",
      " [117212.30493664]\n",
      " [ 92655.83558481]\n",
      " [102678.70892457]\n",
      " [116060.44791603]\n",
      " [ 68041.50568587]\n",
      " [113130.37297311]\n",
      " [ 77959.82088084]\n",
      " [293374.94444939]\n",
      " [190113.97940541]\n",
      " [156307.61695961]\n",
      " [240289.11381882]\n",
      " [183479.97203228]\n",
      " [134594.65654882]\n",
      " [202935.53212809]\n",
      " [312062.60133606]\n",
      " [101205.35658198]\n",
      " [172491.44456613]\n",
      " [ 48045.39643105]\n",
      " [107724.44030928]\n",
      " [215748.49513742]\n",
      " [ 93576.78761884]\n",
      " [197143.18063346]\n",
      " [161552.70575464]\n",
      " [207480.17955387]\n",
      " [302113.1662838 ]\n",
      " [ 80238.72299451]\n",
      " [235246.21391004]\n",
      " [138360.17041426]\n",
      " [135814.12378121]\n",
      " [135134.31126366]\n",
      " [ 97512.37935808]\n",
      " [265326.28688117]\n",
      " [263308.14800538]\n",
      " [129071.85781016]\n",
      " [108732.36161338]\n",
      " [122359.14410316]\n",
      " [289641.34231455]\n",
      " [215545.59263906]\n",
      " [ 65346.11234863]\n",
      " [101229.08936998]\n",
      " [101067.11506609]\n",
      " [104679.66067612]\n",
      " [155028.16495997]\n",
      " [244954.92658388]\n",
      " [211634.04304577]\n",
      " [166478.44142872]\n",
      " [189752.37485897]\n",
      " [202500.41561492]\n",
      " [240474.7600448 ]\n",
      " [102578.11328103]\n",
      " [ 93224.37641009]\n",
      " [251927.81056172]\n",
      " [178154.5036026 ]\n",
      " [164777.95597491]\n",
      " [ 86858.24809897]\n",
      " [245321.62779492]\n",
      " [ 61606.83852803]\n",
      " [209737.61638933]\n",
      " [162948.74189269]\n",
      " [239797.33816113]\n",
      " [123442.77388185]\n",
      " [174813.90472172]\n",
      " [123200.29670497]\n",
      " [126257.99470043]\n",
      " [123033.70092582]\n",
      " [109145.65534659]\n",
      " [107585.18861741]\n",
      " [208320.28034242]\n",
      " [159871.90111652]\n",
      " [128037.10415027]\n",
      " [ 91418.0140071 ]\n",
      " [135394.44718423]\n",
      " [150081.62136146]\n",
      " [171078.00584128]\n",
      " [187027.97962007]\n",
      " [ 94488.81706519]\n",
      " [282778.51772034]\n",
      " [256221.32794624]\n",
      " [123259.72510266]\n",
      " [137365.11329892]\n",
      " [147045.39336964]\n",
      " [ 94199.90430718]\n",
      " [148939.89241337]\n",
      " [367536.98536903]\n",
      " [ 45033.77510549]\n",
      " [126944.40087007]\n",
      " [209913.66120398]\n",
      " [104454.90393402]\n",
      " [221336.72679706]\n",
      " [107335.56840063]\n",
      " [190069.80216464]\n",
      " [145276.8019866 ]\n",
      " [269577.69400017]\n",
      " [153048.54399108]\n",
      " [185537.97177665]\n",
      " [264826.54458868]\n",
      " [163289.69075213]\n",
      " [191982.3395341 ]\n",
      " [147752.75995246]\n",
      " [153310.74904044]\n",
      " [186960.86060426]\n",
      " [ 94869.4727676 ]\n",
      " [149921.44985008]\n",
      " [195097.60272983]\n",
      " [100774.92446775]\n",
      " [104207.10590412]\n",
      " [152301.92025615]\n",
      " [164927.7923127 ]\n",
      " [326125.91297415]\n",
      " [ 68815.51517812]\n",
      " [ 85753.00216924]\n",
      " [ 74670.8140297 ]\n",
      " [129317.63366666]\n",
      " [248375.29606328]\n",
      " [107069.84221814]\n",
      " [249768.68297757]\n",
      " [150508.78528277]\n",
      " [170879.73734454]\n",
      " [234777.52168793]\n",
      " [169000.77636553]\n",
      " [257474.67617344]\n",
      " [149373.54824069]\n",
      " [194553.86952299]\n",
      " [155743.3401397 ]\n",
      " [215164.64738314]\n",
      " [223213.59553128]\n",
      " [197886.48769642]\n",
      " [110478.35859951]\n",
      " [ 94250.55596472]\n",
      " [135936.90074624]\n",
      " [ 83356.1642293 ]\n",
      " [234507.768112  ]\n",
      " [ 81174.15083488]\n",
      " [ 78211.50339289]\n",
      " [174656.48985264]\n",
      " [ 98497.69022466]\n",
      " [ 90495.54822323]\n",
      " [101243.44742769]\n",
      " [267953.23853988]\n",
      " [120338.44970654]\n",
      " [140026.92644742]\n",
      " [196813.70325383]\n",
      " [206957.01438501]\n",
      " [173049.50219113]\n",
      " [ 59078.24160917]\n",
      " [ 79900.58582342]\n",
      " [131887.59307047]\n",
      " [153564.28923754]\n",
      " [ 86678.61729027]\n",
      " [308358.35375068]\n",
      " [145369.92446542]\n",
      " [171223.49571122]\n",
      " [198433.60628835]\n",
      " [347511.46094438]\n",
      " [120994.08998583]\n",
      " [178500.30680282]\n",
      " [118212.63471383]\n",
      " [175801.84450222]\n",
      " [135296.21562553]\n",
      " [256129.51676508]\n",
      " [211389.48118135]\n",
      " [110557.24451419]\n",
      " [ 93166.87068392]\n",
      " [258000.77531785]\n",
      " [139910.48429877]\n",
      " [ 98045.23680331]\n",
      " [ 95224.936321  ]\n",
      " [183609.75198573]\n",
      " [186171.322038  ]\n",
      " [199008.5110032 ]\n",
      " [ 97609.9667255 ]\n",
      " [152522.91638713]\n",
      " [146155.52489306]\n",
      " [230951.59662732]\n",
      " [209779.40545629]\n",
      " [ 99518.51233019]\n",
      " [139518.24557358]\n",
      " [150611.81351697]\n",
      " [140645.44087724]\n",
      " [114359.77049005]\n",
      " [109534.28207892]\n",
      " [139098.49592589]\n",
      " [ 85456.12491611]\n",
      " [194756.67071321]\n",
      " [ 78313.53301361]\n",
      " [191784.81415211]\n",
      " [ 73475.7006872 ]\n",
      " [307329.83032081]\n",
      " [118589.07449357]\n",
      " [106750.99783938]\n",
      " [149752.70796403]\n",
      " [154559.63509694]\n",
      " [195897.44359606]\n",
      " [179281.14226677]\n",
      " [220908.30020471]\n",
      " [182701.92406277]\n",
      " [143667.42380163]\n",
      " [215470.91026921]\n",
      " [287133.62077549]\n",
      " [200631.03315073]\n",
      " [158274.23321664]\n",
      " [183469.65580462]\n",
      " [105124.96373916]\n",
      " [ 77272.12754803]\n",
      " [ 86124.59091006]]\n"
     ]
    }
   ],
   "source": [
    "predict = lr.predict(X)\n",
    "print(predict)"
   ]
  },
  {
   "cell_type": "markdown",
   "metadata": {},
   "source": [
    "###### 3. Convert the array into `DataFrame` with the columns including `'id'` and `'SalePrice'`"
   ]
  },
  {
   "cell_type": "code",
   "execution_count": 92,
   "metadata": {},
   "outputs": [],
   "source": [
    "final = pd.DataFrame(predict, columns=['SalePrice'])"
   ]
  },
  {
   "cell_type": "code",
   "execution_count": 93,
   "metadata": {},
   "outputs": [],
   "source": [
    "final['id']=pd2['id']\n",
    "final = final[['id','SalePrice']]"
   ]
  },
  {
   "cell_type": "code",
   "execution_count": 94,
   "metadata": {},
   "outputs": [
    {
     "data": {
      "text/html": [
       "<div>\n",
       "<style scoped>\n",
       "    .dataframe tbody tr th:only-of-type {\n",
       "        vertical-align: middle;\n",
       "    }\n",
       "\n",
       "    .dataframe tbody tr th {\n",
       "        vertical-align: top;\n",
       "    }\n",
       "\n",
       "    .dataframe thead th {\n",
       "        text-align: right;\n",
       "    }\n",
       "</style>\n",
       "<table border=\"1\" class=\"dataframe\">\n",
       "  <thead>\n",
       "    <tr style=\"text-align: right;\">\n",
       "      <th></th>\n",
       "      <th>id</th>\n",
       "      <th>SalePrice</th>\n",
       "    </tr>\n",
       "  </thead>\n",
       "  <tbody>\n",
       "    <tr>\n",
       "      <th>0</th>\n",
       "      <td>2658</td>\n",
       "      <td>179916.466437</td>\n",
       "    </tr>\n",
       "    <tr>\n",
       "      <th>1</th>\n",
       "      <td>2718</td>\n",
       "      <td>192177.124667</td>\n",
       "    </tr>\n",
       "    <tr>\n",
       "      <th>2</th>\n",
       "      <td>2414</td>\n",
       "      <td>175532.678489</td>\n",
       "    </tr>\n",
       "    <tr>\n",
       "      <th>3</th>\n",
       "      <td>1989</td>\n",
       "      <td>83437.966079</td>\n",
       "    </tr>\n",
       "    <tr>\n",
       "      <th>4</th>\n",
       "      <td>625</td>\n",
       "      <td>152283.077690</td>\n",
       "    </tr>\n",
       "  </tbody>\n",
       "</table>\n",
       "</div>"
      ],
      "text/plain": [
       "     id      SalePrice\n",
       "0  2658  179916.466437\n",
       "1  2718  192177.124667\n",
       "2  2414  175532.678489\n",
       "3  1989   83437.966079\n",
       "4   625  152283.077690"
      ]
     },
     "execution_count": 94,
     "metadata": {},
     "output_type": "execute_result"
    }
   ],
   "source": [
    "final.head()"
   ]
  },
  {
   "cell_type": "markdown",
   "metadata": {},
   "source": [
    "###### 4. Save predicted SalePrice into `.csv`"
   ]
  },
  {
   "cell_type": "code",
   "execution_count": 95,
   "metadata": {},
   "outputs": [],
   "source": [
    "final.to_csv('../datasets/y_hat.csv', index=False)"
   ]
  },
  {
   "cell_type": "markdown",
   "metadata": {},
   "source": [
    "# Conclusion"
   ]
  },
  {
   "cell_type": "markdown",
   "metadata": {},
   "source": [
    "Linear regression model was chosen to predict the sale price of houses in Aimes, Iowa. It was chosen over Lasso and Ridge regression because it gave the best score among the three, although the differences were small.\n",
    "This model is sufficient to help potential buyers to get a rough estimate of the sale prices therefore preparing them mentally and financially for their future. Housing agents can also rely on this model to help their buyers get their ideal house that is within their budget. \n",
    "\n",
    "For an even more accurate prediction of the sale price of houses, a more advance technique is recommended. "
   ]
  },
  {
   "cell_type": "markdown",
   "metadata": {},
   "source": [
    "- [Back to Executive Summary](#Contents:)"
   ]
  }
 ],
 "metadata": {
  "kernelspec": {
   "display_name": "Python 3",
   "language": "python",
   "name": "python3"
  },
  "language_info": {
   "codemirror_mode": {
    "name": "ipython",
    "version": 3
   },
   "file_extension": ".py",
   "mimetype": "text/x-python",
   "name": "python",
   "nbconvert_exporter": "python",
   "pygments_lexer": "ipython3",
   "version": "3.7.5"
  }
 },
 "nbformat": 4,
 "nbformat_minor": 2
}

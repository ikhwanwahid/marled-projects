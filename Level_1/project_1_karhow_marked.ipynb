{
 "cells": [
  {
   "cell_type": "markdown",
   "metadata": {},
   "source": [
    "<div style=\"border: 1px solid thistle; padding: 5px 20px 10px 20px;\">\n",
    "    <h2><font color = \"77658f\" style=\";\">Feedback</font></h2><br>\n",
    "    <font color = \"77658f\">Missing problem statement in your report!<br><br>\n",
    "        More comments in your code would be helpful. Otherwise good algorithmic logic. Good effort in ensuring readability of report and code. <br><br>\n",
    "        • Project Organisation: <b>Meet Requirement</b> <br>\n",
    "        • Python Syntax and Control Flow: <b>Meet Portfolio Expectations</b><br>\n",
    "        • Data Cleaning and EDA: <b>Meet Requirement</b><br>\n",
    "        • Visualisations: <b>Meet Portfolio Expectations</b><br>\n",
    "        • Research and Conceptual Understanding: <b>Meet Requirement</b><br> \n",
    "    </font>\n",
    "</div>"
   ]
  },
  {
   "cell_type": "markdown",
   "metadata": {},
   "source": [
    "# Project 1: SAT & ACT Analysis"
   ]
  },
  {
   "cell_type": "markdown",
   "metadata": {},
   "source": [
    "The first markdown cell in a notebook is a great place to provide an overview of your entire project. You will likely want to at least state your\n",
    "\n",
    "## Problem Statement"
   ]
  },
  {
   "cell_type": "markdown",
   "metadata": {},
   "source": [
    "Define the problem you are finding answers for from the data given.\n",
    "\n",
    "Business Context\n",
    "Business Objective\n",
    "Data Objective\n",
    "Evaluation"
   ]
  },
  {
   "cell_type": "markdown",
   "metadata": {},
   "source": [
    "## Executive Summary\n",
    "\n",
    "If you want to, it's great to use relative links to direct your audience to various sections of a notebook. **HERE'S A DEMONSTRATION WITH THE CURRENT SECTION HEADERS**:\n",
    "\n",
    "### Contents:\n",
    "- [2017 Data Import & Cleaning](#Data-Import-and-Cleaning)\n",
    "- [2018 Data Import and Cleaning](#2018-Data-Import-and-Cleaning)\n",
    "- [Exploratory Data Analysis](#Exploratory-Data-Analysis)\n",
    "- [Data Visualization](#Visualize-the-data)\n",
    "- [Descriptive and Inferential Statistics](#Descriptive-and-Inferential-Statistics)\n",
    "- [Outside Research](#Outside-Research)\n",
    "- [Conclusions and Recommendations](#Conclusions-and-Recommendations)"
   ]
  },
  {
   "cell_type": "markdown",
   "metadata": {},
   "source": [
    "**If you combine your problem statement, executive summary, data dictionary, and conclusions/recommendations, you have an amazing README.md file that quickly aligns your audience to the contents of your project.** Don't forget to cite your data sources!"
   ]
  },
  {
   "cell_type": "markdown",
   "metadata": {},
   "source": [
    "*All libraries used should be added here*"
   ]
  },
  {
   "cell_type": "code",
   "execution_count": 1,
   "metadata": {},
   "outputs": [],
   "source": [
    "#Imports:\n",
    "import numpy as np\n",
    "import pandas as pd\n",
    "\n",
    "import seaborn as sns\n",
    "import matplotlib.pyplot as plt\n",
    "\n",
    "%matplotlib inline"
   ]
  },
  {
   "cell_type": "markdown",
   "metadata": {},
   "source": [
    "## 2017 Data Import and Cleaning"
   ]
  },
  {
   "cell_type": "markdown",
   "metadata": {},
   "source": [
    "#### 1. Read In SAT & ACT  Data\n",
    "\n",
    "Read in the `sat_2017.csv` and `act_2017.csv` files and assign them to appropriately named pandas dataframes."
   ]
  },
  {
   "cell_type": "code",
   "execution_count": 2,
   "metadata": {},
   "outputs": [],
   "source": [
    "df_sat_2017 = pd.read_csv('../data/sat_2017.csv')\n",
    "df_act_2017 = pd.read_csv('../data/act_2017.csv')"
   ]
  },
  {
   "cell_type": "markdown",
   "metadata": {},
   "source": [
    "#### 2. Display Data\n",
    "\n",
    "Print the first 10 rows of each dataframe to your jupyter notebook"
   ]
  },
  {
   "cell_type": "code",
   "execution_count": 3,
   "metadata": {
    "scrolled": false
   },
   "outputs": [
    {
     "data": {
      "text/html": [
       "<div>\n",
       "<style scoped>\n",
       "    .dataframe tbody tr th:only-of-type {\n",
       "        vertical-align: middle;\n",
       "    }\n",
       "\n",
       "    .dataframe tbody tr th {\n",
       "        vertical-align: top;\n",
       "    }\n",
       "\n",
       "    .dataframe thead th {\n",
       "        text-align: right;\n",
       "    }\n",
       "</style>\n",
       "<table border=\"1\" class=\"dataframe\">\n",
       "  <thead>\n",
       "    <tr style=\"text-align: right;\">\n",
       "      <th></th>\n",
       "      <th>State</th>\n",
       "      <th>Participation</th>\n",
       "      <th>Evidence-Based Reading and Writing</th>\n",
       "      <th>Math</th>\n",
       "      <th>Total</th>\n",
       "    </tr>\n",
       "  </thead>\n",
       "  <tbody>\n",
       "    <tr>\n",
       "      <td>0</td>\n",
       "      <td>Alabama</td>\n",
       "      <td>5%</td>\n",
       "      <td>593</td>\n",
       "      <td>572</td>\n",
       "      <td>1165</td>\n",
       "    </tr>\n",
       "    <tr>\n",
       "      <td>1</td>\n",
       "      <td>Alaska</td>\n",
       "      <td>38%</td>\n",
       "      <td>547</td>\n",
       "      <td>533</td>\n",
       "      <td>1080</td>\n",
       "    </tr>\n",
       "    <tr>\n",
       "      <td>2</td>\n",
       "      <td>Arizona</td>\n",
       "      <td>30%</td>\n",
       "      <td>563</td>\n",
       "      <td>553</td>\n",
       "      <td>1116</td>\n",
       "    </tr>\n",
       "    <tr>\n",
       "      <td>3</td>\n",
       "      <td>Arkansas</td>\n",
       "      <td>3%</td>\n",
       "      <td>614</td>\n",
       "      <td>594</td>\n",
       "      <td>1208</td>\n",
       "    </tr>\n",
       "    <tr>\n",
       "      <td>4</td>\n",
       "      <td>California</td>\n",
       "      <td>53%</td>\n",
       "      <td>531</td>\n",
       "      <td>524</td>\n",
       "      <td>1055</td>\n",
       "    </tr>\n",
       "    <tr>\n",
       "      <td>5</td>\n",
       "      <td>Colorado</td>\n",
       "      <td>11%</td>\n",
       "      <td>606</td>\n",
       "      <td>595</td>\n",
       "      <td>1201</td>\n",
       "    </tr>\n",
       "    <tr>\n",
       "      <td>6</td>\n",
       "      <td>Connecticut</td>\n",
       "      <td>100%</td>\n",
       "      <td>530</td>\n",
       "      <td>512</td>\n",
       "      <td>1041</td>\n",
       "    </tr>\n",
       "    <tr>\n",
       "      <td>7</td>\n",
       "      <td>Delaware</td>\n",
       "      <td>100%</td>\n",
       "      <td>503</td>\n",
       "      <td>492</td>\n",
       "      <td>996</td>\n",
       "    </tr>\n",
       "    <tr>\n",
       "      <td>8</td>\n",
       "      <td>District of Columbia</td>\n",
       "      <td>100%</td>\n",
       "      <td>482</td>\n",
       "      <td>468</td>\n",
       "      <td>950</td>\n",
       "    </tr>\n",
       "    <tr>\n",
       "      <td>9</td>\n",
       "      <td>Florida</td>\n",
       "      <td>83%</td>\n",
       "      <td>520</td>\n",
       "      <td>497</td>\n",
       "      <td>1017</td>\n",
       "    </tr>\n",
       "  </tbody>\n",
       "</table>\n",
       "</div>"
      ],
      "text/plain": [
       "                  State Participation  Evidence-Based Reading and Writing  \\\n",
       "0               Alabama            5%                                 593   \n",
       "1                Alaska           38%                                 547   \n",
       "2               Arizona           30%                                 563   \n",
       "3              Arkansas            3%                                 614   \n",
       "4            California           53%                                 531   \n",
       "5              Colorado           11%                                 606   \n",
       "6           Connecticut          100%                                 530   \n",
       "7              Delaware          100%                                 503   \n",
       "8  District of Columbia          100%                                 482   \n",
       "9               Florida           83%                                 520   \n",
       "\n",
       "   Math  Total  \n",
       "0   572   1165  \n",
       "1   533   1080  \n",
       "2   553   1116  \n",
       "3   594   1208  \n",
       "4   524   1055  \n",
       "5   595   1201  \n",
       "6   512   1041  \n",
       "7   492    996  \n",
       "8   468    950  \n",
       "9   497   1017  "
      ]
     },
     "execution_count": 3,
     "metadata": {},
     "output_type": "execute_result"
    }
   ],
   "source": [
    "df_sat_2017.head(10)"
   ]
  },
  {
   "cell_type": "code",
   "execution_count": 4,
   "metadata": {
    "scrolled": true
   },
   "outputs": [
    {
     "data": {
      "text/html": [
       "<div>\n",
       "<style scoped>\n",
       "    .dataframe tbody tr th:only-of-type {\n",
       "        vertical-align: middle;\n",
       "    }\n",
       "\n",
       "    .dataframe tbody tr th {\n",
       "        vertical-align: top;\n",
       "    }\n",
       "\n",
       "    .dataframe thead th {\n",
       "        text-align: right;\n",
       "    }\n",
       "</style>\n",
       "<table border=\"1\" class=\"dataframe\">\n",
       "  <thead>\n",
       "    <tr style=\"text-align: right;\">\n",
       "      <th></th>\n",
       "      <th>Evidence-Based Reading and Writing</th>\n",
       "      <th>Math</th>\n",
       "      <th>Total</th>\n",
       "    </tr>\n",
       "  </thead>\n",
       "  <tbody>\n",
       "    <tr>\n",
       "      <td>count</td>\n",
       "      <td>51.000000</td>\n",
       "      <td>51.000000</td>\n",
       "      <td>51.000000</td>\n",
       "    </tr>\n",
       "    <tr>\n",
       "      <td>mean</td>\n",
       "      <td>569.117647</td>\n",
       "      <td>547.627451</td>\n",
       "      <td>1126.098039</td>\n",
       "    </tr>\n",
       "    <tr>\n",
       "      <td>std</td>\n",
       "      <td>45.666901</td>\n",
       "      <td>84.909119</td>\n",
       "      <td>92.494812</td>\n",
       "    </tr>\n",
       "    <tr>\n",
       "      <td>min</td>\n",
       "      <td>482.000000</td>\n",
       "      <td>52.000000</td>\n",
       "      <td>950.000000</td>\n",
       "    </tr>\n",
       "    <tr>\n",
       "      <td>25%</td>\n",
       "      <td>533.500000</td>\n",
       "      <td>522.000000</td>\n",
       "      <td>1055.500000</td>\n",
       "    </tr>\n",
       "    <tr>\n",
       "      <td>50%</td>\n",
       "      <td>559.000000</td>\n",
       "      <td>548.000000</td>\n",
       "      <td>1107.000000</td>\n",
       "    </tr>\n",
       "    <tr>\n",
       "      <td>75%</td>\n",
       "      <td>613.000000</td>\n",
       "      <td>599.000000</td>\n",
       "      <td>1212.000000</td>\n",
       "    </tr>\n",
       "    <tr>\n",
       "      <td>max</td>\n",
       "      <td>644.000000</td>\n",
       "      <td>651.000000</td>\n",
       "      <td>1295.000000</td>\n",
       "    </tr>\n",
       "  </tbody>\n",
       "</table>\n",
       "</div>"
      ],
      "text/plain": [
       "       Evidence-Based Reading and Writing        Math        Total\n",
       "count                           51.000000   51.000000    51.000000\n",
       "mean                           569.117647  547.627451  1126.098039\n",
       "std                             45.666901   84.909119    92.494812\n",
       "min                            482.000000   52.000000   950.000000\n",
       "25%                            533.500000  522.000000  1055.500000\n",
       "50%                            559.000000  548.000000  1107.000000\n",
       "75%                            613.000000  599.000000  1212.000000\n",
       "max                            644.000000  651.000000  1295.000000"
      ]
     },
     "execution_count": 4,
     "metadata": {},
     "output_type": "execute_result"
    }
   ],
   "source": [
    "df_sat_2017.describe()"
   ]
  },
  {
   "cell_type": "code",
   "execution_count": 5,
   "metadata": {},
   "outputs": [
    {
     "data": {
      "text/html": [
       "<div>\n",
       "<style scoped>\n",
       "    .dataframe tbody tr th:only-of-type {\n",
       "        vertical-align: middle;\n",
       "    }\n",
       "\n",
       "    .dataframe tbody tr th {\n",
       "        vertical-align: top;\n",
       "    }\n",
       "\n",
       "    .dataframe thead th {\n",
       "        text-align: right;\n",
       "    }\n",
       "</style>\n",
       "<table border=\"1\" class=\"dataframe\">\n",
       "  <thead>\n",
       "    <tr style=\"text-align: right;\">\n",
       "      <th></th>\n",
       "      <th>State</th>\n",
       "      <th>Participation</th>\n",
       "      <th>English</th>\n",
       "      <th>Math</th>\n",
       "      <th>Reading</th>\n",
       "      <th>Science</th>\n",
       "      <th>Composite</th>\n",
       "    </tr>\n",
       "  </thead>\n",
       "  <tbody>\n",
       "    <tr>\n",
       "      <td>0</td>\n",
       "      <td>National</td>\n",
       "      <td>60%</td>\n",
       "      <td>20.3</td>\n",
       "      <td>20.7</td>\n",
       "      <td>21.4</td>\n",
       "      <td>21.0</td>\n",
       "      <td>21.0</td>\n",
       "    </tr>\n",
       "    <tr>\n",
       "      <td>1</td>\n",
       "      <td>Alabama</td>\n",
       "      <td>100%</td>\n",
       "      <td>18.9</td>\n",
       "      <td>18.4</td>\n",
       "      <td>19.7</td>\n",
       "      <td>19.4</td>\n",
       "      <td>19.2</td>\n",
       "    </tr>\n",
       "    <tr>\n",
       "      <td>2</td>\n",
       "      <td>Alaska</td>\n",
       "      <td>65%</td>\n",
       "      <td>18.7</td>\n",
       "      <td>19.8</td>\n",
       "      <td>20.4</td>\n",
       "      <td>19.9</td>\n",
       "      <td>19.8</td>\n",
       "    </tr>\n",
       "    <tr>\n",
       "      <td>3</td>\n",
       "      <td>Arizona</td>\n",
       "      <td>62%</td>\n",
       "      <td>18.6</td>\n",
       "      <td>19.8</td>\n",
       "      <td>20.1</td>\n",
       "      <td>19.8</td>\n",
       "      <td>19.7</td>\n",
       "    </tr>\n",
       "    <tr>\n",
       "      <td>4</td>\n",
       "      <td>Arkansas</td>\n",
       "      <td>100%</td>\n",
       "      <td>18.9</td>\n",
       "      <td>19.0</td>\n",
       "      <td>19.7</td>\n",
       "      <td>19.5</td>\n",
       "      <td>19.4</td>\n",
       "    </tr>\n",
       "    <tr>\n",
       "      <td>5</td>\n",
       "      <td>California</td>\n",
       "      <td>31%</td>\n",
       "      <td>22.5</td>\n",
       "      <td>22.7</td>\n",
       "      <td>23.1</td>\n",
       "      <td>22.2</td>\n",
       "      <td>22.8</td>\n",
       "    </tr>\n",
       "    <tr>\n",
       "      <td>6</td>\n",
       "      <td>Colorado</td>\n",
       "      <td>100%</td>\n",
       "      <td>20.1</td>\n",
       "      <td>20.3</td>\n",
       "      <td>21.2</td>\n",
       "      <td>20.9</td>\n",
       "      <td>20.8</td>\n",
       "    </tr>\n",
       "    <tr>\n",
       "      <td>7</td>\n",
       "      <td>Connecticut</td>\n",
       "      <td>31%</td>\n",
       "      <td>25.5</td>\n",
       "      <td>24.6</td>\n",
       "      <td>25.6</td>\n",
       "      <td>24.6</td>\n",
       "      <td>25.2</td>\n",
       "    </tr>\n",
       "    <tr>\n",
       "      <td>8</td>\n",
       "      <td>Delaware</td>\n",
       "      <td>18%</td>\n",
       "      <td>24.1</td>\n",
       "      <td>23.4</td>\n",
       "      <td>24.8</td>\n",
       "      <td>23.6</td>\n",
       "      <td>24.1</td>\n",
       "    </tr>\n",
       "    <tr>\n",
       "      <td>9</td>\n",
       "      <td>District of Columbia</td>\n",
       "      <td>32%</td>\n",
       "      <td>24.4</td>\n",
       "      <td>23.5</td>\n",
       "      <td>24.9</td>\n",
       "      <td>23.5</td>\n",
       "      <td>24.2</td>\n",
       "    </tr>\n",
       "  </tbody>\n",
       "</table>\n",
       "</div>"
      ],
      "text/plain": [
       "                  State Participation  English  Math  Reading  Science  \\\n",
       "0              National           60%     20.3  20.7     21.4     21.0   \n",
       "1               Alabama          100%     18.9  18.4     19.7     19.4   \n",
       "2                Alaska           65%     18.7  19.8     20.4     19.9   \n",
       "3               Arizona           62%     18.6  19.8     20.1     19.8   \n",
       "4              Arkansas          100%     18.9  19.0     19.7     19.5   \n",
       "5            California           31%     22.5  22.7     23.1     22.2   \n",
       "6              Colorado          100%     20.1  20.3     21.2     20.9   \n",
       "7           Connecticut           31%     25.5  24.6     25.6     24.6   \n",
       "8              Delaware           18%     24.1  23.4     24.8     23.6   \n",
       "9  District of Columbia           32%     24.4  23.5     24.9     23.5   \n",
       "\n",
       "  Composite  \n",
       "0      21.0  \n",
       "1      19.2  \n",
       "2      19.8  \n",
       "3      19.7  \n",
       "4      19.4  \n",
       "5      22.8  \n",
       "6      20.8  \n",
       "7      25.2  \n",
       "8      24.1  \n",
       "9      24.2  "
      ]
     },
     "execution_count": 5,
     "metadata": {},
     "output_type": "execute_result"
    }
   ],
   "source": [
    "df_act_2017.head(10)"
   ]
  },
  {
   "cell_type": "code",
   "execution_count": 6,
   "metadata": {},
   "outputs": [
    {
     "data": {
      "text/html": [
       "<div>\n",
       "<style scoped>\n",
       "    .dataframe tbody tr th:only-of-type {\n",
       "        vertical-align: middle;\n",
       "    }\n",
       "\n",
       "    .dataframe tbody tr th {\n",
       "        vertical-align: top;\n",
       "    }\n",
       "\n",
       "    .dataframe thead th {\n",
       "        text-align: right;\n",
       "    }\n",
       "</style>\n",
       "<table border=\"1\" class=\"dataframe\">\n",
       "  <thead>\n",
       "    <tr style=\"text-align: right;\">\n",
       "      <th></th>\n",
       "      <th>English</th>\n",
       "      <th>Math</th>\n",
       "      <th>Reading</th>\n",
       "      <th>Science</th>\n",
       "    </tr>\n",
       "  </thead>\n",
       "  <tbody>\n",
       "    <tr>\n",
       "      <td>count</td>\n",
       "      <td>52.000000</td>\n",
       "      <td>52.000000</td>\n",
       "      <td>52.000000</td>\n",
       "      <td>52.000000</td>\n",
       "    </tr>\n",
       "    <tr>\n",
       "      <td>mean</td>\n",
       "      <td>20.919231</td>\n",
       "      <td>21.173077</td>\n",
       "      <td>22.001923</td>\n",
       "      <td>21.040385</td>\n",
       "    </tr>\n",
       "    <tr>\n",
       "      <td>std</td>\n",
       "      <td>2.332132</td>\n",
       "      <td>1.963602</td>\n",
       "      <td>2.048672</td>\n",
       "      <td>3.151113</td>\n",
       "    </tr>\n",
       "    <tr>\n",
       "      <td>min</td>\n",
       "      <td>16.300000</td>\n",
       "      <td>18.000000</td>\n",
       "      <td>18.100000</td>\n",
       "      <td>2.300000</td>\n",
       "    </tr>\n",
       "    <tr>\n",
       "      <td>25%</td>\n",
       "      <td>19.000000</td>\n",
       "      <td>19.400000</td>\n",
       "      <td>20.475000</td>\n",
       "      <td>19.900000</td>\n",
       "    </tr>\n",
       "    <tr>\n",
       "      <td>50%</td>\n",
       "      <td>20.550000</td>\n",
       "      <td>20.900000</td>\n",
       "      <td>21.700000</td>\n",
       "      <td>21.150000</td>\n",
       "    </tr>\n",
       "    <tr>\n",
       "      <td>75%</td>\n",
       "      <td>23.300000</td>\n",
       "      <td>23.100000</td>\n",
       "      <td>24.125000</td>\n",
       "      <td>22.525000</td>\n",
       "    </tr>\n",
       "    <tr>\n",
       "      <td>max</td>\n",
       "      <td>25.500000</td>\n",
       "      <td>25.300000</td>\n",
       "      <td>26.000000</td>\n",
       "      <td>24.900000</td>\n",
       "    </tr>\n",
       "  </tbody>\n",
       "</table>\n",
       "</div>"
      ],
      "text/plain": [
       "         English       Math    Reading    Science\n",
       "count  52.000000  52.000000  52.000000  52.000000\n",
       "mean   20.919231  21.173077  22.001923  21.040385\n",
       "std     2.332132   1.963602   2.048672   3.151113\n",
       "min    16.300000  18.000000  18.100000   2.300000\n",
       "25%    19.000000  19.400000  20.475000  19.900000\n",
       "50%    20.550000  20.900000  21.700000  21.150000\n",
       "75%    23.300000  23.100000  24.125000  22.525000\n",
       "max    25.500000  25.300000  26.000000  24.900000"
      ]
     },
     "execution_count": 6,
     "metadata": {},
     "output_type": "execute_result"
    }
   ],
   "source": [
    "df_act_2017.describe()"
   ]
  },
  {
   "cell_type": "markdown",
   "metadata": {},
   "source": [
    "#### 3. Verbally Describe Data\n",
    "\n",
    "Take your time looking through the data and thoroughly describe the data in the markdown cell below. "
   ]
  },
  {
   "cell_type": "markdown",
   "metadata": {},
   "source": [
    "1. No null/missing values from both datasets.\n",
    "\n",
    "2. Participation rates need to be converted to integer data type for both datasets.\n",
    "\n",
    "3. For the SAT dataset, the minimum value for the Math column is 52, while the mean is 547. This seems to indicate an outlier,  further investigation is required.\n",
    "\n",
    "4. For the ACT dataset, the Composite column needs to be converted to a float data type.\n",
    "\n",
    "5. For the ACT dataset, the minimum value for the Science column is 2.3, while the mean is 21. This seems to indicate an outlier, further investigation is required."
   ]
  },
  {
   "cell_type": "code",
   "execution_count": 7,
   "metadata": {
    "scrolled": true
   },
   "outputs": [
    {
     "name": "stdout",
     "output_type": "stream",
     "text": [
      "<class 'pandas.core.frame.DataFrame'>\n",
      "RangeIndex: 51 entries, 0 to 50\n",
      "Data columns (total 5 columns):\n",
      "State                                 51 non-null object\n",
      "Participation                         51 non-null object\n",
      "Evidence-Based Reading and Writing    51 non-null int64\n",
      "Math                                  51 non-null int64\n",
      "Total                                 51 non-null int64\n",
      "dtypes: int64(3), object(2)\n",
      "memory usage: 2.1+ KB\n"
     ]
    }
   ],
   "source": [
    "#### 4a. Does the data look complete? \n",
    "df_sat_2017.info()"
   ]
  },
  {
   "cell_type": "code",
   "execution_count": 8,
   "metadata": {},
   "outputs": [
    {
     "name": "stdout",
     "output_type": "stream",
     "text": [
      "<class 'pandas.core.frame.DataFrame'>\n",
      "RangeIndex: 52 entries, 0 to 51\n",
      "Data columns (total 7 columns):\n",
      "State            52 non-null object\n",
      "Participation    52 non-null object\n",
      "English          52 non-null float64\n",
      "Math             52 non-null float64\n",
      "Reading          52 non-null float64\n",
      "Science          52 non-null float64\n",
      "Composite        52 non-null object\n",
      "dtypes: float64(4), object(3)\n",
      "memory usage: 3.0+ KB\n"
     ]
    }
   ],
   "source": [
    "df_act_2017.info()"
   ]
  },
  {
   "cell_type": "markdown",
   "metadata": {},
   "source": [
    "Both datasets appear to be complete. However, we need to investigate outliers in both datasets, validating them against their respective source. Also, we need to determine why the Composite score (from ACT dataset), is not loaded as a float data type."
   ]
  },
  {
   "cell_type": "markdown",
   "metadata": {},
   "source": [
    "> <font size = 3 color = red>Good elaboration on the steps needed to ensure data completeness</font>"
   ]
  },
  {
   "cell_type": "markdown",
   "metadata": {},
   "source": [
    "#### 4b. Are there any obvious issues with the observations?\n",
    "\n",
    "**What is the minimum *possible* value for each test/subtest? What is the maximum *possible* value?**\n",
    "\n",
    "Consider comparing any questionable values to the sources of your data:\n",
    "- [SAT](https://blog.collegevine.com/here-are-the-average-sat-scores-by-state/)\n",
    "- [ACT](https://blog.prepscholar.com/act-scores-by-state-averages-highs-and-lows)"
   ]
  },
  {
   "cell_type": "markdown",
   "metadata": {},
   "source": [
    "For SAT, both EBRW and Math tests have minimum/maximum possible values of 200/800. For ACT, the 4 subject area and composite scores have a minimum/maximum possible values of 0/36.\n",
    "\n",
    "For the SAT dataset, this indicates that the outlier Math score of 52 is an error as the minimum score is 200.\n",
    "\n",
    "Validating the SAT dataset against its source, shows that the Math score for the state of Maryland should be 524 instead of 52.\n"
   ]
  },
  {
   "cell_type": "code",
   "execution_count": 9,
   "metadata": {},
   "outputs": [],
   "source": [
    "# Validate SAT CSV data with data from source @ https://blog.collegevine.com/here-are-the-average-sat-scores-by-state/\n",
    "\n",
    "# Set index (State) and rename columns of SAT CSV and source dataframes to facilitate validation later.\n",
    "\n",
    "sat_2017_columns = ['Participation', 'EBRW', 'Math', 'Total']\n",
    "\n",
    "df_sat_2017.set_index('State', inplace=True)\n",
    "df_sat_2017.columns = sat_2017_columns"
   ]
  },
  {
   "cell_type": "code",
   "execution_count": 10,
   "metadata": {},
   "outputs": [
    {
     "data": {
      "text/html": [
       "<style  type=\"text/css\" >\n",
       "    #T_feea2d5a_0f47_11ea_a9bd_acfdce4ec20crow0_col2 {\n",
       "            background-color:  yellow;\n",
       "        }</style><table id=\"T_feea2d5a_0f47_11ea_a9bd_acfdce4ec20c\" ><thead>    <tr>        <th class=\"blank level0\" ></th>        <th class=\"col_heading level0 col0\" >Participation</th>        <th class=\"col_heading level0 col1\" >EBRW</th>        <th class=\"col_heading level0 col2\" >Math</th>        <th class=\"col_heading level0 col3\" >Total</th>        <th class=\"col_heading level0 col4\" >Participation_src</th>        <th class=\"col_heading level0 col5\" >EBRW_src</th>        <th class=\"col_heading level0 col6\" >Math_src</th>        <th class=\"col_heading level0 col7\" >Total_src</th>    </tr>    <tr>        <th class=\"index_name level0\" >State</th>        <th class=\"blank\" ></th>        <th class=\"blank\" ></th>        <th class=\"blank\" ></th>        <th class=\"blank\" ></th>        <th class=\"blank\" ></th>        <th class=\"blank\" ></th>        <th class=\"blank\" ></th>        <th class=\"blank\" ></th>    </tr></thead><tbody>\n",
       "                <tr>\n",
       "                        <th id=\"T_feea2d5a_0f47_11ea_a9bd_acfdce4ec20clevel0_row0\" class=\"row_heading level0 row0\" >Maryland</th>\n",
       "                        <td id=\"T_feea2d5a_0f47_11ea_a9bd_acfdce4ec20crow0_col0\" class=\"data row0 col0\" >69%</td>\n",
       "                        <td id=\"T_feea2d5a_0f47_11ea_a9bd_acfdce4ec20crow0_col1\" class=\"data row0 col1\" >536</td>\n",
       "                        <td id=\"T_feea2d5a_0f47_11ea_a9bd_acfdce4ec20crow0_col2\" class=\"data row0 col2\" >52</td>\n",
       "                        <td id=\"T_feea2d5a_0f47_11ea_a9bd_acfdce4ec20crow0_col3\" class=\"data row0 col3\" >1060</td>\n",
       "                        <td id=\"T_feea2d5a_0f47_11ea_a9bd_acfdce4ec20crow0_col4\" class=\"data row0 col4\" >69%</td>\n",
       "                        <td id=\"T_feea2d5a_0f47_11ea_a9bd_acfdce4ec20crow0_col5\" class=\"data row0 col5\" >536</td>\n",
       "                        <td id=\"T_feea2d5a_0f47_11ea_a9bd_acfdce4ec20crow0_col6\" class=\"data row0 col6\" >524</td>\n",
       "                        <td id=\"T_feea2d5a_0f47_11ea_a9bd_acfdce4ec20crow0_col7\" class=\"data row0 col7\" >1060</td>\n",
       "            </tr>\n",
       "    </tbody></table>"
      ],
      "text/plain": [
       "<pandas.io.formats.style.Styler at 0x1e6c55298c8>"
      ]
     },
     "execution_count": 10,
     "metadata": {},
     "output_type": "execute_result"
    }
   ],
   "source": [
    "# Load source SAT data from tab delimited file into dataframe.\n",
    "df_sat_2017_source = pd.read_csv('../data/sat_2017_source.txt', sep='\\t')\n",
    "df_sat_2017_source.set_index('State', inplace=True)\n",
    "df_sat_2017_source.columns = sat_2017_columns\n",
    "df_sat_2017_source.rename(columns=lambda col_name: col_name + '_src', inplace=True) \n",
    "\n",
    "# Join SAT CSV and source dataframes on row index 'State' \n",
    "df_sat_2017_combined = df_sat_2017.join(df_sat_2017_source, 'State')\n",
    "\n",
    "\n",
    "# Compares the CSV and source columns and returns a list of State index values of rows with mismatched columns\n",
    "def get_mismatched_indexes(df_combined, columns):\n",
    "    \n",
    "    mismatched_indexes = []\n",
    "    \n",
    "    for column in columns:\n",
    "\n",
    "        rows = df_combined[df_combined[column] != df_combined[column + '_src']]\n",
    "        \n",
    "        if len(rows) > 0:\n",
    "            mismatched_indexes.extend(rows.index.values)\n",
    "        \n",
    "    return list(set(mismatched_indexes))\n",
    "\n",
    "\n",
    "df_sat_2017_mismatched = df_sat_2017_combined.loc[get_mismatched_indexes(df_sat_2017_combined, sat_2017_columns)]\n",
    "\n",
    "# Highlight a mismatch between a CSV and source column value\n",
    "def highlight_mismatched(column):\n",
    "    \n",
    "    formats = ['' for i in range(column.size)]\n",
    "    \n",
    "    if column.name in sat_2017_columns:\n",
    "        \n",
    "        is_mismatched = column != df_sat_2017_mismatched[column.name + '_src']\n",
    "\n",
    "        return ['background-color: yellow' if mismatched else '' for mismatched in is_mismatched]\n",
    "    \n",
    "    return formats\n",
    "\n",
    "df_sat_2017_mismatched.style.apply(highlight_mismatched)"
   ]
  },
  {
   "cell_type": "markdown",
   "metadata": {},
   "source": [
    "Before we can validate the ACT CSV dataset against its source, we must ensure that the columns from the CSV dataset and the corresponding column from the source have the same data type.\n",
    "\n",
    "Specifically, the Composite column of the CSV dataset should have been loaded as float values instead of strings. Doing a check on Composite score column, reveals an error in the composite score of the state of Wyoming.\n",
    "\n",
    "We have to fix this error before we can validate the CSV dataset against its source."
   ]
  },
  {
   "cell_type": "code",
   "execution_count": 11,
   "metadata": {},
   "outputs": [
    {
     "data": {
      "text/html": [
       "<style  type=\"text/css\" >\n",
       "    #T_0d5cf00a_0f48_11ea_94fe_acfdce4ec20crow4_col5 {\n",
       "            background-color:  yellow;\n",
       "        }</style><table id=\"T_0d5cf00a_0f48_11ea_94fe_acfdce4ec20c\" ><thead>    <tr>        <th class=\"blank level0\" ></th>        <th class=\"col_heading level0 col0\" >Participation</th>        <th class=\"col_heading level0 col1\" >English</th>        <th class=\"col_heading level0 col2\" >Math</th>        <th class=\"col_heading level0 col3\" >Reading</th>        <th class=\"col_heading level0 col4\" >Science</th>        <th class=\"col_heading level0 col5\" >Composite</th>        <th class=\"col_heading level0 col6\" >is_composite_float</th>    </tr>    <tr>        <th class=\"index_name level0\" >State</th>        <th class=\"blank\" ></th>        <th class=\"blank\" ></th>        <th class=\"blank\" ></th>        <th class=\"blank\" ></th>        <th class=\"blank\" ></th>        <th class=\"blank\" ></th>        <th class=\"blank\" ></th>    </tr></thead><tbody>\n",
       "                <tr>\n",
       "                        <th id=\"T_0d5cf00a_0f48_11ea_94fe_acfdce4ec20clevel0_row0\" class=\"row_heading level0 row0\" >Virginia</th>\n",
       "                        <td id=\"T_0d5cf00a_0f48_11ea_94fe_acfdce4ec20crow0_col0\" class=\"data row0 col0\" >29%</td>\n",
       "                        <td id=\"T_0d5cf00a_0f48_11ea_94fe_acfdce4ec20crow0_col1\" class=\"data row0 col1\" >23.5</td>\n",
       "                        <td id=\"T_0d5cf00a_0f48_11ea_94fe_acfdce4ec20crow0_col2\" class=\"data row0 col2\" >23.3</td>\n",
       "                        <td id=\"T_0d5cf00a_0f48_11ea_94fe_acfdce4ec20crow0_col3\" class=\"data row0 col3\" >24.6</td>\n",
       "                        <td id=\"T_0d5cf00a_0f48_11ea_94fe_acfdce4ec20crow0_col4\" class=\"data row0 col4\" >23.5</td>\n",
       "                        <td id=\"T_0d5cf00a_0f48_11ea_94fe_acfdce4ec20crow0_col5\" class=\"data row0 col5\" >23.8</td>\n",
       "                        <td id=\"T_0d5cf00a_0f48_11ea_94fe_acfdce4ec20crow0_col6\" class=\"data row0 col6\" >True</td>\n",
       "            </tr>\n",
       "            <tr>\n",
       "                        <th id=\"T_0d5cf00a_0f48_11ea_94fe_acfdce4ec20clevel0_row1\" class=\"row_heading level0 row1\" >Washington</th>\n",
       "                        <td id=\"T_0d5cf00a_0f48_11ea_94fe_acfdce4ec20crow1_col0\" class=\"data row1 col0\" >29%</td>\n",
       "                        <td id=\"T_0d5cf00a_0f48_11ea_94fe_acfdce4ec20crow1_col1\" class=\"data row1 col1\" >20.9</td>\n",
       "                        <td id=\"T_0d5cf00a_0f48_11ea_94fe_acfdce4ec20crow1_col2\" class=\"data row1 col2\" >21.9</td>\n",
       "                        <td id=\"T_0d5cf00a_0f48_11ea_94fe_acfdce4ec20crow1_col3\" class=\"data row1 col3\" >22.1</td>\n",
       "                        <td id=\"T_0d5cf00a_0f48_11ea_94fe_acfdce4ec20crow1_col4\" class=\"data row1 col4\" >22</td>\n",
       "                        <td id=\"T_0d5cf00a_0f48_11ea_94fe_acfdce4ec20crow1_col5\" class=\"data row1 col5\" >21.9</td>\n",
       "                        <td id=\"T_0d5cf00a_0f48_11ea_94fe_acfdce4ec20crow1_col6\" class=\"data row1 col6\" >True</td>\n",
       "            </tr>\n",
       "            <tr>\n",
       "                        <th id=\"T_0d5cf00a_0f48_11ea_94fe_acfdce4ec20clevel0_row2\" class=\"row_heading level0 row2\" >West Virginia</th>\n",
       "                        <td id=\"T_0d5cf00a_0f48_11ea_94fe_acfdce4ec20crow2_col0\" class=\"data row2 col0\" >69%</td>\n",
       "                        <td id=\"T_0d5cf00a_0f48_11ea_94fe_acfdce4ec20crow2_col1\" class=\"data row2 col1\" >20</td>\n",
       "                        <td id=\"T_0d5cf00a_0f48_11ea_94fe_acfdce4ec20crow2_col2\" class=\"data row2 col2\" >19.4</td>\n",
       "                        <td id=\"T_0d5cf00a_0f48_11ea_94fe_acfdce4ec20crow2_col3\" class=\"data row2 col3\" >21.2</td>\n",
       "                        <td id=\"T_0d5cf00a_0f48_11ea_94fe_acfdce4ec20crow2_col4\" class=\"data row2 col4\" >20.5</td>\n",
       "                        <td id=\"T_0d5cf00a_0f48_11ea_94fe_acfdce4ec20crow2_col5\" class=\"data row2 col5\" >20.4</td>\n",
       "                        <td id=\"T_0d5cf00a_0f48_11ea_94fe_acfdce4ec20crow2_col6\" class=\"data row2 col6\" >True</td>\n",
       "            </tr>\n",
       "            <tr>\n",
       "                        <th id=\"T_0d5cf00a_0f48_11ea_94fe_acfdce4ec20clevel0_row3\" class=\"row_heading level0 row3\" >Wisconsin</th>\n",
       "                        <td id=\"T_0d5cf00a_0f48_11ea_94fe_acfdce4ec20crow3_col0\" class=\"data row3 col0\" >100%</td>\n",
       "                        <td id=\"T_0d5cf00a_0f48_11ea_94fe_acfdce4ec20crow3_col1\" class=\"data row3 col1\" >19.7</td>\n",
       "                        <td id=\"T_0d5cf00a_0f48_11ea_94fe_acfdce4ec20crow3_col2\" class=\"data row3 col2\" >20.4</td>\n",
       "                        <td id=\"T_0d5cf00a_0f48_11ea_94fe_acfdce4ec20crow3_col3\" class=\"data row3 col3\" >20.6</td>\n",
       "                        <td id=\"T_0d5cf00a_0f48_11ea_94fe_acfdce4ec20crow3_col4\" class=\"data row3 col4\" >20.9</td>\n",
       "                        <td id=\"T_0d5cf00a_0f48_11ea_94fe_acfdce4ec20crow3_col5\" class=\"data row3 col5\" >20.5</td>\n",
       "                        <td id=\"T_0d5cf00a_0f48_11ea_94fe_acfdce4ec20crow3_col6\" class=\"data row3 col6\" >True</td>\n",
       "            </tr>\n",
       "            <tr>\n",
       "                        <th id=\"T_0d5cf00a_0f48_11ea_94fe_acfdce4ec20clevel0_row4\" class=\"row_heading level0 row4\" >Wyoming</th>\n",
       "                        <td id=\"T_0d5cf00a_0f48_11ea_94fe_acfdce4ec20crow4_col0\" class=\"data row4 col0\" >100%</td>\n",
       "                        <td id=\"T_0d5cf00a_0f48_11ea_94fe_acfdce4ec20crow4_col1\" class=\"data row4 col1\" >19.4</td>\n",
       "                        <td id=\"T_0d5cf00a_0f48_11ea_94fe_acfdce4ec20crow4_col2\" class=\"data row4 col2\" >19.8</td>\n",
       "                        <td id=\"T_0d5cf00a_0f48_11ea_94fe_acfdce4ec20crow4_col3\" class=\"data row4 col3\" >20.8</td>\n",
       "                        <td id=\"T_0d5cf00a_0f48_11ea_94fe_acfdce4ec20crow4_col4\" class=\"data row4 col4\" >20.6</td>\n",
       "                        <td id=\"T_0d5cf00a_0f48_11ea_94fe_acfdce4ec20crow4_col5\" class=\"data row4 col5\" >20.2x</td>\n",
       "                        <td id=\"T_0d5cf00a_0f48_11ea_94fe_acfdce4ec20crow4_col6\" class=\"data row4 col6\" >False</td>\n",
       "            </tr>\n",
       "    </tbody></table>"
      ],
      "text/plain": [
       "<pandas.io.formats.style.Styler at 0x1e6c5529c48>"
      ]
     },
     "execution_count": 11,
     "metadata": {},
     "output_type": "execute_result"
    }
   ],
   "source": [
    "# Validate ACT CSV data with data from source @ https://blog.prepscholar.com/act-scores-by-state-averages-highs-and-lows\n",
    "\n",
    "# Set index (State) and rename columns of ACT CSV and source dataframes to facilitate validation later.\n",
    "\n",
    "act_2017_columns = ['Participation', 'English', 'Math', 'Reading', 'Science', 'Composite']\n",
    "\n",
    "df_act_2017.set_index('State', inplace=True)\n",
    "df_act_2017.columns = act_2017_columns\n",
    "\n",
    "\n",
    "def is_float(value):\n",
    "    try:\n",
    "        float(value)\n",
    "        return True\n",
    "    except ValueError:\n",
    "        return False\n",
    "\n",
    "def highlight_NaN_value(column):\n",
    "    \n",
    "    formats = ['' for i in range(column.size)]\n",
    "    \n",
    "    if column.name == 'Composite':\n",
    "        return ['background-color: yellow' if not is_float(value) else '' for value in column]\n",
    "    \n",
    "    return formats\n",
    "\n",
    "df_act_2017['is_composite_float'] = df_act_2017.apply(lambda row: is_float(row['Composite']), axis=1)\n",
    "df_act_2017.tail().style.apply(highlight_NaN_value)"
   ]
  },
  {
   "cell_type": "markdown",
   "metadata": {},
   "source": [
    "To fix this error, we change the Composite score of Wyoming to a numeric string (20.2) and convert the entire Composite score columnn to float values.\n"
   ]
  },
  {
   "cell_type": "code",
   "execution_count": 12,
   "metadata": {},
   "outputs": [
    {
     "name": "stdout",
     "output_type": "stream",
     "text": [
      "<class 'pandas.core.frame.DataFrame'>\n",
      "Index: 52 entries, National to Wyoming\n",
      "Data columns (total 6 columns):\n",
      "Participation    52 non-null object\n",
      "English          52 non-null float64\n",
      "Math             52 non-null float64\n",
      "Reading          52 non-null float64\n",
      "Science          52 non-null float64\n",
      "Composite        52 non-null float64\n",
      "dtypes: float64(5), object(1)\n",
      "memory usage: 5.3+ KB\n"
     ]
    }
   ],
   "source": [
    "df_act_2017.loc['Wyoming','Composite'] = 20.2\n",
    "\n",
    "df_act_2017['Composite'] = df_act_2017.apply(lambda row: float(row['Composite']), axis=1)\n",
    "\n",
    "df_act_2017.drop('is_composite_float', axis=1, inplace=True)\n",
    "\n",
    "df_act_2017.info()"
   ]
  },
  {
   "cell_type": "markdown",
   "metadata": {},
   "source": [
    "Now we can validate the ACT CSV dataset against its source, and address any errors found.\n"
   ]
  },
  {
   "cell_type": "code",
   "execution_count": 13,
   "metadata": {},
   "outputs": [
    {
     "data": {
      "text/html": [
       "<style  type=\"text/css\" >\n",
       "    #T_124573a6_0f48_11ea_9b64_acfdce4ec20crow0_col4 {\n",
       "            background-color:  yellow;\n",
       "        }    #T_124573a6_0f48_11ea_9b64_acfdce4ec20crow1_col0 {\n",
       "            background-color:  yellow;\n",
       "        }</style><table id=\"T_124573a6_0f48_11ea_9b64_acfdce4ec20c\" ><thead>    <tr>        <th class=\"blank level0\" ></th>        <th class=\"col_heading level0 col0\" >Participation</th>        <th class=\"col_heading level0 col1\" >English</th>        <th class=\"col_heading level0 col2\" >Math</th>        <th class=\"col_heading level0 col3\" >Reading</th>        <th class=\"col_heading level0 col4\" >Science</th>        <th class=\"col_heading level0 col5\" >Composite</th>        <th class=\"col_heading level0 col6\" >Participation_src</th>        <th class=\"col_heading level0 col7\" >English_src</th>        <th class=\"col_heading level0 col8\" >Math_src</th>        <th class=\"col_heading level0 col9\" >Reading_src</th>        <th class=\"col_heading level0 col10\" >Science_src</th>        <th class=\"col_heading level0 col11\" >Composite_src</th>    </tr>    <tr>        <th class=\"index_name level0\" >State</th>        <th class=\"blank\" ></th>        <th class=\"blank\" ></th>        <th class=\"blank\" ></th>        <th class=\"blank\" ></th>        <th class=\"blank\" ></th>        <th class=\"blank\" ></th>        <th class=\"blank\" ></th>        <th class=\"blank\" ></th>        <th class=\"blank\" ></th>        <th class=\"blank\" ></th>        <th class=\"blank\" ></th>        <th class=\"blank\" ></th>    </tr></thead><tbody>\n",
       "                <tr>\n",
       "                        <th id=\"T_124573a6_0f48_11ea_9b64_acfdce4ec20clevel0_row0\" class=\"row_heading level0 row0\" >Maryland</th>\n",
       "                        <td id=\"T_124573a6_0f48_11ea_9b64_acfdce4ec20crow0_col0\" class=\"data row0 col0\" >28%</td>\n",
       "                        <td id=\"T_124573a6_0f48_11ea_9b64_acfdce4ec20crow0_col1\" class=\"data row0 col1\" >23.3</td>\n",
       "                        <td id=\"T_124573a6_0f48_11ea_9b64_acfdce4ec20crow0_col2\" class=\"data row0 col2\" >23.1</td>\n",
       "                        <td id=\"T_124573a6_0f48_11ea_9b64_acfdce4ec20crow0_col3\" class=\"data row0 col3\" >24.2</td>\n",
       "                        <td id=\"T_124573a6_0f48_11ea_9b64_acfdce4ec20crow0_col4\" class=\"data row0 col4\" >2.3</td>\n",
       "                        <td id=\"T_124573a6_0f48_11ea_9b64_acfdce4ec20crow0_col5\" class=\"data row0 col5\" >23.6</td>\n",
       "                        <td id=\"T_124573a6_0f48_11ea_9b64_acfdce4ec20crow0_col6\" class=\"data row0 col6\" >28%</td>\n",
       "                        <td id=\"T_124573a6_0f48_11ea_9b64_acfdce4ec20crow0_col7\" class=\"data row0 col7\" >23.3</td>\n",
       "                        <td id=\"T_124573a6_0f48_11ea_9b64_acfdce4ec20crow0_col8\" class=\"data row0 col8\" >23.1</td>\n",
       "                        <td id=\"T_124573a6_0f48_11ea_9b64_acfdce4ec20crow0_col9\" class=\"data row0 col9\" >24.2</td>\n",
       "                        <td id=\"T_124573a6_0f48_11ea_9b64_acfdce4ec20crow0_col10\" class=\"data row0 col10\" >23.2</td>\n",
       "                        <td id=\"T_124573a6_0f48_11ea_9b64_acfdce4ec20crow0_col11\" class=\"data row0 col11\" >23.6</td>\n",
       "            </tr>\n",
       "            <tr>\n",
       "                        <th id=\"T_124573a6_0f48_11ea_9b64_acfdce4ec20clevel0_row1\" class=\"row_heading level0 row1\" >National</th>\n",
       "                        <td id=\"T_124573a6_0f48_11ea_9b64_acfdce4ec20crow1_col0\" class=\"data row1 col0\" > 60%</td>\n",
       "                        <td id=\"T_124573a6_0f48_11ea_9b64_acfdce4ec20crow1_col1\" class=\"data row1 col1\" >20.3</td>\n",
       "                        <td id=\"T_124573a6_0f48_11ea_9b64_acfdce4ec20crow1_col2\" class=\"data row1 col2\" >20.7</td>\n",
       "                        <td id=\"T_124573a6_0f48_11ea_9b64_acfdce4ec20crow1_col3\" class=\"data row1 col3\" >21.4</td>\n",
       "                        <td id=\"T_124573a6_0f48_11ea_9b64_acfdce4ec20crow1_col4\" class=\"data row1 col4\" >21</td>\n",
       "                        <td id=\"T_124573a6_0f48_11ea_9b64_acfdce4ec20crow1_col5\" class=\"data row1 col5\" >21</td>\n",
       "                        <td id=\"T_124573a6_0f48_11ea_9b64_acfdce4ec20crow1_col6\" class=\"data row1 col6\" >60%</td>\n",
       "                        <td id=\"T_124573a6_0f48_11ea_9b64_acfdce4ec20crow1_col7\" class=\"data row1 col7\" >20.3</td>\n",
       "                        <td id=\"T_124573a6_0f48_11ea_9b64_acfdce4ec20crow1_col8\" class=\"data row1 col8\" >20.7</td>\n",
       "                        <td id=\"T_124573a6_0f48_11ea_9b64_acfdce4ec20crow1_col9\" class=\"data row1 col9\" >21.4</td>\n",
       "                        <td id=\"T_124573a6_0f48_11ea_9b64_acfdce4ec20crow1_col10\" class=\"data row1 col10\" >21</td>\n",
       "                        <td id=\"T_124573a6_0f48_11ea_9b64_acfdce4ec20crow1_col11\" class=\"data row1 col11\" >21</td>\n",
       "            </tr>\n",
       "    </tbody></table>"
      ],
      "text/plain": [
       "<pandas.io.formats.style.Styler at 0x1e6c6982748>"
      ]
     },
     "execution_count": 13,
     "metadata": {},
     "output_type": "execute_result"
    }
   ],
   "source": [
    "# Load source SAT data from tab delimited file into dataframe.\n",
    "df_act_2017_source = pd.read_csv('../data/act_2017_source.txt', sep='\\t')\n",
    "df_act_2017_source.set_index('State', inplace=True)\n",
    "df_act_2017_source.columns = act_2017_columns\n",
    "df_act_2017_source.rename(columns=lambda col_name: col_name + '_src', inplace=True) \n",
    "\n",
    "# Join ACT CSV and source dataframes on row index 'State' \n",
    "df_act_2017_combined = df_act_2017.join(df_act_2017_source, 'State')\n",
    "\n",
    "df_act_2017_mismatched = df_act_2017_combined.loc[get_mismatched_indexes(df_act_2017_combined, act_2017_columns)]\n",
    "\n",
    "def highlight_act_mismatched(column):\n",
    "    \n",
    "    formats = ['' for i in range(column.size)]\n",
    "    \n",
    "    if column.name in act_2017_columns:\n",
    "        \n",
    "        is_mismatched = column != df_act_2017_mismatched[column.name + '_src']\n",
    "\n",
    "        return ['background-color: yellow' if mismatched else '' for mismatched in is_mismatched]\n",
    "    \n",
    "    return formats\n",
    "\n",
    "df_act_2017_mismatched.style.apply(highlight_act_mismatched)"
   ]
  },
  {
   "cell_type": "markdown",
   "metadata": {},
   "source": [
    "Cross-referencing the ACT source, we found 2 errors:\n",
    "1. The Science score of Maryland should have been 23.2\n",
    "2. The national Participation rate differs from the source due to a leading whitespace. This error will be resolved when converting the Participation column from string to int values."
   ]
  },
  {
   "cell_type": "markdown",
   "metadata": {},
   "source": [
    "#### 4c. Fix any errors you identified\n",
    "\n",
    "**The data is available** so there's no need to guess or calculate anything. If you didn't find any errors, continue to the next step."
   ]
  },
  {
   "cell_type": "markdown",
   "metadata": {},
   "source": [
    "For the SAT dataset, we need to correct the Math score of Maryland to 524.\n",
    "For the ACT dataset, we need to correct the Science score of Maryland to 23.2.\n",
    "For both datasets, we need to convert Particatpation columns from string to float values.\n"
   ]
  },
  {
   "cell_type": "code",
   "execution_count": 16,
   "metadata": {
    "scrolled": true
   },
   "outputs": [
    {
     "data": {
      "text/html": [
       "<style  type=\"text/css\" >\n",
       "    #T_28a661fa_0f48_11ea_9209_acfdce4ec20crow0_col2 {\n",
       "            background-color:  yellow;\n",
       "        }</style><table id=\"T_28a661fa_0f48_11ea_9209_acfdce4ec20c\" ><thead>    <tr>        <th class=\"blank level0\" ></th>        <th class=\"col_heading level0 col0\" >Participation</th>        <th class=\"col_heading level0 col1\" >EBRW</th>        <th class=\"col_heading level0 col2\" >Math</th>        <th class=\"col_heading level0 col3\" >Total</th>    </tr>    <tr>        <th class=\"index_name level0\" >State</th>        <th class=\"blank\" ></th>        <th class=\"blank\" ></th>        <th class=\"blank\" ></th>        <th class=\"blank\" ></th>    </tr></thead><tbody>\n",
       "                <tr>\n",
       "                        <th id=\"T_28a661fa_0f48_11ea_9209_acfdce4ec20clevel0_row0\" class=\"row_heading level0 row0\" >Maryland</th>\n",
       "                        <td id=\"T_28a661fa_0f48_11ea_9209_acfdce4ec20crow0_col0\" class=\"data row0 col0\" >69%</td>\n",
       "                        <td id=\"T_28a661fa_0f48_11ea_9209_acfdce4ec20crow0_col1\" class=\"data row0 col1\" >536</td>\n",
       "                        <td id=\"T_28a661fa_0f48_11ea_9209_acfdce4ec20crow0_col2\" class=\"data row0 col2\" >524</td>\n",
       "                        <td id=\"T_28a661fa_0f48_11ea_9209_acfdce4ec20crow0_col3\" class=\"data row0 col3\" >1060</td>\n",
       "            </tr>\n",
       "    </tbody></table>"
      ],
      "text/plain": [
       "<pandas.io.formats.style.Styler at 0x1e6c6964688>"
      ]
     },
     "execution_count": 16,
     "metadata": {},
     "output_type": "execute_result"
    }
   ],
   "source": [
    "def highlight_math_column(column):\n",
    "    \n",
    "    if column.name == 'Math':\n",
    "        return ['background-color: yellow']\n",
    "    else:\n",
    "        return ['']\n",
    "\n",
    "df_sat_2017.loc['Maryland','Math'] = 524\n",
    "df_sat_2017.loc[['Maryland']].style.apply(highlight_math_column)"
   ]
  },
  {
   "cell_type": "code",
   "execution_count": 15,
   "metadata": {},
   "outputs": [
    {
     "data": {
      "text/html": [
       "<style  type=\"text/css\" >\n",
       "    #T_19441ac2_0f48_11ea_b8b8_acfdce4ec20crow0_col4 {\n",
       "            background-color:  yellow;\n",
       "        }</style><table id=\"T_19441ac2_0f48_11ea_b8b8_acfdce4ec20c\" ><thead>    <tr>        <th class=\"blank level0\" ></th>        <th class=\"col_heading level0 col0\" >Participation</th>        <th class=\"col_heading level0 col1\" >English</th>        <th class=\"col_heading level0 col2\" >Math</th>        <th class=\"col_heading level0 col3\" >Reading</th>        <th class=\"col_heading level0 col4\" >Science</th>        <th class=\"col_heading level0 col5\" >Composite</th>    </tr>    <tr>        <th class=\"index_name level0\" >State</th>        <th class=\"blank\" ></th>        <th class=\"blank\" ></th>        <th class=\"blank\" ></th>        <th class=\"blank\" ></th>        <th class=\"blank\" ></th>        <th class=\"blank\" ></th>    </tr></thead><tbody>\n",
       "                <tr>\n",
       "                        <th id=\"T_19441ac2_0f48_11ea_b8b8_acfdce4ec20clevel0_row0\" class=\"row_heading level0 row0\" >Maryland</th>\n",
       "                        <td id=\"T_19441ac2_0f48_11ea_b8b8_acfdce4ec20crow0_col0\" class=\"data row0 col0\" >28%</td>\n",
       "                        <td id=\"T_19441ac2_0f48_11ea_b8b8_acfdce4ec20crow0_col1\" class=\"data row0 col1\" >23.3</td>\n",
       "                        <td id=\"T_19441ac2_0f48_11ea_b8b8_acfdce4ec20crow0_col2\" class=\"data row0 col2\" >23.1</td>\n",
       "                        <td id=\"T_19441ac2_0f48_11ea_b8b8_acfdce4ec20crow0_col3\" class=\"data row0 col3\" >24.2</td>\n",
       "                        <td id=\"T_19441ac2_0f48_11ea_b8b8_acfdce4ec20crow0_col4\" class=\"data row0 col4\" >23.2</td>\n",
       "                        <td id=\"T_19441ac2_0f48_11ea_b8b8_acfdce4ec20crow0_col5\" class=\"data row0 col5\" >23.6</td>\n",
       "            </tr>\n",
       "    </tbody></table>"
      ],
      "text/plain": [
       "<pandas.io.formats.style.Styler at 0x1e6c6974208>"
      ]
     },
     "execution_count": 15,
     "metadata": {},
     "output_type": "execute_result"
    }
   ],
   "source": [
    "def highlight_science_column(column):\n",
    "    \n",
    "    if column.name == 'Science':\n",
    "        return ['background-color: yellow']\n",
    "    else:\n",
    "        return ['']\n",
    "\n",
    "df_act_2017.loc['Maryland','Science'] = 23.2\n",
    "df_act_2017.loc[['Maryland']].style.apply(highlight_science_column)"
   ]
  },
  {
   "cell_type": "markdown",
   "metadata": {},
   "source": [
    "#### 5. What are your data types? \n",
    "Display the data types of each feature. "
   ]
  },
  {
   "cell_type": "code",
   "execution_count": 17,
   "metadata": {},
   "outputs": [
    {
     "name": "stdout",
     "output_type": "stream",
     "text": [
      "<class 'pandas.core.frame.DataFrame'>\n",
      "Index: 51 entries, Alabama to Wyoming\n",
      "Data columns (total 4 columns):\n",
      "Participation    51 non-null object\n",
      "EBRW             51 non-null int64\n",
      "Math             51 non-null int64\n",
      "Total            51 non-null int64\n",
      "dtypes: int64(3), object(1)\n",
      "memory usage: 4.5+ KB\n"
     ]
    }
   ],
   "source": [
    "df_sat_2017.info()"
   ]
  },
  {
   "cell_type": "code",
   "execution_count": 18,
   "metadata": {},
   "outputs": [
    {
     "name": "stdout",
     "output_type": "stream",
     "text": [
      "<class 'pandas.core.frame.DataFrame'>\n",
      "Index: 52 entries, National to Wyoming\n",
      "Data columns (total 6 columns):\n",
      "Participation    52 non-null object\n",
      "English          52 non-null float64\n",
      "Math             52 non-null float64\n",
      "Reading          52 non-null float64\n",
      "Science          52 non-null float64\n",
      "Composite        52 non-null float64\n",
      "dtypes: float64(5), object(1)\n",
      "memory usage: 5.3+ KB\n"
     ]
    }
   ],
   "source": [
    "df_act_2017.info()"
   ]
  },
  {
   "cell_type": "markdown",
   "metadata": {},
   "source": [
    "What did you learn?\n",
    "- Do any of them seem odd?  \n",
    "- Which ones are not as they should be?  "
   ]
  },
  {
   "cell_type": "markdown",
   "metadata": {},
   "source": [
    "The Participation column (from both datasets) should be of integer data type to reflect percentages of state participation rates.\n",
    "\n",
    "Note: The Composite score column from the ACT dataset was converted from string to float data type earlier to facilitate validation against its source."
   ]
  },
  {
   "cell_type": "markdown",
   "metadata": {},
   "source": [
    "#### 6. Fix Incorrect Data Types\n",
    "Based on what you discovered above, use appropriate methods to re-type incorrectly typed data.\n",
    "- Define a function that will allow you to convert participation rates to an appropriate numeric type. Use `map` or `apply` to change these columns in each dataframe."
   ]
  },
  {
   "cell_type": "code",
   "execution_count": 19,
   "metadata": {},
   "outputs": [],
   "source": [
    "# Convert Participation columns of both datasets from string to integer data type.\n",
    "\n",
    "def to_int_column(df, col_name):\n",
    "    df[col_name] = df.apply(lambda row: int(row[col_name].strip()[:-1]), axis=1)\n",
    "\n",
    "to_int_column(df_sat_2017, 'Participation')\n",
    "to_int_column(df_act_2017, 'Participation')"
   ]
  },
  {
   "cell_type": "markdown",
   "metadata": {},
   "source": [
    "- Fix any individual values preventing other columns from being the appropriate type."
   ]
  },
  {
   "cell_type": "markdown",
   "metadata": {},
   "source": [
    "- Finish your data modifications by making sure the columns are now typed appropriately."
   ]
  },
  {
   "cell_type": "code",
   "execution_count": null,
   "metadata": {},
   "outputs": [],
   "source": [
    "#code"
   ]
  },
  {
   "cell_type": "markdown",
   "metadata": {},
   "source": [
    "- Display the data types again to confirm they are correct."
   ]
  },
  {
   "cell_type": "code",
   "execution_count": 20,
   "metadata": {},
   "outputs": [
    {
     "name": "stdout",
     "output_type": "stream",
     "text": [
      "<class 'pandas.core.frame.DataFrame'>\n",
      "Index: 51 entries, Alabama to Wyoming\n",
      "Data columns (total 4 columns):\n",
      "Participation    51 non-null int64\n",
      "EBRW             51 non-null int64\n",
      "Math             51 non-null int64\n",
      "Total            51 non-null int64\n",
      "dtypes: int64(4)\n",
      "memory usage: 4.5+ KB\n"
     ]
    }
   ],
   "source": [
    "df_sat_2017.info()"
   ]
  },
  {
   "cell_type": "code",
   "execution_count": 21,
   "metadata": {},
   "outputs": [
    {
     "name": "stdout",
     "output_type": "stream",
     "text": [
      "<class 'pandas.core.frame.DataFrame'>\n",
      "Index: 52 entries, National to Wyoming\n",
      "Data columns (total 6 columns):\n",
      "Participation    52 non-null int64\n",
      "English          52 non-null float64\n",
      "Math             52 non-null float64\n",
      "Reading          52 non-null float64\n",
      "Science          52 non-null float64\n",
      "Composite        52 non-null float64\n",
      "dtypes: float64(5), int64(1)\n",
      "memory usage: 5.3+ KB\n"
     ]
    }
   ],
   "source": [
    "df_act_2017.info()"
   ]
  },
  {
   "cell_type": "markdown",
   "metadata": {},
   "source": [
    "#### 7. Rename Columns\n",
    "Change the names of the columns to more expressive names so that you can tell the difference the SAT columns and the ACT columns. Your solution should map all column names being changed at once (no repeated singular name-changes). **We will be combining these data with some of the data from 2018, and so you should name columns in an appropriate way**.\n",
    "\n",
    "**Guidelines**:\n",
    "- Column names should be all lowercase (you will thank yourself when you start pushing data to SQL later in the course)\n",
    "- Column names should not contain spaces (underscores will suffice--this allows for using the `df.column_name` method to access columns in addition to `df['column_name']`.\n",
    "- Column names should be unique and informative (the only feature that we actually share between dataframes is the state)."
   ]
  },
  {
   "cell_type": "markdown",
   "metadata": {},
   "source": [
    "<font size = 3 color = red>You have to write a function that rename all column names at once i.e. 'no repeated singular name changes'.<br>You should try a function that loops through all column names and replace \" \" with \"_\"</font>"
   ]
  },
  {
   "cell_type": "code",
   "execution_count": 22,
   "metadata": {},
   "outputs": [],
   "source": [
    "# Rename index and column names to lowercase. Append pfrefix 'sat_' or 'act_' to the respective datasets.  \n",
    "sat_columns = ['sat_participation', 'sat_ebrw', 'sat_math', 'sat_total']\n",
    "act_columns = ['act_participation', 'act_english', 'act_math', 'act_reading', 'act_science', 'act_composite']\n",
    "\n",
    "df_sat_2017.index.name = 'state'\n",
    "df_sat_2017.columns = sat_columns\n",
    "\n",
    "df_act_2017.index.name = 'state'\n",
    "df_act_2017.columns = act_columns"
   ]
  },
  {
   "cell_type": "markdown",
   "metadata": {},
   "source": [
    "#### 8. Create a data dictionary\n",
    "\n",
    "Now that we've fixed our data, and given it appropriate names, let's create a [data dictionary](http://library.ucmerced.edu/node/10249). \n",
    "\n",
    "A data dictionary provides a quick overview of features/variables/columns, alongside data types and descriptions. The more descriptive you can be, the more useful this document is.\n",
    "\n",
    "Example of a Fictional Data Dictionary Entry: \n",
    "\n",
    "|Feature|Type|Dataset|Description|\n",
    "|---|---|---|---|\n",
    "|**county_pop**|*integer*|2010 census|The population of the county (units in thousands, where 2.5 represents 2500 people).| \n",
    "|**per_poverty**|*float*|2010 census|The percent of the county over the age of 18 living below the 200% of official US poverty rate (units percent to two decimal places 98.10 means 98.1%)|\n",
    "\n",
    "[Here's a quick link to a short guide for formatting markdown in Jupyter notebooks](https://jupyter-notebook.readthedocs.io/en/stable/examples/Notebook/Working%20With%20Markdown%20Cells.html).\n",
    "\n",
    "Provided is the skeleton for formatting a markdown table, with columns headers that will help you create a data dictionary to quickly summarize your data, as well as some examples. **This would be a great thing to copy and paste into your custom README for this project.**"
   ]
  },
  {
   "cell_type": "markdown",
   "metadata": {},
   "source": [
    "|Feature|Type|Dataset|Description|\n",
    "|---|---|---|---|\n",
    "|state (index)|str|SAT/ACT|State of the test data.| \n",
    "|year (index)|int|SAT/ACT|Year of the test data.| \n",
    "|sat_participation|int|SAT|Percentage of students in the state taking the SAT college admissions test.| \n",
    "|sat_ebrw|int|SAT|Evidence-Based Reading Writing score of the SAT test.| \n",
    "|sat_math|int|SAT|Math score of the SAT test.| \n",
    "|sat_total|int|SAT|Total score of the SAT test (EBRW + Math score).| \n",
    "|act_participation|int|ACT|Percentage of students in the state taking the ACT college admissions test.| \n",
    "|act_english|float|ACT|English score of the ACT test.| \n",
    "|act_math|float|ACT|Math score of the ACT test.| \n",
    "|act_reading|float|ACT|Reading score of the ACT test.| \n",
    "|act_science|float|ACT|Science score of the ACT test.| \n",
    "|act_composite|float|ACT|Composite score of the ACT test.| "
   ]
  },
  {
   "cell_type": "markdown",
   "metadata": {},
   "source": [
    "#### 9. Drop unnecessary rows\n",
    "\n",
    "One of our dataframes contains an extra row. Identify and remove this from the dataframe."
   ]
  },
  {
   "cell_type": "markdown",
   "metadata": {},
   "source": [
    "The ACT dataset contains a row with index 'National'. It has score averages of the different columns across all the states. We do not need this row and will drop it."
   ]
  },
  {
   "cell_type": "code",
   "execution_count": 23,
   "metadata": {
    "scrolled": true
   },
   "outputs": [],
   "source": [
    "df_act_2017.loc[['National']]\n",
    "\n",
    "df_act_2017.drop('National', inplace=True)"
   ]
  },
  {
   "cell_type": "markdown",
   "metadata": {},
   "source": [
    "After removing the extra row, both SAT and ACT datasets have the same number of rows and we cna proceed to join them,"
   ]
  },
  {
   "cell_type": "code",
   "execution_count": 24,
   "metadata": {},
   "outputs": [
    {
     "name": "stdout",
     "output_type": "stream",
     "text": [
      "<class 'pandas.core.frame.DataFrame'>\n",
      "Index: 51 entries, Alabama to Wyoming\n",
      "Data columns (total 6 columns):\n",
      "act_participation    51 non-null int64\n",
      "act_english          51 non-null float64\n",
      "act_math             51 non-null float64\n",
      "act_reading          51 non-null float64\n",
      "act_science          51 non-null float64\n",
      "act_composite        51 non-null float64\n",
      "dtypes: float64(5), int64(1)\n",
      "memory usage: 2.8+ KB\n",
      "\n",
      "\n",
      "<class 'pandas.core.frame.DataFrame'>\n",
      "Index: 51 entries, Alabama to Wyoming\n",
      "Data columns (total 4 columns):\n",
      "sat_participation    51 non-null int64\n",
      "sat_ebrw             51 non-null int64\n",
      "sat_math             51 non-null int64\n",
      "sat_total            51 non-null int64\n",
      "dtypes: int64(4)\n",
      "memory usage: 4.5+ KB\n"
     ]
    }
   ],
   "source": [
    "df_act_2017.info()\n",
    "print('\\n')\n",
    "df_sat_2017.info()"
   ]
  },
  {
   "cell_type": "markdown",
   "metadata": {},
   "source": [
    "> <font size = 3 color = red> I like how you use \\n to make it more readable</font>"
   ]
  },
  {
   "cell_type": "markdown",
   "metadata": {},
   "source": [
    "#### 10. Merge Dataframes\n",
    "\n",
    "Join the 2017 ACT and SAT dataframes using the state in each dataframe as the key. Assign this to a new variable."
   ]
  },
  {
   "cell_type": "code",
   "execution_count": 25,
   "metadata": {
    "scrolled": true
   },
   "outputs": [
    {
     "data": {
      "text/html": [
       "<div>\n",
       "<style scoped>\n",
       "    .dataframe tbody tr th:only-of-type {\n",
       "        vertical-align: middle;\n",
       "    }\n",
       "\n",
       "    .dataframe tbody tr th {\n",
       "        vertical-align: top;\n",
       "    }\n",
       "\n",
       "    .dataframe thead th {\n",
       "        text-align: right;\n",
       "    }\n",
       "</style>\n",
       "<table border=\"1\" class=\"dataframe\">\n",
       "  <thead>\n",
       "    <tr style=\"text-align: right;\">\n",
       "      <th></th>\n",
       "      <th>sat_participation</th>\n",
       "      <th>sat_ebrw</th>\n",
       "      <th>sat_math</th>\n",
       "      <th>sat_total</th>\n",
       "      <th>act_participation</th>\n",
       "      <th>act_english</th>\n",
       "      <th>act_math</th>\n",
       "      <th>act_reading</th>\n",
       "      <th>act_science</th>\n",
       "      <th>act_composite</th>\n",
       "      <th>year</th>\n",
       "    </tr>\n",
       "    <tr>\n",
       "      <th>state</th>\n",
       "      <th></th>\n",
       "      <th></th>\n",
       "      <th></th>\n",
       "      <th></th>\n",
       "      <th></th>\n",
       "      <th></th>\n",
       "      <th></th>\n",
       "      <th></th>\n",
       "      <th></th>\n",
       "      <th></th>\n",
       "      <th></th>\n",
       "    </tr>\n",
       "  </thead>\n",
       "  <tbody>\n",
       "    <tr>\n",
       "      <td>Alabama</td>\n",
       "      <td>5</td>\n",
       "      <td>593</td>\n",
       "      <td>572</td>\n",
       "      <td>1165</td>\n",
       "      <td>100</td>\n",
       "      <td>18.9</td>\n",
       "      <td>18.4</td>\n",
       "      <td>19.7</td>\n",
       "      <td>19.4</td>\n",
       "      <td>19.2</td>\n",
       "      <td>2017</td>\n",
       "    </tr>\n",
       "    <tr>\n",
       "      <td>Alaska</td>\n",
       "      <td>38</td>\n",
       "      <td>547</td>\n",
       "      <td>533</td>\n",
       "      <td>1080</td>\n",
       "      <td>65</td>\n",
       "      <td>18.7</td>\n",
       "      <td>19.8</td>\n",
       "      <td>20.4</td>\n",
       "      <td>19.9</td>\n",
       "      <td>19.8</td>\n",
       "      <td>2017</td>\n",
       "    </tr>\n",
       "    <tr>\n",
       "      <td>Arizona</td>\n",
       "      <td>30</td>\n",
       "      <td>563</td>\n",
       "      <td>553</td>\n",
       "      <td>1116</td>\n",
       "      <td>62</td>\n",
       "      <td>18.6</td>\n",
       "      <td>19.8</td>\n",
       "      <td>20.1</td>\n",
       "      <td>19.8</td>\n",
       "      <td>19.7</td>\n",
       "      <td>2017</td>\n",
       "    </tr>\n",
       "    <tr>\n",
       "      <td>Arkansas</td>\n",
       "      <td>3</td>\n",
       "      <td>614</td>\n",
       "      <td>594</td>\n",
       "      <td>1208</td>\n",
       "      <td>100</td>\n",
       "      <td>18.9</td>\n",
       "      <td>19.0</td>\n",
       "      <td>19.7</td>\n",
       "      <td>19.5</td>\n",
       "      <td>19.4</td>\n",
       "      <td>2017</td>\n",
       "    </tr>\n",
       "    <tr>\n",
       "      <td>California</td>\n",
       "      <td>53</td>\n",
       "      <td>531</td>\n",
       "      <td>524</td>\n",
       "      <td>1055</td>\n",
       "      <td>31</td>\n",
       "      <td>22.5</td>\n",
       "      <td>22.7</td>\n",
       "      <td>23.1</td>\n",
       "      <td>22.2</td>\n",
       "      <td>22.8</td>\n",
       "      <td>2017</td>\n",
       "    </tr>\n",
       "    <tr>\n",
       "      <td>Colorado</td>\n",
       "      <td>11</td>\n",
       "      <td>606</td>\n",
       "      <td>595</td>\n",
       "      <td>1201</td>\n",
       "      <td>100</td>\n",
       "      <td>20.1</td>\n",
       "      <td>20.3</td>\n",
       "      <td>21.2</td>\n",
       "      <td>20.9</td>\n",
       "      <td>20.8</td>\n",
       "      <td>2017</td>\n",
       "    </tr>\n",
       "    <tr>\n",
       "      <td>Connecticut</td>\n",
       "      <td>100</td>\n",
       "      <td>530</td>\n",
       "      <td>512</td>\n",
       "      <td>1041</td>\n",
       "      <td>31</td>\n",
       "      <td>25.5</td>\n",
       "      <td>24.6</td>\n",
       "      <td>25.6</td>\n",
       "      <td>24.6</td>\n",
       "      <td>25.2</td>\n",
       "      <td>2017</td>\n",
       "    </tr>\n",
       "    <tr>\n",
       "      <td>Delaware</td>\n",
       "      <td>100</td>\n",
       "      <td>503</td>\n",
       "      <td>492</td>\n",
       "      <td>996</td>\n",
       "      <td>18</td>\n",
       "      <td>24.1</td>\n",
       "      <td>23.4</td>\n",
       "      <td>24.8</td>\n",
       "      <td>23.6</td>\n",
       "      <td>24.1</td>\n",
       "      <td>2017</td>\n",
       "    </tr>\n",
       "    <tr>\n",
       "      <td>District of Columbia</td>\n",
       "      <td>100</td>\n",
       "      <td>482</td>\n",
       "      <td>468</td>\n",
       "      <td>950</td>\n",
       "      <td>32</td>\n",
       "      <td>24.4</td>\n",
       "      <td>23.5</td>\n",
       "      <td>24.9</td>\n",
       "      <td>23.5</td>\n",
       "      <td>24.2</td>\n",
       "      <td>2017</td>\n",
       "    </tr>\n",
       "    <tr>\n",
       "      <td>Florida</td>\n",
       "      <td>83</td>\n",
       "      <td>520</td>\n",
       "      <td>497</td>\n",
       "      <td>1017</td>\n",
       "      <td>73</td>\n",
       "      <td>19.0</td>\n",
       "      <td>19.4</td>\n",
       "      <td>21.0</td>\n",
       "      <td>19.4</td>\n",
       "      <td>19.8</td>\n",
       "      <td>2017</td>\n",
       "    </tr>\n",
       "  </tbody>\n",
       "</table>\n",
       "</div>"
      ],
      "text/plain": [
       "                      sat_participation  sat_ebrw  sat_math  sat_total  \\\n",
       "state                                                                    \n",
       "Alabama                               5       593       572       1165   \n",
       "Alaska                               38       547       533       1080   \n",
       "Arizona                              30       563       553       1116   \n",
       "Arkansas                              3       614       594       1208   \n",
       "California                           53       531       524       1055   \n",
       "Colorado                             11       606       595       1201   \n",
       "Connecticut                         100       530       512       1041   \n",
       "Delaware                            100       503       492        996   \n",
       "District of Columbia                100       482       468        950   \n",
       "Florida                              83       520       497       1017   \n",
       "\n",
       "                      act_participation  act_english  act_math  act_reading  \\\n",
       "state                                                                         \n",
       "Alabama                             100         18.9      18.4         19.7   \n",
       "Alaska                               65         18.7      19.8         20.4   \n",
       "Arizona                              62         18.6      19.8         20.1   \n",
       "Arkansas                            100         18.9      19.0         19.7   \n",
       "California                           31         22.5      22.7         23.1   \n",
       "Colorado                            100         20.1      20.3         21.2   \n",
       "Connecticut                          31         25.5      24.6         25.6   \n",
       "Delaware                             18         24.1      23.4         24.8   \n",
       "District of Columbia                 32         24.4      23.5         24.9   \n",
       "Florida                              73         19.0      19.4         21.0   \n",
       "\n",
       "                      act_science  act_composite  year  \n",
       "state                                                   \n",
       "Alabama                      19.4           19.2  2017  \n",
       "Alaska                       19.9           19.8  2017  \n",
       "Arizona                      19.8           19.7  2017  \n",
       "Arkansas                     19.5           19.4  2017  \n",
       "California                   22.2           22.8  2017  \n",
       "Colorado                     20.9           20.8  2017  \n",
       "Connecticut                  24.6           25.2  2017  \n",
       "Delaware                     23.6           24.1  2017  \n",
       "District of Columbia         23.5           24.2  2017  \n",
       "Florida                      19.4           19.8  2017  "
      ]
     },
     "execution_count": 25,
     "metadata": {},
     "output_type": "execute_result"
    }
   ],
   "source": [
    "# Merge the 2017 SAT and ACT dataframes using the 'state' index\n",
    "df_combined_2017 = df_sat_2017.merge(df_act_2017, how='inner', left_index=True, right_index=True)\n",
    "\n",
    "# Create a Year column to indicate the year of the datasets \n",
    "df_combined_2017['year'] = 2017\n",
    "\n",
    "df_combined_2017.head(10)"
   ]
  },
  {
   "cell_type": "code",
   "execution_count": 26,
   "metadata": {},
   "outputs": [
    {
     "name": "stdout",
     "output_type": "stream",
     "text": [
      "<class 'pandas.core.frame.DataFrame'>\n",
      "Index: 51 entries, Alabama to Wyoming\n",
      "Data columns (total 11 columns):\n",
      "sat_participation    51 non-null int64\n",
      "sat_ebrw             51 non-null int64\n",
      "sat_math             51 non-null int64\n",
      "sat_total            51 non-null int64\n",
      "act_participation    51 non-null int64\n",
      "act_english          51 non-null float64\n",
      "act_math             51 non-null float64\n",
      "act_reading          51 non-null float64\n",
      "act_science          51 non-null float64\n",
      "act_composite        51 non-null float64\n",
      "year                 51 non-null int64\n",
      "dtypes: float64(5), int64(6)\n",
      "memory usage: 7.3+ KB\n"
     ]
    }
   ],
   "source": [
    "df_combined_2017.info()"
   ]
  },
  {
   "cell_type": "markdown",
   "metadata": {},
   "source": [
    "#### 11. Save your cleaned, merged dataframe\n",
    "\n",
    "Use a relative path to save out your data as `combined_2017.csv`."
   ]
  },
  {
   "cell_type": "code",
   "execution_count": 27,
   "metadata": {},
   "outputs": [],
   "source": [
    "df_combined_2017.to_csv('../data/combined_2017.csv')"
   ]
  },
  {
   "cell_type": "markdown",
   "metadata": {},
   "source": [
    "## 2018 Data Import and Cleaning"
   ]
  },
  {
   "cell_type": "markdown",
   "metadata": {},
   "source": [
    "Links to the 2018 ACT and SAT data are provided in the README. These data live in PDFs, and so you'll get to enjoy practicing some *manual* data collection. Save these data as a CSV in your `data` directory, and import, explore, and clean these data in the same way you did above. **Make sure you comment on your steps so it is clear *why* you are doing each process**."
   ]
  },
  {
   "cell_type": "code",
   "execution_count": 28,
   "metadata": {},
   "outputs": [
    {
     "data": {
      "text/html": [
       "<div>\n",
       "<style scoped>\n",
       "    .dataframe tbody tr th:only-of-type {\n",
       "        vertical-align: middle;\n",
       "    }\n",
       "\n",
       "    .dataframe tbody tr th {\n",
       "        vertical-align: top;\n",
       "    }\n",
       "\n",
       "    .dataframe thead th {\n",
       "        text-align: right;\n",
       "    }\n",
       "</style>\n",
       "<table border=\"1\" class=\"dataframe\">\n",
       "  <thead>\n",
       "    <tr style=\"text-align: right;\">\n",
       "      <th></th>\n",
       "      <th>State</th>\n",
       "      <th>Participation</th>\n",
       "      <th>Evidence-Based Reading and Writing</th>\n",
       "      <th>Math</th>\n",
       "      <th>Total</th>\n",
       "    </tr>\n",
       "  </thead>\n",
       "  <tbody>\n",
       "    <tr>\n",
       "      <td>0</td>\n",
       "      <td>Alabama</td>\n",
       "      <td>6%</td>\n",
       "      <td>595</td>\n",
       "      <td>571</td>\n",
       "      <td>1166</td>\n",
       "    </tr>\n",
       "    <tr>\n",
       "      <td>1</td>\n",
       "      <td>Alaska</td>\n",
       "      <td>43%</td>\n",
       "      <td>562</td>\n",
       "      <td>544</td>\n",
       "      <td>1106</td>\n",
       "    </tr>\n",
       "    <tr>\n",
       "      <td>2</td>\n",
       "      <td>Arizona</td>\n",
       "      <td>29%</td>\n",
       "      <td>577</td>\n",
       "      <td>572</td>\n",
       "      <td>1149</td>\n",
       "    </tr>\n",
       "    <tr>\n",
       "      <td>3</td>\n",
       "      <td>Arkansas</td>\n",
       "      <td>5%</td>\n",
       "      <td>592</td>\n",
       "      <td>576</td>\n",
       "      <td>1169</td>\n",
       "    </tr>\n",
       "    <tr>\n",
       "      <td>4</td>\n",
       "      <td>California</td>\n",
       "      <td>60%</td>\n",
       "      <td>540</td>\n",
       "      <td>536</td>\n",
       "      <td>1076</td>\n",
       "    </tr>\n",
       "    <tr>\n",
       "      <td>5</td>\n",
       "      <td>Colorado</td>\n",
       "      <td>100%</td>\n",
       "      <td>519</td>\n",
       "      <td>506</td>\n",
       "      <td>1025</td>\n",
       "    </tr>\n",
       "    <tr>\n",
       "      <td>6</td>\n",
       "      <td>Connecticut</td>\n",
       "      <td>100%</td>\n",
       "      <td>535</td>\n",
       "      <td>519</td>\n",
       "      <td>1053</td>\n",
       "    </tr>\n",
       "    <tr>\n",
       "      <td>7</td>\n",
       "      <td>Delaware</td>\n",
       "      <td>100%</td>\n",
       "      <td>505</td>\n",
       "      <td>492</td>\n",
       "      <td>998</td>\n",
       "    </tr>\n",
       "    <tr>\n",
       "      <td>8</td>\n",
       "      <td>District of Columbia</td>\n",
       "      <td>92%</td>\n",
       "      <td>497</td>\n",
       "      <td>480</td>\n",
       "      <td>977</td>\n",
       "    </tr>\n",
       "    <tr>\n",
       "      <td>9</td>\n",
       "      <td>Florida</td>\n",
       "      <td>56%</td>\n",
       "      <td>550</td>\n",
       "      <td>549</td>\n",
       "      <td>1099</td>\n",
       "    </tr>\n",
       "  </tbody>\n",
       "</table>\n",
       "</div>"
      ],
      "text/plain": [
       "                  State Participation  Evidence-Based Reading and Writing  \\\n",
       "0               Alabama            6%                                 595   \n",
       "1                Alaska           43%                                 562   \n",
       "2               Arizona           29%                                 577   \n",
       "3              Arkansas            5%                                 592   \n",
       "4            California           60%                                 540   \n",
       "5              Colorado          100%                                 519   \n",
       "6           Connecticut          100%                                 535   \n",
       "7              Delaware          100%                                 505   \n",
       "8  District of Columbia           92%                                 497   \n",
       "9               Florida           56%                                 550   \n",
       "\n",
       "   Math  Total  \n",
       "0   571   1166  \n",
       "1   544   1106  \n",
       "2   572   1149  \n",
       "3   576   1169  \n",
       "4   536   1076  \n",
       "5   506   1025  \n",
       "6   519   1053  \n",
       "7   492    998  \n",
       "8   480    977  \n",
       "9   549   1099  "
      ]
     },
     "execution_count": 28,
     "metadata": {},
     "output_type": "execute_result"
    }
   ],
   "source": [
    "# Load 2018 SAT and ACT CSV datasets into dataframes\n",
    "\n",
    "df_sat_2018 = pd.read_csv('../data/sat_2018.csv')\n",
    "df_act_2018 = pd.read_csv('../data/act_2018_updated.csv')\n",
    "\n",
    "df_sat_2018.head(10)"
   ]
  },
  {
   "cell_type": "code",
   "execution_count": 29,
   "metadata": {
    "scrolled": true
   },
   "outputs": [
    {
     "data": {
      "text/html": [
       "<div>\n",
       "<style scoped>\n",
       "    .dataframe tbody tr th:only-of-type {\n",
       "        vertical-align: middle;\n",
       "    }\n",
       "\n",
       "    .dataframe tbody tr th {\n",
       "        vertical-align: top;\n",
       "    }\n",
       "\n",
       "    .dataframe thead th {\n",
       "        text-align: right;\n",
       "    }\n",
       "</style>\n",
       "<table border=\"1\" class=\"dataframe\">\n",
       "  <thead>\n",
       "    <tr style=\"text-align: right;\">\n",
       "      <th></th>\n",
       "      <th>sat_ebrw</th>\n",
       "      <th>sat_math</th>\n",
       "      <th>sat_total</th>\n",
       "    </tr>\n",
       "  </thead>\n",
       "  <tbody>\n",
       "    <tr>\n",
       "      <td>count</td>\n",
       "      <td>51.000000</td>\n",
       "      <td>51.000000</td>\n",
       "      <td>51.000000</td>\n",
       "    </tr>\n",
       "    <tr>\n",
       "      <td>mean</td>\n",
       "      <td>563.686275</td>\n",
       "      <td>556.235294</td>\n",
       "      <td>1120.019608</td>\n",
       "    </tr>\n",
       "    <tr>\n",
       "      <td>std</td>\n",
       "      <td>47.502627</td>\n",
       "      <td>47.772623</td>\n",
       "      <td>94.155083</td>\n",
       "    </tr>\n",
       "    <tr>\n",
       "      <td>min</td>\n",
       "      <td>480.000000</td>\n",
       "      <td>480.000000</td>\n",
       "      <td>977.000000</td>\n",
       "    </tr>\n",
       "    <tr>\n",
       "      <td>25%</td>\n",
       "      <td>534.500000</td>\n",
       "      <td>522.500000</td>\n",
       "      <td>1057.500000</td>\n",
       "    </tr>\n",
       "    <tr>\n",
       "      <td>50%</td>\n",
       "      <td>552.000000</td>\n",
       "      <td>544.000000</td>\n",
       "      <td>1098.000000</td>\n",
       "    </tr>\n",
       "    <tr>\n",
       "      <td>75%</td>\n",
       "      <td>610.500000</td>\n",
       "      <td>593.500000</td>\n",
       "      <td>1204.000000</td>\n",
       "    </tr>\n",
       "    <tr>\n",
       "      <td>max</td>\n",
       "      <td>643.000000</td>\n",
       "      <td>655.000000</td>\n",
       "      <td>1298.000000</td>\n",
       "    </tr>\n",
       "  </tbody>\n",
       "</table>\n",
       "</div>"
      ],
      "text/plain": [
       "         sat_ebrw    sat_math    sat_total\n",
       "count   51.000000   51.000000    51.000000\n",
       "mean   563.686275  556.235294  1120.019608\n",
       "std     47.502627   47.772623    94.155083\n",
       "min    480.000000  480.000000   977.000000\n",
       "25%    534.500000  522.500000  1057.500000\n",
       "50%    552.000000  544.000000  1098.000000\n",
       "75%    610.500000  593.500000  1204.000000\n",
       "max    643.000000  655.000000  1298.000000"
      ]
     },
     "execution_count": 29,
     "metadata": {},
     "output_type": "execute_result"
    }
   ],
   "source": [
    "# Rename columns and set index to state to facilitate validation and merging of dataframes later\n",
    "\n",
    "sat_columns = ['state', 'sat_participation', 'sat_ebrw', 'sat_math', 'sat_total']\n",
    "\n",
    "df_sat_2018.columns = sat_columns\n",
    "df_sat_2018.set_index('state', inplace=True)\n",
    "\n",
    "df_sat_2018.describe()"
   ]
  },
  {
   "cell_type": "code",
   "execution_count": 30,
   "metadata": {
    "scrolled": true
   },
   "outputs": [
    {
     "name": "stdout",
     "output_type": "stream",
     "text": [
      "<class 'pandas.core.frame.DataFrame'>\n",
      "Index: 51 entries, Alabama to Wyoming\n",
      "Data columns (total 4 columns):\n",
      "sat_participation    51 non-null object\n",
      "sat_ebrw             51 non-null int64\n",
      "sat_math             51 non-null int64\n",
      "sat_total            51 non-null int64\n",
      "dtypes: int64(3), object(1)\n",
      "memory usage: 2.0+ KB\n"
     ]
    }
   ],
   "source": [
    "df_sat_2018.info()"
   ]
  },
  {
   "cell_type": "code",
   "execution_count": 31,
   "metadata": {},
   "outputs": [
    {
     "data": {
      "text/html": [
       "<div>\n",
       "<style scoped>\n",
       "    .dataframe tbody tr th:only-of-type {\n",
       "        vertical-align: middle;\n",
       "    }\n",
       "\n",
       "    .dataframe tbody tr th {\n",
       "        vertical-align: top;\n",
       "    }\n",
       "\n",
       "    .dataframe thead th {\n",
       "        text-align: right;\n",
       "    }\n",
       "</style>\n",
       "<table border=\"1\" class=\"dataframe\">\n",
       "  <thead>\n",
       "    <tr style=\"text-align: right;\">\n",
       "      <th></th>\n",
       "      <th>sat_participation</th>\n",
       "      <th>sat_ebrw</th>\n",
       "      <th>sat_math</th>\n",
       "      <th>sat_total</th>\n",
       "      <th>sat_total_chk</th>\n",
       "    </tr>\n",
       "    <tr>\n",
       "      <th>state</th>\n",
       "      <th></th>\n",
       "      <th></th>\n",
       "      <th></th>\n",
       "      <th></th>\n",
       "      <th></th>\n",
       "    </tr>\n",
       "  </thead>\n",
       "  <tbody>\n",
       "    <tr>\n",
       "      <td>Arkansas</td>\n",
       "      <td>5%</td>\n",
       "      <td>592</td>\n",
       "      <td>576</td>\n",
       "      <td>1169</td>\n",
       "      <td>1168</td>\n",
       "    </tr>\n",
       "    <tr>\n",
       "      <td>Connecticut</td>\n",
       "      <td>100%</td>\n",
       "      <td>535</td>\n",
       "      <td>519</td>\n",
       "      <td>1053</td>\n",
       "      <td>1054</td>\n",
       "    </tr>\n",
       "    <tr>\n",
       "      <td>Delaware</td>\n",
       "      <td>100%</td>\n",
       "      <td>505</td>\n",
       "      <td>492</td>\n",
       "      <td>998</td>\n",
       "      <td>997</td>\n",
       "    </tr>\n",
       "    <tr>\n",
       "      <td>Kansas</td>\n",
       "      <td>4%</td>\n",
       "      <td>633</td>\n",
       "      <td>631</td>\n",
       "      <td>1265</td>\n",
       "      <td>1264</td>\n",
       "    </tr>\n",
       "    <tr>\n",
       "      <td>Michigan</td>\n",
       "      <td>100%</td>\n",
       "      <td>511</td>\n",
       "      <td>499</td>\n",
       "      <td>1011</td>\n",
       "      <td>1010</td>\n",
       "    </tr>\n",
       "    <tr>\n",
       "      <td>New Mexico</td>\n",
       "      <td>16%</td>\n",
       "      <td>552</td>\n",
       "      <td>540</td>\n",
       "      <td>1093</td>\n",
       "      <td>1092</td>\n",
       "    </tr>\n",
       "    <tr>\n",
       "      <td>North Carolina</td>\n",
       "      <td>52%</td>\n",
       "      <td>554</td>\n",
       "      <td>543</td>\n",
       "      <td>1098</td>\n",
       "      <td>1097</td>\n",
       "    </tr>\n",
       "    <tr>\n",
       "      <td>Vermont</td>\n",
       "      <td>64%</td>\n",
       "      <td>565</td>\n",
       "      <td>554</td>\n",
       "      <td>1120</td>\n",
       "      <td>1119</td>\n",
       "    </tr>\n",
       "    <tr>\n",
       "      <td>Wyoming</td>\n",
       "      <td>3%</td>\n",
       "      <td>633</td>\n",
       "      <td>625</td>\n",
       "      <td>1257</td>\n",
       "      <td>1258</td>\n",
       "    </tr>\n",
       "  </tbody>\n",
       "</table>\n",
       "</div>"
      ],
      "text/plain": [
       "               sat_participation  sat_ebrw  sat_math  sat_total  sat_total_chk\n",
       "state                                                                         \n",
       "Arkansas                      5%       592       576       1169           1168\n",
       "Connecticut                 100%       535       519       1053           1054\n",
       "Delaware                    100%       505       492        998            997\n",
       "Kansas                        4%       633       631       1265           1264\n",
       "Michigan                    100%       511       499       1011           1010\n",
       "New Mexico                   16%       552       540       1093           1092\n",
       "North Carolina               52%       554       543       1098           1097\n",
       "Vermont                      64%       565       554       1120           1119\n",
       "Wyoming                       3%       633       625       1257           1258"
      ]
     },
     "execution_count": 31,
     "metadata": {},
     "output_type": "execute_result"
    }
   ],
   "source": [
    "# Verify that sum of EBRW and Math scores equals Total score\n",
    "df_sat_2018['sat_total_chk'] = df_sat_2018['sat_ebrw'] + df_sat_2018['sat_math']\n",
    "\n",
    "df_sat_2018_mismatched = df_sat_2018[(df_sat_2018['sat_total'] != df_sat_2018['sat_total_chk'])]\n",
    "\n",
    "df_sat_2018_mismatched"
   ]
  },
  {
   "cell_type": "markdown",
   "metadata": {},
   "source": [
    "For the 2018 SAT dataset:\n",
    "1. Dataset is complete, no missing/null values\n",
    "2. Both EBRW and Math score columns are within minimum/maximum possible values.\n",
    "3. Participation column needs to be converted to integer data type.\n",
    "4. There are some errors in the total score column."
   ]
  },
  {
   "cell_type": "code",
   "execution_count": 32,
   "metadata": {},
   "outputs": [
    {
     "name": "stdout",
     "output_type": "stream",
     "text": [
      "<class 'pandas.core.frame.DataFrame'>\n",
      "Index: 51 entries, Alabama to Wyoming\n",
      "Data columns (total 4 columns):\n",
      "sat_participation    51 non-null int64\n",
      "sat_ebrw             51 non-null int64\n",
      "sat_math             51 non-null int64\n",
      "sat_total            51 non-null int64\n",
      "dtypes: int64(4)\n",
      "memory usage: 2.0+ KB\n"
     ]
    }
   ],
   "source": [
    "# Convert Participation column from string to integer data type\n",
    "to_int_column(df_sat_2018, 'sat_participation')\n",
    "\n",
    "# Drop the column for checking the total score\n",
    "df_sat_2018.drop('sat_total_chk', axis=1, inplace=True)\n",
    "\n",
    "df_sat_2018.info()"
   ]
  },
  {
   "cell_type": "code",
   "execution_count": 33,
   "metadata": {
    "scrolled": true
   },
   "outputs": [
    {
     "data": {
      "text/html": [
       "<div>\n",
       "<style scoped>\n",
       "    .dataframe tbody tr th:only-of-type {\n",
       "        vertical-align: middle;\n",
       "    }\n",
       "\n",
       "    .dataframe tbody tr th {\n",
       "        vertical-align: top;\n",
       "    }\n",
       "\n",
       "    .dataframe thead th {\n",
       "        text-align: right;\n",
       "    }\n",
       "</style>\n",
       "<table border=\"1\" class=\"dataframe\">\n",
       "  <thead>\n",
       "    <tr style=\"text-align: right;\">\n",
       "      <th></th>\n",
       "      <th>State</th>\n",
       "      <th>Percentage of Students Tested</th>\n",
       "      <th>Average Composite Score</th>\n",
       "      <th>Average English Score</th>\n",
       "      <th>Average Math Score</th>\n",
       "      <th>Average Reading Score</th>\n",
       "      <th>Average Science Score</th>\n",
       "    </tr>\n",
       "  </thead>\n",
       "  <tbody>\n",
       "    <tr>\n",
       "      <td>0</td>\n",
       "      <td>Alabama</td>\n",
       "      <td>100</td>\n",
       "      <td>19.1</td>\n",
       "      <td>18.9</td>\n",
       "      <td>18.3</td>\n",
       "      <td>19.6</td>\n",
       "      <td>19.0</td>\n",
       "    </tr>\n",
       "    <tr>\n",
       "      <td>1</td>\n",
       "      <td>Alaska</td>\n",
       "      <td>33</td>\n",
       "      <td>20.8</td>\n",
       "      <td>19.8</td>\n",
       "      <td>20.6</td>\n",
       "      <td>21.6</td>\n",
       "      <td>20.7</td>\n",
       "    </tr>\n",
       "    <tr>\n",
       "      <td>2</td>\n",
       "      <td>Arizona</td>\n",
       "      <td>66</td>\n",
       "      <td>19.2</td>\n",
       "      <td>18.2</td>\n",
       "      <td>19.4</td>\n",
       "      <td>19.5</td>\n",
       "      <td>19.2</td>\n",
       "    </tr>\n",
       "    <tr>\n",
       "      <td>3</td>\n",
       "      <td>Arkansas</td>\n",
       "      <td>100</td>\n",
       "      <td>19.4</td>\n",
       "      <td>19.1</td>\n",
       "      <td>18.9</td>\n",
       "      <td>19.7</td>\n",
       "      <td>19.4</td>\n",
       "    </tr>\n",
       "    <tr>\n",
       "      <td>4</td>\n",
       "      <td>California</td>\n",
       "      <td>27</td>\n",
       "      <td>22.7</td>\n",
       "      <td>22.5</td>\n",
       "      <td>22.5</td>\n",
       "      <td>23.0</td>\n",
       "      <td>22.1</td>\n",
       "    </tr>\n",
       "    <tr>\n",
       "      <td>5</td>\n",
       "      <td>Colorado</td>\n",
       "      <td>30</td>\n",
       "      <td>23.9</td>\n",
       "      <td>23.9</td>\n",
       "      <td>23.2</td>\n",
       "      <td>24.4</td>\n",
       "      <td>23.5</td>\n",
       "    </tr>\n",
       "    <tr>\n",
       "      <td>6</td>\n",
       "      <td>Connecticut</td>\n",
       "      <td>26</td>\n",
       "      <td>25.6</td>\n",
       "      <td>26.0</td>\n",
       "      <td>24.8</td>\n",
       "      <td>26.1</td>\n",
       "      <td>24.9</td>\n",
       "    </tr>\n",
       "    <tr>\n",
       "      <td>7</td>\n",
       "      <td>Delaware</td>\n",
       "      <td>17</td>\n",
       "      <td>23.2</td>\n",
       "      <td>23.7</td>\n",
       "      <td>23.1</td>\n",
       "      <td>24.5</td>\n",
       "      <td>23.4</td>\n",
       "    </tr>\n",
       "    <tr>\n",
       "      <td>8</td>\n",
       "      <td>District of Columbia</td>\n",
       "      <td>32</td>\n",
       "      <td>23.6</td>\n",
       "      <td>23.7</td>\n",
       "      <td>22.7</td>\n",
       "      <td>24.4</td>\n",
       "      <td>23.0</td>\n",
       "    </tr>\n",
       "    <tr>\n",
       "      <td>9</td>\n",
       "      <td>Florida</td>\n",
       "      <td>66</td>\n",
       "      <td>19.9</td>\n",
       "      <td>19.2</td>\n",
       "      <td>19.3</td>\n",
       "      <td>21.1</td>\n",
       "      <td>19.5</td>\n",
       "    </tr>\n",
       "  </tbody>\n",
       "</table>\n",
       "</div>"
      ],
      "text/plain": [
       "                  State  Percentage of Students Tested  \\\n",
       "0               Alabama                            100   \n",
       "1                Alaska                             33   \n",
       "2               Arizona                             66   \n",
       "3              Arkansas                            100   \n",
       "4            California                             27   \n",
       "5              Colorado                             30   \n",
       "6           Connecticut                             26   \n",
       "7              Delaware                             17   \n",
       "8  District of Columbia                             32   \n",
       "9               Florida                             66   \n",
       "\n",
       "   Average Composite Score  Average English Score  Average Math Score  \\\n",
       "0                     19.1                   18.9                18.3   \n",
       "1                     20.8                   19.8                20.6   \n",
       "2                     19.2                   18.2                19.4   \n",
       "3                     19.4                   19.1                18.9   \n",
       "4                     22.7                   22.5                22.5   \n",
       "5                     23.9                   23.9                23.2   \n",
       "6                     25.6                   26.0                24.8   \n",
       "7                     23.2                   23.7                23.1   \n",
       "8                     23.6                   23.7                22.7   \n",
       "9                     19.9                   19.2                19.3   \n",
       "\n",
       "   Average Reading Score  Average Science Score  \n",
       "0                   19.6                   19.0  \n",
       "1                   21.6                   20.7  \n",
       "2                   19.5                   19.2  \n",
       "3                   19.7                   19.4  \n",
       "4                   23.0                   22.1  \n",
       "5                   24.4                   23.5  \n",
       "6                   26.1                   24.9  \n",
       "7                   24.5                   23.4  \n",
       "8                   24.4                   23.0  \n",
       "9                   21.1                   19.5  "
      ]
     },
     "execution_count": 33,
     "metadata": {},
     "output_type": "execute_result"
    }
   ],
   "source": [
    "df_act_2018.head(10)"
   ]
  },
  {
   "cell_type": "code",
   "execution_count": 34,
   "metadata": {
    "scrolled": true
   },
   "outputs": [
    {
     "data": {
      "text/html": [
       "<div>\n",
       "<style scoped>\n",
       "    .dataframe tbody tr th:only-of-type {\n",
       "        vertical-align: middle;\n",
       "    }\n",
       "\n",
       "    .dataframe tbody tr th {\n",
       "        vertical-align: top;\n",
       "    }\n",
       "\n",
       "    .dataframe thead th {\n",
       "        text-align: right;\n",
       "    }\n",
       "</style>\n",
       "<table border=\"1\" class=\"dataframe\">\n",
       "  <thead>\n",
       "    <tr style=\"text-align: right;\">\n",
       "      <th></th>\n",
       "      <th>act_participation</th>\n",
       "      <th>act_composite</th>\n",
       "      <th>act_english</th>\n",
       "      <th>act_math</th>\n",
       "      <th>act_reading</th>\n",
       "      <th>act_science</th>\n",
       "    </tr>\n",
       "  </thead>\n",
       "  <tbody>\n",
       "    <tr>\n",
       "      <td>count</td>\n",
       "      <td>51.000000</td>\n",
       "      <td>51.000000</td>\n",
       "      <td>51.000000</td>\n",
       "      <td>51.000000</td>\n",
       "      <td>51.000000</td>\n",
       "      <td>51.000000</td>\n",
       "    </tr>\n",
       "    <tr>\n",
       "      <td>mean</td>\n",
       "      <td>61.647059</td>\n",
       "      <td>21.486275</td>\n",
       "      <td>20.988235</td>\n",
       "      <td>21.125490</td>\n",
       "      <td>22.015686</td>\n",
       "      <td>21.345098</td>\n",
       "    </tr>\n",
       "    <tr>\n",
       "      <td>std</td>\n",
       "      <td>34.080976</td>\n",
       "      <td>2.106278</td>\n",
       "      <td>2.446356</td>\n",
       "      <td>2.035765</td>\n",
       "      <td>2.167245</td>\n",
       "      <td>1.870114</td>\n",
       "    </tr>\n",
       "    <tr>\n",
       "      <td>min</td>\n",
       "      <td>7.000000</td>\n",
       "      <td>17.700000</td>\n",
       "      <td>16.600000</td>\n",
       "      <td>17.800000</td>\n",
       "      <td>18.000000</td>\n",
       "      <td>17.900000</td>\n",
       "    </tr>\n",
       "    <tr>\n",
       "      <td>25%</td>\n",
       "      <td>28.500000</td>\n",
       "      <td>19.950000</td>\n",
       "      <td>19.100000</td>\n",
       "      <td>19.400000</td>\n",
       "      <td>20.450000</td>\n",
       "      <td>19.850000</td>\n",
       "    </tr>\n",
       "    <tr>\n",
       "      <td>50%</td>\n",
       "      <td>66.000000</td>\n",
       "      <td>21.300000</td>\n",
       "      <td>20.200000</td>\n",
       "      <td>20.700000</td>\n",
       "      <td>21.600000</td>\n",
       "      <td>21.100000</td>\n",
       "    </tr>\n",
       "    <tr>\n",
       "      <td>75%</td>\n",
       "      <td>100.000000</td>\n",
       "      <td>23.550000</td>\n",
       "      <td>23.700000</td>\n",
       "      <td>23.150000</td>\n",
       "      <td>24.100000</td>\n",
       "      <td>23.050000</td>\n",
       "    </tr>\n",
       "    <tr>\n",
       "      <td>max</td>\n",
       "      <td>100.000000</td>\n",
       "      <td>25.600000</td>\n",
       "      <td>26.000000</td>\n",
       "      <td>25.200000</td>\n",
       "      <td>26.100000</td>\n",
       "      <td>24.900000</td>\n",
       "    </tr>\n",
       "  </tbody>\n",
       "</table>\n",
       "</div>"
      ],
      "text/plain": [
       "       act_participation  act_composite  act_english   act_math  act_reading  \\\n",
       "count          51.000000      51.000000    51.000000  51.000000    51.000000   \n",
       "mean           61.647059      21.486275    20.988235  21.125490    22.015686   \n",
       "std            34.080976       2.106278     2.446356   2.035765     2.167245   \n",
       "min             7.000000      17.700000    16.600000  17.800000    18.000000   \n",
       "25%            28.500000      19.950000    19.100000  19.400000    20.450000   \n",
       "50%            66.000000      21.300000    20.200000  20.700000    21.600000   \n",
       "75%           100.000000      23.550000    23.700000  23.150000    24.100000   \n",
       "max           100.000000      25.600000    26.000000  25.200000    26.100000   \n",
       "\n",
       "       act_science  \n",
       "count    51.000000  \n",
       "mean     21.345098  \n",
       "std       1.870114  \n",
       "min      17.900000  \n",
       "25%      19.850000  \n",
       "50%      21.100000  \n",
       "75%      23.050000  \n",
       "max      24.900000  "
      ]
     },
     "execution_count": 34,
     "metadata": {},
     "output_type": "execute_result"
    }
   ],
   "source": [
    "# Rename columns and set index to state to facilitate validation and merging of dataframes later\n",
    "\n",
    "act_columns = ['state', 'act_participation', 'act_composite', 'act_english', 'act_math', 'act_reading', 'act_science']\n",
    "\n",
    "df_act_2018.columns = act_columns\n",
    "df_act_2018.set_index('state', inplace=True)\n",
    "\n",
    "df_act_2018.describe()"
   ]
  },
  {
   "cell_type": "code",
   "execution_count": 35,
   "metadata": {},
   "outputs": [
    {
     "name": "stdout",
     "output_type": "stream",
     "text": [
      "<class 'pandas.core.frame.DataFrame'>\n",
      "Index: 51 entries, Alabama to Wyoming\n",
      "Data columns (total 6 columns):\n",
      "act_participation    51 non-null int64\n",
      "act_composite        51 non-null float64\n",
      "act_english          51 non-null float64\n",
      "act_math             51 non-null float64\n",
      "act_reading          51 non-null float64\n",
      "act_science          51 non-null float64\n",
      "dtypes: float64(5), int64(1)\n",
      "memory usage: 2.8+ KB\n"
     ]
    }
   ],
   "source": [
    "df_act_2018.info()"
   ]
  },
  {
   "cell_type": "markdown",
   "metadata": {},
   "source": [
    "For the 2018 ACT dataset:\n",
    "1. Dataset is complete, no missing/null values\n",
    "2. Composite, English, Math, Reading and Science score columns are within minimum/maximum possible values.\n",
    "3. Participation rate is already in integer data type.\n",
    "4. Ordering of Composite score column differs from the 2017 dataset."
   ]
  },
  {
   "cell_type": "markdown",
   "metadata": {},
   "source": [
    "#### Combine your 2017 and 2018 data into a single dataframe\n",
    "Joining on state names should work, assuming you formatted all your state names identically. Make sure none of your columns (other than state) have identical names. Do yourself a favor and decide if you're encoding participation rates as floats or integers and standardize this across your datasets.\n",
    "\n",
    "Save the contents of this merged dataframe as `final.csv`.\n",
    "\n",
    "**Use this combined dataframe for the remainder of the project**."
   ]
  },
  {
   "cell_type": "code",
   "execution_count": 36,
   "metadata": {
    "scrolled": true
   },
   "outputs": [
    {
     "data": {
      "text/html": [
       "<div>\n",
       "<style scoped>\n",
       "    .dataframe tbody tr th:only-of-type {\n",
       "        vertical-align: middle;\n",
       "    }\n",
       "\n",
       "    .dataframe tbody tr th {\n",
       "        vertical-align: top;\n",
       "    }\n",
       "\n",
       "    .dataframe thead th {\n",
       "        text-align: right;\n",
       "    }\n",
       "</style>\n",
       "<table border=\"1\" class=\"dataframe\">\n",
       "  <thead>\n",
       "    <tr style=\"text-align: right;\">\n",
       "      <th></th>\n",
       "      <th>sat_participation</th>\n",
       "      <th>sat_ebrw</th>\n",
       "      <th>sat_math</th>\n",
       "      <th>sat_total</th>\n",
       "      <th>act_participation</th>\n",
       "      <th>act_composite</th>\n",
       "      <th>act_english</th>\n",
       "      <th>act_math</th>\n",
       "      <th>act_reading</th>\n",
       "      <th>act_science</th>\n",
       "      <th>year</th>\n",
       "    </tr>\n",
       "    <tr>\n",
       "      <th>state</th>\n",
       "      <th></th>\n",
       "      <th></th>\n",
       "      <th></th>\n",
       "      <th></th>\n",
       "      <th></th>\n",
       "      <th></th>\n",
       "      <th></th>\n",
       "      <th></th>\n",
       "      <th></th>\n",
       "      <th></th>\n",
       "      <th></th>\n",
       "    </tr>\n",
       "  </thead>\n",
       "  <tbody>\n",
       "    <tr>\n",
       "      <td>Alabama</td>\n",
       "      <td>6</td>\n",
       "      <td>595</td>\n",
       "      <td>571</td>\n",
       "      <td>1166</td>\n",
       "      <td>100</td>\n",
       "      <td>19.1</td>\n",
       "      <td>18.9</td>\n",
       "      <td>18.3</td>\n",
       "      <td>19.6</td>\n",
       "      <td>19.0</td>\n",
       "      <td>2018</td>\n",
       "    </tr>\n",
       "    <tr>\n",
       "      <td>Alaska</td>\n",
       "      <td>43</td>\n",
       "      <td>562</td>\n",
       "      <td>544</td>\n",
       "      <td>1106</td>\n",
       "      <td>33</td>\n",
       "      <td>20.8</td>\n",
       "      <td>19.8</td>\n",
       "      <td>20.6</td>\n",
       "      <td>21.6</td>\n",
       "      <td>20.7</td>\n",
       "      <td>2018</td>\n",
       "    </tr>\n",
       "    <tr>\n",
       "      <td>Arizona</td>\n",
       "      <td>29</td>\n",
       "      <td>577</td>\n",
       "      <td>572</td>\n",
       "      <td>1149</td>\n",
       "      <td>66</td>\n",
       "      <td>19.2</td>\n",
       "      <td>18.2</td>\n",
       "      <td>19.4</td>\n",
       "      <td>19.5</td>\n",
       "      <td>19.2</td>\n",
       "      <td>2018</td>\n",
       "    </tr>\n",
       "    <tr>\n",
       "      <td>Arkansas</td>\n",
       "      <td>5</td>\n",
       "      <td>592</td>\n",
       "      <td>576</td>\n",
       "      <td>1169</td>\n",
       "      <td>100</td>\n",
       "      <td>19.4</td>\n",
       "      <td>19.1</td>\n",
       "      <td>18.9</td>\n",
       "      <td>19.7</td>\n",
       "      <td>19.4</td>\n",
       "      <td>2018</td>\n",
       "    </tr>\n",
       "    <tr>\n",
       "      <td>California</td>\n",
       "      <td>60</td>\n",
       "      <td>540</td>\n",
       "      <td>536</td>\n",
       "      <td>1076</td>\n",
       "      <td>27</td>\n",
       "      <td>22.7</td>\n",
       "      <td>22.5</td>\n",
       "      <td>22.5</td>\n",
       "      <td>23.0</td>\n",
       "      <td>22.1</td>\n",
       "      <td>2018</td>\n",
       "    </tr>\n",
       "    <tr>\n",
       "      <td>Colorado</td>\n",
       "      <td>100</td>\n",
       "      <td>519</td>\n",
       "      <td>506</td>\n",
       "      <td>1025</td>\n",
       "      <td>30</td>\n",
       "      <td>23.9</td>\n",
       "      <td>23.9</td>\n",
       "      <td>23.2</td>\n",
       "      <td>24.4</td>\n",
       "      <td>23.5</td>\n",
       "      <td>2018</td>\n",
       "    </tr>\n",
       "    <tr>\n",
       "      <td>Connecticut</td>\n",
       "      <td>100</td>\n",
       "      <td>535</td>\n",
       "      <td>519</td>\n",
       "      <td>1053</td>\n",
       "      <td>26</td>\n",
       "      <td>25.6</td>\n",
       "      <td>26.0</td>\n",
       "      <td>24.8</td>\n",
       "      <td>26.1</td>\n",
       "      <td>24.9</td>\n",
       "      <td>2018</td>\n",
       "    </tr>\n",
       "    <tr>\n",
       "      <td>Delaware</td>\n",
       "      <td>100</td>\n",
       "      <td>505</td>\n",
       "      <td>492</td>\n",
       "      <td>998</td>\n",
       "      <td>17</td>\n",
       "      <td>23.2</td>\n",
       "      <td>23.7</td>\n",
       "      <td>23.1</td>\n",
       "      <td>24.5</td>\n",
       "      <td>23.4</td>\n",
       "      <td>2018</td>\n",
       "    </tr>\n",
       "    <tr>\n",
       "      <td>District of Columbia</td>\n",
       "      <td>92</td>\n",
       "      <td>497</td>\n",
       "      <td>480</td>\n",
       "      <td>977</td>\n",
       "      <td>32</td>\n",
       "      <td>23.6</td>\n",
       "      <td>23.7</td>\n",
       "      <td>22.7</td>\n",
       "      <td>24.4</td>\n",
       "      <td>23.0</td>\n",
       "      <td>2018</td>\n",
       "    </tr>\n",
       "    <tr>\n",
       "      <td>Florida</td>\n",
       "      <td>56</td>\n",
       "      <td>550</td>\n",
       "      <td>549</td>\n",
       "      <td>1099</td>\n",
       "      <td>66</td>\n",
       "      <td>19.9</td>\n",
       "      <td>19.2</td>\n",
       "      <td>19.3</td>\n",
       "      <td>21.1</td>\n",
       "      <td>19.5</td>\n",
       "      <td>2018</td>\n",
       "    </tr>\n",
       "  </tbody>\n",
       "</table>\n",
       "</div>"
      ],
      "text/plain": [
       "                      sat_participation  sat_ebrw  sat_math  sat_total  \\\n",
       "state                                                                    \n",
       "Alabama                               6       595       571       1166   \n",
       "Alaska                               43       562       544       1106   \n",
       "Arizona                              29       577       572       1149   \n",
       "Arkansas                              5       592       576       1169   \n",
       "California                           60       540       536       1076   \n",
       "Colorado                            100       519       506       1025   \n",
       "Connecticut                         100       535       519       1053   \n",
       "Delaware                            100       505       492        998   \n",
       "District of Columbia                 92       497       480        977   \n",
       "Florida                              56       550       549       1099   \n",
       "\n",
       "                      act_participation  act_composite  act_english  act_math  \\\n",
       "state                                                                           \n",
       "Alabama                             100           19.1         18.9      18.3   \n",
       "Alaska                               33           20.8         19.8      20.6   \n",
       "Arizona                              66           19.2         18.2      19.4   \n",
       "Arkansas                            100           19.4         19.1      18.9   \n",
       "California                           27           22.7         22.5      22.5   \n",
       "Colorado                             30           23.9         23.9      23.2   \n",
       "Connecticut                          26           25.6         26.0      24.8   \n",
       "Delaware                             17           23.2         23.7      23.1   \n",
       "District of Columbia                 32           23.6         23.7      22.7   \n",
       "Florida                              66           19.9         19.2      19.3   \n",
       "\n",
       "                      act_reading  act_science  year  \n",
       "state                                                 \n",
       "Alabama                      19.6         19.0  2018  \n",
       "Alaska                       21.6         20.7  2018  \n",
       "Arizona                      19.5         19.2  2018  \n",
       "Arkansas                     19.7         19.4  2018  \n",
       "California                   23.0         22.1  2018  \n",
       "Colorado                     24.4         23.5  2018  \n",
       "Connecticut                  26.1         24.9  2018  \n",
       "Delaware                     24.5         23.4  2018  \n",
       "District of Columbia         24.4         23.0  2018  \n",
       "Florida                      21.1         19.5  2018  "
      ]
     },
     "execution_count": 36,
     "metadata": {},
     "output_type": "execute_result"
    }
   ],
   "source": [
    "# Merge the 2018 SAT and ACT dataframes using the 'state' index\n",
    "df_combined_2018 = df_sat_2018.merge(df_act_2018, how='inner', left_index=True, right_index=True)\n",
    "\n",
    "# Create a Year column to indicate the year of the datasets \n",
    "df_combined_2018['year'] = 2018\n",
    "\n",
    "df_combined_2018.head(10)"
   ]
  },
  {
   "cell_type": "code",
   "execution_count": 37,
   "metadata": {
    "scrolled": false
   },
   "outputs": [
    {
     "data": {
      "text/html": [
       "<div>\n",
       "<style scoped>\n",
       "    .dataframe tbody tr th:only-of-type {\n",
       "        vertical-align: middle;\n",
       "    }\n",
       "\n",
       "    .dataframe tbody tr th {\n",
       "        vertical-align: top;\n",
       "    }\n",
       "\n",
       "    .dataframe thead th {\n",
       "        text-align: right;\n",
       "    }\n",
       "</style>\n",
       "<table border=\"1\" class=\"dataframe\">\n",
       "  <thead>\n",
       "    <tr style=\"text-align: right;\">\n",
       "      <th></th>\n",
       "      <th></th>\n",
       "      <th>sat_participation</th>\n",
       "      <th>sat_ebrw</th>\n",
       "      <th>sat_math</th>\n",
       "      <th>sat_total</th>\n",
       "      <th>act_participation</th>\n",
       "      <th>act_composite</th>\n",
       "      <th>act_english</th>\n",
       "      <th>act_math</th>\n",
       "      <th>act_reading</th>\n",
       "      <th>act_science</th>\n",
       "    </tr>\n",
       "    <tr>\n",
       "      <th>state</th>\n",
       "      <th>year</th>\n",
       "      <th></th>\n",
       "      <th></th>\n",
       "      <th></th>\n",
       "      <th></th>\n",
       "      <th></th>\n",
       "      <th></th>\n",
       "      <th></th>\n",
       "      <th></th>\n",
       "      <th></th>\n",
       "      <th></th>\n",
       "    </tr>\n",
       "  </thead>\n",
       "  <tbody>\n",
       "    <tr>\n",
       "      <td>Alabama</td>\n",
       "      <td>2018</td>\n",
       "      <td>6</td>\n",
       "      <td>595</td>\n",
       "      <td>571</td>\n",
       "      <td>1166</td>\n",
       "      <td>100</td>\n",
       "      <td>19.1</td>\n",
       "      <td>18.9</td>\n",
       "      <td>18.3</td>\n",
       "      <td>19.6</td>\n",
       "      <td>19.0</td>\n",
       "    </tr>\n",
       "    <tr>\n",
       "      <td>Alaska</td>\n",
       "      <td>2018</td>\n",
       "      <td>43</td>\n",
       "      <td>562</td>\n",
       "      <td>544</td>\n",
       "      <td>1106</td>\n",
       "      <td>33</td>\n",
       "      <td>20.8</td>\n",
       "      <td>19.8</td>\n",
       "      <td>20.6</td>\n",
       "      <td>21.6</td>\n",
       "      <td>20.7</td>\n",
       "    </tr>\n",
       "    <tr>\n",
       "      <td>Arizona</td>\n",
       "      <td>2018</td>\n",
       "      <td>29</td>\n",
       "      <td>577</td>\n",
       "      <td>572</td>\n",
       "      <td>1149</td>\n",
       "      <td>66</td>\n",
       "      <td>19.2</td>\n",
       "      <td>18.2</td>\n",
       "      <td>19.4</td>\n",
       "      <td>19.5</td>\n",
       "      <td>19.2</td>\n",
       "    </tr>\n",
       "    <tr>\n",
       "      <td>Arkansas</td>\n",
       "      <td>2018</td>\n",
       "      <td>5</td>\n",
       "      <td>592</td>\n",
       "      <td>576</td>\n",
       "      <td>1169</td>\n",
       "      <td>100</td>\n",
       "      <td>19.4</td>\n",
       "      <td>19.1</td>\n",
       "      <td>18.9</td>\n",
       "      <td>19.7</td>\n",
       "      <td>19.4</td>\n",
       "    </tr>\n",
       "    <tr>\n",
       "      <td>California</td>\n",
       "      <td>2018</td>\n",
       "      <td>60</td>\n",
       "      <td>540</td>\n",
       "      <td>536</td>\n",
       "      <td>1076</td>\n",
       "      <td>27</td>\n",
       "      <td>22.7</td>\n",
       "      <td>22.5</td>\n",
       "      <td>22.5</td>\n",
       "      <td>23.0</td>\n",
       "      <td>22.1</td>\n",
       "    </tr>\n",
       "  </tbody>\n",
       "</table>\n",
       "</div>"
      ],
      "text/plain": [
       "                 sat_participation  sat_ebrw  sat_math  sat_total  \\\n",
       "state      year                                                     \n",
       "Alabama    2018                  6       595       571       1166   \n",
       "Alaska     2018                 43       562       544       1106   \n",
       "Arizona    2018                 29       577       572       1149   \n",
       "Arkansas   2018                  5       592       576       1169   \n",
       "California 2018                 60       540       536       1076   \n",
       "\n",
       "                 act_participation  act_composite  act_english  act_math  \\\n",
       "state      year                                                            \n",
       "Alabama    2018                100           19.1         18.9      18.3   \n",
       "Alaska     2018                 33           20.8         19.8      20.6   \n",
       "Arizona    2018                 66           19.2         18.2      19.4   \n",
       "Arkansas   2018                100           19.4         19.1      18.9   \n",
       "California 2018                 27           22.7         22.5      22.5   \n",
       "\n",
       "                 act_reading  act_science  \n",
       "state      year                            \n",
       "Alabama    2018         19.6         19.0  \n",
       "Alaska     2018         21.6         20.7  \n",
       "Arizona    2018         19.5         19.2  \n",
       "Arkansas   2018         19.7         19.4  \n",
       "California 2018         23.0         22.1  "
      ]
     },
     "execution_count": 37,
     "metadata": {},
     "output_type": "execute_result"
    }
   ],
   "source": [
    "df_combined_2018.reset_index(inplace=True)\n",
    "\n",
    "df_combined_2018.set_index(['state', 'year'], inplace=True)\n",
    "df_combined_2018.head()"
   ]
  },
  {
   "cell_type": "code",
   "execution_count": 38,
   "metadata": {},
   "outputs": [
    {
     "data": {
      "text/html": [
       "<div>\n",
       "<style scoped>\n",
       "    .dataframe tbody tr th:only-of-type {\n",
       "        vertical-align: middle;\n",
       "    }\n",
       "\n",
       "    .dataframe tbody tr th {\n",
       "        vertical-align: top;\n",
       "    }\n",
       "\n",
       "    .dataframe thead th {\n",
       "        text-align: right;\n",
       "    }\n",
       "</style>\n",
       "<table border=\"1\" class=\"dataframe\">\n",
       "  <thead>\n",
       "    <tr style=\"text-align: right;\">\n",
       "      <th></th>\n",
       "      <th></th>\n",
       "      <th>sat_participation</th>\n",
       "      <th>sat_ebrw</th>\n",
       "      <th>sat_math</th>\n",
       "      <th>sat_total</th>\n",
       "      <th>act_participation</th>\n",
       "      <th>act_english</th>\n",
       "      <th>act_math</th>\n",
       "      <th>act_reading</th>\n",
       "      <th>act_science</th>\n",
       "      <th>act_composite</th>\n",
       "    </tr>\n",
       "    <tr>\n",
       "      <th>state</th>\n",
       "      <th>year</th>\n",
       "      <th></th>\n",
       "      <th></th>\n",
       "      <th></th>\n",
       "      <th></th>\n",
       "      <th></th>\n",
       "      <th></th>\n",
       "      <th></th>\n",
       "      <th></th>\n",
       "      <th></th>\n",
       "      <th></th>\n",
       "    </tr>\n",
       "  </thead>\n",
       "  <tbody>\n",
       "    <tr>\n",
       "      <td>Alabama</td>\n",
       "      <td>2017</td>\n",
       "      <td>5</td>\n",
       "      <td>593</td>\n",
       "      <td>572</td>\n",
       "      <td>1165</td>\n",
       "      <td>100</td>\n",
       "      <td>18.9</td>\n",
       "      <td>18.4</td>\n",
       "      <td>19.7</td>\n",
       "      <td>19.4</td>\n",
       "      <td>19.2</td>\n",
       "    </tr>\n",
       "    <tr>\n",
       "      <td>Alaska</td>\n",
       "      <td>2017</td>\n",
       "      <td>38</td>\n",
       "      <td>547</td>\n",
       "      <td>533</td>\n",
       "      <td>1080</td>\n",
       "      <td>65</td>\n",
       "      <td>18.7</td>\n",
       "      <td>19.8</td>\n",
       "      <td>20.4</td>\n",
       "      <td>19.9</td>\n",
       "      <td>19.8</td>\n",
       "    </tr>\n",
       "    <tr>\n",
       "      <td>Arizona</td>\n",
       "      <td>2017</td>\n",
       "      <td>30</td>\n",
       "      <td>563</td>\n",
       "      <td>553</td>\n",
       "      <td>1116</td>\n",
       "      <td>62</td>\n",
       "      <td>18.6</td>\n",
       "      <td>19.8</td>\n",
       "      <td>20.1</td>\n",
       "      <td>19.8</td>\n",
       "      <td>19.7</td>\n",
       "    </tr>\n",
       "    <tr>\n",
       "      <td>Arkansas</td>\n",
       "      <td>2017</td>\n",
       "      <td>3</td>\n",
       "      <td>614</td>\n",
       "      <td>594</td>\n",
       "      <td>1208</td>\n",
       "      <td>100</td>\n",
       "      <td>18.9</td>\n",
       "      <td>19.0</td>\n",
       "      <td>19.7</td>\n",
       "      <td>19.5</td>\n",
       "      <td>19.4</td>\n",
       "    </tr>\n",
       "    <tr>\n",
       "      <td>California</td>\n",
       "      <td>2017</td>\n",
       "      <td>53</td>\n",
       "      <td>531</td>\n",
       "      <td>524</td>\n",
       "      <td>1055</td>\n",
       "      <td>31</td>\n",
       "      <td>22.5</td>\n",
       "      <td>22.7</td>\n",
       "      <td>23.1</td>\n",
       "      <td>22.2</td>\n",
       "      <td>22.8</td>\n",
       "    </tr>\n",
       "    <tr>\n",
       "      <td>Colorado</td>\n",
       "      <td>2017</td>\n",
       "      <td>11</td>\n",
       "      <td>606</td>\n",
       "      <td>595</td>\n",
       "      <td>1201</td>\n",
       "      <td>100</td>\n",
       "      <td>20.1</td>\n",
       "      <td>20.3</td>\n",
       "      <td>21.2</td>\n",
       "      <td>20.9</td>\n",
       "      <td>20.8</td>\n",
       "    </tr>\n",
       "    <tr>\n",
       "      <td>Connecticut</td>\n",
       "      <td>2017</td>\n",
       "      <td>100</td>\n",
       "      <td>530</td>\n",
       "      <td>512</td>\n",
       "      <td>1041</td>\n",
       "      <td>31</td>\n",
       "      <td>25.5</td>\n",
       "      <td>24.6</td>\n",
       "      <td>25.6</td>\n",
       "      <td>24.6</td>\n",
       "      <td>25.2</td>\n",
       "    </tr>\n",
       "    <tr>\n",
       "      <td>Delaware</td>\n",
       "      <td>2017</td>\n",
       "      <td>100</td>\n",
       "      <td>503</td>\n",
       "      <td>492</td>\n",
       "      <td>996</td>\n",
       "      <td>18</td>\n",
       "      <td>24.1</td>\n",
       "      <td>23.4</td>\n",
       "      <td>24.8</td>\n",
       "      <td>23.6</td>\n",
       "      <td>24.1</td>\n",
       "    </tr>\n",
       "    <tr>\n",
       "      <td>District of Columbia</td>\n",
       "      <td>2017</td>\n",
       "      <td>100</td>\n",
       "      <td>482</td>\n",
       "      <td>468</td>\n",
       "      <td>950</td>\n",
       "      <td>32</td>\n",
       "      <td>24.4</td>\n",
       "      <td>23.5</td>\n",
       "      <td>24.9</td>\n",
       "      <td>23.5</td>\n",
       "      <td>24.2</td>\n",
       "    </tr>\n",
       "    <tr>\n",
       "      <td>Florida</td>\n",
       "      <td>2017</td>\n",
       "      <td>83</td>\n",
       "      <td>520</td>\n",
       "      <td>497</td>\n",
       "      <td>1017</td>\n",
       "      <td>73</td>\n",
       "      <td>19.0</td>\n",
       "      <td>19.4</td>\n",
       "      <td>21.0</td>\n",
       "      <td>19.4</td>\n",
       "      <td>19.8</td>\n",
       "    </tr>\n",
       "  </tbody>\n",
       "</table>\n",
       "</div>"
      ],
      "text/plain": [
       "                           sat_participation  sat_ebrw  sat_math  sat_total  \\\n",
       "state                year                                                     \n",
       "Alabama              2017                  5       593       572       1165   \n",
       "Alaska               2017                 38       547       533       1080   \n",
       "Arizona              2017                 30       563       553       1116   \n",
       "Arkansas             2017                  3       614       594       1208   \n",
       "California           2017                 53       531       524       1055   \n",
       "Colorado             2017                 11       606       595       1201   \n",
       "Connecticut          2017                100       530       512       1041   \n",
       "Delaware             2017                100       503       492        996   \n",
       "District of Columbia 2017                100       482       468        950   \n",
       "Florida              2017                 83       520       497       1017   \n",
       "\n",
       "                           act_participation  act_english  act_math  \\\n",
       "state                year                                             \n",
       "Alabama              2017                100         18.9      18.4   \n",
       "Alaska               2017                 65         18.7      19.8   \n",
       "Arizona              2017                 62         18.6      19.8   \n",
       "Arkansas             2017                100         18.9      19.0   \n",
       "California           2017                 31         22.5      22.7   \n",
       "Colorado             2017                100         20.1      20.3   \n",
       "Connecticut          2017                 31         25.5      24.6   \n",
       "Delaware             2017                 18         24.1      23.4   \n",
       "District of Columbia 2017                 32         24.4      23.5   \n",
       "Florida              2017                 73         19.0      19.4   \n",
       "\n",
       "                           act_reading  act_science  act_composite  \n",
       "state                year                                           \n",
       "Alabama              2017         19.7         19.4           19.2  \n",
       "Alaska               2017         20.4         19.9           19.8  \n",
       "Arizona              2017         20.1         19.8           19.7  \n",
       "Arkansas             2017         19.7         19.5           19.4  \n",
       "California           2017         23.1         22.2           22.8  \n",
       "Colorado             2017         21.2         20.9           20.8  \n",
       "Connecticut          2017         25.6         24.6           25.2  \n",
       "Delaware             2017         24.8         23.6           24.1  \n",
       "District of Columbia 2017         24.9         23.5           24.2  \n",
       "Florida              2017         21.0         19.4           19.8  "
      ]
     },
     "execution_count": 38,
     "metadata": {},
     "output_type": "execute_result"
    }
   ],
   "source": [
    "# Load 2017 SAT and ACT combined CSV dataset into dataframes\n",
    "\n",
    "df_combined_2017 = pd.read_csv('../data/combined_2017.csv')\n",
    "\n",
    "df_combined_2017.set_index(['state', 'year'], inplace=True)\n",
    "\n",
    "df_combined_2017.head(10)"
   ]
  },
  {
   "cell_type": "code",
   "execution_count": 39,
   "metadata": {
    "scrolled": true
   },
   "outputs": [],
   "source": [
    "df_combined = pd.concat([df_combined_2018, df_combined_2017], sort=True)\n",
    "\n",
    "df_combined.to_csv('../data/combined_2017_2018.csv')"
   ]
  },
  {
   "cell_type": "markdown",
   "metadata": {},
   "source": [
    "## Exploratory Data Analysis\n",
    "\n",
    "\n",
    "### Summary Statistics\n",
    "Transpose the output of pandas `describe` method to create a quick overview of each numeric feature."
   ]
  },
  {
   "cell_type": "code",
   "execution_count": 40,
   "metadata": {
    "scrolled": true
   },
   "outputs": [
    {
     "data": {
      "text/html": [
       "<div>\n",
       "<style scoped>\n",
       "    .dataframe tbody tr th:only-of-type {\n",
       "        vertical-align: middle;\n",
       "    }\n",
       "\n",
       "    .dataframe tbody tr th {\n",
       "        vertical-align: top;\n",
       "    }\n",
       "\n",
       "    .dataframe thead th {\n",
       "        text-align: right;\n",
       "    }\n",
       "</style>\n",
       "<table border=\"1\" class=\"dataframe\">\n",
       "  <thead>\n",
       "    <tr style=\"text-align: right;\">\n",
       "      <th></th>\n",
       "      <th>count</th>\n",
       "      <th>mean</th>\n",
       "      <th>std</th>\n",
       "      <th>min</th>\n",
       "      <th>25%</th>\n",
       "      <th>50%</th>\n",
       "      <th>75%</th>\n",
       "      <th>max</th>\n",
       "    </tr>\n",
       "  </thead>\n",
       "  <tbody>\n",
       "    <tr>\n",
       "      <td>act_composite</td>\n",
       "      <td>102.0</td>\n",
       "      <td>21.502941</td>\n",
       "      <td>2.053756</td>\n",
       "      <td>17.7</td>\n",
       "      <td>19.825</td>\n",
       "      <td>21.35</td>\n",
       "      <td>23.600</td>\n",
       "      <td>25.6</td>\n",
       "    </tr>\n",
       "    <tr>\n",
       "      <td>act_english</td>\n",
       "      <td>102.0</td>\n",
       "      <td>20.959804</td>\n",
       "      <td>2.388722</td>\n",
       "      <td>16.3</td>\n",
       "      <td>19.025</td>\n",
       "      <td>20.50</td>\n",
       "      <td>23.375</td>\n",
       "      <td>26.0</td>\n",
       "    </tr>\n",
       "    <tr>\n",
       "      <td>act_math</td>\n",
       "      <td>102.0</td>\n",
       "      <td>21.153922</td>\n",
       "      <td>1.999291</td>\n",
       "      <td>17.8</td>\n",
       "      <td>19.400</td>\n",
       "      <td>20.90</td>\n",
       "      <td>23.100</td>\n",
       "      <td>25.3</td>\n",
       "    </tr>\n",
       "    <tr>\n",
       "      <td>act_participation</td>\n",
       "      <td>102.0</td>\n",
       "      <td>63.450980</td>\n",
       "      <td>33.010538</td>\n",
       "      <td>7.0</td>\n",
       "      <td>31.000</td>\n",
       "      <td>66.50</td>\n",
       "      <td>100.000</td>\n",
       "      <td>100.0</td>\n",
       "    </tr>\n",
       "    <tr>\n",
       "      <td>act_reading</td>\n",
       "      <td>102.0</td>\n",
       "      <td>22.014706</td>\n",
       "      <td>2.107337</td>\n",
       "      <td>18.0</td>\n",
       "      <td>20.425</td>\n",
       "      <td>21.65</td>\n",
       "      <td>24.175</td>\n",
       "      <td>26.1</td>\n",
       "    </tr>\n",
       "    <tr>\n",
       "      <td>act_science</td>\n",
       "      <td>102.0</td>\n",
       "      <td>21.398039</td>\n",
       "      <td>1.797742</td>\n",
       "      <td>17.9</td>\n",
       "      <td>19.925</td>\n",
       "      <td>21.30</td>\n",
       "      <td>23.175</td>\n",
       "      <td>24.9</td>\n",
       "    </tr>\n",
       "    <tr>\n",
       "      <td>sat_ebrw</td>\n",
       "      <td>102.0</td>\n",
       "      <td>566.401961</td>\n",
       "      <td>46.442823</td>\n",
       "      <td>480.0</td>\n",
       "      <td>534.250</td>\n",
       "      <td>554.50</td>\n",
       "      <td>613.500</td>\n",
       "      <td>644.0</td>\n",
       "    </tr>\n",
       "    <tr>\n",
       "      <td>sat_math</td>\n",
       "      <td>102.0</td>\n",
       "      <td>556.558824</td>\n",
       "      <td>47.213770</td>\n",
       "      <td>468.0</td>\n",
       "      <td>523.000</td>\n",
       "      <td>545.50</td>\n",
       "      <td>595.000</td>\n",
       "      <td>655.0</td>\n",
       "    </tr>\n",
       "    <tr>\n",
       "      <td>sat_participation</td>\n",
       "      <td>102.0</td>\n",
       "      <td>42.774510</td>\n",
       "      <td>36.252663</td>\n",
       "      <td>2.0</td>\n",
       "      <td>4.000</td>\n",
       "      <td>45.50</td>\n",
       "      <td>70.000</td>\n",
       "      <td>100.0</td>\n",
       "    </tr>\n",
       "    <tr>\n",
       "      <td>sat_total</td>\n",
       "      <td>102.0</td>\n",
       "      <td>1123.058824</td>\n",
       "      <td>92.915678</td>\n",
       "      <td>950.0</td>\n",
       "      <td>1055.250</td>\n",
       "      <td>1099.00</td>\n",
       "      <td>1209.500</td>\n",
       "      <td>1298.0</td>\n",
       "    </tr>\n",
       "  </tbody>\n",
       "</table>\n",
       "</div>"
      ],
      "text/plain": [
       "                   count         mean        std    min       25%      50%  \\\n",
       "act_composite      102.0    21.502941   2.053756   17.7    19.825    21.35   \n",
       "act_english        102.0    20.959804   2.388722   16.3    19.025    20.50   \n",
       "act_math           102.0    21.153922   1.999291   17.8    19.400    20.90   \n",
       "act_participation  102.0    63.450980  33.010538    7.0    31.000    66.50   \n",
       "act_reading        102.0    22.014706   2.107337   18.0    20.425    21.65   \n",
       "act_science        102.0    21.398039   1.797742   17.9    19.925    21.30   \n",
       "sat_ebrw           102.0   566.401961  46.442823  480.0   534.250   554.50   \n",
       "sat_math           102.0   556.558824  47.213770  468.0   523.000   545.50   \n",
       "sat_participation  102.0    42.774510  36.252663    2.0     4.000    45.50   \n",
       "sat_total          102.0  1123.058824  92.915678  950.0  1055.250  1099.00   \n",
       "\n",
       "                        75%     max  \n",
       "act_composite        23.600    25.6  \n",
       "act_english          23.375    26.0  \n",
       "act_math             23.100    25.3  \n",
       "act_participation   100.000   100.0  \n",
       "act_reading          24.175    26.1  \n",
       "act_science          23.175    24.9  \n",
       "sat_ebrw            613.500   644.0  \n",
       "sat_math            595.000   655.0  \n",
       "sat_participation    70.000   100.0  \n",
       "sat_total          1209.500  1298.0  "
      ]
     },
     "execution_count": 40,
     "metadata": {},
     "output_type": "execute_result"
    }
   ],
   "source": [
    "df_combined_describe_T = df_combined.describe().T\n",
    "\n",
    "df_combined_describe_T"
   ]
  },
  {
   "cell_type": "markdown",
   "metadata": {},
   "source": [
    "#### Manually calculate standard deviation\n",
    "\n",
    "$$\\sigma = \\sqrt{\\frac{1}{n}\\sum_{i=1}^n(x_i - \\mu)^2}$$\n",
    "\n",
    "- Write a function to calculate standard deviation using the formula above"
   ]
  },
  {
   "cell_type": "code",
   "execution_count": 41,
   "metadata": {},
   "outputs": [],
   "source": [
    "def get_standard_deviation(values):\n",
    "    \n",
    "    sum_sq_diff_mean = 0\n",
    "    \n",
    "    mean = np.mean(values)\n",
    "    \n",
    "    for value in values:\n",
    "        sum_sq_diff_mean += (value - mean)**2\n",
    "        \n",
    "    return np.sqrt(sum_sq_diff_mean /  len(values))"
   ]
  },
  {
   "cell_type": "markdown",
   "metadata": {},
   "source": [
    "- Use a **dictionary comprehension** to apply your standard deviation function to each numeric column in the dataframe.  **No loops**  \n",
    "- Assign the output to variable `sd` as a dictionary where: \n",
    "    - Each column name is now a key \n",
    "    - That standard deviation of the column is the value \n",
    "     \n",
    "*Example Output :* `{'ACT_Math': 120, 'ACT_Reading': 120, ...}`"
   ]
  },
  {
   "cell_type": "code",
   "execution_count": 42,
   "metadata": {
    "scrolled": true
   },
   "outputs": [
    {
     "data": {
      "text/html": [
       "<div>\n",
       "<style scoped>\n",
       "    .dataframe tbody tr th:only-of-type {\n",
       "        vertical-align: middle;\n",
       "    }\n",
       "\n",
       "    .dataframe tbody tr th {\n",
       "        vertical-align: top;\n",
       "    }\n",
       "\n",
       "    .dataframe thead th {\n",
       "        text-align: right;\n",
       "    }\n",
       "</style>\n",
       "<table border=\"1\" class=\"dataframe\">\n",
       "  <thead>\n",
       "    <tr style=\"text-align: right;\">\n",
       "      <th></th>\n",
       "      <th>My SD</th>\n",
       "      <th>NP SD</th>\n",
       "      <th>PD SD</th>\n",
       "    </tr>\n",
       "  </thead>\n",
       "  <tbody>\n",
       "    <tr>\n",
       "      <td>act_composite</td>\n",
       "      <td>2.043663</td>\n",
       "      <td>2.043663</td>\n",
       "      <td>2.053756</td>\n",
       "    </tr>\n",
       "    <tr>\n",
       "      <td>act_english</td>\n",
       "      <td>2.376984</td>\n",
       "      <td>2.376984</td>\n",
       "      <td>2.388722</td>\n",
       "    </tr>\n",
       "    <tr>\n",
       "      <td>act_math</td>\n",
       "      <td>1.989466</td>\n",
       "      <td>1.989466</td>\n",
       "      <td>1.999291</td>\n",
       "    </tr>\n",
       "    <tr>\n",
       "      <td>act_participation</td>\n",
       "      <td>32.848323</td>\n",
       "      <td>32.848323</td>\n",
       "      <td>33.010538</td>\n",
       "    </tr>\n",
       "    <tr>\n",
       "      <td>act_reading</td>\n",
       "      <td>2.096982</td>\n",
       "      <td>2.096982</td>\n",
       "      <td>2.107337</td>\n",
       "    </tr>\n",
       "    <tr>\n",
       "      <td>act_science</td>\n",
       "      <td>1.788908</td>\n",
       "      <td>1.788908</td>\n",
       "      <td>1.797742</td>\n",
       "    </tr>\n",
       "    <tr>\n",
       "      <td>sat_ebrw</td>\n",
       "      <td>46.214602</td>\n",
       "      <td>46.214602</td>\n",
       "      <td>46.442823</td>\n",
       "    </tr>\n",
       "    <tr>\n",
       "      <td>sat_math</td>\n",
       "      <td>46.981760</td>\n",
       "      <td>46.981760</td>\n",
       "      <td>47.213770</td>\n",
       "    </tr>\n",
       "    <tr>\n",
       "      <td>sat_participation</td>\n",
       "      <td>36.074516</td>\n",
       "      <td>36.074516</td>\n",
       "      <td>36.252663</td>\n",
       "    </tr>\n",
       "    <tr>\n",
       "      <td>sat_total</td>\n",
       "      <td>92.459087</td>\n",
       "      <td>92.459087</td>\n",
       "      <td>92.915678</td>\n",
       "    </tr>\n",
       "  </tbody>\n",
       "</table>\n",
       "</div>"
      ],
      "text/plain": [
       "                       My SD      NP SD      PD SD\n",
       "act_composite       2.043663   2.043663   2.053756\n",
       "act_english         2.376984   2.376984   2.388722\n",
       "act_math            1.989466   1.989466   1.999291\n",
       "act_participation  32.848323  32.848323  33.010538\n",
       "act_reading         2.096982   2.096982   2.107337\n",
       "act_science         1.788908   1.788908   1.797742\n",
       "sat_ebrw           46.214602  46.214602  46.442823\n",
       "sat_math           46.981760  46.981760  47.213770\n",
       "sat_participation  36.074516  36.074516  36.252663\n",
       "sat_total          92.459087  92.459087  92.915678"
      ]
     },
     "execution_count": 42,
     "metadata": {},
     "output_type": "execute_result"
    }
   ],
   "source": [
    "# Create dictionary comprehensions for the standard deviations on numeric columns\n",
    "my_std_devs = {col_name : get_standard_deviation(df_combined[col_name]) for col_name in df_combined.columns}\n",
    "np_std_devs = {col_name : np.std(df_combined[col_name]) for col_name in df_combined.columns}\n",
    "\n",
    "\n",
    "df_my_std_devs = pd.DataFrame.from_dict(my_std_devs, orient='index')\n",
    "df_np_std_devs= pd.DataFrame.from_dict(np_std_devs, orient='index')\n",
    "\n",
    "df_dp_std = df_combined_describe_T[['std']]\n",
    "\n",
    "df_std_devs = df_my_std_devs.merge(df_np_std_devs, left_index=True, right_index=True)\n",
    "df_std_devs = df_std_devs.merge(df_dp_std, left_index=True, right_index=True)\n",
    "\n",
    "df_std_devs.columns = ['My SD', 'NP SD', 'PD SD']\n",
    "\n",
    "df_std_devs"
   ]
  },
  {
   "cell_type": "markdown",
   "metadata": {},
   "source": [
    "Do your manually calculated standard deviations match up with the output from pandas `describe`? What about numpy's `std` method?"
   ]
  },
  {
   "cell_type": "markdown",
   "metadata": {},
   "source": [
    "The manually calculated standard deviations matches the numpy's std method but NOT the pandas describe. This is because pandas uses the unbiased estimator (n-1 in the denominator)."
   ]
  },
  {
   "cell_type": "markdown",
   "metadata": {},
   "source": [
    "#### Investigate trends in the data\n",
    "Using sorting and/or masking (along with the `.head` method to not print our entire dataframe), consider the following questions:\n",
    "\n",
    "- Which states have the highest and lowest participation rates for the:\n",
    "    - 2017 SAT?\n",
    "    - 2018 SAT?\n",
    "    - 2017 ACT?\n",
    "    - 2018 ACT?\n",
    "- Which states have the highest and lowest mean total/composite scores for the:\n",
    "    - 2017 SAT?\n",
    "    - 2018 SAT?\n",
    "    - 2017 ACT?\n",
    "    - 2018 ACT?\n",
    "- Do any states with 100% participation on a given test have a rate change year-to-year?\n",
    "- Do any states show have >50% participation on *both* tests either year?\n",
    "\n",
    "Based on what you've just observed, have you identified any states that you're especially interested in? **Make a note of these and state *why* you think they're interesting**.\n",
    "\n",
    "**You should comment on your findings at each step in a markdown cell below your code block**. Make sure you include at least one example of sorting your dataframe by a column, and one example of using boolean filtering (i.e., masking) to select a subset of the dataframe."
   ]
  },
  {
   "cell_type": "code",
   "execution_count": 43,
   "metadata": {},
   "outputs": [
    {
     "data": {
      "text/html": [
       "<div>\n",
       "<style scoped>\n",
       "    .dataframe tbody tr th:only-of-type {\n",
       "        vertical-align: middle;\n",
       "    }\n",
       "\n",
       "    .dataframe tbody tr th {\n",
       "        vertical-align: top;\n",
       "    }\n",
       "\n",
       "    .dataframe thead th {\n",
       "        text-align: right;\n",
       "    }\n",
       "</style>\n",
       "<table border=\"1\" class=\"dataframe\">\n",
       "  <thead>\n",
       "    <tr style=\"text-align: right;\">\n",
       "      <th></th>\n",
       "      <th></th>\n",
       "      <th>sat_participation</th>\n",
       "    </tr>\n",
       "    <tr>\n",
       "      <th>state</th>\n",
       "      <th>year</th>\n",
       "      <th></th>\n",
       "    </tr>\n",
       "  </thead>\n",
       "  <tbody>\n",
       "    <tr>\n",
       "      <td>North Dakota</td>\n",
       "      <td>2017</td>\n",
       "      <td>2</td>\n",
       "    </tr>\n",
       "    <tr>\n",
       "      <td>Mississippi</td>\n",
       "      <td>2017</td>\n",
       "      <td>2</td>\n",
       "    </tr>\n",
       "    <tr>\n",
       "      <td>Iowa</td>\n",
       "      <td>2017</td>\n",
       "      <td>2</td>\n",
       "    </tr>\n",
       "    <tr>\n",
       "      <td>Missouri</td>\n",
       "      <td>2017</td>\n",
       "      <td>3</td>\n",
       "    </tr>\n",
       "    <tr>\n",
       "      <td>Utah</td>\n",
       "      <td>2017</td>\n",
       "      <td>3</td>\n",
       "    </tr>\n",
       "  </tbody>\n",
       "</table>\n",
       "</div>"
      ],
      "text/plain": [
       "                   sat_participation\n",
       "state        year                   \n",
       "North Dakota 2017                  2\n",
       "Mississippi  2017                  2\n",
       "Iowa         2017                  2\n",
       "Missouri     2017                  3\n",
       "Utah         2017                  3"
      ]
     },
     "execution_count": 43,
     "metadata": {},
     "output_type": "execute_result"
    }
   ],
   "source": [
    "idx = pd.IndexSlice\n",
    "\n",
    "df_combined.loc[idx[:, 2017], ['sat_participation']].sort_values(by='sat_participation').head()"
   ]
  },
  {
   "cell_type": "markdown",
   "metadata": {},
   "source": [
    "State(s) with lowest SAT participation rates in 2017: North Dakota, Mississippi, Iowa"
   ]
  },
  {
   "cell_type": "code",
   "execution_count": 44,
   "metadata": {},
   "outputs": [
    {
     "data": {
      "text/html": [
       "<div>\n",
       "<style scoped>\n",
       "    .dataframe tbody tr th:only-of-type {\n",
       "        vertical-align: middle;\n",
       "    }\n",
       "\n",
       "    .dataframe tbody tr th {\n",
       "        vertical-align: top;\n",
       "    }\n",
       "\n",
       "    .dataframe thead th {\n",
       "        text-align: right;\n",
       "    }\n",
       "</style>\n",
       "<table border=\"1\" class=\"dataframe\">\n",
       "  <thead>\n",
       "    <tr style=\"text-align: right;\">\n",
       "      <th></th>\n",
       "      <th></th>\n",
       "      <th>sat_participation</th>\n",
       "    </tr>\n",
       "    <tr>\n",
       "      <th>state</th>\n",
       "      <th>year</th>\n",
       "      <th></th>\n",
       "    </tr>\n",
       "  </thead>\n",
       "  <tbody>\n",
       "    <tr>\n",
       "      <td>North Dakota</td>\n",
       "      <td>2018</td>\n",
       "      <td>2</td>\n",
       "    </tr>\n",
       "    <tr>\n",
       "      <td>Wyoming</td>\n",
       "      <td>2018</td>\n",
       "      <td>3</td>\n",
       "    </tr>\n",
       "    <tr>\n",
       "      <td>South Dakota</td>\n",
       "      <td>2018</td>\n",
       "      <td>3</td>\n",
       "    </tr>\n",
       "    <tr>\n",
       "      <td>Nebraska</td>\n",
       "      <td>2018</td>\n",
       "      <td>3</td>\n",
       "    </tr>\n",
       "    <tr>\n",
       "      <td>Wisconsin</td>\n",
       "      <td>2018</td>\n",
       "      <td>3</td>\n",
       "    </tr>\n",
       "  </tbody>\n",
       "</table>\n",
       "</div>"
      ],
      "text/plain": [
       "                   sat_participation\n",
       "state        year                   \n",
       "North Dakota 2018                  2\n",
       "Wyoming      2018                  3\n",
       "South Dakota 2018                  3\n",
       "Nebraska     2018                  3\n",
       "Wisconsin    2018                  3"
      ]
     },
     "execution_count": 44,
     "metadata": {},
     "output_type": "execute_result"
    }
   ],
   "source": [
    "df_combined.loc[idx[:, 2018], ['sat_participation']].sort_values(by='sat_participation').head()"
   ]
  },
  {
   "cell_type": "markdown",
   "metadata": {},
   "source": [
    "State(s) with lowest SAT participation rates in 2018: North Dakota"
   ]
  },
  {
   "cell_type": "code",
   "execution_count": 45,
   "metadata": {
    "scrolled": true
   },
   "outputs": [
    {
     "data": {
      "text/html": [
       "<div>\n",
       "<style scoped>\n",
       "    .dataframe tbody tr th:only-of-type {\n",
       "        vertical-align: middle;\n",
       "    }\n",
       "\n",
       "    .dataframe tbody tr th {\n",
       "        vertical-align: top;\n",
       "    }\n",
       "\n",
       "    .dataframe thead th {\n",
       "        text-align: right;\n",
       "    }\n",
       "</style>\n",
       "<table border=\"1\" class=\"dataframe\">\n",
       "  <thead>\n",
       "    <tr style=\"text-align: right;\">\n",
       "      <th></th>\n",
       "      <th></th>\n",
       "      <th>sat_participation</th>\n",
       "    </tr>\n",
       "    <tr>\n",
       "      <th>state</th>\n",
       "      <th>year</th>\n",
       "      <th></th>\n",
       "    </tr>\n",
       "  </thead>\n",
       "  <tbody>\n",
       "    <tr>\n",
       "      <td>District of Columbia</td>\n",
       "      <td>2017</td>\n",
       "      <td>100</td>\n",
       "    </tr>\n",
       "    <tr>\n",
       "      <td>Michigan</td>\n",
       "      <td>2017</td>\n",
       "      <td>100</td>\n",
       "    </tr>\n",
       "    <tr>\n",
       "      <td>Connecticut</td>\n",
       "      <td>2017</td>\n",
       "      <td>100</td>\n",
       "    </tr>\n",
       "    <tr>\n",
       "      <td>Delaware</td>\n",
       "      <td>2017</td>\n",
       "      <td>100</td>\n",
       "    </tr>\n",
       "    <tr>\n",
       "      <td>New Hampshire</td>\n",
       "      <td>2017</td>\n",
       "      <td>96</td>\n",
       "    </tr>\n",
       "  </tbody>\n",
       "</table>\n",
       "</div>"
      ],
      "text/plain": [
       "                           sat_participation\n",
       "state                year                   \n",
       "District of Columbia 2017                100\n",
       "Michigan             2017                100\n",
       "Connecticut          2017                100\n",
       "Delaware             2017                100\n",
       "New Hampshire        2017                 96"
      ]
     },
     "execution_count": 45,
     "metadata": {},
     "output_type": "execute_result"
    }
   ],
   "source": [
    "df_combined.loc[idx[:, 2017], ['sat_participation']].sort_values(by='sat_participation', ascending=False).head()"
   ]
  },
  {
   "cell_type": "markdown",
   "metadata": {},
   "source": [
    "State(s) with highest SAT participation rates in 2017: District of Columbia, Michigan, Connecticut, Delaware"
   ]
  },
  {
   "cell_type": "code",
   "execution_count": 46,
   "metadata": {},
   "outputs": [
    {
     "data": {
      "text/html": [
       "<div>\n",
       "<style scoped>\n",
       "    .dataframe tbody tr th:only-of-type {\n",
       "        vertical-align: middle;\n",
       "    }\n",
       "\n",
       "    .dataframe tbody tr th {\n",
       "        vertical-align: top;\n",
       "    }\n",
       "\n",
       "    .dataframe thead th {\n",
       "        text-align: right;\n",
       "    }\n",
       "</style>\n",
       "<table border=\"1\" class=\"dataframe\">\n",
       "  <thead>\n",
       "    <tr style=\"text-align: right;\">\n",
       "      <th></th>\n",
       "      <th></th>\n",
       "      <th>sat_participation</th>\n",
       "    </tr>\n",
       "    <tr>\n",
       "      <th>state</th>\n",
       "      <th>year</th>\n",
       "      <th></th>\n",
       "    </tr>\n",
       "  </thead>\n",
       "  <tbody>\n",
       "    <tr>\n",
       "      <td>Colorado</td>\n",
       "      <td>2018</td>\n",
       "      <td>100</td>\n",
       "    </tr>\n",
       "    <tr>\n",
       "      <td>Connecticut</td>\n",
       "      <td>2018</td>\n",
       "      <td>100</td>\n",
       "    </tr>\n",
       "    <tr>\n",
       "      <td>Delaware</td>\n",
       "      <td>2018</td>\n",
       "      <td>100</td>\n",
       "    </tr>\n",
       "    <tr>\n",
       "      <td>Michigan</td>\n",
       "      <td>2018</td>\n",
       "      <td>100</td>\n",
       "    </tr>\n",
       "    <tr>\n",
       "      <td>Idaho</td>\n",
       "      <td>2018</td>\n",
       "      <td>100</td>\n",
       "    </tr>\n",
       "    <tr>\n",
       "      <td>Maine</td>\n",
       "      <td>2018</td>\n",
       "      <td>99</td>\n",
       "    </tr>\n",
       "  </tbody>\n",
       "</table>\n",
       "</div>"
      ],
      "text/plain": [
       "                  sat_participation\n",
       "state       year                   \n",
       "Colorado    2018                100\n",
       "Connecticut 2018                100\n",
       "Delaware    2018                100\n",
       "Michigan    2018                100\n",
       "Idaho       2018                100\n",
       "Maine       2018                 99"
      ]
     },
     "execution_count": 46,
     "metadata": {},
     "output_type": "execute_result"
    }
   ],
   "source": [
    "df_combined.loc[idx[:, 2018], ['sat_participation']].sort_values(by='sat_participation', ascending=False).head(6)"
   ]
  },
  {
   "cell_type": "markdown",
   "metadata": {},
   "source": [
    "State(s) with highest SAT participation rates in 2018: Colorado, Connecticut, Delaware, Michigan, Idaho"
   ]
  },
  {
   "cell_type": "code",
   "execution_count": 47,
   "metadata": {},
   "outputs": [
    {
     "data": {
      "text/html": [
       "<div>\n",
       "<style scoped>\n",
       "    .dataframe tbody tr th:only-of-type {\n",
       "        vertical-align: middle;\n",
       "    }\n",
       "\n",
       "    .dataframe tbody tr th {\n",
       "        vertical-align: top;\n",
       "    }\n",
       "\n",
       "    .dataframe thead th {\n",
       "        text-align: right;\n",
       "    }\n",
       "</style>\n",
       "<table border=\"1\" class=\"dataframe\">\n",
       "  <thead>\n",
       "    <tr style=\"text-align: right;\">\n",
       "      <th></th>\n",
       "      <th></th>\n",
       "      <th>act_participation</th>\n",
       "    </tr>\n",
       "    <tr>\n",
       "      <th>state</th>\n",
       "      <th>year</th>\n",
       "      <th></th>\n",
       "    </tr>\n",
       "  </thead>\n",
       "  <tbody>\n",
       "    <tr>\n",
       "      <td>Maine</td>\n",
       "      <td>2017</td>\n",
       "      <td>8</td>\n",
       "    </tr>\n",
       "    <tr>\n",
       "      <td>New Hampshire</td>\n",
       "      <td>2017</td>\n",
       "      <td>18</td>\n",
       "    </tr>\n",
       "    <tr>\n",
       "      <td>Delaware</td>\n",
       "      <td>2017</td>\n",
       "      <td>18</td>\n",
       "    </tr>\n",
       "    <tr>\n",
       "      <td>Rhode Island</td>\n",
       "      <td>2017</td>\n",
       "      <td>21</td>\n",
       "    </tr>\n",
       "    <tr>\n",
       "      <td>Pennsylvania</td>\n",
       "      <td>2017</td>\n",
       "      <td>23</td>\n",
       "    </tr>\n",
       "  </tbody>\n",
       "</table>\n",
       "</div>"
      ],
      "text/plain": [
       "                    act_participation\n",
       "state         year                   \n",
       "Maine         2017                  8\n",
       "New Hampshire 2017                 18\n",
       "Delaware      2017                 18\n",
       "Rhode Island  2017                 21\n",
       "Pennsylvania  2017                 23"
      ]
     },
     "execution_count": 47,
     "metadata": {},
     "output_type": "execute_result"
    }
   ],
   "source": [
    "df_combined.loc[idx[:, 2017], ['act_participation']].sort_values(by='act_participation').head()"
   ]
  },
  {
   "cell_type": "markdown",
   "metadata": {},
   "source": [
    "State(s) with lowest ACT participation rates in 2017: Maine"
   ]
  },
  {
   "cell_type": "code",
   "execution_count": 48,
   "metadata": {},
   "outputs": [
    {
     "data": {
      "text/html": [
       "<div>\n",
       "<style scoped>\n",
       "    .dataframe tbody tr th:only-of-type {\n",
       "        vertical-align: middle;\n",
       "    }\n",
       "\n",
       "    .dataframe tbody tr th {\n",
       "        vertical-align: top;\n",
       "    }\n",
       "\n",
       "    .dataframe thead th {\n",
       "        text-align: right;\n",
       "    }\n",
       "</style>\n",
       "<table border=\"1\" class=\"dataframe\">\n",
       "  <thead>\n",
       "    <tr style=\"text-align: right;\">\n",
       "      <th></th>\n",
       "      <th></th>\n",
       "      <th>act_participation</th>\n",
       "    </tr>\n",
       "    <tr>\n",
       "      <th>state</th>\n",
       "      <th>year</th>\n",
       "      <th></th>\n",
       "    </tr>\n",
       "  </thead>\n",
       "  <tbody>\n",
       "    <tr>\n",
       "      <td>Maine</td>\n",
       "      <td>2018</td>\n",
       "      <td>7</td>\n",
       "    </tr>\n",
       "    <tr>\n",
       "      <td>Rhode Island</td>\n",
       "      <td>2018</td>\n",
       "      <td>15</td>\n",
       "    </tr>\n",
       "    <tr>\n",
       "      <td>New Hampshire</td>\n",
       "      <td>2018</td>\n",
       "      <td>16</td>\n",
       "    </tr>\n",
       "    <tr>\n",
       "      <td>Delaware</td>\n",
       "      <td>2018</td>\n",
       "      <td>17</td>\n",
       "    </tr>\n",
       "    <tr>\n",
       "      <td>Pennsylvania</td>\n",
       "      <td>2018</td>\n",
       "      <td>20</td>\n",
       "    </tr>\n",
       "  </tbody>\n",
       "</table>\n",
       "</div>"
      ],
      "text/plain": [
       "                    act_participation\n",
       "state         year                   \n",
       "Maine         2018                  7\n",
       "Rhode Island  2018                 15\n",
       "New Hampshire 2018                 16\n",
       "Delaware      2018                 17\n",
       "Pennsylvania  2018                 20"
      ]
     },
     "execution_count": 48,
     "metadata": {},
     "output_type": "execute_result"
    }
   ],
   "source": [
    "df_combined.loc[idx[:, 2018], ['act_participation']].sort_values(by='act_participation').head()"
   ]
  },
  {
   "cell_type": "markdown",
   "metadata": {},
   "source": [
    "State(s) with lowest ACT participation rates in 2018: Maine"
   ]
  },
  {
   "cell_type": "code",
   "execution_count": 49,
   "metadata": {},
   "outputs": [
    {
     "data": {
      "text/html": [
       "<div>\n",
       "<style scoped>\n",
       "    .dataframe tbody tr th:only-of-type {\n",
       "        vertical-align: middle;\n",
       "    }\n",
       "\n",
       "    .dataframe tbody tr th {\n",
       "        vertical-align: top;\n",
       "    }\n",
       "\n",
       "    .dataframe thead th {\n",
       "        text-align: right;\n",
       "    }\n",
       "</style>\n",
       "<table border=\"1\" class=\"dataframe\">\n",
       "  <thead>\n",
       "    <tr style=\"text-align: right;\">\n",
       "      <th></th>\n",
       "      <th></th>\n",
       "      <th>act_participation</th>\n",
       "    </tr>\n",
       "    <tr>\n",
       "      <th>state</th>\n",
       "      <th>year</th>\n",
       "      <th></th>\n",
       "    </tr>\n",
       "  </thead>\n",
       "  <tbody>\n",
       "    <tr>\n",
       "      <td>Alabama</td>\n",
       "      <td>2017</td>\n",
       "      <td>100</td>\n",
       "    </tr>\n",
       "    <tr>\n",
       "      <td>Kentucky</td>\n",
       "      <td>2017</td>\n",
       "      <td>100</td>\n",
       "    </tr>\n",
       "    <tr>\n",
       "      <td>Wisconsin</td>\n",
       "      <td>2017</td>\n",
       "      <td>100</td>\n",
       "    </tr>\n",
       "    <tr>\n",
       "      <td>Utah</td>\n",
       "      <td>2017</td>\n",
       "      <td>100</td>\n",
       "    </tr>\n",
       "    <tr>\n",
       "      <td>Tennessee</td>\n",
       "      <td>2017</td>\n",
       "      <td>100</td>\n",
       "    </tr>\n",
       "    <tr>\n",
       "      <td>South Carolina</td>\n",
       "      <td>2017</td>\n",
       "      <td>100</td>\n",
       "    </tr>\n",
       "    <tr>\n",
       "      <td>Oklahoma</td>\n",
       "      <td>2017</td>\n",
       "      <td>100</td>\n",
       "    </tr>\n",
       "    <tr>\n",
       "      <td>North Carolina</td>\n",
       "      <td>2017</td>\n",
       "      <td>100</td>\n",
       "    </tr>\n",
       "    <tr>\n",
       "      <td>Nevada</td>\n",
       "      <td>2017</td>\n",
       "      <td>100</td>\n",
       "    </tr>\n",
       "    <tr>\n",
       "      <td>Montana</td>\n",
       "      <td>2017</td>\n",
       "      <td>100</td>\n",
       "    </tr>\n",
       "    <tr>\n",
       "      <td>Mississippi</td>\n",
       "      <td>2017</td>\n",
       "      <td>100</td>\n",
       "    </tr>\n",
       "    <tr>\n",
       "      <td>Minnesota</td>\n",
       "      <td>2017</td>\n",
       "      <td>100</td>\n",
       "    </tr>\n",
       "    <tr>\n",
       "      <td>Louisiana</td>\n",
       "      <td>2017</td>\n",
       "      <td>100</td>\n",
       "    </tr>\n",
       "    <tr>\n",
       "      <td>Missouri</td>\n",
       "      <td>2017</td>\n",
       "      <td>100</td>\n",
       "    </tr>\n",
       "    <tr>\n",
       "      <td>Wyoming</td>\n",
       "      <td>2017</td>\n",
       "      <td>100</td>\n",
       "    </tr>\n",
       "    <tr>\n",
       "      <td>Colorado</td>\n",
       "      <td>2017</td>\n",
       "      <td>100</td>\n",
       "    </tr>\n",
       "    <tr>\n",
       "      <td>Arkansas</td>\n",
       "      <td>2017</td>\n",
       "      <td>100</td>\n",
       "    </tr>\n",
       "    <tr>\n",
       "      <td>North Dakota</td>\n",
       "      <td>2017</td>\n",
       "      <td>98</td>\n",
       "    </tr>\n",
       "  </tbody>\n",
       "</table>\n",
       "</div>"
      ],
      "text/plain": [
       "                     act_participation\n",
       "state          year                   \n",
       "Alabama        2017                100\n",
       "Kentucky       2017                100\n",
       "Wisconsin      2017                100\n",
       "Utah           2017                100\n",
       "Tennessee      2017                100\n",
       "South Carolina 2017                100\n",
       "Oklahoma       2017                100\n",
       "North Carolina 2017                100\n",
       "Nevada         2017                100\n",
       "Montana        2017                100\n",
       "Mississippi    2017                100\n",
       "Minnesota      2017                100\n",
       "Louisiana      2017                100\n",
       "Missouri       2017                100\n",
       "Wyoming        2017                100\n",
       "Colorado       2017                100\n",
       "Arkansas       2017                100\n",
       "North Dakota   2017                 98"
      ]
     },
     "execution_count": 49,
     "metadata": {},
     "output_type": "execute_result"
    }
   ],
   "source": [
    "df_combined.loc[idx[:, 2017], ['act_participation']].sort_values(by='act_participation', ascending=False).head(18)"
   ]
  },
  {
   "cell_type": "markdown",
   "metadata": {},
   "source": [
    "State(s) with highest ACT participation rates in 2017: Alabama, Kentucky, Wisconsin, Utah, Tennessee, South Carolina, Oklahoma, North Carolina, Nevada, Montana, Mississippi, Minnesota, Louisiana, Missouri, Wyoming, Colorado, Arkansas"
   ]
  },
  {
   "cell_type": "code",
   "execution_count": 50,
   "metadata": {},
   "outputs": [
    {
     "data": {
      "text/html": [
       "<div>\n",
       "<style scoped>\n",
       "    .dataframe tbody tr th:only-of-type {\n",
       "        vertical-align: middle;\n",
       "    }\n",
       "\n",
       "    .dataframe tbody tr th {\n",
       "        vertical-align: top;\n",
       "    }\n",
       "\n",
       "    .dataframe thead th {\n",
       "        text-align: right;\n",
       "    }\n",
       "</style>\n",
       "<table border=\"1\" class=\"dataframe\">\n",
       "  <thead>\n",
       "    <tr style=\"text-align: right;\">\n",
       "      <th></th>\n",
       "      <th></th>\n",
       "      <th>act_participation</th>\n",
       "    </tr>\n",
       "    <tr>\n",
       "      <th>state</th>\n",
       "      <th>year</th>\n",
       "      <th></th>\n",
       "    </tr>\n",
       "  </thead>\n",
       "  <tbody>\n",
       "    <tr>\n",
       "      <td>Alabama</td>\n",
       "      <td>2018</td>\n",
       "      <td>100</td>\n",
       "    </tr>\n",
       "    <tr>\n",
       "      <td>Kentucky</td>\n",
       "      <td>2018</td>\n",
       "      <td>100</td>\n",
       "    </tr>\n",
       "    <tr>\n",
       "      <td>Wisconsin</td>\n",
       "      <td>2018</td>\n",
       "      <td>100</td>\n",
       "    </tr>\n",
       "    <tr>\n",
       "      <td>Utah</td>\n",
       "      <td>2018</td>\n",
       "      <td>100</td>\n",
       "    </tr>\n",
       "    <tr>\n",
       "      <td>Tennessee</td>\n",
       "      <td>2018</td>\n",
       "      <td>100</td>\n",
       "    </tr>\n",
       "    <tr>\n",
       "      <td>South Carolina</td>\n",
       "      <td>2018</td>\n",
       "      <td>100</td>\n",
       "    </tr>\n",
       "    <tr>\n",
       "      <td>Ohio</td>\n",
       "      <td>2018</td>\n",
       "      <td>100</td>\n",
       "    </tr>\n",
       "    <tr>\n",
       "      <td>Oklahoma</td>\n",
       "      <td>2018</td>\n",
       "      <td>100</td>\n",
       "    </tr>\n",
       "    <tr>\n",
       "      <td>North Carolina</td>\n",
       "      <td>2018</td>\n",
       "      <td>100</td>\n",
       "    </tr>\n",
       "    <tr>\n",
       "      <td>Nevada</td>\n",
       "      <td>2018</td>\n",
       "      <td>100</td>\n",
       "    </tr>\n",
       "    <tr>\n",
       "      <td>Nebraska</td>\n",
       "      <td>2018</td>\n",
       "      <td>100</td>\n",
       "    </tr>\n",
       "    <tr>\n",
       "      <td>Montana</td>\n",
       "      <td>2018</td>\n",
       "      <td>100</td>\n",
       "    </tr>\n",
       "    <tr>\n",
       "      <td>Mississippi</td>\n",
       "      <td>2018</td>\n",
       "      <td>100</td>\n",
       "    </tr>\n",
       "    <tr>\n",
       "      <td>Louisiana</td>\n",
       "      <td>2018</td>\n",
       "      <td>100</td>\n",
       "    </tr>\n",
       "    <tr>\n",
       "      <td>Missouri</td>\n",
       "      <td>2018</td>\n",
       "      <td>100</td>\n",
       "    </tr>\n",
       "    <tr>\n",
       "      <td>Wyoming</td>\n",
       "      <td>2018</td>\n",
       "      <td>100</td>\n",
       "    </tr>\n",
       "    <tr>\n",
       "      <td>Arkansas</td>\n",
       "      <td>2018</td>\n",
       "      <td>100</td>\n",
       "    </tr>\n",
       "    <tr>\n",
       "      <td>Minnesota</td>\n",
       "      <td>2018</td>\n",
       "      <td>99</td>\n",
       "    </tr>\n",
       "  </tbody>\n",
       "</table>\n",
       "</div>"
      ],
      "text/plain": [
       "                     act_participation\n",
       "state          year                   \n",
       "Alabama        2018                100\n",
       "Kentucky       2018                100\n",
       "Wisconsin      2018                100\n",
       "Utah           2018                100\n",
       "Tennessee      2018                100\n",
       "South Carolina 2018                100\n",
       "Ohio           2018                100\n",
       "Oklahoma       2018                100\n",
       "North Carolina 2018                100\n",
       "Nevada         2018                100\n",
       "Nebraska       2018                100\n",
       "Montana        2018                100\n",
       "Mississippi    2018                100\n",
       "Louisiana      2018                100\n",
       "Missouri       2018                100\n",
       "Wyoming        2018                100\n",
       "Arkansas       2018                100\n",
       "Minnesota      2018                 99"
      ]
     },
     "execution_count": 50,
     "metadata": {},
     "output_type": "execute_result"
    }
   ],
   "source": [
    "df_combined.loc[idx[:, 2018], ['act_participation']].sort_values(by=['act_participation'], ascending=False).head(18)"
   ]
  },
  {
   "cell_type": "markdown",
   "metadata": {},
   "source": [
    "State(s) with highest ACT participation rates in 2018: Alabama, Kentucky, Wisconsin, Utah, Tennessee, South Carolina, Ohio, Oklahoma, North Carolina, Nevada, Nebraska, Montana, Mississippi, Louisiana, Missouri, Wyoming, Arkansas"
   ]
  },
  {
   "cell_type": "code",
   "execution_count": 51,
   "metadata": {},
   "outputs": [
    {
     "data": {
      "text/html": [
       "<div>\n",
       "<style scoped>\n",
       "    .dataframe tbody tr th:only-of-type {\n",
       "        vertical-align: middle;\n",
       "    }\n",
       "\n",
       "    .dataframe tbody tr th {\n",
       "        vertical-align: top;\n",
       "    }\n",
       "\n",
       "    .dataframe thead th {\n",
       "        text-align: right;\n",
       "    }\n",
       "</style>\n",
       "<table border=\"1\" class=\"dataframe\">\n",
       "  <thead>\n",
       "    <tr style=\"text-align: right;\">\n",
       "      <th></th>\n",
       "      <th></th>\n",
       "      <th>sat_total</th>\n",
       "    </tr>\n",
       "    <tr>\n",
       "      <th>state</th>\n",
       "      <th>year</th>\n",
       "      <th></th>\n",
       "    </tr>\n",
       "  </thead>\n",
       "  <tbody>\n",
       "    <tr>\n",
       "      <td>District of Columbia</td>\n",
       "      <td>2017</td>\n",
       "      <td>950</td>\n",
       "    </tr>\n",
       "    <tr>\n",
       "      <td>Delaware</td>\n",
       "      <td>2017</td>\n",
       "      <td>996</td>\n",
       "    </tr>\n",
       "    <tr>\n",
       "      <td>Idaho</td>\n",
       "      <td>2017</td>\n",
       "      <td>1005</td>\n",
       "    </tr>\n",
       "    <tr>\n",
       "      <td>Michigan</td>\n",
       "      <td>2017</td>\n",
       "      <td>1005</td>\n",
       "    </tr>\n",
       "    <tr>\n",
       "      <td>Maine</td>\n",
       "      <td>2017</td>\n",
       "      <td>1012</td>\n",
       "    </tr>\n",
       "  </tbody>\n",
       "</table>\n",
       "</div>"
      ],
      "text/plain": [
       "                           sat_total\n",
       "state                year           \n",
       "District of Columbia 2017        950\n",
       "Delaware             2017        996\n",
       "Idaho                2017       1005\n",
       "Michigan             2017       1005\n",
       "Maine                2017       1012"
      ]
     },
     "execution_count": 51,
     "metadata": {},
     "output_type": "execute_result"
    }
   ],
   "source": [
    "df_combined.loc[idx[:, 2017], ['sat_total']].sort_values(by=['sat_total']).head()"
   ]
  },
  {
   "cell_type": "markdown",
   "metadata": {},
   "source": [
    "State(s) with lowest SAT total score in 2017: District of Columbia\t"
   ]
  },
  {
   "cell_type": "code",
   "execution_count": 52,
   "metadata": {},
   "outputs": [
    {
     "data": {
      "text/html": [
       "<div>\n",
       "<style scoped>\n",
       "    .dataframe tbody tr th:only-of-type {\n",
       "        vertical-align: middle;\n",
       "    }\n",
       "\n",
       "    .dataframe tbody tr th {\n",
       "        vertical-align: top;\n",
       "    }\n",
       "\n",
       "    .dataframe thead th {\n",
       "        text-align: right;\n",
       "    }\n",
       "</style>\n",
       "<table border=\"1\" class=\"dataframe\">\n",
       "  <thead>\n",
       "    <tr style=\"text-align: right;\">\n",
       "      <th></th>\n",
       "      <th></th>\n",
       "      <th>sat_total</th>\n",
       "    </tr>\n",
       "    <tr>\n",
       "      <th>state</th>\n",
       "      <th>year</th>\n",
       "      <th></th>\n",
       "    </tr>\n",
       "  </thead>\n",
       "  <tbody>\n",
       "    <tr>\n",
       "      <td>District of Columbia</td>\n",
       "      <td>2018</td>\n",
       "      <td>977</td>\n",
       "    </tr>\n",
       "    <tr>\n",
       "      <td>Delaware</td>\n",
       "      <td>2018</td>\n",
       "      <td>998</td>\n",
       "    </tr>\n",
       "    <tr>\n",
       "      <td>West Virginia</td>\n",
       "      <td>2018</td>\n",
       "      <td>999</td>\n",
       "    </tr>\n",
       "    <tr>\n",
       "      <td>Idaho</td>\n",
       "      <td>2018</td>\n",
       "      <td>1001</td>\n",
       "    </tr>\n",
       "    <tr>\n",
       "      <td>Utah</td>\n",
       "      <td>2018</td>\n",
       "      <td>1010</td>\n",
       "    </tr>\n",
       "  </tbody>\n",
       "</table>\n",
       "</div>"
      ],
      "text/plain": [
       "                           sat_total\n",
       "state                year           \n",
       "District of Columbia 2018        977\n",
       "Delaware             2018        998\n",
       "West Virginia        2018        999\n",
       "Idaho                2018       1001\n",
       "Utah                 2018       1010"
      ]
     },
     "execution_count": 52,
     "metadata": {},
     "output_type": "execute_result"
    }
   ],
   "source": [
    "df_combined.loc[idx[:, 2018], ['sat_total']].sort_values(by=['sat_total']).head()"
   ]
  },
  {
   "cell_type": "markdown",
   "metadata": {},
   "source": [
    "State(s) with lowest SAT total score in 2018: District of Columbia"
   ]
  },
  {
   "cell_type": "code",
   "execution_count": 53,
   "metadata": {
    "scrolled": true
   },
   "outputs": [
    {
     "data": {
      "text/html": [
       "<div>\n",
       "<style scoped>\n",
       "    .dataframe tbody tr th:only-of-type {\n",
       "        vertical-align: middle;\n",
       "    }\n",
       "\n",
       "    .dataframe tbody tr th {\n",
       "        vertical-align: top;\n",
       "    }\n",
       "\n",
       "    .dataframe thead th {\n",
       "        text-align: right;\n",
       "    }\n",
       "</style>\n",
       "<table border=\"1\" class=\"dataframe\">\n",
       "  <thead>\n",
       "    <tr style=\"text-align: right;\">\n",
       "      <th></th>\n",
       "      <th></th>\n",
       "      <th>sat_total</th>\n",
       "    </tr>\n",
       "    <tr>\n",
       "      <th>state</th>\n",
       "      <th>year</th>\n",
       "      <th></th>\n",
       "    </tr>\n",
       "  </thead>\n",
       "  <tbody>\n",
       "    <tr>\n",
       "      <td>Minnesota</td>\n",
       "      <td>2017</td>\n",
       "      <td>1295</td>\n",
       "    </tr>\n",
       "    <tr>\n",
       "      <td>Wisconsin</td>\n",
       "      <td>2017</td>\n",
       "      <td>1291</td>\n",
       "    </tr>\n",
       "    <tr>\n",
       "      <td>Iowa</td>\n",
       "      <td>2017</td>\n",
       "      <td>1275</td>\n",
       "    </tr>\n",
       "    <tr>\n",
       "      <td>Missouri</td>\n",
       "      <td>2017</td>\n",
       "      <td>1271</td>\n",
       "    </tr>\n",
       "    <tr>\n",
       "      <td>Kansas</td>\n",
       "      <td>2017</td>\n",
       "      <td>1260</td>\n",
       "    </tr>\n",
       "    <tr>\n",
       "      <td>North Dakota</td>\n",
       "      <td>2017</td>\n",
       "      <td>1256</td>\n",
       "    </tr>\n",
       "  </tbody>\n",
       "</table>\n",
       "</div>"
      ],
      "text/plain": [
       "                   sat_total\n",
       "state        year           \n",
       "Minnesota    2017       1295\n",
       "Wisconsin    2017       1291\n",
       "Iowa         2017       1275\n",
       "Missouri     2017       1271\n",
       "Kansas       2017       1260\n",
       "North Dakota 2017       1256"
      ]
     },
     "execution_count": 53,
     "metadata": {},
     "output_type": "execute_result"
    }
   ],
   "source": [
    "df_combined.loc[idx[:, 2017], ['sat_total']].sort_values(by=['sat_total'], ascending=False).head(6)"
   ]
  },
  {
   "cell_type": "markdown",
   "metadata": {},
   "source": [
    "State(s) with highest SAT total score in 2017: Minnesota"
   ]
  },
  {
   "cell_type": "code",
   "execution_count": 54,
   "metadata": {},
   "outputs": [
    {
     "data": {
      "text/html": [
       "<div>\n",
       "<style scoped>\n",
       "    .dataframe tbody tr th:only-of-type {\n",
       "        vertical-align: middle;\n",
       "    }\n",
       "\n",
       "    .dataframe tbody tr th {\n",
       "        vertical-align: top;\n",
       "    }\n",
       "\n",
       "    .dataframe thead th {\n",
       "        text-align: right;\n",
       "    }\n",
       "</style>\n",
       "<table border=\"1\" class=\"dataframe\">\n",
       "  <thead>\n",
       "    <tr style=\"text-align: right;\">\n",
       "      <th></th>\n",
       "      <th></th>\n",
       "      <th>sat_total</th>\n",
       "    </tr>\n",
       "    <tr>\n",
       "      <th>state</th>\n",
       "      <th>year</th>\n",
       "      <th></th>\n",
       "    </tr>\n",
       "  </thead>\n",
       "  <tbody>\n",
       "    <tr>\n",
       "      <td>Minnesota</td>\n",
       "      <td>2018</td>\n",
       "      <td>1298</td>\n",
       "    </tr>\n",
       "    <tr>\n",
       "      <td>Wisconsin</td>\n",
       "      <td>2018</td>\n",
       "      <td>1294</td>\n",
       "    </tr>\n",
       "    <tr>\n",
       "      <td>North Dakota</td>\n",
       "      <td>2018</td>\n",
       "      <td>1283</td>\n",
       "    </tr>\n",
       "    <tr>\n",
       "      <td>Iowa</td>\n",
       "      <td>2018</td>\n",
       "      <td>1265</td>\n",
       "    </tr>\n",
       "    <tr>\n",
       "      <td>Kansas</td>\n",
       "      <td>2018</td>\n",
       "      <td>1265</td>\n",
       "    </tr>\n",
       "  </tbody>\n",
       "</table>\n",
       "</div>"
      ],
      "text/plain": [
       "                   sat_total\n",
       "state        year           \n",
       "Minnesota    2018       1298\n",
       "Wisconsin    2018       1294\n",
       "North Dakota 2018       1283\n",
       "Iowa         2018       1265\n",
       "Kansas       2018       1265"
      ]
     },
     "execution_count": 54,
     "metadata": {},
     "output_type": "execute_result"
    }
   ],
   "source": [
    "df_combined.loc[idx[:, 2018], ['sat_total']].sort_values(by=['sat_total'], ascending=False).head()"
   ]
  },
  {
   "cell_type": "markdown",
   "metadata": {},
   "source": [
    "State(s) with highest SAT total score in 2018: Minnesota"
   ]
  },
  {
   "cell_type": "code",
   "execution_count": 55,
   "metadata": {},
   "outputs": [
    {
     "data": {
      "text/html": [
       "<div>\n",
       "<style scoped>\n",
       "    .dataframe tbody tr th:only-of-type {\n",
       "        vertical-align: middle;\n",
       "    }\n",
       "\n",
       "    .dataframe tbody tr th {\n",
       "        vertical-align: top;\n",
       "    }\n",
       "\n",
       "    .dataframe thead th {\n",
       "        text-align: right;\n",
       "    }\n",
       "</style>\n",
       "<table border=\"1\" class=\"dataframe\">\n",
       "  <thead>\n",
       "    <tr style=\"text-align: right;\">\n",
       "      <th></th>\n",
       "      <th></th>\n",
       "      <th>act_composite</th>\n",
       "    </tr>\n",
       "    <tr>\n",
       "      <th>state</th>\n",
       "      <th>year</th>\n",
       "      <th></th>\n",
       "    </tr>\n",
       "  </thead>\n",
       "  <tbody>\n",
       "    <tr>\n",
       "      <td>Nevada</td>\n",
       "      <td>2017</td>\n",
       "      <td>17.8</td>\n",
       "    </tr>\n",
       "    <tr>\n",
       "      <td>Mississippi</td>\n",
       "      <td>2017</td>\n",
       "      <td>18.6</td>\n",
       "    </tr>\n",
       "    <tr>\n",
       "      <td>South Carolina</td>\n",
       "      <td>2017</td>\n",
       "      <td>18.7</td>\n",
       "    </tr>\n",
       "    <tr>\n",
       "      <td>Hawaii</td>\n",
       "      <td>2017</td>\n",
       "      <td>19.0</td>\n",
       "    </tr>\n",
       "    <tr>\n",
       "      <td>North Carolina</td>\n",
       "      <td>2017</td>\n",
       "      <td>19.1</td>\n",
       "    </tr>\n",
       "  </tbody>\n",
       "</table>\n",
       "</div>"
      ],
      "text/plain": [
       "                     act_composite\n",
       "state          year               \n",
       "Nevada         2017           17.8\n",
       "Mississippi    2017           18.6\n",
       "South Carolina 2017           18.7\n",
       "Hawaii         2017           19.0\n",
       "North Carolina 2017           19.1"
      ]
     },
     "execution_count": 55,
     "metadata": {},
     "output_type": "execute_result"
    }
   ],
   "source": [
    "df_combined.loc[idx[:, 2017], ['act_composite']].sort_values(by=['act_composite']).head()"
   ]
  },
  {
   "cell_type": "markdown",
   "metadata": {},
   "source": [
    "State(s) with lowest ACT composite score in 2017: Nevada"
   ]
  },
  {
   "cell_type": "code",
   "execution_count": 56,
   "metadata": {},
   "outputs": [
    {
     "data": {
      "text/html": [
       "<div>\n",
       "<style scoped>\n",
       "    .dataframe tbody tr th:only-of-type {\n",
       "        vertical-align: middle;\n",
       "    }\n",
       "\n",
       "    .dataframe tbody tr th {\n",
       "        vertical-align: top;\n",
       "    }\n",
       "\n",
       "    .dataframe thead th {\n",
       "        text-align: right;\n",
       "    }\n",
       "</style>\n",
       "<table border=\"1\" class=\"dataframe\">\n",
       "  <thead>\n",
       "    <tr style=\"text-align: right;\">\n",
       "      <th></th>\n",
       "      <th></th>\n",
       "      <th>act_composite</th>\n",
       "    </tr>\n",
       "    <tr>\n",
       "      <th>state</th>\n",
       "      <th>year</th>\n",
       "      <th></th>\n",
       "    </tr>\n",
       "  </thead>\n",
       "  <tbody>\n",
       "    <tr>\n",
       "      <td>Nevada</td>\n",
       "      <td>2018</td>\n",
       "      <td>17.7</td>\n",
       "    </tr>\n",
       "    <tr>\n",
       "      <td>South Carolina</td>\n",
       "      <td>2018</td>\n",
       "      <td>18.3</td>\n",
       "    </tr>\n",
       "    <tr>\n",
       "      <td>Mississippi</td>\n",
       "      <td>2018</td>\n",
       "      <td>18.6</td>\n",
       "    </tr>\n",
       "    <tr>\n",
       "      <td>Hawaii</td>\n",
       "      <td>2018</td>\n",
       "      <td>18.9</td>\n",
       "    </tr>\n",
       "    <tr>\n",
       "      <td>Alabama</td>\n",
       "      <td>2018</td>\n",
       "      <td>19.1</td>\n",
       "    </tr>\n",
       "  </tbody>\n",
       "</table>\n",
       "</div>"
      ],
      "text/plain": [
       "                     act_composite\n",
       "state          year               \n",
       "Nevada         2018           17.7\n",
       "South Carolina 2018           18.3\n",
       "Mississippi    2018           18.6\n",
       "Hawaii         2018           18.9\n",
       "Alabama        2018           19.1"
      ]
     },
     "execution_count": 56,
     "metadata": {},
     "output_type": "execute_result"
    }
   ],
   "source": [
    "df_combined.loc[idx[:, 2018], ['act_composite']].sort_values(by=['act_composite']).head()"
   ]
  },
  {
   "cell_type": "markdown",
   "metadata": {},
   "source": [
    "State(s) with lowest ACT composite score in 2018: Nevada"
   ]
  },
  {
   "cell_type": "code",
   "execution_count": 57,
   "metadata": {
    "scrolled": true
   },
   "outputs": [
    {
     "data": {
      "text/html": [
       "<div>\n",
       "<style scoped>\n",
       "    .dataframe tbody tr th:only-of-type {\n",
       "        vertical-align: middle;\n",
       "    }\n",
       "\n",
       "    .dataframe tbody tr th {\n",
       "        vertical-align: top;\n",
       "    }\n",
       "\n",
       "    .dataframe thead th {\n",
       "        text-align: right;\n",
       "    }\n",
       "</style>\n",
       "<table border=\"1\" class=\"dataframe\">\n",
       "  <thead>\n",
       "    <tr style=\"text-align: right;\">\n",
       "      <th></th>\n",
       "      <th></th>\n",
       "      <th>act_composite</th>\n",
       "    </tr>\n",
       "    <tr>\n",
       "      <th>state</th>\n",
       "      <th>year</th>\n",
       "      <th></th>\n",
       "    </tr>\n",
       "  </thead>\n",
       "  <tbody>\n",
       "    <tr>\n",
       "      <td>New Hampshire</td>\n",
       "      <td>2017</td>\n",
       "      <td>25.5</td>\n",
       "    </tr>\n",
       "    <tr>\n",
       "      <td>Massachusetts</td>\n",
       "      <td>2017</td>\n",
       "      <td>25.4</td>\n",
       "    </tr>\n",
       "    <tr>\n",
       "      <td>Connecticut</td>\n",
       "      <td>2017</td>\n",
       "      <td>25.2</td>\n",
       "    </tr>\n",
       "    <tr>\n",
       "      <td>Maine</td>\n",
       "      <td>2017</td>\n",
       "      <td>24.3</td>\n",
       "    </tr>\n",
       "    <tr>\n",
       "      <td>District of Columbia</td>\n",
       "      <td>2017</td>\n",
       "      <td>24.2</td>\n",
       "    </tr>\n",
       "  </tbody>\n",
       "</table>\n",
       "</div>"
      ],
      "text/plain": [
       "                           act_composite\n",
       "state                year               \n",
       "New Hampshire        2017           25.5\n",
       "Massachusetts        2017           25.4\n",
       "Connecticut          2017           25.2\n",
       "Maine                2017           24.3\n",
       "District of Columbia 2017           24.2"
      ]
     },
     "execution_count": 57,
     "metadata": {},
     "output_type": "execute_result"
    }
   ],
   "source": [
    "df_combined.loc[idx[:, 2017], ['act_composite']].sort_values(by=['act_composite'], ascending=False).head()"
   ]
  },
  {
   "cell_type": "markdown",
   "metadata": {},
   "source": [
    "State(s) with highest ACT composite score in 2017: New Hampshire"
   ]
  },
  {
   "cell_type": "code",
   "execution_count": 58,
   "metadata": {},
   "outputs": [
    {
     "data": {
      "text/html": [
       "<div>\n",
       "<style scoped>\n",
       "    .dataframe tbody tr th:only-of-type {\n",
       "        vertical-align: middle;\n",
       "    }\n",
       "\n",
       "    .dataframe tbody tr th {\n",
       "        vertical-align: top;\n",
       "    }\n",
       "\n",
       "    .dataframe thead th {\n",
       "        text-align: right;\n",
       "    }\n",
       "</style>\n",
       "<table border=\"1\" class=\"dataframe\">\n",
       "  <thead>\n",
       "    <tr style=\"text-align: right;\">\n",
       "      <th></th>\n",
       "      <th></th>\n",
       "      <th>act_composite</th>\n",
       "    </tr>\n",
       "    <tr>\n",
       "      <th>state</th>\n",
       "      <th>year</th>\n",
       "      <th></th>\n",
       "    </tr>\n",
       "  </thead>\n",
       "  <tbody>\n",
       "    <tr>\n",
       "      <td>Connecticut</td>\n",
       "      <td>2018</td>\n",
       "      <td>25.6</td>\n",
       "    </tr>\n",
       "    <tr>\n",
       "      <td>Massachusetts</td>\n",
       "      <td>2018</td>\n",
       "      <td>25.5</td>\n",
       "    </tr>\n",
       "    <tr>\n",
       "      <td>New Hampshire</td>\n",
       "      <td>2018</td>\n",
       "      <td>25.1</td>\n",
       "    </tr>\n",
       "    <tr>\n",
       "      <td>New York</td>\n",
       "      <td>2018</td>\n",
       "      <td>24.5</td>\n",
       "    </tr>\n",
       "    <tr>\n",
       "      <td>Michigan</td>\n",
       "      <td>2018</td>\n",
       "      <td>24.4</td>\n",
       "    </tr>\n",
       "  </tbody>\n",
       "</table>\n",
       "</div>"
      ],
      "text/plain": [
       "                    act_composite\n",
       "state         year               \n",
       "Connecticut   2018           25.6\n",
       "Massachusetts 2018           25.5\n",
       "New Hampshire 2018           25.1\n",
       "New York      2018           24.5\n",
       "Michigan      2018           24.4"
      ]
     },
     "execution_count": 58,
     "metadata": {},
     "output_type": "execute_result"
    }
   ],
   "source": [
    "df_combined.loc[idx[:, 2018], ['act_composite']].sort_values(by=['act_composite'], ascending=False).head()"
   ]
  },
  {
   "cell_type": "markdown",
   "metadata": {},
   "source": [
    "State(s) with highest ACT composite score in 2018: Connecticut\n",
    "\n",
    "- States like North Dakota had low SAT participation but high SAT total score.\n",
    "- States like Delaware had high SAT participation but low SAT total score.\n",
    "- States like New Hampshire had low ACT participation but high ACT composite score.\n",
    "- States like Nevada had high ACT participation but low ACT composite score.\n",
    "\n",
    "There are many cases of states having low/high participation rates but high/low total/composite scores in both SAT/ACT tests. There seems to be an inverse relationship between participation rates and scores in both SAT/ACT tests.\n"
   ]
  },
  {
   "cell_type": "code",
   "execution_count": 59,
   "metadata": {
    "scrolled": false
   },
   "outputs": [
    {
     "data": {
      "text/html": [
       "<div>\n",
       "<style scoped>\n",
       "    .dataframe tbody tr th:only-of-type {\n",
       "        vertical-align: middle;\n",
       "    }\n",
       "\n",
       "    .dataframe tbody tr th {\n",
       "        vertical-align: top;\n",
       "    }\n",
       "\n",
       "    .dataframe thead th {\n",
       "        text-align: right;\n",
       "    }\n",
       "</style>\n",
       "<table border=\"1\" class=\"dataframe\">\n",
       "  <thead>\n",
       "    <tr style=\"text-align: right;\">\n",
       "      <th></th>\n",
       "      <th>sat_participation_2017</th>\n",
       "      <th>sat_participation_2018</th>\n",
       "    </tr>\n",
       "    <tr>\n",
       "      <th>state</th>\n",
       "      <th></th>\n",
       "      <th></th>\n",
       "    </tr>\n",
       "  </thead>\n",
       "  <tbody>\n",
       "    <tr>\n",
       "      <td>District of Columbia</td>\n",
       "      <td>100</td>\n",
       "      <td>92</td>\n",
       "    </tr>\n",
       "  </tbody>\n",
       "</table>\n",
       "</div>"
      ],
      "text/plain": [
       "                      sat_participation_2017  sat_participation_2018\n",
       "state                                                               \n",
       "District of Columbia                     100                      92"
      ]
     },
     "execution_count": 59,
     "metadata": {},
     "output_type": "execute_result"
    }
   ],
   "source": [
    "# Reset year index for SAT participation data in 2017 \n",
    "df_sat_2017 = df_combined.loc[idx[:, 2017], :].reset_index(level='year')[['sat_participation']]\n",
    "df_sat_2017.columns = ['sat_participation_2017']\n",
    "\n",
    "# Reset year index for SAT participation data in 2018\n",
    "df_sat_2018 = df_combined.loc[idx[:, 2018], :].reset_index(level='year')[['sat_participation']]\n",
    "df_sat_2018.columns = ['sat_participation_2018']\n",
    "\n",
    "# Merge SAT participation data in 2017 and 2018\n",
    "df_sat = df_sat_2017.merge( df_sat_2018, on='state')\n",
    "df_sat[(df_sat['sat_participation_2017']==100) & (df_sat['sat_participation_2018']!=100)]"
   ]
  },
  {
   "cell_type": "markdown",
   "metadata": {},
   "source": [
    "For SAT, the participation rate of the state of District of Columbia dropped from 100% in 2017 to 92% in 2018."
   ]
  },
  {
   "cell_type": "code",
   "execution_count": 60,
   "metadata": {},
   "outputs": [
    {
     "data": {
      "text/html": [
       "<div>\n",
       "<style scoped>\n",
       "    .dataframe tbody tr th:only-of-type {\n",
       "        vertical-align: middle;\n",
       "    }\n",
       "\n",
       "    .dataframe tbody tr th {\n",
       "        vertical-align: top;\n",
       "    }\n",
       "\n",
       "    .dataframe thead th {\n",
       "        text-align: right;\n",
       "    }\n",
       "</style>\n",
       "<table border=\"1\" class=\"dataframe\">\n",
       "  <thead>\n",
       "    <tr style=\"text-align: right;\">\n",
       "      <th></th>\n",
       "      <th>act_participation_2017</th>\n",
       "      <th>act_participation_2018</th>\n",
       "    </tr>\n",
       "    <tr>\n",
       "      <th>state</th>\n",
       "      <th></th>\n",
       "      <th></th>\n",
       "    </tr>\n",
       "  </thead>\n",
       "  <tbody>\n",
       "    <tr>\n",
       "      <td>Colorado</td>\n",
       "      <td>100</td>\n",
       "      <td>30</td>\n",
       "    </tr>\n",
       "    <tr>\n",
       "      <td>Minnesota</td>\n",
       "      <td>100</td>\n",
       "      <td>99</td>\n",
       "    </tr>\n",
       "  </tbody>\n",
       "</table>\n",
       "</div>"
      ],
      "text/plain": [
       "           act_participation_2017  act_participation_2018\n",
       "state                                                    \n",
       "Colorado                      100                      30\n",
       "Minnesota                     100                      99"
      ]
     },
     "execution_count": 60,
     "metadata": {},
     "output_type": "execute_result"
    }
   ],
   "source": [
    "# Reset year index for ACT participation data in 2017 \n",
    "df_act_2017 = df_combined.loc[idx[:, 2017], :].reset_index(level='year')[['act_participation']]\n",
    "df_act_2017.columns = ['act_participation_2017']\n",
    "\n",
    "# Reset year index for ACT participation data in 2018\n",
    "df_act_2018 = df_combined.loc[idx[:, 2018], :].reset_index(level='year')[['act_participation']]\n",
    "df_act_2018.columns = ['act_participation_2018']\n",
    "\n",
    "# Merge ACT participation data in 2017 and 2018\n",
    "df_act = df_act_2017.merge(df_act_2018, on='state')\n",
    "df_act[(df_act['act_participation_2017']==100) & (df_act['act_participation_2018']!=100)]"
   ]
  },
  {
   "cell_type": "markdown",
   "metadata": {},
   "source": [
    "For ACT, the participation rate of the state of Colorado dropped from 100% in 2017 to 30% in 2018. Also, the participation rate of the state of Minnesota dropped from 100% in 2017 to 99% in 2018."
   ]
  },
  {
   "cell_type": "code",
   "execution_count": 61,
   "metadata": {},
   "outputs": [
    {
     "data": {
      "text/html": [
       "<div>\n",
       "<style scoped>\n",
       "    .dataframe tbody tr th:only-of-type {\n",
       "        vertical-align: middle;\n",
       "    }\n",
       "\n",
       "    .dataframe tbody tr th {\n",
       "        vertical-align: top;\n",
       "    }\n",
       "\n",
       "    .dataframe thead th {\n",
       "        text-align: right;\n",
       "    }\n",
       "</style>\n",
       "<table border=\"1\" class=\"dataframe\">\n",
       "  <thead>\n",
       "    <tr style=\"text-align: right;\">\n",
       "      <th></th>\n",
       "      <th></th>\n",
       "      <th>sat_participation</th>\n",
       "      <th>act_participation</th>\n",
       "    </tr>\n",
       "    <tr>\n",
       "      <th>state</th>\n",
       "      <th>year</th>\n",
       "      <th></th>\n",
       "      <th></th>\n",
       "    </tr>\n",
       "  </thead>\n",
       "  <tbody>\n",
       "    <tr>\n",
       "      <td rowspan=\"2\" valign=\"top\">Florida</td>\n",
       "      <td>2017</td>\n",
       "      <td>83</td>\n",
       "      <td>73</td>\n",
       "    </tr>\n",
       "    <tr>\n",
       "      <td>2018</td>\n",
       "      <td>56</td>\n",
       "      <td>66</td>\n",
       "    </tr>\n",
       "    <tr>\n",
       "      <td rowspan=\"2\" valign=\"top\">Georgia</td>\n",
       "      <td>2017</td>\n",
       "      <td>61</td>\n",
       "      <td>55</td>\n",
       "    </tr>\n",
       "    <tr>\n",
       "      <td>2018</td>\n",
       "      <td>70</td>\n",
       "      <td>53</td>\n",
       "    </tr>\n",
       "    <tr>\n",
       "      <td rowspan=\"2\" valign=\"top\">Hawaii</td>\n",
       "      <td>2017</td>\n",
       "      <td>55</td>\n",
       "      <td>90</td>\n",
       "    </tr>\n",
       "    <tr>\n",
       "      <td>2018</td>\n",
       "      <td>56</td>\n",
       "      <td>89</td>\n",
       "    </tr>\n",
       "    <tr>\n",
       "      <td>North Carolina</td>\n",
       "      <td>2018</td>\n",
       "      <td>52</td>\n",
       "      <td>100</td>\n",
       "    </tr>\n",
       "    <tr>\n",
       "      <td>South Carolina</td>\n",
       "      <td>2018</td>\n",
       "      <td>55</td>\n",
       "      <td>100</td>\n",
       "    </tr>\n",
       "  </tbody>\n",
       "</table>\n",
       "</div>"
      ],
      "text/plain": [
       "                     sat_participation  act_participation\n",
       "state          year                                      \n",
       "Florida        2017                 83                 73\n",
       "               2018                 56                 66\n",
       "Georgia        2017                 61                 55\n",
       "               2018                 70                 53\n",
       "Hawaii         2017                 55                 90\n",
       "               2018                 56                 89\n",
       "North Carolina 2018                 52                100\n",
       "South Carolina 2018                 55                100"
      ]
     },
     "execution_count": 61,
     "metadata": {},
     "output_type": "execute_result"
    }
   ],
   "source": [
    "df_combined[(df_combined['sat_participation']>50) & (df_combined['act_participation']>50)][['sat_participation', 'act_participation']].sort_values(['state', 'year'])"
   ]
  },
  {
   "cell_type": "markdown",
   "metadata": {},
   "source": [
    "States with >50% participation for SAT and ACT tests in either 2017 and 2018 include Florida, Georgia, Hawaii, North Carolina and South Carolina.  \n",
    "\n",
    "Theses states have a sizable portion of the students taking both SAT and ACT tests."
   ]
  },
  {
   "cell_type": "markdown",
   "metadata": {},
   "source": [
    "## Visualize the data\n",
    "\n",
    "There's not a magic bullet recommendation for the right number of plots to understand a given dataset, but visualizing your data is *always* a good idea. Not only does it allow you to quickly convey your findings (even if you have a non-technical audience), it will often reveal trends in your data that escaped you when you were looking only at numbers.\n",
    "\n",
    "Some recommendations on plotting:\n",
    "- Plots have titles\n",
    "- Plots have axis labels\n",
    "- Plots have appropriate tick labels\n",
    "- All text is legible in a plot\n",
    "- Plots demonstrate meaningful and valid relationships\n",
    "- Plots are interpreted to aid understanding\n",
    "\n",
    "There is such a thing as too many plots, and there are a *lot* of bad plots. You might make some! (But hopefully not with the guided prompts below)."
   ]
  },
  {
   "cell_type": "markdown",
   "metadata": {},
   "source": [
    "#### Use Seaborn's heatmap with pandas `.corr()` to visualize correlations between all numeric features\n",
    "\n",
    "Heatmaps are generally not appropriate for presentations, and should often be excluded from reports as they can be visually overwhelming. **However**, they can be extremely useful in identify relationships of potential interest (as well as identifying potential collinearity before modeling).\n",
    "\n",
    "*example*:\n",
    "```python\n",
    "sns.heatmap(df.corr())\n",
    "```\n",
    "\n",
    "Please take time to format your output, adding a title. Look through some of the additional arguments and options. (Axis labels aren't really necessary, as long as the title is informative)."
   ]
  },
  {
   "cell_type": "code",
   "execution_count": 62,
   "metadata": {
    "scrolled": true
   },
   "outputs": [
    {
     "data": {
      "text/plain": [
       "<Figure size 432x288 with 0 Axes>"
      ]
     },
     "metadata": {},
     "output_type": "display_data"
    },
    {
     "data": {
      "image/png": "[encoded data removed]",
      "text/plain": [
       "<Figure size 864x216 with 4 Axes>"
      ]
     },
     "metadata": {
      "needs_background": "light"
     },
     "output_type": "display_data"
    }
   ],
   "source": [
    "df_sat = df_combined[['sat_ebrw', 'sat_math', 'sat_total', 'sat_participation']]\n",
    "\n",
    "plt.subplots_adjust(wspace=.7)\n",
    "plt.figure(figsize=(12, 3))\n",
    "\n",
    "plt.subplot(131)\n",
    "plt.title('SAT Heat Map 2017-2018');\n",
    "\n",
    "sns.heatmap(df_sat.corr())\n",
    "\n",
    "plt.subplot(133)\n",
    "plt.title('ACT Heat Map 2017-2018')\n",
    "\n",
    "df_act = df_combined[['act_english', 'act_math', 'act_science', 'act_reading', 'act_participation']]\n",
    "\n",
    "sns.heatmap(df_act.corr());"
   ]
  },
  {
   "cell_type": "markdown",
   "metadata": {},
   "source": [
    "For both SAT and ACT, the participation rate is negatively correlated to the sub-tests and total/composite scores. \n",
    "\n",
    "That means that in states where SAT participation is high, the sub-test/total/composite scores tends to be lower than states where participation is low.  The same relationship can be observed for ACT.\n",
    "\n",
    "This confirms the observations made earlier from the tables of highest/lowest participation rates and total/composite scores."
   ]
  },
  {
   "cell_type": "markdown",
   "metadata": {},
   "source": [
    "#### Define a custom function to subplot histograms\n",
    "\n",
    "We have data for two tests for two years. We only have composite (and not subtest scores) for the 2018 ACT. We should write a function that will take the names of 2+ columns and subplot histograms. While you can use pandas plotting or Seaborn here, matplotlib gives you greater control over all aspects of your plots.\n",
    "\n",
    "[Helpful Link for Plotting Multiple Figures](https://matplotlib.org/users/pyplot_tutorial.html#working-with-multiple-figures-and-axes)\n",
    "\n",
    "Here's some starter code:"
   ]
  },
  {
   "cell_type": "code",
   "execution_count": 63,
   "metadata": {},
   "outputs": [],
   "source": [
    "def subplot_histograms(dataframe, list_of_columns, list_of_titles, list_of_xlabels):\n",
    "    \n",
    "    nrows = int(np.ceil(len(list_of_columns)/2)) # Makes sure you have enough rows\n",
    "    \n",
    "    fig, ax = plt.subplots(nrows=nrows, ncols=2) # You'll want to specify your figsize\n",
    "    \n",
    "    fig.set_size_inches(10, 4)\n",
    "    \n",
    "    ax = ax.ravel() # Ravel turns a matrix into a vector, which is easier to iterate\n",
    "    \n",
    "    for i, column in enumerate(list_of_columns): # Gives us an index value to get into all our lists\n",
    "        \n",
    "        ax[i].hist(dataframe[column], bins=20) # feel free to add more settings\n",
    "        \n",
    "        # Set titles, labels, etc here for each subplot\n",
    "        ax[i].set_title(list_of_titles[i])\n",
    "        ax[i].set_xlabel(list_of_xlabels[i])"
   ]
  },
  {
   "cell_type": "markdown",
   "metadata": {},
   "source": [
    "#### Plot and interpret histograms \n",
    "For each of the following:\n",
    "- Participation rates for SAT & ACT\n",
    "- Math scores for SAT & ACT\n",
    "- Reading/verbal scores for SAT & ACT"
   ]
  },
  {
   "cell_type": "code",
   "execution_count": 64,
   "metadata": {
    "scrolled": false
   },
   "outputs": [
    {
     "data": {
      "image/png": "[encoded data removed]",
      "text/plain": [
       "<Figure size 720x288 with 2 Axes>"
      ]
     },
     "metadata": {
      "needs_background": "light"
     },
     "output_type": "display_data"
    }
   ],
   "source": [
    "df_participation = df_combined.loc[:, ['act_participation','sat_participation']]\n",
    "subplot_histograms(df_participation, \n",
    "                   ['sat_participation', 'act_participation'], \n",
    "                   ['SAT Participation 2017-18', 'ACT Participation 2017-18'], \n",
    "                   ['Percentage %', 'Percentage %'])"
   ]
  },
  {
   "cell_type": "markdown",
   "metadata": {},
   "source": [
    "For the period of 2017-2018, a significant number of states had close to 100% participation in ACT. A similar propportion of states had almost 0% participation in SAT. That would imply that many states that participated in ACT did not participate in SAT.\n"
   ]
  },
  {
   "cell_type": "code",
   "execution_count": 65,
   "metadata": {
    "scrolled": true
   },
   "outputs": [
    {
     "data": {
      "image/png": "[encoded data removed]",
      "text/plain": [
       "<Figure size 720x288 with 2 Axes>"
      ]
     },
     "metadata": {
      "needs_background": "light"
     },
     "output_type": "display_data"
    }
   ],
   "source": [
    "df_math = df_combined.loc[:, ['sat_math','act_math']]\n",
    "\n",
    "df_math['sat_math'] = df_math['sat_math'] / 800\n",
    "df_math['act_math'] = df_math['act_math'] / 36\n",
    "\n",
    "subplot_histograms(df_math, \n",
    "                   ['sat_math', 'act_math'], \n",
    "                   ['SAT Math 2017-18', 'ACT Math 2017-18'], \n",
    "                   ['Score', 'Score'])"
   ]
  },
  {
   "cell_type": "markdown",
   "metadata": {},
   "source": [
    "We normalized the Math score to facilitate better comparison between SAT and ACT. For both SAT and ACT scores, there seems to be 2 areas where the scores are concentrated and peaked. For SAT, the areas around o.65 and 0.78. For ACT, areas around .55 and 0.65.\n"
   ]
  },
  {
   "cell_type": "code",
   "execution_count": 66,
   "metadata": {
    "scrolled": false
   },
   "outputs": [
    {
     "data": {
      "image/png": "[encoded data removed]",
      "text/plain": [
       "<Figure size 720x288 with 2 Axes>"
      ]
     },
     "metadata": {
      "needs_background": "light"
     },
     "output_type": "display_data"
    }
   ],
   "source": [
    "df_reading = df_combined.loc[idx[:,2017], ['sat_ebrw','act_reading']]\n",
    "\n",
    "df_reading['sat_ebrw'] = df_reading['sat_ebrw'] / 800\n",
    "df_reading['act_reading'] = df_reading['act_reading'] / 36\n",
    "\n",
    "subplot_histograms(df_reading, \n",
    "                   ['sat_ebrw', 'act_reading'], \n",
    "                   ['SAT Evidence-Based Reading//Writing 2017-18', 'ACT Reading 2017-18'], \n",
    "                   ['Score', 'Score'])"
   ]
  },
  {
   "cell_type": "markdown",
   "metadata": {},
   "source": [
    "Like the Math score, we normalized the Reading score also. Again we can observe 2 areas where the scores are concentrated and peaked. For SAT, the areas around 0.68 and 0.78. For ACT, areas around 0.57 and 0.68."
   ]
  },
  {
   "cell_type": "markdown",
   "metadata": {},
   "source": [
    "#### Plot and interpret scatter plots\n",
    "\n",
    "For each of the following:\n",
    "- SAT vs. ACT math scores for 2017\n",
    "- SAT vs. ACT verbal/reading scores for 2017\n",
    "- SAT vs. ACT total/composite scores for 2017\n",
    "- Total scores for SAT 2017 vs. 2018\n",
    "- Composite scores for ACT 2017 vs. 2018\n",
    "\n",
    "Plot the two variables against each other using matplotlib or Seaborn\n",
    "\n",
    "Your plots should show:\n",
    "- Two clearly labeled axes\n",
    "- A proper title\n",
    "- Using colors and symbols that are clear and unmistakable\n",
    "\n",
    "**Feel free to write a custom function, and subplot if you'd like.** Functions save both time and space.\n"
   ]
  },
  {
   "cell_type": "code",
   "execution_count": 67,
   "metadata": {},
   "outputs": [],
   "source": [
    "def subplot_stripplot(dataframe, xticklabels, ylabel, title):\n",
    "\n",
    "    ax = sns.stripplot(data=dataframe, jitter=True)\n",
    "    \n",
    "    ax.set_title(title)\n",
    "    ax.set_xticklabels(xticklabels)\n",
    "    ax.set_ylabel(ylabel)\n",
    "     "
   ]
  },
  {
   "cell_type": "code",
   "execution_count": 68,
   "metadata": {},
   "outputs": [
    {
     "data": {
      "image/png": "[encoded data removed]",
      "text/plain": [
       "<Figure size 432x288 with 1 Axes>"
      ]
     },
     "metadata": {
      "needs_background": "light"
     },
     "output_type": "display_data"
    }
   ],
   "source": [
    "df_math = df_combined.loc[idx[:,2017], ['sat_math','act_math']]\n",
    "\n",
    "df_math['sat_math'] = df_math['sat_math'] / 800\n",
    "df_math['act_math'] = df_math['act_math'] / 36\n",
    "\n",
    "subplot_stripplot(df_math, ['SAT', 'ACT'], 'Normalized Score', 'SAT vs ACT Math 2017')\n",
    "\n"
   ]
  },
  {
   "cell_type": "markdown",
   "metadata": {},
   "source": []
  },
  {
   "cell_type": "code",
   "execution_count": 69,
   "metadata": {
    "scrolled": true
   },
   "outputs": [
    {
     "data": {
      "image/png": "[encoded data removed]",
      "text/plain": [
       "<Figure size 432x288 with 1 Axes>"
      ]
     },
     "metadata": {
      "needs_background": "light"
     },
     "output_type": "display_data"
    }
   ],
   "source": [
    "df_reading = df_combined.loc[idx[:,2017], ['sat_ebrw','act_reading']]\n",
    "\n",
    "df_reading['sat_ebrw'] = df_reading['sat_ebrw'] / 800\n",
    "df_reading['act_reading'] = df_reading['act_reading'] / 36\n",
    "\n",
    "subplot_stripplot(df_reading, ['SAT', 'ACT'], 'Normalized Score', 'SAT vs ACT Reading 2017')"
   ]
  },
  {
   "cell_type": "code",
   "execution_count": 70,
   "metadata": {
    "scrolled": true
   },
   "outputs": [
    {
     "data": {
      "image/png": "[encoded data removed]",
      "text/plain": [
       "<Figure size 432x288 with 1 Axes>"
      ]
     },
     "metadata": {
      "needs_background": "light"
     },
     "output_type": "display_data"
    }
   ],
   "source": [
    "df_total = df_combined.loc[idx[:,2017], ['sat_total','act_composite']]\n",
    "\n",
    "df_total['sat_total'] = df_total['sat_total'] / 1600\n",
    "df_total['act_composite'] = df_total['act_composite'] / 36\n",
    "\n",
    "subplot_stripplot(df_total, ['SAT', 'ACT'], 'Normalized Score', 'SAT vs ACT Total/Composite 2017')"
   ]
  },
  {
   "cell_type": "code",
   "execution_count": 71,
   "metadata": {},
   "outputs": [
    {
     "data": {
      "image/png": "[encoded data removed]",
      "text/plain": [
       "<Figure size 432x288 with 1 Axes>"
      ]
     },
     "metadata": {
      "needs_background": "light"
     },
     "output_type": "display_data"
    }
   ],
   "source": [
    "df_sat_2017 = df_combined.loc[idx[:, 2017], ['sat_total']].reset_index('year', drop=True)\n",
    "df_sat_2018 = df_combined.loc[idx[:, 2018], ['sat_total']].reset_index('year', drop=True)\n",
    "\n",
    "df_sat = df_sat_2017.merge(df_sat_2018, on='state')\n",
    "\n",
    "subplot_stripplot(df_sat, ['2017', '2018'], 'Total Score', 'SAT Total Score 2017 vs 2018')"
   ]
  },
  {
   "cell_type": "code",
   "execution_count": 72,
   "metadata": {
    "scrolled": true
   },
   "outputs": [
    {
     "data": {
      "image/png": "[encoded data removed]",
      "text/plain": [
       "<Figure size 432x288 with 1 Axes>"
      ]
     },
     "metadata": {
      "needs_background": "light"
     },
     "output_type": "display_data"
    }
   ],
   "source": [
    "df_act_2017 = df_combined.loc[idx[:, 2017], ['act_composite']].reset_index('year', drop=True)\n",
    "df_act_2018 = df_combined.loc[idx[:, 2018], ['act_composite']].reset_index('year', drop=True)\n",
    "\n",
    "df_act = df_act_2017.merge(df_act_2018, on='state')\n",
    "\n",
    "subplot_stripplot(df_sat, ['2017', '2018'], 'Composite Score', 'ACT Composite Score 2017 vs 2018')\n"
   ]
  },
  {
   "cell_type": "markdown",
   "metadata": {},
   "source": [
    "#### Plot and interpret boxplots\n",
    "\n",
    "For each numeric variable in the dataframe create a boxplot using Seaborn. Boxplots demonstrate central tendency and spread in variables. In a certain sense, these are somewhat redundant with histograms, but you may be better able to identify clear outliers or differences in IQR, etc.\n",
    "\n",
    "Multiple values can be plotted to a single boxplot as long as they are of the same relative scale (meaning they have similar min/max values).\n",
    "\n",
    "Each boxplot should:\n",
    "- Only include variables of a similar scale\n",
    "- Have clear labels for each variable\n",
    "- Have appropriate titles and labels"
   ]
  },
  {
   "cell_type": "code",
   "execution_count": 73,
   "metadata": {},
   "outputs": [],
   "source": [
    "def subplot_boxplot(dataframe, xticklabels, ylabel, title):\n",
    "\n",
    "    ax = sns.boxplot(data=dataframe)\n",
    "    \n",
    "    ax.set_title(title)\n",
    "    ax.set_xticklabels(xticklabels)\n",
    "    ax.set_ylabel(ylabel)"
   ]
  },
  {
   "cell_type": "code",
   "execution_count": 74,
   "metadata": {},
   "outputs": [
    {
     "data": {
      "image/png": "[encoded data removed]",
      "text/plain": [
       "<Figure size 432x288 with 1 Axes>"
      ]
     },
     "metadata": {
      "needs_background": "light"
     },
     "output_type": "display_data"
    }
   ],
   "source": [
    "df_sat = df_combined.loc[idx[:, [2017, 2018]], ['sat_ebrw', 'sat_math']]\n",
    "\n",
    "subplot_boxplot(df_sat, ['EBRW', 'Math'], 'Score', 'SAT Sub-Test Scores 2017-18')"
   ]
  },
  {
   "cell_type": "code",
   "execution_count": 75,
   "metadata": {},
   "outputs": [
    {
     "data": {
      "image/png": "[encoded data removed]",
      "text/plain": [
       "<Figure size 432x288 with 1 Axes>"
      ]
     },
     "metadata": {
      "needs_background": "light"
     },
     "output_type": "display_data"
    }
   ],
   "source": [
    "df_sat = df_combined.loc[idx[:, [2017, 2018]], ['sat_total']]\n",
    "\n",
    "subplot_boxplot(df_sat, ['Total'], 'Score', 'SAT Total Score 2017-18')"
   ]
  },
  {
   "cell_type": "code",
   "execution_count": 76,
   "metadata": {
    "scrolled": false
   },
   "outputs": [
    {
     "data": {
      "image/png": "[encoded data removed]",
      "text/plain": [
       "<Figure size 432x288 with 1 Axes>"
      ]
     },
     "metadata": {
      "needs_background": "light"
     },
     "output_type": "display_data"
    }
   ],
   "source": [
    "df_act = df_combined.loc[idx[:, [2017, 2018]], ['act_reading', 'act_english', 'act_math', 'act_science', 'act_composite']]\n",
    "\n",
    "subplot_boxplot(df_act, ['Reading', 'English', 'Math', 'Science', 'Composite'], 'Score', 'ACT Sub-Test/Composite Scores 2017-18')"
   ]
  },
  {
   "cell_type": "code",
   "execution_count": 77,
   "metadata": {
    "scrolled": true
   },
   "outputs": [
    {
     "data": {
      "image/png": "[encoded data removed]",
      "text/plain": [
       "<Figure size 432x288 with 1 Axes>"
      ]
     },
     "metadata": {
      "needs_background": "light"
     },
     "output_type": "display_data"
    }
   ],
   "source": [
    "df_participation = df_combined.loc[idx[:, [2017, 2018]], ['sat_participation', 'act_participation']]\n",
    "\n",
    "subplot_boxplot(df_participation, ['SAT', 'ACT'], 'Percentage %', 'SAT & ACT Participation Rate 2017-18')"
   ]
  },
  {
   "cell_type": "code",
   "execution_count": 78,
   "metadata": {},
   "outputs": [
    {
     "data": {
      "text/html": [
       "<div>\n",
       "<style scoped>\n",
       "    .dataframe tbody tr th:only-of-type {\n",
       "        vertical-align: middle;\n",
       "    }\n",
       "\n",
       "    .dataframe tbody tr th {\n",
       "        vertical-align: top;\n",
       "    }\n",
       "\n",
       "    .dataframe thead th {\n",
       "        text-align: right;\n",
       "    }\n",
       "</style>\n",
       "<table border=\"1\" class=\"dataframe\">\n",
       "  <thead>\n",
       "    <tr style=\"text-align: right;\">\n",
       "      <th></th>\n",
       "      <th>act_composite</th>\n",
       "      <th>act_english</th>\n",
       "      <th>act_math</th>\n",
       "      <th>act_participation</th>\n",
       "      <th>act_reading</th>\n",
       "      <th>act_science</th>\n",
       "      <th>sat_ebrw</th>\n",
       "      <th>sat_math</th>\n",
       "      <th>sat_participation</th>\n",
       "      <th>sat_total</th>\n",
       "    </tr>\n",
       "    <tr>\n",
       "      <th>year</th>\n",
       "      <th></th>\n",
       "      <th></th>\n",
       "      <th></th>\n",
       "      <th></th>\n",
       "      <th></th>\n",
       "      <th></th>\n",
       "      <th></th>\n",
       "      <th></th>\n",
       "      <th></th>\n",
       "      <th></th>\n",
       "    </tr>\n",
       "  </thead>\n",
       "  <tbody>\n",
       "    <tr>\n",
       "      <td>2018</td>\n",
       "      <td>23.9</td>\n",
       "      <td>23.9</td>\n",
       "      <td>23.2</td>\n",
       "      <td>30</td>\n",
       "      <td>24.4</td>\n",
       "      <td>23.5</td>\n",
       "      <td>519</td>\n",
       "      <td>506</td>\n",
       "      <td>100</td>\n",
       "      <td>1025</td>\n",
       "    </tr>\n",
       "    <tr>\n",
       "      <td>2017</td>\n",
       "      <td>20.8</td>\n",
       "      <td>20.1</td>\n",
       "      <td>20.3</td>\n",
       "      <td>100</td>\n",
       "      <td>21.2</td>\n",
       "      <td>20.9</td>\n",
       "      <td>606</td>\n",
       "      <td>595</td>\n",
       "      <td>11</td>\n",
       "      <td>1201</td>\n",
       "    </tr>\n",
       "  </tbody>\n",
       "</table>\n",
       "</div>"
      ],
      "text/plain": [
       "      act_composite  act_english  act_math  act_participation  act_reading  \\\n",
       "year                                                                         \n",
       "2018           23.9         23.9      23.2                 30         24.4   \n",
       "2017           20.8         20.1      20.3                100         21.2   \n",
       "\n",
       "      act_science  sat_ebrw  sat_math  sat_participation  sat_total  \n",
       "year                                                                 \n",
       "2018         23.5       519       506                100       1025  \n",
       "2017         20.9       606       595                 11       1201  "
      ]
     },
     "execution_count": 78,
     "metadata": {},
     "output_type": "execute_result"
    }
   ],
   "source": [
    "df_combined.loc[idx['Colorado']]"
   ]
  },
  {
   "cell_type": "markdown",
   "metadata": {},
   "source": [
    "#### Feel free to do additional plots below\n",
    "*(do research and choose your own chart types & variables)*\n",
    "\n",
    "Are there any additional trends or relationships you haven't explored? Was there something interesting you saw that you'd like to dive further into? It's likely that there are a few more plots you might want to generate to support your narrative and recommendations that you are building toward. **As always, make sure you're interpreting your plots as you go**."
   ]
  },
  {
   "cell_type": "code",
   "execution_count": 79,
   "metadata": {
    "scrolled": true
   },
   "outputs": [
    {
     "data": {
      "text/html": [
       "<div>\n",
       "<style scoped>\n",
       "    .dataframe tbody tr th:only-of-type {\n",
       "        vertical-align: middle;\n",
       "    }\n",
       "\n",
       "    .dataframe tbody tr th {\n",
       "        vertical-align: top;\n",
       "    }\n",
       "\n",
       "    .dataframe thead th {\n",
       "        text-align: right;\n",
       "    }\n",
       "</style>\n",
       "<table border=\"1\" class=\"dataframe\">\n",
       "  <thead>\n",
       "    <tr style=\"text-align: right;\">\n",
       "      <th></th>\n",
       "      <th>2017</th>\n",
       "      <th>2018</th>\n",
       "      <th>diff</th>\n",
       "    </tr>\n",
       "    <tr>\n",
       "      <th>state</th>\n",
       "      <th></th>\n",
       "      <th></th>\n",
       "      <th></th>\n",
       "    </tr>\n",
       "  </thead>\n",
       "  <tbody>\n",
       "    <tr>\n",
       "      <td>Illinois</td>\n",
       "      <td>9</td>\n",
       "      <td>99</td>\n",
       "      <td>90</td>\n",
       "    </tr>\n",
       "    <tr>\n",
       "      <td>Colorado</td>\n",
       "      <td>11</td>\n",
       "      <td>100</td>\n",
       "      <td>89</td>\n",
       "    </tr>\n",
       "    <tr>\n",
       "      <td>Rhode Island</td>\n",
       "      <td>71</td>\n",
       "      <td>97</td>\n",
       "      <td>26</td>\n",
       "    </tr>\n",
       "    <tr>\n",
       "      <td>West Virginia</td>\n",
       "      <td>14</td>\n",
       "      <td>28</td>\n",
       "      <td>14</td>\n",
       "    </tr>\n",
       "    <tr>\n",
       "      <td>New Jersey</td>\n",
       "      <td>70</td>\n",
       "      <td>82</td>\n",
       "      <td>12</td>\n",
       "    </tr>\n",
       "  </tbody>\n",
       "</table>\n",
       "</div>"
      ],
      "text/plain": [
       "               2017  2018  diff\n",
       "state                          \n",
       "Illinois          9    99    90\n",
       "Colorado         11   100    89\n",
       "Rhode Island     71    97    26\n",
       "West Virginia    14    28    14\n",
       "New Jersey       70    82    12"
      ]
     },
     "execution_count": 79,
     "metadata": {},
     "output_type": "execute_result"
    }
   ],
   "source": [
    "df_participation_2017 = df_combined.loc[idx[:, [2017]], ['sat_participation']]\n",
    "df_participation_2018 = df_combined.loc[idx[:, [2018]], ['sat_participation']]\n",
    "\n",
    "df_participation = df_participation_2017.merge(df_participation_2018, on='state')\n",
    "df_participation.columns = ['2017', '2018']\n",
    "\n",
    "df_participation['diff'] = df_participation['2018'] - df_participation['2017']\n",
    "\n",
    "df_participation.sort_values('diff', ascending=False, inplace=True)\n",
    "\n",
    "df_participation.head(5)"
   ]
  },
  {
   "cell_type": "markdown",
   "metadata": {},
   "source": [
    "Of the top 5 states with the largest participation rate increase from 2017 to 2018, West Virginia presents the most potential and upside since at 28% in 2018 there is much room for improvement.  The top 3 states are at or almost at 100%,  additional funding will render minial impact on rates."
   ]
  },
  {
   "cell_type": "code",
   "execution_count": 80,
   "metadata": {
    "scrolled": true
   },
   "outputs": [
    {
     "data": {
      "text/html": [
       "<div>\n",
       "<style scoped>\n",
       "    .dataframe tbody tr th:only-of-type {\n",
       "        vertical-align: middle;\n",
       "    }\n",
       "\n",
       "    .dataframe tbody tr th {\n",
       "        vertical-align: top;\n",
       "    }\n",
       "\n",
       "    .dataframe thead th {\n",
       "        text-align: right;\n",
       "    }\n",
       "</style>\n",
       "<table border=\"1\" class=\"dataframe\">\n",
       "  <thead>\n",
       "    <tr style=\"text-align: right;\">\n",
       "      <th></th>\n",
       "      <th>2017</th>\n",
       "      <th>2018</th>\n",
       "      <th>diff</th>\n",
       "    </tr>\n",
       "    <tr>\n",
       "      <th>state</th>\n",
       "      <th></th>\n",
       "      <th></th>\n",
       "      <th></th>\n",
       "    </tr>\n",
       "  </thead>\n",
       "  <tbody>\n",
       "    <tr>\n",
       "      <td>Wyoming</td>\n",
       "      <td>3</td>\n",
       "      <td>3</td>\n",
       "      <td>0</td>\n",
       "    </tr>\n",
       "    <tr>\n",
       "      <td>Arizona</td>\n",
       "      <td>30</td>\n",
       "      <td>29</td>\n",
       "      <td>-1</td>\n",
       "    </tr>\n",
       "    <tr>\n",
       "      <td>Nevada</td>\n",
       "      <td>26</td>\n",
       "      <td>23</td>\n",
       "      <td>-3</td>\n",
       "    </tr>\n",
       "    <tr>\n",
       "      <td>District of Columbia</td>\n",
       "      <td>100</td>\n",
       "      <td>92</td>\n",
       "      <td>-8</td>\n",
       "    </tr>\n",
       "    <tr>\n",
       "      <td>Florida</td>\n",
       "      <td>83</td>\n",
       "      <td>56</td>\n",
       "      <td>-27</td>\n",
       "    </tr>\n",
       "  </tbody>\n",
       "</table>\n",
       "</div>"
      ],
      "text/plain": [
       "                      2017  2018  diff\n",
       "state                                 \n",
       "Wyoming                  3     3     0\n",
       "Arizona                 30    29    -1\n",
       "Nevada                  26    23    -3\n",
       "District of Columbia   100    92    -8\n",
       "Florida                 83    56   -27"
      ]
     },
     "execution_count": 80,
     "metadata": {},
     "output_type": "execute_result"
    }
   ],
   "source": [
    "df_participation.tail(5)"
   ]
  },
  {
   "cell_type": "markdown",
   "metadata": {},
   "source": [
    "Of the top 5 states with the largest participation rate decrease from 2017 to 2018, Florida lost 27 percentage points from a high rate of 83%.  It would be imperative to investigate the reason behind the decline, and put a stop to it."
   ]
  },
  {
   "cell_type": "code",
   "execution_count": 81,
   "metadata": {},
   "outputs": [
    {
     "ename": "NameError",
     "evalue": "name 'df_cm' is not defined",
     "output_type": "error",
     "traceback": [
      "\u001b[1;31m---------------------------------------------------------------------------\u001b[0m",
      "\u001b[1;31mNameError\u001b[0m                                 Traceback (most recent call last)",
      "\u001b[1;32m<ipython-input-81-9fa207c35d56>\u001b[0m in \u001b[0;36m<module>\u001b[1;34m\u001b[0m\n\u001b[1;32m----> 1\u001b[1;33m \u001b[0mdf_cm\u001b[0m\u001b[1;33m\u001b[0m\u001b[1;33m\u001b[0m\u001b[0m\n\u001b[0m",
      "\u001b[1;31mNameError\u001b[0m: name 'df_cm' is not defined"
     ]
    }
   ],
   "source": [
    "df_cm"
   ]
  },
  {
   "cell_type": "markdown",
   "metadata": {},
   "source": [
    "> <font size = 3 color = red>df_cm?</font>"
   ]
  },
  {
   "cell_type": "markdown",
   "metadata": {},
   "source": [
    "#### (Optional): Using Tableau, create a choropleth map for each variable using a map of the US. \n",
    "\n",
    "Save this plot as an image file in an images directory, provide a relative path, and insert the image into notebook in markdown."
   ]
  },
  {
   "cell_type": "markdown",
   "metadata": {},
   "source": [
    "![diglett](../data/sat_total.png)"
   ]
  },
  {
   "cell_type": "markdown",
   "metadata": {},
   "source": [
    "## Descriptive and Inferential Statistics"
   ]
  },
  {
   "cell_type": "markdown",
   "metadata": {},
   "source": [
    "#### Summarizing Distributions\n",
    "\n",
    "Above, we used pandas `describe` to provide quick summary statistics of our numeric columns. We also demonstrated many visual relationships.\n",
    "\n",
    "As data scientists, having a complete understanding of data is imperative prior to modeling.\n",
    "\n",
    "While we will continue to build our analytic tools, we know that measures of *central tendency*, *spread*, and *shape/skewness* provide a quick summary of distributions.\n",
    "\n",
    "For each variable in your data, summarize the underlying distributions (in words & statistics)\n",
    " - Be thorough in your verbal description of these distributions.\n",
    " - Be sure to back up these summaries with statistics."
   ]
  },
  {
   "cell_type": "code",
   "execution_count": 82,
   "metadata": {
    "scrolled": true
   },
   "outputs": [
    {
     "data": {
      "image/png": "[encoded data removed]",
      "text/plain": [
       "<Figure size 432x288 with 1 Axes>"
      ]
     },
     "metadata": {
      "needs_background": "light"
     },
     "output_type": "display_data"
    }
   ],
   "source": [
    "def plot_distributions(dataframe, list_of_cols, xlabel, ylabel):\n",
    "\n",
    "    for column in list_of_cols:\n",
    "        sns.distplot(dataframe[column], hist = False, kde = True,\n",
    "                     kde_kws = {'linewidth': 3},\n",
    "                     label = column)\n",
    "\n",
    "    # Plot formatting\n",
    "    plt.legend(prop={'size': 10})\n",
    "    plt.title('')\n",
    "    plt.xlabel(xlabel)\n",
    "    plt.ylabel(ylabel)\n",
    "    \n",
    "plot_distributions(df_combined, ['act_composite', 'act_english', 'act_math', 'act_science', 'act_reading'], 'Score', 'Frequency')"
   ]
  },
  {
   "cell_type": "code",
   "execution_count": 83,
   "metadata": {
    "scrolled": true
   },
   "outputs": [
    {
     "data": {
      "image/png": "[encoded data removed]",
      "text/plain": [
       "<Figure size 432x288 with 1 Axes>"
      ]
     },
     "metadata": {
      "needs_background": "light"
     },
     "output_type": "display_data"
    }
   ],
   "source": [
    "plot_distributions(df_combined, ['sat_ebrw', 'sat_math'], 'Score', 'Frequency')"
   ]
  },
  {
   "cell_type": "code",
   "execution_count": 84,
   "metadata": {},
   "outputs": [
    {
     "data": {
      "image/png": "[encoded data removed]",
      "text/plain": [
       "<Figure size 432x288 with 1 Axes>"
      ]
     },
     "metadata": {
      "needs_background": "light"
     },
     "output_type": "display_data"
    }
   ],
   "source": [
    "plot_distributions(df_combined, ['sat_total'], 'Score', 'Frequency')"
   ]
  },
  {
   "cell_type": "code",
   "execution_count": 85,
   "metadata": {
    "scrolled": true
   },
   "outputs": [
    {
     "data": {
      "image/png": "[encoded data removed]",
      "text/plain": [
       "<Figure size 432x288 with 1 Axes>"
      ]
     },
     "metadata": {
      "needs_background": "light"
     },
     "output_type": "display_data"
    }
   ],
   "source": [
    "plot_distributions(df_combined, ['sat_participation', 'act_participation'], 'Percentage %', 'Frequency')"
   ]
  },
  {
   "cell_type": "markdown",
   "metadata": {},
   "source": [
    "Both SAT and ACT distribution plots in scores and participation rates demostrate 2 peaks. "
   ]
  },
  {
   "cell_type": "markdown",
   "metadata": {},
   "source": [
    "#### We generally assuming that data we sample from a population will be normally distributed. Do we observe this trend?"
   ]
  },
  {
   "cell_type": "markdown",
   "metadata": {},
   "source": [
    "No, this trend does not present itself in the SAT/ACT dataset. "
   ]
  },
  {
   "cell_type": "markdown",
   "metadata": {},
   "source": [
    "Does This Assumption Hold for:\n",
    "    - Math\n",
    "    - Reading\n",
    "    - Rates\n",
    "Explain your answers for each distribution and how you think this will affect estimates made from these data."
   ]
  },
  {
   "cell_type": "code",
   "execution_count": 86,
   "metadata": {},
   "outputs": [
    {
     "data": {
      "image/png": "[encoded data removed]",
      "text/plain": [
       "<Figure size 432x288 with 1 Axes>"
      ]
     },
     "metadata": {
      "needs_background": "light"
     },
     "output_type": "display_data"
    }
   ],
   "source": [
    "df_math_reading = df_combined.loc[ :, ['sat_math', 'sat_ebrw', 'act_math', 'act_science']]\n",
    "\n",
    "# Normalized scores\n",
    "df_math_reading['sat_math'] = df_math_reading['sat_math'] / 800\n",
    "df_math_reading['sat_ebrw'] = df_math_reading['sat_ebrw'] / 800\n",
    "df_math_reading['act_math'] = df_math_reading['act_math'] / 36\n",
    "df_math_reading['act_science'] = df_math_reading['act_science'] / 36\n",
    "\n",
    "plot_distributions(df_math_reading, ['sat_math', 'sat_ebrw', 'act_math', 'act_science'], 'Normalized Score', 'Frequency')"
   ]
  },
  {
   "cell_type": "markdown",
   "metadata": {},
   "source": [
    "The distribution of sample means for Math and Reading scores do not appear to be normally distribubted."
   ]
  },
  {
   "cell_type": "code",
   "execution_count": 87,
   "metadata": {},
   "outputs": [
    {
     "data": {
      "image/png": "[encoded data removed]",
      "text/plain": [
       "<Figure size 432x288 with 1 Axes>"
      ]
     },
     "metadata": {
      "needs_background": "light"
     },
     "output_type": "display_data"
    }
   ],
   "source": [
    "plot_distributions(df_combined, ['act_participation', 'sat_participation'], 'Percentage %', 'Frequency')"
   ]
  },
  {
   "cell_type": "markdown",
   "metadata": {},
   "source": [
    "The distribution of sample means for participation rates do not appear to be normally distribubted."
   ]
  },
  {
   "cell_type": "markdown",
   "metadata": {},
   "source": [
    "#### Estimate Limits of Data\n",
    "\n",
    "Suppose we only seek to understand the relationship between SAT and ACT participation rates in 2017. \n",
    "\n",
    "##### Does it make sense to conduct statistical inference given these data specifically? \n",
    "\n",
    "Why or why not?\n",
    "\n",
    "*(think about granularity, aggregation, the relationships between populations size & rates...consider the actually populations these data describe in answering this question)*"
   ]
  },
  {
   "cell_type": "markdown",
   "metadata": {},
   "source": [
    "The sample means used where from specific states and not randomly selected from the entire population. Given the problem with the dataset, statistical inference will not be accurate."
   ]
  },
  {
   "cell_type": "markdown",
   "metadata": {},
   "source": [
    "##### Is it appropriate to compare *these* specific SAT and ACT math scores? \n",
    "\n",
    "Why or why not?"
   ]
  },
  {
   "cell_type": "markdown",
   "metadata": {},
   "source": [
    "The same problem exist for Math scores. The sample data is collected from a specific geographical region, not randomly."
   ]
  },
  {
   "cell_type": "markdown",
   "metadata": {},
   "source": [
    "#### Statistical Evaluation of Distributions \n",
    "\n",
    "**If you feel it's appropriate**, using methods we discussed in class, run hypothesis tests to compare variables of interest in our dataset. "
   ]
  },
  {
   "cell_type": "code",
   "execution_count": null,
   "metadata": {},
   "outputs": [],
   "source": [
    "Not approporiate."
   ]
  },
  {
   "cell_type": "markdown",
   "metadata": {},
   "source": [
    "## Outside Research"
   ]
  },
  {
   "cell_type": "markdown",
   "metadata": {},
   "source": [
    "Based upon your observations, choose **three** states that demonstrate interesting trends in their SAT and/or ACT participation rates. Spend some time doing outside research on state policies that might influence these rates, and summarize your findings below. **Feel free to go back and create new plots that highlight these states of interest**. If you bring in any outside tables or charts, make sure you are explicit about having borrowed them. If you quote any text, make sure that it renders as being quoted. (Make sure that you cite your sources -- check with you local instructor for citation preferences)."
   ]
  },
  {
   "cell_type": "markdown",
   "metadata": {},
   "source": [
    "Florida, West Virginia and Georgia."
   ]
  },
  {
   "cell_type": "markdown",
   "metadata": {},
   "source": [
    "## Conclusions and Recommendations"
   ]
  },
  {
   "cell_type": "markdown",
   "metadata": {},
   "source": [
    "Based on your exploration of the data, what are you key takeaways and recommendations? Choose one state with a lower participation rate and provide a suggestion for how the College Board might increase participation amongst graduating seniors in this state. Are there additional data you desire that would better inform your investigations?"
   ]
  },
  {
   "cell_type": "markdown",
   "metadata": {},
   "source": [
    "- Additional funding can be used to extend fee waivers to low-income students\n",
    "- Identify eligible students and giving them the fee waiver benefits\n",
    "- Increase access to free test preparation material and counseling\n",
    "- Allow for more convenience to students taking SAT i.e. [SAT School Day](https://collegereadiness.collegeboard.org/sat/k12-educators/sat-school-day/about)"
   ]
  }
 ],
 "metadata": {
  "anaconda-cloud": {},
  "kernelspec": {
   "display_name": "Python 3",
   "language": "python",
   "name": "python3"
  },
  "language_info": {
   "codemirror_mode": {
    "name": "ipython",
    "version": 3
   },
   "file_extension": ".py",
   "mimetype": "text/x-python",
   "name": "python",
   "nbconvert_exporter": "python",
   "pygments_lexer": "ipython3",
   "version": "3.7.4"
  }
 },
 "nbformat": 4,
 "nbformat_minor": 2
}

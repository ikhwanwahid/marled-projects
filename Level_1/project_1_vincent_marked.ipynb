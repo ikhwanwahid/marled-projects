{
 "cells": [
  {
   "cell_type": "markdown",
   "metadata": {},
   "source": [
    "# Project 1: SAT & ACT Analysis"
   ]
  },
  {
   "cell_type": "markdown",
   "metadata": {},
   "source": [
    "The first markdown cell in a notebook is a great place to provide an overview of your entire project. You will likely want to at least state your\n",
    "\n",
    "## Problem Statement"
   ]
  },
  {
   "cell_type": "markdown",
   "metadata": {},
   "source": [
    "To boost the state participation rate and increase the useage of SAT examination by understanding the various correlationships between participation rates, subject scoring and other intangible factors."
   ]
  },
  {
   "cell_type": "markdown",
   "metadata": {},
   "source": [
    "## Executive Summary\n",
    "\n",
    "If you want to, it's great to use relative links to direct your audience to various sections of a notebook. **HERE'S A DEMONSTRATION WITH THE CURRENT SECTION HEADERS**:\n",
    "\n",
    "### Contents:\n",
    "- [2017 Data Import & Cleaning](#Data-Import-and-Cleaning)\n",
    "- [2018 Data Import and Cleaning](#2018-Data-Import-and-Cleaning)\n",
    "- [Exploratory Data Analysis](#Exploratory-Data-Analysis)\n",
    "- [Data Visualization](#Visualize-the-data)\n",
    "- [Descriptive and Inferential Statistics](#Descriptive-and-Inferential-Statistics)\n",
    "- [Outside Research](#Outside-Research)\n",
    "- [Conclusions and Recommendations](#Conclusions-and-Recommendations)"
   ]
  },
  {
   "cell_type": "markdown",
   "metadata": {},
   "source": [
    "**If you combine your problem statement, executive summary, data dictionary, and conclusions/recommendations, you have an amazing README.md file that quickly aligns your audience to the contents of your project.** Don't forget to cite your data sources!"
   ]
  },
  {
   "cell_type": "markdown",
   "metadata": {},
   "source": [
    "*All libraries used should be added here*"
   ]
  },
  {
   "cell_type": "code",
   "execution_count": 37,
   "metadata": {},
   "outputs": [],
   "source": [
    "import seaborn as sns\n",
    "import scipy as sc                    ### What you're doing here is importing the scipy module under the alias 'sc', so\n",
    "import numpy as np                    ### you can call the module without typing out 'scipy' in its entirety. I've never\n",
    "import matplotlib.pyplot as plt       ### seen someone use 'sc' as an alias for scipy, most examples use 'sp'.\n",
    "import random as ran\n",
    "import pandas as pd\n",
    "#Imports: Imports all my libraries used"
   ]
  },
  {
   "cell_type": "markdown",
   "metadata": {},
   "source": [
    "## 2017 Data Import and Cleaning"
   ]
  },
  {
   "cell_type": "markdown",
   "metadata": {},
   "source": [
    "#### 1. Read In SAT & ACT  Data\n",
    "\n",
    "Read in the `sat_2017.csv` and `act_2017.csv` files and assign them to appropriately named pandas dataframes."
   ]
  },
  {
   "cell_type": "code",
   "execution_count": 38,
   "metadata": {},
   "outputs": [],
   "source": [
    "sat_2017 = pd.read_csv('../data/sat_2017.csv')\n",
    "sat_2018 = pd.read_csv('../data/sat_2018.csv')\n",
    "act_2017 = pd.read_csv('../data/act_2017.csv')\n",
    "act_2018 = pd.read_csv('../data/act_2018.csv')\n",
    "act_2018_updated = pd.read_csv('../data/act_2018_updated.csv')\n",
    "#Reads everything"
   ]
  },
  {
   "cell_type": "markdown",
   "metadata": {},
   "source": [
    "#### 2. Display Data\n",
    "\n",
    "Print the first 10 rows of each dataframe to your jupyter notebook"
   ]
  },
  {
   "cell_type": "code",
   "execution_count": 39,
   "metadata": {},
   "outputs": [
    {
     "data": {
      "text/html": [
       "<div>\n",
       "<style scoped>\n",
       "    .dataframe tbody tr th:only-of-type {\n",
       "        vertical-align: middle;\n",
       "    }\n",
       "\n",
       "    .dataframe tbody tr th {\n",
       "        vertical-align: top;\n",
       "    }\n",
       "\n",
       "    .dataframe thead th {\n",
       "        text-align: right;\n",
       "    }\n",
       "</style>\n",
       "<table border=\"1\" class=\"dataframe\">\n",
       "  <thead>\n",
       "    <tr style=\"text-align: right;\">\n",
       "      <th></th>\n",
       "      <th>State</th>\n",
       "      <th>Participation</th>\n",
       "      <th>English</th>\n",
       "      <th>Math</th>\n",
       "      <th>Reading</th>\n",
       "      <th>Science</th>\n",
       "      <th>Composite</th>\n",
       "    </tr>\n",
       "  </thead>\n",
       "  <tbody>\n",
       "    <tr>\n",
       "      <th>0</th>\n",
       "      <td>National</td>\n",
       "      <td>60%</td>\n",
       "      <td>20.3</td>\n",
       "      <td>20.7</td>\n",
       "      <td>21.4</td>\n",
       "      <td>21.0</td>\n",
       "      <td>21.0</td>\n",
       "    </tr>\n",
       "    <tr>\n",
       "      <th>1</th>\n",
       "      <td>Alabama</td>\n",
       "      <td>100%</td>\n",
       "      <td>18.9</td>\n",
       "      <td>18.4</td>\n",
       "      <td>19.7</td>\n",
       "      <td>19.4</td>\n",
       "      <td>19.2</td>\n",
       "    </tr>\n",
       "    <tr>\n",
       "      <th>2</th>\n",
       "      <td>Alaska</td>\n",
       "      <td>65%</td>\n",
       "      <td>18.7</td>\n",
       "      <td>19.8</td>\n",
       "      <td>20.4</td>\n",
       "      <td>19.9</td>\n",
       "      <td>19.8</td>\n",
       "    </tr>\n",
       "    <tr>\n",
       "      <th>3</th>\n",
       "      <td>Arizona</td>\n",
       "      <td>62%</td>\n",
       "      <td>18.6</td>\n",
       "      <td>19.8</td>\n",
       "      <td>20.1</td>\n",
       "      <td>19.8</td>\n",
       "      <td>19.7</td>\n",
       "    </tr>\n",
       "    <tr>\n",
       "      <th>4</th>\n",
       "      <td>Arkansas</td>\n",
       "      <td>100%</td>\n",
       "      <td>18.9</td>\n",
       "      <td>19.0</td>\n",
       "      <td>19.7</td>\n",
       "      <td>19.5</td>\n",
       "      <td>19.4</td>\n",
       "    </tr>\n",
       "    <tr>\n",
       "      <th>5</th>\n",
       "      <td>California</td>\n",
       "      <td>31%</td>\n",
       "      <td>22.5</td>\n",
       "      <td>22.7</td>\n",
       "      <td>23.1</td>\n",
       "      <td>22.2</td>\n",
       "      <td>22.8</td>\n",
       "    </tr>\n",
       "    <tr>\n",
       "      <th>6</th>\n",
       "      <td>Colorado</td>\n",
       "      <td>100%</td>\n",
       "      <td>20.1</td>\n",
       "      <td>20.3</td>\n",
       "      <td>21.2</td>\n",
       "      <td>20.9</td>\n",
       "      <td>20.8</td>\n",
       "    </tr>\n",
       "    <tr>\n",
       "      <th>7</th>\n",
       "      <td>Connecticut</td>\n",
       "      <td>31%</td>\n",
       "      <td>25.5</td>\n",
       "      <td>24.6</td>\n",
       "      <td>25.6</td>\n",
       "      <td>24.6</td>\n",
       "      <td>25.2</td>\n",
       "    </tr>\n",
       "    <tr>\n",
       "      <th>8</th>\n",
       "      <td>Delaware</td>\n",
       "      <td>18%</td>\n",
       "      <td>24.1</td>\n",
       "      <td>23.4</td>\n",
       "      <td>24.8</td>\n",
       "      <td>23.6</td>\n",
       "      <td>24.1</td>\n",
       "    </tr>\n",
       "    <tr>\n",
       "      <th>9</th>\n",
       "      <td>District of Columbia</td>\n",
       "      <td>32%</td>\n",
       "      <td>24.4</td>\n",
       "      <td>23.5</td>\n",
       "      <td>24.9</td>\n",
       "      <td>23.5</td>\n",
       "      <td>24.2</td>\n",
       "    </tr>\n",
       "  </tbody>\n",
       "</table>\n",
       "</div>"
      ],
      "text/plain": [
       "                  State Participation  English  Math  Reading  Science  \\\n",
       "0              National           60%     20.3  20.7     21.4     21.0   \n",
       "1               Alabama          100%     18.9  18.4     19.7     19.4   \n",
       "2                Alaska           65%     18.7  19.8     20.4     19.9   \n",
       "3               Arizona           62%     18.6  19.8     20.1     19.8   \n",
       "4              Arkansas          100%     18.9  19.0     19.7     19.5   \n",
       "5            California           31%     22.5  22.7     23.1     22.2   \n",
       "6              Colorado          100%     20.1  20.3     21.2     20.9   \n",
       "7           Connecticut           31%     25.5  24.6     25.6     24.6   \n",
       "8              Delaware           18%     24.1  23.4     24.8     23.6   \n",
       "9  District of Columbia           32%     24.4  23.5     24.9     23.5   \n",
       "\n",
       "  Composite  \n",
       "0      21.0  \n",
       "1      19.2  \n",
       "2      19.8  \n",
       "3      19.7  \n",
       "4      19.4  \n",
       "5      22.8  \n",
       "6      20.8  \n",
       "7      25.2  \n",
       "8      24.1  \n",
       "9      24.2  "
      ]
     },
     "execution_count": 39,
     "metadata": {},
     "output_type": "execute_result"
    }
   ],
   "source": [
    "sat_2017.head(10)\n",
    "sat_2018.head(10)\n",
    "act_2018.head(10)\n",
    "act_2017.head(10)\n",
    "#Code: This prints out the first 10 rows of each dataframe"
   ]
  },
  {
   "cell_type": "markdown",
   "metadata": {},
   "source": [
    "#### 3. Verbally Describe Data\n",
    "\n",
    "Take your time looking through the data and thoroughly describe the data in the markdown cell below. "
   ]
  },
  {
   "cell_type": "markdown",
   "metadata": {},
   "source": [
    "Answer: The SAT gives the participation rates and the composite scores in each state, with some states having a 100% participation rate. The ACT gives the the participation rates and the individual component scores in each state, with some states having a 100% participation rate.\n",
    "\n"
   ]
  },
  {
   "cell_type": "markdown",
   "metadata": {},
   "source": [
    "#### 4a. Does the data look complete? "
   ]
  },
  {
   "cell_type": "markdown",
   "metadata": {},
   "source": [
    "Answer: Yes, as every score and participation rate is filled for the sat and act for each state"
   ]
  },
  {
   "cell_type": "code",
   "execution_count": 40,
   "metadata": {},
   "outputs": [],
   "source": [
    "### might want to use df.isnull().sum() to confirm"
   ]
  },
  {
   "cell_type": "markdown",
   "metadata": {},
   "source": [
    "#### 4b. Are there any obvious issues with the observations?\n",
    "\n",
    "**What is the minimum *possible* value for each test/subtest? What is the maximum *possible* value?**\n",
    "\n",
    "Consider comparing any questionable values to the sources of your data:\n",
    "- [SAT](https://blog.collegevine.com/here-are-the-average-sat-scores-by-state/)\n",
    "- [ACT](https://blog.prepscholar.com/act-scores-by-state-averages-highs-and-lows)"
   ]
  },
  {
   "cell_type": "markdown",
   "metadata": {},
   "source": [
    "Answer: \n",
    "\n",
    "ACT:\n",
    "\n",
    "Maryland Science is wrong\n",
    "\n",
    "Wyoming: Composite is wrong\n",
    "\n",
    "SAT:\n",
    "\n",
    "Maryland Math is wrong\n",
    "\n",
    "\n",
    "\n",
    "The minimum/maximum possible SAT value is 400/1600, while the minimum/maximum possible ACT value is 1/36\n",
    "\n",
    "As all data points fall within this range, there are no questionable values.\n",
    "\n"
   ]
  },
  {
   "cell_type": "code",
   "execution_count": 41,
   "metadata": {},
   "outputs": [],
   "source": [
    "### I'm not sure if you manually checked each row, but a scalable solution would be to simply check the math that \n",
    "### they are doing. For example,\n",
    "\n",
    "### cond = ~((df[\"Total\"] - 1 ) <= (df[\"Math\"] + df[\"Evidence-Based Reading and Writing\"])) & ((df[\"Math\"] + df[\"Evidence-Based Reading and Writing\"]) <= (df[\"Total\"] + 1))\n",
    "### df[cond]\n",
    "\n",
    "### cond is a list of booleans (True/False) which will immediately extract the rows where the math doesn't add up. \n",
    "### The +1 and -1 are necessary since they already do some rounding in the presented dataset."
   ]
  },
  {
   "cell_type": "markdown",
   "metadata": {},
   "source": [
    "#### 4c. Fix any errors you identified\n",
    "\n",
    "**The data is available** so there's no need to guess or calculate anything. If you didn't find any errors, continue to the next step."
   ]
  },
  {
   "cell_type": "code",
   "execution_count": 42,
   "metadata": {},
   "outputs": [],
   "source": [
    "sat_2017.iat[20,3]  = 524             ### Good\n",
    "act_2017.iat[21,5]  = 23.2\n",
    "act_2017.iat[21,6]  = 23.6\n",
    "act_2017.iat[51,6]  = 20.2\n",
    "# Taking data from https://blog.collegevine.com/here-are-the-average-sat-scores-by-state/ SAT\n",
    "# Taking data from https://blog.prepscholar.com/act-scores-by-state-averages-highs-and-lows ACT\n"
   ]
  },
  {
   "cell_type": "markdown",
   "metadata": {},
   "source": [
    "#### 5. What are your data types? \n",
    "Display the data types of each feature. "
   ]
  },
  {
   "cell_type": "code",
   "execution_count": 43,
   "metadata": {},
   "outputs": [
    {
     "name": "stdout",
     "output_type": "stream",
     "text": [
      "State                                 object\n",
      "Participation                         object\n",
      "Evidence-Based Reading and Writing     int64\n",
      "Math                                   int64\n",
      "Total                                  int64\n",
      "dtype: object\n",
      "State             object\n",
      "Participation     object\n",
      "English          float64\n",
      "Math             float64\n",
      "Reading          float64\n",
      "Science          float64\n",
      "Composite         object\n",
      "dtype: object\n"
     ]
    }
   ],
   "source": [
    "print(sat_2017.dtypes)\n",
    "print(act_2017.dtypes)\n"
   ]
  },
  {
   "cell_type": "markdown",
   "metadata": {},
   "source": [
    "What did you learn?\n",
    "- Do any of them seem odd?  \n",
    "- Which ones are not as they should be?  "
   ]
  },
  {
   "cell_type": "markdown",
   "metadata": {},
   "source": [
    "Answer: \n",
    "\n",
    "SAT: \n",
    "\n",
    "The Participation should be float while it is a object.\n",
    "\n",
    "ACT:\n",
    "\n",
    "The Participation should be float while it is a object.\n",
    "\n",
    "The Composite should be a float while it is a object."
   ]
  },
  {
   "cell_type": "markdown",
   "metadata": {},
   "source": [
    "#### 6. Fix Incorrect Data Types\n",
    "Based on what you discovered above, use appropriate methods to re-type incorrectly typed data.\n",
    "- Define a function that will allow you to convert participation rates to an appropriate numeric type. Use `map` or `apply` to change these columns in each dataframe."
   ]
  },
  {
   "cell_type": "code",
   "execution_count": 44,
   "metadata": {},
   "outputs": [],
   "source": [
    "def change_columntype(data_frame, col_type = float, col = 'Participation'): ### Good\n",
    "    data_frame[col] = data_frame[col].str.replace('%', '')\n",
    "    data_frame[col] = data_frame[col].astype(col_type)\n",
    "    "
   ]
  },
  {
   "cell_type": "code",
   "execution_count": 45,
   "metadata": {},
   "outputs": [],
   "source": [
    "change_columntype(sat_2017)\n"
   ]
  },
  {
   "cell_type": "code",
   "execution_count": 46,
   "metadata": {},
   "outputs": [],
   "source": [
    "change_columntype(act_2017, col = 'Composite')"
   ]
  },
  {
   "cell_type": "code",
   "execution_count": 47,
   "metadata": {},
   "outputs": [],
   "source": [
    "change_columntype(act_2017)"
   ]
  },
  {
   "cell_type": "markdown",
   "metadata": {},
   "source": [
    "- Fix any individual values preventing other columns from being the appropriate type."
   ]
  },
  {
   "cell_type": "markdown",
   "metadata": {},
   "source": [
    "- Finish your data modifications by making sure the columns are now typed appropriately."
   ]
  },
  {
   "cell_type": "markdown",
   "metadata": {},
   "source": [
    "- Display the data types again to confirm they are correct."
   ]
  },
  {
   "cell_type": "code",
   "execution_count": 48,
   "metadata": {},
   "outputs": [
    {
     "data": {
      "text/plain": [
       "State                                  object\n",
       "Participation                         float64\n",
       "Evidence-Based Reading and Writing      int64\n",
       "Math                                    int64\n",
       "Total                                   int64\n",
       "dtype: object"
      ]
     },
     "execution_count": 48,
     "metadata": {},
     "output_type": "execute_result"
    }
   ],
   "source": [
    "sat_2017.dtypes"
   ]
  },
  {
   "cell_type": "code",
   "execution_count": 49,
   "metadata": {},
   "outputs": [
    {
     "data": {
      "text/plain": [
       "State             object\n",
       "Participation    float64\n",
       "English          float64\n",
       "Math             float64\n",
       "Reading          float64\n",
       "Science          float64\n",
       "Composite        float64\n",
       "dtype: object"
      ]
     },
     "execution_count": 49,
     "metadata": {},
     "output_type": "execute_result"
    }
   ],
   "source": [
    "act_2017.dtypes"
   ]
  },
  {
   "cell_type": "markdown",
   "metadata": {},
   "source": [
    "#### 7. Rename Columns\n",
    "Change the names of the columns to more expressive names so that you can tell the difference the SAT columns and the ACT columns. Your solution should map all column names being changed at once (no repeated singular name-changes). **We will be combining these data with some of the data from 2018, and so you should name columns in an appropriate way**.\n",
    "\n",
    "**Guidelines**:\n",
    "- Column names should be all lowercase (you will thank yourself when you start pushing data to SQL later in the course)\n",
    "- Column names should not contain spaces (underscores will suffice--this allows for using the `df.column_name` method to access columns in addition to `df['column_name']`.\n",
    "- Column names should be unique and informative (the only feature that we actually share between dataframes is the state)."
   ]
  },
  {
   "cell_type": "code",
   "execution_count": 50,
   "metadata": {},
   "outputs": [],
   "source": [
    "def change_columnnames(data_frame , name):\n",
    "    save = []\n",
    "    for i in data_frame.columns :\n",
    "        if i != 'State':\n",
    "            i = i.lower()\n",
    "            i = i.replace(\" \", \"_\")\n",
    "            i = i + name\n",
    "        save.append(i)\n",
    "    data_frame.columns = save"
   ]
  },
  {
   "cell_type": "code",
   "execution_count": 51,
   "metadata": {},
   "outputs": [],
   "source": [
    "change_columnnames(sat_2017, name = 'sat17')"
   ]
  },
  {
   "cell_type": "code",
   "execution_count": 52,
   "metadata": {},
   "outputs": [],
   "source": [
    "change_columnnames(act_2017, name = 'act17')"
   ]
  },
  {
   "cell_type": "code",
   "execution_count": 53,
   "metadata": {},
   "outputs": [],
   "source": [
    "sat_2017.iat[20,3]  = 524\n",
    "act_2017.iat[21,5]  = 23.2\n",
    "act_2017.iat[21,6]  = 23.6\n",
    "act_2017.iat[51,6]  = 20.2"
   ]
  },
  {
   "cell_type": "markdown",
   "metadata": {},
   "source": [
    "#### 8. Create a data dictionary\n",
    "\n",
    "Now that we've fixed our data, and given it appropriate names, let's create a [data dictionary](http://library.ucmerced.edu/node/10249). \n",
    "\n",
    "A data dictionary provides a quick overview of features/variables/columns, alongside data types and descriptions. The more descriptive you can be, the more useful this document is.\n",
    "\n",
    "Example of a Fictional Data Dictionary Entry: \n",
    "\n",
    "|Feature|Type|Dataset|Description|\n",
    "|---|---|---|---|\n",
    "|**county_pop**|*integer*|2010 census|The population of the county (units in thousands, where 2.5 represents 2500 people).| \n",
    "|**per_poverty**|*float*|2010 census|The percent of the county over the age of 18 living below the 200% of official US poverty rate (units percent to two decimal places 98.10 means 98.1%)|\n",
    "\n",
    "[Here's a quick link to a short guide for formatting markdown in Jupyter notebooks](https://jupyter-notebook.readthedocs.io/en/stable/examples/Notebook/Working%20With%20Markdown%20Cells.html).\n",
    "\n",
    "Provided is the skeleton for formatting a markdown table, with columns headers that will help you create a data dictionary to quickly summarize your data, as well as some examples. **This would be a great thing to copy and paste into your custom README for this project.**"
   ]
  },
  {
   "cell_type": "markdown",
   "metadata": {},
   "source": [
    "|Feature|Type|Dataset|Description|\n",
    "|---|---|---|---|\n",
    "|**participation**|*float*|ACT/SAT 18/17|The number of college students who take SAT or ACT at least once in any year out of the whole high school graduating class population | \n",
    "|**composite**|*float*|ACT 18/17|The weighted average score of ACT from English, Math, Reading and Science components| \n",
    "|**total**|*int*|SAT 18/17|The combined total score of SAT from Evidence Based Reading and Writing and Math components|\n",
    "|**math**|*SAT-int ACT-float*|ACT/SAT 18/17|The Math ACT/SAT score in a respective year| \n",
    "|**reading**|*float*|ACT 18/17|The Reading ACT score in a respective year| \n",
    "|**english**|*float*|ACT 18/17|The English ACT score in a respective year| \n",
    "|**science**|*float*|ACT 18/17|The Science ACT score in a respective year|\n",
    "|**evidence-based_reading_and_writing**|*int*|SAT 18/17|The Evidence Based Reading and Writing score in a respective year|\n"
   ]
  },
  {
   "cell_type": "markdown",
   "metadata": {},
   "source": [
    "#### 9. Drop unnecessary rows\n",
    "\n",
    "One of our dataframes contains an extra row. Identify and remove this from the dataframe."
   ]
  },
  {
   "cell_type": "code",
   "execution_count": 54,
   "metadata": {},
   "outputs": [],
   "source": [
    "act_2017 = act_2017.drop([0])"
   ]
  },
  {
   "cell_type": "markdown",
   "metadata": {},
   "source": [
    "#### 10. Merge Dataframes\n",
    "\n",
    "Join the 2017 ACT and SAT dataframes using the state in each dataframe as the key. Assign this to a new variable."
   ]
  },
  {
   "cell_type": "code",
   "execution_count": 55,
   "metadata": {},
   "outputs": [],
   "source": [
    "combined_2017 = pd.merge(left = act_2017, right = sat_2017, on = 'State')"
   ]
  },
  {
   "cell_type": "code",
   "execution_count": 56,
   "metadata": {},
   "outputs": [
    {
     "data": {
      "text/html": [
       "<div>\n",
       "<style scoped>\n",
       "    .dataframe tbody tr th:only-of-type {\n",
       "        vertical-align: middle;\n",
       "    }\n",
       "\n",
       "    .dataframe tbody tr th {\n",
       "        vertical-align: top;\n",
       "    }\n",
       "\n",
       "    .dataframe thead th {\n",
       "        text-align: right;\n",
       "    }\n",
       "</style>\n",
       "<table border=\"1\" class=\"dataframe\">\n",
       "  <thead>\n",
       "    <tr style=\"text-align: right;\">\n",
       "      <th></th>\n",
       "      <th>State</th>\n",
       "      <th>participationact17</th>\n",
       "      <th>englishact17</th>\n",
       "      <th>mathact17</th>\n",
       "      <th>readingact17</th>\n",
       "      <th>scienceact17</th>\n",
       "      <th>compositeact17</th>\n",
       "      <th>participationsat17</th>\n",
       "      <th>evidence-based_reading_and_writingsat17</th>\n",
       "      <th>mathsat17</th>\n",
       "      <th>totalsat17</th>\n",
       "    </tr>\n",
       "  </thead>\n",
       "  <tbody>\n",
       "    <tr>\n",
       "      <th>0</th>\n",
       "      <td>Alabama</td>\n",
       "      <td>100.0</td>\n",
       "      <td>18.9</td>\n",
       "      <td>18.4</td>\n",
       "      <td>19.7</td>\n",
       "      <td>19.4</td>\n",
       "      <td>19.2</td>\n",
       "      <td>5.0</td>\n",
       "      <td>593</td>\n",
       "      <td>572</td>\n",
       "      <td>1165</td>\n",
       "    </tr>\n",
       "    <tr>\n",
       "      <th>1</th>\n",
       "      <td>Alaska</td>\n",
       "      <td>65.0</td>\n",
       "      <td>18.7</td>\n",
       "      <td>19.8</td>\n",
       "      <td>20.4</td>\n",
       "      <td>19.9</td>\n",
       "      <td>19.8</td>\n",
       "      <td>38.0</td>\n",
       "      <td>547</td>\n",
       "      <td>533</td>\n",
       "      <td>1080</td>\n",
       "    </tr>\n",
       "    <tr>\n",
       "      <th>2</th>\n",
       "      <td>Arizona</td>\n",
       "      <td>62.0</td>\n",
       "      <td>18.6</td>\n",
       "      <td>19.8</td>\n",
       "      <td>20.1</td>\n",
       "      <td>19.8</td>\n",
       "      <td>19.7</td>\n",
       "      <td>30.0</td>\n",
       "      <td>563</td>\n",
       "      <td>553</td>\n",
       "      <td>1116</td>\n",
       "    </tr>\n",
       "    <tr>\n",
       "      <th>3</th>\n",
       "      <td>Arkansas</td>\n",
       "      <td>100.0</td>\n",
       "      <td>18.9</td>\n",
       "      <td>19.0</td>\n",
       "      <td>19.7</td>\n",
       "      <td>19.5</td>\n",
       "      <td>19.4</td>\n",
       "      <td>3.0</td>\n",
       "      <td>614</td>\n",
       "      <td>594</td>\n",
       "      <td>1208</td>\n",
       "    </tr>\n",
       "    <tr>\n",
       "      <th>4</th>\n",
       "      <td>California</td>\n",
       "      <td>31.0</td>\n",
       "      <td>22.5</td>\n",
       "      <td>22.7</td>\n",
       "      <td>23.1</td>\n",
       "      <td>22.2</td>\n",
       "      <td>22.8</td>\n",
       "      <td>53.0</td>\n",
       "      <td>531</td>\n",
       "      <td>524</td>\n",
       "      <td>1055</td>\n",
       "    </tr>\n",
       "  </tbody>\n",
       "</table>\n",
       "</div>"
      ],
      "text/plain": [
       "        State  participationact17  englishact17  mathact17  readingact17  \\\n",
       "0     Alabama               100.0          18.9       18.4          19.7   \n",
       "1      Alaska                65.0          18.7       19.8          20.4   \n",
       "2     Arizona                62.0          18.6       19.8          20.1   \n",
       "3    Arkansas               100.0          18.9       19.0          19.7   \n",
       "4  California                31.0          22.5       22.7          23.1   \n",
       "\n",
       "   scienceact17  compositeact17  participationsat17  \\\n",
       "0          19.4            19.2                 5.0   \n",
       "1          19.9            19.8                38.0   \n",
       "2          19.8            19.7                30.0   \n",
       "3          19.5            19.4                 3.0   \n",
       "4          22.2            22.8                53.0   \n",
       "\n",
       "   evidence-based_reading_and_writingsat17  mathsat17  totalsat17  \n",
       "0                                      593        572        1165  \n",
       "1                                      547        533        1080  \n",
       "2                                      563        553        1116  \n",
       "3                                      614        594        1208  \n",
       "4                                      531        524        1055  "
      ]
     },
     "execution_count": 56,
     "metadata": {},
     "output_type": "execute_result"
    }
   ],
   "source": [
    "combined_2017.head()"
   ]
  },
  {
   "cell_type": "code",
   "execution_count": 57,
   "metadata": {},
   "outputs": [
    {
     "data": {
      "text/plain": [
       "State                                       object\n",
       "participationact17                         float64\n",
       "englishact17                               float64\n",
       "mathact17                                  float64\n",
       "readingact17                               float64\n",
       "scienceact17                               float64\n",
       "compositeact17                             float64\n",
       "participationsat17                         float64\n",
       "evidence-based_reading_and_writingsat17      int64\n",
       "mathsat17                                    int64\n",
       "totalsat17                                   int64\n",
       "dtype: object"
      ]
     },
     "execution_count": 57,
     "metadata": {},
     "output_type": "execute_result"
    }
   ],
   "source": [
    "combined_2017.dtypes"
   ]
  },
  {
   "cell_type": "code",
   "execution_count": 58,
   "metadata": {},
   "outputs": [],
   "source": [
    "### You might want to rename evidence-based_reading_and_writingsat17 to something shorter eg sat17_writing"
   ]
  },
  {
   "cell_type": "markdown",
   "metadata": {},
   "source": [
    "#### 11. Save your cleaned, merged dataframe\n",
    "\n",
    "Use a relative path to save out your data as `combined_2017.csv`."
   ]
  },
  {
   "cell_type": "code",
   "execution_count": 59,
   "metadata": {},
   "outputs": [],
   "source": [
    "combined_2017.to_csv('../data/combined_2017.csv')#code"
   ]
  },
  {
   "cell_type": "markdown",
   "metadata": {},
   "source": [
    "## 2018 Data Import and Cleaning"
   ]
  },
  {
   "cell_type": "markdown",
   "metadata": {},
   "source": [
    "Links to the 2018 ACT and SAT data are provided in the README. These data live in PDFs, and so you'll get to enjoy practicing some *manual* data collection. Save these data as a CSV in your `data` directory, and import, explore, and clean these data in the same way you did above. **Make sure you comment on your steps so it is clear *why* you are doing each process**."
   ]
  },
  {
   "cell_type": "code",
   "execution_count": 61,
   "metadata": {},
   "outputs": [],
   "source": [
    "# i mean i just used the updated data series as provided inside the data folder?\n",
    "### OK"
   ]
  },
  {
   "cell_type": "markdown",
   "metadata": {},
   "source": [
    "#### Combine your 2017 and 2018 data into a single dataframe\n",
    "Joining on state names should work, assuming you formatted all your state names identically. Make sure none of your columns (other than state) have identical names. Do yourself a favor and decide if you're encoding participation rates as floats or integers and standardize this across your datasets.\n",
    "\n",
    "Save the contents of this merged dataframe as `final.csv`.\n",
    "\n",
    "**Use this combined dataframe for the remainder of the project**."
   ]
  },
  {
   "cell_type": "code",
   "execution_count": 62,
   "metadata": {},
   "outputs": [],
   "source": [
    "act_2018 = pd.read_csv('../data/act_2018.csv')\n",
    "sat_2018 = pd.read_csv('../data/sat_2018.csv')\n",
    "#Reads stuff"
   ]
  },
  {
   "cell_type": "code",
   "execution_count": 63,
   "metadata": {},
   "outputs": [],
   "source": [
    "act_2018_updated = pd.read_csv('../data/act_2018_updated.csv')\n",
    "#Reads updated ACT stuff "
   ]
  },
  {
   "cell_type": "code",
   "execution_count": 64,
   "metadata": {},
   "outputs": [],
   "source": [
    "def change_columntype(data_frame, col_type = float, col = 'Percentage of Students Tested'):\n",
    "    data_frame[col] = data_frame[col].astype(col_type) ### Seems like a waste to define a function if this is all it does"
   ]
  },
  {
   "cell_type": "code",
   "execution_count": 65,
   "metadata": {},
   "outputs": [],
   "source": [
    "change_columntype(act_2018_updated)"
   ]
  },
  {
   "cell_type": "code",
   "execution_count": 66,
   "metadata": {},
   "outputs": [],
   "source": [
    "def change_columntype(data_frame, col_type = float, col = 'Participation'):\n",
    "    data_frame[col] = data_frame[col].str.replace('%', '')\n",
    "    data_frame[col] = data_frame[col].astype(col_type)"
   ]
  },
  {
   "cell_type": "code",
   "execution_count": 67,
   "metadata": {},
   "outputs": [],
   "source": [
    "change_columntype(sat_2018)"
   ]
  },
  {
   "cell_type": "code",
   "execution_count": 68,
   "metadata": {},
   "outputs": [
    {
     "data": {
      "text/html": [
       "<div>\n",
       "<style scoped>\n",
       "    .dataframe tbody tr th:only-of-type {\n",
       "        vertical-align: middle;\n",
       "    }\n",
       "\n",
       "    .dataframe tbody tr th {\n",
       "        vertical-align: top;\n",
       "    }\n",
       "\n",
       "    .dataframe thead th {\n",
       "        text-align: right;\n",
       "    }\n",
       "</style>\n",
       "<table border=\"1\" class=\"dataframe\">\n",
       "  <thead>\n",
       "    <tr style=\"text-align: right;\">\n",
       "      <th></th>\n",
       "      <th>State</th>\n",
       "      <th>Percentage of Students Tested</th>\n",
       "      <th>Average Composite Score</th>\n",
       "      <th>Average English Score</th>\n",
       "      <th>Average Math Score</th>\n",
       "      <th>Average Reading Score</th>\n",
       "      <th>Average Science Score</th>\n",
       "    </tr>\n",
       "  </thead>\n",
       "  <tbody>\n",
       "    <tr>\n",
       "      <th>0</th>\n",
       "      <td>Alabama</td>\n",
       "      <td>100.0</td>\n",
       "      <td>19.1</td>\n",
       "      <td>18.9</td>\n",
       "      <td>18.3</td>\n",
       "      <td>19.6</td>\n",
       "      <td>19.0</td>\n",
       "    </tr>\n",
       "    <tr>\n",
       "      <th>1</th>\n",
       "      <td>Alaska</td>\n",
       "      <td>33.0</td>\n",
       "      <td>20.8</td>\n",
       "      <td>19.8</td>\n",
       "      <td>20.6</td>\n",
       "      <td>21.6</td>\n",
       "      <td>20.7</td>\n",
       "    </tr>\n",
       "    <tr>\n",
       "      <th>2</th>\n",
       "      <td>Arizona</td>\n",
       "      <td>66.0</td>\n",
       "      <td>19.2</td>\n",
       "      <td>18.2</td>\n",
       "      <td>19.4</td>\n",
       "      <td>19.5</td>\n",
       "      <td>19.2</td>\n",
       "    </tr>\n",
       "    <tr>\n",
       "      <th>3</th>\n",
       "      <td>Arkansas</td>\n",
       "      <td>100.0</td>\n",
       "      <td>19.4</td>\n",
       "      <td>19.1</td>\n",
       "      <td>18.9</td>\n",
       "      <td>19.7</td>\n",
       "      <td>19.4</td>\n",
       "    </tr>\n",
       "    <tr>\n",
       "      <th>4</th>\n",
       "      <td>California</td>\n",
       "      <td>27.0</td>\n",
       "      <td>22.7</td>\n",
       "      <td>22.5</td>\n",
       "      <td>22.5</td>\n",
       "      <td>23.0</td>\n",
       "      <td>22.1</td>\n",
       "    </tr>\n",
       "  </tbody>\n",
       "</table>\n",
       "</div>"
      ],
      "text/plain": [
       "        State  Percentage of Students Tested  Average Composite Score  \\\n",
       "0     Alabama                          100.0                     19.1   \n",
       "1      Alaska                           33.0                     20.8   \n",
       "2     Arizona                           66.0                     19.2   \n",
       "3    Arkansas                          100.0                     19.4   \n",
       "4  California                           27.0                     22.7   \n",
       "\n",
       "   Average English Score  Average Math Score  Average Reading Score  \\\n",
       "0                   18.9                18.3                   19.6   \n",
       "1                   19.8                20.6                   21.6   \n",
       "2                   18.2                19.4                   19.5   \n",
       "3                   19.1                18.9                   19.7   \n",
       "4                   22.5                22.5                   23.0   \n",
       "\n",
       "   Average Science Score  \n",
       "0                   19.0  \n",
       "1                   20.7  \n",
       "2                   19.2  \n",
       "3                   19.4  \n",
       "4                   22.1  "
      ]
     },
     "execution_count": 68,
     "metadata": {},
     "output_type": "execute_result"
    }
   ],
   "source": [
    "act_2018_updated.head()"
   ]
  },
  {
   "cell_type": "code",
   "execution_count": 69,
   "metadata": {},
   "outputs": [],
   "source": [
    "def change_columnnames(data_frame , name):\n",
    "    save = []\n",
    "    for i in data_frame.columns :\n",
    "        if i != 'State':\n",
    "            i = i.replace(\"Percentage of Students Tested\", \"participation\")\n",
    "            i = i.replace(\"Average \", \"\")\n",
    "            i = i.replace(\" Score\", \"\")\n",
    "            i = i.lower()\n",
    "            i = i.replace(\" \", \"_\")\n",
    "            i = i.lower()\n",
    "            i = i + name\n",
    "        save.append(i)\n",
    "    data_frame.columns = save\n",
    "#Changes column names"
   ]
  },
  {
   "cell_type": "code",
   "execution_count": 70,
   "metadata": {},
   "outputs": [],
   "source": [
    "change_columnnames(sat_2018, name = 'sat18')"
   ]
  },
  {
   "cell_type": "code",
   "execution_count": 71,
   "metadata": {},
   "outputs": [
    {
     "data": {
      "text/html": [
       "<div>\n",
       "<style scoped>\n",
       "    .dataframe tbody tr th:only-of-type {\n",
       "        vertical-align: middle;\n",
       "    }\n",
       "\n",
       "    .dataframe tbody tr th {\n",
       "        vertical-align: top;\n",
       "    }\n",
       "\n",
       "    .dataframe thead th {\n",
       "        text-align: right;\n",
       "    }\n",
       "</style>\n",
       "<table border=\"1\" class=\"dataframe\">\n",
       "  <thead>\n",
       "    <tr style=\"text-align: right;\">\n",
       "      <th></th>\n",
       "      <th>State</th>\n",
       "      <th>participationsat18</th>\n",
       "      <th>evidence-based_reading_and_writingsat18</th>\n",
       "      <th>mathsat18</th>\n",
       "      <th>totalsat18</th>\n",
       "    </tr>\n",
       "  </thead>\n",
       "  <tbody>\n",
       "    <tr>\n",
       "      <th>0</th>\n",
       "      <td>Alabama</td>\n",
       "      <td>6.0</td>\n",
       "      <td>595</td>\n",
       "      <td>571</td>\n",
       "      <td>1166</td>\n",
       "    </tr>\n",
       "    <tr>\n",
       "      <th>1</th>\n",
       "      <td>Alaska</td>\n",
       "      <td>43.0</td>\n",
       "      <td>562</td>\n",
       "      <td>544</td>\n",
       "      <td>1106</td>\n",
       "    </tr>\n",
       "    <tr>\n",
       "      <th>2</th>\n",
       "      <td>Arizona</td>\n",
       "      <td>29.0</td>\n",
       "      <td>577</td>\n",
       "      <td>572</td>\n",
       "      <td>1149</td>\n",
       "    </tr>\n",
       "    <tr>\n",
       "      <th>3</th>\n",
       "      <td>Arkansas</td>\n",
       "      <td>5.0</td>\n",
       "      <td>592</td>\n",
       "      <td>576</td>\n",
       "      <td>1169</td>\n",
       "    </tr>\n",
       "    <tr>\n",
       "      <th>4</th>\n",
       "      <td>California</td>\n",
       "      <td>60.0</td>\n",
       "      <td>540</td>\n",
       "      <td>536</td>\n",
       "      <td>1076</td>\n",
       "    </tr>\n",
       "    <tr>\n",
       "      <th>5</th>\n",
       "      <td>Colorado</td>\n",
       "      <td>100.0</td>\n",
       "      <td>519</td>\n",
       "      <td>506</td>\n",
       "      <td>1025</td>\n",
       "    </tr>\n",
       "    <tr>\n",
       "      <th>6</th>\n",
       "      <td>Connecticut</td>\n",
       "      <td>100.0</td>\n",
       "      <td>535</td>\n",
       "      <td>519</td>\n",
       "      <td>1053</td>\n",
       "    </tr>\n",
       "    <tr>\n",
       "      <th>7</th>\n",
       "      <td>Delaware</td>\n",
       "      <td>100.0</td>\n",
       "      <td>505</td>\n",
       "      <td>492</td>\n",
       "      <td>998</td>\n",
       "    </tr>\n",
       "    <tr>\n",
       "      <th>8</th>\n",
       "      <td>District of Columbia</td>\n",
       "      <td>92.0</td>\n",
       "      <td>497</td>\n",
       "      <td>480</td>\n",
       "      <td>977</td>\n",
       "    </tr>\n",
       "    <tr>\n",
       "      <th>9</th>\n",
       "      <td>Florida</td>\n",
       "      <td>56.0</td>\n",
       "      <td>550</td>\n",
       "      <td>549</td>\n",
       "      <td>1099</td>\n",
       "    </tr>\n",
       "    <tr>\n",
       "      <th>10</th>\n",
       "      <td>Georgia</td>\n",
       "      <td>70.0</td>\n",
       "      <td>542</td>\n",
       "      <td>522</td>\n",
       "      <td>1064</td>\n",
       "    </tr>\n",
       "    <tr>\n",
       "      <th>11</th>\n",
       "      <td>Hawaii</td>\n",
       "      <td>56.0</td>\n",
       "      <td>480</td>\n",
       "      <td>530</td>\n",
       "      <td>1010</td>\n",
       "    </tr>\n",
       "    <tr>\n",
       "      <th>12</th>\n",
       "      <td>Idaho</td>\n",
       "      <td>100.0</td>\n",
       "      <td>508</td>\n",
       "      <td>493</td>\n",
       "      <td>1001</td>\n",
       "    </tr>\n",
       "    <tr>\n",
       "      <th>13</th>\n",
       "      <td>Illinois</td>\n",
       "      <td>99.0</td>\n",
       "      <td>513</td>\n",
       "      <td>506</td>\n",
       "      <td>1019</td>\n",
       "    </tr>\n",
       "    <tr>\n",
       "      <th>14</th>\n",
       "      <td>Indiana</td>\n",
       "      <td>63.0</td>\n",
       "      <td>542</td>\n",
       "      <td>532</td>\n",
       "      <td>1074</td>\n",
       "    </tr>\n",
       "    <tr>\n",
       "      <th>15</th>\n",
       "      <td>Iowa</td>\n",
       "      <td>3.0</td>\n",
       "      <td>634</td>\n",
       "      <td>631</td>\n",
       "      <td>1265</td>\n",
       "    </tr>\n",
       "    <tr>\n",
       "      <th>16</th>\n",
       "      <td>Kansas</td>\n",
       "      <td>4.0</td>\n",
       "      <td>633</td>\n",
       "      <td>631</td>\n",
       "      <td>1265</td>\n",
       "    </tr>\n",
       "    <tr>\n",
       "      <th>17</th>\n",
       "      <td>Kentucky</td>\n",
       "      <td>4.0</td>\n",
       "      <td>630</td>\n",
       "      <td>618</td>\n",
       "      <td>1248</td>\n",
       "    </tr>\n",
       "    <tr>\n",
       "      <th>18</th>\n",
       "      <td>Louisiana</td>\n",
       "      <td>4.0</td>\n",
       "      <td>615</td>\n",
       "      <td>595</td>\n",
       "      <td>1210</td>\n",
       "    </tr>\n",
       "    <tr>\n",
       "      <th>19</th>\n",
       "      <td>Maine</td>\n",
       "      <td>99.0</td>\n",
       "      <td>512</td>\n",
       "      <td>501</td>\n",
       "      <td>1013</td>\n",
       "    </tr>\n",
       "    <tr>\n",
       "      <th>20</th>\n",
       "      <td>Maryland</td>\n",
       "      <td>76.0</td>\n",
       "      <td>545</td>\n",
       "      <td>535</td>\n",
       "      <td>1080</td>\n",
       "    </tr>\n",
       "    <tr>\n",
       "      <th>21</th>\n",
       "      <td>Massachusetts</td>\n",
       "      <td>80.0</td>\n",
       "      <td>562</td>\n",
       "      <td>563</td>\n",
       "      <td>1125</td>\n",
       "    </tr>\n",
       "    <tr>\n",
       "      <th>22</th>\n",
       "      <td>Michigan</td>\n",
       "      <td>100.0</td>\n",
       "      <td>511</td>\n",
       "      <td>499</td>\n",
       "      <td>1011</td>\n",
       "    </tr>\n",
       "    <tr>\n",
       "      <th>23</th>\n",
       "      <td>Minnesota</td>\n",
       "      <td>4.0</td>\n",
       "      <td>643</td>\n",
       "      <td>655</td>\n",
       "      <td>1298</td>\n",
       "    </tr>\n",
       "    <tr>\n",
       "      <th>24</th>\n",
       "      <td>Mississippi</td>\n",
       "      <td>3.0</td>\n",
       "      <td>630</td>\n",
       "      <td>606</td>\n",
       "      <td>1236</td>\n",
       "    </tr>\n",
       "    <tr>\n",
       "      <th>25</th>\n",
       "      <td>Missouri</td>\n",
       "      <td>4.0</td>\n",
       "      <td>633</td>\n",
       "      <td>629</td>\n",
       "      <td>1262</td>\n",
       "    </tr>\n",
       "    <tr>\n",
       "      <th>26</th>\n",
       "      <td>Montana</td>\n",
       "      <td>10.0</td>\n",
       "      <td>606</td>\n",
       "      <td>592</td>\n",
       "      <td>1198</td>\n",
       "    </tr>\n",
       "    <tr>\n",
       "      <th>27</th>\n",
       "      <td>Nebraska</td>\n",
       "      <td>3.0</td>\n",
       "      <td>629</td>\n",
       "      <td>623</td>\n",
       "      <td>1252</td>\n",
       "    </tr>\n",
       "    <tr>\n",
       "      <th>28</th>\n",
       "      <td>Nevada</td>\n",
       "      <td>23.0</td>\n",
       "      <td>574</td>\n",
       "      <td>566</td>\n",
       "      <td>1140</td>\n",
       "    </tr>\n",
       "    <tr>\n",
       "      <th>29</th>\n",
       "      <td>New Hampshire</td>\n",
       "      <td>96.0</td>\n",
       "      <td>535</td>\n",
       "      <td>528</td>\n",
       "      <td>1063</td>\n",
       "    </tr>\n",
       "    <tr>\n",
       "      <th>30</th>\n",
       "      <td>New Jersey</td>\n",
       "      <td>82.0</td>\n",
       "      <td>547</td>\n",
       "      <td>547</td>\n",
       "      <td>1094</td>\n",
       "    </tr>\n",
       "    <tr>\n",
       "      <th>31</th>\n",
       "      <td>New Mexico</td>\n",
       "      <td>16.0</td>\n",
       "      <td>552</td>\n",
       "      <td>540</td>\n",
       "      <td>1093</td>\n",
       "    </tr>\n",
       "    <tr>\n",
       "      <th>32</th>\n",
       "      <td>New York</td>\n",
       "      <td>79.0</td>\n",
       "      <td>534</td>\n",
       "      <td>534</td>\n",
       "      <td>1068</td>\n",
       "    </tr>\n",
       "    <tr>\n",
       "      <th>33</th>\n",
       "      <td>North Carolina</td>\n",
       "      <td>52.0</td>\n",
       "      <td>554</td>\n",
       "      <td>543</td>\n",
       "      <td>1098</td>\n",
       "    </tr>\n",
       "    <tr>\n",
       "      <th>34</th>\n",
       "      <td>North Dakota</td>\n",
       "      <td>2.0</td>\n",
       "      <td>640</td>\n",
       "      <td>643</td>\n",
       "      <td>1283</td>\n",
       "    </tr>\n",
       "    <tr>\n",
       "      <th>35</th>\n",
       "      <td>Oklahoma</td>\n",
       "      <td>8.0</td>\n",
       "      <td>541</td>\n",
       "      <td>521</td>\n",
       "      <td>1062</td>\n",
       "    </tr>\n",
       "    <tr>\n",
       "      <th>36</th>\n",
       "      <td>Ohio</td>\n",
       "      <td>18.0</td>\n",
       "      <td>552</td>\n",
       "      <td>547</td>\n",
       "      <td>1099</td>\n",
       "    </tr>\n",
       "    <tr>\n",
       "      <th>37</th>\n",
       "      <td>Oregon</td>\n",
       "      <td>48.0</td>\n",
       "      <td>564</td>\n",
       "      <td>553</td>\n",
       "      <td>1117</td>\n",
       "    </tr>\n",
       "    <tr>\n",
       "      <th>38</th>\n",
       "      <td>Pennsylvania</td>\n",
       "      <td>70.0</td>\n",
       "      <td>547</td>\n",
       "      <td>539</td>\n",
       "      <td>1086</td>\n",
       "    </tr>\n",
       "    <tr>\n",
       "      <th>39</th>\n",
       "      <td>Rhode Island</td>\n",
       "      <td>97.0</td>\n",
       "      <td>513</td>\n",
       "      <td>505</td>\n",
       "      <td>1018</td>\n",
       "    </tr>\n",
       "    <tr>\n",
       "      <th>40</th>\n",
       "      <td>South Carolina</td>\n",
       "      <td>55.0</td>\n",
       "      <td>547</td>\n",
       "      <td>523</td>\n",
       "      <td>1070</td>\n",
       "    </tr>\n",
       "    <tr>\n",
       "      <th>41</th>\n",
       "      <td>South Dakota</td>\n",
       "      <td>3.0</td>\n",
       "      <td>622</td>\n",
       "      <td>618</td>\n",
       "      <td>1240</td>\n",
       "    </tr>\n",
       "    <tr>\n",
       "      <th>42</th>\n",
       "      <td>Tennessee</td>\n",
       "      <td>6.0</td>\n",
       "      <td>624</td>\n",
       "      <td>607</td>\n",
       "      <td>1231</td>\n",
       "    </tr>\n",
       "    <tr>\n",
       "      <th>43</th>\n",
       "      <td>Texas</td>\n",
       "      <td>66.0</td>\n",
       "      <td>520</td>\n",
       "      <td>512</td>\n",
       "      <td>1032</td>\n",
       "    </tr>\n",
       "    <tr>\n",
       "      <th>44</th>\n",
       "      <td>Utah</td>\n",
       "      <td>4.0</td>\n",
       "      <td>480</td>\n",
       "      <td>530</td>\n",
       "      <td>1010</td>\n",
       "    </tr>\n",
       "    <tr>\n",
       "      <th>45</th>\n",
       "      <td>Vermont</td>\n",
       "      <td>64.0</td>\n",
       "      <td>565</td>\n",
       "      <td>554</td>\n",
       "      <td>1120</td>\n",
       "    </tr>\n",
       "    <tr>\n",
       "      <th>46</th>\n",
       "      <td>Virginia</td>\n",
       "      <td>68.0</td>\n",
       "      <td>567</td>\n",
       "      <td>550</td>\n",
       "      <td>1117</td>\n",
       "    </tr>\n",
       "    <tr>\n",
       "      <th>47</th>\n",
       "      <td>Washington</td>\n",
       "      <td>69.0</td>\n",
       "      <td>543</td>\n",
       "      <td>538</td>\n",
       "      <td>1081</td>\n",
       "    </tr>\n",
       "    <tr>\n",
       "      <th>48</th>\n",
       "      <td>West Virginia</td>\n",
       "      <td>28.0</td>\n",
       "      <td>513</td>\n",
       "      <td>486</td>\n",
       "      <td>999</td>\n",
       "    </tr>\n",
       "    <tr>\n",
       "      <th>49</th>\n",
       "      <td>Wisconsin</td>\n",
       "      <td>3.0</td>\n",
       "      <td>641</td>\n",
       "      <td>653</td>\n",
       "      <td>1294</td>\n",
       "    </tr>\n",
       "    <tr>\n",
       "      <th>50</th>\n",
       "      <td>Wyoming</td>\n",
       "      <td>3.0</td>\n",
       "      <td>633</td>\n",
       "      <td>625</td>\n",
       "      <td>1257</td>\n",
       "    </tr>\n",
       "  </tbody>\n",
       "</table>\n",
       "</div>"
      ],
      "text/plain": [
       "                   State  participationsat18  \\\n",
       "0                Alabama                 6.0   \n",
       "1                 Alaska                43.0   \n",
       "2                Arizona                29.0   \n",
       "3               Arkansas                 5.0   \n",
       "4             California                60.0   \n",
       "5               Colorado               100.0   \n",
       "6            Connecticut               100.0   \n",
       "7               Delaware               100.0   \n",
       "8   District of Columbia                92.0   \n",
       "9                Florida                56.0   \n",
       "10               Georgia                70.0   \n",
       "11                Hawaii                56.0   \n",
       "12                 Idaho               100.0   \n",
       "13              Illinois                99.0   \n",
       "14               Indiana                63.0   \n",
       "15                  Iowa                 3.0   \n",
       "16                Kansas                 4.0   \n",
       "17              Kentucky                 4.0   \n",
       "18             Louisiana                 4.0   \n",
       "19                 Maine                99.0   \n",
       "20              Maryland                76.0   \n",
       "21         Massachusetts                80.0   \n",
       "22              Michigan               100.0   \n",
       "23             Minnesota                 4.0   \n",
       "24           Mississippi                 3.0   \n",
       "25              Missouri                 4.0   \n",
       "26               Montana                10.0   \n",
       "27              Nebraska                 3.0   \n",
       "28                Nevada                23.0   \n",
       "29         New Hampshire                96.0   \n",
       "30            New Jersey                82.0   \n",
       "31            New Mexico                16.0   \n",
       "32              New York                79.0   \n",
       "33        North Carolina                52.0   \n",
       "34          North Dakota                 2.0   \n",
       "35              Oklahoma                 8.0   \n",
       "36                  Ohio                18.0   \n",
       "37                Oregon                48.0   \n",
       "38          Pennsylvania                70.0   \n",
       "39          Rhode Island                97.0   \n",
       "40        South Carolina                55.0   \n",
       "41          South Dakota                 3.0   \n",
       "42             Tennessee                 6.0   \n",
       "43                 Texas                66.0   \n",
       "44                  Utah                 4.0   \n",
       "45               Vermont                64.0   \n",
       "46              Virginia                68.0   \n",
       "47            Washington                69.0   \n",
       "48         West Virginia                28.0   \n",
       "49             Wisconsin                 3.0   \n",
       "50               Wyoming                 3.0   \n",
       "\n",
       "    evidence-based_reading_and_writingsat18  mathsat18  totalsat18  \n",
       "0                                       595        571        1166  \n",
       "1                                       562        544        1106  \n",
       "2                                       577        572        1149  \n",
       "3                                       592        576        1169  \n",
       "4                                       540        536        1076  \n",
       "5                                       519        506        1025  \n",
       "6                                       535        519        1053  \n",
       "7                                       505        492         998  \n",
       "8                                       497        480         977  \n",
       "9                                       550        549        1099  \n",
       "10                                      542        522        1064  \n",
       "11                                      480        530        1010  \n",
       "12                                      508        493        1001  \n",
       "13                                      513        506        1019  \n",
       "14                                      542        532        1074  \n",
       "15                                      634        631        1265  \n",
       "16                                      633        631        1265  \n",
       "17                                      630        618        1248  \n",
       "18                                      615        595        1210  \n",
       "19                                      512        501        1013  \n",
       "20                                      545        535        1080  \n",
       "21                                      562        563        1125  \n",
       "22                                      511        499        1011  \n",
       "23                                      643        655        1298  \n",
       "24                                      630        606        1236  \n",
       "25                                      633        629        1262  \n",
       "26                                      606        592        1198  \n",
       "27                                      629        623        1252  \n",
       "28                                      574        566        1140  \n",
       "29                                      535        528        1063  \n",
       "30                                      547        547        1094  \n",
       "31                                      552        540        1093  \n",
       "32                                      534        534        1068  \n",
       "33                                      554        543        1098  \n",
       "34                                      640        643        1283  \n",
       "35                                      541        521        1062  \n",
       "36                                      552        547        1099  \n",
       "37                                      564        553        1117  \n",
       "38                                      547        539        1086  \n",
       "39                                      513        505        1018  \n",
       "40                                      547        523        1070  \n",
       "41                                      622        618        1240  \n",
       "42                                      624        607        1231  \n",
       "43                                      520        512        1032  \n",
       "44                                      480        530        1010  \n",
       "45                                      565        554        1120  \n",
       "46                                      567        550        1117  \n",
       "47                                      543        538        1081  \n",
       "48                                      513        486         999  \n",
       "49                                      641        653        1294  \n",
       "50                                      633        625        1257  "
      ]
     },
     "execution_count": 71,
     "metadata": {},
     "output_type": "execute_result"
    }
   ],
   "source": [
    "sat_2018"
   ]
  },
  {
   "cell_type": "code",
   "execution_count": 72,
   "metadata": {},
   "outputs": [],
   "source": [
    "change_columnnames(act_2018_updated, name = 'act18')"
   ]
  },
  {
   "cell_type": "code",
   "execution_count": 74,
   "metadata": {},
   "outputs": [
    {
     "data": {
      "text/html": [
       "<div>\n",
       "<style scoped>\n",
       "    .dataframe tbody tr th:only-of-type {\n",
       "        vertical-align: middle;\n",
       "    }\n",
       "\n",
       "    .dataframe tbody tr th {\n",
       "        vertical-align: top;\n",
       "    }\n",
       "\n",
       "    .dataframe thead th {\n",
       "        text-align: right;\n",
       "    }\n",
       "</style>\n",
       "<table border=\"1\" class=\"dataframe\">\n",
       "  <thead>\n",
       "    <tr style=\"text-align: right;\">\n",
       "      <th></th>\n",
       "      <th>State</th>\n",
       "      <th>participationact18</th>\n",
       "      <th>compositeact18</th>\n",
       "      <th>englishact18</th>\n",
       "      <th>mathact18</th>\n",
       "      <th>readingact18</th>\n",
       "      <th>scienceact18</th>\n",
       "    </tr>\n",
       "  </thead>\n",
       "  <tbody>\n",
       "    <tr>\n",
       "      <th>0</th>\n",
       "      <td>Alabama</td>\n",
       "      <td>100.0</td>\n",
       "      <td>19.1</td>\n",
       "      <td>18.9</td>\n",
       "      <td>18.3</td>\n",
       "      <td>19.6</td>\n",
       "      <td>19.0</td>\n",
       "    </tr>\n",
       "    <tr>\n",
       "      <th>1</th>\n",
       "      <td>Alaska</td>\n",
       "      <td>33.0</td>\n",
       "      <td>20.8</td>\n",
       "      <td>19.8</td>\n",
       "      <td>20.6</td>\n",
       "      <td>21.6</td>\n",
       "      <td>20.7</td>\n",
       "    </tr>\n",
       "    <tr>\n",
       "      <th>2</th>\n",
       "      <td>Arizona</td>\n",
       "      <td>66.0</td>\n",
       "      <td>19.2</td>\n",
       "      <td>18.2</td>\n",
       "      <td>19.4</td>\n",
       "      <td>19.5</td>\n",
       "      <td>19.2</td>\n",
       "    </tr>\n",
       "    <tr>\n",
       "      <th>3</th>\n",
       "      <td>Arkansas</td>\n",
       "      <td>100.0</td>\n",
       "      <td>19.4</td>\n",
       "      <td>19.1</td>\n",
       "      <td>18.9</td>\n",
       "      <td>19.7</td>\n",
       "      <td>19.4</td>\n",
       "    </tr>\n",
       "    <tr>\n",
       "      <th>4</th>\n",
       "      <td>California</td>\n",
       "      <td>27.0</td>\n",
       "      <td>22.7</td>\n",
       "      <td>22.5</td>\n",
       "      <td>22.5</td>\n",
       "      <td>23.0</td>\n",
       "      <td>22.1</td>\n",
       "    </tr>\n",
       "  </tbody>\n",
       "</table>\n",
       "</div>"
      ],
      "text/plain": [
       "        State  participationact18  compositeact18  englishact18  mathact18  \\\n",
       "0     Alabama               100.0            19.1          18.9       18.3   \n",
       "1      Alaska                33.0            20.8          19.8       20.6   \n",
       "2     Arizona                66.0            19.2          18.2       19.4   \n",
       "3    Arkansas               100.0            19.4          19.1       18.9   \n",
       "4  California                27.0            22.7          22.5       22.5   \n",
       "\n",
       "   readingact18  scienceact18  \n",
       "0          19.6          19.0  \n",
       "1          21.6          20.7  \n",
       "2          19.5          19.2  \n",
       "3          19.7          19.4  \n",
       "4          23.0          22.1  "
      ]
     },
     "execution_count": 74,
     "metadata": {},
     "output_type": "execute_result"
    }
   ],
   "source": [
    "act_2018_updated.head()"
   ]
  },
  {
   "cell_type": "code",
   "execution_count": 75,
   "metadata": {},
   "outputs": [],
   "source": [
    "combined_2018 = pd.merge(left = act_2018_updated, right = sat_2018, on = 'State')"
   ]
  },
  {
   "cell_type": "code",
   "execution_count": 76,
   "metadata": {},
   "outputs": [
    {
     "data": {
      "text/html": [
       "<div>\n",
       "<style scoped>\n",
       "    .dataframe tbody tr th:only-of-type {\n",
       "        vertical-align: middle;\n",
       "    }\n",
       "\n",
       "    .dataframe tbody tr th {\n",
       "        vertical-align: top;\n",
       "    }\n",
       "\n",
       "    .dataframe thead th {\n",
       "        text-align: right;\n",
       "    }\n",
       "</style>\n",
       "<table border=\"1\" class=\"dataframe\">\n",
       "  <thead>\n",
       "    <tr style=\"text-align: right;\">\n",
       "      <th></th>\n",
       "      <th>State</th>\n",
       "      <th>participationact18</th>\n",
       "      <th>compositeact18</th>\n",
       "      <th>englishact18</th>\n",
       "      <th>mathact18</th>\n",
       "      <th>readingact18</th>\n",
       "      <th>scienceact18</th>\n",
       "      <th>participationsat18</th>\n",
       "      <th>evidence-based_reading_and_writingsat18</th>\n",
       "      <th>mathsat18</th>\n",
       "      <th>totalsat18</th>\n",
       "    </tr>\n",
       "  </thead>\n",
       "  <tbody>\n",
       "    <tr>\n",
       "      <th>0</th>\n",
       "      <td>Alabama</td>\n",
       "      <td>100.0</td>\n",
       "      <td>19.1</td>\n",
       "      <td>18.9</td>\n",
       "      <td>18.3</td>\n",
       "      <td>19.6</td>\n",
       "      <td>19.0</td>\n",
       "      <td>6.0</td>\n",
       "      <td>595</td>\n",
       "      <td>571</td>\n",
       "      <td>1166</td>\n",
       "    </tr>\n",
       "    <tr>\n",
       "      <th>1</th>\n",
       "      <td>Alaska</td>\n",
       "      <td>33.0</td>\n",
       "      <td>20.8</td>\n",
       "      <td>19.8</td>\n",
       "      <td>20.6</td>\n",
       "      <td>21.6</td>\n",
       "      <td>20.7</td>\n",
       "      <td>43.0</td>\n",
       "      <td>562</td>\n",
       "      <td>544</td>\n",
       "      <td>1106</td>\n",
       "    </tr>\n",
       "    <tr>\n",
       "      <th>2</th>\n",
       "      <td>Arizona</td>\n",
       "      <td>66.0</td>\n",
       "      <td>19.2</td>\n",
       "      <td>18.2</td>\n",
       "      <td>19.4</td>\n",
       "      <td>19.5</td>\n",
       "      <td>19.2</td>\n",
       "      <td>29.0</td>\n",
       "      <td>577</td>\n",
       "      <td>572</td>\n",
       "      <td>1149</td>\n",
       "    </tr>\n",
       "    <tr>\n",
       "      <th>3</th>\n",
       "      <td>Arkansas</td>\n",
       "      <td>100.0</td>\n",
       "      <td>19.4</td>\n",
       "      <td>19.1</td>\n",
       "      <td>18.9</td>\n",
       "      <td>19.7</td>\n",
       "      <td>19.4</td>\n",
       "      <td>5.0</td>\n",
       "      <td>592</td>\n",
       "      <td>576</td>\n",
       "      <td>1169</td>\n",
       "    </tr>\n",
       "    <tr>\n",
       "      <th>4</th>\n",
       "      <td>California</td>\n",
       "      <td>27.0</td>\n",
       "      <td>22.7</td>\n",
       "      <td>22.5</td>\n",
       "      <td>22.5</td>\n",
       "      <td>23.0</td>\n",
       "      <td>22.1</td>\n",
       "      <td>60.0</td>\n",
       "      <td>540</td>\n",
       "      <td>536</td>\n",
       "      <td>1076</td>\n",
       "    </tr>\n",
       "  </tbody>\n",
       "</table>\n",
       "</div>"
      ],
      "text/plain": [
       "        State  participationact18  compositeact18  englishact18  mathact18  \\\n",
       "0     Alabama               100.0            19.1          18.9       18.3   \n",
       "1      Alaska                33.0            20.8          19.8       20.6   \n",
       "2     Arizona                66.0            19.2          18.2       19.4   \n",
       "3    Arkansas               100.0            19.4          19.1       18.9   \n",
       "4  California                27.0            22.7          22.5       22.5   \n",
       "\n",
       "   readingact18  scienceact18  participationsat18  \\\n",
       "0          19.6          19.0                 6.0   \n",
       "1          21.6          20.7                43.0   \n",
       "2          19.5          19.2                29.0   \n",
       "3          19.7          19.4                 5.0   \n",
       "4          23.0          22.1                60.0   \n",
       "\n",
       "   evidence-based_reading_and_writingsat18  mathsat18  totalsat18  \n",
       "0                                      595        571        1166  \n",
       "1                                      562        544        1106  \n",
       "2                                      577        572        1149  \n",
       "3                                      592        576        1169  \n",
       "4                                      540        536        1076  "
      ]
     },
     "execution_count": 76,
     "metadata": {},
     "output_type": "execute_result"
    }
   ],
   "source": [
    "combined_2018.head()"
   ]
  },
  {
   "cell_type": "code",
   "execution_count": 78,
   "metadata": {},
   "outputs": [],
   "source": [
    "combined_2018.to_csv('../data/combined_2018.csv')"
   ]
  },
  {
   "cell_type": "code",
   "execution_count": 79,
   "metadata": {},
   "outputs": [],
   "source": [
    "combined_2017_2018 = pd.merge(left = combined_2017, right = combined_2018, on = 'State')"
   ]
  },
  {
   "cell_type": "code",
   "execution_count": 80,
   "metadata": {},
   "outputs": [],
   "source": [
    "combined_2017_2018.to_csv('../data/combined_2017_2018.csv')"
   ]
  },
  {
   "cell_type": "markdown",
   "metadata": {},
   "source": [
    "## Exploratory Data Analysis\n",
    "\n",
    "\n",
    "### Summary Statistics\n",
    "Transpose the output of pandas `describe` method to create a quick overview of each numeric feature."
   ]
  },
  {
   "cell_type": "code",
   "execution_count": 81,
   "metadata": {},
   "outputs": [
    {
     "data": {
      "text/html": [
       "<div>\n",
       "<style scoped>\n",
       "    .dataframe tbody tr th:only-of-type {\n",
       "        vertical-align: middle;\n",
       "    }\n",
       "\n",
       "    .dataframe tbody tr th {\n",
       "        vertical-align: top;\n",
       "    }\n",
       "\n",
       "    .dataframe thead th {\n",
       "        text-align: right;\n",
       "    }\n",
       "</style>\n",
       "<table border=\"1\" class=\"dataframe\">\n",
       "  <thead>\n",
       "    <tr style=\"text-align: right;\">\n",
       "      <th></th>\n",
       "      <th>participationact17</th>\n",
       "      <th>englishact17</th>\n",
       "      <th>mathact17</th>\n",
       "      <th>readingact17</th>\n",
       "      <th>scienceact17</th>\n",
       "      <th>compositeact17</th>\n",
       "      <th>participationsat17</th>\n",
       "      <th>evidence-based_reading_and_writingsat17</th>\n",
       "      <th>mathsat17</th>\n",
       "      <th>totalsat17</th>\n",
       "      <th>participationact18</th>\n",
       "      <th>compositeact18</th>\n",
       "      <th>englishact18</th>\n",
       "      <th>mathact18</th>\n",
       "      <th>readingact18</th>\n",
       "      <th>scienceact18</th>\n",
       "      <th>participationsat18</th>\n",
       "      <th>evidence-based_reading_and_writingsat18</th>\n",
       "      <th>mathsat18</th>\n",
       "      <th>totalsat18</th>\n",
       "    </tr>\n",
       "  </thead>\n",
       "  <tbody>\n",
       "    <tr>\n",
       "      <th>count</th>\n",
       "      <td>51.000000</td>\n",
       "      <td>51.000000</td>\n",
       "      <td>51.000000</td>\n",
       "      <td>51.000000</td>\n",
       "      <td>51.000000</td>\n",
       "      <td>51.000000</td>\n",
       "      <td>51.000000</td>\n",
       "      <td>51.000000</td>\n",
       "      <td>51.000000</td>\n",
       "      <td>51.000000</td>\n",
       "      <td>51.000000</td>\n",
       "      <td>51.000000</td>\n",
       "      <td>51.000000</td>\n",
       "      <td>51.000000</td>\n",
       "      <td>51.000000</td>\n",
       "      <td>51.000000</td>\n",
       "      <td>51.000000</td>\n",
       "      <td>51.000000</td>\n",
       "      <td>51.000000</td>\n",
       "      <td>51.000000</td>\n",
       "    </tr>\n",
       "    <tr>\n",
       "      <th>mean</th>\n",
       "      <td>65.254902</td>\n",
       "      <td>20.931373</td>\n",
       "      <td>21.182353</td>\n",
       "      <td>22.013725</td>\n",
       "      <td>21.450980</td>\n",
       "      <td>21.519608</td>\n",
       "      <td>39.803922</td>\n",
       "      <td>569.117647</td>\n",
       "      <td>556.882353</td>\n",
       "      <td>1126.098039</td>\n",
       "      <td>61.647059</td>\n",
       "      <td>21.486275</td>\n",
       "      <td>20.988235</td>\n",
       "      <td>21.125490</td>\n",
       "      <td>22.015686</td>\n",
       "      <td>21.345098</td>\n",
       "      <td>45.745098</td>\n",
       "      <td>563.686275</td>\n",
       "      <td>556.235294</td>\n",
       "      <td>1120.019608</td>\n",
       "    </tr>\n",
       "    <tr>\n",
       "      <th>std</th>\n",
       "      <td>32.140842</td>\n",
       "      <td>2.353677</td>\n",
       "      <td>1.981989</td>\n",
       "      <td>2.067271</td>\n",
       "      <td>1.739353</td>\n",
       "      <td>2.020695</td>\n",
       "      <td>35.276632</td>\n",
       "      <td>45.666901</td>\n",
       "      <td>47.121395</td>\n",
       "      <td>92.494812</td>\n",
       "      <td>34.080976</td>\n",
       "      <td>2.106278</td>\n",
       "      <td>2.446356</td>\n",
       "      <td>2.035765</td>\n",
       "      <td>2.167245</td>\n",
       "      <td>1.870114</td>\n",
       "      <td>37.314256</td>\n",
       "      <td>47.502627</td>\n",
       "      <td>47.772623</td>\n",
       "      <td>94.155083</td>\n",
       "    </tr>\n",
       "    <tr>\n",
       "      <th>min</th>\n",
       "      <td>8.000000</td>\n",
       "      <td>16.300000</td>\n",
       "      <td>18.000000</td>\n",
       "      <td>18.100000</td>\n",
       "      <td>18.200000</td>\n",
       "      <td>17.800000</td>\n",
       "      <td>2.000000</td>\n",
       "      <td>482.000000</td>\n",
       "      <td>468.000000</td>\n",
       "      <td>950.000000</td>\n",
       "      <td>7.000000</td>\n",
       "      <td>17.700000</td>\n",
       "      <td>16.600000</td>\n",
       "      <td>17.800000</td>\n",
       "      <td>18.000000</td>\n",
       "      <td>17.900000</td>\n",
       "      <td>2.000000</td>\n",
       "      <td>480.000000</td>\n",
       "      <td>480.000000</td>\n",
       "      <td>977.000000</td>\n",
       "    </tr>\n",
       "    <tr>\n",
       "      <th>25%</th>\n",
       "      <td>31.000000</td>\n",
       "      <td>19.000000</td>\n",
       "      <td>19.400000</td>\n",
       "      <td>20.450000</td>\n",
       "      <td>19.950000</td>\n",
       "      <td>19.800000</td>\n",
       "      <td>4.000000</td>\n",
       "      <td>533.500000</td>\n",
       "      <td>523.500000</td>\n",
       "      <td>1055.500000</td>\n",
       "      <td>28.500000</td>\n",
       "      <td>19.950000</td>\n",
       "      <td>19.100000</td>\n",
       "      <td>19.400000</td>\n",
       "      <td>20.450000</td>\n",
       "      <td>19.850000</td>\n",
       "      <td>4.500000</td>\n",
       "      <td>534.500000</td>\n",
       "      <td>522.500000</td>\n",
       "      <td>1057.500000</td>\n",
       "    </tr>\n",
       "    <tr>\n",
       "      <th>50%</th>\n",
       "      <td>69.000000</td>\n",
       "      <td>20.700000</td>\n",
       "      <td>20.900000</td>\n",
       "      <td>21.800000</td>\n",
       "      <td>21.300000</td>\n",
       "      <td>21.400000</td>\n",
       "      <td>38.000000</td>\n",
       "      <td>559.000000</td>\n",
       "      <td>548.000000</td>\n",
       "      <td>1107.000000</td>\n",
       "      <td>66.000000</td>\n",
       "      <td>21.300000</td>\n",
       "      <td>20.200000</td>\n",
       "      <td>20.700000</td>\n",
       "      <td>21.600000</td>\n",
       "      <td>21.100000</td>\n",
       "      <td>52.000000</td>\n",
       "      <td>552.000000</td>\n",
       "      <td>544.000000</td>\n",
       "      <td>1098.000000</td>\n",
       "    </tr>\n",
       "    <tr>\n",
       "      <th>75%</th>\n",
       "      <td>100.000000</td>\n",
       "      <td>23.300000</td>\n",
       "      <td>23.100000</td>\n",
       "      <td>24.150000</td>\n",
       "      <td>23.200000</td>\n",
       "      <td>23.600000</td>\n",
       "      <td>66.000000</td>\n",
       "      <td>613.000000</td>\n",
       "      <td>599.000000</td>\n",
       "      <td>1212.000000</td>\n",
       "      <td>100.000000</td>\n",
       "      <td>23.550000</td>\n",
       "      <td>23.700000</td>\n",
       "      <td>23.150000</td>\n",
       "      <td>24.100000</td>\n",
       "      <td>23.050000</td>\n",
       "      <td>77.500000</td>\n",
       "      <td>610.500000</td>\n",
       "      <td>593.500000</td>\n",
       "      <td>1204.000000</td>\n",
       "    </tr>\n",
       "    <tr>\n",
       "      <th>max</th>\n",
       "      <td>100.000000</td>\n",
       "      <td>25.500000</td>\n",
       "      <td>25.300000</td>\n",
       "      <td>26.000000</td>\n",
       "      <td>24.900000</td>\n",
       "      <td>25.500000</td>\n",
       "      <td>100.000000</td>\n",
       "      <td>644.000000</td>\n",
       "      <td>651.000000</td>\n",
       "      <td>1295.000000</td>\n",
       "      <td>100.000000</td>\n",
       "      <td>25.600000</td>\n",
       "      <td>26.000000</td>\n",
       "      <td>25.200000</td>\n",
       "      <td>26.100000</td>\n",
       "      <td>24.900000</td>\n",
       "      <td>100.000000</td>\n",
       "      <td>643.000000</td>\n",
       "      <td>655.000000</td>\n",
       "      <td>1298.000000</td>\n",
       "    </tr>\n",
       "  </tbody>\n",
       "</table>\n",
       "</div>"
      ],
      "text/plain": [
       "       participationact17  englishact17  mathact17  readingact17  \\\n",
       "count           51.000000     51.000000  51.000000     51.000000   \n",
       "mean            65.254902     20.931373  21.182353     22.013725   \n",
       "std             32.140842      2.353677   1.981989      2.067271   \n",
       "min              8.000000     16.300000  18.000000     18.100000   \n",
       "25%             31.000000     19.000000  19.400000     20.450000   \n",
       "50%             69.000000     20.700000  20.900000     21.800000   \n",
       "75%            100.000000     23.300000  23.100000     24.150000   \n",
       "max            100.000000     25.500000  25.300000     26.000000   \n",
       "\n",
       "       scienceact17  compositeact17  participationsat17  \\\n",
       "count     51.000000       51.000000           51.000000   \n",
       "mean      21.450980       21.519608           39.803922   \n",
       "std        1.739353        2.020695           35.276632   \n",
       "min       18.200000       17.800000            2.000000   \n",
       "25%       19.950000       19.800000            4.000000   \n",
       "50%       21.300000       21.400000           38.000000   \n",
       "75%       23.200000       23.600000           66.000000   \n",
       "max       24.900000       25.500000          100.000000   \n",
       "\n",
       "       evidence-based_reading_and_writingsat17   mathsat17   totalsat17  \\\n",
       "count                                51.000000   51.000000    51.000000   \n",
       "mean                                569.117647  556.882353  1126.098039   \n",
       "std                                  45.666901   47.121395    92.494812   \n",
       "min                                 482.000000  468.000000   950.000000   \n",
       "25%                                 533.500000  523.500000  1055.500000   \n",
       "50%                                 559.000000  548.000000  1107.000000   \n",
       "75%                                 613.000000  599.000000  1212.000000   \n",
       "max                                 644.000000  651.000000  1295.000000   \n",
       "\n",
       "       participationact18  compositeact18  englishact18  mathact18  \\\n",
       "count           51.000000       51.000000     51.000000  51.000000   \n",
       "mean            61.647059       21.486275     20.988235  21.125490   \n",
       "std             34.080976        2.106278      2.446356   2.035765   \n",
       "min              7.000000       17.700000     16.600000  17.800000   \n",
       "25%             28.500000       19.950000     19.100000  19.400000   \n",
       "50%             66.000000       21.300000     20.200000  20.700000   \n",
       "75%            100.000000       23.550000     23.700000  23.150000   \n",
       "max            100.000000       25.600000     26.000000  25.200000   \n",
       "\n",
       "       readingact18  scienceact18  participationsat18  \\\n",
       "count     51.000000     51.000000           51.000000   \n",
       "mean      22.015686     21.345098           45.745098   \n",
       "std        2.167245      1.870114           37.314256   \n",
       "min       18.000000     17.900000            2.000000   \n",
       "25%       20.450000     19.850000            4.500000   \n",
       "50%       21.600000     21.100000           52.000000   \n",
       "75%       24.100000     23.050000           77.500000   \n",
       "max       26.100000     24.900000          100.000000   \n",
       "\n",
       "       evidence-based_reading_and_writingsat18   mathsat18   totalsat18  \n",
       "count                                51.000000   51.000000    51.000000  \n",
       "mean                                563.686275  556.235294  1120.019608  \n",
       "std                                  47.502627   47.772623    94.155083  \n",
       "min                                 480.000000  480.000000   977.000000  \n",
       "25%                                 534.500000  522.500000  1057.500000  \n",
       "50%                                 552.000000  544.000000  1098.000000  \n",
       "75%                                 610.500000  593.500000  1204.000000  \n",
       "max                                 643.000000  655.000000  1298.000000  "
      ]
     },
     "execution_count": 81,
     "metadata": {},
     "output_type": "execute_result"
    }
   ],
   "source": [
    "combined_2017_2018.describe()"
   ]
  },
  {
   "cell_type": "code",
   "execution_count": 82,
   "metadata": {},
   "outputs": [],
   "source": [
    "### if you had instead called combined_2017_2018.describe().T (the transpose of the DataFrame), the results would have \n",
    "### been much easier to read"
   ]
  },
  {
   "cell_type": "markdown",
   "metadata": {},
   "source": [
    "#### Manually calculate standard deviation\n",
    "\n",
    "$$\\sigma = \\sqrt{\\frac{1}{n}\\sum_{i=1}^n(x_i - \\mu)^2}$$\n",
    "\n",
    "- Write a function to calculate standard deviation using the formula above"
   ]
  },
  {
   "cell_type": "code",
   "execution_count": 86,
   "metadata": {},
   "outputs": [],
   "source": [
    "def calc_std(my_list):\n",
    "    diff = []\n",
    "    sum_1 = sum(my_list)\n",
    "    n = len(my_list)\n",
    "    mean = sum_1/n                        ### or just np.mean(my_list)\n",
    "             \n",
    "    for i in my_list:                     ### Usually use i,j,k for indices, not elements. \n",
    "        difference = i - mean             ### eg for i in range(len(values)), x += ((values[i] - mean)**2) \n",
    "        diff.append(difference**2)        ### Something like v for values would be a bit clearer\n",
    "    \n",
    "    std_div = ((sum(diff))/n)**0.5        ### Would be faster if you just summed through the for look instead of appending \n",
    "    return(std_div)                       ### to a list and summing at the end anyway. Also better for system memory.\n",
    "#returns SD"
   ]
  },
  {
   "cell_type": "code",
   "execution_count": 108,
   "metadata": {},
   "outputs": [],
   "source": [
    "### def new_std(my_list):                    ### Compare new_std with calc_std\n",
    "###    total = 0                             ### import timeit\n",
    "###    n = len(my_list)                      ### %timeit new_std(range(1000))\n",
    "###    mean = sum(my_list) /n                ### should be slightly faster\n",
    "###             \n",
    "###    for val in my_list:                     \n",
    "###        total += (val - mean)**2          ### don't waste memory creating new variables if you're going to use them \n",
    "###                                          ### in the next line anyway\n",
    "###    return (total/n)**0.5                      "
   ]
  },
  {
   "cell_type": "markdown",
   "metadata": {},
   "source": [
    "- Use a **dictionary comprehension** to apply your standard deviation function to each numeric column in the dataframe.  **No loops**  \n",
    "- Assign the output to variable `sd` as a dictionary where: \n",
    "    - Each column name is now a key \n",
    "    - That standard deviation of the column is the value \n",
    "     \n",
    "*Example Output :* `{'ACT_Math': 120, 'ACT_Reading': 120, ...}`"
   ]
  },
  {
   "cell_type": "code",
   "execution_count": 109,
   "metadata": {},
   "outputs": [],
   "source": [
    "sd = {col.name:calc_std(col) for col in [combined_2017_2018[i] for i in combined_2017_2018.columns if (combined_2017_2018[i].dtype=='float64') or (combined_2017_2018[i].dtype=='int64')]}\n",
    "# this prints out the std div for combined_2017_2018\n"
   ]
  },
  {
   "cell_type": "code",
   "execution_count": 110,
   "metadata": {},
   "outputs": [
    {
     "data": {
      "text/plain": [
       "{'participationact17': 31.824175751231806,\n",
       " 'englishact17': 2.3304876369363363,\n",
       " 'mathact17': 1.9624620273436781,\n",
       " 'readingact17': 2.0469029314842646,\n",
       " 'scienceact17': 1.7222161451443676,\n",
       " 'compositeact17': 2.000786081581989,\n",
       " 'participationsat17': 34.92907076664508,\n",
       " 'evidence-based_reading_and_writingsat17': 45.21697020437866,\n",
       " 'mathsat17': 46.65713364485503,\n",
       " 'totalsat17': 91.58351056778743,\n",
       " 'participationact18': 33.745194881997506,\n",
       " 'compositeact18': 2.0855261815801147,\n",
       " 'englishact18': 2.4222536143202795,\n",
       " 'mathact18': 2.015707255555717,\n",
       " 'readingact18': 2.145891884510421,\n",
       " 'scienceact18': 1.8516885484833543,\n",
       " 'participationsat18': 36.946619223539415,\n",
       " 'evidence-based_reading_and_writingsat18': 47.03460978357609,\n",
       " 'mathsat18': 47.30194550378352,\n",
       " 'totalsat18': 93.22742384464433}"
      ]
     },
     "execution_count": 110,
     "metadata": {},
     "output_type": "execute_result"
    }
   ],
   "source": [
    "sd"
   ]
  },
  {
   "cell_type": "markdown",
   "metadata": {},
   "source": [
    "Do your manually calculated standard deviations match up with the output from pandas `describe`? What about numpy's `std` method?"
   ]
  },
  {
   "cell_type": "markdown",
   "metadata": {},
   "source": [
    "Answer:\n",
    "\n",
    "No, The output from pandas describe and numpy's std use the formula to give the unbiased estimate of the population std deviation, dividing by n-1 while the formula above tells me to use n, and this is the sample var.\n"
   ]
  },
  {
   "cell_type": "markdown",
   "metadata": {},
   "source": [
    "#### Investigate trends in the data\n",
    "Using sorting and/or masking (along with the `.head` method to not print our entire dataframe), consider the following questions:\n",
    "\n",
    "- Which states have the highest and lowest participation rates for the:\n",
    "    - 2017 SAT?\n",
    "    - 2018 SAT?\n",
    "    - 2017 ACT?\n",
    "    - 2018 ACT?\n",
    "- Which states have the highest and lowest mean total/composite scores for the:\n",
    "    - 2017 SAT?\n",
    "    - 2018 SAT?\n",
    "    - 2017 ACT?\n",
    "    - 2018 ACT?\n",
    "- Do any states with 100% participation on a given test have a rate change year-to-year?\n",
    "- Do any states show have >50% participation on *both* tests either year?\n",
    "\n",
    "Based on what you've just observed, have you identified any states that you're especially interested in? **Make a note of these and state *why* you think they're interesting**.\n",
    "\n",
    "**You should comment on your findings at each step in a markdown cell below your code block**. Make sure you include at least one example of sorting your dataframe by a column, and one example of using boolean filtering (i.e., masking) to select a subset of the dataframe."
   ]
  },
  {
   "cell_type": "code",
   "execution_count": 111,
   "metadata": {
    "scrolled": true
   },
   "outputs": [
    {
     "data": {
      "text/html": [
       "<div>\n",
       "<style scoped>\n",
       "    .dataframe tbody tr th:only-of-type {\n",
       "        vertical-align: middle;\n",
       "    }\n",
       "\n",
       "    .dataframe tbody tr th {\n",
       "        vertical-align: top;\n",
       "    }\n",
       "\n",
       "    .dataframe thead th {\n",
       "        text-align: right;\n",
       "    }\n",
       "</style>\n",
       "<table border=\"1\" class=\"dataframe\">\n",
       "  <thead>\n",
       "    <tr style=\"text-align: right;\">\n",
       "      <th></th>\n",
       "      <th>State</th>\n",
       "      <th>participationact18</th>\n",
       "      <th>compositeact18</th>\n",
       "      <th>englishact18</th>\n",
       "      <th>mathact18</th>\n",
       "      <th>readingact18</th>\n",
       "      <th>scienceact18</th>\n",
       "    </tr>\n",
       "  </thead>\n",
       "  <tbody>\n",
       "    <tr>\n",
       "      <th>0</th>\n",
       "      <td>Alabama</td>\n",
       "      <td>100.0</td>\n",
       "      <td>19.1</td>\n",
       "      <td>18.9</td>\n",
       "      <td>18.3</td>\n",
       "      <td>19.6</td>\n",
       "      <td>19.0</td>\n",
       "    </tr>\n",
       "    <tr>\n",
       "      <th>3</th>\n",
       "      <td>Arkansas</td>\n",
       "      <td>100.0</td>\n",
       "      <td>19.4</td>\n",
       "      <td>19.1</td>\n",
       "      <td>18.9</td>\n",
       "      <td>19.7</td>\n",
       "      <td>19.4</td>\n",
       "    </tr>\n",
       "    <tr>\n",
       "      <th>17</th>\n",
       "      <td>Kentucky</td>\n",
       "      <td>100.0</td>\n",
       "      <td>20.2</td>\n",
       "      <td>19.9</td>\n",
       "      <td>19.7</td>\n",
       "      <td>20.8</td>\n",
       "      <td>20.1</td>\n",
       "    </tr>\n",
       "    <tr>\n",
       "      <th>18</th>\n",
       "      <td>Louisiana</td>\n",
       "      <td>100.0</td>\n",
       "      <td>19.2</td>\n",
       "      <td>19.0</td>\n",
       "      <td>18.5</td>\n",
       "      <td>19.6</td>\n",
       "      <td>19.1</td>\n",
       "    </tr>\n",
       "    <tr>\n",
       "      <th>24</th>\n",
       "      <td>Mississippi</td>\n",
       "      <td>100.0</td>\n",
       "      <td>18.6</td>\n",
       "      <td>18.2</td>\n",
       "      <td>18.1</td>\n",
       "      <td>18.9</td>\n",
       "      <td>18.6</td>\n",
       "    </tr>\n",
       "    <tr>\n",
       "      <th>25</th>\n",
       "      <td>Missouri</td>\n",
       "      <td>100.0</td>\n",
       "      <td>20.0</td>\n",
       "      <td>19.5</td>\n",
       "      <td>19.7</td>\n",
       "      <td>20.5</td>\n",
       "      <td>20.0</td>\n",
       "    </tr>\n",
       "    <tr>\n",
       "      <th>26</th>\n",
       "      <td>Montana</td>\n",
       "      <td>100.0</td>\n",
       "      <td>20.0</td>\n",
       "      <td>18.7</td>\n",
       "      <td>19.9</td>\n",
       "      <td>20.7</td>\n",
       "      <td>20.0</td>\n",
       "    </tr>\n",
       "    <tr>\n",
       "      <th>27</th>\n",
       "      <td>Nebraska</td>\n",
       "      <td>100.0</td>\n",
       "      <td>20.1</td>\n",
       "      <td>19.4</td>\n",
       "      <td>19.8</td>\n",
       "      <td>20.4</td>\n",
       "      <td>20.1</td>\n",
       "    </tr>\n",
       "    <tr>\n",
       "      <th>28</th>\n",
       "      <td>Nevada</td>\n",
       "      <td>100.0</td>\n",
       "      <td>17.7</td>\n",
       "      <td>16.6</td>\n",
       "      <td>17.8</td>\n",
       "      <td>18.0</td>\n",
       "      <td>17.9</td>\n",
       "    </tr>\n",
       "    <tr>\n",
       "      <th>33</th>\n",
       "      <td>North Carolina</td>\n",
       "      <td>100.0</td>\n",
       "      <td>19.1</td>\n",
       "      <td>18.0</td>\n",
       "      <td>19.3</td>\n",
       "      <td>19.5</td>\n",
       "      <td>19.2</td>\n",
       "    </tr>\n",
       "    <tr>\n",
       "      <th>35</th>\n",
       "      <td>Ohio</td>\n",
       "      <td>100.0</td>\n",
       "      <td>20.3</td>\n",
       "      <td>19.3</td>\n",
       "      <td>20.3</td>\n",
       "      <td>20.8</td>\n",
       "      <td>20.4</td>\n",
       "    </tr>\n",
       "    <tr>\n",
       "      <th>36</th>\n",
       "      <td>Oklahoma</td>\n",
       "      <td>100.0</td>\n",
       "      <td>19.3</td>\n",
       "      <td>18.4</td>\n",
       "      <td>18.8</td>\n",
       "      <td>20.1</td>\n",
       "      <td>19.4</td>\n",
       "    </tr>\n",
       "    <tr>\n",
       "      <th>40</th>\n",
       "      <td>South Carolina</td>\n",
       "      <td>100.0</td>\n",
       "      <td>18.3</td>\n",
       "      <td>17.3</td>\n",
       "      <td>18.2</td>\n",
       "      <td>18.6</td>\n",
       "      <td>18.5</td>\n",
       "    </tr>\n",
       "    <tr>\n",
       "      <th>42</th>\n",
       "      <td>Tennessee</td>\n",
       "      <td>100.0</td>\n",
       "      <td>19.6</td>\n",
       "      <td>19.4</td>\n",
       "      <td>19.1</td>\n",
       "      <td>19.9</td>\n",
       "      <td>19.6</td>\n",
       "    </tr>\n",
       "    <tr>\n",
       "      <th>44</th>\n",
       "      <td>Utah</td>\n",
       "      <td>100.0</td>\n",
       "      <td>20.4</td>\n",
       "      <td>19.7</td>\n",
       "      <td>19.9</td>\n",
       "      <td>20.9</td>\n",
       "      <td>20.5</td>\n",
       "    </tr>\n",
       "    <tr>\n",
       "      <th>49</th>\n",
       "      <td>Wisconsin</td>\n",
       "      <td>100.0</td>\n",
       "      <td>20.5</td>\n",
       "      <td>19.8</td>\n",
       "      <td>20.3</td>\n",
       "      <td>20.6</td>\n",
       "      <td>20.8</td>\n",
       "    </tr>\n",
       "    <tr>\n",
       "      <th>50</th>\n",
       "      <td>Wyoming</td>\n",
       "      <td>100.0</td>\n",
       "      <td>20.0</td>\n",
       "      <td>19.0</td>\n",
       "      <td>19.7</td>\n",
       "      <td>20.6</td>\n",
       "      <td>20.3</td>\n",
       "    </tr>\n",
       "  </tbody>\n",
       "</table>\n",
       "</div>"
      ],
      "text/plain": [
       "             State  participationact18  compositeact18  englishact18  \\\n",
       "0          Alabama               100.0            19.1          18.9   \n",
       "3         Arkansas               100.0            19.4          19.1   \n",
       "17        Kentucky               100.0            20.2          19.9   \n",
       "18       Louisiana               100.0            19.2          19.0   \n",
       "24     Mississippi               100.0            18.6          18.2   \n",
       "25        Missouri               100.0            20.0          19.5   \n",
       "26         Montana               100.0            20.0          18.7   \n",
       "27        Nebraska               100.0            20.1          19.4   \n",
       "28          Nevada               100.0            17.7          16.6   \n",
       "33  North Carolina               100.0            19.1          18.0   \n",
       "35            Ohio               100.0            20.3          19.3   \n",
       "36        Oklahoma               100.0            19.3          18.4   \n",
       "40  South Carolina               100.0            18.3          17.3   \n",
       "42       Tennessee               100.0            19.6          19.4   \n",
       "44            Utah               100.0            20.4          19.7   \n",
       "49       Wisconsin               100.0            20.5          19.8   \n",
       "50         Wyoming               100.0            20.0          19.0   \n",
       "\n",
       "    mathact18  readingact18  scienceact18  \n",
       "0        18.3          19.6          19.0  \n",
       "3        18.9          19.7          19.4  \n",
       "17       19.7          20.8          20.1  \n",
       "18       18.5          19.6          19.1  \n",
       "24       18.1          18.9          18.6  \n",
       "25       19.7          20.5          20.0  \n",
       "26       19.9          20.7          20.0  \n",
       "27       19.8          20.4          20.1  \n",
       "28       17.8          18.0          17.9  \n",
       "33       19.3          19.5          19.2  \n",
       "35       20.3          20.8          20.4  \n",
       "36       18.8          20.1          19.4  \n",
       "40       18.2          18.6          18.5  \n",
       "42       19.1          19.9          19.6  \n",
       "44       19.9          20.9          20.5  \n",
       "49       20.3          20.6          20.8  \n",
       "50       19.7          20.6          20.3  "
      ]
     },
     "execution_count": 111,
     "metadata": {},
     "output_type": "execute_result"
    }
   ],
   "source": [
    "sat_2017[sat_2017.participationsat17 == sat_2017.participationsat17.max()]\n",
    "sat_2017[sat_2017.participationsat17 == sat_2017.participationsat17.min()]\n",
    "\n",
    "sat_2018[sat_2018.participationsat18 == sat_2018.participationsat18.max()]\n",
    "sat_2018[sat_2018.participationsat18 == sat_2018.participationsat18.min()]\n",
    "\n",
    "act_2017[act_2017.participationact17 == act_2017.participationact17.min()]\n",
    "act_2017[act_2017.participationact17 == act_2017.participationact17.max()]\n",
    "\n",
    "act_2018_updated[act_2018_updated.participationact18 == act_2018_updated.participationact18.min()]\n",
    "act_2018_updated[act_2018_updated.participationact18 == act_2018_updated.participationact18.max()]\n",
    "\n",
    "#Returns min max"
   ]
  },
  {
   "cell_type": "code",
   "execution_count": null,
   "metadata": {},
   "outputs": [],
   "source": []
  },
  {
   "cell_type": "markdown",
   "metadata": {},
   "source": [
    "- Which states have the highest and lowest participation rates for the:\n",
    "    - 2017 SAT? - Highest - Conneticut, Delware, D.C Michicgan with 100% each Lowest - Iowa, Missisipi and North Dakota with 1% percent each\n",
    "    - 2018 SAT? - Highest - Colorado, Conneticut, Delaware, Idaho, Michigan with 100% each, Lowest - North Dakota with 2%\n",
    "    - 2017 ACT? Highest - Alabama, Arkansas, Colorado, Kentucky, Louisiana, Minnesota, Mississipi, Montana, Nevada, North Carolina, Oklahoma, South Carolina, Tennessee, Utah, Wyoming, Wisconsin Lowest: Maine with 8%\n",
    "    - 2018 ACT? - Highest - Alabama, Arkansas, Kentucky, Louisiana, Mississippi, Missouri, Montana, Nerbaska, Nevada, North Carolina, Ohio, Oklahoma, South Carolina, Tennessee, Utah, Wisconsin, Wyoming Lowest: Maine with 7%"
   ]
  },
  {
   "cell_type": "code",
   "execution_count": 121,
   "metadata": {},
   "outputs": [
    {
     "data": {
      "text/html": [
       "<div>\n",
       "<style scoped>\n",
       "    .dataframe tbody tr th:only-of-type {\n",
       "        vertical-align: middle;\n",
       "    }\n",
       "\n",
       "    .dataframe tbody tr th {\n",
       "        vertical-align: top;\n",
       "    }\n",
       "\n",
       "    .dataframe thead th {\n",
       "        text-align: right;\n",
       "    }\n",
       "</style>\n",
       "<table border=\"1\" class=\"dataframe\">\n",
       "  <thead>\n",
       "    <tr style=\"text-align: right;\">\n",
       "      <th></th>\n",
       "      <th>State</th>\n",
       "      <th>participationsat18</th>\n",
       "      <th>evidence-based_reading_and_writingsat18</th>\n",
       "      <th>mathsat18</th>\n",
       "      <th>totalsat18</th>\n",
       "    </tr>\n",
       "  </thead>\n",
       "  <tbody>\n",
       "    <tr>\n",
       "      <th>8</th>\n",
       "      <td>District of Columbia</td>\n",
       "      <td>92.0</td>\n",
       "      <td>497</td>\n",
       "      <td>480</td>\n",
       "      <td>977</td>\n",
       "    </tr>\n",
       "  </tbody>\n",
       "</table>\n",
       "</div>"
      ],
      "text/plain": [
       "                  State  participationsat18  \\\n",
       "8  District of Columbia                92.0   \n",
       "\n",
       "   evidence-based_reading_and_writingsat18  mathsat18  totalsat18  \n",
       "8                                      497        480         977  "
      ]
     },
     "execution_count": 121,
     "metadata": {},
     "output_type": "execute_result"
    }
   ],
   "source": [
    "#Code to find the above inferences:\n",
    "\n",
    "act_2018_updated[act_2018_updated.compositeact18 == act_2018_updated.compositeact18.max()]\n",
    "act_2018_updated[act_2018_updated.compositeact18 == act_2018_updated.compositeact18.min()]\n",
    "\n",
    "act_2017[act_2017.compositeact17 == act_2017.compositeact17.max()]\n",
    "act_2017[act_2017.compositeact17 == act_2017.compositeact17.min()]\n",
    "\n",
    "sat_2017[sat_2017.totalsat17 == sat_2017.totalsat17.max()]\n",
    "sat_2017[sat_2017.totalsat17 == sat_2017.totalsat17.min()]\n",
    "\n",
    "sat_2018[sat_2018.totalsat18 == sat_2018.totalsat18.max()]\n",
    "sat_2018[sat_2018.totalsat18 == sat_2018.totalsat18.min()]"
   ]
  },
  {
   "cell_type": "markdown",
   "metadata": {},
   "source": [
    "Which states have the highest and lowest mean total/composite scores for the:\n",
    "2017 SAT? Highest- Minnesota Lowest: District of Columbia \n",
    "2018 SAT? Highest- Minnesota Lowest: Distict of Columbia\n",
    "2017 ACT? Highest - New Hampshire, Lowest- Nevada\n",
    "2018 ACT? Highest- Conneticut, Lowest- Nevada"
   ]
  },
  {
   "cell_type": "markdown",
   "metadata": {},
   "source": [
    "Do any states with 100% participation on a given test have a rate change year-to-year? yes, these states have less than 100% in 2018 compared to 2017:\n",
    "\n",
    "Yes for SAT: Michigan\n",
    "\n",
    "Yes for ACT: Colorado, Minnesota"
   ]
  },
  {
   "cell_type": "markdown",
   "metadata": {},
   "source": [
    "## Visualize the data\n",
    "\n",
    "There's not a magic bullet recommendation for the right number of plots to understand a given dataset, but visualizing your data is *always* a good idea. Not only does it allow you to quickly convey your findings (even if you have a non-technical audience), it will often reveal trends in your data that escaped you when you were looking only at numbers.\n",
    "\n",
    "Some recommendations on plotting:\n",
    "- Plots have titles\n",
    "- Plots have axis labels\n",
    "- Plots have appropriate tick labels\n",
    "- All text is legible in a plot\n",
    "- Plots demonstrate meaningful and valid relationships\n",
    "- Plots are interpreted to aid understanding\n",
    "\n",
    "There is such a thing as too many plots, and there are a *lot* of bad plots. You might make some! (But hopefully not with the guided prompts below)."
   ]
  },
  {
   "cell_type": "markdown",
   "metadata": {},
   "source": [
    "#### Use Seaborn's heatmap with pandas `.corr()` to visualize correlations between all numeric features\n",
    "\n",
    "Heatmaps are generally not appropriate for presentations, and should often be excluded from reports as they can be visually overwhelming. **However**, they can be extremely useful in identify relationships of potential interest (as well as identifying potential collinearity before modeling).\n",
    "\n",
    "*example*:\n",
    "```python\n",
    "sns.heatmap(df.corr())\n",
    "```\n",
    "\n",
    "Please take time to format your output, adding a title. Look through some of the additional arguments and options. (Axis labels aren't really necessary, as long as the title is informative)."
   ]
  },
  {
   "cell_type": "code",
   "execution_count": 122,
   "metadata": {},
   "outputs": [
    {
     "data": {
      "text/plain": [
       "Text(0.5, 1, 'Correlation between SAT and ACT in 2017')"
      ]
     },
     "execution_count": 122,
     "metadata": {},
     "output_type": "execute_result"
    },
    {
     "data": {
      "image/png": "[encoded data removed]",
      "text/plain": [
       "<Figure size 648x432 with 2 Axes>"
      ]
     },
     "metadata": {
      "needs_background": "light"
     },
     "output_type": "display_data"
    }
   ],
   "source": [
    "plt.figure(figsize=(9, 6))\n",
    "sns.heatmap(combined_2017.corr(), cmap = 'coolwarm').set_title('Correlation between SAT and ACT in 2017')\n",
    "\n",
    "\n",
    "\n"
   ]
  },
  {
   "cell_type": "code",
   "execution_count": 123,
   "metadata": {},
   "outputs": [
    {
     "data": {
      "text/plain": [
       "Text(0.5, 1, 'Correlation between SAT and ACT in 2018')"
      ]
     },
     "execution_count": 123,
     "metadata": {},
     "output_type": "execute_result"
    },
    {
     "data": {
      "image/png": "[encoded data removed]",
      "text/plain": [
       "<Figure size 648x432 with 2 Axes>"
      ]
     },
     "metadata": {
      "needs_background": "light"
     },
     "output_type": "display_data"
    }
   ],
   "source": [
    "plt.figure(figsize=(9, 6))\n",
    "sns.heatmap(combined_2018.corr(), cmap = 'coolwarm').set_title('Correlation between SAT and ACT in 2018')"
   ]
  },
  {
   "cell_type": "markdown",
   "metadata": {},
   "source": [
    "participation in both years has a strong negative correlation to composite"
   ]
  },
  {
   "cell_type": "markdown",
   "metadata": {},
   "source": [
    "#### Define a custom function to subplot histograms\n",
    "\n",
    "We have data for two tests for two years. We only have composite (and not subtest scores) for the 2018 ACT. We should write a function that will take the names of 2+ columns and subplot histograms. While you can use pandas plotting or Seaborn here, matplotlib gives you greater control over all aspects of your plots.\n",
    "\n",
    "[Helpful Link for Plotting Multiple Figures](https://matplotlib.org/users/pyplot_tutorial.html#working-with-multiple-figures-and-axes)\n",
    "\n",
    "Here's some starter code:"
   ]
  },
  {
   "cell_type": "code",
   "execution_count": 124,
   "metadata": {},
   "outputs": [],
   "source": [
    "def subplot_histograms(dataframe, list_of_columns, list_of_titles, list_of_xlabels):\n",
    "    nrows = int(np.ceil(len(list_of_columns)/2)) # Makes sure you have enough rows\n",
    "    fig, ax = plt.subplots(nrows=nrows, ncols=2)# You'll want to specify your figsize\n",
    "    ax = ax.ravel() # Ravel turns a matrix into a vector, which is easier to iterate\n",
    "    #ax[1].plt.subplots_adjust(left=None, bottom=None, right=None, top=None, wspace=None, hspace=None)\n",
    "    for i, column in enumerate(list_of_columns): # Gives us an index value to get into all our lists\n",
    "        ax[i].hist(dataframe[list_of_columns[i]])\n",
    "        #ax[i].gaussian_kde(dataframe[list_of_columns[i]])\n",
    "        ax[i].set(title=list_of_titles[i], xlabel=list_of_xlabels[i], ylabel = 'Score')\n",
    "        "
   ]
  },
  {
   "cell_type": "markdown",
   "metadata": {},
   "source": [
    "#### Plot and interpret histograms \n",
    "For each of the following:\n",
    "- Participation rates for SAT & ACT\n",
    "- Math scores for SAT & ACT\n",
    "- Reading/verbal scores for SAT & ACT"
   ]
  },
  {
   "cell_type": "markdown",
   "metadata": {},
   "source": [
    "#### SAT and ACT 2017 Participation Rate"
   ]
  },
  {
   "cell_type": "code",
   "execution_count": 125,
   "metadata": {},
   "outputs": [
    {
     "data": {
      "image/png": "[encoded data removed]",
      "text/plain": [
       "<Figure size 432x288 with 2 Axes>"
      ]
     },
     "metadata": {
      "needs_background": "light"
     },
     "output_type": "display_data"
    }
   ],
   "source": [
    "subplot_histograms(combined_2017, ['participationsat17', 'participationact17'],['Participation SAT 2017', 'Participation ACT 2017'], ['Participation Rate %', 'Participation Rate %'])# Code"
   ]
  },
  {
   "cell_type": "code",
   "execution_count": 129,
   "metadata": {},
   "outputs": [],
   "source": [
    "### plot is misleading. y-axis labels shouldn't be score if this is a histogram, and should be shared across the subplots.\n",
    "### x axis also have different scales. It should be should be plt.subplots(..., sharex='row',sharey='row') \n",
    "### for it to share the x and y axes across subplot rows. Doing this should also prevent the doubled y-axis labels\n",
    "### score, score from interfering with the plot."
   ]
  },
  {
   "cell_type": "markdown",
   "metadata": {},
   "source": [
    "#### Math SAT and ACT 2017 "
   ]
  },
  {
   "cell_type": "code",
   "execution_count": 130,
   "metadata": {},
   "outputs": [
    {
     "data": {
      "image/png": "[encoded data removed]",
      "text/plain": [
       "<Figure size 432x288 with 2 Axes>"
      ]
     },
     "metadata": {
      "needs_background": "light"
     },
     "output_type": "display_data"
    }
   ],
   "source": [
    "subplot_histograms(combined_2017, ['mathsat17', 'mathact17'],['Math SAT 2017', 'Math ACT 2017'], ['SAT Math Score', 'ACT Math Score'])# Code"
   ]
  },
  {
   "cell_type": "markdown",
   "metadata": {},
   "source": [
    "#### Reading/Verbal Scores for SAT an ACT 2017"
   ]
  },
  {
   "cell_type": "code",
   "execution_count": 131,
   "metadata": {
    "scrolled": true
   },
   "outputs": [
    {
     "data": {
      "image/png": "[encoded data removed]",
      "text/plain": [
       "<Figure size 432x288 with 2 Axes>"
      ]
     },
     "metadata": {
      "needs_background": "light"
     },
     "output_type": "display_data"
    }
   ],
   "source": [
    "subplot_histograms(combined_2017, ['evidence-based_reading_and_writingsat17', 'readingact17'],['Reading and Writing SAT 2017', 'Reading ACT 2017'], ['SAT Math Score', 'ACT Reading Score'])# Code"
   ]
  },
  {
   "cell_type": "code",
   "execution_count": 132,
   "metadata": {},
   "outputs": [],
   "source": [
    "### Very confusing plot. Top left says SAT reading and writing but below that it says SAT Math Score. Same problem with \n",
    "### histogram count/frequency taken to be a score. "
   ]
  },
  {
   "cell_type": "markdown",
   "metadata": {},
   "source": [
    "#### SAT and ACT 2018 Participation Rate"
   ]
  },
  {
   "cell_type": "code",
   "execution_count": 94,
   "metadata": {},
   "outputs": [
    {
     "data": {
      "image/png": "[encoded data removed]",
      "text/plain": [
       "<Figure size 432x288 with 2 Axes>"
      ]
     },
     "metadata": {},
     "output_type": "display_data"
    }
   ],
   "source": [
    "subplot_histograms(combined_2018, ['participationsat18', 'participationact18'],['Participation SAT 2018', 'Participation ACT 2018'], ['Participation Rate %', 'Participation Rate %'])# Code"
   ]
  },
  {
   "cell_type": "code",
   "execution_count": 133,
   "metadata": {},
   "outputs": [],
   "source": [
    "### Slightly better with regards to axis labels, but scaling issues still present"
   ]
  },
  {
   "cell_type": "markdown",
   "metadata": {},
   "source": [
    "#### Math SAT and ACT 2018"
   ]
  },
  {
   "cell_type": "code",
   "execution_count": 134,
   "metadata": {},
   "outputs": [
    {
     "data": {
      "image/png": "[encoded data removed]",
      "text/plain": [
       "<Figure size 432x288 with 2 Axes>"
      ]
     },
     "metadata": {
      "needs_background": "light"
     },
     "output_type": "display_data"
    }
   ],
   "source": [
    "subplot_histograms(combined_2018, ['mathsat18', 'mathact18'],['Math SAT 2018', 'Math ACT 2018'], ['SAT Math Score', 'ACT Math Score'])# Code"
   ]
  },
  {
   "cell_type": "markdown",
   "metadata": {},
   "source": [
    "#### Reading/Verbal Scores for SAT an ACT 2018"
   ]
  },
  {
   "cell_type": "code",
   "execution_count": 135,
   "metadata": {},
   "outputs": [
    {
     "data": {
      "image/png": "[encoded data removed]",
      "text/plain": [
       "<Figure size 432x288 with 2 Axes>"
      ]
     },
     "metadata": {
      "needs_background": "light"
     },
     "output_type": "display_data"
    }
   ],
   "source": [
    "subplot_histograms(combined_2018, ['evidence-based_reading_and_writingsat18', 'readingact18'],['Reading and Writing SAT 2018', 'Reading ACT 2018'], ['SAT Reading and Writing Score', 'ACT Reading Score'])# Code"
   ]
  },
  {
   "cell_type": "markdown",
   "metadata": {},
   "source": [
    "#### Plot and interpret scatter plots\n",
    "\n",
    "For each of the following:\n",
    "- SAT vs. ACT math scores for 2017\n",
    "- SAT vs. ACT verbal/reading scores for 2017\n",
    "- SAT vs. ACT total/composite scores for 2017\n",
    "- Total scores for SAT 2017 vs. 2018\n",
    "- Composite scores for ACT 2017 vs. 2018\n",
    "\n",
    "Plot the two variables against each other using matplotlib or Seaborn\n",
    "\n",
    "Your plots should show:\n",
    "- Two clearly labeled axes\n",
    "- A proper title\n",
    "- Using colors and symbols that are clear and unmistakable\n",
    "\n",
    "**Feel free to write a custom function, and subplot if you'd like.** Functions save both time and space.\n"
   ]
  },
  {
   "cell_type": "markdown",
   "metadata": {},
   "source": [
    "#### SAT ACT Math Scores 2017"
   ]
  },
  {
   "cell_type": "code",
   "execution_count": 136,
   "metadata": {},
   "outputs": [
    {
     "data": {
      "text/plain": [
       "Text(0, 0.5, 'ACT Math 2017 Score')"
      ]
     },
     "execution_count": 136,
     "metadata": {},
     "output_type": "execute_result"
    },
    {
     "data": {
      "image/png": "[encoded data removed]",
      "text/plain": [
       "<Figure size 432x288 with 1 Axes>"
      ]
     },
     "metadata": {
      "needs_background": "light"
     },
     "output_type": "display_data"
    }
   ],
   "source": [
    "plt.scatter(sat_2017['mathsat17'], act_2017['mathact17'])\n",
    "plt.title('SAT ACT Math Scores 2017')\n",
    "plt.xlabel('SAT Math 2017 Score')\n",
    "plt.ylabel('ACT Math 2017 Score')\n"
   ]
  },
  {
   "cell_type": "markdown",
   "metadata": {},
   "source": [
    "#### SAT ACT Verbal/Reading Scores 2017"
   ]
  },
  {
   "cell_type": "code",
   "execution_count": 137,
   "metadata": {},
   "outputs": [
    {
     "data": {
      "text/plain": [
       "Text(0, 0.5, 'ACT Reading 2017 Score')"
      ]
     },
     "execution_count": 137,
     "metadata": {},
     "output_type": "execute_result"
    },
    {
     "data": {
      "image/png": "[encoded data removed]",
      "text/plain": [
       "<Figure size 432x288 with 1 Axes>"
      ]
     },
     "metadata": {
      "needs_background": "light"
     },
     "output_type": "display_data"
    }
   ],
   "source": [
    "plt.scatter(sat_2017['evidence-based_reading_and_writingsat17'], act_2017['readingact17'])\n",
    "plt.title('SAT ACT Verbal/Reading Scores 2017')\n",
    "plt.xlabel('SAT Reading and Writing 2017 Score')\n",
    "plt.ylabel('ACT Reading 2017 Score')"
   ]
  },
  {
   "cell_type": "markdown",
   "metadata": {},
   "source": [
    "#### SAT ACT Total/Composite Scores 2017"
   ]
  },
  {
   "cell_type": "code",
   "execution_count": 138,
   "metadata": {},
   "outputs": [
    {
     "data": {
      "text/plain": [
       "Text(0, 0.5, 'ACT Composite 2017 Score')"
      ]
     },
     "execution_count": 138,
     "metadata": {},
     "output_type": "execute_result"
    },
    {
     "data": {
      "image/png": "[encoded data removed]",
      "text/plain": [
       "<Figure size 432x288 with 1 Axes>"
      ]
     },
     "metadata": {
      "needs_background": "light"
     },
     "output_type": "display_data"
    }
   ],
   "source": [
    "plt.scatter(sat_2017['totalsat17'], act_2017['compositeact17'])\n",
    "plt.title('SAT ACT Total/Composite Scores 2017')\n",
    "plt.xlabel('SAT Total 2017 Score')\n",
    "plt.ylabel('ACT Composite 2017 Score')"
   ]
  },
  {
   "cell_type": "markdown",
   "metadata": {},
   "source": [
    "#### Total scores for SAT 2017 vs. 2018"
   ]
  },
  {
   "cell_type": "code",
   "execution_count": 139,
   "metadata": {},
   "outputs": [
    {
     "data": {
      "text/plain": [
       "Text(0, 0.5, 'SAT Total 2018 Score')"
      ]
     },
     "execution_count": 139,
     "metadata": {},
     "output_type": "execute_result"
    },
    {
     "data": {
      "image/png": "[encoded data removed]",
      "text/plain": [
       "<Figure size 432x288 with 1 Axes>"
      ]
     },
     "metadata": {
      "needs_background": "light"
     },
     "output_type": "display_data"
    }
   ],
   "source": [
    "plt.scatter(sat_2017['totalsat17'], sat_2018['totalsat18'])\n",
    "plt.title('SAT Total Scores 2017/18')\n",
    "plt.xlabel('SAT Total 2017 Score')\n",
    "plt.ylabel('SAT Total 2018 Score')"
   ]
  },
  {
   "cell_type": "markdown",
   "metadata": {},
   "source": [
    "#### Composite scores for ACT 2017 vs. 2018"
   ]
  },
  {
   "cell_type": "code",
   "execution_count": 140,
   "metadata": {},
   "outputs": [
    {
     "data": {
      "text/plain": [
       "Text(0, 0.5, 'ACT Composite 2018 Score')"
      ]
     },
     "execution_count": 140,
     "metadata": {},
     "output_type": "execute_result"
    },
    {
     "data": {
      "image/png": "[encoded data removed]",
      "text/plain": [
       "<Figure size 432x288 with 1 Axes>"
      ]
     },
     "metadata": {
      "needs_background": "light"
     },
     "output_type": "display_data"
    }
   ],
   "source": [
    "plt.scatter(act_2017['compositeact17'], act_2018_updated['compositeact18'])\n",
    "plt.title('ACT Composite 2017/18')\n",
    "plt.xlabel('ACT Composite 2017 Score')\n",
    "plt.ylabel('ACT Composite 2018 Score')"
   ]
  },
  {
   "cell_type": "markdown",
   "metadata": {},
   "source": [
    "#### Plot and interpret boxplots\n",
    "\n",
    "For each numeric variable in the dataframe create a boxplot using Seaborn. Boxplots demonstrate central tendency and spread in variables. In a certain sense, these are somewhat redundant with histograms, but you may be better able to identify clear outliers or differences in IQR, etc.\n",
    "\n",
    "Multiple values can be plotted to a single boxplot as long as they are of the same relative scale (meaning they have similar min/max values).\n",
    "\n",
    "Each boxplot should:\n",
    "- Only include variables of a similar scale\n",
    "- Have clear labels for each variable\n",
    "- Have appropriate titles and labels"
   ]
  },
  {
   "cell_type": "code",
   "execution_count": 141,
   "metadata": {},
   "outputs": [
    {
     "data": {
      "text/plain": [
       "Text(0, 0.5, 'Scores')"
      ]
     },
     "execution_count": 141,
     "metadata": {},
     "output_type": "execute_result"
    },
    {
     "data": {
      "image/png": "[encoded data removed]",
      "text/plain": [
       "<Figure size 432x288 with 1 Axes>"
      ]
     },
     "metadata": {},
     "output_type": "display_data"
    }
   ],
   "source": [
    "sns.set(style = \"ticks\", palette = \"pastel\")\n",
    "sns.boxplot( data=combined_2017, order = [\"englishact17\", \"mathact17\", \"readingact17\", \"scienceact17\", \"compositeact17\"])\n",
    "sns.swarmplot( data=combined_2017, order = [\"englishact17\", \"mathact17\", \"readingact17\", \"scienceact17\", \"compositeact17\"], color = \"0.25\")\n",
    "plt.title('ACT 2017 Scores')\n",
    "plt.ylabel('Scores')         "
   ]
  },
  {
   "cell_type": "code",
   "execution_count": 142,
   "metadata": {},
   "outputs": [],
   "source": [
    "### Good plot. This is ok since ACT shares the same scaling for all tests."
   ]
  },
  {
   "cell_type": "code",
   "execution_count": 143,
   "metadata": {},
   "outputs": [
    {
     "data": {
      "text/plain": [
       "Text(0, 0.5, 'Scores')"
      ]
     },
     "execution_count": 143,
     "metadata": {},
     "output_type": "execute_result"
    },
    {
     "data": {
      "image/png": "[encoded data removed]",
      "text/plain": [
       "<Figure size 432x288 with 1 Axes>"
      ]
     },
     "metadata": {},
     "output_type": "display_data"
    }
   ],
   "source": [
    "sns.set(style = \"ticks\", palette = \"pastel\")\n",
    "sns.boxplot( data=combined_2017, order = [\"participationact17\"], width = 0.5)\n",
    "sns.swarmplot(data=combined_2017, order = [\"participationact17\"], color = \"0.25\")\n",
    "plt.title('ACT 2017 Participation')\n",
    "plt.ylabel('Scores')"
   ]
  },
  {
   "cell_type": "code",
   "execution_count": 144,
   "metadata": {},
   "outputs": [
    {
     "data": {
      "text/plain": [
       "Text(0, 0.5, 'Scores')"
      ]
     },
     "execution_count": 144,
     "metadata": {},
     "output_type": "execute_result"
    },
    {
     "data": {
      "image/png": "[encoded data removed]",
      "text/plain": [
       "<Figure size 432x288 with 1 Axes>"
      ]
     },
     "metadata": {},
     "output_type": "display_data"
    }
   ],
   "source": [
    "sns.set(style = \"ticks\", palette = \"pastel\")\n",
    "sns.boxplot( data=combined_2018, order = [\"englishact18\", \"mathact18\", \"readingact18\", \"scienceact18\", \"compositeact18\"])\n",
    "sns.swarmplot( data=combined_2018, order = [\"englishact18\", \"mathact18\", \"readingact18\", \"scienceact18\", \"compositeact18\"], color = \"0.25\")\n",
    "plt.title('ACT 2018 Scores')\n",
    "plt.ylabel('Scores')"
   ]
  },
  {
   "cell_type": "code",
   "execution_count": 145,
   "metadata": {},
   "outputs": [
    {
     "data": {
      "text/plain": [
       "Text(0, 0.5, '%')"
      ]
     },
     "execution_count": 145,
     "metadata": {},
     "output_type": "execute_result"
    },
    {
     "data": {
      "image/png": "[encoded data removed]",
      "text/plain": [
       "<Figure size 432x288 with 1 Axes>"
      ]
     },
     "metadata": {},
     "output_type": "display_data"
    }
   ],
   "source": [
    "sns.set(style = \"ticks\", palette = \"pastel\")\n",
    "sns.boxplot( data=combined_2018, order = [\"participationact18\"], width = 0.5)\n",
    "sns.swarmplot(data=combined_2018, order = [\"participationact18\"], color = \"0.25\")\n",
    "plt.title('ACT 2018 Participation')\n",
    "plt.ylabel('%')"
   ]
  },
  {
   "cell_type": "code",
   "execution_count": 146,
   "metadata": {},
   "outputs": [
    {
     "data": {
      "text/plain": [
       "Text(0, 0.5, 'Scores')"
      ]
     },
     "execution_count": 146,
     "metadata": {},
     "output_type": "execute_result"
    },
    {
     "data": {
      "image/png": "[encoded data removed]",
      "text/plain": [
       "<Figure size 432x288 with 1 Axes>"
      ]
     },
     "metadata": {},
     "output_type": "display_data"
    }
   ],
   "source": [
    "sns.set(style = \"ticks\", palette = \"pastel\")\n",
    "sns.boxplot( data=combined_2017, order = [\"evidence-based_reading_and_writingsat17\", \"mathsat17\"])\n",
    "sns.swarmplot( data=combined_2017, order = [\"evidence-based_reading_and_writingsat17\", \"mathsat17\"], color = \"0.25\")\n",
    "plt.title('SAT 2017 Scores')\n",
    "plt.ylabel('Scores')"
   ]
  },
  {
   "cell_type": "code",
   "execution_count": 147,
   "metadata": {},
   "outputs": [
    {
     "data": {
      "text/plain": [
       "Text(0, 0.5, 'Scores')"
      ]
     },
     "execution_count": 147,
     "metadata": {},
     "output_type": "execute_result"
    },
    {
     "data": {
      "image/png": "[encoded data removed]",
      "text/plain": [
       "<Figure size 432x288 with 1 Axes>"
      ]
     },
     "metadata": {},
     "output_type": "display_data"
    }
   ],
   "source": [
    "sns.set(style = \"ticks\", palette = \"pastel\")\n",
    "sns.boxplot( data=combined_2017, order = [\"totalsat17\"], width = 0.50)\n",
    "sns.swarmplot(data=combined_2017, order = [\"totalsat17\"], color = \"0.25\")\n",
    "plt.title('SAT 2017 Total Scores')\n",
    "plt.ylabel('Scores')"
   ]
  },
  {
   "cell_type": "code",
   "execution_count": 148,
   "metadata": {},
   "outputs": [
    {
     "data": {
      "text/plain": [
       "Text(0, 0.5, '%')"
      ]
     },
     "execution_count": 148,
     "metadata": {},
     "output_type": "execute_result"
    },
    {
     "data": {
      "image/png": "[encoded data removed]",
      "text/plain": [
       "<Figure size 432x288 with 1 Axes>"
      ]
     },
     "metadata": {},
     "output_type": "display_data"
    }
   ],
   "source": [
    "sns.set(style = \"ticks\", palette = \"pastel\")\n",
    "sns.boxplot( data=combined_2017, order = [\"participationsat17\"], width = 0.5)\n",
    "sns.swarmplot(data=combined_2017, order = [\"participationsat17\"], color = \"0.25\")\n",
    "plt.title('Participation %')\n",
    "plt.ylabel('%')"
   ]
  },
  {
   "cell_type": "code",
   "execution_count": 149,
   "metadata": {},
   "outputs": [
    {
     "data": {
      "text/plain": [
       "Text(0, 0.5, 'Scores')"
      ]
     },
     "execution_count": 149,
     "metadata": {},
     "output_type": "execute_result"
    },
    {
     "data": {
      "image/png": "[encoded data removed]",
      "text/plain": [
       "<Figure size 432x288 with 1 Axes>"
      ]
     },
     "metadata": {},
     "output_type": "display_data"
    }
   ],
   "source": [
    "sns.set(style = \"ticks\", palette = \"pastel\")\n",
    "sns.boxplot( data=combined_2018, order = [\"evidence-based_reading_and_writingsat18\", \"mathsat18\"])\n",
    "sns.swarmplot( data=combined_2018, order = [\"evidence-based_reading_and_writingsat18\", \"mathsat18\"], color = \"0.25\")\n",
    "plt.title('SAT 2018 Scores')\n",
    "plt.ylabel('Scores')"
   ]
  },
  {
   "cell_type": "code",
   "execution_count": 150,
   "metadata": {},
   "outputs": [
    {
     "data": {
      "text/plain": [
       "Text(0, 0.5, 'Scores')"
      ]
     },
     "execution_count": 150,
     "metadata": {},
     "output_type": "execute_result"
    },
    {
     "data": {
      "image/png": "[encoded data removed]",
      "text/plain": [
       "<Figure size 432x288 with 1 Axes>"
      ]
     },
     "metadata": {},
     "output_type": "display_data"
    }
   ],
   "source": [
    "sns.set(style = \"ticks\", palette = \"pastel\")\n",
    "sns.boxplot( data=combined_2018, order = [\"totalsat18\"], width = 0.5)\n",
    "sns.swarmplot(data=combined_2018, order = [\"totalsat18\"], color = \"0.25\")\n",
    "plt.title('SAT 2018 Total Scores')\n",
    "plt.ylabel('Scores')"
   ]
  },
  {
   "cell_type": "code",
   "execution_count": 151,
   "metadata": {},
   "outputs": [
    {
     "data": {
      "text/plain": [
       "Text(0, 0.5, '%')"
      ]
     },
     "execution_count": 151,
     "metadata": {},
     "output_type": "execute_result"
    },
    {
     "data": {
      "image/png": "[encoded data removed]",
      "text/plain": [
       "<Figure size 432x288 with 1 Axes>"
      ]
     },
     "metadata": {},
     "output_type": "display_data"
    }
   ],
   "source": [
    "sns.set(style = \"ticks\", palette = \"pastel\")\n",
    "sns.boxplot( data=combined_2018, order = [\"participationsat18\"], width = 0.5)\n",
    "sns.swarmplot(data=combined_2018, order = [\"participationsat18\"], color = \"0.25\")\n",
    "plt.title('SAT 2018 Particpation')\n",
    "plt.ylabel('%')"
   ]
  },
  {
   "cell_type": "markdown",
   "metadata": {},
   "source": [
    "#### Feel free to do additional plots below\n",
    "*(do research and choose your own chart types & variables)*\n",
    "\n",
    "Are there any additional trends or relationships you haven't explored? Was there something interesting you saw that you'd like to dive further into? It's likely that there are a few more plots you might want to generate to support your narrative and recommendations that you are building toward. **As always, make sure you're interpreting your plots as you go**."
   ]
  },
  {
   "cell_type": "code",
   "execution_count": 152,
   "metadata": {},
   "outputs": [
    {
     "data": {
      "text/plain": [
       "Text(0, 0.5, 'ACT Math Score')"
      ]
     },
     "execution_count": 152,
     "metadata": {},
     "output_type": "execute_result"
    },
    {
     "data": {
      "image/png": "[encoded data removed]",
      "text/plain": [
       "<Figure size 432x288 with 1 Axes>"
      ]
     },
     "metadata": {},
     "output_type": "display_data"
    }
   ],
   "source": [
    "plt.scatter(act_2017['participationact17'],act_2017['mathact17'] )\n",
    "plt.title('ACT Math 2017 vs Participation')\n",
    "plt.xlabel('Participation %')\n",
    "plt.ylabel('ACT Math Score')"
   ]
  },
  {
   "cell_type": "markdown",
   "metadata": {},
   "source": [
    "**Graph shows a strong negative linear relationship between ACT Math and Participation Rate**"
   ]
  },
  {
   "cell_type": "code",
   "execution_count": 165,
   "metadata": {},
   "outputs": [],
   "source": [
    "### Might want to do a linear regression to confirm that it's linear and negative. Remember to get rid of the outliers\n",
    "### identified in the box plots before you do the regression or it'll mess up the slope."
   ]
  },
  {
   "cell_type": "code",
   "execution_count": 166,
   "metadata": {},
   "outputs": [
    {
     "data": {
      "text/plain": [
       "Text(0, 0.5, 'SAT Math Score')"
      ]
     },
     "execution_count": 166,
     "metadata": {},
     "output_type": "execute_result"
    },
    {
     "data": {
      "image/png": "[encoded data removed]",
      "text/plain": [
       "<Figure size 432x288 with 1 Axes>"
      ]
     },
     "metadata": {},
     "output_type": "display_data"
    }
   ],
   "source": [
    "plt.scatter(sat_2017['participationsat17'],sat_2017['mathsat17'] )\n",
    "plt.title('SAT Math 2017 vs Participation')\n",
    "plt.xlabel('Participation %')\n",
    "plt.ylabel('SAT Math Score')"
   ]
  },
  {
   "cell_type": "markdown",
   "metadata": {},
   "source": [
    "**Graph shows a strong negative linear relationship between SAT Math and Participation Rate**"
   ]
  },
  {
   "cell_type": "code",
   "execution_count": 167,
   "metadata": {},
   "outputs": [
    {
     "data": {
      "text/plain": [
       "Text(0, 0.5, 'ACT Reading Score')"
      ]
     },
     "execution_count": 167,
     "metadata": {},
     "output_type": "execute_result"
    },
    {
     "data": {
      "image/png": "[encoded data removed]",
      "text/plain": [
       "<Figure size 432x288 with 1 Axes>"
      ]
     },
     "metadata": {},
     "output_type": "display_data"
    }
   ],
   "source": [
    "plt.scatter(act_2017['participationact17'],act_2017['readingact17'] )\n",
    "plt.title('ACT Reading 2017 vs Participation')\n",
    "plt.xlabel('Participation %')\n",
    "plt.ylabel('ACT Reading Score')"
   ]
  },
  {
   "cell_type": "markdown",
   "metadata": {},
   "source": [
    "**Graph shows a strong negative linear relationship between ACT Reading and Participation Rate**"
   ]
  },
  {
   "cell_type": "code",
   "execution_count": 168,
   "metadata": {},
   "outputs": [
    {
     "data": {
      "text/plain": [
       "Text(0, 0.5, 'SAT EBRW Score')"
      ]
     },
     "execution_count": 168,
     "metadata": {},
     "output_type": "execute_result"
    },
    {
     "data": {
      "image/png": "[encoded data removed]",
      "text/plain": [
       "<Figure size 432x288 with 1 Axes>"
      ]
     },
     "metadata": {},
     "output_type": "display_data"
    }
   ],
   "source": [
    "plt.scatter(sat_2017['participationsat17'],sat_2017['evidence-based_reading_and_writingsat17'] )\n",
    "plt.title('SAT Evidence-based Reading and Writing 2017 vs Participation')\n",
    "plt.xlabel('Participation %')\n",
    "plt.ylabel('SAT EBRW Score')"
   ]
  },
  {
   "cell_type": "markdown",
   "metadata": {},
   "source": [
    "**Graph shows a strong negative linear relationship between SAT Reading and Participation Rate**"
   ]
  },
  {
   "cell_type": "markdown",
   "metadata": {},
   "source": [
    "Plots confirm that with a higher participation rate, possibly due to comuplsory testing, self selection happens less and the individual average test scores detiorate. "
   ]
  },
  {
   "cell_type": "markdown",
   "metadata": {},
   "source": [
    "#### (Optional): Using Tableau, create a choropleth map for each variable using a map of the US. \n",
    "\n",
    "Save this plot as an image file in an images directory, provide a relative path, and insert the image into notebook in markdown."
   ]
  },
  {
   "cell_type": "code",
   "execution_count": null,
   "metadata": {},
   "outputs": [],
   "source": []
  },
  {
   "cell_type": "markdown",
   "metadata": {},
   "source": [
    "## Descriptive and Inferential Statistics"
   ]
  },
  {
   "cell_type": "markdown",
   "metadata": {},
   "source": [
    "#### Summarizing Distributions\n",
    "\n",
    "Above, we used pandas `describe` to provide quick summary statistics of our numeric columns. We also demonstrated many visual relationships.\n",
    "\n",
    "As data scientists, having a complete understanding of data is imperative prior to modeling.\n",
    "\n",
    "While we will continue to build our analytic tools, we know that measures of *central tendency*, *spread*, and *shape/skewness* provide a quick summary of distributions.\n",
    "\n",
    "For each variable in your data, summarize the underlying distributions (in words & statistics)\n",
    " - Be thorough in your verbal description of these distributions.\n",
    " - Be sure to back up these summaries with statistics."
   ]
  },
  {
   "cell_type": "code",
   "execution_count": 169,
   "metadata": {},
   "outputs": [],
   "source": [
    "# Code to derive the central tendency (mean, median, mode), spread(varriance), shape/skewness (kurtosis and skew)\n",
    "def get_stats(data_frame): \n",
    "    for column in data_frame.columns:\n",
    "        if column != 'State':\n",
    "            kurtosis = sc.stats.kurtosis(data_frame[column])\n",
    "            skewness = sc.stats.skew(data_frame[column])\n",
    "            var = np.var(data_frame[column])\n",
    "            mean = np.mean(data_frame[column])\n",
    "            mode = sc.stats.mode(data_frame[column])\n",
    "            median = np.mean(data_frame[column])\n",
    "            print(f'The Kurtosis of {column} is {kurtosis}')\n",
    "            print(f'The Skewness of {column} is {skewness}')\n",
    "            print(f'The Varriance of {column} is {var}')\n",
    "            print(f'The Mean of {column} is {mean}')\n",
    "            print(f'The Mode of {column} is {mode[1]}')\n",
    "            print(f'The Median of {column} is {median}')"
   ]
  },
  {
   "cell_type": "code",
   "execution_count": 170,
   "metadata": {},
   "outputs": [
    {
     "name": "stdout",
     "output_type": "stream",
     "text": [
      "The Kurtosis of participationact17 is -1.5916901032787911\n",
      "The Skewness of participationact17 is -0.19211796242279808\n",
      "The Varriance of participationact17 is 1012.7781622452906\n",
      "The Mean of participationact17 is 65.25490196078431\n",
      "The Mode of participationact17 is [17]\n",
      "The Median of participationact17 is 65.25490196078431\n",
      "The Kurtosis of englishact17 is -0.9108196437488862\n",
      "The Skewness of englishact17 is 0.34220217359811805\n",
      "The Varriance of englishact17 is 5.431172625913109\n",
      "The Mean of englishact17 is 20.931372549019606\n",
      "The Mode of englishact17 is [3]\n",
      "The Median of englishact17 is 20.931372549019606\n",
      "The Kurtosis of mathact17 is -1.0011927796225994\n",
      "The Skewness of mathact17 is 0.3228174361152988\n",
      "The Varriance of mathact17 is 3.8512572087658596\n",
      "The Mean of mathact17 is 21.182352941176468\n",
      "The Mode of mathact17 is [4]\n",
      "The Median of mathact17 is 21.182352941176468\n",
      "The Kurtosis of readingact17 is -1.0038016291000136\n",
      "The Skewness of readingact17 is 0.2613779187300745\n",
      "The Varriance of readingact17 is 4.189811610918876\n",
      "The Mean of readingact17 is 22.013725490196077\n",
      "The Mode of readingact17 is [3]\n",
      "The Median of readingact17 is 22.013725490196077\n",
      "The Kurtosis of scienceact17 is -0.9802268464711421\n",
      "The Skewness of scienceact17 is 0.21233390930923077\n",
      "The Varriance of scienceact17 is 2.9660284505959256\n",
      "The Mean of scienceact17 is 21.45098039215686\n",
      "The Mode of scienceact17 is [3]\n",
      "The Median of scienceact17 is 21.45098039215686\n",
      "The Kurtosis of compositeact17 is -1.00509563722202\n",
      "The Skewness of compositeact17 is 0.3103255637098951\n",
      "The Varriance of compositeact17 is 4.00314494425221\n",
      "The Mean of compositeact17 is 21.519607843137255\n",
      "The Mode of compositeact17 is [3]\n",
      "The Median of compositeact17 is 21.519607843137255\n",
      "The Kurtosis of participationsat17 is -1.3643825074544609\n",
      "The Skewness of participationsat17 is 0.33617543925343646\n",
      "The Varriance of participationsat17 is 1220.0399846213\n",
      "The Mean of participationsat17 is 39.80392156862745\n",
      "The Mode of participationsat17 is [8]\n",
      "The Median of participationsat17 is 39.80392156862745\n",
      "The Kurtosis of evidence-based_reading_and_writingsat17 is -1.2193513240314324\n",
      "The Skewness of evidence-based_reading_and_writingsat17 is 0.2646065965076702\n",
      "The Varriance of evidence-based_reading_and_writingsat17 is 2044.5743944636679\n",
      "The Mean of evidence-based_reading_and_writingsat17 is 569.1176470588235\n",
      "The Mode of evidence-based_reading_and_writingsat17 is [3]\n",
      "The Median of evidence-based_reading_and_writingsat17 is 569.1176470588235\n",
      "The Kurtosis of mathsat17 is -0.9529168250264535\n",
      "The Skewness of mathsat17 is 0.35421485843432615\n",
      "The Varriance of mathsat17 is 2176.888119953863\n",
      "The Mean of mathsat17 is 556.8823529411765\n",
      "The Mode of mathsat17 is [3]\n",
      "The Median of mathsat17 is 556.8823529411765\n",
      "The Kurtosis of totalsat17 is -1.115401327253391\n",
      "The Skewness of totalsat17 is 0.30168334986069095\n",
      "The Varriance of totalsat17 is 8387.53940792003\n",
      "The Mean of totalsat17 is 1126.0980392156862\n",
      "The Mode of totalsat17 is [2]\n",
      "The Median of totalsat17 is 1126.0980392156862\n",
      "The Kurtosis of participationact18 is -1.688222223446668\n",
      "The Skewness of participationact18 is -0.021265664102340397\n",
      "The Varriance of participationact18 is 1138.7381776239906\n",
      "The Mean of participationact18 is 61.64705882352941\n",
      "The Mode of participationact18 is [17]\n",
      "The Median of participationact18 is 61.64705882352941\n",
      "The Kurtosis of compositeact18 is -1.0929720522335449\n",
      "The Skewness of compositeact18 is 0.273600443365584\n",
      "The Varriance of compositeact18 is 4.349419454056133\n",
      "The Mean of compositeact18 is 21.48627450980392\n",
      "The Mode of compositeact18 is [3]\n",
      "The Median of compositeact18 is 21.48627450980392\n",
      "The Kurtosis of englishact18 is -1.0848697996352685\n",
      "The Skewness of englishact18 is 0.3604894183850984\n",
      "The Varriance of englishact18 is 5.867312572087656\n",
      "The Mean of englishact18 is 20.988235294117644\n",
      "The Mode of englishact18 is [3]\n",
      "The Median of englishact18 is 20.988235294117644\n",
      "The Kurtosis of mathact18 is -1.1186567459449526\n",
      "The Skewness of mathact18 is 0.2615541273504424\n",
      "The Varriance of mathact18 is 4.0630757400999595\n",
      "The Mean of mathact18 is 21.125490196078434\n",
      "The Mode of mathact18 is [3]\n",
      "The Median of mathact18 is 21.125490196078434\n",
      "The Kurtosis of readingact18 is -1.1249632860928789\n",
      "The Skewness of readingact18 is 0.1953899076147242\n",
      "The Varriance of readingact18 is 4.6048519800076875\n",
      "The Mean of readingact18 is 22.015686274509804\n",
      "The Mode of readingact18 is [3]\n",
      "The Median of readingact18 is 22.015686274509804\n",
      "The Kurtosis of scienceact18 is -1.1188753669306517\n",
      "The Skewness of scienceact18 is 0.16727084253293434\n",
      "The Varriance of scienceact18 is 3.4287504805843914\n",
      "The Mean of scienceact18 is 21.34509803921569\n",
      "The Mode of scienceact18 is [3]\n",
      "The Median of scienceact18 is 21.34509803921569\n",
      "The Kurtosis of participationsat18 is -1.5347284454121928\n",
      "The Skewness of participationsat18 is 0.13218842829757124\n",
      "The Varriance of participationsat18 is 1365.052672049212\n",
      "The Mean of participationsat18 is 45.745098039215684\n",
      "The Mode of participationsat18 is [6]\n",
      "The Median of participationsat18 is 45.745098039215684\n",
      "The Kurtosis of evidence-based_reading_and_writingsat18 is -1.0698603350559397\n",
      "The Skewness of evidence-based_reading_and_writingsat18 is 0.27392797109625916\n",
      "The Varriance of evidence-based_reading_and_writingsat18 is 2212.254517493271\n",
      "The Mean of evidence-based_reading_and_writingsat18 is 563.6862745098039\n",
      "The Mode of evidence-based_reading_and_writingsat18 is [3]\n",
      "The Median of evidence-based_reading_and_writingsat18 is 563.6862745098039\n",
      "The Kurtosis of mathsat18 is -0.7993880380369975\n",
      "The Skewness of mathsat18 is 0.514677775442769\n",
      "The Varriance of mathsat18 is 2237.4740484429058\n",
      "The Mean of mathsat18 is 556.2352941176471\n",
      "The Mode of mathsat18 is [2]\n",
      "The Median of mathsat18 is 556.2352941176471\n",
      "The Kurtosis of totalsat18 is -1.0405575262755369\n",
      "The Skewness of totalsat18 is 0.4525994928716571\n",
      "The Varriance of totalsat18 is 8691.352556708958\n",
      "The Mean of totalsat18 is 1120.0196078431372\n",
      "The Mode of totalsat18 is [2]\n",
      "The Median of totalsat18 is 1120.0196078431372\n"
     ]
    }
   ],
   "source": [
    "get_stats(combined_2017)\n",
    "get_stats(combined_2018)"
   ]
  },
  {
   "cell_type": "markdown",
   "metadata": {},
   "source": [
    "#### We generally assuming that data we sample from a population will be normally distributed. Do we observe this trend?"
   ]
  },
  {
   "cell_type": "markdown",
   "metadata": {},
   "source": [
    "Yes and No. For example, the **participation rates** are heavily skewed to the right and left (fat tails) at 0 and 100% rates for both ACT and SAT, and have low kurtosis. This could possibly be due to in-state testing requirements, which prevents the distribution from assuming a normal distribution. So I performed tests for normality.."
   ]
  },
  {
   "cell_type": "markdown",
   "metadata": {},
   "source": [
    "Does This Assumption Hold for:\n",
    "\n",
    "At the 5% level of significance:\n",
    "\n",
    "    - Math -  No\n",
    "    - Reading - Only ACT Reading in 2017\n",
    "              - Only SAT Evidence-Based Reading and Writing in 2018.\n",
    "    - Participation Rates - No\n",
    "    - Science - only ACT Science 2017. \n",
    "\n",
    "The rest, baring participation, kinda follows a normal distribution, but we must allow for a slightly higher level of signficance.\n",
    "\n",
    "Particiaption seems to be the furthest from normal distribution, with the lowest test statistic.\n"
   ]
  },
  {
   "cell_type": "markdown",
   "metadata": {},
   "source": [
    "Explain your answers for each distribution and how you think this will affect estimates made from these data."
   ]
  },
  {
   "cell_type": "markdown",
   "metadata": {},
   "source": [
    "The individual test components are taken across all states, with and without mandatory in state testing requriements, and has a large sample size. Overall estimates made from these data **can likely negate the impact of skew from mandatory testing schemes (from self selection and state testing requirements)** and thus individual test scores and their inferences are likely to follow a normal distribution. Estimates made are likely to be accurate."
   ]
  },
  {
   "cell_type": "markdown",
   "metadata": {},
   "source": [
    "#### Estimate Limits of Data\n",
    "\n",
    "Suppose we only seek to understand the relationship between SAT and ACT participation rates in 2017. \n",
    "\n",
    "##### Does it make sense to conduct statistical inference given these data specifically? \n",
    "\n",
    "Why or why not?\n",
    "\n",
    "*(think about granularity, aggregation, the relationships between populations size & rates...consider the actual populations these data describe in answering this question)*"
   ]
  },
  {
   "cell_type": "markdown",
   "metadata": {},
   "source": [
    "Answer: Not really.\n",
    "\n",
    "**Aggregation**: Participation rates have shown to be highly skewed towards the 0 and 100% rate of participation. \n",
    "\n",
    "This is as so as states can have different high school graduation requirements. \n",
    "\n",
    "So if one state requires students to take the ACT, they will end up not taking the SAT, or have a correspondingly low population that takes the SAT.\n",
    "\n",
    "For example, in 2017, states that require ACT: Alabama, Arkansas, Kentucky, Louisiana, Mississipi, Montana, Oklahomna, South Carolina, Tennessee all have a 100% ACT participation rate but only have a corresponding < 10% SAT participation rate.\n",
    "\n",
    "Therefore, states with a lower participation rate in a exam due to mandatory requirements for the other exam will mean that students of higher ability can self select themselves into taking the other exam and it will lead to a higher respective score.\n",
    "\n",
    "**Granularity**:We cannot just take the participation rates per state and compare them vis a vis as there are different weightages for each state, owing to their different population sizes. We must find the weighted mean participation rate that is adjusted according to different population  size. For example, California has a higher population size and a higher weight should be given to it to find the true US weighted SAT participation rate\n",
    "\n",
    "Data only shows 2 years of data, and specifically, after the important SAT changes in assessment in 2016, candidates may self select themselves into taking/not taking SAT from 2016 onwards, and it is not reasonable to form any inference on any relationship between SAT/ACT participation rates and their test scores.  \n",
    "\n"
   ]
  },
  {
   "cell_type": "code",
   "execution_count": 161,
   "metadata": {},
   "outputs": [],
   "source": [
    "### Excellent. Could have plotted KDE of participation histogram to show that it is multi-modal."
   ]
  },
  {
   "cell_type": "markdown",
   "metadata": {},
   "source": [
    "##### Is it appropriate to compare *these* specific SAT and ACT math scores? \n",
    "\n",
    " "
   ]
  },
  {
   "cell_type": "markdown",
   "metadata": {},
   "source": [
    "Answer: SAT and ACT may have different methodologies of grading; different bell curves, so it is not possible to compare their respective distributions and quartiles.\n",
    "\n",
    "States have different testing requriements as part of graduation crietria and may be biased according to the main accepted test score that in- state universities accept, given that most students apply to in- state universities. So for example, states with high participation rates are only so as that test is mandatory, and usually exhibit high enough sample size to **apply central limit theorem and assume a normal distribution of scores only within those specific states.**\n",
    "\n",
    "However, states with lower participation rates mean that candidates force themselves to take tests to apply for other colleges out of state and that is not part of graduation requirements. This self selection could mean that smarter students take the additional tests they need and thus samples are likely to be left skewed in terms of scores and sample sizes are also too small to apply central limit theorem.\n",
    "\n",
    "Also, given that the SAT methodology has changed in 2016, students may self select themselves to take SAT, further impacting the skew of SAT.\n",
    "\n",
    "This is supported as the data states that Math SAT 2018 has a skew of 0.51467 vs 0.35421 in 2017. \n",
    "\n",
    "**The above analysis does not account for the variance and populations in states, the average of state scores does not tell us very much about what a histogram of the entire US SAT Math Score would look like.**"
   ]
  },
  {
   "cell_type": "markdown",
   "metadata": {},
   "source": [
    "#### Statistical Evaluation of Distributions \n",
    "\n",
    "**If you feel it's appropriate**, using methods we discussed in class, run hypothesis tests to compare variables of interest in our dataset. "
   ]
  },
  {
   "cell_type": "code",
   "execution_count": 162,
   "metadata": {},
   "outputs": [],
   "source": [
    "# Shapiro-Wilk Test - test for normality\n",
    "from numpy.random import seed\n",
    "from numpy.random import randn\n",
    "from scipy.stats import shapiro\n",
    "\n",
    "def shapiro_test(data_frame):\n",
    "    # seed the random number generator\n",
    "    seed(1)\n",
    "    for column in data_frame.columns:\n",
    "        if column != 'State':\n",
    "            data = data_frame[column]\n",
    "            # normality test\n",
    "            stat, p = shapiro(data)\n",
    "            print('Statistics=%.3f, p=%.3f' % (stat, p))\n",
    "            # interpret\n",
    "            alpha = 0.05\n",
    "            if p > alpha:\n",
    "                print(f'{column} looks Gaussian (fail to reject H0)')\n",
    "            else:\n",
    "                print(f'{column} does not look Gaussian (reject H0)')"
   ]
  },
  {
   "cell_type": "code",
   "execution_count": 163,
   "metadata": {},
   "outputs": [
    {
     "name": "stdout",
     "output_type": "stream",
     "text": [
      "Statistics=0.840, p=0.000\n",
      "participationact17 does not look Gaussian (reject H0)\n",
      "Statistics=0.949, p=0.028\n",
      "englishact17 does not look Gaussian (reject H0)\n",
      "Statistics=0.953, p=0.041\n",
      "mathact17 does not look Gaussian (reject H0)\n",
      "Statistics=0.956, p=0.054\n",
      "readingact17 looks Gaussian (fail to reject H0)\n",
      "Statistics=0.963, p=0.114\n",
      "scienceact17 looks Gaussian (fail to reject H0)\n",
      "Statistics=0.950, p=0.031\n",
      "compositeact17 does not look Gaussian (reject H0)\n",
      "Statistics=0.854, p=0.000\n",
      "participationsat17 does not look Gaussian (reject H0)\n",
      "Statistics=0.921, p=0.002\n",
      "evidence-based_reading_and_writingsat17 does not look Gaussian (reject H0)\n",
      "Statistics=0.949, p=0.030\n",
      "mathsat17 does not look Gaussian (reject H0)\n",
      "Statistics=0.936, p=0.008\n",
      "totalsat17 does not look Gaussian (reject H0)\n"
     ]
    }
   ],
   "source": [
    "shapiro_test(combined_2017)"
   ]
  },
  {
   "cell_type": "code",
   "execution_count": 164,
   "metadata": {},
   "outputs": [
    {
     "name": "stdout",
     "output_type": "stream",
     "text": [
      "Statistics=0.826, p=0.000\n",
      "participationact18 does not look Gaussian (reject H0)\n",
      "Statistics=0.950, p=0.030\n",
      "compositeact18 does not look Gaussian (reject H0)\n",
      "Statistics=0.934, p=0.007\n",
      "englishact18 does not look Gaussian (reject H0)\n",
      "Statistics=0.951, p=0.034\n",
      "mathact18 does not look Gaussian (reject H0)\n",
      "Statistics=0.953, p=0.042\n",
      "readingact18 does not look Gaussian (reject H0)\n",
      "Statistics=0.958, p=0.067\n",
      "scienceact18 looks Gaussian (fail to reject H0)\n",
      "Statistics=0.856, p=0.000\n",
      "participationsat18 does not look Gaussian (reject H0)\n",
      "Statistics=0.927, p=0.004\n",
      "evidence-based_reading_and_writingsat18 does not look Gaussian (reject H0)\n",
      "Statistics=0.937, p=0.010\n",
      "mathsat18 does not look Gaussian (reject H0)\n",
      "Statistics=0.921, p=0.002\n",
      "totalsat18 does not look Gaussian (reject H0)\n"
     ]
    }
   ],
   "source": [
    "shapiro_test(combined_2018)"
   ]
  },
  {
   "cell_type": "markdown",
   "metadata": {},
   "source": [
    "## Outside Research"
   ]
  },
  {
   "cell_type": "markdown",
   "metadata": {},
   "source": [
    "Based upon your observations, choose **three** states that demonstrate interesting trends in their SAT and/or ACT participation rates. Spend some time doing outside research on state policies that might influence these rates, and summarize your findings below. **Feel free to go back and create new plots that highlight these states of interest**. If you bring in any outside tables or charts, make sure you are explicit about having borrowed them. If you quote any text, make sure that it renders as being quoted. (Make sure that you cite your sources -- check with you local instructor for citation preferences)."
   ]
  },
  {
   "cell_type": "markdown",
   "metadata": {},
   "source": [
    "1) **California** - California's ACT participation rate has continuously fallen across the decade and has reached a decade low of 27% in 2018. While the participation rate has fallen, composite scores have remained nearly the same throughout the years at 22.8 (2017) and 22.7 (2018). This renders our previous theory that self-selection leads to a positive bias in scores moot. While California currently has the largest projected student population, lawyers representing several of CA's school districts have been threatening to sue the University of California if the system doesn't stop requiring SAT and ACT scores in admission decisions. \n",
    "\n",
    "*Critics of the standardized tests say test performance is closely correlated with — and therefore likely influenced by — family incomes, parent education levels and race. They argue that using the tests for college admissions discriminates against disadvantaged students, including students of color, poor students and students with disabilities*\n",
    "\n",
    "Source https://www.sandiegouniontribune.com/news/education/story/2019-10-31/act-scores\n",
    "\n",
    "2) **Idaho** - Idaho has a instate testing requirement that forces high school juniors to take the test at taxpayers expense. This explains a high participation rate. However, Idaho's scores are highest in the 8 US States that require mandatory SAT testing. It was suspected that other variables such as students' advanced courseloads and extracurriculars would have cut into SAT prep time. Moreover, given that the SAT was administered for free, students may not have taken the exam seriously. The data has shown that the mandatory testing requirement, only introudced recently, has not led to a detioration in test scores.\n",
    "\n",
    "*Laraway wants to look at several variables — such as students’ advanced courseloads and extracurricular activities, which could have cut into SAT prep time.\n",
    "And she’s also not sure this year’s juniors took the test as seriously as their predecessors. She notes that students who chose to take the SAT on a Saturday scored significantly better than the juniors who took part in SAT Day.\n",
    "Coeur d’Alene has seen similar results, largely because of repetition. Students who take the test several times tend to do better.*\n",
    "\n",
    "Source https://www.idahoednews.org/news/idahos-sat-struggles-in-districts-large-and-small/\n",
    "\n",
    "3) **Oklahoma**- Oklahoma has the lowest SAT score for a non-mandatory state. Its participation rate is only at 8% in 2018 but its total score of 1047 falls below the 25% nationwide quartile range in 2017. **This goes against the theory that mandatory testing results in lower scores.** Oklahoma does not have have a statewide mandate to prepare for either test and such a low score could be due to student preparedness. Moreover, it is known in the US that Oklahoma has a lower income distribution so parents may not have the resources to prepare their kids for the SATs. More data on these attributes are henceforth required.\n",
    "\n",
    "*The lowest SAT score for a non-mandatory state is 963 in Oklahoma. This is unusual for a state where 22% of graduating seniors take the SAT. For comparison, Nevada (20% participation), Ohio (19% participation), and New Mexico (18% participation) all have average SAT scores of 1070 or above. By contrast, while in Oklahoma a particular school district chooses to administer either the SAT or ACT, there's no statewide mandate to spend time in classrooms prepping for the SAT specifically.*\n",
    "\n",
    "Source https://blog.prepscholar.com/average-sat-scores-by-state-most-recent\n",
    "\n"
   ]
  },
  {
   "cell_type": "markdown",
   "metadata": {},
   "source": [
    "## Conclusions and Recommendations"
   ]
  },
  {
   "cell_type": "markdown",
   "metadata": {},
   "source": [
    "Based on your exploration of the data, what are you key takeaways and recommendations? Choose one state with a lower participation rate and provide a suggestion for how the College Board might increase participation amongst graduating seniors in this state. Are there additional data you desire that would better inform your investigations?"
   ]
  },
  {
   "cell_type": "markdown",
   "metadata": {},
   "source": [
    "Based on exploration of the data and other news events, in an era of declining need for SAT or ACT for admissions, the only way for collegeboard to increase the participation rate is to convince state lawmakers for the state to participate in the SAT Assessment day where SAT testing replaces some component of specific compulsory in state assessment (example PSAT for New Mexico) and to target states that have a growing population, again, this are usually states with a large population (New Mexico, California, Texas) and benefits from a large migrant population from Latin America.\n",
    "\n",
    "**Choice: California, due to it's sheer population size and current high participation rate that makes it easier to legislate mandatory testing (i.e. capture the additional 30 or so % in participation, which isn so far off and easier to get the state's support but has the high population mass to support a increase in aggregate numbers)**\n",
    "\n",
    "It must also be noted that there are certain factors that affects the participation rate for a state that I currently do not have access to information for:\n",
    "\n",
    "1) The percentage of universities in-state that require SAT testing (most high school seniors apply to in state colleges and this is a important component to nudge education lawmakers)\n",
    "\n",
    "2) Whether state budgets allow for tax-payer funding of SATs when their usefulness has been increasingly questioned.\n",
    "\n",
    "3) The size of the state population, untapped population to be captured if mandatory testing was legislated.\n",
    "\n",
    "4) Whether state funding for schools depends on how well they have performed on SAT testing, schools that are ranked on SAT outcomes will try to do better for it to get more state funding and lawmakers will be more amicable to mandatory state wide testing. "
   ]
  }
 ],
 "metadata": {
  "anaconda-cloud": {},
  "kernelspec": {
   "display_name": "Python 3",
   "language": "python",
   "name": "python3"
  },
  "language_info": {
   "codemirror_mode": {
    "name": "ipython",
    "version": 3
   },
   "file_extension": ".py",
   "mimetype": "text/x-python",
   "name": "python",
   "nbconvert_exporter": "python",
   "pygments_lexer": "ipython3",
   "version": "3.7.5"
  }
 },
 "nbformat": 4,
 "nbformat_minor": 2
}

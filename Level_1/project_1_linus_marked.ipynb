{
 "cells": [
  {
   "cell_type": "markdown",
   "metadata": {},
   "source": [
    "# Project 1: SAT & ACT Analysis"
   ]
  },
  {
   "cell_type": "markdown",
   "metadata": {},
   "source": [
    "The first markdown cell in a notebook is a great place to provide an overview of your entire project. You will likely want to at least state your\n",
    "\n",
    "## Problem Statement"
   ]
  },
  {
   "cell_type": "markdown",
   "metadata": {},
   "source": [
    "Define the problem you are finding answers for from the data given."
   ]
  },
  {
   "cell_type": "markdown",
   "metadata": {},
   "source": [
    "## Executive Summary\n",
    "\n",
    "If you want to, it's great to use relative links to direct your audience to various sections of a notebook. **HERE'S A DEMONSTRATION WITH THE CURRENT SECTION HEADERS**:\n",
    "\n",
    "### Contents:\n",
    "- [2017 Data Import & Cleaning](#Data-Import-and-Cleaning)\n",
    "- [2018 Data Import and Cleaning](#2018-Data-Import-and-Cleaning)\n",
    "- [Exploratory Data Analysis](#Exploratory-Data-Analysis)\n",
    "- [Data Visualization](#Visualize-the-data)\n",
    "- [Descriptive and Inferential Statistics](#Descriptive-and-Inferential-Statistics)\n",
    "- [Outside Research](#Outside-Research)\n",
    "- [Conclusions and Recommendations](#Conclusions-and-Recommendations)"
   ]
  },
  {
   "cell_type": "markdown",
   "metadata": {},
   "source": [
    "**If you combine your problem statement, executive summary, data dictionary, and conclusions/recommendations, you have an amazing README.md file that quickly aligns your audience to the contents of your project.** Don't forget to cite your data sources!"
   ]
  },
  {
   "cell_type": "markdown",
   "metadata": {},
   "source": [
    "*All libraries used should be added here*"
   ]
  },
  {
   "cell_type": "code",
   "execution_count": 1,
   "metadata": {},
   "outputs": [],
   "source": [
    "#Imports:\n",
    "import numpy as np\n",
    "import pandas as pd\n",
    "import matplotlib.pyplot as plt\n"
   ]
  },
  {
   "cell_type": "markdown",
   "metadata": {},
   "source": [
    "## 2017 Data Import and Cleaning"
   ]
  },
  {
   "cell_type": "markdown",
   "metadata": {},
   "source": [
    "#### 1. Read In SAT & ACT  Data\n",
    "\n",
    "Read in the `sat_2017.csv` and `act_2017.csv` files and assign them to appropriately named pandas dataframes."
   ]
  },
  {
   "cell_type": "code",
   "execution_count": 2,
   "metadata": {},
   "outputs": [],
   "source": [
    "#Code:\n",
    "sat_2017 = pd.read_csv('../data/sat_2017.csv')\n",
    "act_2017 = pd.read_csv('../data/act_2017.csv')\n"
   ]
  },
  {
   "cell_type": "code",
   "execution_count": 3,
   "metadata": {},
   "outputs": [
    {
     "data": {
      "text/plain": [
       "pandas.core.frame.DataFrame"
      ]
     },
     "execution_count": 3,
     "metadata": {},
     "output_type": "execute_result"
    }
   ],
   "source": [
    "type(sat_2017)"
   ]
  },
  {
   "cell_type": "markdown",
   "metadata": {},
   "source": [
    "#### 2. Display Data\n",
    "\n",
    "Print the first 10 rows of each dataframe to your jupyter notebook"
   ]
  },
  {
   "cell_type": "code",
   "execution_count": 4,
   "metadata": {},
   "outputs": [
    {
     "data": {
      "text/html": [
       "<div>\n",
       "<style scoped>\n",
       "    .dataframe tbody tr th:only-of-type {\n",
       "        vertical-align: middle;\n",
       "    }\n",
       "\n",
       "    .dataframe tbody tr th {\n",
       "        vertical-align: top;\n",
       "    }\n",
       "\n",
       "    .dataframe thead th {\n",
       "        text-align: right;\n",
       "    }\n",
       "</style>\n",
       "<table border=\"1\" class=\"dataframe\">\n",
       "  <thead>\n",
       "    <tr style=\"text-align: right;\">\n",
       "      <th></th>\n",
       "      <th>State</th>\n",
       "      <th>Participation</th>\n",
       "      <th>Evidence-Based Reading and Writing</th>\n",
       "      <th>Math</th>\n",
       "      <th>Total</th>\n",
       "    </tr>\n",
       "  </thead>\n",
       "  <tbody>\n",
       "    <tr>\n",
       "      <td>0</td>\n",
       "      <td>Alabama</td>\n",
       "      <td>5%</td>\n",
       "      <td>593</td>\n",
       "      <td>572</td>\n",
       "      <td>1165</td>\n",
       "    </tr>\n",
       "    <tr>\n",
       "      <td>1</td>\n",
       "      <td>Alaska</td>\n",
       "      <td>38%</td>\n",
       "      <td>547</td>\n",
       "      <td>533</td>\n",
       "      <td>1080</td>\n",
       "    </tr>\n",
       "    <tr>\n",
       "      <td>2</td>\n",
       "      <td>Arizona</td>\n",
       "      <td>30%</td>\n",
       "      <td>563</td>\n",
       "      <td>553</td>\n",
       "      <td>1116</td>\n",
       "    </tr>\n",
       "    <tr>\n",
       "      <td>3</td>\n",
       "      <td>Arkansas</td>\n",
       "      <td>3%</td>\n",
       "      <td>614</td>\n",
       "      <td>594</td>\n",
       "      <td>1208</td>\n",
       "    </tr>\n",
       "    <tr>\n",
       "      <td>4</td>\n",
       "      <td>California</td>\n",
       "      <td>53%</td>\n",
       "      <td>531</td>\n",
       "      <td>524</td>\n",
       "      <td>1055</td>\n",
       "    </tr>\n",
       "    <tr>\n",
       "      <td>5</td>\n",
       "      <td>Colorado</td>\n",
       "      <td>11%</td>\n",
       "      <td>606</td>\n",
       "      <td>595</td>\n",
       "      <td>1201</td>\n",
       "    </tr>\n",
       "    <tr>\n",
       "      <td>6</td>\n",
       "      <td>Connecticut</td>\n",
       "      <td>100%</td>\n",
       "      <td>530</td>\n",
       "      <td>512</td>\n",
       "      <td>1041</td>\n",
       "    </tr>\n",
       "    <tr>\n",
       "      <td>7</td>\n",
       "      <td>Delaware</td>\n",
       "      <td>100%</td>\n",
       "      <td>503</td>\n",
       "      <td>492</td>\n",
       "      <td>996</td>\n",
       "    </tr>\n",
       "    <tr>\n",
       "      <td>8</td>\n",
       "      <td>District of Columbia</td>\n",
       "      <td>100%</td>\n",
       "      <td>482</td>\n",
       "      <td>468</td>\n",
       "      <td>950</td>\n",
       "    </tr>\n",
       "    <tr>\n",
       "      <td>9</td>\n",
       "      <td>Florida</td>\n",
       "      <td>83%</td>\n",
       "      <td>520</td>\n",
       "      <td>497</td>\n",
       "      <td>1017</td>\n",
       "    </tr>\n",
       "    <tr>\n",
       "      <td>10</td>\n",
       "      <td>Georgia</td>\n",
       "      <td>61%</td>\n",
       "      <td>535</td>\n",
       "      <td>515</td>\n",
       "      <td>1050</td>\n",
       "    </tr>\n",
       "  </tbody>\n",
       "</table>\n",
       "</div>"
      ],
      "text/plain": [
       "                   State Participation  Evidence-Based Reading and Writing  \\\n",
       "0                Alabama            5%                                 593   \n",
       "1                 Alaska           38%                                 547   \n",
       "2                Arizona           30%                                 563   \n",
       "3               Arkansas            3%                                 614   \n",
       "4             California           53%                                 531   \n",
       "5               Colorado           11%                                 606   \n",
       "6            Connecticut          100%                                 530   \n",
       "7               Delaware          100%                                 503   \n",
       "8   District of Columbia          100%                                 482   \n",
       "9                Florida           83%                                 520   \n",
       "10               Georgia           61%                                 535   \n",
       "\n",
       "    Math  Total  \n",
       "0    572   1165  \n",
       "1    533   1080  \n",
       "2    553   1116  \n",
       "3    594   1208  \n",
       "4    524   1055  \n",
       "5    595   1201  \n",
       "6    512   1041  \n",
       "7    492    996  \n",
       "8    468    950  \n",
       "9    497   1017  \n",
       "10   515   1050  "
      ]
     },
     "execution_count": 4,
     "metadata": {},
     "output_type": "execute_result"
    }
   ],
   "source": [
    "sat_2017.loc[:10,]\n",
    "#sat_2017.loc[40:,]"
   ]
  },
  {
   "cell_type": "code",
   "execution_count": 5,
   "metadata": {},
   "outputs": [
    {
     "data": {
      "text/html": [
       "<div>\n",
       "<style scoped>\n",
       "    .dataframe tbody tr th:only-of-type {\n",
       "        vertical-align: middle;\n",
       "    }\n",
       "\n",
       "    .dataframe tbody tr th {\n",
       "        vertical-align: top;\n",
       "    }\n",
       "\n",
       "    .dataframe thead th {\n",
       "        text-align: right;\n",
       "    }\n",
       "</style>\n",
       "<table border=\"1\" class=\"dataframe\">\n",
       "  <thead>\n",
       "    <tr style=\"text-align: right;\">\n",
       "      <th></th>\n",
       "      <th>State</th>\n",
       "      <th>Participation</th>\n",
       "      <th>English</th>\n",
       "      <th>Math</th>\n",
       "      <th>Reading</th>\n",
       "      <th>Science</th>\n",
       "      <th>Composite</th>\n",
       "    </tr>\n",
       "  </thead>\n",
       "  <tbody>\n",
       "    <tr>\n",
       "      <td>0</td>\n",
       "      <td>National</td>\n",
       "      <td>60%</td>\n",
       "      <td>20.3</td>\n",
       "      <td>20.7</td>\n",
       "      <td>21.4</td>\n",
       "      <td>21.0</td>\n",
       "      <td>21.0</td>\n",
       "    </tr>\n",
       "    <tr>\n",
       "      <td>1</td>\n",
       "      <td>Alabama</td>\n",
       "      <td>100%</td>\n",
       "      <td>18.9</td>\n",
       "      <td>18.4</td>\n",
       "      <td>19.7</td>\n",
       "      <td>19.4</td>\n",
       "      <td>19.2</td>\n",
       "    </tr>\n",
       "    <tr>\n",
       "      <td>2</td>\n",
       "      <td>Alaska</td>\n",
       "      <td>65%</td>\n",
       "      <td>18.7</td>\n",
       "      <td>19.8</td>\n",
       "      <td>20.4</td>\n",
       "      <td>19.9</td>\n",
       "      <td>19.8</td>\n",
       "    </tr>\n",
       "    <tr>\n",
       "      <td>3</td>\n",
       "      <td>Arizona</td>\n",
       "      <td>62%</td>\n",
       "      <td>18.6</td>\n",
       "      <td>19.8</td>\n",
       "      <td>20.1</td>\n",
       "      <td>19.8</td>\n",
       "      <td>19.7</td>\n",
       "    </tr>\n",
       "    <tr>\n",
       "      <td>4</td>\n",
       "      <td>Arkansas</td>\n",
       "      <td>100%</td>\n",
       "      <td>18.9</td>\n",
       "      <td>19.0</td>\n",
       "      <td>19.7</td>\n",
       "      <td>19.5</td>\n",
       "      <td>19.4</td>\n",
       "    </tr>\n",
       "    <tr>\n",
       "      <td>5</td>\n",
       "      <td>California</td>\n",
       "      <td>31%</td>\n",
       "      <td>22.5</td>\n",
       "      <td>22.7</td>\n",
       "      <td>23.1</td>\n",
       "      <td>22.2</td>\n",
       "      <td>22.8</td>\n",
       "    </tr>\n",
       "    <tr>\n",
       "      <td>6</td>\n",
       "      <td>Colorado</td>\n",
       "      <td>100%</td>\n",
       "      <td>20.1</td>\n",
       "      <td>20.3</td>\n",
       "      <td>21.2</td>\n",
       "      <td>20.9</td>\n",
       "      <td>20.8</td>\n",
       "    </tr>\n",
       "    <tr>\n",
       "      <td>7</td>\n",
       "      <td>Connecticut</td>\n",
       "      <td>31%</td>\n",
       "      <td>25.5</td>\n",
       "      <td>24.6</td>\n",
       "      <td>25.6</td>\n",
       "      <td>24.6</td>\n",
       "      <td>25.2</td>\n",
       "    </tr>\n",
       "    <tr>\n",
       "      <td>8</td>\n",
       "      <td>Delaware</td>\n",
       "      <td>18%</td>\n",
       "      <td>24.1</td>\n",
       "      <td>23.4</td>\n",
       "      <td>24.8</td>\n",
       "      <td>23.6</td>\n",
       "      <td>24.1</td>\n",
       "    </tr>\n",
       "    <tr>\n",
       "      <td>9</td>\n",
       "      <td>District of Columbia</td>\n",
       "      <td>32%</td>\n",
       "      <td>24.4</td>\n",
       "      <td>23.5</td>\n",
       "      <td>24.9</td>\n",
       "      <td>23.5</td>\n",
       "      <td>24.2</td>\n",
       "    </tr>\n",
       "    <tr>\n",
       "      <td>10</td>\n",
       "      <td>Florida</td>\n",
       "      <td>73%</td>\n",
       "      <td>19.0</td>\n",
       "      <td>19.4</td>\n",
       "      <td>21.0</td>\n",
       "      <td>19.4</td>\n",
       "      <td>19.8</td>\n",
       "    </tr>\n",
       "  </tbody>\n",
       "</table>\n",
       "</div>"
      ],
      "text/plain": [
       "                   State Participation  English  Math  Reading  Science  \\\n",
       "0               National           60%     20.3  20.7     21.4     21.0   \n",
       "1                Alabama          100%     18.9  18.4     19.7     19.4   \n",
       "2                 Alaska           65%     18.7  19.8     20.4     19.9   \n",
       "3                Arizona           62%     18.6  19.8     20.1     19.8   \n",
       "4               Arkansas          100%     18.9  19.0     19.7     19.5   \n",
       "5             California           31%     22.5  22.7     23.1     22.2   \n",
       "6               Colorado          100%     20.1  20.3     21.2     20.9   \n",
       "7            Connecticut           31%     25.5  24.6     25.6     24.6   \n",
       "8               Delaware           18%     24.1  23.4     24.8     23.6   \n",
       "9   District of Columbia           32%     24.4  23.5     24.9     23.5   \n",
       "10               Florida           73%     19.0  19.4     21.0     19.4   \n",
       "\n",
       "   Composite  \n",
       "0       21.0  \n",
       "1       19.2  \n",
       "2       19.8  \n",
       "3       19.7  \n",
       "4       19.4  \n",
       "5       22.8  \n",
       "6       20.8  \n",
       "7       25.2  \n",
       "8       24.1  \n",
       "9       24.2  \n",
       "10      19.8  "
      ]
     },
     "execution_count": 5,
     "metadata": {},
     "output_type": "execute_result"
    }
   ],
   "source": [
    "act_2017.loc[:10,]\n",
    "#act_2017.loc[45:,]"
   ]
  },
  {
   "cell_type": "code",
   "execution_count": 6,
   "metadata": {},
   "outputs": [
    {
     "data": {
      "text/plain": [
       "(51, 5)"
      ]
     },
     "execution_count": 6,
     "metadata": {},
     "output_type": "execute_result"
    }
   ],
   "source": [
    "sat_2017.shape"
   ]
  },
  {
   "cell_type": "code",
   "execution_count": 7,
   "metadata": {},
   "outputs": [
    {
     "data": {
      "text/plain": [
       "(52, 7)"
      ]
     },
     "execution_count": 7,
     "metadata": {},
     "output_type": "execute_result"
    }
   ],
   "source": [
    "act_2017.shape"
   ]
  },
  {
   "cell_type": "code",
   "execution_count": 8,
   "metadata": {},
   "outputs": [
    {
     "data": {
      "text/plain": [
       "['Wyoming']"
      ]
     },
     "execution_count": 8,
     "metadata": {},
     "output_type": "execute_result"
    }
   ],
   "source": [
    "#odd that act_2017 has one more row than sat_2017 perhaps sat_2017 is missing out one state \n",
    "\n",
    "check = act_2017[\"State\"]\n",
    "\n",
    "for i in sat_2017[\"State\"]:\n",
    "    missing = []\n",
    "    if i not in check:\n",
    "        missing.append(i)\n",
    "\n",
    "missing\n",
    "#the extra 1 row is because act_17 has a 'national row' that sat_17 does not \n",
    "#find out why this code doesn't work though "
   ]
  },
  {
   "cell_type": "code",
   "execution_count": 9,
   "metadata": {},
   "outputs": [
    {
     "name": "stdout",
     "output_type": "stream",
     "text": [
      "<class 'pandas.core.frame.DataFrame'>\n",
      "RangeIndex: 51 entries, 0 to 50\n",
      "Data columns (total 5 columns):\n",
      "State                                 51 non-null object\n",
      "Participation                         51 non-null object\n",
      "Evidence-Based Reading and Writing    51 non-null int64\n",
      "Math                                  51 non-null int64\n",
      "Total                                 51 non-null int64\n",
      "dtypes: int64(3), object(2)\n",
      "memory usage: 2.1+ KB\n"
     ]
    }
   ],
   "source": [
    "sat_2017.info() #getting more info on our data"
   ]
  },
  {
   "cell_type": "code",
   "execution_count": 10,
   "metadata": {},
   "outputs": [
    {
     "name": "stdout",
     "output_type": "stream",
     "text": [
      "<class 'pandas.core.frame.DataFrame'>\n",
      "RangeIndex: 52 entries, 0 to 51\n",
      "Data columns (total 7 columns):\n",
      "State            52 non-null object\n",
      "Participation    52 non-null object\n",
      "English          52 non-null float64\n",
      "Math             52 non-null float64\n",
      "Reading          52 non-null float64\n",
      "Science          52 non-null float64\n",
      "Composite        52 non-null object\n",
      "dtypes: float64(4), object(3)\n",
      "memory usage: 3.0+ KB\n"
     ]
    }
   ],
   "source": [
    "act_2017.info() #getting more info on our data"
   ]
  },
  {
   "cell_type": "code",
   "execution_count": 11,
   "metadata": {},
   "outputs": [
    {
     "data": {
      "text/plain": [
       "str"
      ]
     },
     "execution_count": 11,
     "metadata": {},
     "output_type": "execute_result"
    }
   ],
   "source": [
    "type(act_2017.loc[0,\"Composite\"]) #flagging out that Composite inputs for act_17 are string instead of numeric type"
   ]
  },
  {
   "cell_type": "code",
   "execution_count": 12,
   "metadata": {},
   "outputs": [
    {
     "data": {
      "text/html": [
       "<div>\n",
       "<style scoped>\n",
       "    .dataframe tbody tr th:only-of-type {\n",
       "        vertical-align: middle;\n",
       "    }\n",
       "\n",
       "    .dataframe tbody tr th {\n",
       "        vertical-align: top;\n",
       "    }\n",
       "\n",
       "    .dataframe thead th {\n",
       "        text-align: right;\n",
       "    }\n",
       "</style>\n",
       "<table border=\"1\" class=\"dataframe\">\n",
       "  <thead>\n",
       "    <tr style=\"text-align: right;\">\n",
       "      <th></th>\n",
       "      <th>Evidence-Based Reading and Writing</th>\n",
       "      <th>Math</th>\n",
       "      <th>Total</th>\n",
       "    </tr>\n",
       "  </thead>\n",
       "  <tbody>\n",
       "    <tr>\n",
       "      <td>count</td>\n",
       "      <td>51.000000</td>\n",
       "      <td>51.000000</td>\n",
       "      <td>51.000000</td>\n",
       "    </tr>\n",
       "    <tr>\n",
       "      <td>mean</td>\n",
       "      <td>569.117647</td>\n",
       "      <td>547.627451</td>\n",
       "      <td>1126.098039</td>\n",
       "    </tr>\n",
       "    <tr>\n",
       "      <td>std</td>\n",
       "      <td>45.666901</td>\n",
       "      <td>84.909119</td>\n",
       "      <td>92.494812</td>\n",
       "    </tr>\n",
       "    <tr>\n",
       "      <td>min</td>\n",
       "      <td>482.000000</td>\n",
       "      <td>52.000000</td>\n",
       "      <td>950.000000</td>\n",
       "    </tr>\n",
       "    <tr>\n",
       "      <td>25%</td>\n",
       "      <td>533.500000</td>\n",
       "      <td>522.000000</td>\n",
       "      <td>1055.500000</td>\n",
       "    </tr>\n",
       "    <tr>\n",
       "      <td>50%</td>\n",
       "      <td>559.000000</td>\n",
       "      <td>548.000000</td>\n",
       "      <td>1107.000000</td>\n",
       "    </tr>\n",
       "    <tr>\n",
       "      <td>75%</td>\n",
       "      <td>613.000000</td>\n",
       "      <td>599.000000</td>\n",
       "      <td>1212.000000</td>\n",
       "    </tr>\n",
       "    <tr>\n",
       "      <td>max</td>\n",
       "      <td>644.000000</td>\n",
       "      <td>651.000000</td>\n",
       "      <td>1295.000000</td>\n",
       "    </tr>\n",
       "  </tbody>\n",
       "</table>\n",
       "</div>"
      ],
      "text/plain": [
       "       Evidence-Based Reading and Writing        Math        Total\n",
       "count                           51.000000   51.000000    51.000000\n",
       "mean                           569.117647  547.627451  1126.098039\n",
       "std                             45.666901   84.909119    92.494812\n",
       "min                            482.000000   52.000000   950.000000\n",
       "25%                            533.500000  522.000000  1055.500000\n",
       "50%                            559.000000  548.000000  1107.000000\n",
       "75%                            613.000000  599.000000  1212.000000\n",
       "max                            644.000000  651.000000  1295.000000"
      ]
     },
     "execution_count": 12,
     "metadata": {},
     "output_type": "execute_result"
    }
   ],
   "source": [
    "sat_2017.describe()#getting summary stats "
   ]
  },
  {
   "cell_type": "code",
   "execution_count": 13,
   "metadata": {},
   "outputs": [],
   "source": [
    "#based on describe() and info() figured that participation does not appear because it is not a numeric type\n",
    "\n",
    "def convert_percent(val):\n",
    "    new_val = val.replace('%','')\n",
    "    return float(new_val)\n",
    "\n",
    "#Convert the string number value for participation to a float\n",
    "#remove all % \n",
    "#Convert to float type    "
   ]
  },
  {
   "cell_type": "code",
   "execution_count": 14,
   "metadata": {},
   "outputs": [],
   "source": [
    "#use the pandas apply function to apply convert_precent above the 'Participation' column.\n",
    "#reassign values to orginal df\n",
    "sat_2017[\"Participation\"] = sat_2017[\"Participation\"].apply(convert_percent)"
   ]
  },
  {
   "cell_type": "code",
   "execution_count": 15,
   "metadata": {},
   "outputs": [
    {
     "data": {
      "text/html": [
       "<div>\n",
       "<style scoped>\n",
       "    .dataframe tbody tr th:only-of-type {\n",
       "        vertical-align: middle;\n",
       "    }\n",
       "\n",
       "    .dataframe tbody tr th {\n",
       "        vertical-align: top;\n",
       "    }\n",
       "\n",
       "    .dataframe thead th {\n",
       "        text-align: right;\n",
       "    }\n",
       "</style>\n",
       "<table border=\"1\" class=\"dataframe\">\n",
       "  <thead>\n",
       "    <tr style=\"text-align: right;\">\n",
       "      <th></th>\n",
       "      <th>State</th>\n",
       "      <th>Participation</th>\n",
       "      <th>Evidence-Based Reading and Writing</th>\n",
       "      <th>Math</th>\n",
       "      <th>Total</th>\n",
       "    </tr>\n",
       "  </thead>\n",
       "  <tbody>\n",
       "    <tr>\n",
       "      <td>0</td>\n",
       "      <td>Alabama</td>\n",
       "      <td>5.0</td>\n",
       "      <td>593</td>\n",
       "      <td>572</td>\n",
       "      <td>1165</td>\n",
       "    </tr>\n",
       "    <tr>\n",
       "      <td>1</td>\n",
       "      <td>Alaska</td>\n",
       "      <td>38.0</td>\n",
       "      <td>547</td>\n",
       "      <td>533</td>\n",
       "      <td>1080</td>\n",
       "    </tr>\n",
       "    <tr>\n",
       "      <td>2</td>\n",
       "      <td>Arizona</td>\n",
       "      <td>30.0</td>\n",
       "      <td>563</td>\n",
       "      <td>553</td>\n",
       "      <td>1116</td>\n",
       "    </tr>\n",
       "    <tr>\n",
       "      <td>3</td>\n",
       "      <td>Arkansas</td>\n",
       "      <td>3.0</td>\n",
       "      <td>614</td>\n",
       "      <td>594</td>\n",
       "      <td>1208</td>\n",
       "    </tr>\n",
       "    <tr>\n",
       "      <td>4</td>\n",
       "      <td>California</td>\n",
       "      <td>53.0</td>\n",
       "      <td>531</td>\n",
       "      <td>524</td>\n",
       "      <td>1055</td>\n",
       "    </tr>\n",
       "  </tbody>\n",
       "</table>\n",
       "</div>"
      ],
      "text/plain": [
       "        State  Participation  Evidence-Based Reading and Writing  Math  Total\n",
       "0     Alabama            5.0                                 593   572   1165\n",
       "1      Alaska           38.0                                 547   533   1080\n",
       "2     Arizona           30.0                                 563   553   1116\n",
       "3    Arkansas            3.0                                 614   594   1208\n",
       "4  California           53.0                                 531   524   1055"
      ]
     },
     "execution_count": 15,
     "metadata": {},
     "output_type": "execute_result"
    }
   ],
   "source": [
    "sat_2017.head() #checking to confirm that Participation type has changed successfully "
   ]
  },
  {
   "cell_type": "code",
   "execution_count": 16,
   "metadata": {},
   "outputs": [
    {
     "data": {
      "text/plain": [
       "numpy.float64"
      ]
     },
     "execution_count": 16,
     "metadata": {},
     "output_type": "execute_result"
    }
   ],
   "source": [
    "type(sat_2017.loc[0,\"Participation\"])"
   ]
  },
  {
   "cell_type": "code",
   "execution_count": 17,
   "metadata": {},
   "outputs": [],
   "source": [
    "#use the pandas apply function to apply convert_precent above the 'Participation' column for act_17\n",
    "act_2017[\"Participation\"] = act_2017[\"Participation\"].apply(convert_percent)\n"
   ]
  },
  {
   "cell_type": "code",
   "execution_count": 18,
   "metadata": {},
   "outputs": [
    {
     "data": {
      "text/html": [
       "<div>\n",
       "<style scoped>\n",
       "    .dataframe tbody tr th:only-of-type {\n",
       "        vertical-align: middle;\n",
       "    }\n",
       "\n",
       "    .dataframe tbody tr th {\n",
       "        vertical-align: top;\n",
       "    }\n",
       "\n",
       "    .dataframe thead th {\n",
       "        text-align: right;\n",
       "    }\n",
       "</style>\n",
       "<table border=\"1\" class=\"dataframe\">\n",
       "  <thead>\n",
       "    <tr style=\"text-align: right;\">\n",
       "      <th></th>\n",
       "      <th>Participation</th>\n",
       "      <th>Evidence-Based Reading and Writing</th>\n",
       "      <th>Math</th>\n",
       "      <th>Total</th>\n",
       "    </tr>\n",
       "  </thead>\n",
       "  <tbody>\n",
       "    <tr>\n",
       "      <td>count</td>\n",
       "      <td>51.000000</td>\n",
       "      <td>51.000000</td>\n",
       "      <td>51.000000</td>\n",
       "      <td>51.000000</td>\n",
       "    </tr>\n",
       "    <tr>\n",
       "      <td>mean</td>\n",
       "      <td>39.803922</td>\n",
       "      <td>569.117647</td>\n",
       "      <td>547.627451</td>\n",
       "      <td>1126.098039</td>\n",
       "    </tr>\n",
       "    <tr>\n",
       "      <td>std</td>\n",
       "      <td>35.276632</td>\n",
       "      <td>45.666901</td>\n",
       "      <td>84.909119</td>\n",
       "      <td>92.494812</td>\n",
       "    </tr>\n",
       "    <tr>\n",
       "      <td>min</td>\n",
       "      <td>2.000000</td>\n",
       "      <td>482.000000</td>\n",
       "      <td>52.000000</td>\n",
       "      <td>950.000000</td>\n",
       "    </tr>\n",
       "    <tr>\n",
       "      <td>25%</td>\n",
       "      <td>4.000000</td>\n",
       "      <td>533.500000</td>\n",
       "      <td>522.000000</td>\n",
       "      <td>1055.500000</td>\n",
       "    </tr>\n",
       "    <tr>\n",
       "      <td>50%</td>\n",
       "      <td>38.000000</td>\n",
       "      <td>559.000000</td>\n",
       "      <td>548.000000</td>\n",
       "      <td>1107.000000</td>\n",
       "    </tr>\n",
       "    <tr>\n",
       "      <td>75%</td>\n",
       "      <td>66.000000</td>\n",
       "      <td>613.000000</td>\n",
       "      <td>599.000000</td>\n",
       "      <td>1212.000000</td>\n",
       "    </tr>\n",
       "    <tr>\n",
       "      <td>max</td>\n",
       "      <td>100.000000</td>\n",
       "      <td>644.000000</td>\n",
       "      <td>651.000000</td>\n",
       "      <td>1295.000000</td>\n",
       "    </tr>\n",
       "  </tbody>\n",
       "</table>\n",
       "</div>"
      ],
      "text/plain": [
       "       Participation  Evidence-Based Reading and Writing        Math  \\\n",
       "count      51.000000                           51.000000   51.000000   \n",
       "mean       39.803922                          569.117647  547.627451   \n",
       "std        35.276632                           45.666901   84.909119   \n",
       "min         2.000000                          482.000000   52.000000   \n",
       "25%         4.000000                          533.500000  522.000000   \n",
       "50%        38.000000                          559.000000  548.000000   \n",
       "75%        66.000000                          613.000000  599.000000   \n",
       "max       100.000000                          644.000000  651.000000   \n",
       "\n",
       "             Total  \n",
       "count    51.000000  \n",
       "mean   1126.098039  \n",
       "std      92.494812  \n",
       "min     950.000000  \n",
       "25%    1055.500000  \n",
       "50%    1107.000000  \n",
       "75%    1212.000000  \n",
       "max    1295.000000  "
      ]
     },
     "execution_count": 18,
     "metadata": {},
     "output_type": "execute_result"
    },
    {
     "data": {
      "image/png": "[encoded data removed]",
      "text/plain": [
       "<Figure size 432x432 with 1 Axes>"
      ]
     },
     "metadata": {},
     "output_type": "display_data"
    }
   ],
   "source": [
    "#initial histogram plot showing 2017 SAT participation rates \n",
    "#initial survey of this shows that almost half of the states have particiapation rates of <~15%\n",
    "\n",
    "plt.figure(figsize=(6,6))\n",
    "plt.hist(sat_2017['Participation'],bins=20);\n",
    "\n",
    "sat_2017.describe()\n",
    "\n",
    "#note that Math min value is '52' which is suspiciously low "
   ]
  },
  {
   "cell_type": "code",
   "execution_count": 19,
   "metadata": {},
   "outputs": [
    {
     "data": {
      "text/plain": [
       "38.0"
      ]
     },
     "execution_count": 19,
     "metadata": {},
     "output_type": "execute_result"
    }
   ],
   "source": [
    "sat_2017['Participation'].median()"
   ]
  },
  {
   "cell_type": "code",
   "execution_count": 20,
   "metadata": {},
   "outputs": [
    {
     "data": {
      "text/html": [
       "<div>\n",
       "<style scoped>\n",
       "    .dataframe tbody tr th:only-of-type {\n",
       "        vertical-align: middle;\n",
       "    }\n",
       "\n",
       "    .dataframe tbody tr th {\n",
       "        vertical-align: top;\n",
       "    }\n",
       "\n",
       "    .dataframe thead th {\n",
       "        text-align: right;\n",
       "    }\n",
       "</style>\n",
       "<table border=\"1\" class=\"dataframe\">\n",
       "  <thead>\n",
       "    <tr style=\"text-align: right;\">\n",
       "      <th></th>\n",
       "      <th>Participation</th>\n",
       "      <th>English</th>\n",
       "      <th>Math</th>\n",
       "      <th>Reading</th>\n",
       "      <th>Science</th>\n",
       "    </tr>\n",
       "  </thead>\n",
       "  <tbody>\n",
       "    <tr>\n",
       "      <td>count</td>\n",
       "      <td>52.000000</td>\n",
       "      <td>52.000000</td>\n",
       "      <td>52.000000</td>\n",
       "      <td>52.000000</td>\n",
       "      <td>52.000000</td>\n",
       "    </tr>\n",
       "    <tr>\n",
       "      <td>mean</td>\n",
       "      <td>65.153846</td>\n",
       "      <td>20.919231</td>\n",
       "      <td>21.173077</td>\n",
       "      <td>22.001923</td>\n",
       "      <td>21.040385</td>\n",
       "    </tr>\n",
       "    <tr>\n",
       "      <td>std</td>\n",
       "      <td>31.832518</td>\n",
       "      <td>2.332132</td>\n",
       "      <td>1.963602</td>\n",
       "      <td>2.048672</td>\n",
       "      <td>3.151113</td>\n",
       "    </tr>\n",
       "    <tr>\n",
       "      <td>min</td>\n",
       "      <td>8.000000</td>\n",
       "      <td>16.300000</td>\n",
       "      <td>18.000000</td>\n",
       "      <td>18.100000</td>\n",
       "      <td>2.300000</td>\n",
       "    </tr>\n",
       "    <tr>\n",
       "      <td>25%</td>\n",
       "      <td>31.000000</td>\n",
       "      <td>19.000000</td>\n",
       "      <td>19.400000</td>\n",
       "      <td>20.475000</td>\n",
       "      <td>19.900000</td>\n",
       "    </tr>\n",
       "    <tr>\n",
       "      <td>50%</td>\n",
       "      <td>68.000000</td>\n",
       "      <td>20.550000</td>\n",
       "      <td>20.900000</td>\n",
       "      <td>21.700000</td>\n",
       "      <td>21.150000</td>\n",
       "    </tr>\n",
       "    <tr>\n",
       "      <td>75%</td>\n",
       "      <td>100.000000</td>\n",
       "      <td>23.300000</td>\n",
       "      <td>23.100000</td>\n",
       "      <td>24.125000</td>\n",
       "      <td>22.525000</td>\n",
       "    </tr>\n",
       "    <tr>\n",
       "      <td>max</td>\n",
       "      <td>100.000000</td>\n",
       "      <td>25.500000</td>\n",
       "      <td>25.300000</td>\n",
       "      <td>26.000000</td>\n",
       "      <td>24.900000</td>\n",
       "    </tr>\n",
       "  </tbody>\n",
       "</table>\n",
       "</div>"
      ],
      "text/plain": [
       "       Participation    English       Math    Reading    Science\n",
       "count      52.000000  52.000000  52.000000  52.000000  52.000000\n",
       "mean       65.153846  20.919231  21.173077  22.001923  21.040385\n",
       "std        31.832518   2.332132   1.963602   2.048672   3.151113\n",
       "min         8.000000  16.300000  18.000000  18.100000   2.300000\n",
       "25%        31.000000  19.000000  19.400000  20.475000  19.900000\n",
       "50%        68.000000  20.550000  20.900000  21.700000  21.150000\n",
       "75%       100.000000  23.300000  23.100000  24.125000  22.525000\n",
       "max       100.000000  25.500000  25.300000  26.000000  24.900000"
      ]
     },
     "execution_count": 20,
     "metadata": {},
     "output_type": "execute_result"
    },
    {
     "data": {
      "image/png": "[encoded data removed]",
      "text/plain": [
       "<Figure size 432x432 with 1 Axes>"
      ]
     },
     "metadata": {},
     "output_type": "display_data"
    }
   ],
   "source": [
    "#initial histogram plot showing 2017 ACT participation rates \n",
    "#initial survey of this shows that almost 1/3 of the states have 100% participation rate\n",
    "\n",
    "plt.figure(figsize=(6,6))\n",
    "plt.hist(act_2017['Participation'],bins=20);\n",
    "\n",
    "act_2017.describe()\n",
    "\n",
    "#min Science score of '2.3' is suspicious"
   ]
  },
  {
   "cell_type": "code",
   "execution_count": 21,
   "metadata": {},
   "outputs": [
    {
     "data": {
      "text/plain": [
       "68.0"
      ]
     },
     "execution_count": 21,
     "metadata": {},
     "output_type": "execute_result"
    }
   ],
   "source": [
    "act_2017['Participation'].median()"
   ]
  },
  {
   "cell_type": "markdown",
   "metadata": {},
   "source": [
    "#### 3. Verbally Describe Data\n",
    "\n",
    "Take your time looking through the data and thoroughly describe the data in the markdown cell below. "
   ]
  },
  {
   "cell_type": "markdown",
   "metadata": {},
   "source": [
    "Answer:\n",
    "SAT 2017:\n",
    "There are a total of 51 data points for the SAT 2017 scores, each corresponding to the average of SAT scores and participation rate for each of the 51 states. \n",
    "\n",
    "Median of 38% is slightly lower than the mean of 39.8%, implying that data is slightly right-skewed. \n",
    "\n",
    "Wide range from 2-100% participation rate, with interquartile range (4-66%) implying that the data is quite spread out about the median (38%) We can infer that the middle 'half' of the data is leaning towards a lower participation rate (<66%) and aligns with implied right-skewness based on said median-mean comparison.\n",
    "\n",
    "ACT 2017:\n",
    "There are a total of 52 data points for the ACT 2017 scores, each corresponding to the average of ACT scores and participation rate for each of the 52 states. \n",
    "\n",
    "Median of 68% is slightly higher than the mean of 65.1%, implying that data is slightly left-skewed. \n",
    "\n",
    "Wide range from 8-100% participation rate, with interquartile range (31-100%) implying that the data is quite spread out about the median (68%) We can infer that the middle 'half' of the data is leaning towards a higher participation rate (>31%) and aligns with implied left-skewness based on median mean comparison.\n",
    "\n"
   ]
  },
  {
   "cell_type": "markdown",
   "metadata": {},
   "source": [
    "#### 4a. Does the data look complete? "
   ]
  },
  {
   "cell_type": "markdown",
   "metadata": {},
   "source": [
    "Answer:\n",
    "\n",
    "SAT scores has one less data point (51) then ACT scores (52) this needs to be reconciled - found out that this is due to ACT having an extra row containing 'national sores'. \n",
    "\n",
    "'Participation' is a string type in both ACT and SAT 2017 scores while 'Composite' is also s string type in ACT 2017 scores so these should be converted to numeric type to analyze them further."
   ]
  },
  {
   "cell_type": "markdown",
   "metadata": {},
   "source": [
    "#### 4b. Are there any obvious issues with the observations?\n",
    "\n",
    "**What is the minimum *possible* value for each test/subtest? What is the maximum *possible* value?**\n",
    "\n",
    "Consider comparing any questionable values to the sources of your data:\n",
    "- [SAT](https://blog.collegevine.com/here-are-the-average-sat-scores-by-state/)\n",
    "- [ACT](https://blog.prepscholar.com/act-scores-by-state-averages-highs-and-lows)"
   ]
  },
  {
   "cell_type": "markdown",
   "metadata": {},
   "source": [
    "Answer:\n",
    "\n",
    "SAT 2017\n",
    "(Reading & Writing) Min: 482   Max: 644\n",
    "(Math) Min: 52  Max: 651\n",
    "\n",
    "ACT 2017\n",
    "(English) Min: 16.3 Max: 25.5\n",
    "(Math) Min: 18 Max: 25.3\n",
    "(Reading) Min: 18.1 Max: 26\n",
    "(Science) Min: 2.3 Max: 24.9 \n",
    "\n",
    "Potential Discrepancies:\n",
    "1) SAT 2017 Math min score appears rather low\n",
    "2) ACT 2017 Science min score appears rather low \n",
    "\n"
   ]
  },
  {
   "cell_type": "markdown",
   "metadata": {},
   "source": [
    "#### 4c. Fix any errors you identified\n",
    "\n",
    "**The data is available** so there's no need to guess or calculate anything. If you didn't find any errors, continue to the next step."
   ]
  },
  {
   "cell_type": "code",
   "execution_count": 22,
   "metadata": {},
   "outputs": [
    {
     "data": {
      "text/plain": [
       "52"
      ]
     },
     "execution_count": 22,
     "metadata": {},
     "output_type": "execute_result"
    }
   ],
   "source": [
    "sat_2017.loc[20,\"Math\"] #SAT maryland math value needs to be changed to 524"
   ]
  },
  {
   "cell_type": "code",
   "execution_count": 23,
   "metadata": {},
   "outputs": [],
   "source": [
    "sat_2017.loc[20,\"Math\"] = 524"
   ]
  },
  {
   "cell_type": "code",
   "execution_count": 24,
   "metadata": {},
   "outputs": [
    {
     "data": {
      "text/plain": [
       "2.3"
      ]
     },
     "execution_count": 24,
     "metadata": {},
     "output_type": "execute_result"
    }
   ],
   "source": [
    "act_2017.loc[21,\"Science\"] #act_17 maryland science value has to be changed to 23.2 \n"
   ]
  },
  {
   "cell_type": "code",
   "execution_count": 25,
   "metadata": {},
   "outputs": [],
   "source": [
    "act_2017.loc[21,\"Science\"] = 23.2"
   ]
  },
  {
   "cell_type": "code",
   "execution_count": 26,
   "metadata": {},
   "outputs": [
    {
     "data": {
      "text/plain": [
       "'20.2x'"
      ]
     },
     "execution_count": 26,
     "metadata": {},
     "output_type": "execute_result"
    }
   ],
   "source": [
    "act_2017.loc[51,\"Composite\"] #act_17 composite score has to be changed to 20.2 "
   ]
  },
  {
   "cell_type": "code",
   "execution_count": 27,
   "metadata": {},
   "outputs": [],
   "source": [
    "act_2017.loc[51,\"Composite\"] = 20.2"
   ]
  },
  {
   "cell_type": "markdown",
   "metadata": {},
   "source": [
    "#### 5. What are your data types? \n",
    "Display the data types of each feature. "
   ]
  },
  {
   "cell_type": "code",
   "execution_count": 28,
   "metadata": {},
   "outputs": [
    {
     "name": "stdout",
     "output_type": "stream",
     "text": [
      "<class 'pandas.core.frame.DataFrame'>\n",
      "RangeIndex: 52 entries, 0 to 51\n",
      "Data columns (total 7 columns):\n",
      "State            52 non-null object\n",
      "Participation    52 non-null float64\n",
      "English          52 non-null float64\n",
      "Math             52 non-null float64\n",
      "Reading          52 non-null float64\n",
      "Science          52 non-null float64\n",
      "Composite        52 non-null object\n",
      "dtypes: float64(5), object(2)\n",
      "memory usage: 3.0+ KB\n",
      "<class 'pandas.core.frame.DataFrame'>\n",
      "RangeIndex: 51 entries, 0 to 50\n",
      "Data columns (total 5 columns):\n",
      "State                                 51 non-null object\n",
      "Participation                         51 non-null float64\n",
      "Evidence-Based Reading and Writing    51 non-null int64\n",
      "Math                                  51 non-null int64\n",
      "Total                                 51 non-null int64\n",
      "dtypes: float64(1), int64(3), object(1)\n",
      "memory usage: 2.1+ KB\n"
     ]
    }
   ],
   "source": [
    "act_2017.info() #composite column data typs need to be changed from string to numeric type\n",
    "\n",
    "sat_2017.info()"
   ]
  },
  {
   "cell_type": "markdown",
   "metadata": {},
   "source": [
    "What did you learn?\n",
    "- Do any of them seem odd?  \n",
    "- Which ones are not as they should be?  "
   ]
  },
  {
   "cell_type": "markdown",
   "metadata": {},
   "source": [
    "Answer:\n",
    "\n",
    "SAT and ACT Participation is an object - string type (but already fixed in step 1) \n",
    "\n",
    "ACT composite score is a string type that needs to be changed to a numeric type (probably float)\n"
   ]
  },
  {
   "cell_type": "markdown",
   "metadata": {},
   "source": [
    "#### 6. Fix Incorrect Data Types\n",
    "Based on what you discovered above, use appropriate methods to re-type incorrectly typed data.\n",
    "- Define a function that will allow you to convert participation rates to an appropriate numeric type. Use `map` or `apply` to change these columns in each dataframe."
   ]
  },
  {
   "cell_type": "code",
   "execution_count": 29,
   "metadata": {},
   "outputs": [],
   "source": [
    "#Convert the string number value to a float\n",
    "#remove all % \n",
    "#Convert to float type    \n",
    "\n",
    "def convert_percent(val):\n",
    "    new_val = val.replace('%','')\n",
    "    return float(new_val)\n",
    "\n",
    "#(converted in previous steps alr though)\n",
    "#use the pandas apply function to apply convert_precent above the 'Participation' column.\n",
    "sat_2017[\"Participation\"] = sat_2017[\"Participation\"].astype(str).apply(convert_percent)\n",
    "\n",
    "#use the pandas apply function to apply convert_precent above the 'Participation' column.\n",
    "act_2017[\"Participation\"] = act_2017[\"Participation\"].astype(str).apply(convert_percent)"
   ]
  },
  {
   "cell_type": "markdown",
   "metadata": {},
   "source": [
    "- Fix any individual values preventing other columns from being the appropriate type."
   ]
  },
  {
   "cell_type": "code",
   "execution_count": 30,
   "metadata": {},
   "outputs": [],
   "source": [
    "# using pandas to_numeric() function to convert string to float type\n",
    "act_2017['Composite'] = pd.to_numeric(act_2017['Composite'])"
   ]
  },
  {
   "cell_type": "markdown",
   "metadata": {},
   "source": [
    "- Finish your data modifications by making sure the columns are now typed appropriately."
   ]
  },
  {
   "cell_type": "markdown",
   "metadata": {},
   "source": [
    "- Display the data types again to confirm they are correct."
   ]
  },
  {
   "cell_type": "code",
   "execution_count": 31,
   "metadata": {},
   "outputs": [
    {
     "name": "stdout",
     "output_type": "stream",
     "text": [
      "<class 'pandas.core.frame.DataFrame'>\n",
      "RangeIndex: 52 entries, 0 to 51\n",
      "Data columns (total 7 columns):\n",
      "State            52 non-null object\n",
      "Participation    52 non-null float64\n",
      "English          52 non-null float64\n",
      "Math             52 non-null float64\n",
      "Reading          52 non-null float64\n",
      "Science          52 non-null float64\n",
      "Composite        52 non-null float64\n",
      "dtypes: float64(6), object(1)\n",
      "memory usage: 3.0+ KB\n",
      "<class 'pandas.core.frame.DataFrame'>\n",
      "RangeIndex: 51 entries, 0 to 50\n",
      "Data columns (total 5 columns):\n",
      "State                                 51 non-null object\n",
      "Participation                         51 non-null float64\n",
      "Evidence-Based Reading and Writing    51 non-null int64\n",
      "Math                                  51 non-null int64\n",
      "Total                                 51 non-null int64\n",
      "dtypes: float64(1), int64(3), object(1)\n",
      "memory usage: 2.1+ KB\n"
     ]
    }
   ],
   "source": [
    "#Code:\n",
    "act_2017.info()\n",
    "sat_2017.info()"
   ]
  },
  {
   "cell_type": "markdown",
   "metadata": {},
   "source": [
    "#### 7. Rename Columns\n",
    "Change the names of the columns to more expressive names so that you can tell the difference the SAT columns and the ACT columns. Your solution should map all column names being changed at once (no repeated singular name-changes). **We will be combining these data with some of the data from 2018, and so you should name columns in an appropriate way**.\n",
    "\n",
    "**Guidelines**:\n",
    "- Column names should be all lowercase (you will thank yourself when you start pushing data to SQL later in the course)\n",
    "- Column names should not contain spaces (underscores will suffice--this allows for using the `df.column_name` method to access columns in addition to `df['column_name']`.\n",
    "- Column names should be unique and informative (the only feature that we actually share between dataframes is the state)."
   ]
  },
  {
   "cell_type": "code",
   "execution_count": 32,
   "metadata": {},
   "outputs": [
    {
     "data": {
      "text/html": [
       "<div>\n",
       "<style scoped>\n",
       "    .dataframe tbody tr th:only-of-type {\n",
       "        vertical-align: middle;\n",
       "    }\n",
       "\n",
       "    .dataframe tbody tr th {\n",
       "        vertical-align: top;\n",
       "    }\n",
       "\n",
       "    .dataframe thead th {\n",
       "        text-align: right;\n",
       "    }\n",
       "</style>\n",
       "<table border=\"1\" class=\"dataframe\">\n",
       "  <thead>\n",
       "    <tr style=\"text-align: right;\">\n",
       "      <th></th>\n",
       "      <th>state</th>\n",
       "      <th>sat17_participation%</th>\n",
       "      <th>sat17_reading_writing</th>\n",
       "      <th>sat17_math</th>\n",
       "      <th>sat17_total</th>\n",
       "    </tr>\n",
       "  </thead>\n",
       "  <tbody>\n",
       "    <tr>\n",
       "      <td>0</td>\n",
       "      <td>Alabama</td>\n",
       "      <td>5.0</td>\n",
       "      <td>593</td>\n",
       "      <td>572</td>\n",
       "      <td>1165</td>\n",
       "    </tr>\n",
       "    <tr>\n",
       "      <td>1</td>\n",
       "      <td>Alaska</td>\n",
       "      <td>38.0</td>\n",
       "      <td>547</td>\n",
       "      <td>533</td>\n",
       "      <td>1080</td>\n",
       "    </tr>\n",
       "    <tr>\n",
       "      <td>2</td>\n",
       "      <td>Arizona</td>\n",
       "      <td>30.0</td>\n",
       "      <td>563</td>\n",
       "      <td>553</td>\n",
       "      <td>1116</td>\n",
       "    </tr>\n",
       "    <tr>\n",
       "      <td>3</td>\n",
       "      <td>Arkansas</td>\n",
       "      <td>3.0</td>\n",
       "      <td>614</td>\n",
       "      <td>594</td>\n",
       "      <td>1208</td>\n",
       "    </tr>\n",
       "    <tr>\n",
       "      <td>4</td>\n",
       "      <td>California</td>\n",
       "      <td>53.0</td>\n",
       "      <td>531</td>\n",
       "      <td>524</td>\n",
       "      <td>1055</td>\n",
       "    </tr>\n",
       "  </tbody>\n",
       "</table>\n",
       "</div>"
      ],
      "text/plain": [
       "        state  sat17_participation%  sat17_reading_writing  sat17_math  \\\n",
       "0     Alabama                   5.0                    593         572   \n",
       "1      Alaska                  38.0                    547         533   \n",
       "2     Arizona                  30.0                    563         553   \n",
       "3    Arkansas                   3.0                    614         594   \n",
       "4  California                  53.0                    531         524   \n",
       "\n",
       "   sat17_total  \n",
       "0         1165  \n",
       "1         1080  \n",
       "2         1116  \n",
       "3         1208  \n",
       "4         1055  "
      ]
     },
     "execution_count": 32,
     "metadata": {},
     "output_type": "execute_result"
    }
   ],
   "source": [
    "#renaming the sat_2017 columns \n",
    "\n",
    "sat_2017.columns = ['state','sat17_participation%','sat17_reading_writing','sat17_math','sat17_total']\n",
    "\n",
    "sat_2017.head()\n"
   ]
  },
  {
   "cell_type": "code",
   "execution_count": 33,
   "metadata": {},
   "outputs": [
    {
     "data": {
      "text/html": [
       "<div>\n",
       "<style scoped>\n",
       "    .dataframe tbody tr th:only-of-type {\n",
       "        vertical-align: middle;\n",
       "    }\n",
       "\n",
       "    .dataframe tbody tr th {\n",
       "        vertical-align: top;\n",
       "    }\n",
       "\n",
       "    .dataframe thead th {\n",
       "        text-align: right;\n",
       "    }\n",
       "</style>\n",
       "<table border=\"1\" class=\"dataframe\">\n",
       "  <thead>\n",
       "    <tr style=\"text-align: right;\">\n",
       "      <th></th>\n",
       "      <th>state</th>\n",
       "      <th>act17_participation%</th>\n",
       "      <th>act17_eng</th>\n",
       "      <th>act17_math</th>\n",
       "      <th>act17_reading</th>\n",
       "      <th>act17_sci</th>\n",
       "      <th>act17_composite</th>\n",
       "    </tr>\n",
       "  </thead>\n",
       "  <tbody>\n",
       "    <tr>\n",
       "      <td>0</td>\n",
       "      <td>National</td>\n",
       "      <td>60.0</td>\n",
       "      <td>20.3</td>\n",
       "      <td>20.7</td>\n",
       "      <td>21.4</td>\n",
       "      <td>21.0</td>\n",
       "      <td>21.0</td>\n",
       "    </tr>\n",
       "    <tr>\n",
       "      <td>1</td>\n",
       "      <td>Alabama</td>\n",
       "      <td>100.0</td>\n",
       "      <td>18.9</td>\n",
       "      <td>18.4</td>\n",
       "      <td>19.7</td>\n",
       "      <td>19.4</td>\n",
       "      <td>19.2</td>\n",
       "    </tr>\n",
       "    <tr>\n",
       "      <td>2</td>\n",
       "      <td>Alaska</td>\n",
       "      <td>65.0</td>\n",
       "      <td>18.7</td>\n",
       "      <td>19.8</td>\n",
       "      <td>20.4</td>\n",
       "      <td>19.9</td>\n",
       "      <td>19.8</td>\n",
       "    </tr>\n",
       "    <tr>\n",
       "      <td>3</td>\n",
       "      <td>Arizona</td>\n",
       "      <td>62.0</td>\n",
       "      <td>18.6</td>\n",
       "      <td>19.8</td>\n",
       "      <td>20.1</td>\n",
       "      <td>19.8</td>\n",
       "      <td>19.7</td>\n",
       "    </tr>\n",
       "    <tr>\n",
       "      <td>4</td>\n",
       "      <td>Arkansas</td>\n",
       "      <td>100.0</td>\n",
       "      <td>18.9</td>\n",
       "      <td>19.0</td>\n",
       "      <td>19.7</td>\n",
       "      <td>19.5</td>\n",
       "      <td>19.4</td>\n",
       "    </tr>\n",
       "  </tbody>\n",
       "</table>\n",
       "</div>"
      ],
      "text/plain": [
       "      state  act17_participation%  act17_eng  act17_math  act17_reading  \\\n",
       "0  National                  60.0       20.3        20.7           21.4   \n",
       "1   Alabama                 100.0       18.9        18.4           19.7   \n",
       "2    Alaska                  65.0       18.7        19.8           20.4   \n",
       "3   Arizona                  62.0       18.6        19.8           20.1   \n",
       "4  Arkansas                 100.0       18.9        19.0           19.7   \n",
       "\n",
       "   act17_sci  act17_composite  \n",
       "0       21.0             21.0  \n",
       "1       19.4             19.2  \n",
       "2       19.9             19.8  \n",
       "3       19.8             19.7  \n",
       "4       19.5             19.4  "
      ]
     },
     "execution_count": 33,
     "metadata": {},
     "output_type": "execute_result"
    }
   ],
   "source": [
    "#renaming the sat_2017 columns \n",
    "\n",
    "act_2017.columns = ['state','act17_participation%','act17_eng','act17_math','act17_reading','act17_sci','act17_composite']\n",
    "\n",
    "act_2017.head()"
   ]
  },
  {
   "cell_type": "markdown",
   "metadata": {},
   "source": [
    "#### 8. Create a data dictionary\n",
    "\n",
    "Now that we've fixed our data, and given it appropriate names, let's create a [data dictionary](http://library.ucmerced.edu/node/10249). \n",
    "\n",
    "A data dictionary provides a quick overview of features/variables/columns, alongside data types and descriptions. The more descriptive you can be, the more useful this document is.\n",
    "\n",
    "Example of a Fictional Data Dictionary Entry: \n",
    "\n",
    "|Feature|Type|Dataset|Description|\n",
    "|---|---|---|---|\n",
    "|**county_pop**|*integer*|2010 census|The population of the county (units in thousands, where 2.5 represents 2500 people).| \n",
    "|**per_poverty**|*float*|2010 census|The percent of the county over the age of 18 living below the 200% of official US poverty rate (units percent to two decimal places 98.10 means 98.1%)|\n",
    "\n",
    "[Here's a quick link to a short guide for formatting markdown in Jupyter notebooks](https://jupyter-notebook.readthedocs.io/en/stable/examples/Notebook/Working%20With%20Markdown%20Cells.html).\n",
    "\n",
    "Provided is the skeleton for formatting a markdown table, with columns headers that will help you create a data dictionary to quickly summarize your data, as well as some examples. **This would be a great thing to copy and paste into your custom README for this project.**"
   ]
  },
  {
   "cell_type": "markdown",
   "metadata": {},
   "source": [
    "|Feature|Type|Dataset|Description|\n",
    "|---|---|---|---|\n",
    "|column name|int/float/object|ACT/SAT|This is an example| \n"
   ]
  },
  {
   "cell_type": "markdown",
   "metadata": {},
   "source": []
  },
  {
   "cell_type": "markdown",
   "metadata": {},
   "source": [
    "|Name|Type|Source|Description|\n",
    "|---|---|---|---|\n",
    "|**state**|*string*|2017 SAT Scores|American state names| \n",
    "|**sat17_participation%**|*float*|2017 SAT Scores|The state average participation rate in each state represented in %. A total of 1,715,481 students were tested across all states.|\n",
    "|**sat18_participation%**|*float*|2018 SAT Scores|The state average participation rate in each state represented in %. A total of 1,715,481 students were tested across all states.|\n",
    "|**sat17_reading_writing**|*Int*|2017 SAT Scores|The state average reading & writing test score in each state. Highest possible score is 800. |\n",
    "|**sat17_math**|*Int*|2017 SAT Scores|The state average math score in each state. Highest possible score is 800. |\n",
    "|**sat17_total**|*Int*|2017 SAT Scores|The state average total SAT score in each state. Highest possible score is 1600. |\n",
    "|**sat18_reading_writing**|*Int*|2018 SAT Scores|The state average reading & writing test score in each state. Highest possible score is 800. |\n",
    "|**sat18_math**|*Int*|2018 SAT Scores|The state average math score in each state. Highest possible score is 800. |\n",
    "|**sat18_total**|*Int*|2018 SAT Scores|The state average total SAT score in each state. Highest possible score is 1600. |\n",
    "|**act17_participation%**|*float*|2017 ACT Scores|The state average particpation rate in each state represented in % |\n",
    "|**act18_participation%**|*float*|2018 ACT Scores|The state average particpation rate in each state represented in %|\n",
    "|**act17_eng**|*float*|2017 ACT Scores|The state average english composite score in each state. Highest possible score is 36. |\n",
    "|**act17_math**|*float*|2017 SAT Scores|The state average math composite score in each state. Highest possible score is 36. |\n",
    "|**act17_reading**|*float*|2017 ACT Scores|The state average composite reading score in each state. Highest possible score is 36. |\n",
    "|**act17_sci**|*float*|2017 ACT Scores|The state average composite science score in each state. Highest possible score is 36. |\n",
    "|**act17_composite**|*float*|2017 ACT Scores|The state average, average total composite score. This is the total composite score averaged across the 4 ACT subject test components.  |\n",
    "|**act18_eng**|*float*|2018 ACT Scores|The state average english composite score in each state. Highest possible score is 36. |\n",
    "|**act18_math**|*float*|2018 SAT Scores|The state average math composite score in each state. Highest possible score is 36. |\n",
    "|**act18_reading**|*float*|2018 ACT Scores|The state average composite reading score in each state. Highest possible score is 36. |\n",
    "|**act18_sci**|*float*|2018 ACT Scores|The state average composite science score in each state. Highest possible score is 36. |\n",
    "|**act18_composite**|*float*|2018 ACT Scores|The state average, average total composite score. This is the total composite score averaged across the 4 ACT subject test components.  |"
   ]
  },
  {
   "cell_type": "markdown",
   "metadata": {},
   "source": [
    "\n",
    "A Data Dictionary is a collection of names, definitions, and attributes about data elements that are being used or captured in a database, information system, or part of a research project. It describes the meanings and purposes of data elements within the context of a project, and provides guidance on interpretation, accepted meanings and representation. A Data Dictionary also provides metadata about data elements. The metadata included in a Data Dictionary can assist in defining the scope and characteristics of data elements, as well the rules for their usage and application. "
   ]
  },
  {
   "cell_type": "markdown",
   "metadata": {},
   "source": [
    "#### 9. Drop unnecessary rows\n",
    "\n",
    "One of our dataframes contains an extra row. Identify and remove this from the dataframe."
   ]
  },
  {
   "cell_type": "code",
   "execution_count": 34,
   "metadata": {},
   "outputs": [
    {
     "data": {
      "text/html": [
       "<div>\n",
       "<style scoped>\n",
       "    .dataframe tbody tr th:only-of-type {\n",
       "        vertical-align: middle;\n",
       "    }\n",
       "\n",
       "    .dataframe tbody tr th {\n",
       "        vertical-align: top;\n",
       "    }\n",
       "\n",
       "    .dataframe thead th {\n",
       "        text-align: right;\n",
       "    }\n",
       "</style>\n",
       "<table border=\"1\" class=\"dataframe\">\n",
       "  <thead>\n",
       "    <tr style=\"text-align: right;\">\n",
       "      <th></th>\n",
       "      <th>state</th>\n",
       "      <th>act17_participation%</th>\n",
       "      <th>act17_eng</th>\n",
       "      <th>act17_math</th>\n",
       "      <th>act17_reading</th>\n",
       "      <th>act17_sci</th>\n",
       "      <th>act17_composite</th>\n",
       "    </tr>\n",
       "  </thead>\n",
       "  <tbody>\n",
       "    <tr>\n",
       "      <td>1</td>\n",
       "      <td>Alabama</td>\n",
       "      <td>100.0</td>\n",
       "      <td>18.9</td>\n",
       "      <td>18.4</td>\n",
       "      <td>19.7</td>\n",
       "      <td>19.4</td>\n",
       "      <td>19.2</td>\n",
       "    </tr>\n",
       "    <tr>\n",
       "      <td>2</td>\n",
       "      <td>Alaska</td>\n",
       "      <td>65.0</td>\n",
       "      <td>18.7</td>\n",
       "      <td>19.8</td>\n",
       "      <td>20.4</td>\n",
       "      <td>19.9</td>\n",
       "      <td>19.8</td>\n",
       "    </tr>\n",
       "    <tr>\n",
       "      <td>3</td>\n",
       "      <td>Arizona</td>\n",
       "      <td>62.0</td>\n",
       "      <td>18.6</td>\n",
       "      <td>19.8</td>\n",
       "      <td>20.1</td>\n",
       "      <td>19.8</td>\n",
       "      <td>19.7</td>\n",
       "    </tr>\n",
       "    <tr>\n",
       "      <td>4</td>\n",
       "      <td>Arkansas</td>\n",
       "      <td>100.0</td>\n",
       "      <td>18.9</td>\n",
       "      <td>19.0</td>\n",
       "      <td>19.7</td>\n",
       "      <td>19.5</td>\n",
       "      <td>19.4</td>\n",
       "    </tr>\n",
       "    <tr>\n",
       "      <td>5</td>\n",
       "      <td>California</td>\n",
       "      <td>31.0</td>\n",
       "      <td>22.5</td>\n",
       "      <td>22.7</td>\n",
       "      <td>23.1</td>\n",
       "      <td>22.2</td>\n",
       "      <td>22.8</td>\n",
       "    </tr>\n",
       "  </tbody>\n",
       "</table>\n",
       "</div>"
      ],
      "text/plain": [
       "        state  act17_participation%  act17_eng  act17_math  act17_reading  \\\n",
       "1     Alabama                 100.0       18.9        18.4           19.7   \n",
       "2      Alaska                  65.0       18.7        19.8           20.4   \n",
       "3     Arizona                  62.0       18.6        19.8           20.1   \n",
       "4    Arkansas                 100.0       18.9        19.0           19.7   \n",
       "5  California                  31.0       22.5        22.7           23.1   \n",
       "\n",
       "   act17_sci  act17_composite  \n",
       "1       19.4             19.2  \n",
       "2       19.9             19.8  \n",
       "3       19.8             19.7  \n",
       "4       19.5             19.4  \n",
       "5       22.2             22.8  "
      ]
     },
     "execution_count": 34,
     "metadata": {},
     "output_type": "execute_result"
    }
   ],
   "source": [
    "#based on previous observations this would be the 'national' row in the act17 dataframe \n",
    "\n",
    "act_2017 = act_2017.drop([0], axis=0)\n",
    "\n",
    "act_2017.head()\n"
   ]
  },
  {
   "cell_type": "markdown",
   "metadata": {},
   "source": [
    "#### 10. Merge Dataframes\n",
    "\n",
    "Join the 2017 ACT and SAT dataframes using the state in each dataframe as the key. Assign this to a new variable."
   ]
  },
  {
   "cell_type": "code",
   "execution_count": 35,
   "metadata": {},
   "outputs": [
    {
     "data": {
      "text/html": [
       "<div>\n",
       "<style scoped>\n",
       "    .dataframe tbody tr th:only-of-type {\n",
       "        vertical-align: middle;\n",
       "    }\n",
       "\n",
       "    .dataframe tbody tr th {\n",
       "        vertical-align: top;\n",
       "    }\n",
       "\n",
       "    .dataframe thead th {\n",
       "        text-align: right;\n",
       "    }\n",
       "</style>\n",
       "<table border=\"1\" class=\"dataframe\">\n",
       "  <thead>\n",
       "    <tr style=\"text-align: right;\">\n",
       "      <th></th>\n",
       "      <th>state</th>\n",
       "      <th>act17_participation%</th>\n",
       "      <th>act17_eng</th>\n",
       "      <th>act17_math</th>\n",
       "      <th>act17_reading</th>\n",
       "      <th>act17_sci</th>\n",
       "      <th>act17_composite</th>\n",
       "      <th>sat17_participation%</th>\n",
       "      <th>sat17_reading_writing</th>\n",
       "      <th>sat17_math</th>\n",
       "      <th>sat17_total</th>\n",
       "    </tr>\n",
       "  </thead>\n",
       "  <tbody>\n",
       "    <tr>\n",
       "      <td>0</td>\n",
       "      <td>Alabama</td>\n",
       "      <td>100.0</td>\n",
       "      <td>18.9</td>\n",
       "      <td>18.4</td>\n",
       "      <td>19.7</td>\n",
       "      <td>19.4</td>\n",
       "      <td>19.2</td>\n",
       "      <td>5.0</td>\n",
       "      <td>593</td>\n",
       "      <td>572</td>\n",
       "      <td>1165</td>\n",
       "    </tr>\n",
       "    <tr>\n",
       "      <td>1</td>\n",
       "      <td>Alaska</td>\n",
       "      <td>65.0</td>\n",
       "      <td>18.7</td>\n",
       "      <td>19.8</td>\n",
       "      <td>20.4</td>\n",
       "      <td>19.9</td>\n",
       "      <td>19.8</td>\n",
       "      <td>38.0</td>\n",
       "      <td>547</td>\n",
       "      <td>533</td>\n",
       "      <td>1080</td>\n",
       "    </tr>\n",
       "    <tr>\n",
       "      <td>2</td>\n",
       "      <td>Arizona</td>\n",
       "      <td>62.0</td>\n",
       "      <td>18.6</td>\n",
       "      <td>19.8</td>\n",
       "      <td>20.1</td>\n",
       "      <td>19.8</td>\n",
       "      <td>19.7</td>\n",
       "      <td>30.0</td>\n",
       "      <td>563</td>\n",
       "      <td>553</td>\n",
       "      <td>1116</td>\n",
       "    </tr>\n",
       "    <tr>\n",
       "      <td>3</td>\n",
       "      <td>Arkansas</td>\n",
       "      <td>100.0</td>\n",
       "      <td>18.9</td>\n",
       "      <td>19.0</td>\n",
       "      <td>19.7</td>\n",
       "      <td>19.5</td>\n",
       "      <td>19.4</td>\n",
       "      <td>3.0</td>\n",
       "      <td>614</td>\n",
       "      <td>594</td>\n",
       "      <td>1208</td>\n",
       "    </tr>\n",
       "    <tr>\n",
       "      <td>4</td>\n",
       "      <td>California</td>\n",
       "      <td>31.0</td>\n",
       "      <td>22.5</td>\n",
       "      <td>22.7</td>\n",
       "      <td>23.1</td>\n",
       "      <td>22.2</td>\n",
       "      <td>22.8</td>\n",
       "      <td>53.0</td>\n",
       "      <td>531</td>\n",
       "      <td>524</td>\n",
       "      <td>1055</td>\n",
       "    </tr>\n",
       "  </tbody>\n",
       "</table>\n",
       "</div>"
      ],
      "text/plain": [
       "        state  act17_participation%  act17_eng  act17_math  act17_reading  \\\n",
       "0     Alabama                 100.0       18.9        18.4           19.7   \n",
       "1      Alaska                  65.0       18.7        19.8           20.4   \n",
       "2     Arizona                  62.0       18.6        19.8           20.1   \n",
       "3    Arkansas                 100.0       18.9        19.0           19.7   \n",
       "4  California                  31.0       22.5        22.7           23.1   \n",
       "\n",
       "   act17_sci  act17_composite  sat17_participation%  sat17_reading_writing  \\\n",
       "0       19.4             19.2                   5.0                    593   \n",
       "1       19.9             19.8                  38.0                    547   \n",
       "2       19.8             19.7                  30.0                    563   \n",
       "3       19.5             19.4                   3.0                    614   \n",
       "4       22.2             22.8                  53.0                    531   \n",
       "\n",
       "   sat17_math  sat17_total  \n",
       "0         572         1165  \n",
       "1         533         1080  \n",
       "2         553         1116  \n",
       "3         594         1208  \n",
       "4         524         1055  "
      ]
     },
     "execution_count": 35,
     "metadata": {},
     "output_type": "execute_result"
    }
   ],
   "source": [
    "act_sat17 = pd.merge(act_2017, sat_2017, how='right')\n",
    "act_sat17.head()\n"
   ]
  },
  {
   "cell_type": "code",
   "execution_count": 36,
   "metadata": {},
   "outputs": [
    {
     "name": "stdout",
     "output_type": "stream",
     "text": [
      "(51, 7)\n",
      "(51, 5)\n",
      "(51, 11)\n"
     ]
    }
   ],
   "source": [
    "print(act_2017.shape)\n",
    "print(sat_2017.shape)\n",
    "print(act_sat17.shape)\n",
    "\n",
    "#number of rows remain the same post merger, columns have increased to 11 as they have merged on state "
   ]
  },
  {
   "cell_type": "markdown",
   "metadata": {},
   "source": [
    "#### 11. Save your cleaned, merged dataframe\n",
    "\n",
    "Use a relative path to save out your data as `combined_2017.csv`."
   ]
  },
  {
   "cell_type": "code",
   "execution_count": 37,
   "metadata": {},
   "outputs": [],
   "source": [
    "#df.to_csv(file_name, sep='\\t', encoding='utf-8')\n",
    "\n",
    "act_sat17.to_csv('../data/combined_2017.csv', index=False)"
   ]
  },
  {
   "cell_type": "markdown",
   "metadata": {},
   "source": [
    "## 2018 Data Import and Cleaning"
   ]
  },
  {
   "cell_type": "markdown",
   "metadata": {},
   "source": [
    "Links to the 2018 ACT and SAT data are provided in the README. These data live in PDFs, and so you'll get to enjoy practicing some *manual* data collection. Save these data as a CSV in your `data` directory, and import, explore, and clean these data in the same way you did above. **Make sure you comment on your steps so it is clear *why* you are doing each process**."
   ]
  },
  {
   "cell_type": "code",
   "execution_count": 38,
   "metadata": {},
   "outputs": [],
   "source": [
    "#using act_2018_updated.csv and sat_2018.csv\n",
    "\n",
    "#manually compared act_2018_updated.csv to the online pdf report. found one discrepancy for Delaware's average\n",
    "# composite score \n",
    "\n",
    "#Code:\n",
    "sat_2018 = pd.read_csv('../data/sat_2018.csv')\n",
    "act_2018 = pd.read_csv('../data/act_2018_updated.csv')\n"
   ]
  },
  {
   "cell_type": "code",
   "execution_count": 39,
   "metadata": {},
   "outputs": [
    {
     "data": {
      "text/html": [
       "<div>\n",
       "<style scoped>\n",
       "    .dataframe tbody tr th:only-of-type {\n",
       "        vertical-align: middle;\n",
       "    }\n",
       "\n",
       "    .dataframe tbody tr th {\n",
       "        vertical-align: top;\n",
       "    }\n",
       "\n",
       "    .dataframe thead th {\n",
       "        text-align: right;\n",
       "    }\n",
       "</style>\n",
       "<table border=\"1\" class=\"dataframe\">\n",
       "  <thead>\n",
       "    <tr style=\"text-align: right;\">\n",
       "      <th></th>\n",
       "      <th>State</th>\n",
       "      <th>Participation</th>\n",
       "      <th>Evidence-Based Reading and Writing</th>\n",
       "      <th>Math</th>\n",
       "      <th>Total</th>\n",
       "    </tr>\n",
       "  </thead>\n",
       "  <tbody>\n",
       "    <tr>\n",
       "      <td>0</td>\n",
       "      <td>Alabama</td>\n",
       "      <td>6%</td>\n",
       "      <td>595</td>\n",
       "      <td>571</td>\n",
       "      <td>1166</td>\n",
       "    </tr>\n",
       "    <tr>\n",
       "      <td>1</td>\n",
       "      <td>Alaska</td>\n",
       "      <td>43%</td>\n",
       "      <td>562</td>\n",
       "      <td>544</td>\n",
       "      <td>1106</td>\n",
       "    </tr>\n",
       "    <tr>\n",
       "      <td>2</td>\n",
       "      <td>Arizona</td>\n",
       "      <td>29%</td>\n",
       "      <td>577</td>\n",
       "      <td>572</td>\n",
       "      <td>1149</td>\n",
       "    </tr>\n",
       "    <tr>\n",
       "      <td>3</td>\n",
       "      <td>Arkansas</td>\n",
       "      <td>5%</td>\n",
       "      <td>592</td>\n",
       "      <td>576</td>\n",
       "      <td>1169</td>\n",
       "    </tr>\n",
       "    <tr>\n",
       "      <td>4</td>\n",
       "      <td>California</td>\n",
       "      <td>60%</td>\n",
       "      <td>540</td>\n",
       "      <td>536</td>\n",
       "      <td>1076</td>\n",
       "    </tr>\n",
       "  </tbody>\n",
       "</table>\n",
       "</div>"
      ],
      "text/plain": [
       "        State Participation  Evidence-Based Reading and Writing  Math  Total\n",
       "0     Alabama            6%                                 595   571   1166\n",
       "1      Alaska           43%                                 562   544   1106\n",
       "2     Arizona           29%                                 577   572   1149\n",
       "3    Arkansas            5%                                 592   576   1169\n",
       "4  California           60%                                 540   536   1076"
      ]
     },
     "execution_count": 39,
     "metadata": {},
     "output_type": "execute_result"
    }
   ],
   "source": [
    "sat_2018.head() #checking out the file "
   ]
  },
  {
   "cell_type": "code",
   "execution_count": 40,
   "metadata": {},
   "outputs": [
    {
     "name": "stdout",
     "output_type": "stream",
     "text": [
      "<class 'pandas.core.frame.DataFrame'>\n",
      "RangeIndex: 51 entries, 0 to 50\n",
      "Data columns (total 5 columns):\n",
      "State                                 51 non-null object\n",
      "Participation                         51 non-null object\n",
      "Evidence-Based Reading and Writing    51 non-null int64\n",
      "Math                                  51 non-null int64\n",
      "Total                                 51 non-null int64\n",
      "dtypes: int64(3), object(2)\n",
      "memory usage: 2.1+ KB\n"
     ]
    }
   ],
   "source": [
    "sat_2018.info()\n",
    "#similar to 2018 data, Participation needs to be changed to float type "
   ]
  },
  {
   "cell_type": "code",
   "execution_count": 41,
   "metadata": {},
   "outputs": [
    {
     "data": {
      "text/html": [
       "<div>\n",
       "<style scoped>\n",
       "    .dataframe tbody tr th:only-of-type {\n",
       "        vertical-align: middle;\n",
       "    }\n",
       "\n",
       "    .dataframe tbody tr th {\n",
       "        vertical-align: top;\n",
       "    }\n",
       "\n",
       "    .dataframe thead th {\n",
       "        text-align: right;\n",
       "    }\n",
       "</style>\n",
       "<table border=\"1\" class=\"dataframe\">\n",
       "  <thead>\n",
       "    <tr style=\"text-align: right;\">\n",
       "      <th></th>\n",
       "      <th>State</th>\n",
       "      <th>Percentage of Students Tested</th>\n",
       "      <th>Average Composite Score</th>\n",
       "      <th>Average English Score</th>\n",
       "      <th>Average Math Score</th>\n",
       "      <th>Average Reading Score</th>\n",
       "      <th>Average Science Score</th>\n",
       "    </tr>\n",
       "  </thead>\n",
       "  <tbody>\n",
       "    <tr>\n",
       "      <td>0</td>\n",
       "      <td>Alabama</td>\n",
       "      <td>100</td>\n",
       "      <td>19.1</td>\n",
       "      <td>18.9</td>\n",
       "      <td>18.3</td>\n",
       "      <td>19.6</td>\n",
       "      <td>19.0</td>\n",
       "    </tr>\n",
       "    <tr>\n",
       "      <td>1</td>\n",
       "      <td>Alaska</td>\n",
       "      <td>33</td>\n",
       "      <td>20.8</td>\n",
       "      <td>19.8</td>\n",
       "      <td>20.6</td>\n",
       "      <td>21.6</td>\n",
       "      <td>20.7</td>\n",
       "    </tr>\n",
       "    <tr>\n",
       "      <td>2</td>\n",
       "      <td>Arizona</td>\n",
       "      <td>66</td>\n",
       "      <td>19.2</td>\n",
       "      <td>18.2</td>\n",
       "      <td>19.4</td>\n",
       "      <td>19.5</td>\n",
       "      <td>19.2</td>\n",
       "    </tr>\n",
       "    <tr>\n",
       "      <td>3</td>\n",
       "      <td>Arkansas</td>\n",
       "      <td>100</td>\n",
       "      <td>19.4</td>\n",
       "      <td>19.1</td>\n",
       "      <td>18.9</td>\n",
       "      <td>19.7</td>\n",
       "      <td>19.4</td>\n",
       "    </tr>\n",
       "    <tr>\n",
       "      <td>4</td>\n",
       "      <td>California</td>\n",
       "      <td>27</td>\n",
       "      <td>22.7</td>\n",
       "      <td>22.5</td>\n",
       "      <td>22.5</td>\n",
       "      <td>23.0</td>\n",
       "      <td>22.1</td>\n",
       "    </tr>\n",
       "  </tbody>\n",
       "</table>\n",
       "</div>"
      ],
      "text/plain": [
       "        State  Percentage of Students Tested  Average Composite Score  \\\n",
       "0     Alabama                            100                     19.1   \n",
       "1      Alaska                             33                     20.8   \n",
       "2     Arizona                             66                     19.2   \n",
       "3    Arkansas                            100                     19.4   \n",
       "4  California                             27                     22.7   \n",
       "\n",
       "   Average English Score  Average Math Score  Average Reading Score  \\\n",
       "0                   18.9                18.3                   19.6   \n",
       "1                   19.8                20.6                   21.6   \n",
       "2                   18.2                19.4                   19.5   \n",
       "3                   19.1                18.9                   19.7   \n",
       "4                   22.5                22.5                   23.0   \n",
       "\n",
       "   Average Science Score  \n",
       "0                   19.0  \n",
       "1                   20.7  \n",
       "2                   19.2  \n",
       "3                   19.4  \n",
       "4                   22.1  "
      ]
     },
     "execution_count": 41,
     "metadata": {},
     "output_type": "execute_result"
    }
   ],
   "source": [
    "act_2018.head() #checking out the file "
   ]
  },
  {
   "cell_type": "code",
   "execution_count": 42,
   "metadata": {},
   "outputs": [
    {
     "name": "stdout",
     "output_type": "stream",
     "text": [
      "<class 'pandas.core.frame.DataFrame'>\n",
      "RangeIndex: 51 entries, 0 to 50\n",
      "Data columns (total 7 columns):\n",
      "State                            51 non-null object\n",
      "Percentage of Students Tested    51 non-null int64\n",
      "Average Composite Score          51 non-null float64\n",
      "Average English Score            51 non-null float64\n",
      "Average Math Score               51 non-null float64\n",
      "Average Reading Score            51 non-null float64\n",
      "Average Science Score            51 non-null float64\n",
      "dtypes: float64(5), int64(1), object(1)\n",
      "memory usage: 2.9+ KB\n"
     ]
    }
   ],
   "source": [
    "act_2018.info() #% of students tested is already int type here"
   ]
  },
  {
   "cell_type": "code",
   "execution_count": 43,
   "metadata": {},
   "outputs": [],
   "source": [
    "#def convert_percent(val):\n",
    "    #new_val = val.replace('%','')\n",
    "    #return float(new_val)\n",
    "\n",
    "#use the pandas apply function to apply convert_precent defined previously to the 'Participation' column.\n",
    "sat_2018[\"Participation\"] = sat_2018[\"Participation\"].apply(convert_percent)"
   ]
  },
  {
   "cell_type": "code",
   "execution_count": 44,
   "metadata": {},
   "outputs": [
    {
     "name": "stdout",
     "output_type": "stream",
     "text": [
      "<class 'pandas.core.frame.DataFrame'>\n",
      "RangeIndex: 51 entries, 0 to 50\n",
      "Data columns (total 5 columns):\n",
      "State                                 51 non-null object\n",
      "Participation                         51 non-null float64\n",
      "Evidence-Based Reading and Writing    51 non-null int64\n",
      "Math                                  51 non-null int64\n",
      "Total                                 51 non-null int64\n",
      "dtypes: float64(1), int64(3), object(1)\n",
      "memory usage: 2.1+ KB\n"
     ]
    }
   ],
   "source": [
    "sat_2018.info() #checking that Participation has been casted to float type"
   ]
  },
  {
   "cell_type": "code",
   "execution_count": 45,
   "metadata": {},
   "outputs": [
    {
     "data": {
      "text/html": [
       "<div>\n",
       "<style scoped>\n",
       "    .dataframe tbody tr th:only-of-type {\n",
       "        vertical-align: middle;\n",
       "    }\n",
       "\n",
       "    .dataframe tbody tr th {\n",
       "        vertical-align: top;\n",
       "    }\n",
       "\n",
       "    .dataframe thead th {\n",
       "        text-align: right;\n",
       "    }\n",
       "</style>\n",
       "<table border=\"1\" class=\"dataframe\">\n",
       "  <thead>\n",
       "    <tr style=\"text-align: right;\">\n",
       "      <th></th>\n",
       "      <th>Participation</th>\n",
       "      <th>Evidence-Based Reading and Writing</th>\n",
       "      <th>Math</th>\n",
       "      <th>Total</th>\n",
       "    </tr>\n",
       "  </thead>\n",
       "  <tbody>\n",
       "    <tr>\n",
       "      <td>count</td>\n",
       "      <td>51.000000</td>\n",
       "      <td>51.000000</td>\n",
       "      <td>51.000000</td>\n",
       "      <td>51.000000</td>\n",
       "    </tr>\n",
       "    <tr>\n",
       "      <td>mean</td>\n",
       "      <td>45.745098</td>\n",
       "      <td>563.686275</td>\n",
       "      <td>556.235294</td>\n",
       "      <td>1120.019608</td>\n",
       "    </tr>\n",
       "    <tr>\n",
       "      <td>std</td>\n",
       "      <td>37.314256</td>\n",
       "      <td>47.502627</td>\n",
       "      <td>47.772623</td>\n",
       "      <td>94.155083</td>\n",
       "    </tr>\n",
       "    <tr>\n",
       "      <td>min</td>\n",
       "      <td>2.000000</td>\n",
       "      <td>480.000000</td>\n",
       "      <td>480.000000</td>\n",
       "      <td>977.000000</td>\n",
       "    </tr>\n",
       "    <tr>\n",
       "      <td>25%</td>\n",
       "      <td>4.500000</td>\n",
       "      <td>534.500000</td>\n",
       "      <td>522.500000</td>\n",
       "      <td>1057.500000</td>\n",
       "    </tr>\n",
       "    <tr>\n",
       "      <td>50%</td>\n",
       "      <td>52.000000</td>\n",
       "      <td>552.000000</td>\n",
       "      <td>544.000000</td>\n",
       "      <td>1098.000000</td>\n",
       "    </tr>\n",
       "    <tr>\n",
       "      <td>75%</td>\n",
       "      <td>77.500000</td>\n",
       "      <td>610.500000</td>\n",
       "      <td>593.500000</td>\n",
       "      <td>1204.000000</td>\n",
       "    </tr>\n",
       "    <tr>\n",
       "      <td>max</td>\n",
       "      <td>100.000000</td>\n",
       "      <td>643.000000</td>\n",
       "      <td>655.000000</td>\n",
       "      <td>1298.000000</td>\n",
       "    </tr>\n",
       "  </tbody>\n",
       "</table>\n",
       "</div>"
      ],
      "text/plain": [
       "       Participation  Evidence-Based Reading and Writing        Math  \\\n",
       "count      51.000000                           51.000000   51.000000   \n",
       "mean       45.745098                          563.686275  556.235294   \n",
       "std        37.314256                           47.502627   47.772623   \n",
       "min         2.000000                          480.000000  480.000000   \n",
       "25%         4.500000                          534.500000  522.500000   \n",
       "50%        52.000000                          552.000000  544.000000   \n",
       "75%        77.500000                          610.500000  593.500000   \n",
       "max       100.000000                          643.000000  655.000000   \n",
       "\n",
       "             Total  \n",
       "count    51.000000  \n",
       "mean   1120.019608  \n",
       "std      94.155083  \n",
       "min     977.000000  \n",
       "25%    1057.500000  \n",
       "50%    1098.000000  \n",
       "75%    1204.000000  \n",
       "max    1298.000000  "
      ]
     },
     "execution_count": 45,
     "metadata": {},
     "output_type": "execute_result"
    }
   ],
   "source": [
    "sat_2018.describe() #data generally seems plausible (i.e. no wild min or max points)"
   ]
  },
  {
   "cell_type": "code",
   "execution_count": 46,
   "metadata": {},
   "outputs": [
    {
     "data": {
      "text/html": [
       "<div>\n",
       "<style scoped>\n",
       "    .dataframe tbody tr th:only-of-type {\n",
       "        vertical-align: middle;\n",
       "    }\n",
       "\n",
       "    .dataframe tbody tr th {\n",
       "        vertical-align: top;\n",
       "    }\n",
       "\n",
       "    .dataframe thead th {\n",
       "        text-align: right;\n",
       "    }\n",
       "</style>\n",
       "<table border=\"1\" class=\"dataframe\">\n",
       "  <thead>\n",
       "    <tr style=\"text-align: right;\">\n",
       "      <th></th>\n",
       "      <th>Percentage of Students Tested</th>\n",
       "      <th>Average Composite Score</th>\n",
       "      <th>Average English Score</th>\n",
       "      <th>Average Math Score</th>\n",
       "      <th>Average Reading Score</th>\n",
       "      <th>Average Science Score</th>\n",
       "    </tr>\n",
       "  </thead>\n",
       "  <tbody>\n",
       "    <tr>\n",
       "      <td>count</td>\n",
       "      <td>51.000000</td>\n",
       "      <td>51.000000</td>\n",
       "      <td>51.000000</td>\n",
       "      <td>51.000000</td>\n",
       "      <td>51.000000</td>\n",
       "      <td>51.000000</td>\n",
       "    </tr>\n",
       "    <tr>\n",
       "      <td>mean</td>\n",
       "      <td>61.647059</td>\n",
       "      <td>21.486275</td>\n",
       "      <td>20.988235</td>\n",
       "      <td>21.125490</td>\n",
       "      <td>22.015686</td>\n",
       "      <td>21.345098</td>\n",
       "    </tr>\n",
       "    <tr>\n",
       "      <td>std</td>\n",
       "      <td>34.080976</td>\n",
       "      <td>2.106278</td>\n",
       "      <td>2.446356</td>\n",
       "      <td>2.035765</td>\n",
       "      <td>2.167245</td>\n",
       "      <td>1.870114</td>\n",
       "    </tr>\n",
       "    <tr>\n",
       "      <td>min</td>\n",
       "      <td>7.000000</td>\n",
       "      <td>17.700000</td>\n",
       "      <td>16.600000</td>\n",
       "      <td>17.800000</td>\n",
       "      <td>18.000000</td>\n",
       "      <td>17.900000</td>\n",
       "    </tr>\n",
       "    <tr>\n",
       "      <td>25%</td>\n",
       "      <td>28.500000</td>\n",
       "      <td>19.950000</td>\n",
       "      <td>19.100000</td>\n",
       "      <td>19.400000</td>\n",
       "      <td>20.450000</td>\n",
       "      <td>19.850000</td>\n",
       "    </tr>\n",
       "    <tr>\n",
       "      <td>50%</td>\n",
       "      <td>66.000000</td>\n",
       "      <td>21.300000</td>\n",
       "      <td>20.200000</td>\n",
       "      <td>20.700000</td>\n",
       "      <td>21.600000</td>\n",
       "      <td>21.100000</td>\n",
       "    </tr>\n",
       "    <tr>\n",
       "      <td>75%</td>\n",
       "      <td>100.000000</td>\n",
       "      <td>23.550000</td>\n",
       "      <td>23.700000</td>\n",
       "      <td>23.150000</td>\n",
       "      <td>24.100000</td>\n",
       "      <td>23.050000</td>\n",
       "    </tr>\n",
       "    <tr>\n",
       "      <td>max</td>\n",
       "      <td>100.000000</td>\n",
       "      <td>25.600000</td>\n",
       "      <td>26.000000</td>\n",
       "      <td>25.200000</td>\n",
       "      <td>26.100000</td>\n",
       "      <td>24.900000</td>\n",
       "    </tr>\n",
       "  </tbody>\n",
       "</table>\n",
       "</div>"
      ],
      "text/plain": [
       "       Percentage of Students Tested  Average Composite Score  \\\n",
       "count                      51.000000                51.000000   \n",
       "mean                       61.647059                21.486275   \n",
       "std                        34.080976                 2.106278   \n",
       "min                         7.000000                17.700000   \n",
       "25%                        28.500000                19.950000   \n",
       "50%                        66.000000                21.300000   \n",
       "75%                       100.000000                23.550000   \n",
       "max                       100.000000                25.600000   \n",
       "\n",
       "       Average English Score  Average Math Score  Average Reading Score  \\\n",
       "count              51.000000           51.000000              51.000000   \n",
       "mean               20.988235           21.125490              22.015686   \n",
       "std                 2.446356            2.035765               2.167245   \n",
       "min                16.600000           17.800000              18.000000   \n",
       "25%                19.100000           19.400000              20.450000   \n",
       "50%                20.200000           20.700000              21.600000   \n",
       "75%                23.700000           23.150000              24.100000   \n",
       "max                26.000000           25.200000              26.100000   \n",
       "\n",
       "       Average Science Score  \n",
       "count              51.000000  \n",
       "mean               21.345098  \n",
       "std                 1.870114  \n",
       "min                17.900000  \n",
       "25%                19.850000  \n",
       "50%                21.100000  \n",
       "75%                23.050000  \n",
       "max                24.900000  "
      ]
     },
     "execution_count": 46,
     "metadata": {},
     "output_type": "execute_result"
    }
   ],
   "source": [
    "act_2018.describe() #data generally seems plausible (i.e. no wild min or max points)"
   ]
  },
  {
   "cell_type": "markdown",
   "metadata": {},
   "source": [
    "Cleaning up and re-naming the files"
   ]
  },
  {
   "cell_type": "code",
   "execution_count": 47,
   "metadata": {},
   "outputs": [
    {
     "data": {
      "text/html": [
       "<div>\n",
       "<style scoped>\n",
       "    .dataframe tbody tr th:only-of-type {\n",
       "        vertical-align: middle;\n",
       "    }\n",
       "\n",
       "    .dataframe tbody tr th {\n",
       "        vertical-align: top;\n",
       "    }\n",
       "\n",
       "    .dataframe thead th {\n",
       "        text-align: right;\n",
       "    }\n",
       "</style>\n",
       "<table border=\"1\" class=\"dataframe\">\n",
       "  <thead>\n",
       "    <tr style=\"text-align: right;\">\n",
       "      <th></th>\n",
       "      <th>state</th>\n",
       "      <th>sat18_participation%</th>\n",
       "      <th>sat18_reading_writing</th>\n",
       "      <th>sat18_math</th>\n",
       "      <th>sat18_total</th>\n",
       "    </tr>\n",
       "  </thead>\n",
       "  <tbody>\n",
       "    <tr>\n",
       "      <td>0</td>\n",
       "      <td>Alabama</td>\n",
       "      <td>6.0</td>\n",
       "      <td>595</td>\n",
       "      <td>571</td>\n",
       "      <td>1166</td>\n",
       "    </tr>\n",
       "    <tr>\n",
       "      <td>1</td>\n",
       "      <td>Alaska</td>\n",
       "      <td>43.0</td>\n",
       "      <td>562</td>\n",
       "      <td>544</td>\n",
       "      <td>1106</td>\n",
       "    </tr>\n",
       "    <tr>\n",
       "      <td>2</td>\n",
       "      <td>Arizona</td>\n",
       "      <td>29.0</td>\n",
       "      <td>577</td>\n",
       "      <td>572</td>\n",
       "      <td>1149</td>\n",
       "    </tr>\n",
       "    <tr>\n",
       "      <td>3</td>\n",
       "      <td>Arkansas</td>\n",
       "      <td>5.0</td>\n",
       "      <td>592</td>\n",
       "      <td>576</td>\n",
       "      <td>1169</td>\n",
       "    </tr>\n",
       "    <tr>\n",
       "      <td>4</td>\n",
       "      <td>California</td>\n",
       "      <td>60.0</td>\n",
       "      <td>540</td>\n",
       "      <td>536</td>\n",
       "      <td>1076</td>\n",
       "    </tr>\n",
       "  </tbody>\n",
       "</table>\n",
       "</div>"
      ],
      "text/plain": [
       "        state  sat18_participation%  sat18_reading_writing  sat18_math  \\\n",
       "0     Alabama                   6.0                    595         571   \n",
       "1      Alaska                  43.0                    562         544   \n",
       "2     Arizona                  29.0                    577         572   \n",
       "3    Arkansas                   5.0                    592         576   \n",
       "4  California                  60.0                    540         536   \n",
       "\n",
       "   sat18_total  \n",
       "0         1166  \n",
       "1         1106  \n",
       "2         1149  \n",
       "3         1169  \n",
       "4         1076  "
      ]
     },
     "execution_count": 47,
     "metadata": {},
     "output_type": "execute_result"
    }
   ],
   "source": [
    "#renaming the sat_2018 columns \n",
    "\n",
    "sat_2018.columns = ['state','sat18_participation%','sat18_reading_writing','sat18_math','sat18_total']\n",
    "\n",
    "sat_2018.head()"
   ]
  },
  {
   "cell_type": "code",
   "execution_count": 48,
   "metadata": {},
   "outputs": [
    {
     "data": {
      "text/html": [
       "<div>\n",
       "<style scoped>\n",
       "    .dataframe tbody tr th:only-of-type {\n",
       "        vertical-align: middle;\n",
       "    }\n",
       "\n",
       "    .dataframe tbody tr th {\n",
       "        vertical-align: top;\n",
       "    }\n",
       "\n",
       "    .dataframe thead th {\n",
       "        text-align: right;\n",
       "    }\n",
       "</style>\n",
       "<table border=\"1\" class=\"dataframe\">\n",
       "  <thead>\n",
       "    <tr style=\"text-align: right;\">\n",
       "      <th></th>\n",
       "      <th>state</th>\n",
       "      <th>act18_participation%</th>\n",
       "      <th>act18_composite</th>\n",
       "      <th>act18_eng</th>\n",
       "      <th>act18_math</th>\n",
       "      <th>act18_reading</th>\n",
       "      <th>act18_sci</th>\n",
       "    </tr>\n",
       "  </thead>\n",
       "  <tbody>\n",
       "    <tr>\n",
       "      <td>0</td>\n",
       "      <td>Alabama</td>\n",
       "      <td>100</td>\n",
       "      <td>19.1</td>\n",
       "      <td>18.9</td>\n",
       "      <td>18.3</td>\n",
       "      <td>19.6</td>\n",
       "      <td>19.0</td>\n",
       "    </tr>\n",
       "    <tr>\n",
       "      <td>1</td>\n",
       "      <td>Alaska</td>\n",
       "      <td>33</td>\n",
       "      <td>20.8</td>\n",
       "      <td>19.8</td>\n",
       "      <td>20.6</td>\n",
       "      <td>21.6</td>\n",
       "      <td>20.7</td>\n",
       "    </tr>\n",
       "    <tr>\n",
       "      <td>2</td>\n",
       "      <td>Arizona</td>\n",
       "      <td>66</td>\n",
       "      <td>19.2</td>\n",
       "      <td>18.2</td>\n",
       "      <td>19.4</td>\n",
       "      <td>19.5</td>\n",
       "      <td>19.2</td>\n",
       "    </tr>\n",
       "    <tr>\n",
       "      <td>3</td>\n",
       "      <td>Arkansas</td>\n",
       "      <td>100</td>\n",
       "      <td>19.4</td>\n",
       "      <td>19.1</td>\n",
       "      <td>18.9</td>\n",
       "      <td>19.7</td>\n",
       "      <td>19.4</td>\n",
       "    </tr>\n",
       "    <tr>\n",
       "      <td>4</td>\n",
       "      <td>California</td>\n",
       "      <td>27</td>\n",
       "      <td>22.7</td>\n",
       "      <td>22.5</td>\n",
       "      <td>22.5</td>\n",
       "      <td>23.0</td>\n",
       "      <td>22.1</td>\n",
       "    </tr>\n",
       "  </tbody>\n",
       "</table>\n",
       "</div>"
      ],
      "text/plain": [
       "        state  act18_participation%  act18_composite  act18_eng  act18_math  \\\n",
       "0     Alabama                   100             19.1       18.9        18.3   \n",
       "1      Alaska                    33             20.8       19.8        20.6   \n",
       "2     Arizona                    66             19.2       18.2        19.4   \n",
       "3    Arkansas                   100             19.4       19.1        18.9   \n",
       "4  California                    27             22.7       22.5        22.5   \n",
       "\n",
       "   act18_reading  act18_sci  \n",
       "0           19.6       19.0  \n",
       "1           21.6       20.7  \n",
       "2           19.5       19.2  \n",
       "3           19.7       19.4  \n",
       "4           23.0       22.1  "
      ]
     },
     "execution_count": 48,
     "metadata": {},
     "output_type": "execute_result"
    }
   ],
   "source": [
    "#renaming the act_2018 columns \n",
    "\n",
    "act_2018.columns = ['state','act18_participation%','act18_composite','act18_eng','act18_math','act18_reading','act18_sci']\n",
    "\n",
    "act_2018.head()\n"
   ]
  },
  {
   "cell_type": "markdown",
   "metadata": {},
   "source": [
    "#### Combine your 2017 and 2018 data into a single dataframe\n",
    "Joining on state names should work, assuming you formatted all your state names identically. Make sure none of your columns (other than state) have identical names. Do yourself a favor and decide if you're encoding participation rates as floats or integers and standardize this across your datasets.\n",
    "\n",
    "Save the contents of this merged dataframe as `final.csv`.\n",
    "\n",
    "**Use this combined dataframe for the remainder of the project**."
   ]
  },
  {
   "cell_type": "code",
   "execution_count": 49,
   "metadata": {},
   "outputs": [
    {
     "data": {
      "text/html": [
       "<div>\n",
       "<style scoped>\n",
       "    .dataframe tbody tr th:only-of-type {\n",
       "        vertical-align: middle;\n",
       "    }\n",
       "\n",
       "    .dataframe tbody tr th {\n",
       "        vertical-align: top;\n",
       "    }\n",
       "\n",
       "    .dataframe thead th {\n",
       "        text-align: right;\n",
       "    }\n",
       "</style>\n",
       "<table border=\"1\" class=\"dataframe\">\n",
       "  <thead>\n",
       "    <tr style=\"text-align: right;\">\n",
       "      <th></th>\n",
       "      <th>state</th>\n",
       "      <th>act18_participation%</th>\n",
       "      <th>act18_composite</th>\n",
       "      <th>act18_eng</th>\n",
       "      <th>act18_math</th>\n",
       "      <th>act18_reading</th>\n",
       "      <th>act18_sci</th>\n",
       "      <th>sat18_participation%</th>\n",
       "      <th>sat18_reading_writing</th>\n",
       "      <th>sat18_math</th>\n",
       "      <th>sat18_total</th>\n",
       "    </tr>\n",
       "  </thead>\n",
       "  <tbody>\n",
       "    <tr>\n",
       "      <td>0</td>\n",
       "      <td>Alabama</td>\n",
       "      <td>100</td>\n",
       "      <td>19.1</td>\n",
       "      <td>18.9</td>\n",
       "      <td>18.3</td>\n",
       "      <td>19.6</td>\n",
       "      <td>19.0</td>\n",
       "      <td>6.0</td>\n",
       "      <td>595</td>\n",
       "      <td>571</td>\n",
       "      <td>1166</td>\n",
       "    </tr>\n",
       "    <tr>\n",
       "      <td>1</td>\n",
       "      <td>Alaska</td>\n",
       "      <td>33</td>\n",
       "      <td>20.8</td>\n",
       "      <td>19.8</td>\n",
       "      <td>20.6</td>\n",
       "      <td>21.6</td>\n",
       "      <td>20.7</td>\n",
       "      <td>43.0</td>\n",
       "      <td>562</td>\n",
       "      <td>544</td>\n",
       "      <td>1106</td>\n",
       "    </tr>\n",
       "    <tr>\n",
       "      <td>2</td>\n",
       "      <td>Arizona</td>\n",
       "      <td>66</td>\n",
       "      <td>19.2</td>\n",
       "      <td>18.2</td>\n",
       "      <td>19.4</td>\n",
       "      <td>19.5</td>\n",
       "      <td>19.2</td>\n",
       "      <td>29.0</td>\n",
       "      <td>577</td>\n",
       "      <td>572</td>\n",
       "      <td>1149</td>\n",
       "    </tr>\n",
       "    <tr>\n",
       "      <td>3</td>\n",
       "      <td>Arkansas</td>\n",
       "      <td>100</td>\n",
       "      <td>19.4</td>\n",
       "      <td>19.1</td>\n",
       "      <td>18.9</td>\n",
       "      <td>19.7</td>\n",
       "      <td>19.4</td>\n",
       "      <td>5.0</td>\n",
       "      <td>592</td>\n",
       "      <td>576</td>\n",
       "      <td>1169</td>\n",
       "    </tr>\n",
       "    <tr>\n",
       "      <td>4</td>\n",
       "      <td>California</td>\n",
       "      <td>27</td>\n",
       "      <td>22.7</td>\n",
       "      <td>22.5</td>\n",
       "      <td>22.5</td>\n",
       "      <td>23.0</td>\n",
       "      <td>22.1</td>\n",
       "      <td>60.0</td>\n",
       "      <td>540</td>\n",
       "      <td>536</td>\n",
       "      <td>1076</td>\n",
       "    </tr>\n",
       "  </tbody>\n",
       "</table>\n",
       "</div>"
      ],
      "text/plain": [
       "        state  act18_participation%  act18_composite  act18_eng  act18_math  \\\n",
       "0     Alabama                   100             19.1       18.9        18.3   \n",
       "1      Alaska                    33             20.8       19.8        20.6   \n",
       "2     Arizona                    66             19.2       18.2        19.4   \n",
       "3    Arkansas                   100             19.4       19.1        18.9   \n",
       "4  California                    27             22.7       22.5        22.5   \n",
       "\n",
       "   act18_reading  act18_sci  sat18_participation%  sat18_reading_writing  \\\n",
       "0           19.6       19.0                   6.0                    595   \n",
       "1           21.6       20.7                  43.0                    562   \n",
       "2           19.5       19.2                  29.0                    577   \n",
       "3           19.7       19.4                   5.0                    592   \n",
       "4           23.0       22.1                  60.0                    540   \n",
       "\n",
       "   sat18_math  sat18_total  \n",
       "0         571         1166  \n",
       "1         544         1106  \n",
       "2         572         1149  \n",
       "3         576         1169  \n",
       "4         536         1076  "
      ]
     },
     "execution_count": 49,
     "metadata": {},
     "output_type": "execute_result"
    }
   ],
   "source": [
    "#combining act and sat scores for 2018 first\n",
    "act_sat18 = pd.merge(act_2018, sat_2018, how='right')\n",
    "act_sat18.head()\n"
   ]
  },
  {
   "cell_type": "code",
   "execution_count": 50,
   "metadata": {},
   "outputs": [
    {
     "name": "stdout",
     "output_type": "stream",
     "text": [
      "(51, 7)\n",
      "(51, 5)\n",
      "(51, 11)\n"
     ]
    }
   ],
   "source": [
    "#checking that merge went ok. rows are fine, columns seem properly merged on state\n",
    "print(act_2018.shape)\n",
    "print(sat_2018.shape)\n",
    "print(act_sat18.shape)"
   ]
  },
  {
   "cell_type": "code",
   "execution_count": 51,
   "metadata": {},
   "outputs": [
    {
     "data": {
      "text/html": [
       "<div>\n",
       "<style scoped>\n",
       "    .dataframe tbody tr th:only-of-type {\n",
       "        vertical-align: middle;\n",
       "    }\n",
       "\n",
       "    .dataframe tbody tr th {\n",
       "        vertical-align: top;\n",
       "    }\n",
       "\n",
       "    .dataframe thead th {\n",
       "        text-align: right;\n",
       "    }\n",
       "</style>\n",
       "<table border=\"1\" class=\"dataframe\">\n",
       "  <thead>\n",
       "    <tr style=\"text-align: right;\">\n",
       "      <th></th>\n",
       "      <th>state</th>\n",
       "      <th>act17_participation%</th>\n",
       "      <th>act17_eng</th>\n",
       "      <th>act17_math</th>\n",
       "      <th>act17_reading</th>\n",
       "      <th>act17_sci</th>\n",
       "      <th>act17_composite</th>\n",
       "      <th>sat17_participation%</th>\n",
       "      <th>sat17_reading_writing</th>\n",
       "      <th>sat17_math</th>\n",
       "      <th>...</th>\n",
       "      <th>act18_participation%</th>\n",
       "      <th>act18_composite</th>\n",
       "      <th>act18_eng</th>\n",
       "      <th>act18_math</th>\n",
       "      <th>act18_reading</th>\n",
       "      <th>act18_sci</th>\n",
       "      <th>sat18_participation%</th>\n",
       "      <th>sat18_reading_writing</th>\n",
       "      <th>sat18_math</th>\n",
       "      <th>sat18_total</th>\n",
       "    </tr>\n",
       "  </thead>\n",
       "  <tbody>\n",
       "    <tr>\n",
       "      <td>0</td>\n",
       "      <td>Alabama</td>\n",
       "      <td>100.0</td>\n",
       "      <td>18.9</td>\n",
       "      <td>18.4</td>\n",
       "      <td>19.7</td>\n",
       "      <td>19.4</td>\n",
       "      <td>19.2</td>\n",
       "      <td>5.0</td>\n",
       "      <td>593</td>\n",
       "      <td>572</td>\n",
       "      <td>...</td>\n",
       "      <td>100</td>\n",
       "      <td>19.1</td>\n",
       "      <td>18.9</td>\n",
       "      <td>18.3</td>\n",
       "      <td>19.6</td>\n",
       "      <td>19.0</td>\n",
       "      <td>6.0</td>\n",
       "      <td>595</td>\n",
       "      <td>571</td>\n",
       "      <td>1166</td>\n",
       "    </tr>\n",
       "    <tr>\n",
       "      <td>1</td>\n",
       "      <td>Alaska</td>\n",
       "      <td>65.0</td>\n",
       "      <td>18.7</td>\n",
       "      <td>19.8</td>\n",
       "      <td>20.4</td>\n",
       "      <td>19.9</td>\n",
       "      <td>19.8</td>\n",
       "      <td>38.0</td>\n",
       "      <td>547</td>\n",
       "      <td>533</td>\n",
       "      <td>...</td>\n",
       "      <td>33</td>\n",
       "      <td>20.8</td>\n",
       "      <td>19.8</td>\n",
       "      <td>20.6</td>\n",
       "      <td>21.6</td>\n",
       "      <td>20.7</td>\n",
       "      <td>43.0</td>\n",
       "      <td>562</td>\n",
       "      <td>544</td>\n",
       "      <td>1106</td>\n",
       "    </tr>\n",
       "    <tr>\n",
       "      <td>2</td>\n",
       "      <td>Arizona</td>\n",
       "      <td>62.0</td>\n",
       "      <td>18.6</td>\n",
       "      <td>19.8</td>\n",
       "      <td>20.1</td>\n",
       "      <td>19.8</td>\n",
       "      <td>19.7</td>\n",
       "      <td>30.0</td>\n",
       "      <td>563</td>\n",
       "      <td>553</td>\n",
       "      <td>...</td>\n",
       "      <td>66</td>\n",
       "      <td>19.2</td>\n",
       "      <td>18.2</td>\n",
       "      <td>19.4</td>\n",
       "      <td>19.5</td>\n",
       "      <td>19.2</td>\n",
       "      <td>29.0</td>\n",
       "      <td>577</td>\n",
       "      <td>572</td>\n",
       "      <td>1149</td>\n",
       "    </tr>\n",
       "    <tr>\n",
       "      <td>3</td>\n",
       "      <td>Arkansas</td>\n",
       "      <td>100.0</td>\n",
       "      <td>18.9</td>\n",
       "      <td>19.0</td>\n",
       "      <td>19.7</td>\n",
       "      <td>19.5</td>\n",
       "      <td>19.4</td>\n",
       "      <td>3.0</td>\n",
       "      <td>614</td>\n",
       "      <td>594</td>\n",
       "      <td>...</td>\n",
       "      <td>100</td>\n",
       "      <td>19.4</td>\n",
       "      <td>19.1</td>\n",
       "      <td>18.9</td>\n",
       "      <td>19.7</td>\n",
       "      <td>19.4</td>\n",
       "      <td>5.0</td>\n",
       "      <td>592</td>\n",
       "      <td>576</td>\n",
       "      <td>1169</td>\n",
       "    </tr>\n",
       "    <tr>\n",
       "      <td>4</td>\n",
       "      <td>California</td>\n",
       "      <td>31.0</td>\n",
       "      <td>22.5</td>\n",
       "      <td>22.7</td>\n",
       "      <td>23.1</td>\n",
       "      <td>22.2</td>\n",
       "      <td>22.8</td>\n",
       "      <td>53.0</td>\n",
       "      <td>531</td>\n",
       "      <td>524</td>\n",
       "      <td>...</td>\n",
       "      <td>27</td>\n",
       "      <td>22.7</td>\n",
       "      <td>22.5</td>\n",
       "      <td>22.5</td>\n",
       "      <td>23.0</td>\n",
       "      <td>22.1</td>\n",
       "      <td>60.0</td>\n",
       "      <td>540</td>\n",
       "      <td>536</td>\n",
       "      <td>1076</td>\n",
       "    </tr>\n",
       "  </tbody>\n",
       "</table>\n",
       "<p>5 rows × 21 columns</p>\n",
       "</div>"
      ],
      "text/plain": [
       "        state  act17_participation%  act17_eng  act17_math  act17_reading  \\\n",
       "0     Alabama                 100.0       18.9        18.4           19.7   \n",
       "1      Alaska                  65.0       18.7        19.8           20.4   \n",
       "2     Arizona                  62.0       18.6        19.8           20.1   \n",
       "3    Arkansas                 100.0       18.9        19.0           19.7   \n",
       "4  California                  31.0       22.5        22.7           23.1   \n",
       "\n",
       "   act17_sci  act17_composite  sat17_participation%  sat17_reading_writing  \\\n",
       "0       19.4             19.2                   5.0                    593   \n",
       "1       19.9             19.8                  38.0                    547   \n",
       "2       19.8             19.7                  30.0                    563   \n",
       "3       19.5             19.4                   3.0                    614   \n",
       "4       22.2             22.8                  53.0                    531   \n",
       "\n",
       "   sat17_math  ...  act18_participation%  act18_composite  act18_eng  \\\n",
       "0         572  ...                   100             19.1       18.9   \n",
       "1         533  ...                    33             20.8       19.8   \n",
       "2         553  ...                    66             19.2       18.2   \n",
       "3         594  ...                   100             19.4       19.1   \n",
       "4         524  ...                    27             22.7       22.5   \n",
       "\n",
       "   act18_math  act18_reading  act18_sci  sat18_participation%  \\\n",
       "0        18.3           19.6       19.0                   6.0   \n",
       "1        20.6           21.6       20.7                  43.0   \n",
       "2        19.4           19.5       19.2                  29.0   \n",
       "3        18.9           19.7       19.4                   5.0   \n",
       "4        22.5           23.0       22.1                  60.0   \n",
       "\n",
       "   sat18_reading_writing  sat18_math  sat18_total  \n",
       "0                    595         571         1166  \n",
       "1                    562         544         1106  \n",
       "2                    577         572         1149  \n",
       "3                    592         576         1169  \n",
       "4                    540         536         1076  \n",
       "\n",
       "[5 rows x 21 columns]"
      ]
     },
     "execution_count": 51,
     "metadata": {},
     "output_type": "execute_result"
    }
   ],
   "source": [
    "#combining combined 2017 and 2018 act and sat scores \n",
    "act_sat1718 = pd.merge(act_sat17, act_sat18, how='right')\n",
    "act_sat1718.head()\n",
    "\n"
   ]
  },
  {
   "cell_type": "code",
   "execution_count": 52,
   "metadata": {},
   "outputs": [
    {
     "name": "stdout",
     "output_type": "stream",
     "text": [
      "(51, 21)\n"
     ]
    }
   ],
   "source": [
    "#checking that merge went ok. rows are fine, columns seem properly merged on state\n",
    "print(act_sat1718.shape)"
   ]
  },
  {
   "cell_type": "code",
   "execution_count": 53,
   "metadata": {},
   "outputs": [],
   "source": [
    "act_sat1718.to_csv('../data/final.csv', index=False)"
   ]
  },
  {
   "cell_type": "markdown",
   "metadata": {},
   "source": [
    "## Exploratory Data Analysis\n",
    "\n",
    "\n",
    "### Summary Statistics\n",
    "Transpose the output of pandas `describe` method to create a quick overview of each numeric feature."
   ]
  },
  {
   "cell_type": "code",
   "execution_count": 54,
   "metadata": {},
   "outputs": [
    {
     "data": {
      "text/html": [
       "<div>\n",
       "<style scoped>\n",
       "    .dataframe tbody tr th:only-of-type {\n",
       "        vertical-align: middle;\n",
       "    }\n",
       "\n",
       "    .dataframe tbody tr th {\n",
       "        vertical-align: top;\n",
       "    }\n",
       "\n",
       "    .dataframe thead th {\n",
       "        text-align: right;\n",
       "    }\n",
       "</style>\n",
       "<table border=\"1\" class=\"dataframe\">\n",
       "  <thead>\n",
       "    <tr style=\"text-align: right;\">\n",
       "      <th></th>\n",
       "      <th>count</th>\n",
       "      <th>mean</th>\n",
       "      <th>std</th>\n",
       "      <th>min</th>\n",
       "      <th>25%</th>\n",
       "      <th>50%</th>\n",
       "      <th>75%</th>\n",
       "      <th>max</th>\n",
       "    </tr>\n",
       "  </thead>\n",
       "  <tbody>\n",
       "    <tr>\n",
       "      <td>act17_participation%</td>\n",
       "      <td>51.0</td>\n",
       "      <td>65.254902</td>\n",
       "      <td>32.140842</td>\n",
       "      <td>8.0</td>\n",
       "      <td>31.00</td>\n",
       "      <td>69.0</td>\n",
       "      <td>100.00</td>\n",
       "      <td>100.0</td>\n",
       "    </tr>\n",
       "    <tr>\n",
       "      <td>act17_eng</td>\n",
       "      <td>51.0</td>\n",
       "      <td>20.931373</td>\n",
       "      <td>2.353677</td>\n",
       "      <td>16.3</td>\n",
       "      <td>19.00</td>\n",
       "      <td>20.7</td>\n",
       "      <td>23.30</td>\n",
       "      <td>25.5</td>\n",
       "    </tr>\n",
       "    <tr>\n",
       "      <td>act17_math</td>\n",
       "      <td>51.0</td>\n",
       "      <td>21.182353</td>\n",
       "      <td>1.981989</td>\n",
       "      <td>18.0</td>\n",
       "      <td>19.40</td>\n",
       "      <td>20.9</td>\n",
       "      <td>23.10</td>\n",
       "      <td>25.3</td>\n",
       "    </tr>\n",
       "    <tr>\n",
       "      <td>act17_reading</td>\n",
       "      <td>51.0</td>\n",
       "      <td>22.013725</td>\n",
       "      <td>2.067271</td>\n",
       "      <td>18.1</td>\n",
       "      <td>20.45</td>\n",
       "      <td>21.8</td>\n",
       "      <td>24.15</td>\n",
       "      <td>26.0</td>\n",
       "    </tr>\n",
       "    <tr>\n",
       "      <td>act17_sci</td>\n",
       "      <td>51.0</td>\n",
       "      <td>21.450980</td>\n",
       "      <td>1.739353</td>\n",
       "      <td>18.2</td>\n",
       "      <td>19.95</td>\n",
       "      <td>21.3</td>\n",
       "      <td>23.20</td>\n",
       "      <td>24.9</td>\n",
       "    </tr>\n",
       "    <tr>\n",
       "      <td>act17_composite</td>\n",
       "      <td>51.0</td>\n",
       "      <td>21.519608</td>\n",
       "      <td>2.020695</td>\n",
       "      <td>17.8</td>\n",
       "      <td>19.80</td>\n",
       "      <td>21.4</td>\n",
       "      <td>23.60</td>\n",
       "      <td>25.5</td>\n",
       "    </tr>\n",
       "    <tr>\n",
       "      <td>sat17_participation%</td>\n",
       "      <td>51.0</td>\n",
       "      <td>39.803922</td>\n",
       "      <td>35.276632</td>\n",
       "      <td>2.0</td>\n",
       "      <td>4.00</td>\n",
       "      <td>38.0</td>\n",
       "      <td>66.00</td>\n",
       "      <td>100.0</td>\n",
       "    </tr>\n",
       "    <tr>\n",
       "      <td>sat17_reading_writing</td>\n",
       "      <td>51.0</td>\n",
       "      <td>569.117647</td>\n",
       "      <td>45.666901</td>\n",
       "      <td>482.0</td>\n",
       "      <td>533.50</td>\n",
       "      <td>559.0</td>\n",
       "      <td>613.00</td>\n",
       "      <td>644.0</td>\n",
       "    </tr>\n",
       "    <tr>\n",
       "      <td>sat17_math</td>\n",
       "      <td>51.0</td>\n",
       "      <td>556.882353</td>\n",
       "      <td>47.121395</td>\n",
       "      <td>468.0</td>\n",
       "      <td>523.50</td>\n",
       "      <td>548.0</td>\n",
       "      <td>599.00</td>\n",
       "      <td>651.0</td>\n",
       "    </tr>\n",
       "    <tr>\n",
       "      <td>sat17_total</td>\n",
       "      <td>51.0</td>\n",
       "      <td>1126.098039</td>\n",
       "      <td>92.494812</td>\n",
       "      <td>950.0</td>\n",
       "      <td>1055.50</td>\n",
       "      <td>1107.0</td>\n",
       "      <td>1212.00</td>\n",
       "      <td>1295.0</td>\n",
       "    </tr>\n",
       "    <tr>\n",
       "      <td>act18_participation%</td>\n",
       "      <td>51.0</td>\n",
       "      <td>61.647059</td>\n",
       "      <td>34.080976</td>\n",
       "      <td>7.0</td>\n",
       "      <td>28.50</td>\n",
       "      <td>66.0</td>\n",
       "      <td>100.00</td>\n",
       "      <td>100.0</td>\n",
       "    </tr>\n",
       "    <tr>\n",
       "      <td>act18_composite</td>\n",
       "      <td>51.0</td>\n",
       "      <td>21.486275</td>\n",
       "      <td>2.106278</td>\n",
       "      <td>17.7</td>\n",
       "      <td>19.95</td>\n",
       "      <td>21.3</td>\n",
       "      <td>23.55</td>\n",
       "      <td>25.6</td>\n",
       "    </tr>\n",
       "    <tr>\n",
       "      <td>act18_eng</td>\n",
       "      <td>51.0</td>\n",
       "      <td>20.988235</td>\n",
       "      <td>2.446356</td>\n",
       "      <td>16.6</td>\n",
       "      <td>19.10</td>\n",
       "      <td>20.2</td>\n",
       "      <td>23.70</td>\n",
       "      <td>26.0</td>\n",
       "    </tr>\n",
       "    <tr>\n",
       "      <td>act18_math</td>\n",
       "      <td>51.0</td>\n",
       "      <td>21.125490</td>\n",
       "      <td>2.035765</td>\n",
       "      <td>17.8</td>\n",
       "      <td>19.40</td>\n",
       "      <td>20.7</td>\n",
       "      <td>23.15</td>\n",
       "      <td>25.2</td>\n",
       "    </tr>\n",
       "    <tr>\n",
       "      <td>act18_reading</td>\n",
       "      <td>51.0</td>\n",
       "      <td>22.015686</td>\n",
       "      <td>2.167245</td>\n",
       "      <td>18.0</td>\n",
       "      <td>20.45</td>\n",
       "      <td>21.6</td>\n",
       "      <td>24.10</td>\n",
       "      <td>26.1</td>\n",
       "    </tr>\n",
       "    <tr>\n",
       "      <td>act18_sci</td>\n",
       "      <td>51.0</td>\n",
       "      <td>21.345098</td>\n",
       "      <td>1.870114</td>\n",
       "      <td>17.9</td>\n",
       "      <td>19.85</td>\n",
       "      <td>21.1</td>\n",
       "      <td>23.05</td>\n",
       "      <td>24.9</td>\n",
       "    </tr>\n",
       "    <tr>\n",
       "      <td>sat18_participation%</td>\n",
       "      <td>51.0</td>\n",
       "      <td>45.745098</td>\n",
       "      <td>37.314256</td>\n",
       "      <td>2.0</td>\n",
       "      <td>4.50</td>\n",
       "      <td>52.0</td>\n",
       "      <td>77.50</td>\n",
       "      <td>100.0</td>\n",
       "    </tr>\n",
       "    <tr>\n",
       "      <td>sat18_reading_writing</td>\n",
       "      <td>51.0</td>\n",
       "      <td>563.686275</td>\n",
       "      <td>47.502627</td>\n",
       "      <td>480.0</td>\n",
       "      <td>534.50</td>\n",
       "      <td>552.0</td>\n",
       "      <td>610.50</td>\n",
       "      <td>643.0</td>\n",
       "    </tr>\n",
       "    <tr>\n",
       "      <td>sat18_math</td>\n",
       "      <td>51.0</td>\n",
       "      <td>556.235294</td>\n",
       "      <td>47.772623</td>\n",
       "      <td>480.0</td>\n",
       "      <td>522.50</td>\n",
       "      <td>544.0</td>\n",
       "      <td>593.50</td>\n",
       "      <td>655.0</td>\n",
       "    </tr>\n",
       "    <tr>\n",
       "      <td>sat18_total</td>\n",
       "      <td>51.0</td>\n",
       "      <td>1120.019608</td>\n",
       "      <td>94.155083</td>\n",
       "      <td>977.0</td>\n",
       "      <td>1057.50</td>\n",
       "      <td>1098.0</td>\n",
       "      <td>1204.00</td>\n",
       "      <td>1298.0</td>\n",
       "    </tr>\n",
       "  </tbody>\n",
       "</table>\n",
       "</div>"
      ],
      "text/plain": [
       "                       count         mean        std    min      25%     50%  \\\n",
       "act17_participation%    51.0    65.254902  32.140842    8.0    31.00    69.0   \n",
       "act17_eng               51.0    20.931373   2.353677   16.3    19.00    20.7   \n",
       "act17_math              51.0    21.182353   1.981989   18.0    19.40    20.9   \n",
       "act17_reading           51.0    22.013725   2.067271   18.1    20.45    21.8   \n",
       "act17_sci               51.0    21.450980   1.739353   18.2    19.95    21.3   \n",
       "act17_composite         51.0    21.519608   2.020695   17.8    19.80    21.4   \n",
       "sat17_participation%    51.0    39.803922  35.276632    2.0     4.00    38.0   \n",
       "sat17_reading_writing   51.0   569.117647  45.666901  482.0   533.50   559.0   \n",
       "sat17_math              51.0   556.882353  47.121395  468.0   523.50   548.0   \n",
       "sat17_total             51.0  1126.098039  92.494812  950.0  1055.50  1107.0   \n",
       "act18_participation%    51.0    61.647059  34.080976    7.0    28.50    66.0   \n",
       "act18_composite         51.0    21.486275   2.106278   17.7    19.95    21.3   \n",
       "act18_eng               51.0    20.988235   2.446356   16.6    19.10    20.2   \n",
       "act18_math              51.0    21.125490   2.035765   17.8    19.40    20.7   \n",
       "act18_reading           51.0    22.015686   2.167245   18.0    20.45    21.6   \n",
       "act18_sci               51.0    21.345098   1.870114   17.9    19.85    21.1   \n",
       "sat18_participation%    51.0    45.745098  37.314256    2.0     4.50    52.0   \n",
       "sat18_reading_writing   51.0   563.686275  47.502627  480.0   534.50   552.0   \n",
       "sat18_math              51.0   556.235294  47.772623  480.0   522.50   544.0   \n",
       "sat18_total             51.0  1120.019608  94.155083  977.0  1057.50  1098.0   \n",
       "\n",
       "                           75%     max  \n",
       "act17_participation%    100.00   100.0  \n",
       "act17_eng                23.30    25.5  \n",
       "act17_math               23.10    25.3  \n",
       "act17_reading            24.15    26.0  \n",
       "act17_sci                23.20    24.9  \n",
       "act17_composite          23.60    25.5  \n",
       "sat17_participation%     66.00   100.0  \n",
       "sat17_reading_writing   613.00   644.0  \n",
       "sat17_math              599.00   651.0  \n",
       "sat17_total            1212.00  1295.0  \n",
       "act18_participation%    100.00   100.0  \n",
       "act18_composite          23.55    25.6  \n",
       "act18_eng                23.70    26.0  \n",
       "act18_math               23.15    25.2  \n",
       "act18_reading            24.10    26.1  \n",
       "act18_sci                23.05    24.9  \n",
       "sat18_participation%     77.50   100.0  \n",
       "sat18_reading_writing   610.50   643.0  \n",
       "sat18_math              593.50   655.0  \n",
       "sat18_total            1204.00  1298.0  "
      ]
     },
     "execution_count": 54,
     "metadata": {},
     "output_type": "execute_result"
    }
   ],
   "source": [
    "act_sat1718.describe().T"
   ]
  },
  {
   "cell_type": "markdown",
   "metadata": {},
   "source": [
    "#### Manually calculate standard deviation\n",
    "\n",
    "$$\\sigma = \\sqrt{\\frac{1}{n}\\sum_{i=1}^n(x_i - \\mu)^2}$$\n",
    "\n",
    "- Write a function to calculate standard deviation using the formula above"
   ]
  },
  {
   "cell_type": "code",
   "execution_count": 55,
   "metadata": {},
   "outputs": [],
   "source": [
    "act17_eng = act_sat1718[\"act17_eng\"]"
   ]
  },
  {
   "cell_type": "code",
   "execution_count": 56,
   "metadata": {},
   "outputs": [
    {
     "data": {
      "text/plain": [
       "20.931372549019606"
      ]
     },
     "execution_count": 56,
     "metadata": {},
     "output_type": "execute_result"
    }
   ],
   "source": [
    "act17_eng.mean()"
   ]
  },
  {
   "cell_type": "code",
   "execution_count": 57,
   "metadata": {},
   "outputs": [
    {
     "data": {
      "text/plain": [
       "51"
      ]
     },
     "execution_count": 57,
     "metadata": {},
     "output_type": "execute_result"
    }
   ],
   "source": [
    "act_sat1718[\"act17_eng\"].count()"
   ]
  },
  {
   "cell_type": "code",
   "execution_count": 58,
   "metadata": {},
   "outputs": [
    {
     "data": {
      "text/plain": [
       "pandas.core.series.Series"
      ]
     },
     "execution_count": 58,
     "metadata": {},
     "output_type": "execute_result"
    }
   ],
   "source": [
    "type(act17_eng)"
   ]
  },
  {
   "cell_type": "code",
   "execution_count": 59,
   "metadata": {},
   "outputs": [],
   "source": [
    "import math\n",
    "\n",
    "def std_dev(metric):\n",
    "    sd = 0\n",
    "    for i in act_sat1718[metric]:\n",
    "        sd += (float(i)-act_sat1718[metric].mean())**2\n",
    "    sd = math.sqrt(sd/act_sat1718[metric].count())\n",
    "    return sd\n",
    "#what this does is to iterate within each chosen column/metric, convert metric to float minus the mean squared\n",
    "#and add it to sd with each iteration (this is the summation part of the formula)\n",
    "#act_sat1718[metric].count gives the 'n' value of the column\n",
    "#the final line takes the square root of the summation above over 'n'"
   ]
  },
  {
   "cell_type": "code",
   "execution_count": 60,
   "metadata": {},
   "outputs": [
    {
     "data": {
      "text/plain": [
       "2.3304876369363363"
      ]
     },
     "execution_count": 60,
     "metadata": {},
     "output_type": "execute_result"
    }
   ],
   "source": [
    "std_dev(\"act17_eng\") \n",
    "#test\n",
    "#not sure why the standard deviation differs slightly from python's inbuilt std dev. 2.33 VS 2.35 "
   ]
  },
  {
   "cell_type": "markdown",
   "metadata": {},
   "source": [
    "- Use a **dictionary comprehension** to apply your standard deviation function to each numeric column in the dataframe.  **No loops**  \n",
    "- Assign the output to variable `sd` as a dictionary where: \n",
    "    - Each column name is now a key \n",
    "    - That standard deviation of the column is the value \n",
    "     \n",
    "*Example Output :* `{'ACT_Math': 120, 'ACT_Reading': 120, ...}`"
   ]
  },
  {
   "cell_type": "code",
   "execution_count": 61,
   "metadata": {},
   "outputs": [
    {
     "data": {
      "text/html": [
       "<div>\n",
       "<style scoped>\n",
       "    .dataframe tbody tr th:only-of-type {\n",
       "        vertical-align: middle;\n",
       "    }\n",
       "\n",
       "    .dataframe tbody tr th {\n",
       "        vertical-align: top;\n",
       "    }\n",
       "\n",
       "    .dataframe thead th {\n",
       "        text-align: right;\n",
       "    }\n",
       "</style>\n",
       "<table border=\"1\" class=\"dataframe\">\n",
       "  <thead>\n",
       "    <tr style=\"text-align: right;\">\n",
       "      <th></th>\n",
       "      <th>state</th>\n",
       "      <th>act17_participation%</th>\n",
       "      <th>act17_eng</th>\n",
       "      <th>act17_math</th>\n",
       "      <th>act17_reading</th>\n",
       "      <th>act17_sci</th>\n",
       "      <th>act17_composite</th>\n",
       "      <th>sat17_participation%</th>\n",
       "      <th>sat17_reading_writing</th>\n",
       "      <th>sat17_math</th>\n",
       "      <th>...</th>\n",
       "      <th>act18_participation%</th>\n",
       "      <th>act18_composite</th>\n",
       "      <th>act18_eng</th>\n",
       "      <th>act18_math</th>\n",
       "      <th>act18_reading</th>\n",
       "      <th>act18_sci</th>\n",
       "      <th>sat18_participation%</th>\n",
       "      <th>sat18_reading_writing</th>\n",
       "      <th>sat18_math</th>\n",
       "      <th>sat18_total</th>\n",
       "    </tr>\n",
       "  </thead>\n",
       "  <tbody>\n",
       "    <tr>\n",
       "      <td>0</td>\n",
       "      <td>Alabama</td>\n",
       "      <td>100.0</td>\n",
       "      <td>18.9</td>\n",
       "      <td>18.4</td>\n",
       "      <td>19.7</td>\n",
       "      <td>19.4</td>\n",
       "      <td>19.2</td>\n",
       "      <td>5.0</td>\n",
       "      <td>593</td>\n",
       "      <td>572</td>\n",
       "      <td>...</td>\n",
       "      <td>100</td>\n",
       "      <td>19.1</td>\n",
       "      <td>18.9</td>\n",
       "      <td>18.3</td>\n",
       "      <td>19.6</td>\n",
       "      <td>19.0</td>\n",
       "      <td>6.0</td>\n",
       "      <td>595</td>\n",
       "      <td>571</td>\n",
       "      <td>1166</td>\n",
       "    </tr>\n",
       "    <tr>\n",
       "      <td>1</td>\n",
       "      <td>Alaska</td>\n",
       "      <td>65.0</td>\n",
       "      <td>18.7</td>\n",
       "      <td>19.8</td>\n",
       "      <td>20.4</td>\n",
       "      <td>19.9</td>\n",
       "      <td>19.8</td>\n",
       "      <td>38.0</td>\n",
       "      <td>547</td>\n",
       "      <td>533</td>\n",
       "      <td>...</td>\n",
       "      <td>33</td>\n",
       "      <td>20.8</td>\n",
       "      <td>19.8</td>\n",
       "      <td>20.6</td>\n",
       "      <td>21.6</td>\n",
       "      <td>20.7</td>\n",
       "      <td>43.0</td>\n",
       "      <td>562</td>\n",
       "      <td>544</td>\n",
       "      <td>1106</td>\n",
       "    </tr>\n",
       "    <tr>\n",
       "      <td>2</td>\n",
       "      <td>Arizona</td>\n",
       "      <td>62.0</td>\n",
       "      <td>18.6</td>\n",
       "      <td>19.8</td>\n",
       "      <td>20.1</td>\n",
       "      <td>19.8</td>\n",
       "      <td>19.7</td>\n",
       "      <td>30.0</td>\n",
       "      <td>563</td>\n",
       "      <td>553</td>\n",
       "      <td>...</td>\n",
       "      <td>66</td>\n",
       "      <td>19.2</td>\n",
       "      <td>18.2</td>\n",
       "      <td>19.4</td>\n",
       "      <td>19.5</td>\n",
       "      <td>19.2</td>\n",
       "      <td>29.0</td>\n",
       "      <td>577</td>\n",
       "      <td>572</td>\n",
       "      <td>1149</td>\n",
       "    </tr>\n",
       "    <tr>\n",
       "      <td>3</td>\n",
       "      <td>Arkansas</td>\n",
       "      <td>100.0</td>\n",
       "      <td>18.9</td>\n",
       "      <td>19.0</td>\n",
       "      <td>19.7</td>\n",
       "      <td>19.5</td>\n",
       "      <td>19.4</td>\n",
       "      <td>3.0</td>\n",
       "      <td>614</td>\n",
       "      <td>594</td>\n",
       "      <td>...</td>\n",
       "      <td>100</td>\n",
       "      <td>19.4</td>\n",
       "      <td>19.1</td>\n",
       "      <td>18.9</td>\n",
       "      <td>19.7</td>\n",
       "      <td>19.4</td>\n",
       "      <td>5.0</td>\n",
       "      <td>592</td>\n",
       "      <td>576</td>\n",
       "      <td>1169</td>\n",
       "    </tr>\n",
       "    <tr>\n",
       "      <td>4</td>\n",
       "      <td>California</td>\n",
       "      <td>31.0</td>\n",
       "      <td>22.5</td>\n",
       "      <td>22.7</td>\n",
       "      <td>23.1</td>\n",
       "      <td>22.2</td>\n",
       "      <td>22.8</td>\n",
       "      <td>53.0</td>\n",
       "      <td>531</td>\n",
       "      <td>524</td>\n",
       "      <td>...</td>\n",
       "      <td>27</td>\n",
       "      <td>22.7</td>\n",
       "      <td>22.5</td>\n",
       "      <td>22.5</td>\n",
       "      <td>23.0</td>\n",
       "      <td>22.1</td>\n",
       "      <td>60.0</td>\n",
       "      <td>540</td>\n",
       "      <td>536</td>\n",
       "      <td>1076</td>\n",
       "    </tr>\n",
       "  </tbody>\n",
       "</table>\n",
       "<p>5 rows × 21 columns</p>\n",
       "</div>"
      ],
      "text/plain": [
       "        state  act17_participation%  act17_eng  act17_math  act17_reading  \\\n",
       "0     Alabama                 100.0       18.9        18.4           19.7   \n",
       "1      Alaska                  65.0       18.7        19.8           20.4   \n",
       "2     Arizona                  62.0       18.6        19.8           20.1   \n",
       "3    Arkansas                 100.0       18.9        19.0           19.7   \n",
       "4  California                  31.0       22.5        22.7           23.1   \n",
       "\n",
       "   act17_sci  act17_composite  sat17_participation%  sat17_reading_writing  \\\n",
       "0       19.4             19.2                   5.0                    593   \n",
       "1       19.9             19.8                  38.0                    547   \n",
       "2       19.8             19.7                  30.0                    563   \n",
       "3       19.5             19.4                   3.0                    614   \n",
       "4       22.2             22.8                  53.0                    531   \n",
       "\n",
       "   sat17_math  ...  act18_participation%  act18_composite  act18_eng  \\\n",
       "0         572  ...                   100             19.1       18.9   \n",
       "1         533  ...                    33             20.8       19.8   \n",
       "2         553  ...                    66             19.2       18.2   \n",
       "3         594  ...                   100             19.4       19.1   \n",
       "4         524  ...                    27             22.7       22.5   \n",
       "\n",
       "   act18_math  act18_reading  act18_sci  sat18_participation%  \\\n",
       "0        18.3           19.6       19.0                   6.0   \n",
       "1        20.6           21.6       20.7                  43.0   \n",
       "2        19.4           19.5       19.2                  29.0   \n",
       "3        18.9           19.7       19.4                   5.0   \n",
       "4        22.5           23.0       22.1                  60.0   \n",
       "\n",
       "   sat18_reading_writing  sat18_math  sat18_total  \n",
       "0                    595         571         1166  \n",
       "1                    562         544         1106  \n",
       "2                    577         572         1149  \n",
       "3                    592         576         1169  \n",
       "4                    540         536         1076  \n",
       "\n",
       "[5 rows x 21 columns]"
      ]
     },
     "execution_count": 61,
     "metadata": {},
     "output_type": "execute_result"
    }
   ],
   "source": [
    "act_sat1718.head()"
   ]
  },
  {
   "cell_type": "code",
   "execution_count": 62,
   "metadata": {},
   "outputs": [],
   "source": [
    "#used .column() function to generate list of column names to input here\n",
    "act_sat1718_col = ['act17_participation%', 'act17_eng', 'act17_math',\n",
    "       'act17_reading', 'act17_sci', 'act17_composite', 'sat17_participation%',\n",
    "       'sat17_reading_writing', 'sat17_math', 'sat17_total',\n",
    "       'act18_participation%', 'act18_composite', 'act18_eng', 'act18_math',\n",
    "       'act18_reading', 'act18_sci', 'sat18_participation%',\n",
    "       'sat18_reading_writing', 'sat18_math', 'sat18_total']"
   ]
  },
  {
   "cell_type": "code",
   "execution_count": 63,
   "metadata": {},
   "outputs": [],
   "source": [
    "#using the map function to apply my standard deviation function above to all numeric columns in the dataframe \n",
    "act_sat_sd = list(map(std_dev, act_sat1718_col))\n",
    "\n",
    "#figure out a better way to filter out the non-numeric columns\n",
    "#right now i'm just manually removing the non-numeric column names from the column list (basically just state)"
   ]
  },
  {
   "cell_type": "code",
   "execution_count": 64,
   "metadata": {},
   "outputs": [],
   "source": [
    "act_sat_sd = zip(act_sat1718_col, act_sat_sd)"
   ]
  },
  {
   "cell_type": "markdown",
   "metadata": {},
   "source": [
    "Standard Deviation Results using own function "
   ]
  },
  {
   "cell_type": "code",
   "execution_count": 65,
   "metadata": {},
   "outputs": [
    {
     "data": {
      "text/plain": [
       "{'act17_participation%': 31.824175751231806,\n",
       " 'act17_eng': 2.3304876369363363,\n",
       " 'act17_math': 1.9624620273436781,\n",
       " 'act17_reading': 2.0469029314842646,\n",
       " 'act17_sci': 1.7222161451443676,\n",
       " 'act17_composite': 2.000786081581989,\n",
       " 'sat17_participation%': 34.92907076664508,\n",
       " 'sat17_reading_writing': 45.21697020437866,\n",
       " 'sat17_math': 46.65713364485503,\n",
       " 'sat17_total': 91.58351056778743,\n",
       " 'act18_participation%': 33.745194881997506,\n",
       " 'act18_composite': 2.0855261815801147,\n",
       " 'act18_eng': 2.4222536143202795,\n",
       " 'act18_math': 2.015707255555717,\n",
       " 'act18_reading': 2.145891884510421,\n",
       " 'act18_sci': 1.8516885484833543,\n",
       " 'sat18_participation%': 36.946619223539415,\n",
       " 'sat18_reading_writing': 47.03460978357609,\n",
       " 'sat18_math': 47.30194550378352,\n",
       " 'sat18_total': 93.22742384464433}"
      ]
     },
     "execution_count": 65,
     "metadata": {},
     "output_type": "execute_result"
    }
   ],
   "source": [
    "dict(act_sat_sd)"
   ]
  },
  {
   "cell_type": "markdown",
   "metadata": {},
   "source": [
    "Standard Deviation Results using Describe function "
   ]
  },
  {
   "cell_type": "code",
   "execution_count": 66,
   "metadata": {},
   "outputs": [
    {
     "data": {
      "text/plain": [
       "act17_participation%     32.140842\n",
       "act17_eng                 2.353677\n",
       "act17_math                1.981989\n",
       "act17_reading             2.067271\n",
       "act17_sci                 1.739353\n",
       "act17_composite           2.020695\n",
       "sat17_participation%     35.276632\n",
       "sat17_reading_writing    45.666901\n",
       "sat17_math               47.121395\n",
       "sat17_total              92.494812\n",
       "act18_participation%     34.080976\n",
       "act18_composite           2.106278\n",
       "act18_eng                 2.446356\n",
       "act18_math                2.035765\n",
       "act18_reading             2.167245\n",
       "act18_sci                 1.870114\n",
       "sat18_participation%     37.314256\n",
       "sat18_reading_writing    47.502627\n",
       "sat18_math               47.772623\n",
       "sat18_total              94.155083\n",
       "Name: std, dtype: float64"
      ]
     },
     "execution_count": 66,
     "metadata": {},
     "output_type": "execute_result"
    }
   ],
   "source": [
    "#stats from .describe() function for comparison\n",
    "act_sat1718.describe().iloc[2,:]"
   ]
  },
  {
   "cell_type": "code",
   "execution_count": 67,
   "metadata": {},
   "outputs": [],
   "source": [
    "def np_std_dev(metric):\n",
    "    for i in act_sat1718[metric]:\n",
    "        sd = np.std(act_sat1718[metric])\n",
    "    return sd\n"
   ]
  },
  {
   "cell_type": "code",
   "execution_count": 68,
   "metadata": {},
   "outputs": [],
   "source": [
    "np_std = list(map(np_std_dev,act_sat1718_col))\n"
   ]
  },
  {
   "cell_type": "code",
   "execution_count": 69,
   "metadata": {},
   "outputs": [],
   "source": [
    "np_std = zip(act_sat1718_col, np_std)"
   ]
  },
  {
   "cell_type": "markdown",
   "metadata": {},
   "source": [
    "Standard Deviation Results using Numpy's np.std() function "
   ]
  },
  {
   "cell_type": "code",
   "execution_count": 70,
   "metadata": {},
   "outputs": [
    {
     "data": {
      "text/plain": [
       "{'act17_participation%': 31.824175751231806,\n",
       " 'act17_eng': 2.3304876369363363,\n",
       " 'act17_math': 1.9624620273436781,\n",
       " 'act17_reading': 2.0469029314842646,\n",
       " 'act17_sci': 1.7222161451443676,\n",
       " 'act17_composite': 2.000786081581989,\n",
       " 'sat17_participation%': 34.92907076664508,\n",
       " 'sat17_reading_writing': 45.21697020437866,\n",
       " 'sat17_math': 46.65713364485503,\n",
       " 'sat17_total': 91.58351056778743,\n",
       " 'act18_participation%': 33.745194881997506,\n",
       " 'act18_composite': 2.0855261815801147,\n",
       " 'act18_eng': 2.4222536143202795,\n",
       " 'act18_math': 2.015707255555717,\n",
       " 'act18_reading': 2.145891884510421,\n",
       " 'act18_sci': 1.8516885484833543,\n",
       " 'sat18_participation%': 36.946619223539415,\n",
       " 'sat18_reading_writing': 47.03460978357609,\n",
       " 'sat18_math': 47.30194550378352,\n",
       " 'sat18_total': 93.22742384464433}"
      ]
     },
     "execution_count": 70,
     "metadata": {},
     "output_type": "execute_result"
    }
   ],
   "source": [
    "#standard deviations using numpy's np.std() function \n",
    "dict(np_std)"
   ]
  },
  {
   "cell_type": "markdown",
   "metadata": {},
   "source": [
    "Do your manually calculated standard deviations match up with the output from pandas `describe`? What about numpy's `std` method?"
   ]
  },
  {
   "cell_type": "markdown",
   "metadata": {},
   "source": [
    "Answer:\n",
    "\n",
    "Calculated standard deviations using my manual function are slightly higher than the output from Pandas' describe method. However, they are similar to the output from Numpy's std method."
   ]
  },
  {
   "cell_type": "markdown",
   "metadata": {},
   "source": [
    "#### Investigate trends in the data\n",
    "Using sorting and/or masking (along with the `.head` method to not print our entire dataframe), consider the following questions:\n",
    "\n",
    "- Which states have the highest and lowest participation rates for the:\n",
    "    - 2017 SAT? \n",
    "    - 2018 SAT?\n",
    "    - 2017 ACT?\n",
    "    - 2018 ACT?\n",
    "- Which states have the highest and lowest mean total/composite scores for the:\n",
    "    - 2017 SAT?\n",
    "    - 2018 SAT?\n",
    "    - 2017 ACT?\n",
    "    - 2018 ACT?\n",
    "- Do any states with 100% participation on a given test have a rate change year-to-year?\n",
    "- Do any states show have >50% participation on *both* tests either year?\n",
    "\n",
    "Based on what you've just observed, have you identified any states that you're especially interested in? **Make a note of these and state *why* you think they're interesting**.\n",
    "\n",
    "**You should comment on your findings at each step in a markdown cell below your code block**. Make sure you include at least one example of sorting your dataframe by a column, and one example of using boolean filtering (i.e., masking) to select a subset of the dataframe."
   ]
  },
  {
   "cell_type": "markdown",
   "metadata": {},
   "source": [
    "Using Boolean Filters "
   ]
  },
  {
   "cell_type": "markdown",
   "metadata": {},
   "source": [
    "Colorado's ACT participation rate dropped from 100% in 2017 to 30% in 2018 - pretty drastic. \n",
    "Most of the other countries in the list had 100% participation rate across both years.\n",
    "17 states had 100% participation rate in both 2017 and 2018\n"
   ]
  },
  {
   "cell_type": "code",
   "execution_count": 71,
   "metadata": {},
   "outputs": [
    {
     "data": {
      "text/html": [
       "<div>\n",
       "<style scoped>\n",
       "    .dataframe tbody tr th:only-of-type {\n",
       "        vertical-align: middle;\n",
       "    }\n",
       "\n",
       "    .dataframe tbody tr th {\n",
       "        vertical-align: top;\n",
       "    }\n",
       "\n",
       "    .dataframe thead th {\n",
       "        text-align: right;\n",
       "    }\n",
       "</style>\n",
       "<table border=\"1\" class=\"dataframe\">\n",
       "  <thead>\n",
       "    <tr style=\"text-align: right;\">\n",
       "      <th></th>\n",
       "      <th>state</th>\n",
       "      <th>act17_participation%</th>\n",
       "      <th>act18_participation%</th>\n",
       "    </tr>\n",
       "  </thead>\n",
       "  <tbody>\n",
       "    <tr>\n",
       "      <td>0</td>\n",
       "      <td>Alabama</td>\n",
       "      <td>100.0</td>\n",
       "      <td>100</td>\n",
       "    </tr>\n",
       "    <tr>\n",
       "      <td>3</td>\n",
       "      <td>Arkansas</td>\n",
       "      <td>100.0</td>\n",
       "      <td>100</td>\n",
       "    </tr>\n",
       "    <tr>\n",
       "      <td>5</td>\n",
       "      <td>Colorado</td>\n",
       "      <td>100.0</td>\n",
       "      <td>30</td>\n",
       "    </tr>\n",
       "    <tr>\n",
       "      <td>17</td>\n",
       "      <td>Kentucky</td>\n",
       "      <td>100.0</td>\n",
       "      <td>100</td>\n",
       "    </tr>\n",
       "    <tr>\n",
       "      <td>18</td>\n",
       "      <td>Louisiana</td>\n",
       "      <td>100.0</td>\n",
       "      <td>100</td>\n",
       "    </tr>\n",
       "    <tr>\n",
       "      <td>23</td>\n",
       "      <td>Minnesota</td>\n",
       "      <td>100.0</td>\n",
       "      <td>99</td>\n",
       "    </tr>\n",
       "    <tr>\n",
       "      <td>24</td>\n",
       "      <td>Mississippi</td>\n",
       "      <td>100.0</td>\n",
       "      <td>100</td>\n",
       "    </tr>\n",
       "    <tr>\n",
       "      <td>25</td>\n",
       "      <td>Missouri</td>\n",
       "      <td>100.0</td>\n",
       "      <td>100</td>\n",
       "    </tr>\n",
       "    <tr>\n",
       "      <td>26</td>\n",
       "      <td>Montana</td>\n",
       "      <td>100.0</td>\n",
       "      <td>100</td>\n",
       "    </tr>\n",
       "    <tr>\n",
       "      <td>27</td>\n",
       "      <td>Nebraska</td>\n",
       "      <td>84.0</td>\n",
       "      <td>100</td>\n",
       "    </tr>\n",
       "    <tr>\n",
       "      <td>28</td>\n",
       "      <td>Nevada</td>\n",
       "      <td>100.0</td>\n",
       "      <td>100</td>\n",
       "    </tr>\n",
       "    <tr>\n",
       "      <td>33</td>\n",
       "      <td>North Carolina</td>\n",
       "      <td>100.0</td>\n",
       "      <td>100</td>\n",
       "    </tr>\n",
       "    <tr>\n",
       "      <td>35</td>\n",
       "      <td>Ohio</td>\n",
       "      <td>75.0</td>\n",
       "      <td>100</td>\n",
       "    </tr>\n",
       "    <tr>\n",
       "      <td>36</td>\n",
       "      <td>Oklahoma</td>\n",
       "      <td>100.0</td>\n",
       "      <td>100</td>\n",
       "    </tr>\n",
       "    <tr>\n",
       "      <td>40</td>\n",
       "      <td>South Carolina</td>\n",
       "      <td>100.0</td>\n",
       "      <td>100</td>\n",
       "    </tr>\n",
       "    <tr>\n",
       "      <td>42</td>\n",
       "      <td>Tennessee</td>\n",
       "      <td>100.0</td>\n",
       "      <td>100</td>\n",
       "    </tr>\n",
       "    <tr>\n",
       "      <td>44</td>\n",
       "      <td>Utah</td>\n",
       "      <td>100.0</td>\n",
       "      <td>100</td>\n",
       "    </tr>\n",
       "    <tr>\n",
       "      <td>49</td>\n",
       "      <td>Wisconsin</td>\n",
       "      <td>100.0</td>\n",
       "      <td>100</td>\n",
       "    </tr>\n",
       "    <tr>\n",
       "      <td>50</td>\n",
       "      <td>Wyoming</td>\n",
       "      <td>100.0</td>\n",
       "      <td>100</td>\n",
       "    </tr>\n",
       "  </tbody>\n",
       "</table>\n",
       "</div>"
      ],
      "text/plain": [
       "             state  act17_participation%  act18_participation%\n",
       "0          Alabama                 100.0                   100\n",
       "3         Arkansas                 100.0                   100\n",
       "5         Colorado                 100.0                    30\n",
       "17        Kentucky                 100.0                   100\n",
       "18       Louisiana                 100.0                   100\n",
       "23       Minnesota                 100.0                    99\n",
       "24     Mississippi                 100.0                   100\n",
       "25        Missouri                 100.0                   100\n",
       "26         Montana                 100.0                   100\n",
       "27        Nebraska                  84.0                   100\n",
       "28          Nevada                 100.0                   100\n",
       "33  North Carolina                 100.0                   100\n",
       "35            Ohio                  75.0                   100\n",
       "36        Oklahoma                 100.0                   100\n",
       "40  South Carolina                 100.0                   100\n",
       "42       Tennessee                 100.0                   100\n",
       "44            Utah                 100.0                   100\n",
       "49       Wisconsin                 100.0                   100\n",
       "50         Wyoming                 100.0                   100"
      ]
     },
     "execution_count": 71,
     "metadata": {},
     "output_type": "execute_result"
    }
   ],
   "source": [
    "#trying out filtering via boolean \n",
    "act_sat1718[(act_sat1718['act17_participation%']==100.0) | (act_sat1718['act18_participation%'] ==100)].iloc[:,[0,1,act_sat1718.columns.get_loc(\"act18_participation%\")]]\n"
   ]
  },
  {
   "cell_type": "markdown",
   "metadata": {},
   "source": [
    "There were only 4 states 100% participation rates for SAT in 2017 and 5 states in 2018. \n",
    "\n",
    "Colarado is an interesting data point again as it shows a drastic increase in participation % from 11% in 2017 to 100% in 2018. \n",
    "\n",
    "Participation rates appear to be lower overall compared to ACT participation rates across both years "
   ]
  },
  {
   "cell_type": "code",
   "execution_count": 72,
   "metadata": {},
   "outputs": [
    {
     "data": {
      "text/html": [
       "<div>\n",
       "<style scoped>\n",
       "    .dataframe tbody tr th:only-of-type {\n",
       "        vertical-align: middle;\n",
       "    }\n",
       "\n",
       "    .dataframe tbody tr th {\n",
       "        vertical-align: top;\n",
       "    }\n",
       "\n",
       "    .dataframe thead th {\n",
       "        text-align: right;\n",
       "    }\n",
       "</style>\n",
       "<table border=\"1\" class=\"dataframe\">\n",
       "  <thead>\n",
       "    <tr style=\"text-align: right;\">\n",
       "      <th></th>\n",
       "      <th>state</th>\n",
       "      <th>sat17_participation%</th>\n",
       "      <th>sat18_participation%</th>\n",
       "    </tr>\n",
       "  </thead>\n",
       "  <tbody>\n",
       "    <tr>\n",
       "      <td>5</td>\n",
       "      <td>Colorado</td>\n",
       "      <td>11.0</td>\n",
       "      <td>100.0</td>\n",
       "    </tr>\n",
       "    <tr>\n",
       "      <td>6</td>\n",
       "      <td>Connecticut</td>\n",
       "      <td>100.0</td>\n",
       "      <td>100.0</td>\n",
       "    </tr>\n",
       "    <tr>\n",
       "      <td>7</td>\n",
       "      <td>Delaware</td>\n",
       "      <td>100.0</td>\n",
       "      <td>100.0</td>\n",
       "    </tr>\n",
       "    <tr>\n",
       "      <td>8</td>\n",
       "      <td>District of Columbia</td>\n",
       "      <td>100.0</td>\n",
       "      <td>92.0</td>\n",
       "    </tr>\n",
       "    <tr>\n",
       "      <td>12</td>\n",
       "      <td>Idaho</td>\n",
       "      <td>93.0</td>\n",
       "      <td>100.0</td>\n",
       "    </tr>\n",
       "    <tr>\n",
       "      <td>22</td>\n",
       "      <td>Michigan</td>\n",
       "      <td>100.0</td>\n",
       "      <td>100.0</td>\n",
       "    </tr>\n",
       "  </tbody>\n",
       "</table>\n",
       "</div>"
      ],
      "text/plain": [
       "                   state  sat17_participation%  sat18_participation%\n",
       "5               Colorado                  11.0                 100.0\n",
       "6            Connecticut                 100.0                 100.0\n",
       "7               Delaware                 100.0                 100.0\n",
       "8   District of Columbia                 100.0                  92.0\n",
       "12                 Idaho                  93.0                 100.0\n",
       "22              Michigan                 100.0                 100.0"
      ]
     },
     "execution_count": 72,
     "metadata": {},
     "output_type": "execute_result"
    }
   ],
   "source": [
    "act_sat1718[(act_sat1718['sat17_participation%']==100.0) | (act_sat1718['sat18_participation%'] ==100)].iloc[:,[0,act_sat1718.columns.get_loc(\"sat17_participation%\"),act_sat1718.columns.get_loc(\"sat18_participation%\")]]\n"
   ]
  },
  {
   "cell_type": "markdown",
   "metadata": {},
   "source": [
    "Only 4 states had >50% participation rate across both tests in 2017 "
   ]
  },
  {
   "cell_type": "code",
   "execution_count": 73,
   "metadata": {},
   "outputs": [
    {
     "data": {
      "text/html": [
       "<div>\n",
       "<style scoped>\n",
       "    .dataframe tbody tr th:only-of-type {\n",
       "        vertical-align: middle;\n",
       "    }\n",
       "\n",
       "    .dataframe tbody tr th {\n",
       "        vertical-align: top;\n",
       "    }\n",
       "\n",
       "    .dataframe thead th {\n",
       "        text-align: right;\n",
       "    }\n",
       "</style>\n",
       "<table border=\"1\" class=\"dataframe\">\n",
       "  <thead>\n",
       "    <tr style=\"text-align: right;\">\n",
       "      <th></th>\n",
       "      <th>state</th>\n",
       "      <th>act17_participation%</th>\n",
       "      <th>sat17_participation%</th>\n",
       "    </tr>\n",
       "  </thead>\n",
       "  <tbody>\n",
       "    <tr>\n",
       "      <td>40</td>\n",
       "      <td>South Carolina</td>\n",
       "      <td>100.0</td>\n",
       "      <td>50.0</td>\n",
       "    </tr>\n",
       "    <tr>\n",
       "      <td>11</td>\n",
       "      <td>Hawaii</td>\n",
       "      <td>90.0</td>\n",
       "      <td>55.0</td>\n",
       "    </tr>\n",
       "    <tr>\n",
       "      <td>9</td>\n",
       "      <td>Florida</td>\n",
       "      <td>73.0</td>\n",
       "      <td>83.0</td>\n",
       "    </tr>\n",
       "    <tr>\n",
       "      <td>10</td>\n",
       "      <td>Georgia</td>\n",
       "      <td>55.0</td>\n",
       "      <td>61.0</td>\n",
       "    </tr>\n",
       "  </tbody>\n",
       "</table>\n",
       "</div>"
      ],
      "text/plain": [
       "             state  act17_participation%  sat17_participation%\n",
       "40  South Carolina                 100.0                  50.0\n",
       "11          Hawaii                  90.0                  55.0\n",
       "9          Florida                  73.0                  83.0\n",
       "10         Georgia                  55.0                  61.0"
      ]
     },
     "execution_count": 73,
     "metadata": {},
     "output_type": "execute_result"
    }
   ],
   "source": [
    "#finding for pariticpation scores of >= 50% across both tests for the same year  \n",
    "a = act_sat1718[(act_sat1718['act17_participation%'] >= 50) & (act_sat1718['sat17_participation%'] >= 50)].iloc[:,[0,1,act_sat1718.columns.get_loc(\"sat17_participation%\")]]\n",
    "a.sort_values(by = ['act17_participation%'], ascending=False)\n"
   ]
  },
  {
   "cell_type": "markdown",
   "metadata": {},
   "source": [
    "Only 5 states had >50% participation rate across both tests in 2018 these 4 states were the same as in 2017. North Carolina joined the list"
   ]
  },
  {
   "cell_type": "code",
   "execution_count": 74,
   "metadata": {},
   "outputs": [
    {
     "data": {
      "text/html": [
       "<div>\n",
       "<style scoped>\n",
       "    .dataframe tbody tr th:only-of-type {\n",
       "        vertical-align: middle;\n",
       "    }\n",
       "\n",
       "    .dataframe tbody tr th {\n",
       "        vertical-align: top;\n",
       "    }\n",
       "\n",
       "    .dataframe thead th {\n",
       "        text-align: right;\n",
       "    }\n",
       "</style>\n",
       "<table border=\"1\" class=\"dataframe\">\n",
       "  <thead>\n",
       "    <tr style=\"text-align: right;\">\n",
       "      <th></th>\n",
       "      <th>state</th>\n",
       "      <th>act18_participation%</th>\n",
       "      <th>sat18_participation%</th>\n",
       "    </tr>\n",
       "  </thead>\n",
       "  <tbody>\n",
       "    <tr>\n",
       "      <td>9</td>\n",
       "      <td>Florida</td>\n",
       "      <td>66</td>\n",
       "      <td>56.0</td>\n",
       "    </tr>\n",
       "    <tr>\n",
       "      <td>10</td>\n",
       "      <td>Georgia</td>\n",
       "      <td>53</td>\n",
       "      <td>70.0</td>\n",
       "    </tr>\n",
       "    <tr>\n",
       "      <td>11</td>\n",
       "      <td>Hawaii</td>\n",
       "      <td>89</td>\n",
       "      <td>56.0</td>\n",
       "    </tr>\n",
       "    <tr>\n",
       "      <td>33</td>\n",
       "      <td>North Carolina</td>\n",
       "      <td>100</td>\n",
       "      <td>52.0</td>\n",
       "    </tr>\n",
       "    <tr>\n",
       "      <td>40</td>\n",
       "      <td>South Carolina</td>\n",
       "      <td>100</td>\n",
       "      <td>55.0</td>\n",
       "    </tr>\n",
       "  </tbody>\n",
       "</table>\n",
       "</div>"
      ],
      "text/plain": [
       "             state  act18_participation%  sat18_participation%\n",
       "9          Florida                    66                  56.0\n",
       "10         Georgia                    53                  70.0\n",
       "11          Hawaii                    89                  56.0\n",
       "33  North Carolina                   100                  52.0\n",
       "40  South Carolina                   100                  55.0"
      ]
     },
     "execution_count": 74,
     "metadata": {},
     "output_type": "execute_result"
    }
   ],
   "source": [
    "b = act_sat1718[(act_sat1718['act18_participation%'] >= 50) & (act_sat1718['sat18_participation%'] >= 50)].iloc[:,[0,act_sat1718.columns.get_loc(\"act18_participation%\"),act_sat1718.columns.get_loc(\"sat18_participation%\")]]\n",
    "b"
   ]
  },
  {
   "cell_type": "markdown",
   "metadata": {},
   "source": [
    "Using sort function "
   ]
  },
  {
   "cell_type": "code",
   "execution_count": 75,
   "metadata": {},
   "outputs": [],
   "source": [
    "#creating a function to sort by metric and descending or ascending order\n",
    "def sort(metric,order):\n",
    "    return act_sat1718.sort_values(by=metric, ascending=order).iloc[0:5,[0,act_sat1718.columns.get_loc(metric)]]\n",
    "\n",
    "#the iloc part is to return a data frame with only state (index 0) and relevant metric column "
   ]
  },
  {
   "cell_type": "code",
   "execution_count": 76,
   "metadata": {},
   "outputs": [
    {
     "data": {
      "text/html": [
       "<div>\n",
       "<style scoped>\n",
       "    .dataframe tbody tr th:only-of-type {\n",
       "        vertical-align: middle;\n",
       "    }\n",
       "\n",
       "    .dataframe tbody tr th {\n",
       "        vertical-align: top;\n",
       "    }\n",
       "\n",
       "    .dataframe thead th {\n",
       "        text-align: right;\n",
       "    }\n",
       "</style>\n",
       "<table border=\"1\" class=\"dataframe\">\n",
       "  <thead>\n",
       "    <tr style=\"text-align: right;\">\n",
       "      <th></th>\n",
       "      <th>state</th>\n",
       "      <th>act17_participation%</th>\n",
       "    </tr>\n",
       "  </thead>\n",
       "  <tbody>\n",
       "    <tr>\n",
       "      <td>0</td>\n",
       "      <td>Alabama</td>\n",
       "      <td>100.0</td>\n",
       "    </tr>\n",
       "    <tr>\n",
       "      <td>17</td>\n",
       "      <td>Kentucky</td>\n",
       "      <td>100.0</td>\n",
       "    </tr>\n",
       "    <tr>\n",
       "      <td>49</td>\n",
       "      <td>Wisconsin</td>\n",
       "      <td>100.0</td>\n",
       "    </tr>\n",
       "    <tr>\n",
       "      <td>44</td>\n",
       "      <td>Utah</td>\n",
       "      <td>100.0</td>\n",
       "    </tr>\n",
       "    <tr>\n",
       "      <td>42</td>\n",
       "      <td>Tennessee</td>\n",
       "      <td>100.0</td>\n",
       "    </tr>\n",
       "  </tbody>\n",
       "</table>\n",
       "</div>"
      ],
      "text/plain": [
       "        state  act17_participation%\n",
       "0     Alabama                 100.0\n",
       "17   Kentucky                 100.0\n",
       "49  Wisconsin                 100.0\n",
       "44       Utah                 100.0\n",
       "42  Tennessee                 100.0"
      ]
     },
     "execution_count": 76,
     "metadata": {},
     "output_type": "execute_result"
    }
   ],
   "source": [
    "#testing an example. trying to create list of the top 5 countries for the ACT 2017 participation % \n",
    "#not sure why list reverts to original indexing even post sort when trying to call by sorted indexes\n",
    "k = act_sat1718.sort_values(by='act17_participation%', ascending=False).iloc[0:5,[0,act_sat1718.columns.get_loc(\"act17_participation%\")]]\n",
    "k\n",
    "#k = [k[i] for i in list(range(0,6))]"
   ]
  },
  {
   "cell_type": "markdown",
   "metadata": {},
   "source": [
    "2017 & 2018 ACT Top 5 participation rates"
   ]
  },
  {
   "cell_type": "code",
   "execution_count": 77,
   "metadata": {},
   "outputs": [
    {
     "data": {
      "text/html": [
       "<div>\n",
       "<style scoped>\n",
       "    .dataframe tbody tr th:only-of-type {\n",
       "        vertical-align: middle;\n",
       "    }\n",
       "\n",
       "    .dataframe tbody tr th {\n",
       "        vertical-align: top;\n",
       "    }\n",
       "\n",
       "    .dataframe thead th {\n",
       "        text-align: right;\n",
       "    }\n",
       "</style>\n",
       "<table border=\"1\" class=\"dataframe\">\n",
       "  <thead>\n",
       "    <tr style=\"text-align: right;\">\n",
       "      <th></th>\n",
       "      <th>state</th>\n",
       "      <th>act17_participation%</th>\n",
       "      <th>act18_participation%</th>\n",
       "    </tr>\n",
       "  </thead>\n",
       "  <tbody>\n",
       "    <tr>\n",
       "      <td>0</td>\n",
       "      <td>Alabama</td>\n",
       "      <td>100.0</td>\n",
       "      <td>100</td>\n",
       "    </tr>\n",
       "    <tr>\n",
       "      <td>1</td>\n",
       "      <td>Kentucky</td>\n",
       "      <td>100.0</td>\n",
       "      <td>100</td>\n",
       "    </tr>\n",
       "    <tr>\n",
       "      <td>2</td>\n",
       "      <td>Wisconsin</td>\n",
       "      <td>100.0</td>\n",
       "      <td>100</td>\n",
       "    </tr>\n",
       "    <tr>\n",
       "      <td>3</td>\n",
       "      <td>Utah</td>\n",
       "      <td>100.0</td>\n",
       "      <td>100</td>\n",
       "    </tr>\n",
       "    <tr>\n",
       "      <td>4</td>\n",
       "      <td>Tennessee</td>\n",
       "      <td>100.0</td>\n",
       "      <td>100</td>\n",
       "    </tr>\n",
       "  </tbody>\n",
       "</table>\n",
       "</div>"
      ],
      "text/plain": [
       "       state  act17_participation%  act18_participation%\n",
       "0    Alabama                 100.0                   100\n",
       "1   Kentucky                 100.0                   100\n",
       "2  Wisconsin                 100.0                   100\n",
       "3       Utah                 100.0                   100\n",
       "4  Tennessee                 100.0                   100"
      ]
     },
     "execution_count": 77,
     "metadata": {},
     "output_type": "execute_result"
    }
   ],
   "source": [
    "#testing merge function\n",
    "a17t = sort('act17_participation%',False)\n",
    "a18t = sort('act18_participation%',False)\n",
    "pd.merge(left=a17t, right=a18t, on=\"state\", how=\"outer\")"
   ]
  },
  {
   "cell_type": "markdown",
   "metadata": {},
   "source": [
    "2017 & 2018 ACT Bottom 5 participation rates"
   ]
  },
  {
   "cell_type": "code",
   "execution_count": 78,
   "metadata": {},
   "outputs": [
    {
     "data": {
      "text/html": [
       "<div>\n",
       "<style scoped>\n",
       "    .dataframe tbody tr th:only-of-type {\n",
       "        vertical-align: middle;\n",
       "    }\n",
       "\n",
       "    .dataframe tbody tr th {\n",
       "        vertical-align: top;\n",
       "    }\n",
       "\n",
       "    .dataframe thead th {\n",
       "        text-align: right;\n",
       "    }\n",
       "</style>\n",
       "<table border=\"1\" class=\"dataframe\">\n",
       "  <thead>\n",
       "    <tr style=\"text-align: right;\">\n",
       "      <th></th>\n",
       "      <th>state</th>\n",
       "      <th>act17_participation%</th>\n",
       "      <th>act18_participation%</th>\n",
       "    </tr>\n",
       "  </thead>\n",
       "  <tbody>\n",
       "    <tr>\n",
       "      <td>0</td>\n",
       "      <td>Maine</td>\n",
       "      <td>8.0</td>\n",
       "      <td>7</td>\n",
       "    </tr>\n",
       "    <tr>\n",
       "      <td>1</td>\n",
       "      <td>New Hampshire</td>\n",
       "      <td>18.0</td>\n",
       "      <td>16</td>\n",
       "    </tr>\n",
       "    <tr>\n",
       "      <td>2</td>\n",
       "      <td>Delaware</td>\n",
       "      <td>18.0</td>\n",
       "      <td>17</td>\n",
       "    </tr>\n",
       "    <tr>\n",
       "      <td>3</td>\n",
       "      <td>Rhode Island</td>\n",
       "      <td>21.0</td>\n",
       "      <td>15</td>\n",
       "    </tr>\n",
       "    <tr>\n",
       "      <td>4</td>\n",
       "      <td>Pennsylvania</td>\n",
       "      <td>23.0</td>\n",
       "      <td>20</td>\n",
       "    </tr>\n",
       "  </tbody>\n",
       "</table>\n",
       "</div>"
      ],
      "text/plain": [
       "           state  act17_participation%  act18_participation%\n",
       "0          Maine                   8.0                     7\n",
       "1  New Hampshire                  18.0                    16\n",
       "2       Delaware                  18.0                    17\n",
       "3   Rhode Island                  21.0                    15\n",
       "4   Pennsylvania                  23.0                    20"
      ]
     },
     "execution_count": 78,
     "metadata": {},
     "output_type": "execute_result"
    }
   ],
   "source": [
    "a17 = sort('act17_participation%',True)\n",
    "a18 = sort('act18_participation%',True)\n",
    "pd.merge(left=a17, right=a18, on=\"state\", how=\"outer\")"
   ]
  },
  {
   "cell_type": "markdown",
   "metadata": {},
   "source": [
    "2017 & 2018 SAT Top 5 participation rates"
   ]
  },
  {
   "cell_type": "code",
   "execution_count": 79,
   "metadata": {},
   "outputs": [
    {
     "data": {
      "text/html": [
       "<div>\n",
       "<style scoped>\n",
       "    .dataframe tbody tr th:only-of-type {\n",
       "        vertical-align: middle;\n",
       "    }\n",
       "\n",
       "    .dataframe tbody tr th {\n",
       "        vertical-align: top;\n",
       "    }\n",
       "\n",
       "    .dataframe thead th {\n",
       "        text-align: right;\n",
       "    }\n",
       "</style>\n",
       "<table border=\"1\" class=\"dataframe\">\n",
       "  <thead>\n",
       "    <tr style=\"text-align: right;\">\n",
       "      <th></th>\n",
       "      <th>state</th>\n",
       "      <th>sat17_participation%</th>\n",
       "      <th>sat18_participation%</th>\n",
       "    </tr>\n",
       "  </thead>\n",
       "  <tbody>\n",
       "    <tr>\n",
       "      <td>0</td>\n",
       "      <td>District of Columbia</td>\n",
       "      <td>100.0</td>\n",
       "      <td>NaN</td>\n",
       "    </tr>\n",
       "    <tr>\n",
       "      <td>1</td>\n",
       "      <td>Michigan</td>\n",
       "      <td>100.0</td>\n",
       "      <td>100.0</td>\n",
       "    </tr>\n",
       "    <tr>\n",
       "      <td>2</td>\n",
       "      <td>Connecticut</td>\n",
       "      <td>100.0</td>\n",
       "      <td>100.0</td>\n",
       "    </tr>\n",
       "    <tr>\n",
       "      <td>3</td>\n",
       "      <td>Delaware</td>\n",
       "      <td>100.0</td>\n",
       "      <td>100.0</td>\n",
       "    </tr>\n",
       "    <tr>\n",
       "      <td>4</td>\n",
       "      <td>New Hampshire</td>\n",
       "      <td>96.0</td>\n",
       "      <td>NaN</td>\n",
       "    </tr>\n",
       "    <tr>\n",
       "      <td>5</td>\n",
       "      <td>Colorado</td>\n",
       "      <td>NaN</td>\n",
       "      <td>100.0</td>\n",
       "    </tr>\n",
       "    <tr>\n",
       "      <td>6</td>\n",
       "      <td>Idaho</td>\n",
       "      <td>NaN</td>\n",
       "      <td>100.0</td>\n",
       "    </tr>\n",
       "  </tbody>\n",
       "</table>\n",
       "</div>"
      ],
      "text/plain": [
       "                  state  sat17_participation%  sat18_participation%\n",
       "0  District of Columbia                 100.0                   NaN\n",
       "1              Michigan                 100.0                 100.0\n",
       "2           Connecticut                 100.0                 100.0\n",
       "3              Delaware                 100.0                 100.0\n",
       "4         New Hampshire                  96.0                   NaN\n",
       "5              Colorado                   NaN                 100.0\n",
       "6                 Idaho                   NaN                 100.0"
      ]
     },
     "execution_count": 79,
     "metadata": {},
     "output_type": "execute_result"
    }
   ],
   "source": [
    "s17t = sort('sat17_participation%',False)\n",
    "s18t = sort('sat18_participation%',False)\n",
    "pd.merge(left=s17t, right=s18t, on=\"state\", how=\"outer\")"
   ]
  },
  {
   "cell_type": "markdown",
   "metadata": {},
   "source": [
    "2017 & 2018 SAT Bottom 5 participation rates"
   ]
  },
  {
   "cell_type": "code",
   "execution_count": 80,
   "metadata": {},
   "outputs": [
    {
     "data": {
      "text/html": [
       "<div>\n",
       "<style scoped>\n",
       "    .dataframe tbody tr th:only-of-type {\n",
       "        vertical-align: middle;\n",
       "    }\n",
       "\n",
       "    .dataframe tbody tr th {\n",
       "        vertical-align: top;\n",
       "    }\n",
       "\n",
       "    .dataframe thead th {\n",
       "        text-align: right;\n",
       "    }\n",
       "</style>\n",
       "<table border=\"1\" class=\"dataframe\">\n",
       "  <thead>\n",
       "    <tr style=\"text-align: right;\">\n",
       "      <th></th>\n",
       "      <th>state</th>\n",
       "      <th>sat17_participation%</th>\n",
       "      <th>sat18_participation%</th>\n",
       "    </tr>\n",
       "  </thead>\n",
       "  <tbody>\n",
       "    <tr>\n",
       "      <td>0</td>\n",
       "      <td>North Dakota</td>\n",
       "      <td>2.0</td>\n",
       "      <td>2.0</td>\n",
       "    </tr>\n",
       "    <tr>\n",
       "      <td>1</td>\n",
       "      <td>Mississippi</td>\n",
       "      <td>2.0</td>\n",
       "      <td>NaN</td>\n",
       "    </tr>\n",
       "    <tr>\n",
       "      <td>2</td>\n",
       "      <td>Iowa</td>\n",
       "      <td>2.0</td>\n",
       "      <td>NaN</td>\n",
       "    </tr>\n",
       "    <tr>\n",
       "      <td>3</td>\n",
       "      <td>Missouri</td>\n",
       "      <td>3.0</td>\n",
       "      <td>NaN</td>\n",
       "    </tr>\n",
       "    <tr>\n",
       "      <td>4</td>\n",
       "      <td>Utah</td>\n",
       "      <td>3.0</td>\n",
       "      <td>NaN</td>\n",
       "    </tr>\n",
       "    <tr>\n",
       "      <td>5</td>\n",
       "      <td>Wyoming</td>\n",
       "      <td>NaN</td>\n",
       "      <td>3.0</td>\n",
       "    </tr>\n",
       "    <tr>\n",
       "      <td>6</td>\n",
       "      <td>South Dakota</td>\n",
       "      <td>NaN</td>\n",
       "      <td>3.0</td>\n",
       "    </tr>\n",
       "    <tr>\n",
       "      <td>7</td>\n",
       "      <td>Nebraska</td>\n",
       "      <td>NaN</td>\n",
       "      <td>3.0</td>\n",
       "    </tr>\n",
       "    <tr>\n",
       "      <td>8</td>\n",
       "      <td>Wisconsin</td>\n",
       "      <td>NaN</td>\n",
       "      <td>3.0</td>\n",
       "    </tr>\n",
       "  </tbody>\n",
       "</table>\n",
       "</div>"
      ],
      "text/plain": [
       "          state  sat17_participation%  sat18_participation%\n",
       "0  North Dakota                   2.0                   2.0\n",
       "1   Mississippi                   2.0                   NaN\n",
       "2          Iowa                   2.0                   NaN\n",
       "3      Missouri                   3.0                   NaN\n",
       "4          Utah                   3.0                   NaN\n",
       "5       Wyoming                   NaN                   3.0\n",
       "6  South Dakota                   NaN                   3.0\n",
       "7      Nebraska                   NaN                   3.0\n",
       "8     Wisconsin                   NaN                   3.0"
      ]
     },
     "execution_count": 80,
     "metadata": {},
     "output_type": "execute_result"
    }
   ],
   "source": [
    "s17 = sort('sat17_participation%',True)\n",
    "s18 = sort('sat18_participation%',True)\n",
    "pd.merge(left=s17, right=s18, on=\"state\", how=\"outer\")"
   ]
  },
  {
   "cell_type": "markdown",
   "metadata": {},
   "source": [
    "2017 & 2018 SAT Top Average Total Score"
   ]
  },
  {
   "cell_type": "code",
   "execution_count": 81,
   "metadata": {},
   "outputs": [
    {
     "data": {
      "text/html": [
       "<div>\n",
       "<style scoped>\n",
       "    .dataframe tbody tr th:only-of-type {\n",
       "        vertical-align: middle;\n",
       "    }\n",
       "\n",
       "    .dataframe tbody tr th {\n",
       "        vertical-align: top;\n",
       "    }\n",
       "\n",
       "    .dataframe thead th {\n",
       "        text-align: right;\n",
       "    }\n",
       "</style>\n",
       "<table border=\"1\" class=\"dataframe\">\n",
       "  <thead>\n",
       "    <tr style=\"text-align: right;\">\n",
       "      <th></th>\n",
       "      <th>state</th>\n",
       "      <th>sat17_total</th>\n",
       "      <th>sat18_total</th>\n",
       "    </tr>\n",
       "  </thead>\n",
       "  <tbody>\n",
       "    <tr>\n",
       "      <td>0</td>\n",
       "      <td>Minnesota</td>\n",
       "      <td>1295.0</td>\n",
       "      <td>1298.0</td>\n",
       "    </tr>\n",
       "    <tr>\n",
       "      <td>1</td>\n",
       "      <td>Wisconsin</td>\n",
       "      <td>1291.0</td>\n",
       "      <td>1294.0</td>\n",
       "    </tr>\n",
       "    <tr>\n",
       "      <td>2</td>\n",
       "      <td>Iowa</td>\n",
       "      <td>1275.0</td>\n",
       "      <td>1265.0</td>\n",
       "    </tr>\n",
       "    <tr>\n",
       "      <td>3</td>\n",
       "      <td>Missouri</td>\n",
       "      <td>1271.0</td>\n",
       "      <td>NaN</td>\n",
       "    </tr>\n",
       "    <tr>\n",
       "      <td>4</td>\n",
       "      <td>Kansas</td>\n",
       "      <td>1260.0</td>\n",
       "      <td>1265.0</td>\n",
       "    </tr>\n",
       "    <tr>\n",
       "      <td>5</td>\n",
       "      <td>North Dakota</td>\n",
       "      <td>NaN</td>\n",
       "      <td>1283.0</td>\n",
       "    </tr>\n",
       "  </tbody>\n",
       "</table>\n",
       "</div>"
      ],
      "text/plain": [
       "          state  sat17_total  sat18_total\n",
       "0     Minnesota       1295.0       1298.0\n",
       "1     Wisconsin       1291.0       1294.0\n",
       "2          Iowa       1275.0       1265.0\n",
       "3      Missouri       1271.0          NaN\n",
       "4        Kansas       1260.0       1265.0\n",
       "5  North Dakota          NaN       1283.0"
      ]
     },
     "execution_count": 81,
     "metadata": {},
     "output_type": "execute_result"
    }
   ],
   "source": [
    "s17_tot = sort('sat17_total',False)\n",
    "s18_tot = sort('sat18_total',False)\n",
    "pd.merge(left=s17_tot, right=s18_tot, on=\"state\", how=\"outer\")"
   ]
  },
  {
   "cell_type": "markdown",
   "metadata": {},
   "source": [
    "2017 & 2018 SAT Bottom Average Total Score"
   ]
  },
  {
   "cell_type": "code",
   "execution_count": 82,
   "metadata": {},
   "outputs": [
    {
     "data": {
      "text/html": [
       "<div>\n",
       "<style scoped>\n",
       "    .dataframe tbody tr th:only-of-type {\n",
       "        vertical-align: middle;\n",
       "    }\n",
       "\n",
       "    .dataframe tbody tr th {\n",
       "        vertical-align: top;\n",
       "    }\n",
       "\n",
       "    .dataframe thead th {\n",
       "        text-align: right;\n",
       "    }\n",
       "</style>\n",
       "<table border=\"1\" class=\"dataframe\">\n",
       "  <thead>\n",
       "    <tr style=\"text-align: right;\">\n",
       "      <th></th>\n",
       "      <th>state</th>\n",
       "      <th>sat17_total</th>\n",
       "      <th>sat18_total</th>\n",
       "    </tr>\n",
       "  </thead>\n",
       "  <tbody>\n",
       "    <tr>\n",
       "      <td>0</td>\n",
       "      <td>District of Columbia</td>\n",
       "      <td>950.0</td>\n",
       "      <td>977.0</td>\n",
       "    </tr>\n",
       "    <tr>\n",
       "      <td>1</td>\n",
       "      <td>Delaware</td>\n",
       "      <td>996.0</td>\n",
       "      <td>998.0</td>\n",
       "    </tr>\n",
       "    <tr>\n",
       "      <td>2</td>\n",
       "      <td>Idaho</td>\n",
       "      <td>1005.0</td>\n",
       "      <td>1001.0</td>\n",
       "    </tr>\n",
       "    <tr>\n",
       "      <td>3</td>\n",
       "      <td>Michigan</td>\n",
       "      <td>1005.0</td>\n",
       "      <td>NaN</td>\n",
       "    </tr>\n",
       "    <tr>\n",
       "      <td>4</td>\n",
       "      <td>Maine</td>\n",
       "      <td>1012.0</td>\n",
       "      <td>NaN</td>\n",
       "    </tr>\n",
       "    <tr>\n",
       "      <td>5</td>\n",
       "      <td>West Virginia</td>\n",
       "      <td>NaN</td>\n",
       "      <td>999.0</td>\n",
       "    </tr>\n",
       "    <tr>\n",
       "      <td>6</td>\n",
       "      <td>Utah</td>\n",
       "      <td>NaN</td>\n",
       "      <td>1010.0</td>\n",
       "    </tr>\n",
       "  </tbody>\n",
       "</table>\n",
       "</div>"
      ],
      "text/plain": [
       "                  state  sat17_total  sat18_total\n",
       "0  District of Columbia        950.0        977.0\n",
       "1              Delaware        996.0        998.0\n",
       "2                 Idaho       1005.0       1001.0\n",
       "3              Michigan       1005.0          NaN\n",
       "4                 Maine       1012.0          NaN\n",
       "5         West Virginia          NaN        999.0\n",
       "6                  Utah          NaN       1010.0"
      ]
     },
     "execution_count": 82,
     "metadata": {},
     "output_type": "execute_result"
    }
   ],
   "source": [
    "s17_totb = sort('sat17_total',True)\n",
    "s18_totb = sort('sat18_total',True)\n",
    "pd.merge(left=s17_totb, right=s18_totb, on=\"state\", how=\"outer\")"
   ]
  },
  {
   "cell_type": "markdown",
   "metadata": {},
   "source": [
    "2017 & 2018 ACT Top Average Composite Score"
   ]
  },
  {
   "cell_type": "code",
   "execution_count": 83,
   "metadata": {},
   "outputs": [
    {
     "data": {
      "text/html": [
       "<div>\n",
       "<style scoped>\n",
       "    .dataframe tbody tr th:only-of-type {\n",
       "        vertical-align: middle;\n",
       "    }\n",
       "\n",
       "    .dataframe tbody tr th {\n",
       "        vertical-align: top;\n",
       "    }\n",
       "\n",
       "    .dataframe thead th {\n",
       "        text-align: right;\n",
       "    }\n",
       "</style>\n",
       "<table border=\"1\" class=\"dataframe\">\n",
       "  <thead>\n",
       "    <tr style=\"text-align: right;\">\n",
       "      <th></th>\n",
       "      <th>state</th>\n",
       "      <th>act17_composite</th>\n",
       "      <th>act18_composite</th>\n",
       "    </tr>\n",
       "  </thead>\n",
       "  <tbody>\n",
       "    <tr>\n",
       "      <td>0</td>\n",
       "      <td>New Hampshire</td>\n",
       "      <td>25.5</td>\n",
       "      <td>25.1</td>\n",
       "    </tr>\n",
       "    <tr>\n",
       "      <td>1</td>\n",
       "      <td>Massachusetts</td>\n",
       "      <td>25.4</td>\n",
       "      <td>25.5</td>\n",
       "    </tr>\n",
       "    <tr>\n",
       "      <td>2</td>\n",
       "      <td>Connecticut</td>\n",
       "      <td>25.2</td>\n",
       "      <td>25.6</td>\n",
       "    </tr>\n",
       "    <tr>\n",
       "      <td>3</td>\n",
       "      <td>Maine</td>\n",
       "      <td>24.3</td>\n",
       "      <td>NaN</td>\n",
       "    </tr>\n",
       "    <tr>\n",
       "      <td>4</td>\n",
       "      <td>District of Columbia</td>\n",
       "      <td>24.2</td>\n",
       "      <td>NaN</td>\n",
       "    </tr>\n",
       "    <tr>\n",
       "      <td>5</td>\n",
       "      <td>New York</td>\n",
       "      <td>NaN</td>\n",
       "      <td>24.5</td>\n",
       "    </tr>\n",
       "    <tr>\n",
       "      <td>6</td>\n",
       "      <td>Michigan</td>\n",
       "      <td>NaN</td>\n",
       "      <td>24.4</td>\n",
       "    </tr>\n",
       "  </tbody>\n",
       "</table>\n",
       "</div>"
      ],
      "text/plain": [
       "                  state  act17_composite  act18_composite\n",
       "0         New Hampshire             25.5             25.1\n",
       "1         Massachusetts             25.4             25.5\n",
       "2           Connecticut             25.2             25.6\n",
       "3                 Maine             24.3              NaN\n",
       "4  District of Columbia             24.2              NaN\n",
       "5              New York              NaN             24.5\n",
       "6              Michigan              NaN             24.4"
      ]
     },
     "execution_count": 83,
     "metadata": {},
     "output_type": "execute_result"
    }
   ],
   "source": [
    "a17_tot = sort('act17_composite',False)\n",
    "a18_tot = sort('act18_composite',False)\n",
    "pd.merge(left=a17_tot, right=a18_tot, on=\"state\", how=\"outer\")"
   ]
  },
  {
   "cell_type": "markdown",
   "metadata": {},
   "source": [
    "2017 & 2018 ACT Bottom Average Composite Score"
   ]
  },
  {
   "cell_type": "code",
   "execution_count": 84,
   "metadata": {},
   "outputs": [
    {
     "data": {
      "text/html": [
       "<div>\n",
       "<style scoped>\n",
       "    .dataframe tbody tr th:only-of-type {\n",
       "        vertical-align: middle;\n",
       "    }\n",
       "\n",
       "    .dataframe tbody tr th {\n",
       "        vertical-align: top;\n",
       "    }\n",
       "\n",
       "    .dataframe thead th {\n",
       "        text-align: right;\n",
       "    }\n",
       "</style>\n",
       "<table border=\"1\" class=\"dataframe\">\n",
       "  <thead>\n",
       "    <tr style=\"text-align: right;\">\n",
       "      <th></th>\n",
       "      <th>state</th>\n",
       "      <th>act17_composite</th>\n",
       "      <th>act18_composite</th>\n",
       "    </tr>\n",
       "  </thead>\n",
       "  <tbody>\n",
       "    <tr>\n",
       "      <td>0</td>\n",
       "      <td>Nevada</td>\n",
       "      <td>17.8</td>\n",
       "      <td>17.7</td>\n",
       "    </tr>\n",
       "    <tr>\n",
       "      <td>1</td>\n",
       "      <td>Mississippi</td>\n",
       "      <td>18.6</td>\n",
       "      <td>18.6</td>\n",
       "    </tr>\n",
       "    <tr>\n",
       "      <td>2</td>\n",
       "      <td>South Carolina</td>\n",
       "      <td>18.7</td>\n",
       "      <td>18.3</td>\n",
       "    </tr>\n",
       "    <tr>\n",
       "      <td>3</td>\n",
       "      <td>Hawaii</td>\n",
       "      <td>19.0</td>\n",
       "      <td>18.9</td>\n",
       "    </tr>\n",
       "    <tr>\n",
       "      <td>4</td>\n",
       "      <td>North Carolina</td>\n",
       "      <td>19.1</td>\n",
       "      <td>NaN</td>\n",
       "    </tr>\n",
       "    <tr>\n",
       "      <td>5</td>\n",
       "      <td>Alabama</td>\n",
       "      <td>NaN</td>\n",
       "      <td>19.1</td>\n",
       "    </tr>\n",
       "  </tbody>\n",
       "</table>\n",
       "</div>"
      ],
      "text/plain": [
       "            state  act17_composite  act18_composite\n",
       "0          Nevada             17.8             17.7\n",
       "1     Mississippi             18.6             18.6\n",
       "2  South Carolina             18.7             18.3\n",
       "3          Hawaii             19.0             18.9\n",
       "4  North Carolina             19.1              NaN\n",
       "5         Alabama              NaN             19.1"
      ]
     },
     "execution_count": 84,
     "metadata": {},
     "output_type": "execute_result"
    }
   ],
   "source": [
    "a17_totb = sort('act17_composite',True)\n",
    "a18_totb = sort('act18_composite',True)\n",
    "pd.merge(left=a17_totb, right=a18_totb, on=\"state\", how=\"outer\")"
   ]
  },
  {
   "cell_type": "code",
   "execution_count": null,
   "metadata": {},
   "outputs": [],
   "source": []
  },
  {
   "cell_type": "markdown",
   "metadata": {},
   "source": [
    "## Visualize the data\n",
    "\n",
    "There's not a magic bullet recommendation for the right number of plots to understand a given dataset, but visualizing your data is *always* a good idea. Not only does it allow you to quickly convey your findings (even if you have a non-technical audience), it will often reveal trends in your data that escaped you when you were looking only at numbers.\n",
    "\n",
    "Some recommendations on plotting:\n",
    "- Plots have titles\n",
    "- Plots have axis labels\n",
    "- Plots have appropriate tick labels\n",
    "- All text is legible in a plot\n",
    "- Plots demonstrate meaningful and valid relationships\n",
    "- Plots are interpreted to aid understanding\n",
    "\n",
    "There is such a thing as too many plots, and there are a *lot* of bad plots. You might make some! (But hopefully not with the guided prompts below)."
   ]
  },
  {
   "cell_type": "markdown",
   "metadata": {},
   "source": [
    "#### Use Seaborn's heatmap with pandas `.corr()` to visualize correlations between all numeric features\n",
    "\n",
    "Heatmaps are generally not appropriate for presentations, and should often be excluded from reports as they can be visually overwhelming. **However**, they can be extremely useful in identify relationships of potential interest (as well as identifying potential collinearity before modeling).\n",
    "\n",
    "*example*:\n",
    "```python\n",
    "sns.heatmap(df.corr())\n",
    "```\n",
    "\n",
    "Please take time to format your output, adding a title. Look through some of the additional arguments and options. (Axis labels aren't really necessary, as long as the title is informative)."
   ]
  },
  {
   "cell_type": "markdown",
   "metadata": {},
   "source": [
    "Compare ACT 2017 VS ACT 2018 Participation Rates \n",
    "\n",
    "Trying out running correlations for smaller subsets of the data "
   ]
  },
  {
   "cell_type": "code",
   "execution_count": 85,
   "metadata": {},
   "outputs": [
    {
     "data": {
      "text/html": [
       "<div>\n",
       "<style scoped>\n",
       "    .dataframe tbody tr th:only-of-type {\n",
       "        vertical-align: middle;\n",
       "    }\n",
       "\n",
       "    .dataframe tbody tr th {\n",
       "        vertical-align: top;\n",
       "    }\n",
       "\n",
       "    .dataframe thead th {\n",
       "        text-align: right;\n",
       "    }\n",
       "</style>\n",
       "<table border=\"1\" class=\"dataframe\">\n",
       "  <thead>\n",
       "    <tr style=\"text-align: right;\">\n",
       "      <th></th>\n",
       "      <th>state</th>\n",
       "      <th>act17_participation%</th>\n",
       "      <th>act18_participation%</th>\n",
       "    </tr>\n",
       "  </thead>\n",
       "  <tbody>\n",
       "    <tr>\n",
       "      <td>0</td>\n",
       "      <td>Alabama</td>\n",
       "      <td>100.0</td>\n",
       "      <td>100</td>\n",
       "    </tr>\n",
       "    <tr>\n",
       "      <td>1</td>\n",
       "      <td>Alaska</td>\n",
       "      <td>65.0</td>\n",
       "      <td>33</td>\n",
       "    </tr>\n",
       "    <tr>\n",
       "      <td>2</td>\n",
       "      <td>Arizona</td>\n",
       "      <td>62.0</td>\n",
       "      <td>66</td>\n",
       "    </tr>\n",
       "    <tr>\n",
       "      <td>3</td>\n",
       "      <td>Arkansas</td>\n",
       "      <td>100.0</td>\n",
       "      <td>100</td>\n",
       "    </tr>\n",
       "    <tr>\n",
       "      <td>4</td>\n",
       "      <td>California</td>\n",
       "      <td>31.0</td>\n",
       "      <td>27</td>\n",
       "    </tr>\n",
       "  </tbody>\n",
       "</table>\n",
       "</div>"
      ],
      "text/plain": [
       "        state  act17_participation%  act18_participation%\n",
       "0     Alabama                 100.0                   100\n",
       "1      Alaska                  65.0                    33\n",
       "2     Arizona                  62.0                    66\n",
       "3    Arkansas                 100.0                   100\n",
       "4  California                  31.0                    27"
      ]
     },
     "execution_count": 85,
     "metadata": {},
     "output_type": "execute_result"
    }
   ],
   "source": [
    "k = act_sat1718.iloc[:,[0,act_sat1718.columns.get_loc(\"act17_participation%\"),act_sat1718.columns.get_loc(\"act18_participation%\")]]\n",
    "k.head()"
   ]
  },
  {
   "cell_type": "code",
   "execution_count": 86,
   "metadata": {},
   "outputs": [
    {
     "data": {
      "text/html": [
       "<div>\n",
       "<style scoped>\n",
       "    .dataframe tbody tr th:only-of-type {\n",
       "        vertical-align: middle;\n",
       "    }\n",
       "\n",
       "    .dataframe tbody tr th {\n",
       "        vertical-align: top;\n",
       "    }\n",
       "\n",
       "    .dataframe thead th {\n",
       "        text-align: right;\n",
       "    }\n",
       "</style>\n",
       "<table border=\"1\" class=\"dataframe\">\n",
       "  <thead>\n",
       "    <tr style=\"text-align: right;\">\n",
       "      <th></th>\n",
       "      <th>act17_participation%</th>\n",
       "      <th>act18_participation%</th>\n",
       "    </tr>\n",
       "  </thead>\n",
       "  <tbody>\n",
       "    <tr>\n",
       "      <td>act17_participation%</td>\n",
       "      <td>1.000000</td>\n",
       "      <td>0.919171</td>\n",
       "    </tr>\n",
       "    <tr>\n",
       "      <td>act18_participation%</td>\n",
       "      <td>0.919171</td>\n",
       "      <td>1.000000</td>\n",
       "    </tr>\n",
       "  </tbody>\n",
       "</table>\n",
       "</div>"
      ],
      "text/plain": [
       "                      act17_participation%  act18_participation%\n",
       "act17_participation%              1.000000              0.919171\n",
       "act18_participation%              0.919171              1.000000"
      ]
     },
     "execution_count": 86,
     "metadata": {},
     "output_type": "execute_result"
    }
   ],
   "source": [
    "k.corr()"
   ]
  },
  {
   "cell_type": "markdown",
   "metadata": {},
   "source": [
    "Big Reg is a dataframe containing the regression values for all the variables run against each other. The table is a large and difficult to interpret at one glance though. Trying to develop a function that filters out the stronger correlation coefficients."
   ]
  },
  {
   "cell_type": "code",
   "execution_count": 87,
   "metadata": {
    "scrolled": true
   },
   "outputs": [
    {
     "data": {
      "text/html": [
       "<div>\n",
       "<style scoped>\n",
       "    .dataframe tbody tr th:only-of-type {\n",
       "        vertical-align: middle;\n",
       "    }\n",
       "\n",
       "    .dataframe tbody tr th {\n",
       "        vertical-align: top;\n",
       "    }\n",
       "\n",
       "    .dataframe thead th {\n",
       "        text-align: right;\n",
       "    }\n",
       "</style>\n",
       "<table border=\"1\" class=\"dataframe\">\n",
       "  <thead>\n",
       "    <tr style=\"text-align: right;\">\n",
       "      <th></th>\n",
       "      <th>act17_participation%</th>\n",
       "      <th>act17_eng</th>\n",
       "      <th>act17_math</th>\n",
       "      <th>act17_reading</th>\n",
       "      <th>act17_sci</th>\n",
       "      <th>act17_composite</th>\n",
       "      <th>sat17_participation%</th>\n",
       "      <th>sat17_reading_writing</th>\n",
       "      <th>sat17_math</th>\n",
       "      <th>sat17_total</th>\n",
       "      <th>act18_participation%</th>\n",
       "      <th>act18_composite</th>\n",
       "      <th>act18_eng</th>\n",
       "      <th>act18_math</th>\n",
       "      <th>act18_reading</th>\n",
       "      <th>act18_sci</th>\n",
       "      <th>sat18_participation%</th>\n",
       "      <th>sat18_reading_writing</th>\n",
       "      <th>sat18_math</th>\n",
       "      <th>sat18_total</th>\n",
       "    </tr>\n",
       "  </thead>\n",
       "  <tbody>\n",
       "    <tr>\n",
       "      <td>act17_participation%</td>\n",
       "      <td>1.000000</td>\n",
       "      <td>-0.843501</td>\n",
       "      <td>-0.861114</td>\n",
       "      <td>-0.866620</td>\n",
       "      <td>-0.836595</td>\n",
       "      <td>-0.858134</td>\n",
       "      <td>-0.841234</td>\n",
       "      <td>0.716153</td>\n",
       "      <td>0.682572</td>\n",
       "      <td>0.701477</td>\n",
       "      <td>0.919171</td>\n",
       "      <td>-0.775514</td>\n",
       "      <td>-0.763176</td>\n",
       "      <td>-0.782878</td>\n",
       "      <td>-0.789497</td>\n",
       "      <td>-0.763334</td>\n",
       "      <td>-0.756479</td>\n",
       "      <td>0.522593</td>\n",
       "      <td>0.555406</td>\n",
       "      <td>0.545179</td>\n",
       "    </tr>\n",
       "    <tr>\n",
       "      <td>act17_eng</td>\n",
       "      <td>-0.843501</td>\n",
       "      <td>1.000000</td>\n",
       "      <td>0.967803</td>\n",
       "      <td>0.985999</td>\n",
       "      <td>0.980042</td>\n",
       "      <td>0.990856</td>\n",
       "      <td>0.686889</td>\n",
       "      <td>-0.461345</td>\n",
       "      <td>-0.420673</td>\n",
       "      <td>-0.441947</td>\n",
       "      <td>-0.796637</td>\n",
       "      <td>0.932535</td>\n",
       "      <td>0.937173</td>\n",
       "      <td>0.918868</td>\n",
       "      <td>0.930897</td>\n",
       "      <td>0.922873</td>\n",
       "      <td>0.679643</td>\n",
       "      <td>-0.347978</td>\n",
       "      <td>-0.365787</td>\n",
       "      <td>-0.361303</td>\n",
       "    </tr>\n",
       "    <tr>\n",
       "      <td>act17_math</td>\n",
       "      <td>-0.861114</td>\n",
       "      <td>0.967803</td>\n",
       "      <td>1.000000</td>\n",
       "      <td>0.979630</td>\n",
       "      <td>0.986929</td>\n",
       "      <td>0.990451</td>\n",
       "      <td>0.710697</td>\n",
       "      <td>-0.486126</td>\n",
       "      <td>-0.420456</td>\n",
       "      <td>-0.454116</td>\n",
       "      <td>-0.813410</td>\n",
       "      <td>0.933247</td>\n",
       "      <td>0.910684</td>\n",
       "      <td>0.948795</td>\n",
       "      <td>0.924997</td>\n",
       "      <td>0.930087</td>\n",
       "      <td>0.696294</td>\n",
       "      <td>-0.355133</td>\n",
       "      <td>-0.340094</td>\n",
       "      <td>-0.351847</td>\n",
       "    </tr>\n",
       "    <tr>\n",
       "      <td>act17_reading</td>\n",
       "      <td>-0.866620</td>\n",
       "      <td>0.985999</td>\n",
       "      <td>0.979630</td>\n",
       "      <td>1.000000</td>\n",
       "      <td>0.988034</td>\n",
       "      <td>0.995069</td>\n",
       "      <td>0.705352</td>\n",
       "      <td>-0.488441</td>\n",
       "      <td>-0.442410</td>\n",
       "      <td>-0.466558</td>\n",
       "      <td>-0.813021</td>\n",
       "      <td>0.929711</td>\n",
       "      <td>0.916256</td>\n",
       "      <td>0.923622</td>\n",
       "      <td>0.937214</td>\n",
       "      <td>0.926420</td>\n",
       "      <td>0.680380</td>\n",
       "      <td>-0.363354</td>\n",
       "      <td>-0.374075</td>\n",
       "      <td>-0.373195</td>\n",
       "    </tr>\n",
       "    <tr>\n",
       "      <td>act17_sci</td>\n",
       "      <td>-0.836595</td>\n",
       "      <td>0.980042</td>\n",
       "      <td>0.986929</td>\n",
       "      <td>0.988034</td>\n",
       "      <td>1.000000</td>\n",
       "      <td>0.995129</td>\n",
       "      <td>0.653670</td>\n",
       "      <td>-0.422130</td>\n",
       "      <td>-0.365515</td>\n",
       "      <td>-0.394559</td>\n",
       "      <td>-0.784996</td>\n",
       "      <td>0.934586</td>\n",
       "      <td>0.915850</td>\n",
       "      <td>0.936559</td>\n",
       "      <td>0.930810</td>\n",
       "      <td>0.939334</td>\n",
       "      <td>0.647635</td>\n",
       "      <td>-0.320049</td>\n",
       "      <td>-0.315431</td>\n",
       "      <td>-0.321679</td>\n",
       "    </tr>\n",
       "  </tbody>\n",
       "</table>\n",
       "</div>"
      ],
      "text/plain": [
       "                      act17_participation%  act17_eng  act17_math  \\\n",
       "act17_participation%              1.000000  -0.843501   -0.861114   \n",
       "act17_eng                        -0.843501   1.000000    0.967803   \n",
       "act17_math                       -0.861114   0.967803    1.000000   \n",
       "act17_reading                    -0.866620   0.985999    0.979630   \n",
       "act17_sci                        -0.836595   0.980042    0.986929   \n",
       "\n",
       "                      act17_reading  act17_sci  act17_composite  \\\n",
       "act17_participation%      -0.866620  -0.836595        -0.858134   \n",
       "act17_eng                  0.985999   0.980042         0.990856   \n",
       "act17_math                 0.979630   0.986929         0.990451   \n",
       "act17_reading              1.000000   0.988034         0.995069   \n",
       "act17_sci                  0.988034   1.000000         0.995129   \n",
       "\n",
       "                      sat17_participation%  sat17_reading_writing  sat17_math  \\\n",
       "act17_participation%             -0.841234               0.716153    0.682572   \n",
       "act17_eng                         0.686889              -0.461345   -0.420673   \n",
       "act17_math                        0.710697              -0.486126   -0.420456   \n",
       "act17_reading                     0.705352              -0.488441   -0.442410   \n",
       "act17_sci                         0.653670              -0.422130   -0.365515   \n",
       "\n",
       "                      sat17_total  act18_participation%  act18_composite  \\\n",
       "act17_participation%     0.701477              0.919171        -0.775514   \n",
       "act17_eng               -0.441947             -0.796637         0.932535   \n",
       "act17_math              -0.454116             -0.813410         0.933247   \n",
       "act17_reading           -0.466558             -0.813021         0.929711   \n",
       "act17_sci               -0.394559             -0.784996         0.934586   \n",
       "\n",
       "                      act18_eng  act18_math  act18_reading  act18_sci  \\\n",
       "act17_participation%  -0.763176   -0.782878      -0.789497  -0.763334   \n",
       "act17_eng              0.937173    0.918868       0.930897   0.922873   \n",
       "act17_math             0.910684    0.948795       0.924997   0.930087   \n",
       "act17_reading          0.916256    0.923622       0.937214   0.926420   \n",
       "act17_sci              0.915850    0.936559       0.930810   0.939334   \n",
       "\n",
       "                      sat18_participation%  sat18_reading_writing  sat18_math  \\\n",
       "act17_participation%             -0.756479               0.522593    0.555406   \n",
       "act17_eng                         0.679643              -0.347978   -0.365787   \n",
       "act17_math                        0.696294              -0.355133   -0.340094   \n",
       "act17_reading                     0.680380              -0.363354   -0.374075   \n",
       "act17_sci                         0.647635              -0.320049   -0.315431   \n",
       "\n",
       "                      sat18_total  \n",
       "act17_participation%     0.545179  \n",
       "act17_eng               -0.361303  \n",
       "act17_math              -0.351847  \n",
       "act17_reading           -0.373195  \n",
       "act17_sci               -0.321679  "
      ]
     },
     "execution_count": 87,
     "metadata": {},
     "output_type": "execute_result"
    }
   ],
   "source": [
    "big_reg = act_sat1718.corr()\n",
    "big_reg.head()"
   ]
  },
  {
   "cell_type": "code",
   "execution_count": 88,
   "metadata": {},
   "outputs": [
    {
     "data": {
      "text/plain": [
       "-0.8435011380845738"
      ]
     },
     "execution_count": 88,
     "metadata": {},
     "output_type": "execute_result"
    }
   ],
   "source": [
    "big_reg['act17_eng'][0] #test"
   ]
  },
  {
   "cell_type": "code",
   "execution_count": 89,
   "metadata": {},
   "outputs": [
    {
     "data": {
      "text/plain": [
       "'act17_participation%'"
      ]
     },
     "execution_count": 89,
     "metadata": {},
     "output_type": "execute_result"
    }
   ],
   "source": [
    "big_reg.index[0] #test "
   ]
  },
  {
   "cell_type": "code",
   "execution_count": 90,
   "metadata": {},
   "outputs": [
    {
     "data": {
      "text/plain": [
       "pandas.core.frame.DataFrame"
      ]
     },
     "execution_count": 90,
     "metadata": {},
     "output_type": "execute_result"
    }
   ],
   "source": [
    "type(big_reg)"
   ]
  },
  {
   "cell_type": "markdown",
   "metadata": {},
   "source": [
    "def bigcorr (col):\n",
    "    coef = []\n",
    "    var = []\n",
    "    for i in big_reg[col]:\n",
    "        if big_reg[col][i] >= 0.8:\n",
    "            coef.append(i)\n",
    "            var.append(big_reg.index[i])\n",
    "    return coef\n",
    "            "
   ]
  },
  {
   "cell_type": "code",
   "execution_count": 91,
   "metadata": {},
   "outputs": [],
   "source": [
    "#bigcorr(\"act17_participation%\")\n",
    "#not sure why the function doesn't work. Trying to locate the strong corr values and add that to a list alongwith \n",
    "#the relevant counter variable \n",
    "\n",
    "#could try using a boolean filter and then just grab the relevant coefficients\n",
    "#and thier relevant index row titles "
   ]
  },
  {
   "cell_type": "markdown",
   "metadata": {},
   "source": [
    "Trying out filtering for bigger correlations via boolean (condition being either 0.7 >= or <= -0.7)"
   ]
  },
  {
   "cell_type": "code",
   "execution_count": 92,
   "metadata": {},
   "outputs": [
    {
     "data": {
      "text/html": [
       "<div>\n",
       "<style scoped>\n",
       "    .dataframe tbody tr th:only-of-type {\n",
       "        vertical-align: middle;\n",
       "    }\n",
       "\n",
       "    .dataframe tbody tr th {\n",
       "        vertical-align: top;\n",
       "    }\n",
       "\n",
       "    .dataframe thead th {\n",
       "        text-align: right;\n",
       "    }\n",
       "</style>\n",
       "<table border=\"1\" class=\"dataframe\">\n",
       "  <thead>\n",
       "    <tr style=\"text-align: right;\">\n",
       "      <th></th>\n",
       "      <th>act17_participation%</th>\n",
       "    </tr>\n",
       "  </thead>\n",
       "  <tbody>\n",
       "    <tr>\n",
       "      <td>act17_participation%</td>\n",
       "      <td>1.000000</td>\n",
       "    </tr>\n",
       "    <tr>\n",
       "      <td>sat17_reading_writing</td>\n",
       "      <td>0.716153</td>\n",
       "    </tr>\n",
       "    <tr>\n",
       "      <td>sat17_total</td>\n",
       "      <td>0.701477</td>\n",
       "    </tr>\n",
       "    <tr>\n",
       "      <td>act18_participation%</td>\n",
       "      <td>0.919171</td>\n",
       "    </tr>\n",
       "  </tbody>\n",
       "</table>\n",
       "</div>"
      ],
      "text/plain": [
       "                       act17_participation%\n",
       "act17_participation%               1.000000\n",
       "sat17_reading_writing              0.716153\n",
       "sat17_total                        0.701477\n",
       "act18_participation%               0.919171"
      ]
     },
     "execution_count": 92,
     "metadata": {},
     "output_type": "execute_result"
    }
   ],
   "source": [
    "#test\n",
    "big_reg[big_reg['act17_participation%'] >= 0.7].iloc[:,[big_reg.columns.get_loc(\"act17_participation%\")]]\n"
   ]
  },
  {
   "cell_type": "code",
   "execution_count": 93,
   "metadata": {},
   "outputs": [],
   "source": [
    "def bigcorr(metric):\n",
    "    return big_reg[(big_reg[metric] >= 0.7) | (big_reg[metric] <= -0.7) ].iloc[:,[big_reg.columns.get_loc(metric)]]\n",
    "\n"
   ]
  },
  {
   "cell_type": "code",
   "execution_count": 94,
   "metadata": {},
   "outputs": [
    {
     "data": {
      "text/html": [
       "<div>\n",
       "<style scoped>\n",
       "    .dataframe tbody tr th:only-of-type {\n",
       "        vertical-align: middle;\n",
       "    }\n",
       "\n",
       "    .dataframe tbody tr th {\n",
       "        vertical-align: top;\n",
       "    }\n",
       "\n",
       "    .dataframe thead th {\n",
       "        text-align: right;\n",
       "    }\n",
       "</style>\n",
       "<table border=\"1\" class=\"dataframe\">\n",
       "  <thead>\n",
       "    <tr style=\"text-align: right;\">\n",
       "      <th></th>\n",
       "      <th>act17_participation%</th>\n",
       "    </tr>\n",
       "  </thead>\n",
       "  <tbody>\n",
       "    <tr>\n",
       "      <td>act17_participation%</td>\n",
       "      <td>1.000000</td>\n",
       "    </tr>\n",
       "    <tr>\n",
       "      <td>act17_eng</td>\n",
       "      <td>-0.843501</td>\n",
       "    </tr>\n",
       "    <tr>\n",
       "      <td>act17_math</td>\n",
       "      <td>-0.861114</td>\n",
       "    </tr>\n",
       "    <tr>\n",
       "      <td>act17_reading</td>\n",
       "      <td>-0.866620</td>\n",
       "    </tr>\n",
       "    <tr>\n",
       "      <td>act17_sci</td>\n",
       "      <td>-0.836595</td>\n",
       "    </tr>\n",
       "    <tr>\n",
       "      <td>act17_composite</td>\n",
       "      <td>-0.858134</td>\n",
       "    </tr>\n",
       "    <tr>\n",
       "      <td>sat17_participation%</td>\n",
       "      <td>-0.841234</td>\n",
       "    </tr>\n",
       "    <tr>\n",
       "      <td>sat17_reading_writing</td>\n",
       "      <td>0.716153</td>\n",
       "    </tr>\n",
       "    <tr>\n",
       "      <td>sat17_total</td>\n",
       "      <td>0.701477</td>\n",
       "    </tr>\n",
       "    <tr>\n",
       "      <td>act18_participation%</td>\n",
       "      <td>0.919171</td>\n",
       "    </tr>\n",
       "    <tr>\n",
       "      <td>act18_composite</td>\n",
       "      <td>-0.775514</td>\n",
       "    </tr>\n",
       "    <tr>\n",
       "      <td>act18_eng</td>\n",
       "      <td>-0.763176</td>\n",
       "    </tr>\n",
       "    <tr>\n",
       "      <td>act18_math</td>\n",
       "      <td>-0.782878</td>\n",
       "    </tr>\n",
       "    <tr>\n",
       "      <td>act18_reading</td>\n",
       "      <td>-0.789497</td>\n",
       "    </tr>\n",
       "    <tr>\n",
       "      <td>act18_sci</td>\n",
       "      <td>-0.763334</td>\n",
       "    </tr>\n",
       "    <tr>\n",
       "      <td>sat18_participation%</td>\n",
       "      <td>-0.756479</td>\n",
       "    </tr>\n",
       "  </tbody>\n",
       "</table>\n",
       "</div>"
      ],
      "text/plain": [
       "                       act17_participation%\n",
       "act17_participation%               1.000000\n",
       "act17_eng                         -0.843501\n",
       "act17_math                        -0.861114\n",
       "act17_reading                     -0.866620\n",
       "act17_sci                         -0.836595\n",
       "act17_composite                   -0.858134\n",
       "sat17_participation%              -0.841234\n",
       "sat17_reading_writing              0.716153\n",
       "sat17_total                        0.701477\n",
       "act18_participation%               0.919171\n",
       "act18_composite                   -0.775514\n",
       "act18_eng                         -0.763176\n",
       "act18_math                        -0.782878\n",
       "act18_reading                     -0.789497\n",
       "act18_sci                         -0.763334\n",
       "sat18_participation%              -0.756479"
      ]
     },
     "execution_count": 94,
     "metadata": {},
     "output_type": "execute_result"
    }
   ],
   "source": [
    "bigcorr(\"act17_participation%\")"
   ]
  },
  {
   "cell_type": "code",
   "execution_count": 95,
   "metadata": {},
   "outputs": [],
   "source": [
    "big_reg_col = ['act17_participation%', 'act17_eng', 'act17_math', 'act17_reading',\n",
    "       'act17_sci', 'act17_composite', 'sat17_participation%',\n",
    "       'sat17_reading_writing', 'sat17_math', 'sat17_total',\n",
    "       'act18_participation%', 'act18_composite', 'act18_eng', 'act18_math',\n",
    "       'act18_reading', 'act18_sci', 'sat18_participation%',\n",
    "       'sat18_reading_writing', 'sat18_math', 'sat18_total']"
   ]
  },
  {
   "cell_type": "code",
   "execution_count": 96,
   "metadata": {},
   "outputs": [],
   "source": [
    "#using the map function to apply my big corr function above to all columns in the dataframe \n",
    "#this creates a list of dataframes \n",
    "\n",
    "all_bigcorrs = list(map(bigcorr, big_reg_col))"
   ]
  },
  {
   "cell_type": "markdown",
   "metadata": {},
   "source": [
    "Turns out the subsetted list is pretty unreadable as a whole too. "
   ]
  },
  {
   "cell_type": "code",
   "execution_count": 97,
   "metadata": {},
   "outputs": [
    {
     "data": {
      "text/plain": [
       "[                       act17_participation%\n",
       " act17_participation%               1.000000\n",
       " act17_eng                         -0.843501\n",
       " act17_math                        -0.861114\n",
       " act17_reading                     -0.866620\n",
       " act17_sci                         -0.836595\n",
       " act17_composite                   -0.858134\n",
       " sat17_participation%              -0.841234\n",
       " sat17_reading_writing              0.716153\n",
       " sat17_total                        0.701477\n",
       " act18_participation%               0.919171\n",
       " act18_composite                   -0.775514\n",
       " act18_eng                         -0.763176\n",
       " act18_math                        -0.782878\n",
       " act18_reading                     -0.789497\n",
       " act18_sci                         -0.763334\n",
       " sat18_participation%              -0.756479,                       act17_eng\n",
       " act17_participation%  -0.843501\n",
       " act17_eng              1.000000\n",
       " act17_math             0.967803\n",
       " act17_reading          0.985999\n",
       " act17_sci              0.980042\n",
       " act17_composite        0.990856\n",
       " act18_participation%  -0.796637\n",
       " act18_composite        0.932535\n",
       " act18_eng              0.937173\n",
       " act18_math             0.918868\n",
       " act18_reading          0.930897\n",
       " act18_sci              0.922873,                       act17_math\n",
       " act17_participation%   -0.861114\n",
       " act17_eng               0.967803\n",
       " act17_math              1.000000\n",
       " act17_reading           0.979630\n",
       " act17_sci               0.986929\n",
       " act17_composite         0.990451\n",
       " sat17_participation%    0.710697\n",
       " act18_participation%   -0.813410\n",
       " act18_composite         0.933247\n",
       " act18_eng               0.910684\n",
       " act18_math              0.948795\n",
       " act18_reading           0.924997\n",
       " act18_sci               0.930087,                       act17_reading\n",
       " act17_participation%      -0.866620\n",
       " act17_eng                  0.985999\n",
       " act17_math                 0.979630\n",
       " act17_reading              1.000000\n",
       " act17_sci                  0.988034\n",
       " act17_composite            0.995069\n",
       " sat17_participation%       0.705352\n",
       " act18_participation%      -0.813021\n",
       " act18_composite            0.929711\n",
       " act18_eng                  0.916256\n",
       " act18_math                 0.923622\n",
       " act18_reading              0.937214\n",
       " act18_sci                  0.926420,                       act17_sci\n",
       " act17_participation%  -0.836595\n",
       " act17_eng              0.980042\n",
       " act17_math             0.986929\n",
       " act17_reading          0.988034\n",
       " act17_sci              1.000000\n",
       " act17_composite        0.995129\n",
       " act18_participation%  -0.784996\n",
       " act18_composite        0.934586\n",
       " act18_eng              0.915850\n",
       " act18_math             0.936559\n",
       " act18_reading          0.930810\n",
       " act18_sci              0.939334,                       act17_composite\n",
       " act17_participation%        -0.858134\n",
       " act17_eng                    0.990856\n",
       " act17_math                   0.990451\n",
       " act17_reading                0.995069\n",
       " act17_sci                    0.995129\n",
       " act17_composite              1.000000\n",
       " act18_participation%        -0.808497\n",
       " act18_composite              0.939271\n",
       " act18_eng                    0.927275\n",
       " act18_math                   0.938748\n",
       " act18_reading                0.937604\n",
       " act18_sci                    0.935847,                        sat17_participation%\n",
       " act17_participation%              -0.841234\n",
       " act17_math                         0.710697\n",
       " act17_reading                      0.705352\n",
       " sat17_participation%               1.000000\n",
       " sat17_reading_writing             -0.874326\n",
       " sat17_math                        -0.855091\n",
       " sat17_total                       -0.867540\n",
       " act18_participation%              -0.792382\n",
       " sat18_participation%               0.874763,                        sat17_reading_writing\n",
       " act17_participation%                0.716153\n",
       " sat17_participation%               -0.874326\n",
       " sat17_reading_writing               1.000000\n",
       " sat17_math                          0.987056\n",
       " sat17_total                         0.996661\n",
       " act18_participation%                0.702481\n",
       " sat18_participation%               -0.818925\n",
       " sat18_reading_writing               0.814096\n",
       " sat18_math                          0.865909\n",
       " sat18_total                         0.849798,                        sat17_math\n",
       " sat17_participation%    -0.855091\n",
       " sat17_reading_writing    0.987056\n",
       " sat17_math               1.000000\n",
       " sat17_total              0.996822\n",
       " sat18_participation%    -0.789166\n",
       " sat18_reading_writing    0.800380\n",
       " sat18_math               0.878982\n",
       " sat18_total              0.849583,                        sat17_total\n",
       " act17_participation%      0.701477\n",
       " sat17_participation%     -0.867540\n",
       " sat17_reading_writing     0.996661\n",
       " sat17_math                0.996822\n",
       " sat17_total               1.000000\n",
       " sat18_participation%     -0.806796\n",
       " sat18_reading_writing     0.810068\n",
       " sat18_math                0.875601\n",
       " sat18_total               0.852727,                        act18_participation%\n",
       " act17_participation%               0.919171\n",
       " act17_eng                         -0.796637\n",
       " act17_math                        -0.813410\n",
       " act17_reading                     -0.813021\n",
       " act17_sci                         -0.784996\n",
       " act17_composite                   -0.808497\n",
       " sat17_participation%              -0.792382\n",
       " sat17_reading_writing              0.702481\n",
       " act18_participation%               1.000000\n",
       " act18_composite                   -0.858031\n",
       " act18_eng                         -0.850362\n",
       " act18_math                        -0.856963\n",
       " act18_reading                     -0.869304\n",
       " act18_sci                         -0.843234\n",
       " sat18_participation%              -0.868103,                       act18_composite\n",
       " act17_participation%        -0.775514\n",
       " act17_eng                    0.932535\n",
       " act17_math                   0.933247\n",
       " act17_reading                0.929711\n",
       " act17_sci                    0.934586\n",
       " act17_composite              0.939271\n",
       " act18_participation%        -0.858031\n",
       " act18_composite              1.000000\n",
       " act18_eng                    0.990671\n",
       " act18_math                   0.990874\n",
       " act18_reading                0.992683\n",
       " act18_sci                    0.994377\n",
       " sat18_participation%         0.756881,                       act18_eng\n",
       " act17_participation%  -0.763176\n",
       " act17_eng              0.937173\n",
       " act17_math             0.910684\n",
       " act17_reading          0.916256\n",
       " act17_sci              0.915850\n",
       " act17_composite        0.927275\n",
       " act18_participation%  -0.850362\n",
       " act18_composite        0.990671\n",
       " act18_eng              1.000000\n",
       " act18_math             0.972551\n",
       " act18_reading          0.983390\n",
       " act18_sci              0.979142\n",
       " sat18_participation%   0.769916,                       act18_math\n",
       " act17_participation%   -0.782878\n",
       " act17_eng               0.918868\n",
       " act17_math              0.948795\n",
       " act17_reading           0.923622\n",
       " act17_sci               0.936559\n",
       " act17_composite         0.938748\n",
       " act18_participation%   -0.856963\n",
       " act18_composite         0.990874\n",
       " act18_eng               0.972551\n",
       " act18_math              1.000000\n",
       " act18_reading           0.979599\n",
       " act18_sci               0.988105\n",
       " sat18_participation%    0.760668,                       act18_reading\n",
       " act17_participation%      -0.789497\n",
       " act17_eng                  0.930897\n",
       " act17_math                 0.924997\n",
       " act17_reading              0.937214\n",
       " act17_sci                  0.930810\n",
       " act17_composite            0.937604\n",
       " act18_participation%      -0.869304\n",
       " act18_composite            0.992683\n",
       " act18_eng                  0.983390\n",
       " act18_math                 0.979599\n",
       " act18_reading              1.000000\n",
       " act18_sci                  0.988227\n",
       " sat18_participation%       0.755345,                       act18_sci\n",
       " act17_participation%  -0.763334\n",
       " act17_eng              0.922873\n",
       " act17_math             0.930087\n",
       " act17_reading          0.926420\n",
       " act17_sci              0.939334\n",
       " act17_composite        0.935847\n",
       " act18_participation%  -0.843234\n",
       " act18_composite        0.994377\n",
       " act18_eng              0.979142\n",
       " act18_math             0.988105\n",
       " act18_reading          0.988227\n",
       " act18_sci              1.000000\n",
       " sat18_participation%   0.730759,                        sat18_participation%\n",
       " act17_participation%              -0.756479\n",
       " sat17_participation%               0.874763\n",
       " sat17_reading_writing             -0.818925\n",
       " sat17_math                        -0.789166\n",
       " sat17_total                       -0.806796\n",
       " act18_participation%              -0.868103\n",
       " act18_composite                    0.756881\n",
       " act18_eng                          0.769916\n",
       " act18_math                         0.760668\n",
       " act18_reading                      0.755345\n",
       " act18_sci                          0.730759\n",
       " sat18_participation%               1.000000\n",
       " sat18_reading_writing             -0.762055\n",
       " sat18_math                        -0.791338\n",
       " sat18_total                       -0.785926,                        sat18_reading_writing\n",
       " sat17_reading_writing               0.814096\n",
       " sat17_math                          0.800380\n",
       " sat17_total                         0.810068\n",
       " sat18_participation%               -0.762055\n",
       " sat18_reading_writing               1.000000\n",
       " sat18_math                          0.954661\n",
       " sat18_total                         0.988560,                        sat18_math\n",
       " sat17_reading_writing    0.865909\n",
       " sat17_math               0.878982\n",
       " sat17_total              0.875601\n",
       " sat18_participation%    -0.791338\n",
       " sat18_reading_writing    0.954661\n",
       " sat18_math               1.000000\n",
       " sat18_total              0.988622,                        sat18_total\n",
       " sat17_reading_writing     0.849798\n",
       " sat17_math                0.849583\n",
       " sat17_total               0.852727\n",
       " sat18_participation%     -0.785926\n",
       " sat18_reading_writing     0.988560\n",
       " sat18_math                0.988622\n",
       " sat18_total               1.000000]"
      ]
     },
     "execution_count": 97,
     "metadata": {},
     "output_type": "execute_result"
    }
   ],
   "source": [
    "all_bigcorrs"
   ]
  },
  {
   "cell_type": "code",
   "execution_count": 98,
   "metadata": {},
   "outputs": [],
   "source": [
    "allbigcorr_index = zip(list(range(0,20)), big_reg_col)\n"
   ]
  },
  {
   "cell_type": "markdown",
   "metadata": {},
   "source": [
    "I suppose i could create a dictionary to show what indexes corresspond to which metric so that one could call on the \n",
    "all_bigcorrs list to read specific comparisons "
   ]
  },
  {
   "cell_type": "code",
   "execution_count": 99,
   "metadata": {},
   "outputs": [
    {
     "data": {
      "text/plain": [
       "{0: 'act17_participation%',\n",
       " 1: 'act17_eng',\n",
       " 2: 'act17_math',\n",
       " 3: 'act17_reading',\n",
       " 4: 'act17_sci',\n",
       " 5: 'act17_composite',\n",
       " 6: 'sat17_participation%',\n",
       " 7: 'sat17_reading_writing',\n",
       " 8: 'sat17_math',\n",
       " 9: 'sat17_total',\n",
       " 10: 'act18_participation%',\n",
       " 11: 'act18_composite',\n",
       " 12: 'act18_eng',\n",
       " 13: 'act18_math',\n",
       " 14: 'act18_reading',\n",
       " 15: 'act18_sci',\n",
       " 16: 'sat18_participation%',\n",
       " 17: 'sat18_reading_writing',\n",
       " 18: 'sat18_math',\n",
       " 19: 'sat18_total'}"
      ]
     },
     "execution_count": 99,
     "metadata": {},
     "output_type": "execute_result"
    }
   ],
   "source": [
    "allbigcorr_index = dict(allbigcorr_index)\n",
    "allbigcorr_index"
   ]
  },
  {
   "cell_type": "markdown",
   "metadata": {},
   "source": [
    "For example if i wanted to look at the regression results for ACT 2018 science based on this list i would just input index 15"
   ]
  },
  {
   "cell_type": "code",
   "execution_count": 100,
   "metadata": {},
   "outputs": [
    {
     "data": {
      "text/html": [
       "<div>\n",
       "<style scoped>\n",
       "    .dataframe tbody tr th:only-of-type {\n",
       "        vertical-align: middle;\n",
       "    }\n",
       "\n",
       "    .dataframe tbody tr th {\n",
       "        vertical-align: top;\n",
       "    }\n",
       "\n",
       "    .dataframe thead th {\n",
       "        text-align: right;\n",
       "    }\n",
       "</style>\n",
       "<table border=\"1\" class=\"dataframe\">\n",
       "  <thead>\n",
       "    <tr style=\"text-align: right;\">\n",
       "      <th></th>\n",
       "      <th>sat17_participation%</th>\n",
       "    </tr>\n",
       "  </thead>\n",
       "  <tbody>\n",
       "    <tr>\n",
       "      <td>act17_participation%</td>\n",
       "      <td>-0.841234</td>\n",
       "    </tr>\n",
       "    <tr>\n",
       "      <td>act17_math</td>\n",
       "      <td>0.710697</td>\n",
       "    </tr>\n",
       "    <tr>\n",
       "      <td>act17_reading</td>\n",
       "      <td>0.705352</td>\n",
       "    </tr>\n",
       "    <tr>\n",
       "      <td>sat17_participation%</td>\n",
       "      <td>1.000000</td>\n",
       "    </tr>\n",
       "    <tr>\n",
       "      <td>sat17_reading_writing</td>\n",
       "      <td>-0.874326</td>\n",
       "    </tr>\n",
       "    <tr>\n",
       "      <td>sat17_math</td>\n",
       "      <td>-0.855091</td>\n",
       "    </tr>\n",
       "    <tr>\n",
       "      <td>sat17_total</td>\n",
       "      <td>-0.867540</td>\n",
       "    </tr>\n",
       "    <tr>\n",
       "      <td>act18_participation%</td>\n",
       "      <td>-0.792382</td>\n",
       "    </tr>\n",
       "    <tr>\n",
       "      <td>sat18_participation%</td>\n",
       "      <td>0.874763</td>\n",
       "    </tr>\n",
       "  </tbody>\n",
       "</table>\n",
       "</div>"
      ],
      "text/plain": [
       "                       sat17_participation%\n",
       "act17_participation%              -0.841234\n",
       "act17_math                         0.710697\n",
       "act17_reading                      0.705352\n",
       "sat17_participation%               1.000000\n",
       "sat17_reading_writing             -0.874326\n",
       "sat17_math                        -0.855091\n",
       "sat17_total                       -0.867540\n",
       "act18_participation%              -0.792382\n",
       "sat18_participation%               0.874763"
      ]
     },
     "execution_count": 100,
     "metadata": {},
     "output_type": "execute_result"
    }
   ],
   "source": [
    "all_bigcorrs[6]"
   ]
  },
  {
   "cell_type": "markdown",
   "metadata": {},
   "source": [
    "None of the results immediately stand out to me. It is difficult to meaningfully interpret the regression coefficients as the current model only contains a limited number of datapoints. \n",
    "\n",
    "The most interesting thing is the strongly negative correlation between participation % and ACT and SAT scores - this is consistent for most subjects implying that higher participation rates drives down overall and indiv subject average scores. \n",
    "\n",
    "It is also interesting to note that there is also a negative correlation between SAT and ACT participation % implying that people choose to sit for either one of the tests, but not both. \n",
    "\n"
   ]
  },
  {
   "cell_type": "code",
   "execution_count": 101,
   "metadata": {},
   "outputs": [
    {
     "data": {
      "image/png": "[encoded data removed]",
      "text/plain": [
       "<Figure size 1440x1080 with 2 Axes>"
      ]
     },
     "metadata": {},
     "output_type": "display_data"
    }
   ],
   "source": [
    "import seaborn as sns \n",
    "\n",
    "plt.subplots(figsize=(20,15))\n",
    "\n",
    "#not sure how this mask works \n",
    "#not sure how to make the axes spread out from -1 to 1 \n",
    "mask = np.zeros_like(big_reg)\n",
    "mask[np.triu_indices_from(mask)] = True\n",
    "with sns.axes_style(\"white\"):\n",
    "    ax = sns.heatmap(big_reg, mask=mask, vmax=.3, square=True, annot=True)\n",
    "    \n",
    "    "
   ]
  },
  {
   "cell_type": "code",
   "execution_count": null,
   "metadata": {},
   "outputs": [],
   "source": []
  },
  {
   "cell_type": "markdown",
   "metadata": {},
   "source": [
    "#### Define a custom function to subplot histograms\n",
    "\n",
    "We have data for two tests for two years. We only have composite (and not subtest scores) for the 2018 ACT. We should write a function that will take the names of 2+ columns and subplot histograms. While you can use pandas plotting or Seaborn here, matplotlib gives you greater control over all aspects of your plots.\n",
    "\n",
    "[Helpful Link for Plotting Multiple Figures](https://matplotlib.org/users/pyplot_tutorial.html#working-with-multiple-figures-and-axes)\n",
    "\n",
    "Here's some starter code:"
   ]
  },
  {
   "cell_type": "code",
   "execution_count": 102,
   "metadata": {},
   "outputs": [],
   "source": [
    "def subplot_histograms(dataframe, list_of_columns, list_of_titles, list_of_xlabels):\n",
    "    nrows = int(np.ceil(len(list_of_columns)/2)) # Makes sure you have enough rows\n",
    "    fig, ax = plt.subplots(nrows=nrows, ncols=2) # You'll want to specify your figsize\n",
    "    ax = ax.ravel() # Ravel turns a matrix into a vector, which is easier to iterate\n",
    "    for i, column in enumerate(list_of_columns): # Gives us an index value to get into all our lists\n",
    "        ax[i].hist(dataframe[column]) # feel free to add more settings\n",
    "        # Set titles, labels, etc here for each subplot\n",
    "        \n",
    "        \n",
    "        \n",
    "        \n",
    "        "
   ]
  },
  {
   "cell_type": "code",
   "execution_count": 103,
   "metadata": {},
   "outputs": [],
   "source": [
    "def subplot_histograms(ascp, ascpcol, list_of_titles, ascpcol1):\n",
    "    nrows = int(np.ceil(len(list_of_columns)/2)) # Makes sure you have enough rows\n",
    "    fig, ax = plt.subplots(nrows=nrows, ncols=2) # You'll want to specify your figsize\n",
    "    ax = ax.ravel() # Ravel turns a matrix into a vector, which is easier to iterate\n",
    "    for i, column in enumerate(list_of_columns): # Gives us an index value to get into all our lists\n",
    "        ax[i].hist(dataframe[column]) # feel free to add more settings\n",
    "        # Set titles, labels, etc here for each subplot\n",
    "        \n",
    "        \n",
    "\n",
    "        "
   ]
  },
  {
   "cell_type": "code",
   "execution_count": 104,
   "metadata": {},
   "outputs": [],
   "source": [
    "ascp= act_sat1718.iloc[:,[0,1,11,6,12,7,17,10,20]]"
   ]
  },
  {
   "cell_type": "code",
   "execution_count": 105,
   "metadata": {
    "scrolled": true
   },
   "outputs": [
    {
     "data": {
      "image/png": "[encoded data removed]",
      "text/plain": [
       "<Figure size 1440x1440 with 9 Axes>"
      ]
     },
     "metadata": {},
     "output_type": "display_data"
    }
   ],
   "source": [
    "ascp.hist(figsize=(20,20));"
   ]
  },
  {
   "cell_type": "markdown",
   "metadata": {},
   "source": [
    "Interpretation of Histograms depicting SAT and ACT participation rates against the total/composite scores:\n",
    "\n",
    "There some evidence of 'inversion' of frequencies between participation rates and total/composite scores of ACT/SAT for both 2017 and 2018 - meaning that increasing participation fall in line with a fall in the frequency of higher scores. \n",
    "\n",
    "This could be due to the fact that participation rates were high in states where taking these tests were compulsory - meaning that even students who weren't prepared or interested had to take it, naturally leading to an increase in frequnecy of lower scores. conversely, in states where the tests are not mandated, only students who are interested/ better prepared will sit for these tests, leading to a higher frequency of higher test scores. \n",
    "\n",
    "ACT 17 participation is bimodal (30% range and 100%).\n",
    "ACT 17 composite scores are bimodal as well (19-21 and 23-25). \n",
    "\n",
    "ACT 18 participation is bimodal (30% range and 100%).\n",
    "ACT 18 composite scores are bimodal as well (19-21 and 23-24). \n",
    "\n",
    "SAT 17 participation % is right skewed. \n",
    "SAT 17 total scores are bi-modal too(1050-1100 and 1250) \n",
    "\n",
    "SAT 18 participation % is right skewed. \n",
    "SAT 18 total scores are bi-modal too(1050-1100 and 1250) \n"
   ]
  },
  {
   "cell_type": "markdown",
   "metadata": {},
   "source": [
    "Planning to subplot: ACT & SAT composite/total scores against their participation rates by year \n",
    "    \n",
    "    so 2 x 4 subplot"
   ]
  },
  {
   "cell_type": "code",
   "execution_count": 106,
   "metadata": {},
   "outputs": [
    {
     "data": {
      "text/html": [
       "<div>\n",
       "<style scoped>\n",
       "    .dataframe tbody tr th:only-of-type {\n",
       "        vertical-align: middle;\n",
       "    }\n",
       "\n",
       "    .dataframe tbody tr th {\n",
       "        vertical-align: top;\n",
       "    }\n",
       "\n",
       "    .dataframe thead th {\n",
       "        text-align: right;\n",
       "    }\n",
       "</style>\n",
       "<table border=\"1\" class=\"dataframe\">\n",
       "  <thead>\n",
       "    <tr style=\"text-align: right;\">\n",
       "      <th></th>\n",
       "      <th>state</th>\n",
       "      <th>act17_participation%</th>\n",
       "      <th>act18_participation%</th>\n",
       "      <th>act17_composite</th>\n",
       "      <th>act18_composite</th>\n",
       "      <th>sat17_participation%</th>\n",
       "      <th>sat18_participation%</th>\n",
       "      <th>sat17_total</th>\n",
       "      <th>sat18_total</th>\n",
       "    </tr>\n",
       "  </thead>\n",
       "  <tbody>\n",
       "    <tr>\n",
       "      <td>0</td>\n",
       "      <td>Alabama</td>\n",
       "      <td>100.0</td>\n",
       "      <td>100</td>\n",
       "      <td>19.2</td>\n",
       "      <td>19.1</td>\n",
       "      <td>5.0</td>\n",
       "      <td>6.0</td>\n",
       "      <td>1165</td>\n",
       "      <td>1166</td>\n",
       "    </tr>\n",
       "    <tr>\n",
       "      <td>1</td>\n",
       "      <td>Alaska</td>\n",
       "      <td>65.0</td>\n",
       "      <td>33</td>\n",
       "      <td>19.8</td>\n",
       "      <td>20.8</td>\n",
       "      <td>38.0</td>\n",
       "      <td>43.0</td>\n",
       "      <td>1080</td>\n",
       "      <td>1106</td>\n",
       "    </tr>\n",
       "    <tr>\n",
       "      <td>2</td>\n",
       "      <td>Arizona</td>\n",
       "      <td>62.0</td>\n",
       "      <td>66</td>\n",
       "      <td>19.7</td>\n",
       "      <td>19.2</td>\n",
       "      <td>30.0</td>\n",
       "      <td>29.0</td>\n",
       "      <td>1116</td>\n",
       "      <td>1149</td>\n",
       "    </tr>\n",
       "    <tr>\n",
       "      <td>3</td>\n",
       "      <td>Arkansas</td>\n",
       "      <td>100.0</td>\n",
       "      <td>100</td>\n",
       "      <td>19.4</td>\n",
       "      <td>19.4</td>\n",
       "      <td>3.0</td>\n",
       "      <td>5.0</td>\n",
       "      <td>1208</td>\n",
       "      <td>1169</td>\n",
       "    </tr>\n",
       "    <tr>\n",
       "      <td>4</td>\n",
       "      <td>California</td>\n",
       "      <td>31.0</td>\n",
       "      <td>27</td>\n",
       "      <td>22.8</td>\n",
       "      <td>22.7</td>\n",
       "      <td>53.0</td>\n",
       "      <td>60.0</td>\n",
       "      <td>1055</td>\n",
       "      <td>1076</td>\n",
       "    </tr>\n",
       "  </tbody>\n",
       "</table>\n",
       "</div>"
      ],
      "text/plain": [
       "        state  act17_participation%  act18_participation%  act17_composite  \\\n",
       "0     Alabama                 100.0                   100             19.2   \n",
       "1      Alaska                  65.0                    33             19.8   \n",
       "2     Arizona                  62.0                    66             19.7   \n",
       "3    Arkansas                 100.0                   100             19.4   \n",
       "4  California                  31.0                    27             22.8   \n",
       "\n",
       "   act18_composite  sat17_participation%  sat18_participation%  sat17_total  \\\n",
       "0             19.1                   5.0                   6.0         1165   \n",
       "1             20.8                  38.0                  43.0         1080   \n",
       "2             19.2                  30.0                  29.0         1116   \n",
       "3             19.4                   3.0                   5.0         1208   \n",
       "4             22.7                  53.0                  60.0         1055   \n",
       "\n",
       "   sat18_total  \n",
       "0         1166  \n",
       "1         1106  \n",
       "2         1149  \n",
       "3         1169  \n",
       "4         1076  "
      ]
     },
     "execution_count": 106,
     "metadata": {},
     "output_type": "execute_result"
    }
   ],
   "source": [
    "ascp.head()"
   ]
  },
  {
   "cell_type": "code",
   "execution_count": 107,
   "metadata": {},
   "outputs": [],
   "source": [
    "ascpcol = ['state', 'act17_participation%', 'act18_participation%',\n",
    "       'act17_composite', 'act18_composite', 'sat17_participation%',\n",
    "       'sat18_participation%', 'sat17_total', 'sat18_total']"
   ]
  },
  {
   "cell_type": "code",
   "execution_count": 108,
   "metadata": {},
   "outputs": [],
   "source": [
    "col = ['state', 'act17_participation%', 'act17_eng', 'act17_math',\n",
    "       'act17_reading', 'act17_sci', 'act17_composite', 'sat17_participation%',\n",
    "       'sat17_reading_writing', 'sat17_math', 'sat17_total',\n",
    "       'act18_participation%', 'act18_composite', 'act18_eng', 'act18_math',\n",
    "       'act18_reading', 'act18_sci', 'sat18_participation%',\n",
    "       'sat18_reading_writing', 'sat18_math', 'sat18_total']"
   ]
  },
  {
   "cell_type": "code",
   "execution_count": 109,
   "metadata": {},
   "outputs": [
    {
     "data": {
      "text/plain": [
       "{0: 'state',\n",
       " 1: 'act17_participation%',\n",
       " 2: 'act17_eng',\n",
       " 3: 'act17_math',\n",
       " 4: 'act17_reading',\n",
       " 5: 'act17_sci',\n",
       " 6: 'act17_composite',\n",
       " 7: 'sat17_participation%',\n",
       " 8: 'sat17_reading_writing',\n",
       " 9: 'sat17_math',\n",
       " 10: 'sat17_total',\n",
       " 11: 'act18_participation%',\n",
       " 12: 'act18_composite',\n",
       " 13: 'act18_eng',\n",
       " 14: 'act18_math',\n",
       " 15: 'act18_reading',\n",
       " 16: 'act18_sci',\n",
       " 17: 'sat18_participation%',\n",
       " 18: 'sat18_reading_writing',\n",
       " 19: 'sat18_math',\n",
       " 20: 'sat18_total'}"
      ]
     },
     "execution_count": 109,
     "metadata": {},
     "output_type": "execute_result"
    }
   ],
   "source": [
    "col2 = zip(list(range(0,22)),col)\n",
    "col2 = dict(col2)\n",
    "col2"
   ]
  },
  {
   "cell_type": "code",
   "execution_count": null,
   "metadata": {},
   "outputs": [],
   "source": []
  },
  {
   "cell_type": "markdown",
   "metadata": {},
   "source": [
    "#### Plot and interpret histograms \n",
    "For each of the following:\n",
    "- Participation rates for SAT & ACT\n",
    "- Math scores for SAT & ACT\n",
    "- Reading/verbal scores for SAT & ACT"
   ]
  },
  {
   "cell_type": "markdown",
   "metadata": {},
   "source": [
    "Participation histograms are above "
   ]
  },
  {
   "cell_type": "code",
   "execution_count": 110,
   "metadata": {},
   "outputs": [],
   "source": [
    "math= act_sat1718.iloc[:,[3,14,9,19]]\n",
    "verbal= act_sat1718.iloc[:,[4,8,15,18]]\n",
    "\n",
    "math1= act_sat1718.iloc[:,[3]]\n",
    "verbal1= act_sat1718.iloc[:,[4]]\n",
    "\n"
   ]
  },
  {
   "cell_type": "code",
   "execution_count": 111,
   "metadata": {},
   "outputs": [
    {
     "data": {
      "image/png": "[encoded data removed]",
      "text/plain": [
       "<Figure size 432x288 with 4 Axes>"
      ]
     },
     "metadata": {},
     "output_type": "display_data"
    }
   ],
   "source": [
    "#Testing this method (but not sure how below works) \n",
    "n_bins = 20\n",
    "\n",
    "x = act_sat1718.iloc[:,3]\n",
    "y = act_sat1718.iloc[:,4]\n",
    "a = act_sat1718.iloc[:,14]\n",
    "b = act_sat1718.iloc[:,8]\n",
    "\n",
    "fig, axs = plt.subplots(1,4, sharey=True, tight_layout=True)\n",
    "\n",
    "# We can set the number of bins with the `bins` kwarg\n",
    "axs[0].hist(x, bins=n_bins);\n",
    "axs[1].hist(y, bins=n_bins);\n",
    "axs[2].hist(a, bins=n_bins);\n",
    "axs[3].hist(b, bins=n_bins);"
   ]
  },
  {
   "cell_type": "code",
   "execution_count": 112,
   "metadata": {},
   "outputs": [
    {
     "data": {
      "text/plain": [
       "{0: 'state',\n",
       " 1: 'act17_participation%',\n",
       " 2: 'act17_eng',\n",
       " 3: 'act17_math',\n",
       " 4: 'act17_reading',\n",
       " 5: 'act17_sci',\n",
       " 6: 'act17_composite',\n",
       " 7: 'sat17_participation%',\n",
       " 8: 'sat17_reading_writing',\n",
       " 9: 'sat17_math',\n",
       " 10: 'sat17_total',\n",
       " 11: 'act18_participation%',\n",
       " 12: 'act18_composite',\n",
       " 13: 'act18_eng',\n",
       " 14: 'act18_math',\n",
       " 15: 'act18_reading',\n",
       " 16: 'act18_sci',\n",
       " 17: 'sat18_participation%',\n",
       " 18: 'sat18_reading_writing',\n",
       " 19: 'sat18_math',\n",
       " 20: 'sat18_total'}"
      ]
     },
     "execution_count": 112,
     "metadata": {},
     "output_type": "execute_result"
    }
   ],
   "source": [
    "col2"
   ]
  },
  {
   "cell_type": "markdown",
   "metadata": {},
   "source": [
    "Math scores for SAT & ACT"
   ]
  },
  {
   "cell_type": "code",
   "execution_count": 113,
   "metadata": {
    "scrolled": true
   },
   "outputs": [
    {
     "data": {
      "image/png": "[encoded data removed]",
      "text/plain": [
       "<Figure size 720x720 with 4 Axes>"
      ]
     },
     "metadata": {},
     "output_type": "display_data"
    }
   ],
   "source": [
    "math.hist(figsize=(10,10), bins=20);"
   ]
  },
  {
   "cell_type": "markdown",
   "metadata": {},
   "source": [
    "ACT 2017 and 2018 math scores appear to be bi-modal - there is a spike in the 15 range and another in the 23 range. There are many plausible reasons for this phenomenon. one possible reason could be that there are 2 main types of test takers - states with more serious test takers keen on college and another group who has been mandated to take the test / less serious (e.g. due to state regulation) with all other states falling somewhere in the middle  \n",
    "\n",
    "SAT 2017 and 2018 math scores are both slightly right skewed. \n"
   ]
  },
  {
   "cell_type": "markdown",
   "metadata": {},
   "source": [
    "Reading scores for SAT & ACT"
   ]
  },
  {
   "cell_type": "code",
   "execution_count": 114,
   "metadata": {
    "scrolled": false
   },
   "outputs": [
    {
     "data": {
      "image/png": "[encoded data removed]",
      "text/plain": [
       "<Figure size 432x432 with 4 Axes>"
      ]
     },
     "metadata": {},
     "output_type": "display_data"
    }
   ],
   "source": [
    "verbal.hist(figsize=(6,6));"
   ]
  },
  {
   "cell_type": "markdown",
   "metadata": {},
   "source": [
    "Both ACT 2017 and 2018 reading scores have a bi-modal distribution (20-21 and 25) \n",
    "\n",
    "Both SAT 2017 and 2018 reading/writing scores are bimodal too (540-550 and 640) SAT 2018 reading writing scores shifts to the right indicating overall improvement in scores.\n",
    "\n"
   ]
  },
  {
   "cell_type": "code",
   "execution_count": 115,
   "metadata": {},
   "outputs": [],
   "source": [
    "# Code"
   ]
  },
  {
   "cell_type": "markdown",
   "metadata": {},
   "source": [
    "#### Plot and interpret scatter plots\n",
    "\n",
    "For each of the following:\n",
    "- SAT vs. ACT math scores for 2017\n",
    "- SAT vs. ACT verbal/reading scores for 2017\n",
    "- SAT vs. ACT total/composite scores for 2017\n",
    "- Total scores for SAT 2017 vs. 2018\n",
    "- Composite scores for ACT 2017 vs. 2018\n",
    "\n",
    "Plot the two variables against each other using matplotlib or Seaborn\n",
    "\n",
    "Your plots should show:\n",
    "- Two clearly labeled axes\n",
    "- A proper title\n",
    "- Using colors and symbols that are clear and unmistakable\n",
    "\n",
    "**Feel free to write a custom function, and subplot if you'd like.** Functions save both time and space.\n"
   ]
  },
  {
   "cell_type": "code",
   "execution_count": 116,
   "metadata": {},
   "outputs": [],
   "source": [
    "total17 = act_sat1718.iloc[:,[6,10]]"
   ]
  },
  {
   "cell_type": "code",
   "execution_count": 117,
   "metadata": {
    "scrolled": false
   },
   "outputs": [
    {
     "data": {
      "image/png": "[encoded data removed]",
      "text/plain": [
       "<Figure size 432x288 with 1 Axes>"
      ]
     },
     "metadata": {},
     "output_type": "display_data"
    }
   ],
   "source": [
    "total17.plot(kind='scatter', x='act17_composite', y='sat17_total');"
   ]
  },
  {
   "cell_type": "code",
   "execution_count": 118,
   "metadata": {},
   "outputs": [
    {
     "data": {
      "image/png": "[encoded data removed]",
      "text/plain": [
       "<Figure size 432x288 with 1 Axes>"
      ]
     },
     "metadata": {},
     "output_type": "display_data"
    }
   ],
   "source": [
    "#reproducing the same graph using pyplot \n",
    "x= act_sat1718.iloc[:,[6]]\n",
    "y = act_sat1718.iloc[:,[10]]\n",
    "plt.scatter(x,y)\n",
    "plt.title(\"2017 SAT VS ACT Average Total/Composite Scores\")\n",
    "plt.xlabel(\"ACT Composite Scores\")\n",
    "plt.ylabel(\"SAT Total Scores\")\n",
    "plt.show()\n"
   ]
  },
  {
   "cell_type": "markdown",
   "metadata": {},
   "source": [
    "There is no apparent correlation between 2017 SAT and 2017 ACT total/composite scores "
   ]
  },
  {
   "cell_type": "code",
   "execution_count": 119,
   "metadata": {
    "scrolled": false
   },
   "outputs": [
    {
     "data": {
      "image/png": "[encoded data removed]",
      "text/plain": [
       "<Figure size 432x288 with 1 Axes>"
      ]
     },
     "metadata": {},
     "output_type": "display_data"
    }
   ],
   "source": [
    "x= act_sat1718.iloc[:,[10]]\n",
    "y = act_sat1718.iloc[:,[20]]\n",
    "plt.scatter(x,y)\n",
    "plt.title(\"2017 VS 2018 SAT Total Scores\")\n",
    "plt.xlabel(\"SAT 2017 Total Scores\")\n",
    "plt.ylabel(\"SAT 2018 Total Scores\")\n",
    "plt.show()"
   ]
  },
  {
   "cell_type": "markdown",
   "metadata": {},
   "source": [
    "There appears to be strong positive linear relationship between SAT 2017 and 2018 total scores "
   ]
  },
  {
   "cell_type": "code",
   "execution_count": 120,
   "metadata": {
    "scrolled": true
   },
   "outputs": [
    {
     "data": {
      "image/png": "[encoded data removed]",
      "text/plain": [
       "<Figure size 432x288 with 1 Axes>"
      ]
     },
     "metadata": {},
     "output_type": "display_data"
    }
   ],
   "source": [
    "x= act_sat1718.iloc[:,[1]]\n",
    "y = act_sat1718.iloc[:,[11]]\n",
    "plt.scatter(x,y)\n",
    "plt.title(\"2017 VS 2018 ACT Composite Scores\")\n",
    "plt.xlabel(\"ACT 2017 Composite Scores\")\n",
    "plt.ylabel(\"ACT 2018 Composite Scores\")\n",
    "plt.show()"
   ]
  },
  {
   "cell_type": "markdown",
   "metadata": {},
   "source": [
    "There appears to be strong positive linear relationship between ACT 2017 and ACT 2018 composite scores - not possible to comment on why this might be true without further testing "
   ]
  },
  {
   "cell_type": "code",
   "execution_count": 121,
   "metadata": {},
   "outputs": [
    {
     "data": {
      "image/png": "[encoded data removed]",
      "text/plain": [
       "<Figure size 432x288 with 1 Axes>"
      ]
     },
     "metadata": {},
     "output_type": "display_data"
    }
   ],
   "source": [
    "x= act_sat1718.iloc[:,[3]]\n",
    "y = act_sat1718.iloc[:,[9]]\n",
    "plt.scatter(x,y)\n",
    "plt.title(\"2017 SAT VS ACT Math Scores\")\n",
    "plt.xlabel(\"ACT 2017 Math Scores\")\n",
    "plt.ylabel(\"SAT 2017 Math Scores\")\n",
    "plt.show()"
   ]
  },
  {
   "cell_type": "markdown",
   "metadata": {},
   "source": [
    "There is no apparent correlation between 2017 SAT and 2017 ACT math scores "
   ]
  },
  {
   "cell_type": "code",
   "execution_count": 122,
   "metadata": {},
   "outputs": [
    {
     "data": {
      "text/plain": [
       "{0: 'state',\n",
       " 1: 'act17_participation%',\n",
       " 2: 'act17_eng',\n",
       " 3: 'act17_math',\n",
       " 4: 'act17_reading',\n",
       " 5: 'act17_sci',\n",
       " 6: 'act17_composite',\n",
       " 7: 'sat17_participation%',\n",
       " 8: 'sat17_reading_writing',\n",
       " 9: 'sat17_math',\n",
       " 10: 'sat17_total',\n",
       " 11: 'act18_participation%',\n",
       " 12: 'act18_composite',\n",
       " 13: 'act18_eng',\n",
       " 14: 'act18_math',\n",
       " 15: 'act18_reading',\n",
       " 16: 'act18_sci',\n",
       " 17: 'sat18_participation%',\n",
       " 18: 'sat18_reading_writing',\n",
       " 19: 'sat18_math',\n",
       " 20: 'sat18_total'}"
      ]
     },
     "execution_count": 122,
     "metadata": {},
     "output_type": "execute_result"
    }
   ],
   "source": [
    "col2"
   ]
  },
  {
   "cell_type": "markdown",
   "metadata": {},
   "source": [
    "#### Plot and interpret boxplots\n",
    "\n",
    "For each numeric variable in the dataframe create a boxplot using Seaborn. Boxplots demonstrate central tendency and spread in variables. In a certain sense, these are somewhat redundant with histograms, but you may be better able to identify clear outliers or differences in IQR, etc.\n",
    "\n",
    "Multiple values can be plotted to a single boxplot as long as they are of the same relative scale (meaning they have similar min/max values).\n",
    "\n",
    "Each boxplot should:\n",
    "- Only include variables of a similar scale\n",
    "- Have clear labels for each variable\n",
    "- Have appropriate titles and labels"
   ]
  },
  {
   "cell_type": "code",
   "execution_count": 123,
   "metadata": {
    "scrolled": true
   },
   "outputs": [
    {
     "data": {
      "image/png": "[encoded data removed]",
      "text/plain": [
       "<Figure size 432x288 with 1 Axes>"
      ]
     },
     "metadata": {},
     "output_type": "display_data"
    }
   ],
   "source": [
    "act_sat1718.boxplot(column='act17_participation%');\n",
    "#act_sat1718.act17_participation%.plot(kind='box');"
   ]
  },
  {
   "cell_type": "code",
   "execution_count": 124,
   "metadata": {},
   "outputs": [],
   "source": [
    "part = act_sat1718.iloc[:,[1,11,7,17]]"
   ]
  },
  {
   "cell_type": "markdown",
   "metadata": {},
   "source": [
    "Boxplots comparing ACT and SAT 2017 and 2018 participation rates "
   ]
  },
  {
   "cell_type": "code",
   "execution_count": 125,
   "metadata": {
    "scrolled": true
   },
   "outputs": [
    {
     "data": {
      "image/png": "[encoded data removed]",
      "text/plain": [
       "<Figure size 720x360 with 1 Axes>"
      ]
     },
     "metadata": {},
     "output_type": "display_data"
    }
   ],
   "source": [
    "part.boxplot(figsize=(10,5));"
   ]
  },
  {
   "cell_type": "markdown",
   "metadata": {},
   "source": [
    "same as above using trying out a different plot style "
   ]
  },
  {
   "cell_type": "code",
   "execution_count": 126,
   "metadata": {},
   "outputs": [
    {
     "data": {
      "image/png": "[encoded data removed]",
      "text/plain": [
       "<Figure size 432x288 with 1 Axes>"
      ]
     },
     "metadata": {},
     "output_type": "display_data"
    }
   ],
   "source": [
    "value1 = act_sat1718[\"act17_participation%\"]\n",
    "value2= act_sat1718[\"act18_participation%\"]\n",
    "value3= act_sat1718[\"sat17_participation%\"]\n",
    "value4= act_sat1718[\"sat18_participation%\"]\n",
    " \n",
    "box_plot_data=[value1,value2,value3,value4]\n",
    "box=plt.boxplot(box_plot_data,vert=0,patch_artist=True,labels=['ACT 2017 Partiticpation%','ACT 2018 Partiticpation%','SAT 2017 Partiticpation%','SAT 2018 Partiticpation%'],\n",
    "            )\n",
    " \n",
    "colors = ['cyan', 'lightblue', 'lightgreen', 'tan']\n",
    "for patch, color in zip(box['boxes'], colors):\n",
    "    patch.set_facecolor(color)\n",
    " \n",
    "plt.show()"
   ]
  },
  {
   "cell_type": "markdown",
   "metadata": {},
   "source": [
    "More than half the states taking the ACT in 2017 and 2018 had a participation rate that was equal to or higher than 75% of the states taking SAT in 2017. \n",
    "\n",
    "More than 25% of states had a 100% participation rate for the ACT in both 2017 and 2018.  \n",
    "\n",
    "States have a preference for taking the ACT over the SAT.\n",
    "\n",
    "\n"
   ]
  },
  {
   "cell_type": "code",
   "execution_count": 127,
   "metadata": {},
   "outputs": [],
   "source": [
    "ac_math = act_sat1718.iloc[:,[3,14]]\n",
    "sa_math = act_sat1718.iloc[:,[9,19]]"
   ]
  },
  {
   "cell_type": "code",
   "execution_count": 128,
   "metadata": {},
   "outputs": [
    {
     "data": {
      "image/png": "[encoded data removed]",
      "text/plain": [
       "<Figure size 432x288 with 1 Axes>"
      ]
     },
     "metadata": {},
     "output_type": "display_data"
    }
   ],
   "source": [
    "value1 = act_sat1718[\"act17_math\"]\n",
    "value2= act_sat1718[\"act18_math\"]\n",
    " \n",
    "box_plot_data=[value1,value2]\n",
    "plt.boxplot(box_plot_data,patch_artist=True,labels=['ACT 2017 Math Score','ACT 2018 Math Score'])\n",
    "plt.show()"
   ]
  },
  {
   "cell_type": "markdown",
   "metadata": {},
   "source": [
    "ACT math scores are roughly similar over both years. "
   ]
  },
  {
   "cell_type": "code",
   "execution_count": 129,
   "metadata": {},
   "outputs": [
    {
     "data": {
      "image/png": "[encoded data removed]",
      "text/plain": [
       "<Figure size 432x288 with 1 Axes>"
      ]
     },
     "metadata": {},
     "output_type": "display_data"
    }
   ],
   "source": [
    "value1 = act_sat1718[\"sat17_math\"]\n",
    "value2= act_sat1718[\"sat18_math\"]\n",
    " \n",
    "box_plot_data=[value1,value2]\n",
    "plt.boxplot(box_plot_data,patch_artist=True,labels=['SAT 2017 Math Score','SAT 2018 Math Score'])\n",
    "plt.show()"
   ]
  },
  {
   "cell_type": "markdown",
   "metadata": {},
   "source": [
    "Overall SAT math scores have improved from 2017 to 2018 - bottom 25% mark has increased \n",
    "\n"
   ]
  },
  {
   "cell_type": "code",
   "execution_count": 130,
   "metadata": {},
   "outputs": [
    {
     "data": {
      "image/png": "[encoded data removed]",
      "text/plain": [
       "<Figure size 432x288 with 1 Axes>"
      ]
     },
     "metadata": {},
     "output_type": "display_data"
    }
   ],
   "source": [
    "value1 = act_sat1718[\"sat17_total\"]\n",
    "value2= act_sat1718[\"sat18_total\"]\n",
    " \n",
    "box_plot_data=[value1,value2]\n",
    "plt.boxplot(box_plot_data,patch_artist=True,labels=['SAT 2017 Total Score','SAT 2018 Total Score'])\n",
    "plt.show()"
   ]
  },
  {
   "cell_type": "code",
   "execution_count": 131,
   "metadata": {},
   "outputs": [
    {
     "data": {
      "image/png": "[encoded data removed]",
      "text/plain": [
       "<Figure size 432x288 with 1 Axes>"
      ]
     },
     "metadata": {},
     "output_type": "display_data"
    }
   ],
   "source": [
    "value1 = act_sat1718[\"act17_composite\"]\n",
    "value2= act_sat1718[\"act18_composite\"]\n",
    " \n",
    "box_plot_data=[value1,value2]\n",
    "plt.boxplot(box_plot_data,patch_artist=True,labels=['ACT 2017 Composite Score','ACT 2018 Composite Score'])\n",
    "plt.show()"
   ]
  },
  {
   "cell_type": "code",
   "execution_count": null,
   "metadata": {},
   "outputs": [],
   "source": []
  },
  {
   "cell_type": "markdown",
   "metadata": {},
   "source": [
    "#### Feel free to do additional plots below\n",
    "*(do research and choose your own chart types & variables)*\n",
    "\n",
    "Are there any additional trends or relationships you haven't explored? Was there something interesting you saw that you'd like to dive further into? It's likely that there are a few more plots you might want to generate to support your narrative and recommendations that you are building toward. **As always, make sure you're interpreting your plots as you go**."
   ]
  },
  {
   "cell_type": "code",
   "execution_count": null,
   "metadata": {},
   "outputs": [],
   "source": []
  },
  {
   "cell_type": "markdown",
   "metadata": {},
   "source": [
    "#### (Optional): Using Tableau, create a choropleth map for each variable using a map of the US. \n",
    "\n",
    "Save this plot as an image file in an images directory, provide a relative path, and insert the image into notebook in markdown."
   ]
  },
  {
   "cell_type": "code",
   "execution_count": null,
   "metadata": {},
   "outputs": [],
   "source": []
  },
  {
   "cell_type": "markdown",
   "metadata": {},
   "source": [
    "## Descriptive and Inferential Statistics"
   ]
  },
  {
   "cell_type": "markdown",
   "metadata": {},
   "source": [
    "#### Summarizing Distributions\n",
    "\n",
    "Above, we used pandas `describe` to provide quick summary statistics of our numeric columns. We also demonstrated many visual relationships.\n",
    "\n",
    "As data scientists, having a complete understanding of data is imperative prior to modeling.\n",
    "\n",
    "While we will continue to build our analytic tools, we know that measures of *central tendency*, *spread*, and *shape/skewness* provide a quick summary of distributions.\n",
    "\n",
    "For each variable in your data, summarize the underlying distributions (in words & statistics)\n",
    " - Be thorough in your verbal description of these distributions.\n",
    " - Be sure to back up these summaries with statistics."
   ]
  },
  {
   "cell_type": "code",
   "execution_count": 132,
   "metadata": {},
   "outputs": [
    {
     "data": {
      "text/html": [
       "<div>\n",
       "<style scoped>\n",
       "    .dataframe tbody tr th:only-of-type {\n",
       "        vertical-align: middle;\n",
       "    }\n",
       "\n",
       "    .dataframe tbody tr th {\n",
       "        vertical-align: top;\n",
       "    }\n",
       "\n",
       "    .dataframe thead th {\n",
       "        text-align: right;\n",
       "    }\n",
       "</style>\n",
       "<table border=\"1\" class=\"dataframe\">\n",
       "  <thead>\n",
       "    <tr style=\"text-align: right;\">\n",
       "      <th></th>\n",
       "      <th>act17_participation%</th>\n",
       "      <th>act17_eng</th>\n",
       "      <th>act17_math</th>\n",
       "      <th>act17_reading</th>\n",
       "      <th>act17_sci</th>\n",
       "      <th>act17_composite</th>\n",
       "      <th>sat17_participation%</th>\n",
       "      <th>sat17_reading_writing</th>\n",
       "      <th>sat17_math</th>\n",
       "      <th>sat17_total</th>\n",
       "      <th>act18_participation%</th>\n",
       "      <th>act18_composite</th>\n",
       "      <th>act18_eng</th>\n",
       "      <th>act18_math</th>\n",
       "      <th>act18_reading</th>\n",
       "      <th>act18_sci</th>\n",
       "      <th>sat18_participation%</th>\n",
       "      <th>sat18_reading_writing</th>\n",
       "      <th>sat18_math</th>\n",
       "      <th>sat18_total</th>\n",
       "    </tr>\n",
       "  </thead>\n",
       "  <tbody>\n",
       "    <tr>\n",
       "      <td>count</td>\n",
       "      <td>51.000000</td>\n",
       "      <td>51.000000</td>\n",
       "      <td>51.000000</td>\n",
       "      <td>51.000000</td>\n",
       "      <td>51.000000</td>\n",
       "      <td>51.000000</td>\n",
       "      <td>51.000000</td>\n",
       "      <td>51.000000</td>\n",
       "      <td>51.000000</td>\n",
       "      <td>51.000000</td>\n",
       "      <td>51.000000</td>\n",
       "      <td>51.000000</td>\n",
       "      <td>51.000000</td>\n",
       "      <td>51.000000</td>\n",
       "      <td>51.000000</td>\n",
       "      <td>51.000000</td>\n",
       "      <td>51.000000</td>\n",
       "      <td>51.000000</td>\n",
       "      <td>51.000000</td>\n",
       "      <td>51.000000</td>\n",
       "    </tr>\n",
       "    <tr>\n",
       "      <td>mean</td>\n",
       "      <td>65.254902</td>\n",
       "      <td>20.931373</td>\n",
       "      <td>21.182353</td>\n",
       "      <td>22.013725</td>\n",
       "      <td>21.450980</td>\n",
       "      <td>21.519608</td>\n",
       "      <td>39.803922</td>\n",
       "      <td>569.117647</td>\n",
       "      <td>556.882353</td>\n",
       "      <td>1126.098039</td>\n",
       "      <td>61.647059</td>\n",
       "      <td>21.486275</td>\n",
       "      <td>20.988235</td>\n",
       "      <td>21.125490</td>\n",
       "      <td>22.015686</td>\n",
       "      <td>21.345098</td>\n",
       "      <td>45.745098</td>\n",
       "      <td>563.686275</td>\n",
       "      <td>556.235294</td>\n",
       "      <td>1120.019608</td>\n",
       "    </tr>\n",
       "    <tr>\n",
       "      <td>std</td>\n",
       "      <td>32.140842</td>\n",
       "      <td>2.353677</td>\n",
       "      <td>1.981989</td>\n",
       "      <td>2.067271</td>\n",
       "      <td>1.739353</td>\n",
       "      <td>2.020695</td>\n",
       "      <td>35.276632</td>\n",
       "      <td>45.666901</td>\n",
       "      <td>47.121395</td>\n",
       "      <td>92.494812</td>\n",
       "      <td>34.080976</td>\n",
       "      <td>2.106278</td>\n",
       "      <td>2.446356</td>\n",
       "      <td>2.035765</td>\n",
       "      <td>2.167245</td>\n",
       "      <td>1.870114</td>\n",
       "      <td>37.314256</td>\n",
       "      <td>47.502627</td>\n",
       "      <td>47.772623</td>\n",
       "      <td>94.155083</td>\n",
       "    </tr>\n",
       "    <tr>\n",
       "      <td>min</td>\n",
       "      <td>8.000000</td>\n",
       "      <td>16.300000</td>\n",
       "      <td>18.000000</td>\n",
       "      <td>18.100000</td>\n",
       "      <td>18.200000</td>\n",
       "      <td>17.800000</td>\n",
       "      <td>2.000000</td>\n",
       "      <td>482.000000</td>\n",
       "      <td>468.000000</td>\n",
       "      <td>950.000000</td>\n",
       "      <td>7.000000</td>\n",
       "      <td>17.700000</td>\n",
       "      <td>16.600000</td>\n",
       "      <td>17.800000</td>\n",
       "      <td>18.000000</td>\n",
       "      <td>17.900000</td>\n",
       "      <td>2.000000</td>\n",
       "      <td>480.000000</td>\n",
       "      <td>480.000000</td>\n",
       "      <td>977.000000</td>\n",
       "    </tr>\n",
       "    <tr>\n",
       "      <td>25%</td>\n",
       "      <td>31.000000</td>\n",
       "      <td>19.000000</td>\n",
       "      <td>19.400000</td>\n",
       "      <td>20.450000</td>\n",
       "      <td>19.950000</td>\n",
       "      <td>19.800000</td>\n",
       "      <td>4.000000</td>\n",
       "      <td>533.500000</td>\n",
       "      <td>523.500000</td>\n",
       "      <td>1055.500000</td>\n",
       "      <td>28.500000</td>\n",
       "      <td>19.950000</td>\n",
       "      <td>19.100000</td>\n",
       "      <td>19.400000</td>\n",
       "      <td>20.450000</td>\n",
       "      <td>19.850000</td>\n",
       "      <td>4.500000</td>\n",
       "      <td>534.500000</td>\n",
       "      <td>522.500000</td>\n",
       "      <td>1057.500000</td>\n",
       "    </tr>\n",
       "    <tr>\n",
       "      <td>50%</td>\n",
       "      <td>69.000000</td>\n",
       "      <td>20.700000</td>\n",
       "      <td>20.900000</td>\n",
       "      <td>21.800000</td>\n",
       "      <td>21.300000</td>\n",
       "      <td>21.400000</td>\n",
       "      <td>38.000000</td>\n",
       "      <td>559.000000</td>\n",
       "      <td>548.000000</td>\n",
       "      <td>1107.000000</td>\n",
       "      <td>66.000000</td>\n",
       "      <td>21.300000</td>\n",
       "      <td>20.200000</td>\n",
       "      <td>20.700000</td>\n",
       "      <td>21.600000</td>\n",
       "      <td>21.100000</td>\n",
       "      <td>52.000000</td>\n",
       "      <td>552.000000</td>\n",
       "      <td>544.000000</td>\n",
       "      <td>1098.000000</td>\n",
       "    </tr>\n",
       "    <tr>\n",
       "      <td>75%</td>\n",
       "      <td>100.000000</td>\n",
       "      <td>23.300000</td>\n",
       "      <td>23.100000</td>\n",
       "      <td>24.150000</td>\n",
       "      <td>23.200000</td>\n",
       "      <td>23.600000</td>\n",
       "      <td>66.000000</td>\n",
       "      <td>613.000000</td>\n",
       "      <td>599.000000</td>\n",
       "      <td>1212.000000</td>\n",
       "      <td>100.000000</td>\n",
       "      <td>23.550000</td>\n",
       "      <td>23.700000</td>\n",
       "      <td>23.150000</td>\n",
       "      <td>24.100000</td>\n",
       "      <td>23.050000</td>\n",
       "      <td>77.500000</td>\n",
       "      <td>610.500000</td>\n",
       "      <td>593.500000</td>\n",
       "      <td>1204.000000</td>\n",
       "    </tr>\n",
       "    <tr>\n",
       "      <td>max</td>\n",
       "      <td>100.000000</td>\n",
       "      <td>25.500000</td>\n",
       "      <td>25.300000</td>\n",
       "      <td>26.000000</td>\n",
       "      <td>24.900000</td>\n",
       "      <td>25.500000</td>\n",
       "      <td>100.000000</td>\n",
       "      <td>644.000000</td>\n",
       "      <td>651.000000</td>\n",
       "      <td>1295.000000</td>\n",
       "      <td>100.000000</td>\n",
       "      <td>25.600000</td>\n",
       "      <td>26.000000</td>\n",
       "      <td>25.200000</td>\n",
       "      <td>26.100000</td>\n",
       "      <td>24.900000</td>\n",
       "      <td>100.000000</td>\n",
       "      <td>643.000000</td>\n",
       "      <td>655.000000</td>\n",
       "      <td>1298.000000</td>\n",
       "    </tr>\n",
       "  </tbody>\n",
       "</table>\n",
       "</div>"
      ],
      "text/plain": [
       "       act17_participation%  act17_eng  act17_math  act17_reading  act17_sci  \\\n",
       "count             51.000000  51.000000   51.000000      51.000000  51.000000   \n",
       "mean              65.254902  20.931373   21.182353      22.013725  21.450980   \n",
       "std               32.140842   2.353677    1.981989       2.067271   1.739353   \n",
       "min                8.000000  16.300000   18.000000      18.100000  18.200000   \n",
       "25%               31.000000  19.000000   19.400000      20.450000  19.950000   \n",
       "50%               69.000000  20.700000   20.900000      21.800000  21.300000   \n",
       "75%              100.000000  23.300000   23.100000      24.150000  23.200000   \n",
       "max              100.000000  25.500000   25.300000      26.000000  24.900000   \n",
       "\n",
       "       act17_composite  sat17_participation%  sat17_reading_writing  \\\n",
       "count        51.000000             51.000000              51.000000   \n",
       "mean         21.519608             39.803922             569.117647   \n",
       "std           2.020695             35.276632              45.666901   \n",
       "min          17.800000              2.000000             482.000000   \n",
       "25%          19.800000              4.000000             533.500000   \n",
       "50%          21.400000             38.000000             559.000000   \n",
       "75%          23.600000             66.000000             613.000000   \n",
       "max          25.500000            100.000000             644.000000   \n",
       "\n",
       "       sat17_math  sat17_total  act18_participation%  act18_composite  \\\n",
       "count   51.000000    51.000000             51.000000        51.000000   \n",
       "mean   556.882353  1126.098039             61.647059        21.486275   \n",
       "std     47.121395    92.494812             34.080976         2.106278   \n",
       "min    468.000000   950.000000              7.000000        17.700000   \n",
       "25%    523.500000  1055.500000             28.500000        19.950000   \n",
       "50%    548.000000  1107.000000             66.000000        21.300000   \n",
       "75%    599.000000  1212.000000            100.000000        23.550000   \n",
       "max    651.000000  1295.000000            100.000000        25.600000   \n",
       "\n",
       "       act18_eng  act18_math  act18_reading  act18_sci  sat18_participation%  \\\n",
       "count  51.000000   51.000000      51.000000  51.000000             51.000000   \n",
       "mean   20.988235   21.125490      22.015686  21.345098             45.745098   \n",
       "std     2.446356    2.035765       2.167245   1.870114             37.314256   \n",
       "min    16.600000   17.800000      18.000000  17.900000              2.000000   \n",
       "25%    19.100000   19.400000      20.450000  19.850000              4.500000   \n",
       "50%    20.200000   20.700000      21.600000  21.100000             52.000000   \n",
       "75%    23.700000   23.150000      24.100000  23.050000             77.500000   \n",
       "max    26.000000   25.200000      26.100000  24.900000            100.000000   \n",
       "\n",
       "       sat18_reading_writing  sat18_math  sat18_total  \n",
       "count              51.000000   51.000000    51.000000  \n",
       "mean              563.686275  556.235294  1120.019608  \n",
       "std                47.502627   47.772623    94.155083  \n",
       "min               480.000000  480.000000   977.000000  \n",
       "25%               534.500000  522.500000  1057.500000  \n",
       "50%               552.000000  544.000000  1098.000000  \n",
       "75%               610.500000  593.500000  1204.000000  \n",
       "max               643.000000  655.000000  1298.000000  "
      ]
     },
     "execution_count": 132,
     "metadata": {},
     "output_type": "execute_result"
    }
   ],
   "source": [
    "act_sat1718.describe()"
   ]
  },
  {
   "cell_type": "code",
   "execution_count": 133,
   "metadata": {
    "scrolled": false
   },
   "outputs": [
    {
     "data": {
      "text/plain": [
       "0    513\n",
       "1    547\n",
       "2    633\n",
       "dtype: int64"
      ]
     },
     "execution_count": 133,
     "metadata": {},
     "output_type": "execute_result"
    }
   ],
   "source": [
    "act_sat1718[\"sat18_reading_writing\"].mode()"
   ]
  },
  {
   "cell_type": "markdown",
   "metadata": {},
   "source": [
    "Answers: (only going to describe the more interesting observations) \n",
    "\n",
    "1) SAT 2017 Participation %: \n",
    "SAT participation% for the 51 states form a continuous exponential distribution. Mode is 3% participation. \n",
    "\n",
    "Median of 38% is slightly lower than the mean of 39.8%, implying that data is slightly right-skewed. \n",
    "\n",
    "Wide range from 2-100% participation rate, with interquartile range (4-66%) implying that the data is quite spread out about the median (38%) We can infer that the middle 'half' of the data is leaning towards a lower participation rate (<66%) and aligns with implied right-skewness based on said median-mean comparison.\n",
    "\n",
    "2) ACT 2017 Participation %:\n",
    "ACT participation% for the 51 states form a continuous exponential distribution. Its mode is a 100% participation rate.\n",
    "\n",
    "Median of 68% is slightly higher than the mean of 65.1%, implying that data is slightly left-skewed. ACT 17 participation is bimodal (30% range and 100% - which gives the mean of 65.1% - this is slightly deceptive as it gives the impression that on average most states have an average participation rate of 65%, which is not the case)\n",
    "\n",
    "Wide range from 8-100% participation rate, with interquartile range (31-100%) implying that the data is quite spread out about the median (68%) We can infer that the middle 'half' of the data is leaning towards a higher participation rate (>31%) and aligns with implied left-skewness based on median mean comparison.\n",
    "\n",
    "3) 2017 and 2018 SAT and ACT participation rates against the total/composite scores:\n",
    "\n",
    "SAT 17 participation % is right skewed. (as above)\n",
    "SAT 17 total scores are bi-modal too(1050-1100 and 1250) Mean:1126  Mode: 1005,1052 and 1116 Median: 1107\n",
    "\n",
    "SAT 18 participation % is right skewed. Mean:45.7%   Mode:3,4%   Median: 52%\n",
    "SAT 18 total scores are bi-modal too(1050-1100 and 1250) Mean: 1120   Mode:1010,1099,1117,1265  Median: 1098\n",
    "\n",
    "ACT 17 participation is bimodal (30% range and 100%). (as above)\n",
    "ACT 17 composite scores are bimodal as well (19-21 and 23-25). Mean:21.5   Mode:20,20.3,23.9  Median:21.3\n",
    "\n",
    "ACT 18 participation is bimodal (30% range and 100%). Mean:61.6   Median: 66\n",
    "ACT 18 composite scores are bimodal as well (19-21 and 23-24). Mean:21.4   Mode:20,20.3,23.9   Median:21.3 \n",
    "\n",
    "Based on the boxplot diagrams, more than half the states taking the ACT in 2017 and 2018 had a participation rate that was equal to or higher than 75% of the states taking SAT in 2017. \n",
    "\n",
    "More than 25% of states had a 100% participation rate for the ACT in both 2017 and 2018.  \n",
    "\n",
    "States have a preference for taking the ACT over the SAT.\n",
    "\n",
    "There is some evidence of 'inversion' of frequencies between participation rates and total/composite scores of ACT/SAT for both 2017 and 2018 - meaning that increasing participation fall in line with a fall in the frequency of higher scores. \n",
    "\n",
    "This could be due to the fact that participation rates were high in states where taking these tests were compulsory - meaning that even students who weren't prepared or interested had to take it, naturally leading to an increase in frequnecy of lower scores. conversely, in states where the tests are not mandated, only students who are interested/ better prepared will sit for these tests, leading to a higher frequency of higher test scores. \n",
    "\n",
    "4) ACT 2017 and 2018 math scores  \n",
    "\n",
    "ACT 2017 and 2018 math scores appear to be right skewed. \n",
    "ACT 2017 Math: Mode: 19.4 Mean:21.1 Median: 20.9 \n",
    "ACT 2018 Math: Mode: 19.7, 20.3, 23.6 Mean: 21.1 Median: 20.7. ACT 2018 math scores are bi(tri)-modal. \n",
    "\n",
    "SAT 2017 and 2018 math scores are both slightly right skewed. \n",
    "SAT 2017 Math: Mode: 524 Mean:556.8 Median: 548 \n",
    "SAT 2018 Math: Mode: 506,530,547,618,631 Mean: 556.2 Median: 544\n",
    "\n",
    "5) ACT 2017 and 2018 Reading scores \n",
    "\n",
    "Both ACT 2017 and 2018 reading scores have a bi-modal distribution (20-21 and 25) \n",
    "ACT 2017 Reading: Mode:20.1,20.8  Mean:22 Median: 21.8 \n",
    "ACT 2018 Reading: Mode:24.7  Mean:22  Median:21.6\n",
    "                \n",
    "Both SAT 2017 and 2018 reading/writing scores are bimodal too (540-550 and 640) SAT 2018 reading writing scores shifts to the right indicating overall improvement in scores.\n",
    "SAT 2017 Reading: Mode:513,530  Mean: 569 Median:559  \n",
    "SAT 2018 Reading: Mode:512,547,633  Mean: 563.6  Median: 552\n"
   ]
  },
  {
   "cell_type": "markdown",
   "metadata": {},
   "source": [
    "#### We generally assuming that data we sample from a population will be normally distributed. Do we observe this trend?"
   ]
  },
  {
   "cell_type": "markdown",
   "metadata": {},
   "source": [
    "Answer: The metrics in this dataset are almost all not normally distributed. \n"
   ]
  },
  {
   "cell_type": "markdown",
   "metadata": {},
   "source": [
    "Does This Assumption Hold for:\n",
    "    - Math\n",
    "    - Reading\n",
    "    - Rates\n",
    "Explain your answers for each distribution and how you think this will affect estimates made from these data."
   ]
  },
  {
   "cell_type": "markdown",
   "metadata": {},
   "source": [
    "Answer: \n",
    "\n",
    "1) ACT 2017 and 2018 math scores\n",
    "\n",
    "ACT 2017 and 2018 math scores appear to be bi-modal - there is a spike in the 15 range and another in the 23 range.\n",
    "\n",
    "SAT 2017 and 2018 math scores are both slightly right skewed.\n",
    "\n",
    "2) ACT 2017 and 2018 Reading scores\n",
    "\n",
    "Both ACT 2017 and 2018 reading scores have a bi-modal distribution (20-21 and 25)\n",
    "\n",
    "Both SAT 2017 and 2018 reading/writing scores are bimodal too (540-550 and 640) SAT 2018 reading writing scores shifts to the right indicating overall improvement in scores.\n",
    "\n",
    "3) Rates:\n",
    "\n",
    "SAT 17 participation % is right skewed. (as above) SAT 17 total scores are bi-modal too(1050-1100 and 1250)\n",
    "\n",
    "SAT 18 participation % is right skewed. SAT 18 total scores are bi-modal too(1050-1100 and 1250)\n",
    "\n",
    "ACT 17 participation is bimodal (30% range and 100%). ACT 17 composite scores are bimodal as well (19-21 and 23-25).\n",
    "\n",
    "ACT 18 participation is bimodal (30% range and 100%). ACT 18 composite scores are bimodal as well (19-21 and 23-24).\n",
    "\n",
    "\n",
    "Implication: Bimodality results in a deceptive mean value that could be interepreted as being participation/math/reading scores that each country would have on average however this is not the case as the increased density of values in a lower and higher range results in this mean value. \n"
   ]
  },
  {
   "cell_type": "markdown",
   "metadata": {},
   "source": [
    "#### Estimate Limits of Data\n",
    "\n",
    "Suppose we only seek to understand the relationship between SAT and ACT participation rates in 2017. \n",
    "\n",
    "##### Does it make sense to conduct statistical inference given these data specifically? \n",
    "\n",
    "Why or why not?\n",
    "\n",
    "*(think about granularity, aggregation, the relationships between populations size & rates...consider the actually populations these data describe in answering this question)*"
   ]
  },
  {
   "cell_type": "markdown",
   "metadata": {},
   "source": [
    "Answer: No. Just looking at the SAT and ACT participation scores in one particular year alone will not yield any meaningful comparisons as it is a singular data point. Studying relationships between variables is more meaningful when N-observations are collected over a period of time such that N is big enough to establish a statistically significant result. SAT and ACT participation scores should also not be studied in isolation as there could be various other factors that could be affecting these scores that are not directly related to each other e.g. state specific laws, changes in population distribution etc. \n"
   ]
  },
  {
   "cell_type": "markdown",
   "metadata": {},
   "source": [
    "##### Is it appropriate to compare *these* specific SAT and ACT math scores? \n",
    "\n",
    "Why or why not?"
   ]
  },
  {
   "cell_type": "markdown",
   "metadata": {},
   "source": [
    "Answer:\n",
    "\n",
    "Same answer as above. Additionally, SAT and ACT scores are scaled differently which might make any interpretation of thier relationship difficult. e.g. increase ACT score by 1 is much more significant than a like increase for SAT."
   ]
  },
  {
   "cell_type": "markdown",
   "metadata": {},
   "source": [
    "#### Statistical Evaluation of Distributions \n",
    "\n",
    "**If you feel it's appropriate**, using methods we discussed in class, run hypothesis tests to compare variables of interest in our dataset. "
   ]
  },
  {
   "cell_type": "code",
   "execution_count": 134,
   "metadata": {},
   "outputs": [],
   "source": [
    "# Code:"
   ]
  },
  {
   "cell_type": "markdown",
   "metadata": {},
   "source": [
    "## Outside Research"
   ]
  },
  {
   "cell_type": "markdown",
   "metadata": {},
   "source": [
    "Based upon your observations, choose **three** states that demonstrate interesting trends in their SAT and/or ACT participation rates. Spend some time doing outside research on state policies that might influence these rates, and summarize your findings below. **Feel free to go back and create new plots that highlight these states of interest**. If you bring in any outside tables or charts, make sure you are explicit about having borrowed them. If you quote any text, make sure that it renders as being quoted. (Make sure that you cite your sources -- check with you local instructor for citation preferences)."
   ]
  },
  {
   "cell_type": "code",
   "execution_count": null,
   "metadata": {},
   "outputs": [],
   "source": []
  },
  {
   "cell_type": "markdown",
   "metadata": {},
   "source": [
    "## Conclusions and Recommendations"
   ]
  },
  {
   "cell_type": "markdown",
   "metadata": {},
   "source": [
    "Based on your exploration of the data, what are you key takeaways and recommendations? Choose one state with a lower participation rate and provide a suggestion for how the College Board might increase participation amongst graduating seniors in this state. Are there additional data you desire that would better inform your investigations?"
   ]
  },
  {
   "cell_type": "markdown",
   "metadata": {},
   "source": [
    "Gradually filtering by different criteria: "
   ]
  },
  {
   "cell_type": "markdown",
   "metadata": {},
   "source": [
    "Filtering by ACT & SAT 2017 and 2018 participation rates <= 50"
   ]
  },
  {
   "cell_type": "code",
   "execution_count": 135,
   "metadata": {
    "scrolled": true
   },
   "outputs": [
    {
     "data": {
      "text/html": [
       "<div>\n",
       "<style scoped>\n",
       "    .dataframe tbody tr th:only-of-type {\n",
       "        vertical-align: middle;\n",
       "    }\n",
       "\n",
       "    .dataframe tbody tr th {\n",
       "        vertical-align: top;\n",
       "    }\n",
       "\n",
       "    .dataframe thead th {\n",
       "        text-align: right;\n",
       "    }\n",
       "</style>\n",
       "<table border=\"1\" class=\"dataframe\">\n",
       "  <thead>\n",
       "    <tr style=\"text-align: right;\">\n",
       "      <th></th>\n",
       "      <th>state</th>\n",
       "      <th>act17_participation%</th>\n",
       "      <th>act17_eng</th>\n",
       "      <th>act17_math</th>\n",
       "      <th>act17_reading</th>\n",
       "      <th>act17_sci</th>\n",
       "      <th>act17_composite</th>\n",
       "      <th>sat17_participation%</th>\n",
       "      <th>sat17_reading_writing</th>\n",
       "      <th>sat17_math</th>\n",
       "      <th>...</th>\n",
       "      <th>act18_participation%</th>\n",
       "      <th>act18_composite</th>\n",
       "      <th>act18_eng</th>\n",
       "      <th>act18_math</th>\n",
       "      <th>act18_reading</th>\n",
       "      <th>act18_sci</th>\n",
       "      <th>sat18_participation%</th>\n",
       "      <th>sat18_reading_writing</th>\n",
       "      <th>sat18_math</th>\n",
       "      <th>sat18_total</th>\n",
       "    </tr>\n",
       "  </thead>\n",
       "  <tbody>\n",
       "    <tr>\n",
       "      <td>37</td>\n",
       "      <td>Oregon</td>\n",
       "      <td>40.0</td>\n",
       "      <td>21.2</td>\n",
       "      <td>21.5</td>\n",
       "      <td>22.4</td>\n",
       "      <td>21.7</td>\n",
       "      <td>21.8</td>\n",
       "      <td>43.0</td>\n",
       "      <td>560</td>\n",
       "      <td>548</td>\n",
       "      <td>...</td>\n",
       "      <td>42</td>\n",
       "      <td>21.3</td>\n",
       "      <td>20.6</td>\n",
       "      <td>20.9</td>\n",
       "      <td>21.9</td>\n",
       "      <td>21.1</td>\n",
       "      <td>48.0</td>\n",
       "      <td>564</td>\n",
       "      <td>553</td>\n",
       "      <td>1117</td>\n",
       "    </tr>\n",
       "  </tbody>\n",
       "</table>\n",
       "<p>1 rows × 21 columns</p>\n",
       "</div>"
      ],
      "text/plain": [
       "     state  act17_participation%  act17_eng  act17_math  act17_reading  \\\n",
       "37  Oregon                  40.0       21.2        21.5           22.4   \n",
       "\n",
       "    act17_sci  act17_composite  sat17_participation%  sat17_reading_writing  \\\n",
       "37       21.7             21.8                  43.0                    560   \n",
       "\n",
       "    sat17_math  ...  act18_participation%  act18_composite  act18_eng  \\\n",
       "37         548  ...                    42             21.3       20.6   \n",
       "\n",
       "    act18_math  act18_reading  act18_sci  sat18_participation%  \\\n",
       "37        20.9           21.9       21.1                  48.0   \n",
       "\n",
       "    sat18_reading_writing  sat18_math  sat18_total  \n",
       "37                    564         553         1117  \n",
       "\n",
       "[1 rows x 21 columns]"
      ]
     },
     "execution_count": 135,
     "metadata": {},
     "output_type": "execute_result"
    }
   ],
   "source": [
    "act_sat1718[(act_sat1718[\"act17_participation%\"] <= 50) & (act_sat1718[\"act18_participation%\"] <= 50) & (act_sat1718[\"sat17_participation%\"] <= 50) & (act_sat1718[\"sat18_participation%\"] <= 50)]"
   ]
  },
  {
   "cell_type": "markdown",
   "metadata": {},
   "source": [
    "Filtering by ACT & SAT 2017 and 2018 participation rates <= 60"
   ]
  },
  {
   "cell_type": "code",
   "execution_count": 136,
   "metadata": {},
   "outputs": [
    {
     "data": {
      "text/html": [
       "<div>\n",
       "<style scoped>\n",
       "    .dataframe tbody tr th:only-of-type {\n",
       "        vertical-align: middle;\n",
       "    }\n",
       "\n",
       "    .dataframe tbody tr th {\n",
       "        vertical-align: top;\n",
       "    }\n",
       "\n",
       "    .dataframe thead th {\n",
       "        text-align: right;\n",
       "    }\n",
       "</style>\n",
       "<table border=\"1\" class=\"dataframe\">\n",
       "  <thead>\n",
       "    <tr style=\"text-align: right;\">\n",
       "      <th></th>\n",
       "      <th>4</th>\n",
       "      <th>37</th>\n",
       "    </tr>\n",
       "  </thead>\n",
       "  <tbody>\n",
       "    <tr>\n",
       "      <td>state</td>\n",
       "      <td>California</td>\n",
       "      <td>Oregon</td>\n",
       "    </tr>\n",
       "    <tr>\n",
       "      <td>act17_participation%</td>\n",
       "      <td>31</td>\n",
       "      <td>40</td>\n",
       "    </tr>\n",
       "    <tr>\n",
       "      <td>act17_eng</td>\n",
       "      <td>22.5</td>\n",
       "      <td>21.2</td>\n",
       "    </tr>\n",
       "    <tr>\n",
       "      <td>act17_math</td>\n",
       "      <td>22.7</td>\n",
       "      <td>21.5</td>\n",
       "    </tr>\n",
       "    <tr>\n",
       "      <td>act17_reading</td>\n",
       "      <td>23.1</td>\n",
       "      <td>22.4</td>\n",
       "    </tr>\n",
       "    <tr>\n",
       "      <td>act17_sci</td>\n",
       "      <td>22.2</td>\n",
       "      <td>21.7</td>\n",
       "    </tr>\n",
       "    <tr>\n",
       "      <td>act17_composite</td>\n",
       "      <td>22.8</td>\n",
       "      <td>21.8</td>\n",
       "    </tr>\n",
       "    <tr>\n",
       "      <td>sat17_participation%</td>\n",
       "      <td>53</td>\n",
       "      <td>43</td>\n",
       "    </tr>\n",
       "    <tr>\n",
       "      <td>sat17_reading_writing</td>\n",
       "      <td>531</td>\n",
       "      <td>560</td>\n",
       "    </tr>\n",
       "    <tr>\n",
       "      <td>sat17_math</td>\n",
       "      <td>524</td>\n",
       "      <td>548</td>\n",
       "    </tr>\n",
       "    <tr>\n",
       "      <td>sat17_total</td>\n",
       "      <td>1055</td>\n",
       "      <td>1108</td>\n",
       "    </tr>\n",
       "    <tr>\n",
       "      <td>act18_participation%</td>\n",
       "      <td>27</td>\n",
       "      <td>42</td>\n",
       "    </tr>\n",
       "    <tr>\n",
       "      <td>act18_composite</td>\n",
       "      <td>22.7</td>\n",
       "      <td>21.3</td>\n",
       "    </tr>\n",
       "    <tr>\n",
       "      <td>act18_eng</td>\n",
       "      <td>22.5</td>\n",
       "      <td>20.6</td>\n",
       "    </tr>\n",
       "    <tr>\n",
       "      <td>act18_math</td>\n",
       "      <td>22.5</td>\n",
       "      <td>20.9</td>\n",
       "    </tr>\n",
       "    <tr>\n",
       "      <td>act18_reading</td>\n",
       "      <td>23</td>\n",
       "      <td>21.9</td>\n",
       "    </tr>\n",
       "    <tr>\n",
       "      <td>act18_sci</td>\n",
       "      <td>22.1</td>\n",
       "      <td>21.1</td>\n",
       "    </tr>\n",
       "    <tr>\n",
       "      <td>sat18_participation%</td>\n",
       "      <td>60</td>\n",
       "      <td>48</td>\n",
       "    </tr>\n",
       "    <tr>\n",
       "      <td>sat18_reading_writing</td>\n",
       "      <td>540</td>\n",
       "      <td>564</td>\n",
       "    </tr>\n",
       "    <tr>\n",
       "      <td>sat18_math</td>\n",
       "      <td>536</td>\n",
       "      <td>553</td>\n",
       "    </tr>\n",
       "    <tr>\n",
       "      <td>sat18_total</td>\n",
       "      <td>1076</td>\n",
       "      <td>1117</td>\n",
       "    </tr>\n",
       "  </tbody>\n",
       "</table>\n",
       "</div>"
      ],
      "text/plain": [
       "                               4       37\n",
       "state                  California  Oregon\n",
       "act17_participation%           31      40\n",
       "act17_eng                    22.5    21.2\n",
       "act17_math                   22.7    21.5\n",
       "act17_reading                23.1    22.4\n",
       "act17_sci                    22.2    21.7\n",
       "act17_composite              22.8    21.8\n",
       "sat17_participation%           53      43\n",
       "sat17_reading_writing         531     560\n",
       "sat17_math                    524     548\n",
       "sat17_total                  1055    1108\n",
       "act18_participation%           27      42\n",
       "act18_composite              22.7    21.3\n",
       "act18_eng                    22.5    20.6\n",
       "act18_math                   22.5    20.9\n",
       "act18_reading                  23    21.9\n",
       "act18_sci                    22.1    21.1\n",
       "sat18_participation%           60      48\n",
       "sat18_reading_writing         540     564\n",
       "sat18_math                    536     553\n",
       "sat18_total                  1076    1117"
      ]
     },
     "execution_count": 136,
     "metadata": {},
     "output_type": "execute_result"
    }
   ],
   "source": [
    "act_sat1718[(act_sat1718[\"act17_participation%\"] <= 60) & (act_sat1718[\"act18_participation%\"] <= 60) & (act_sat1718[\"sat17_participation%\"] <= 60) & (act_sat1718[\"sat18_participation%\"] <= 60)].T\n",
    "\n"
   ]
  },
  {
   "cell_type": "markdown",
   "metadata": {},
   "source": [
    "Filtering by ACT & SAT 2017 and 2018 participation rates <= 65"
   ]
  },
  {
   "cell_type": "code",
   "execution_count": 137,
   "metadata": {
    "scrolled": true
   },
   "outputs": [
    {
     "data": {
      "text/html": [
       "<div>\n",
       "<style scoped>\n",
       "    .dataframe tbody tr th:only-of-type {\n",
       "        vertical-align: middle;\n",
       "    }\n",
       "\n",
       "    .dataframe tbody tr th {\n",
       "        vertical-align: top;\n",
       "    }\n",
       "\n",
       "    .dataframe thead th {\n",
       "        text-align: right;\n",
       "    }\n",
       "</style>\n",
       "<table border=\"1\" class=\"dataframe\">\n",
       "  <thead>\n",
       "    <tr style=\"text-align: right;\">\n",
       "      <th></th>\n",
       "      <th>1</th>\n",
       "      <th>4</th>\n",
       "      <th>14</th>\n",
       "      <th>37</th>\n",
       "      <th>45</th>\n",
       "    </tr>\n",
       "  </thead>\n",
       "  <tbody>\n",
       "    <tr>\n",
       "      <td>state</td>\n",
       "      <td>Alaska</td>\n",
       "      <td>California</td>\n",
       "      <td>Indiana</td>\n",
       "      <td>Oregon</td>\n",
       "      <td>Vermont</td>\n",
       "    </tr>\n",
       "    <tr>\n",
       "      <td>act17_participation%</td>\n",
       "      <td>65</td>\n",
       "      <td>31</td>\n",
       "      <td>35</td>\n",
       "      <td>40</td>\n",
       "      <td>29</td>\n",
       "    </tr>\n",
       "    <tr>\n",
       "      <td>act17_eng</td>\n",
       "      <td>18.7</td>\n",
       "      <td>22.5</td>\n",
       "      <td>22</td>\n",
       "      <td>21.2</td>\n",
       "      <td>23.3</td>\n",
       "    </tr>\n",
       "    <tr>\n",
       "      <td>act17_math</td>\n",
       "      <td>19.8</td>\n",
       "      <td>22.7</td>\n",
       "      <td>22.4</td>\n",
       "      <td>21.5</td>\n",
       "      <td>23.1</td>\n",
       "    </tr>\n",
       "    <tr>\n",
       "      <td>act17_reading</td>\n",
       "      <td>20.4</td>\n",
       "      <td>23.1</td>\n",
       "      <td>23.2</td>\n",
       "      <td>22.4</td>\n",
       "      <td>24.4</td>\n",
       "    </tr>\n",
       "    <tr>\n",
       "      <td>act17_sci</td>\n",
       "      <td>19.9</td>\n",
       "      <td>22.2</td>\n",
       "      <td>22.3</td>\n",
       "      <td>21.7</td>\n",
       "      <td>23.2</td>\n",
       "    </tr>\n",
       "    <tr>\n",
       "      <td>act17_composite</td>\n",
       "      <td>19.8</td>\n",
       "      <td>22.8</td>\n",
       "      <td>22.6</td>\n",
       "      <td>21.8</td>\n",
       "      <td>23.6</td>\n",
       "    </tr>\n",
       "    <tr>\n",
       "      <td>sat17_participation%</td>\n",
       "      <td>38</td>\n",
       "      <td>53</td>\n",
       "      <td>63</td>\n",
       "      <td>43</td>\n",
       "      <td>60</td>\n",
       "    </tr>\n",
       "    <tr>\n",
       "      <td>sat17_reading_writing</td>\n",
       "      <td>547</td>\n",
       "      <td>531</td>\n",
       "      <td>542</td>\n",
       "      <td>560</td>\n",
       "      <td>562</td>\n",
       "    </tr>\n",
       "    <tr>\n",
       "      <td>sat17_math</td>\n",
       "      <td>533</td>\n",
       "      <td>524</td>\n",
       "      <td>532</td>\n",
       "      <td>548</td>\n",
       "      <td>551</td>\n",
       "    </tr>\n",
       "    <tr>\n",
       "      <td>sat17_total</td>\n",
       "      <td>1080</td>\n",
       "      <td>1055</td>\n",
       "      <td>1074</td>\n",
       "      <td>1108</td>\n",
       "      <td>1114</td>\n",
       "    </tr>\n",
       "    <tr>\n",
       "      <td>act18_participation%</td>\n",
       "      <td>33</td>\n",
       "      <td>27</td>\n",
       "      <td>32</td>\n",
       "      <td>42</td>\n",
       "      <td>24</td>\n",
       "    </tr>\n",
       "    <tr>\n",
       "      <td>act18_composite</td>\n",
       "      <td>20.8</td>\n",
       "      <td>22.7</td>\n",
       "      <td>22.5</td>\n",
       "      <td>21.3</td>\n",
       "      <td>24.1</td>\n",
       "    </tr>\n",
       "    <tr>\n",
       "      <td>act18_eng</td>\n",
       "      <td>19.8</td>\n",
       "      <td>22.5</td>\n",
       "      <td>21.9</td>\n",
       "      <td>20.6</td>\n",
       "      <td>23.9</td>\n",
       "    </tr>\n",
       "    <tr>\n",
       "      <td>act18_math</td>\n",
       "      <td>20.6</td>\n",
       "      <td>22.5</td>\n",
       "      <td>22.3</td>\n",
       "      <td>20.9</td>\n",
       "      <td>23.4</td>\n",
       "    </tr>\n",
       "    <tr>\n",
       "      <td>act18_reading</td>\n",
       "      <td>21.6</td>\n",
       "      <td>23</td>\n",
       "      <td>23.1</td>\n",
       "      <td>21.9</td>\n",
       "      <td>24.9</td>\n",
       "    </tr>\n",
       "    <tr>\n",
       "      <td>act18_sci</td>\n",
       "      <td>20.7</td>\n",
       "      <td>22.1</td>\n",
       "      <td>22.2</td>\n",
       "      <td>21.1</td>\n",
       "      <td>23.8</td>\n",
       "    </tr>\n",
       "    <tr>\n",
       "      <td>sat18_participation%</td>\n",
       "      <td>43</td>\n",
       "      <td>60</td>\n",
       "      <td>63</td>\n",
       "      <td>48</td>\n",
       "      <td>64</td>\n",
       "    </tr>\n",
       "    <tr>\n",
       "      <td>sat18_reading_writing</td>\n",
       "      <td>562</td>\n",
       "      <td>540</td>\n",
       "      <td>542</td>\n",
       "      <td>564</td>\n",
       "      <td>565</td>\n",
       "    </tr>\n",
       "    <tr>\n",
       "      <td>sat18_math</td>\n",
       "      <td>544</td>\n",
       "      <td>536</td>\n",
       "      <td>532</td>\n",
       "      <td>553</td>\n",
       "      <td>554</td>\n",
       "    </tr>\n",
       "    <tr>\n",
       "      <td>sat18_total</td>\n",
       "      <td>1106</td>\n",
       "      <td>1076</td>\n",
       "      <td>1074</td>\n",
       "      <td>1117</td>\n",
       "      <td>1120</td>\n",
       "    </tr>\n",
       "  </tbody>\n",
       "</table>\n",
       "</div>"
      ],
      "text/plain": [
       "                           1           4        14      37       45\n",
       "state                  Alaska  California  Indiana  Oregon  Vermont\n",
       "act17_participation%       65          31       35      40       29\n",
       "act17_eng                18.7        22.5       22    21.2     23.3\n",
       "act17_math               19.8        22.7     22.4    21.5     23.1\n",
       "act17_reading            20.4        23.1     23.2    22.4     24.4\n",
       "act17_sci                19.9        22.2     22.3    21.7     23.2\n",
       "act17_composite          19.8        22.8     22.6    21.8     23.6\n",
       "sat17_participation%       38          53       63      43       60\n",
       "sat17_reading_writing     547         531      542     560      562\n",
       "sat17_math                533         524      532     548      551\n",
       "sat17_total              1080        1055     1074    1108     1114\n",
       "act18_participation%       33          27       32      42       24\n",
       "act18_composite          20.8        22.7     22.5    21.3     24.1\n",
       "act18_eng                19.8        22.5     21.9    20.6     23.9\n",
       "act18_math               20.6        22.5     22.3    20.9     23.4\n",
       "act18_reading            21.6          23     23.1    21.9     24.9\n",
       "act18_sci                20.7        22.1     22.2    21.1     23.8\n",
       "sat18_participation%       43          60       63      48       64\n",
       "sat18_reading_writing     562         540      542     564      565\n",
       "sat18_math                544         536      532     553      554\n",
       "sat18_total              1106        1076     1074    1117     1120"
      ]
     },
     "execution_count": 137,
     "metadata": {},
     "output_type": "execute_result"
    }
   ],
   "source": [
    "act_sat1718[(act_sat1718[\"act17_participation%\"] <= 65) & (act_sat1718[\"act18_participation%\"] <= 65) & (act_sat1718[\"sat17_participation%\"] <= 65) & (act_sat1718[\"sat18_participation%\"] <= 65)].T\n"
   ]
  },
  {
   "cell_type": "code",
   "execution_count": 138,
   "metadata": {},
   "outputs": [
    {
     "data": {
      "text/html": [
       "<div>\n",
       "<style scoped>\n",
       "    .dataframe tbody tr th:only-of-type {\n",
       "        vertical-align: middle;\n",
       "    }\n",
       "\n",
       "    .dataframe tbody tr th {\n",
       "        vertical-align: top;\n",
       "    }\n",
       "\n",
       "    .dataframe thead th {\n",
       "        text-align: right;\n",
       "    }\n",
       "</style>\n",
       "<table border=\"1\" class=\"dataframe\">\n",
       "  <thead>\n",
       "    <tr style=\"text-align: right;\">\n",
       "      <th></th>\n",
       "      <th>1</th>\n",
       "      <th>37</th>\n",
       "    </tr>\n",
       "  </thead>\n",
       "  <tbody>\n",
       "    <tr>\n",
       "      <td>state</td>\n",
       "      <td>Alaska</td>\n",
       "      <td>Oregon</td>\n",
       "    </tr>\n",
       "    <tr>\n",
       "      <td>act17_participation%</td>\n",
       "      <td>65</td>\n",
       "      <td>40</td>\n",
       "    </tr>\n",
       "    <tr>\n",
       "      <td>act17_eng</td>\n",
       "      <td>18.7</td>\n",
       "      <td>21.2</td>\n",
       "    </tr>\n",
       "    <tr>\n",
       "      <td>act17_math</td>\n",
       "      <td>19.8</td>\n",
       "      <td>21.5</td>\n",
       "    </tr>\n",
       "    <tr>\n",
       "      <td>act17_reading</td>\n",
       "      <td>20.4</td>\n",
       "      <td>22.4</td>\n",
       "    </tr>\n",
       "    <tr>\n",
       "      <td>act17_sci</td>\n",
       "      <td>19.9</td>\n",
       "      <td>21.7</td>\n",
       "    </tr>\n",
       "    <tr>\n",
       "      <td>act17_composite</td>\n",
       "      <td>19.8</td>\n",
       "      <td>21.8</td>\n",
       "    </tr>\n",
       "    <tr>\n",
       "      <td>sat17_participation%</td>\n",
       "      <td>38</td>\n",
       "      <td>43</td>\n",
       "    </tr>\n",
       "    <tr>\n",
       "      <td>sat17_reading_writing</td>\n",
       "      <td>547</td>\n",
       "      <td>560</td>\n",
       "    </tr>\n",
       "    <tr>\n",
       "      <td>sat17_math</td>\n",
       "      <td>533</td>\n",
       "      <td>548</td>\n",
       "    </tr>\n",
       "    <tr>\n",
       "      <td>sat17_total</td>\n",
       "      <td>1080</td>\n",
       "      <td>1108</td>\n",
       "    </tr>\n",
       "    <tr>\n",
       "      <td>act18_participation%</td>\n",
       "      <td>33</td>\n",
       "      <td>42</td>\n",
       "    </tr>\n",
       "    <tr>\n",
       "      <td>act18_composite</td>\n",
       "      <td>20.8</td>\n",
       "      <td>21.3</td>\n",
       "    </tr>\n",
       "    <tr>\n",
       "      <td>act18_eng</td>\n",
       "      <td>19.8</td>\n",
       "      <td>20.6</td>\n",
       "    </tr>\n",
       "    <tr>\n",
       "      <td>act18_math</td>\n",
       "      <td>20.6</td>\n",
       "      <td>20.9</td>\n",
       "    </tr>\n",
       "    <tr>\n",
       "      <td>act18_reading</td>\n",
       "      <td>21.6</td>\n",
       "      <td>21.9</td>\n",
       "    </tr>\n",
       "    <tr>\n",
       "      <td>act18_sci</td>\n",
       "      <td>20.7</td>\n",
       "      <td>21.1</td>\n",
       "    </tr>\n",
       "    <tr>\n",
       "      <td>sat18_participation%</td>\n",
       "      <td>43</td>\n",
       "      <td>48</td>\n",
       "    </tr>\n",
       "    <tr>\n",
       "      <td>sat18_reading_writing</td>\n",
       "      <td>562</td>\n",
       "      <td>564</td>\n",
       "    </tr>\n",
       "    <tr>\n",
       "      <td>sat18_math</td>\n",
       "      <td>544</td>\n",
       "      <td>553</td>\n",
       "    </tr>\n",
       "    <tr>\n",
       "      <td>sat18_total</td>\n",
       "      <td>1106</td>\n",
       "      <td>1117</td>\n",
       "    </tr>\n",
       "  </tbody>\n",
       "</table>\n",
       "</div>"
      ],
      "text/plain": [
       "                           1       37\n",
       "state                  Alaska  Oregon\n",
       "act17_participation%       65      40\n",
       "act17_eng                18.7    21.2\n",
       "act17_math               19.8    21.5\n",
       "act17_reading            20.4    22.4\n",
       "act17_sci                19.9    21.7\n",
       "act17_composite          19.8    21.8\n",
       "sat17_participation%       38      43\n",
       "sat17_reading_writing     547     560\n",
       "sat17_math                533     548\n",
       "sat17_total              1080    1108\n",
       "act18_participation%       33      42\n",
       "act18_composite          20.8    21.3\n",
       "act18_eng                19.8    20.6\n",
       "act18_math               20.6    20.9\n",
       "act18_reading            21.6    21.9\n",
       "act18_sci                20.7    21.1\n",
       "sat18_participation%       43      48\n",
       "sat18_reading_writing     562     564\n",
       "sat18_math                544     553\n",
       "sat18_total              1106    1117"
      ]
     },
     "execution_count": 138,
     "metadata": {},
     "output_type": "execute_result"
    }
   ],
   "source": [
    "act_sat1718[(act_sat1718[\"act17_participation%\"] <= 65) & (act_sat1718[\"act18_participation%\"] <= 65) & (act_sat1718[\"sat17_participation%\"] <= 50) & (act_sat1718[\"sat18_participation%\"] <= 50)].T\n"
   ]
  },
  {
   "cell_type": "markdown",
   "metadata": {},
   "source": [
    "Alaska and Oregon would be my primary candidates for sponsorship. \n",
    "\n",
    "Primary funnels:\n",
    "1) Exclude all states with high SAT participation rates  \n",
    "Reason: self explanatory as states with already high SAT rates will probably yield only marginal returns with incremental sponsorship \n",
    "\n",
    "2) Exclude all states with high ACT participation rates \n",
    "Reason: Since you would only need to do either the SAT or the ACT to gain admission to college, there is no need to push for higher participation rates in states where ACT participation rates are already high - this also makes sense from a business perspective as there is less competition to be had in states where both the SAT and ACT participation rates are low, all else being equal. (since students with limited resources and who are already taking the ACT need to be persuaded to either switch to the SAT or take both tests) \n",
    "Further justification is that states where ACT rates are high are usually a where ACT tests are state mandated it would thus not make commercial sense to compete in these states. \n",
    "\n",
    "Secondary funnels (deciding factor in event of tie):\n",
    "3) Amongst the remaining states, potentially exclude lower performing states (but this is up for discussion depending on stated objectives e.g. perhaps sponsors want to fund higher performing states) + check for improvement of test scores between 2017 and 2018 \n",
    "Reason: could select for states that have shown improvement in test scores from 2017 to 2018 as being indicative of being a high potential state. \n",
    "same could be said for states that have high scores but low participation \n",
    "however an alternative argument could be that states with low scores and low participation are the ones in need of the greatest need of extra support. \n",
    "\n",
    "4) check out eligible student populations \n",
    "Reason: student population size in shortlisted states - state with smaller student population could potentially yield higher increases in participation rates per dollar spent. sponsorship per student would also be higher which could result in higher overall test scores - bonus outcome. \n",
    "\n",
    "My final choice would be Alaska. Although both states have seen a similar increment in 5% of SAT % from 17 to 18, Alaska has the lower SAT participation % of the two. However, ACT rates are declining for Alaska whereas it is increasing for Oregon, possibly indicating that individuals are more open to switching from ACT to the SAT in Alaska compared to Oregon.\n",
    "\n"
   ]
  }
 ],
 "metadata": {
  "anaconda-cloud": {},
  "kernelspec": {
   "display_name": "Python 3",
   "language": "python",
   "name": "python3"
  },
  "language_info": {
   "codemirror_mode": {
    "name": "ipython",
    "version": 3
   },
   "file_extension": ".py",
   "mimetype": "text/x-python",
   "name": "python",
   "nbconvert_exporter": "python",
   "pygments_lexer": "ipython3",
   "version": "3.6.5"
  }
 },
 "nbformat": 4,
 "nbformat_minor": 2
}
